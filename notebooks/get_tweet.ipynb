{
 "cells": [
  {
   "cell_type": "code",
   "execution_count": 14,
   "metadata": {},
   "outputs": [],
   "source": [
    "import os\n",
    "import tweepy\n",
    "from tweepy.parsers import JSONParser\n",
    "import json\n",
    "import re \n",
    "from dotenv import load_dotenv, find_dotenv"
   ]
  },
  {
   "cell_type": "code",
   "execution_count": 15,
   "metadata": {},
   "outputs": [
    {
     "output_type": "execute_result",
     "data": {
      "text/plain": "True"
     },
     "metadata": {},
     "execution_count": 15
    }
   ],
   "source": [
    "dotenv_path = find_dotenv()\n",
    "load_dotenv(dotenv_path)"
   ]
  },
  {
   "cell_type": "code",
   "execution_count": 16,
   "metadata": {},
   "outputs": [],
   "source": [
    "# Load the authentication key-value pairs into individual variables\n",
    "access_token = os.environ.get(\"access_token\")\n",
    "access_token_secret = os.environ.get(\"access_token_secret\")\n",
    "consumer_key = os.environ.get(\"consumer_key\")\n",
    "consumer_secret = os.environ.get(\"consumer_secret\")"
   ]
  },
  {
   "cell_type": "code",
   "execution_count": 17,
   "metadata": {},
   "outputs": [],
   "source": [
    "# Pass OAuth details to tweepy's OAuth handler\n",
    "auth = tweepy.OAuthHandler(consumer_key, consumer_secret)\n",
    "auth.set_access_token(access_token, access_token_secret)\n",
    "api = tweepy.API(auth, parser=JSONParser())"
   ]
  },
  {
   "cell_type": "code",
   "execution_count": 18,
   "metadata": {},
   "outputs": [],
   "source": [
    "filepath = \"../data/raw/\"\n",
    "file_name = \"TSLA\"\n",
    "search_string = \"#TSLA\"\n",
    "language = \"en\"\n",
    "# Default last 7 days tweets will be saved\n",
    "#with open(filepath + file_name + \".json\", \"w\") as f:\n",
    "a_obj = api.search(q=search_string, maxResults=100)"
   ]
  },
  {
   "cell_type": "code",
   "execution_count": 19,
   "metadata": {},
   "outputs": [
    {
     "output_type": "execute_result",
     "data": {
      "text/plain": "dict"
     },
     "metadata": {},
     "execution_count": 19
    }
   ],
   "source": [
    "type(a_obj)"
   ]
  },
  {
   "cell_type": "code",
   "execution_count": 20,
   "metadata": {},
   "outputs": [],
   "source": [
    "json_str = json.dumps(a_obj)"
   ]
  },
  {
   "cell_type": "code",
   "execution_count": 22,
   "metadata": {},
   "outputs": [],
   "source": [
    "\n",
    "    from src.data.get_tweets import fetch_tweets\n",
    "\n",
    "    a = fetch_tweets(q=\"#MSFT\")"
   ]
  },
  {
   "cell_type": "code",
   "execution_count": null,
   "metadata": {},
   "outputs": [],
   "source": [
    "df = pd.DataFrame(columns=['text', 'source', 'url'])\n",
    "msgs = []\n",
    "msg =[]\n",
    "\n",
    "for tweet in tweepy.Cursor(api.search, q='#bmw', rpp=100).items(10):\n",
    "    msg = [tweet.text, tweet.source, tweet.source_url] \n",
    "    msg = tuple(msg)                    \n",
    "    msgs.append(msg)\n",
    "\n",
    "df = pd.DataFrame(msgs)"
   ]
  }
 ],
 "metadata": {
  "language_info": {
   "codemirror_mode": {
    "name": "ipython",
    "version": 3
   },
   "file_extension": ".py",
   "mimetype": "text/x-python",
   "name": "python",
   "nbconvert_exporter": "python",
   "pygments_lexer": "ipython3",
   "version": 3
  },
  "orig_nbformat": 2,
  "kernelspec": {
   "name": "python_defaultSpec_1610427235974",
   "display_name": "Python 3.7.7 64-bit ('Sentiment_Analysis': venv)"
  }
 },
 "nbformat": 4,
 "nbformat_minor": 2
}