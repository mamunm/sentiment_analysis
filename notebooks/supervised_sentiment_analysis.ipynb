{
 "metadata": {
  "language_info": {
   "codemirror_mode": {
    "name": "ipython",
    "version": 3
   },
   "file_extension": ".py",
   "mimetype": "text/x-python",
   "name": "python",
   "nbconvert_exporter": "python",
   "pygments_lexer": "ipython3",
   "version": "3.8.3-final"
  },
  "orig_nbformat": 2,
  "kernelspec": {
   "name": "python3",
   "display_name": "Python 3.8.3 64-bit ('springboard_capstone_two')",
   "metadata": {
    "interpreter": {
     "hash": "1474d2ceccc6981c1385943cdbe44b9985a06ccaa858e7fff270717edcc51f5d"
    }
   }
  }
 },
 "nbformat": 4,
 "nbformat_minor": 2,
 "cells": [
  {
   "cell_type": "code",
   "execution_count": 1,
   "metadata": {},
   "outputs": [],
   "source": [
    "import numpy as np \n",
    "import pandas as pd \n",
    "\n",
    "from sklearn.feature_extraction.text import CountVectorizer, TfidfVectorizer\n",
    "from sklearn.model_selection import train_test_split \n",
    "from sklearn.model_selection import KFold, train_test_split\n",
    "from sklearn.metrics import classification_report, roc_auc_score\n",
    "\n",
    "import matplotlib.pyplot as plt \n",
    "import matplotlib.cm as cm \n",
    "import seaborn as sns \n",
    "\n",
    "# Plotly \n",
    "import plotly.express as px \n",
    "import plotly.graph_objects as go \n",
    "\n",
    "from nltk.stem import WordNetLemmatizer\n",
    "from nltk.tokenize import TweetTokenizer, word_tokenize\n",
    "\n",
    "from collections import defaultdict\n",
    "\n",
    "from lazypredict.Supervised import LazyClassifier"
   ]
  },
  {
   "cell_type": "code",
   "execution_count": 2,
   "metadata": {},
   "outputs": [],
   "source": [
    "df = pd.read_csv('../data/processed/tanishq_data_clean_labelled.csv')\n",
    "df.drop(['Unnamed: 0', 'Unnamed: 0.1'], inplace=True, axis=1)"
   ]
  },
  {
   "cell_type": "code",
   "execution_count": 3,
   "metadata": {},
   "outputs": [],
   "source": [
    "lemmatizer = WordNetLemmatizer()\n",
    "tokenizer = TweetTokenizer()\n",
    "df['clean_tweet_token'] = df['clean_tweet_segmented'].apply(lemmatizer.lemmatize).apply(tokenizer.tokenize)\n",
    "df['clean_tweet_token'] = df['clean_tweet_token'].str.join(' ')"
   ]
  },
  {
   "cell_type": "code",
   "execution_count": 4,
   "metadata": {},
   "outputs": [],
   "source": [
    "df = df[['clean_tweet_token', 'sentiment']]\n",
    "df.dropna(inplace=True)\n",
    "df = df[df['sentiment'].isin([0.0, 4.0])]\n",
    "df['sentiment'] = df['sentiment'].replace({4.0: 1})"
   ]
  },
  {
   "cell_type": "code",
   "execution_count": 5,
   "metadata": {},
   "outputs": [],
   "source": [
    "count_vec = CountVectorizer()\n",
    "X_count_vec = count_vec.fit_transform(df['clean_tweet_token'])\n",
    "#print(count_vec.get_feature_names())"
   ]
  },
  {
   "cell_type": "code",
   "execution_count": 6,
   "metadata": {},
   "outputs": [],
   "source": [
    "tfidf_vec = TfidfVectorizer(ngram_range=(1, 3))\n",
    "X_tfidf_vec = tfidf_vec.fit_transform(df['clean_tweet_token'])"
   ]
  },
  {
   "source": [
    "'''\n",
    "kf = KFold(n_splits=3)\n",
    "y = df['sentiment'].values\n",
    "count_vec_models\n",
    "for train_id, test_id in kf.split(y):\n",
    "    clf = LazyClassifier(verbose=0,ignore_warnings=True, custom_metric=None)\n",
    "    models, predictions = clf.fit(X_, X_test, y_train, y_test)\n",
    "'''\n"
   ],
   "cell_type": "code",
   "metadata": {},
   "execution_count": 7,
   "outputs": [
    {
     "output_type": "execute_result",
     "data": {
      "text/plain": [
       "\"\\nkf = KFold(n_splits=3)\\ny = df['sentiment'].values\\ncount_vec_models\\nfor train_id, test_id in kf.split(y):\\n    clf = LazyClassifier(verbose=0,ignore_warnings=True, custom_metric=None)\\n    models, predictions = clf.fit(X_, X_test, y_train, y_test)\\n\""
      ]
     },
     "metadata": {},
     "execution_count": 7
    }
   ]
  },
  {
   "cell_type": "code",
   "execution_count": 8,
   "metadata": {},
   "outputs": [],
   "source": [
    "y = df['sentiment'].values\n",
    "X_train_cv, X_test_cv, y_train_cv, y_test_cv = train_test_split(X_count_vec.toarray(), y, test_size=0.25, random_state=27, stratify=y)\n",
    "X_train_tv, X_test_tv, y_train_tv, y_test_tv = train_test_split(X_tfidf_vec.toarray(), y, test_size=0.25, random_state=27, stratify=y)"
   ]
  },
  {
   "cell_type": "code",
   "execution_count": 9,
   "metadata": {},
   "outputs": [],
   "source": [
    "def custom_metric(A, B):\n",
    "    d = pd.DataFrame(classification_report(A, B, digits=2,\n",
    "                                        output_dict=True)).T\n",
    "    d = d.to_dict()\n",
    "    d['roc auc'] = roc_auc_score(A, B)\n",
    "    return d"
   ]
  },
  {
   "cell_type": "code",
   "execution_count": 10,
   "metadata": {},
   "outputs": [
    {
     "output_type": "stream",
     "name": "stderr",
     "text": [
      "100%|██████████| 30/30 [00:06<00:00,  4.72it/s]\n"
     ]
    }
   ],
   "source": [
    "clf_cv = LazyClassifier(verbose=0,ignore_warnings=True, custom_metric=custom_metric)\n",
    "models_cv, predictions_cv = clf_cv.fit(X_train_cv, X_test_cv, y_train_cv, y_test_cv)"
   ]
  },
  {
   "cell_type": "code",
   "execution_count": 11,
   "metadata": {},
   "outputs": [
    {
     "output_type": "execute_result",
     "data": {
      "text/plain": [
       "                               Accuracy  Balanced Accuracy  ROC AUC  F1 Score  \\\n",
       "Model                                                                           \n",
       "LinearDiscriminantAnalysis         0.68               0.74     0.74      0.77   \n",
       "AdaBoostClassifier                 0.96               0.69     0.69      0.95   \n",
       "Perceptron                         0.92               0.68     0.68      0.93   \n",
       "XGBClassifier                      0.96               0.60     0.60      0.94   \n",
       "LGBMClassifier                     0.95               0.59     0.59      0.93   \n",
       "DecisionTreeClassifier             0.95               0.59     0.59      0.93   \n",
       "LinearSVC                          0.92               0.58     0.58      0.92   \n",
       "PassiveAggressiveClassifier        0.90               0.57     0.57      0.91   \n",
       "GaussianNB                         0.90               0.57     0.57      0.91   \n",
       "QuadraticDiscriminantAnalysis      0.15               0.55     0.55      0.18   \n",
       "ExtraTreesClassifier               0.95               0.50     0.50      0.92   \n",
       "CheckingClassifier                 0.95               0.50     0.50      0.92   \n",
       "SVC                                0.95               0.50     0.50      0.92   \n",
       "SGDClassifier                      0.95               0.50     0.50      0.92   \n",
       "RidgeClassifierCV                  0.95               0.50     0.50      0.92   \n",
       "RidgeClassifier                    0.95               0.50     0.50      0.92   \n",
       "RandomForestClassifier             0.95               0.50     0.50      0.92   \n",
       "BernoulliNB                        0.95               0.50     0.50      0.92   \n",
       "NearestCentroid                    0.95               0.50     0.50      0.92   \n",
       "LogisticRegression                 0.95               0.50     0.50      0.92   \n",
       "CalibratedClassifierCV             0.95               0.50     0.50      0.92   \n",
       "BaggingClassifier                  0.95               0.50     0.50      0.92   \n",
       "LabelSpreading                     0.95               0.50     0.50      0.92   \n",
       "LabelPropagation                   0.95               0.50     0.50      0.92   \n",
       "KNeighborsClassifier               0.95               0.50     0.50      0.92   \n",
       "ExtraTreeClassifier                0.93               0.49     0.49      0.91   \n",
       "DummyClassifier                    0.90               0.48     0.48      0.90   \n",
       "\n",
       "                               Time Taken  Precision_0  Precision_1  Recall_0  \\\n",
       "Model                                                                           \n",
       "LinearDiscriminantAnalysis           0.13         0.98         0.12      0.68   \n",
       "AdaBoostClassifier                   0.28         0.97         0.67      0.99   \n",
       "Perceptron                           0.05         0.97         0.33      0.95   \n",
       "XGBClassifier                        0.26         0.96         1.00      1.00   \n",
       "LGBMClassifier                       0.16         0.96         0.50      0.99   \n",
       "DecisionTreeClassifier               0.05         0.96         0.50      0.99   \n",
       "LinearSVC                            0.80         0.95         0.25      0.97   \n",
       "PassiveAggressiveClassifier          0.07         0.95         0.17      0.94   \n",
       "GaussianNB                           0.05         0.95         0.17      0.94   \n",
       "QuadraticDiscriminantAnalysis        0.10         1.00         0.06      0.10   \n",
       "ExtraTreesClassifier                 0.17         0.95         0.00      1.00   \n",
       "CheckingClassifier                   0.04         0.95         0.00      1.00   \n",
       "SVC                                  0.20         0.95         0.00      1.00   \n",
       "SGDClassifier                        0.06         0.95         0.00      1.00   \n",
       "RidgeClassifierCV                    0.07         0.95         0.00      1.00   \n",
       "RidgeClassifier                      0.06         0.95         0.00      1.00   \n",
       "RandomForestClassifier               0.18         0.95         0.00      1.00   \n",
       "BernoulliNB                          0.05         0.95         0.00      1.00   \n",
       "NearestCentroid                      0.04         0.95         0.00      1.00   \n",
       "LogisticRegression                   0.06         0.95         0.00      1.00   \n",
       "CalibratedClassifierCV               2.88         0.95         0.00      1.00   \n",
       "BaggingClassifier                    0.11         0.95         0.00      1.00   \n",
       "LabelSpreading                       0.05         0.95         0.00      1.00   \n",
       "LabelPropagation                     0.04         0.95         0.00      1.00   \n",
       "KNeighborsClassifier                 0.11         0.95         0.00      1.00   \n",
       "ExtraTreeClassifier                  0.05         0.95         0.00      0.99   \n",
       "DummyClassifier                      0.05         0.94         0.00      0.95   \n",
       "\n",
       "                               Recall_1  F1_0  F1_1  ROC_AUC  \n",
       "Model                                                         \n",
       "LinearDiscriminantAnalysis         0.80  0.80  0.22     0.74  \n",
       "AdaBoostClassifier                 0.40  0.98  0.50     0.69  \n",
       "Perceptron                         0.40  0.96  0.36     0.68  \n",
       "XGBClassifier                      0.20  0.98  0.33     0.60  \n",
       "LGBMClassifier                     0.20  0.97  0.29     0.59  \n",
       "DecisionTreeClassifier             0.20  0.97  0.29     0.59  \n",
       "LinearSVC                          0.20  0.96  0.22     0.58  \n",
       "PassiveAggressiveClassifier        0.20  0.95  0.18     0.57  \n",
       "GaussianNB                         0.20  0.95  0.18     0.57  \n",
       "QuadraticDiscriminantAnalysis      1.00  0.19  0.11     0.55  \n",
       "ExtraTreesClassifier               0.00  0.97  0.00     0.50  \n",
       "CheckingClassifier                 0.00  0.97  0.00     0.50  \n",
       "SVC                                0.00  0.97  0.00     0.50  \n",
       "SGDClassifier                      0.00  0.97  0.00     0.50  \n",
       "RidgeClassifierCV                  0.00  0.97  0.00     0.50  \n",
       "RidgeClassifier                    0.00  0.97  0.00     0.50  \n",
       "RandomForestClassifier             0.00  0.97  0.00     0.50  \n",
       "BernoulliNB                        0.00  0.97  0.00     0.50  \n",
       "NearestCentroid                    0.00  0.97  0.00     0.50  \n",
       "LogisticRegression                 0.00  0.97  0.00     0.50  \n",
       "CalibratedClassifierCV             0.00  0.97  0.00     0.50  \n",
       "BaggingClassifier                  0.00  0.97  0.00     0.50  \n",
       "LabelSpreading                     0.00  0.97  0.00     0.50  \n",
       "LabelPropagation                   0.00  0.97  0.00     0.50  \n",
       "KNeighborsClassifier               0.00  0.97  0.00     0.50  \n",
       "ExtraTreeClassifier                0.00  0.97  0.00     0.49  \n",
       "DummyClassifier                    0.00  0.95  0.00     0.48  "
      ],
      "text/html": "<div>\n<style scoped>\n    .dataframe tbody tr th:only-of-type {\n        vertical-align: middle;\n    }\n\n    .dataframe tbody tr th {\n        vertical-align: top;\n    }\n\n    .dataframe thead th {\n        text-align: right;\n    }\n</style>\n<table border=\"1\" class=\"dataframe\">\n  <thead>\n    <tr style=\"text-align: right;\">\n      <th></th>\n      <th>Accuracy</th>\n      <th>Balanced Accuracy</th>\n      <th>ROC AUC</th>\n      <th>F1 Score</th>\n      <th>Time Taken</th>\n      <th>Precision_0</th>\n      <th>Precision_1</th>\n      <th>Recall_0</th>\n      <th>Recall_1</th>\n      <th>F1_0</th>\n      <th>F1_1</th>\n      <th>ROC_AUC</th>\n    </tr>\n    <tr>\n      <th>Model</th>\n      <th></th>\n      <th></th>\n      <th></th>\n      <th></th>\n      <th></th>\n      <th></th>\n      <th></th>\n      <th></th>\n      <th></th>\n      <th></th>\n      <th></th>\n      <th></th>\n    </tr>\n  </thead>\n  <tbody>\n    <tr>\n      <th>LinearDiscriminantAnalysis</th>\n      <td>0.68</td>\n      <td>0.74</td>\n      <td>0.74</td>\n      <td>0.77</td>\n      <td>0.13</td>\n      <td>0.98</td>\n      <td>0.12</td>\n      <td>0.68</td>\n      <td>0.80</td>\n      <td>0.80</td>\n      <td>0.22</td>\n      <td>0.74</td>\n    </tr>\n    <tr>\n      <th>AdaBoostClassifier</th>\n      <td>0.96</td>\n      <td>0.69</td>\n      <td>0.69</td>\n      <td>0.95</td>\n      <td>0.28</td>\n      <td>0.97</td>\n      <td>0.67</td>\n      <td>0.99</td>\n      <td>0.40</td>\n      <td>0.98</td>\n      <td>0.50</td>\n      <td>0.69</td>\n    </tr>\n    <tr>\n      <th>Perceptron</th>\n      <td>0.92</td>\n      <td>0.68</td>\n      <td>0.68</td>\n      <td>0.93</td>\n      <td>0.05</td>\n      <td>0.97</td>\n      <td>0.33</td>\n      <td>0.95</td>\n      <td>0.40</td>\n      <td>0.96</td>\n      <td>0.36</td>\n      <td>0.68</td>\n    </tr>\n    <tr>\n      <th>XGBClassifier</th>\n      <td>0.96</td>\n      <td>0.60</td>\n      <td>0.60</td>\n      <td>0.94</td>\n      <td>0.26</td>\n      <td>0.96</td>\n      <td>1.00</td>\n      <td>1.00</td>\n      <td>0.20</td>\n      <td>0.98</td>\n      <td>0.33</td>\n      <td>0.60</td>\n    </tr>\n    <tr>\n      <th>LGBMClassifier</th>\n      <td>0.95</td>\n      <td>0.59</td>\n      <td>0.59</td>\n      <td>0.93</td>\n      <td>0.16</td>\n      <td>0.96</td>\n      <td>0.50</td>\n      <td>0.99</td>\n      <td>0.20</td>\n      <td>0.97</td>\n      <td>0.29</td>\n      <td>0.59</td>\n    </tr>\n    <tr>\n      <th>DecisionTreeClassifier</th>\n      <td>0.95</td>\n      <td>0.59</td>\n      <td>0.59</td>\n      <td>0.93</td>\n      <td>0.05</td>\n      <td>0.96</td>\n      <td>0.50</td>\n      <td>0.99</td>\n      <td>0.20</td>\n      <td>0.97</td>\n      <td>0.29</td>\n      <td>0.59</td>\n    </tr>\n    <tr>\n      <th>LinearSVC</th>\n      <td>0.92</td>\n      <td>0.58</td>\n      <td>0.58</td>\n      <td>0.92</td>\n      <td>0.80</td>\n      <td>0.95</td>\n      <td>0.25</td>\n      <td>0.97</td>\n      <td>0.20</td>\n      <td>0.96</td>\n      <td>0.22</td>\n      <td>0.58</td>\n    </tr>\n    <tr>\n      <th>PassiveAggressiveClassifier</th>\n      <td>0.90</td>\n      <td>0.57</td>\n      <td>0.57</td>\n      <td>0.91</td>\n      <td>0.07</td>\n      <td>0.95</td>\n      <td>0.17</td>\n      <td>0.94</td>\n      <td>0.20</td>\n      <td>0.95</td>\n      <td>0.18</td>\n      <td>0.57</td>\n    </tr>\n    <tr>\n      <th>GaussianNB</th>\n      <td>0.90</td>\n      <td>0.57</td>\n      <td>0.57</td>\n      <td>0.91</td>\n      <td>0.05</td>\n      <td>0.95</td>\n      <td>0.17</td>\n      <td>0.94</td>\n      <td>0.20</td>\n      <td>0.95</td>\n      <td>0.18</td>\n      <td>0.57</td>\n    </tr>\n    <tr>\n      <th>QuadraticDiscriminantAnalysis</th>\n      <td>0.15</td>\n      <td>0.55</td>\n      <td>0.55</td>\n      <td>0.18</td>\n      <td>0.10</td>\n      <td>1.00</td>\n      <td>0.06</td>\n      <td>0.10</td>\n      <td>1.00</td>\n      <td>0.19</td>\n      <td>0.11</td>\n      <td>0.55</td>\n    </tr>\n    <tr>\n      <th>ExtraTreesClassifier</th>\n      <td>0.95</td>\n      <td>0.50</td>\n      <td>0.50</td>\n      <td>0.92</td>\n      <td>0.17</td>\n      <td>0.95</td>\n      <td>0.00</td>\n      <td>1.00</td>\n      <td>0.00</td>\n      <td>0.97</td>\n      <td>0.00</td>\n      <td>0.50</td>\n    </tr>\n    <tr>\n      <th>CheckingClassifier</th>\n      <td>0.95</td>\n      <td>0.50</td>\n      <td>0.50</td>\n      <td>0.92</td>\n      <td>0.04</td>\n      <td>0.95</td>\n      <td>0.00</td>\n      <td>1.00</td>\n      <td>0.00</td>\n      <td>0.97</td>\n      <td>0.00</td>\n      <td>0.50</td>\n    </tr>\n    <tr>\n      <th>SVC</th>\n      <td>0.95</td>\n      <td>0.50</td>\n      <td>0.50</td>\n      <td>0.92</td>\n      <td>0.20</td>\n      <td>0.95</td>\n      <td>0.00</td>\n      <td>1.00</td>\n      <td>0.00</td>\n      <td>0.97</td>\n      <td>0.00</td>\n      <td>0.50</td>\n    </tr>\n    <tr>\n      <th>SGDClassifier</th>\n      <td>0.95</td>\n      <td>0.50</td>\n      <td>0.50</td>\n      <td>0.92</td>\n      <td>0.06</td>\n      <td>0.95</td>\n      <td>0.00</td>\n      <td>1.00</td>\n      <td>0.00</td>\n      <td>0.97</td>\n      <td>0.00</td>\n      <td>0.50</td>\n    </tr>\n    <tr>\n      <th>RidgeClassifierCV</th>\n      <td>0.95</td>\n      <td>0.50</td>\n      <td>0.50</td>\n      <td>0.92</td>\n      <td>0.07</td>\n      <td>0.95</td>\n      <td>0.00</td>\n      <td>1.00</td>\n      <td>0.00</td>\n      <td>0.97</td>\n      <td>0.00</td>\n      <td>0.50</td>\n    </tr>\n    <tr>\n      <th>RidgeClassifier</th>\n      <td>0.95</td>\n      <td>0.50</td>\n      <td>0.50</td>\n      <td>0.92</td>\n      <td>0.06</td>\n      <td>0.95</td>\n      <td>0.00</td>\n      <td>1.00</td>\n      <td>0.00</td>\n      <td>0.97</td>\n      <td>0.00</td>\n      <td>0.50</td>\n    </tr>\n    <tr>\n      <th>RandomForestClassifier</th>\n      <td>0.95</td>\n      <td>0.50</td>\n      <td>0.50</td>\n      <td>0.92</td>\n      <td>0.18</td>\n      <td>0.95</td>\n      <td>0.00</td>\n      <td>1.00</td>\n      <td>0.00</td>\n      <td>0.97</td>\n      <td>0.00</td>\n      <td>0.50</td>\n    </tr>\n    <tr>\n      <th>BernoulliNB</th>\n      <td>0.95</td>\n      <td>0.50</td>\n      <td>0.50</td>\n      <td>0.92</td>\n      <td>0.05</td>\n      <td>0.95</td>\n      <td>0.00</td>\n      <td>1.00</td>\n      <td>0.00</td>\n      <td>0.97</td>\n      <td>0.00</td>\n      <td>0.50</td>\n    </tr>\n    <tr>\n      <th>NearestCentroid</th>\n      <td>0.95</td>\n      <td>0.50</td>\n      <td>0.50</td>\n      <td>0.92</td>\n      <td>0.04</td>\n      <td>0.95</td>\n      <td>0.00</td>\n      <td>1.00</td>\n      <td>0.00</td>\n      <td>0.97</td>\n      <td>0.00</td>\n      <td>0.50</td>\n    </tr>\n    <tr>\n      <th>LogisticRegression</th>\n      <td>0.95</td>\n      <td>0.50</td>\n      <td>0.50</td>\n      <td>0.92</td>\n      <td>0.06</td>\n      <td>0.95</td>\n      <td>0.00</td>\n      <td>1.00</td>\n      <td>0.00</td>\n      <td>0.97</td>\n      <td>0.00</td>\n      <td>0.50</td>\n    </tr>\n    <tr>\n      <th>CalibratedClassifierCV</th>\n      <td>0.95</td>\n      <td>0.50</td>\n      <td>0.50</td>\n      <td>0.92</td>\n      <td>2.88</td>\n      <td>0.95</td>\n      <td>0.00</td>\n      <td>1.00</td>\n      <td>0.00</td>\n      <td>0.97</td>\n      <td>0.00</td>\n      <td>0.50</td>\n    </tr>\n    <tr>\n      <th>BaggingClassifier</th>\n      <td>0.95</td>\n      <td>0.50</td>\n      <td>0.50</td>\n      <td>0.92</td>\n      <td>0.11</td>\n      <td>0.95</td>\n      <td>0.00</td>\n      <td>1.00</td>\n      <td>0.00</td>\n      <td>0.97</td>\n      <td>0.00</td>\n      <td>0.50</td>\n    </tr>\n    <tr>\n      <th>LabelSpreading</th>\n      <td>0.95</td>\n      <td>0.50</td>\n      <td>0.50</td>\n      <td>0.92</td>\n      <td>0.05</td>\n      <td>0.95</td>\n      <td>0.00</td>\n      <td>1.00</td>\n      <td>0.00</td>\n      <td>0.97</td>\n      <td>0.00</td>\n      <td>0.50</td>\n    </tr>\n    <tr>\n      <th>LabelPropagation</th>\n      <td>0.95</td>\n      <td>0.50</td>\n      <td>0.50</td>\n      <td>0.92</td>\n      <td>0.04</td>\n      <td>0.95</td>\n      <td>0.00</td>\n      <td>1.00</td>\n      <td>0.00</td>\n      <td>0.97</td>\n      <td>0.00</td>\n      <td>0.50</td>\n    </tr>\n    <tr>\n      <th>KNeighborsClassifier</th>\n      <td>0.95</td>\n      <td>0.50</td>\n      <td>0.50</td>\n      <td>0.92</td>\n      <td>0.11</td>\n      <td>0.95</td>\n      <td>0.00</td>\n      <td>1.00</td>\n      <td>0.00</td>\n      <td>0.97</td>\n      <td>0.00</td>\n      <td>0.50</td>\n    </tr>\n    <tr>\n      <th>ExtraTreeClassifier</th>\n      <td>0.93</td>\n      <td>0.49</td>\n      <td>0.49</td>\n      <td>0.91</td>\n      <td>0.05</td>\n      <td>0.95</td>\n      <td>0.00</td>\n      <td>0.99</td>\n      <td>0.00</td>\n      <td>0.97</td>\n      <td>0.00</td>\n      <td>0.49</td>\n    </tr>\n    <tr>\n      <th>DummyClassifier</th>\n      <td>0.90</td>\n      <td>0.48</td>\n      <td>0.48</td>\n      <td>0.90</td>\n      <td>0.05</td>\n      <td>0.94</td>\n      <td>0.00</td>\n      <td>0.95</td>\n      <td>0.00</td>\n      <td>0.95</td>\n      <td>0.00</td>\n      <td>0.48</td>\n    </tr>\n  </tbody>\n</table>\n</div>"
     },
     "metadata": {},
     "execution_count": 11
    }
   ],
   "source": [
    "models_cv['Precision_0'] = models_cv['custom_metric'].apply(lambda x: x['precision']['0.0'])\n",
    "models_cv['Precision_1'] = models_cv['custom_metric'].apply(lambda x: x['precision']['1.0'])\n",
    "models_cv['Recall_0'] = models_cv['custom_metric'].apply(lambda x: x['recall']['0.0'])\n",
    "models_cv['Recall_1'] = models_cv['custom_metric'].apply(lambda x: x['recall']['1.0'])\n",
    "models_cv['F1_0'] = models_cv['custom_metric'].apply(lambda x: x['f1-score']['0.0'])\n",
    "models_cv['F1_1'] = models_cv['custom_metric'].apply(lambda x: x['f1-score']['1.0'])\n",
    "models_cv['ROC_AUC'] = models_cv['custom_metric'].apply(lambda x: x['roc auc'])\n",
    "models_cv.drop('custom_metric', axis=1, inplace=True)\n",
    "models_cv"
   ]
  },
  {
   "cell_type": "code",
   "execution_count": 12,
   "metadata": {},
   "outputs": [
    {
     "output_type": "stream",
     "name": "stderr",
     "text": [
      "100%|██████████| 30/30 [01:00<00:00,  2.00s/it]\n"
     ]
    }
   ],
   "source": [
    "clf_tv = LazyClassifier(verbose=0,ignore_warnings=True, custom_metric=custom_metric)\n",
    "models_tv, predictions_tv = clf_tv.fit(X_train_tv, X_test_tv, y_train_tv, y_test_tv)"
   ]
  },
  {
   "cell_type": "code",
   "execution_count": 13,
   "metadata": {},
   "outputs": [
    {
     "output_type": "execute_result",
     "data": {
      "text/plain": [
       "                               Accuracy  Balanced Accuracy  ROC AUC  F1 Score  \\\n",
       "Model                                                                           \n",
       "AdaBoostClassifier                 0.98               0.89     0.89      0.98   \n",
       "PassiveAggressiveClassifier        0.92               0.77     0.77      0.93   \n",
       "Perceptron                         0.89               0.75     0.75      0.91   \n",
       "LinearDiscriminantAnalysis         0.49               0.73     0.73      0.61   \n",
       "DecisionTreeClassifier             0.96               0.69     0.69      0.95   \n",
       "SGDClassifier                      0.93               0.68     0.68      0.93   \n",
       "LinearSVC                          0.92               0.68     0.68      0.93   \n",
       "LGBMClassifier                     0.95               0.59     0.59      0.93   \n",
       "XGBClassifier                      0.95               0.59     0.59      0.93   \n",
       "GaussianNB                         0.92               0.58     0.58      0.92   \n",
       "QuadraticDiscriminantAnalysis      0.13               0.54     0.54      0.15   \n",
       "CalibratedClassifierCV             0.95               0.50     0.50      0.92   \n",
       "SVC                                0.95               0.50     0.50      0.92   \n",
       "RidgeClassifierCV                  0.95               0.50     0.50      0.92   \n",
       "RidgeClassifier                    0.95               0.50     0.50      0.92   \n",
       "RandomForestClassifier             0.95               0.50     0.50      0.92   \n",
       "BernoulliNB                        0.95               0.50     0.50      0.92   \n",
       "CheckingClassifier                 0.95               0.50     0.50      0.92   \n",
       "NearestCentroid                    0.95               0.50     0.50      0.92   \n",
       "BaggingClassifier                  0.95               0.50     0.50      0.92   \n",
       "LabelSpreading                     0.95               0.50     0.50      0.92   \n",
       "LabelPropagation                   0.95               0.50     0.50      0.92   \n",
       "KNeighborsClassifier               0.95               0.50     0.50      0.92   \n",
       "ExtraTreesClassifier               0.95               0.50     0.50      0.92   \n",
       "LogisticRegression                 0.95               0.50     0.50      0.92   \n",
       "ExtraTreeClassifier                0.93               0.49     0.49      0.91   \n",
       "DummyClassifier                    0.90               0.48     0.48      0.90   \n",
       "\n",
       "                               Time Taken  Precision_0  Precision_1  Recall_0  \\\n",
       "Model                                                                           \n",
       "AdaBoostClassifier                   3.31         0.99         0.80      0.99   \n",
       "PassiveAggressiveClassifier          0.85         0.98         0.38      0.94   \n",
       "Perceptron                           0.43         0.98         0.27      0.91   \n",
       "LinearDiscriminantAnalysis           1.32         1.00         0.10      0.46   \n",
       "DecisionTreeClassifier               0.53         0.97         0.67      0.99   \n",
       "SGDClassifier                        0.45         0.97         0.40      0.97   \n",
       "LinearSVC                            7.70         0.97         0.33      0.95   \n",
       "LGBMClassifier                       0.67         0.96         0.50      0.99   \n",
       "XGBClassifier                        2.05         0.96         0.50      0.99   \n",
       "GaussianNB                           0.45         0.95         0.25      0.97   \n",
       "QuadraticDiscriminantAnalysis        0.94         1.00         0.06      0.08   \n",
       "CalibratedClassifierCV              30.15         0.95         0.00      1.00   \n",
       "SVC                                  2.10         0.95         0.00      1.00   \n",
       "RidgeClassifierCV                    0.49         0.95         0.00      1.00   \n",
       "RidgeClassifier                      0.47         0.95         0.00      1.00   \n",
       "RandomForestClassifier               0.68         0.95         0.00      1.00   \n",
       "BernoulliNB                          0.46         0.95         0.00      1.00   \n",
       "CheckingClassifier                   0.37         0.95         0.00      1.00   \n",
       "NearestCentroid                      0.41         0.95         0.00      1.00   \n",
       "BaggingClassifier                    1.04         0.95         0.00      1.00   \n",
       "LabelSpreading                       0.44         0.95         0.00      1.00   \n",
       "LabelPropagation                     0.47         0.95         0.00      1.00   \n",
       "KNeighborsClassifier                 1.12         0.95         0.00      1.00   \n",
       "ExtraTreesClassifier                 0.90         0.95         0.00      1.00   \n",
       "LogisticRegression                   0.72         0.95         0.00      1.00   \n",
       "ExtraTreeClassifier                  0.41         0.95         0.00      0.99   \n",
       "DummyClassifier                      0.39         0.94         0.00      0.95   \n",
       "\n",
       "                               Recall_1  F1_0  F1_1  ROC_AUC  \n",
       "Model                                                         \n",
       "AdaBoostClassifier                 0.80  0.99  0.80     0.89  \n",
       "PassiveAggressiveClassifier        0.60  0.96  0.46     0.77  \n",
       "Perceptron                         0.60  0.94  0.37     0.75  \n",
       "LinearDiscriminantAnalysis         1.00  0.63  0.18     0.73  \n",
       "DecisionTreeClassifier             0.40  0.98  0.50     0.69  \n",
       "SGDClassifier                      0.40  0.97  0.40     0.68  \n",
       "LinearSVC                          0.40  0.96  0.36     0.68  \n",
       "LGBMClassifier                     0.20  0.97  0.29     0.59  \n",
       "XGBClassifier                      0.20  0.97  0.29     0.59  \n",
       "GaussianNB                         0.20  0.96  0.22     0.58  \n",
       "QuadraticDiscriminantAnalysis      1.00  0.15  0.11     0.54  \n",
       "CalibratedClassifierCV             0.00  0.97  0.00     0.50  \n",
       "SVC                                0.00  0.97  0.00     0.50  \n",
       "RidgeClassifierCV                  0.00  0.97  0.00     0.50  \n",
       "RidgeClassifier                    0.00  0.97  0.00     0.50  \n",
       "RandomForestClassifier             0.00  0.97  0.00     0.50  \n",
       "BernoulliNB                        0.00  0.97  0.00     0.50  \n",
       "CheckingClassifier                 0.00  0.97  0.00     0.50  \n",
       "NearestCentroid                    0.00  0.97  0.00     0.50  \n",
       "BaggingClassifier                  0.00  0.97  0.00     0.50  \n",
       "LabelSpreading                     0.00  0.97  0.00     0.50  \n",
       "LabelPropagation                   0.00  0.97  0.00     0.50  \n",
       "KNeighborsClassifier               0.00  0.97  0.00     0.50  \n",
       "ExtraTreesClassifier               0.00  0.97  0.00     0.50  \n",
       "LogisticRegression                 0.00  0.97  0.00     0.50  \n",
       "ExtraTreeClassifier                0.00  0.97  0.00     0.49  \n",
       "DummyClassifier                    0.00  0.95  0.00     0.48  "
      ],
      "text/html": "<div>\n<style scoped>\n    .dataframe tbody tr th:only-of-type {\n        vertical-align: middle;\n    }\n\n    .dataframe tbody tr th {\n        vertical-align: top;\n    }\n\n    .dataframe thead th {\n        text-align: right;\n    }\n</style>\n<table border=\"1\" class=\"dataframe\">\n  <thead>\n    <tr style=\"text-align: right;\">\n      <th></th>\n      <th>Accuracy</th>\n      <th>Balanced Accuracy</th>\n      <th>ROC AUC</th>\n      <th>F1 Score</th>\n      <th>Time Taken</th>\n      <th>Precision_0</th>\n      <th>Precision_1</th>\n      <th>Recall_0</th>\n      <th>Recall_1</th>\n      <th>F1_0</th>\n      <th>F1_1</th>\n      <th>ROC_AUC</th>\n    </tr>\n    <tr>\n      <th>Model</th>\n      <th></th>\n      <th></th>\n      <th></th>\n      <th></th>\n      <th></th>\n      <th></th>\n      <th></th>\n      <th></th>\n      <th></th>\n      <th></th>\n      <th></th>\n      <th></th>\n    </tr>\n  </thead>\n  <tbody>\n    <tr>\n      <th>AdaBoostClassifier</th>\n      <td>0.98</td>\n      <td>0.89</td>\n      <td>0.89</td>\n      <td>0.98</td>\n      <td>3.31</td>\n      <td>0.99</td>\n      <td>0.80</td>\n      <td>0.99</td>\n      <td>0.80</td>\n      <td>0.99</td>\n      <td>0.80</td>\n      <td>0.89</td>\n    </tr>\n    <tr>\n      <th>PassiveAggressiveClassifier</th>\n      <td>0.92</td>\n      <td>0.77</td>\n      <td>0.77</td>\n      <td>0.93</td>\n      <td>0.85</td>\n      <td>0.98</td>\n      <td>0.38</td>\n      <td>0.94</td>\n      <td>0.60</td>\n      <td>0.96</td>\n      <td>0.46</td>\n      <td>0.77</td>\n    </tr>\n    <tr>\n      <th>Perceptron</th>\n      <td>0.89</td>\n      <td>0.75</td>\n      <td>0.75</td>\n      <td>0.91</td>\n      <td>0.43</td>\n      <td>0.98</td>\n      <td>0.27</td>\n      <td>0.91</td>\n      <td>0.60</td>\n      <td>0.94</td>\n      <td>0.37</td>\n      <td>0.75</td>\n    </tr>\n    <tr>\n      <th>LinearDiscriminantAnalysis</th>\n      <td>0.49</td>\n      <td>0.73</td>\n      <td>0.73</td>\n      <td>0.61</td>\n      <td>1.32</td>\n      <td>1.00</td>\n      <td>0.10</td>\n      <td>0.46</td>\n      <td>1.00</td>\n      <td>0.63</td>\n      <td>0.18</td>\n      <td>0.73</td>\n    </tr>\n    <tr>\n      <th>DecisionTreeClassifier</th>\n      <td>0.96</td>\n      <td>0.69</td>\n      <td>0.69</td>\n      <td>0.95</td>\n      <td>0.53</td>\n      <td>0.97</td>\n      <td>0.67</td>\n      <td>0.99</td>\n      <td>0.40</td>\n      <td>0.98</td>\n      <td>0.50</td>\n      <td>0.69</td>\n    </tr>\n    <tr>\n      <th>SGDClassifier</th>\n      <td>0.93</td>\n      <td>0.68</td>\n      <td>0.68</td>\n      <td>0.93</td>\n      <td>0.45</td>\n      <td>0.97</td>\n      <td>0.40</td>\n      <td>0.97</td>\n      <td>0.40</td>\n      <td>0.97</td>\n      <td>0.40</td>\n      <td>0.68</td>\n    </tr>\n    <tr>\n      <th>LinearSVC</th>\n      <td>0.92</td>\n      <td>0.68</td>\n      <td>0.68</td>\n      <td>0.93</td>\n      <td>7.70</td>\n      <td>0.97</td>\n      <td>0.33</td>\n      <td>0.95</td>\n      <td>0.40</td>\n      <td>0.96</td>\n      <td>0.36</td>\n      <td>0.68</td>\n    </tr>\n    <tr>\n      <th>LGBMClassifier</th>\n      <td>0.95</td>\n      <td>0.59</td>\n      <td>0.59</td>\n      <td>0.93</td>\n      <td>0.67</td>\n      <td>0.96</td>\n      <td>0.50</td>\n      <td>0.99</td>\n      <td>0.20</td>\n      <td>0.97</td>\n      <td>0.29</td>\n      <td>0.59</td>\n    </tr>\n    <tr>\n      <th>XGBClassifier</th>\n      <td>0.95</td>\n      <td>0.59</td>\n      <td>0.59</td>\n      <td>0.93</td>\n      <td>2.05</td>\n      <td>0.96</td>\n      <td>0.50</td>\n      <td>0.99</td>\n      <td>0.20</td>\n      <td>0.97</td>\n      <td>0.29</td>\n      <td>0.59</td>\n    </tr>\n    <tr>\n      <th>GaussianNB</th>\n      <td>0.92</td>\n      <td>0.58</td>\n      <td>0.58</td>\n      <td>0.92</td>\n      <td>0.45</td>\n      <td>0.95</td>\n      <td>0.25</td>\n      <td>0.97</td>\n      <td>0.20</td>\n      <td>0.96</td>\n      <td>0.22</td>\n      <td>0.58</td>\n    </tr>\n    <tr>\n      <th>QuadraticDiscriminantAnalysis</th>\n      <td>0.13</td>\n      <td>0.54</td>\n      <td>0.54</td>\n      <td>0.15</td>\n      <td>0.94</td>\n      <td>1.00</td>\n      <td>0.06</td>\n      <td>0.08</td>\n      <td>1.00</td>\n      <td>0.15</td>\n      <td>0.11</td>\n      <td>0.54</td>\n    </tr>\n    <tr>\n      <th>CalibratedClassifierCV</th>\n      <td>0.95</td>\n      <td>0.50</td>\n      <td>0.50</td>\n      <td>0.92</td>\n      <td>30.15</td>\n      <td>0.95</td>\n      <td>0.00</td>\n      <td>1.00</td>\n      <td>0.00</td>\n      <td>0.97</td>\n      <td>0.00</td>\n      <td>0.50</td>\n    </tr>\n    <tr>\n      <th>SVC</th>\n      <td>0.95</td>\n      <td>0.50</td>\n      <td>0.50</td>\n      <td>0.92</td>\n      <td>2.10</td>\n      <td>0.95</td>\n      <td>0.00</td>\n      <td>1.00</td>\n      <td>0.00</td>\n      <td>0.97</td>\n      <td>0.00</td>\n      <td>0.50</td>\n    </tr>\n    <tr>\n      <th>RidgeClassifierCV</th>\n      <td>0.95</td>\n      <td>0.50</td>\n      <td>0.50</td>\n      <td>0.92</td>\n      <td>0.49</td>\n      <td>0.95</td>\n      <td>0.00</td>\n      <td>1.00</td>\n      <td>0.00</td>\n      <td>0.97</td>\n      <td>0.00</td>\n      <td>0.50</td>\n    </tr>\n    <tr>\n      <th>RidgeClassifier</th>\n      <td>0.95</td>\n      <td>0.50</td>\n      <td>0.50</td>\n      <td>0.92</td>\n      <td>0.47</td>\n      <td>0.95</td>\n      <td>0.00</td>\n      <td>1.00</td>\n      <td>0.00</td>\n      <td>0.97</td>\n      <td>0.00</td>\n      <td>0.50</td>\n    </tr>\n    <tr>\n      <th>RandomForestClassifier</th>\n      <td>0.95</td>\n      <td>0.50</td>\n      <td>0.50</td>\n      <td>0.92</td>\n      <td>0.68</td>\n      <td>0.95</td>\n      <td>0.00</td>\n      <td>1.00</td>\n      <td>0.00</td>\n      <td>0.97</td>\n      <td>0.00</td>\n      <td>0.50</td>\n    </tr>\n    <tr>\n      <th>BernoulliNB</th>\n      <td>0.95</td>\n      <td>0.50</td>\n      <td>0.50</td>\n      <td>0.92</td>\n      <td>0.46</td>\n      <td>0.95</td>\n      <td>0.00</td>\n      <td>1.00</td>\n      <td>0.00</td>\n      <td>0.97</td>\n      <td>0.00</td>\n      <td>0.50</td>\n    </tr>\n    <tr>\n      <th>CheckingClassifier</th>\n      <td>0.95</td>\n      <td>0.50</td>\n      <td>0.50</td>\n      <td>0.92</td>\n      <td>0.37</td>\n      <td>0.95</td>\n      <td>0.00</td>\n      <td>1.00</td>\n      <td>0.00</td>\n      <td>0.97</td>\n      <td>0.00</td>\n      <td>0.50</td>\n    </tr>\n    <tr>\n      <th>NearestCentroid</th>\n      <td>0.95</td>\n      <td>0.50</td>\n      <td>0.50</td>\n      <td>0.92</td>\n      <td>0.41</td>\n      <td>0.95</td>\n      <td>0.00</td>\n      <td>1.00</td>\n      <td>0.00</td>\n      <td>0.97</td>\n      <td>0.00</td>\n      <td>0.50</td>\n    </tr>\n    <tr>\n      <th>BaggingClassifier</th>\n      <td>0.95</td>\n      <td>0.50</td>\n      <td>0.50</td>\n      <td>0.92</td>\n      <td>1.04</td>\n      <td>0.95</td>\n      <td>0.00</td>\n      <td>1.00</td>\n      <td>0.00</td>\n      <td>0.97</td>\n      <td>0.00</td>\n      <td>0.50</td>\n    </tr>\n    <tr>\n      <th>LabelSpreading</th>\n      <td>0.95</td>\n      <td>0.50</td>\n      <td>0.50</td>\n      <td>0.92</td>\n      <td>0.44</td>\n      <td>0.95</td>\n      <td>0.00</td>\n      <td>1.00</td>\n      <td>0.00</td>\n      <td>0.97</td>\n      <td>0.00</td>\n      <td>0.50</td>\n    </tr>\n    <tr>\n      <th>LabelPropagation</th>\n      <td>0.95</td>\n      <td>0.50</td>\n      <td>0.50</td>\n      <td>0.92</td>\n      <td>0.47</td>\n      <td>0.95</td>\n      <td>0.00</td>\n      <td>1.00</td>\n      <td>0.00</td>\n      <td>0.97</td>\n      <td>0.00</td>\n      <td>0.50</td>\n    </tr>\n    <tr>\n      <th>KNeighborsClassifier</th>\n      <td>0.95</td>\n      <td>0.50</td>\n      <td>0.50</td>\n      <td>0.92</td>\n      <td>1.12</td>\n      <td>0.95</td>\n      <td>0.00</td>\n      <td>1.00</td>\n      <td>0.00</td>\n      <td>0.97</td>\n      <td>0.00</td>\n      <td>0.50</td>\n    </tr>\n    <tr>\n      <th>ExtraTreesClassifier</th>\n      <td>0.95</td>\n      <td>0.50</td>\n      <td>0.50</td>\n      <td>0.92</td>\n      <td>0.90</td>\n      <td>0.95</td>\n      <td>0.00</td>\n      <td>1.00</td>\n      <td>0.00</td>\n      <td>0.97</td>\n      <td>0.00</td>\n      <td>0.50</td>\n    </tr>\n    <tr>\n      <th>LogisticRegression</th>\n      <td>0.95</td>\n      <td>0.50</td>\n      <td>0.50</td>\n      <td>0.92</td>\n      <td>0.72</td>\n      <td>0.95</td>\n      <td>0.00</td>\n      <td>1.00</td>\n      <td>0.00</td>\n      <td>0.97</td>\n      <td>0.00</td>\n      <td>0.50</td>\n    </tr>\n    <tr>\n      <th>ExtraTreeClassifier</th>\n      <td>0.93</td>\n      <td>0.49</td>\n      <td>0.49</td>\n      <td>0.91</td>\n      <td>0.41</td>\n      <td>0.95</td>\n      <td>0.00</td>\n      <td>0.99</td>\n      <td>0.00</td>\n      <td>0.97</td>\n      <td>0.00</td>\n      <td>0.49</td>\n    </tr>\n    <tr>\n      <th>DummyClassifier</th>\n      <td>0.90</td>\n      <td>0.48</td>\n      <td>0.48</td>\n      <td>0.90</td>\n      <td>0.39</td>\n      <td>0.94</td>\n      <td>0.00</td>\n      <td>0.95</td>\n      <td>0.00</td>\n      <td>0.95</td>\n      <td>0.00</td>\n      <td>0.48</td>\n    </tr>\n  </tbody>\n</table>\n</div>"
     },
     "metadata": {},
     "execution_count": 13
    }
   ],
   "source": [
    "models_tv['Precision_0'] = models_tv['custom_metric'].apply(lambda x: x['precision']['0.0'])\n",
    "models_tv['Precision_1'] = models_tv['custom_metric'].apply(lambda x: x['precision']['1.0'])\n",
    "models_tv['Recall_0'] = models_tv['custom_metric'].apply(lambda x: x['recall']['0.0'])\n",
    "models_tv['Recall_1'] = models_tv['custom_metric'].apply(lambda x: x['recall']['1.0'])\n",
    "models_tv['F1_0'] = models_tv['custom_metric'].apply(lambda x: x['f1-score']['0.0'])\n",
    "models_tv['F1_1'] = models_tv['custom_metric'].apply(lambda x: x['f1-score']['1.0'])\n",
    "models_tv['ROC_AUC'] = models_tv['custom_metric'].apply(lambda x: x['roc auc'])\n",
    "models_tv.drop('custom_metric', axis=1, inplace=True)\n",
    "models_tv"
   ]
  },
  {
   "cell_type": "code",
   "execution_count": 14,
   "metadata": {},
   "outputs": [],
   "source": [
    "models_cv.to_html('model_cv.html')"
   ]
  },
  {
   "cell_type": "code",
   "execution_count": 15,
   "metadata": {},
   "outputs": [],
   "source": [
    "models_tv.to_html('model_tv.html')"
   ]
  },
  {
   "cell_type": "code",
   "execution_count": 16,
   "metadata": {},
   "outputs": [
    {
     "output_type": "execute_result",
     "data": {
      "text/plain": [
       "<pandas.io.formats.style.Styler at 0x7f8300038130>"
      ],
      "text/html": "<style  type=\"text/css\" >\n#T_0fafb_row0_col0,#T_0fafb_row0_col3,#T_0fafb_row0_col6,#T_0fafb_row1_col4,#T_0fafb_row1_col5,#T_0fafb_row3_col1,#T_0fafb_row3_col2,#T_0fafb_row3_col4{\n            background-color:  #023858;\n            color:  #f1f1f1;\n        }#T_0fafb_row0_col1,#T_0fafb_row0_col2,#T_0fafb_row0_col4,#T_0fafb_row0_col5,#T_0fafb_row3_col3,#T_0fafb_row4_col0,#T_0fafb_row4_col3,#T_0fafb_row4_col6{\n            background-color:  #fff7fb;\n            color:  #000000;\n        }#T_0fafb_row1_col0{\n            background-color:  #a2bcda;\n            color:  #000000;\n        }#T_0fafb_row1_col1{\n            background-color:  #3991c1;\n            color:  #000000;\n        }#T_0fafb_row1_col2,#T_0fafb_row4_col2{\n            background-color:  #034267;\n            color:  #f1f1f1;\n        }#T_0fafb_row1_col3,#T_0fafb_row2_col3{\n            background-color:  #b4c4df;\n            color:  #000000;\n        }#T_0fafb_row1_col6{\n            background-color:  #1c7fb8;\n            color:  #000000;\n        }#T_0fafb_row2_col0{\n            background-color:  #b0c2de;\n            color:  #000000;\n        }#T_0fafb_row2_col1{\n            background-color:  #d3d4e7;\n            color:  #000000;\n        }#T_0fafb_row2_col2{\n            background-color:  #045d92;\n            color:  #f1f1f1;\n        }#T_0fafb_row2_col4{\n            background-color:  #045483;\n            color:  #f1f1f1;\n        }#T_0fafb_row2_col5{\n            background-color:  #6ba5cd;\n            color:  #000000;\n        }#T_0fafb_row2_col6{\n            background-color:  #509ac6;\n            color:  #000000;\n        }#T_0fafb_row3_col0{\n            background-color:  #fdf5fa;\n            color:  #000000;\n        }#T_0fafb_row3_col5{\n            background-color:  #97b7d7;\n            color:  #000000;\n        }#T_0fafb_row3_col6{\n            background-color:  #f9f2f8;\n            color:  #000000;\n        }#T_0fafb_row4_col1{\n            background-color:  #91b5d6;\n            color:  #000000;\n        }#T_0fafb_row4_col4{\n            background-color:  #034165;\n            color:  #f1f1f1;\n        }#T_0fafb_row4_col5{\n            background-color:  #d2d2e7;\n            color:  #000000;\n        }</style><table id=\"T_0fafb_\" ><thead>    <tr>        <th class=\"blank level0\" ></th>        <th class=\"col_heading level0 col0\" >Precision_0</th>        <th class=\"col_heading level0 col1\" >Precision_1</th>        <th class=\"col_heading level0 col2\" >Recall_0</th>        <th class=\"col_heading level0 col3\" >Recall_1</th>        <th class=\"col_heading level0 col4\" >F1_0</th>        <th class=\"col_heading level0 col5\" >F1_1</th>        <th class=\"col_heading level0 col6\" >ROC AUC</th>    </tr>    <tr>        <th class=\"index_name level0\" >Model</th>        <th class=\"blank\" ></th>        <th class=\"blank\" ></th>        <th class=\"blank\" ></th>        <th class=\"blank\" ></th>        <th class=\"blank\" ></th>        <th class=\"blank\" ></th>        <th class=\"blank\" ></th>    </tr></thead><tbody>\n                <tr>\n                        <th id=\"T_0fafb_level0_row0\" class=\"row_heading level0 row0\" >LinearDiscriminantAnalysis</th>\n                        <td id=\"T_0fafb_row0_col0\" class=\"data row0 col0\" >0.98</td>\n                        <td id=\"T_0fafb_row0_col1\" class=\"data row0 col1\" >0.12</td>\n                        <td id=\"T_0fafb_row0_col2\" class=\"data row0 col2\" >0.68</td>\n                        <td id=\"T_0fafb_row0_col3\" class=\"data row0 col3\" >0.80</td>\n                        <td id=\"T_0fafb_row0_col4\" class=\"data row0 col4\" >0.80</td>\n                        <td id=\"T_0fafb_row0_col5\" class=\"data row0 col5\" >0.22</td>\n                        <td id=\"T_0fafb_row0_col6\" class=\"data row0 col6\" >0.74</td>\n            </tr>\n            <tr>\n                        <th id=\"T_0fafb_level0_row1\" class=\"row_heading level0 row1\" >AdaBoostClassifier</th>\n                        <td id=\"T_0fafb_row1_col0\" class=\"data row1 col0\" >0.97</td>\n                        <td id=\"T_0fafb_row1_col1\" class=\"data row1 col1\" >0.67</td>\n                        <td id=\"T_0fafb_row1_col2\" class=\"data row1 col2\" >0.99</td>\n                        <td id=\"T_0fafb_row1_col3\" class=\"data row1 col3\" >0.40</td>\n                        <td id=\"T_0fafb_row1_col4\" class=\"data row1 col4\" >0.98</td>\n                        <td id=\"T_0fafb_row1_col5\" class=\"data row1 col5\" >0.50</td>\n                        <td id=\"T_0fafb_row1_col6\" class=\"data row1 col6\" >0.69</td>\n            </tr>\n            <tr>\n                        <th id=\"T_0fafb_level0_row2\" class=\"row_heading level0 row2\" >Perceptron</th>\n                        <td id=\"T_0fafb_row2_col0\" class=\"data row2 col0\" >0.97</td>\n                        <td id=\"T_0fafb_row2_col1\" class=\"data row2 col1\" >0.33</td>\n                        <td id=\"T_0fafb_row2_col2\" class=\"data row2 col2\" >0.95</td>\n                        <td id=\"T_0fafb_row2_col3\" class=\"data row2 col3\" >0.40</td>\n                        <td id=\"T_0fafb_row2_col4\" class=\"data row2 col4\" >0.96</td>\n                        <td id=\"T_0fafb_row2_col5\" class=\"data row2 col5\" >0.36</td>\n                        <td id=\"T_0fafb_row2_col6\" class=\"data row2 col6\" >0.68</td>\n            </tr>\n            <tr>\n                        <th id=\"T_0fafb_level0_row3\" class=\"row_heading level0 row3\" >XGBClassifier</th>\n                        <td id=\"T_0fafb_row3_col0\" class=\"data row3 col0\" >0.96</td>\n                        <td id=\"T_0fafb_row3_col1\" class=\"data row3 col1\" >1.00</td>\n                        <td id=\"T_0fafb_row3_col2\" class=\"data row3 col2\" >1.00</td>\n                        <td id=\"T_0fafb_row3_col3\" class=\"data row3 col3\" >0.20</td>\n                        <td id=\"T_0fafb_row3_col4\" class=\"data row3 col4\" >0.98</td>\n                        <td id=\"T_0fafb_row3_col5\" class=\"data row3 col5\" >0.33</td>\n                        <td id=\"T_0fafb_row3_col6\" class=\"data row3 col6\" >0.60</td>\n            </tr>\n            <tr>\n                        <th id=\"T_0fafb_level0_row4\" class=\"row_heading level0 row4\" >LGBMClassifier</th>\n                        <td id=\"T_0fafb_row4_col0\" class=\"data row4 col0\" >0.96</td>\n                        <td id=\"T_0fafb_row4_col1\" class=\"data row4 col1\" >0.50</td>\n                        <td id=\"T_0fafb_row4_col2\" class=\"data row4 col2\" >0.99</td>\n                        <td id=\"T_0fafb_row4_col3\" class=\"data row4 col3\" >0.20</td>\n                        <td id=\"T_0fafb_row4_col4\" class=\"data row4 col4\" >0.97</td>\n                        <td id=\"T_0fafb_row4_col5\" class=\"data row4 col5\" >0.29</td>\n                        <td id=\"T_0fafb_row4_col6\" class=\"data row4 col6\" >0.59</td>\n            </tr>\n    </tbody></table>"
     },
     "metadata": {},
     "execution_count": 16
    }
   ],
   "source": [
    "models_cv[['Precision_0', 'Precision_1', 'Recall_0', 'Recall_1', 'F1_0', 'F1_1', 'ROC AUC']].head(5).style.background_gradient(cmap='PuBu')"
   ]
  },
  {
   "cell_type": "code",
   "execution_count": 17,
   "metadata": {},
   "outputs": [
    {
     "output_type": "execute_result",
     "data": {
      "text/plain": [
       "<pandas.io.formats.style.Styler at 0x7f82ed754fa0>"
      ],
      "text/html": "<style  type=\"text/css\" >\n#T_061fb_row0_col0{\n            background-color:  #2987bc;\n            color:  #000000;\n        }#T_061fb_row0_col1,#T_061fb_row0_col2,#T_061fb_row0_col4,#T_061fb_row0_col5,#T_061fb_row0_col6,#T_061fb_row3_col0,#T_061fb_row3_col3,#T_061fb_row4_col2{\n            background-color:  #023858;\n            color:  #f1f1f1;\n        }#T_061fb_row0_col3{\n            background-color:  #2685bb;\n            color:  #000000;\n        }#T_061fb_row1_col0{\n            background-color:  #c1cae2;\n            color:  #000000;\n        }#T_061fb_row1_col1{\n            background-color:  #9ebad9;\n            color:  #000000;\n        }#T_061fb_row1_col2{\n            background-color:  #034f7d;\n            color:  #f1f1f1;\n        }#T_061fb_row1_col3,#T_061fb_row2_col3{\n            background-color:  #b4c4df;\n            color:  #000000;\n        }#T_061fb_row1_col4{\n            background-color:  #034e7b;\n            color:  #f1f1f1;\n        }#T_061fb_row1_col5{\n            background-color:  #84b0d3;\n            color:  #000000;\n        }#T_061fb_row1_col6{\n            background-color:  #a2bcda;\n            color:  #000000;\n        }#T_061fb_row2_col0{\n            background-color:  #cacee5;\n            color:  #000000;\n        }#T_061fb_row2_col1{\n            background-color:  #d0d1e6;\n            color:  #000000;\n        }#T_061fb_row2_col2{\n            background-color:  #045e94;\n            color:  #f1f1f1;\n        }#T_061fb_row2_col4{\n            background-color:  #045b8f;\n            color:  #f1f1f1;\n        }#T_061fb_row2_col5{\n            background-color:  #b9c6e0;\n            color:  #000000;\n        }#T_061fb_row2_col6{\n            background-color:  #c0c9e2;\n            color:  #000000;\n        }#T_061fb_row3_col1,#T_061fb_row3_col2,#T_061fb_row3_col4,#T_061fb_row3_col5,#T_061fb_row4_col0,#T_061fb_row4_col3,#T_061fb_row4_col6{\n            background-color:  #fff7fb;\n            color:  #000000;\n        }#T_061fb_row3_col6{\n            background-color:  #e0deed;\n            color:  #000000;\n        }#T_061fb_row4_col1{\n            background-color:  #05659f;\n            color:  #f1f1f1;\n        }#T_061fb_row4_col4{\n            background-color:  #034165;\n            color:  #f1f1f1;\n        }#T_061fb_row4_col5{\n            background-color:  #69a5cc;\n            color:  #000000;\n        }</style><table id=\"T_061fb_\" ><thead>    <tr>        <th class=\"blank level0\" ></th>        <th class=\"col_heading level0 col0\" >Precision_0</th>        <th class=\"col_heading level0 col1\" >Precision_1</th>        <th class=\"col_heading level0 col2\" >Recall_0</th>        <th class=\"col_heading level0 col3\" >Recall_1</th>        <th class=\"col_heading level0 col4\" >F1_0</th>        <th class=\"col_heading level0 col5\" >F1_1</th>        <th class=\"col_heading level0 col6\" >ROC AUC</th>    </tr>    <tr>        <th class=\"index_name level0\" >Model</th>        <th class=\"blank\" ></th>        <th class=\"blank\" ></th>        <th class=\"blank\" ></th>        <th class=\"blank\" ></th>        <th class=\"blank\" ></th>        <th class=\"blank\" ></th>        <th class=\"blank\" ></th>    </tr></thead><tbody>\n                <tr>\n                        <th id=\"T_061fb_level0_row0\" class=\"row_heading level0 row0\" >AdaBoostClassifier</th>\n                        <td id=\"T_061fb_row0_col0\" class=\"data row0 col0\" >0.99</td>\n                        <td id=\"T_061fb_row0_col1\" class=\"data row0 col1\" >0.80</td>\n                        <td id=\"T_061fb_row0_col2\" class=\"data row0 col2\" >0.99</td>\n                        <td id=\"T_061fb_row0_col3\" class=\"data row0 col3\" >0.80</td>\n                        <td id=\"T_061fb_row0_col4\" class=\"data row0 col4\" >0.99</td>\n                        <td id=\"T_061fb_row0_col5\" class=\"data row0 col5\" >0.80</td>\n                        <td id=\"T_061fb_row0_col6\" class=\"data row0 col6\" >0.89</td>\n            </tr>\n            <tr>\n                        <th id=\"T_061fb_level0_row1\" class=\"row_heading level0 row1\" >PassiveAggressiveClassifier</th>\n                        <td id=\"T_061fb_row1_col0\" class=\"data row1 col0\" >0.98</td>\n                        <td id=\"T_061fb_row1_col1\" class=\"data row1 col1\" >0.38</td>\n                        <td id=\"T_061fb_row1_col2\" class=\"data row1 col2\" >0.94</td>\n                        <td id=\"T_061fb_row1_col3\" class=\"data row1 col3\" >0.60</td>\n                        <td id=\"T_061fb_row1_col4\" class=\"data row1 col4\" >0.96</td>\n                        <td id=\"T_061fb_row1_col5\" class=\"data row1 col5\" >0.46</td>\n                        <td id=\"T_061fb_row1_col6\" class=\"data row1 col6\" >0.77</td>\n            </tr>\n            <tr>\n                        <th id=\"T_061fb_level0_row2\" class=\"row_heading level0 row2\" >Perceptron</th>\n                        <td id=\"T_061fb_row2_col0\" class=\"data row2 col0\" >0.98</td>\n                        <td id=\"T_061fb_row2_col1\" class=\"data row2 col1\" >0.27</td>\n                        <td id=\"T_061fb_row2_col2\" class=\"data row2 col2\" >0.91</td>\n                        <td id=\"T_061fb_row2_col3\" class=\"data row2 col3\" >0.60</td>\n                        <td id=\"T_061fb_row2_col4\" class=\"data row2 col4\" >0.94</td>\n                        <td id=\"T_061fb_row2_col5\" class=\"data row2 col5\" >0.37</td>\n                        <td id=\"T_061fb_row2_col6\" class=\"data row2 col6\" >0.75</td>\n            </tr>\n            <tr>\n                        <th id=\"T_061fb_level0_row3\" class=\"row_heading level0 row3\" >LinearDiscriminantAnalysis</th>\n                        <td id=\"T_061fb_row3_col0\" class=\"data row3 col0\" >1.00</td>\n                        <td id=\"T_061fb_row3_col1\" class=\"data row3 col1\" >0.10</td>\n                        <td id=\"T_061fb_row3_col2\" class=\"data row3 col2\" >0.46</td>\n                        <td id=\"T_061fb_row3_col3\" class=\"data row3 col3\" >1.00</td>\n                        <td id=\"T_061fb_row3_col4\" class=\"data row3 col4\" >0.63</td>\n                        <td id=\"T_061fb_row3_col5\" class=\"data row3 col5\" >0.18</td>\n                        <td id=\"T_061fb_row3_col6\" class=\"data row3 col6\" >0.73</td>\n            </tr>\n            <tr>\n                        <th id=\"T_061fb_level0_row4\" class=\"row_heading level0 row4\" >DecisionTreeClassifier</th>\n                        <td id=\"T_061fb_row4_col0\" class=\"data row4 col0\" >0.97</td>\n                        <td id=\"T_061fb_row4_col1\" class=\"data row4 col1\" >0.67</td>\n                        <td id=\"T_061fb_row4_col2\" class=\"data row4 col2\" >0.99</td>\n                        <td id=\"T_061fb_row4_col3\" class=\"data row4 col3\" >0.40</td>\n                        <td id=\"T_061fb_row4_col4\" class=\"data row4 col4\" >0.98</td>\n                        <td id=\"T_061fb_row4_col5\" class=\"data row4 col5\" >0.50</td>\n                        <td id=\"T_061fb_row4_col6\" class=\"data row4 col6\" >0.69</td>\n            </tr>\n    </tbody></table>"
     },
     "metadata": {},
     "execution_count": 17
    }
   ],
   "source": [
    "models_tv[['Precision_0', 'Precision_1', 'Recall_0', 'Recall_1', 'F1_0', 'F1_1', 'ROC AUC']].head(5).style.background_gradient(cmap='PuBu')"
   ]
  },
  {
   "cell_type": "code",
   "execution_count": null,
   "metadata": {},
   "outputs": [],
   "source": []
  }
 ]
}