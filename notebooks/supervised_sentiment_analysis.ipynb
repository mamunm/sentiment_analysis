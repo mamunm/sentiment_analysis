{
 "metadata": {
  "language_info": {
   "codemirror_mode": {
    "name": "ipython",
    "version": 3
   },
   "file_extension": ".py",
   "mimetype": "text/x-python",
   "name": "python",
   "nbconvert_exporter": "python",
   "pygments_lexer": "ipython3",
   "version": "3.8.3-final"
  },
  "orig_nbformat": 2,
  "kernelspec": {
   "name": "python3",
   "display_name": "Python 3.8.3 64-bit ('springboard_capstone_two')",
   "metadata": {
    "interpreter": {
     "hash": "1474d2ceccc6981c1385943cdbe44b9985a06ccaa858e7fff270717edcc51f5d"
    }
   }
  }
 },
 "nbformat": 4,
 "nbformat_minor": 2,
 "cells": [
  {
   "cell_type": "code",
   "execution_count": 1,
   "metadata": {},
   "outputs": [],
   "source": [
    "import numpy as np \n",
    "import pandas as pd \n",
    "\n",
    "from sklearn.feature_extraction.text import CountVectorizer, TfidfVectorizer\n",
    "from sklearn.model_selection import train_test_split \n",
    "from sklearn.model_selection import KFold, train_test_split\n",
    "\n",
    "import matplotlib.pyplot as plt \n",
    "import matplotlib.cm as cm \n",
    "import seaborn as sns \n",
    "\n",
    "# Plotly \n",
    "import plotly.express as px \n",
    "import plotly.graph_objects as go \n",
    "\n",
    "from nltk.stem import WordNetLemmatizer\n",
    "from nltk.tokenize import TweetTokenizer, word_tokenize\n",
    "\n",
    "from collections import defaultdict\n",
    "\n",
    "from lazypredict.Supervised import LazyClassifier"
   ]
  },
  {
   "cell_type": "code",
   "execution_count": 2,
   "metadata": {},
   "outputs": [],
   "source": [
    "df = pd.read_csv('../data/processed/tanishq_data_clean_labelled.csv')\n",
    "df.drop(['Unnamed: 0', 'Unnamed: 0.1'], inplace=True, axis=1)"
   ]
  },
  {
   "cell_type": "code",
   "execution_count": 3,
   "metadata": {},
   "outputs": [],
   "source": [
    "lemmatizer = WordNetLemmatizer()\n",
    "tokenizer = TweetTokenizer()\n",
    "df['clean_tweet_token'] = df['clean_tweet_segmented'].apply(lemmatizer.lemmatize).apply(tokenizer.tokenize)\n",
    "df['clean_tweet_token'] = df['clean_tweet_token'].str.join(' ')"
   ]
  },
  {
   "cell_type": "code",
   "execution_count": 4,
   "metadata": {},
   "outputs": [],
   "source": [
    "df = df[['clean_tweet_token', 'sentiment']]\n",
    "df.dropna(inplace=True)\n",
    "df = df[df['sentiment'].isin([0.0, 4.0])]\n",
    "df['sentiment'] = df['sentiment'].replace({4.0: 1})"
   ]
  },
  {
   "cell_type": "code",
   "execution_count": 5,
   "metadata": {},
   "outputs": [],
   "source": [
    "count_vec = CountVectorizer()\n",
    "X_count_vec = count_vec.fit_transform(df['clean_tweet_token'])\n",
    "#print(count_vec.get_feature_names())"
   ]
  },
  {
   "cell_type": "code",
   "execution_count": 6,
   "metadata": {},
   "outputs": [],
   "source": [
    "tfidf_vec = TfidfVectorizer()\n",
    "X_tfidf_vec = tfidf_vec.fit_transform(df['clean_tweet_token'])"
   ]
  },
  {
   "source": [
    "'''\n",
    "kf = KFold(n_splits=3)\n",
    "y = df['sentiment'].values\n",
    "count_vec_models\n",
    "for train_id, test_id in kf.split(y):\n",
    "    clf = LazyClassifier(verbose=0,ignore_warnings=True, custom_metric=None)\n",
    "    models, predictions = clf.fit(X_, X_test, y_train, y_test)\n",
    "'''\n"
   ],
   "cell_type": "code",
   "metadata": {},
   "execution_count": 7,
   "outputs": [
    {
     "output_type": "execute_result",
     "data": {
      "text/plain": [
       "\"\\nkf = KFold(n_splits=3)\\ny = df['sentiment'].values\\ncount_vec_models\\nfor train_id, test_id in kf.split(y):\\n    clf = LazyClassifier(verbose=0,ignore_warnings=True, custom_metric=None)\\n    models, predictions = clf.fit(X_, X_test, y_train, y_test)\\n\""
      ]
     },
     "metadata": {},
     "execution_count": 7
    }
   ]
  },
  {
   "cell_type": "code",
   "execution_count": 8,
   "metadata": {},
   "outputs": [],
   "source": [
    "y = df['sentiment'].values\n",
    "X_train_cv, X_test_cv, y_train_cv, y_test_cv = train_test_split(X_count_vec.toarray(), y, test_size=0.25, random_state=42, stratify=y)\n",
    "X_train_tv, X_test_tv, y_train_tv, y_test_tv = train_test_split(X_tfidf_vec.toarray(), y, test_size=0.25, random_state=42, stratify=y)"
   ]
  },
  {
   "cell_type": "code",
   "execution_count": 9,
   "metadata": {},
   "outputs": [
    {
     "output_type": "stream",
     "name": "stderr",
     "text": [
      "100%|██████████| 30/30 [00:05<00:00,  5.27it/s]\n"
     ]
    }
   ],
   "source": [
    "clf_cv = LazyClassifier(verbose=0,ignore_warnings=True, custom_metric=None)\n",
    "models_cv, predictions_cv = clf_cv.fit(X_train_cv, X_test_cv, y_train_cv, y_test_cv)"
   ]
  },
  {
   "cell_type": "code",
   "execution_count": 10,
   "metadata": {},
   "outputs": [
    {
     "output_type": "stream",
     "name": "stdout",
     "text": [
      "                               Accuracy  Balanced Accuracy  ROC AUC  F1 Score  \\\nModel                                                                           \nLinearDiscriminantAnalysis         0.88               0.75     0.75      0.90   \nXGBClassifier                      0.95               0.69     0.69      0.94   \nAdaBoostClassifier                 0.96               0.60     0.60      0.94   \nDecisionTreeClassifier             0.95               0.59     0.59      0.93   \nExtraTreeClassifier                0.95               0.59     0.59      0.93   \nDummyClassifier                    0.92               0.58     0.58      0.92   \nQuadraticDiscriminantAnalysis      0.12               0.53     0.53      0.13   \nCalibratedClassifierCV             0.95               0.50     0.50      0.92   \nNearestCentroid                    0.95               0.50     0.50      0.92   \nBernoulliNB                        0.95               0.50     0.50      0.92   \nSVC                                0.95               0.50     0.50      0.92   \nSGDClassifier                      0.95               0.50     0.50      0.92   \nRidgeClassifierCV                  0.95               0.50     0.50      0.92   \nRidgeClassifier                    0.95               0.50     0.50      0.92   \nRandomForestClassifier             0.95               0.50     0.50      0.92   \nPassiveAggressiveClassifier        0.95               0.50     0.50      0.92   \nLogisticRegression                 0.95               0.50     0.50      0.92   \nCheckingClassifier                 0.95               0.50     0.50      0.92   \nLinearSVC                          0.95               0.50     0.50      0.92   \nBaggingClassifier                  0.95               0.50     0.50      0.92   \nLabelSpreading                     0.95               0.50     0.50      0.92   \nLabelPropagation                   0.95               0.50     0.50      0.92   \nKNeighborsClassifier               0.95               0.50     0.50      0.92   \nExtraTreesClassifier               0.95               0.50     0.50      0.92   \nPerceptron                         0.93               0.49     0.49      0.91   \nGaussianNB                         0.93               0.49     0.49      0.91   \nLGBMClassifier                     0.92               0.49     0.49      0.91   \n\n                               Time Taken  \nModel                                      \nLinearDiscriminantAnalysis           0.14  \nXGBClassifier                        0.25  \nAdaBoostClassifier                   0.23  \nDecisionTreeClassifier               0.05  \nExtraTreeClassifier                  0.04  \nDummyClassifier                      0.04  \nQuadraticDiscriminantAnalysis        0.09  \nCalibratedClassifierCV               2.67  \nNearestCentroid                      0.04  \nBernoulliNB                          0.05  \nSVC                                  0.20  \nSGDClassifier                        0.06  \nRidgeClassifierCV                    0.07  \nRidgeClassifier                      0.05  \nRandomForestClassifier               0.17  \nPassiveAggressiveClassifier          0.06  \nLogisticRegression                   0.05  \nCheckingClassifier                   0.04  \nLinearSVC                            0.70  \nBaggingClassifier                    0.11  \nLabelSpreading                       0.04  \nLabelPropagation                     0.04  \nKNeighborsClassifier                 0.11  \nExtraTreesClassifier                 0.16  \nPerceptron                           0.05  \nGaussianNB                           0.04  \nLGBMClassifier                       0.08  \n"
     ]
    }
   ],
   "source": [
    "print(models_cv)"
   ]
  },
  {
   "cell_type": "code",
   "execution_count": 11,
   "metadata": {},
   "outputs": [
    {
     "output_type": "stream",
     "name": "stderr",
     "text": [
      "100%|██████████| 30/30 [00:05<00:00,  5.25it/s]\n"
     ]
    }
   ],
   "source": [
    "clf_tv = LazyClassifier(verbose=0,ignore_warnings=True, custom_metric=None)\n",
    "models_tv, predictions_tv = clf_tv.fit(X_train_tv, X_test_tv, y_train_tv, y_test_tv)"
   ]
  },
  {
   "cell_type": "code",
   "execution_count": 12,
   "metadata": {},
   "outputs": [
    {
     "output_type": "stream",
     "name": "stdout",
     "text": [
      "                               Accuracy  Balanced Accuracy  ROC AUC  F1 Score  \\\nModel                                                                           \nLinearDiscriminantAnalysis         0.65               0.63     0.63      0.75   \nAdaBoostClassifier                 0.96               0.60     0.60      0.94   \nLGBMClassifier                     0.96               0.60     0.60      0.94   \nXGBClassifier                      0.95               0.59     0.59      0.93   \nDummyClassifier                    0.92               0.58     0.58      0.92   \nQuadraticDiscriminantAnalysis      0.10               0.52     0.52      0.09   \nCalibratedClassifierCV             0.95               0.50     0.50      0.92   \nSVC                                0.95               0.50     0.50      0.92   \nSGDClassifier                      0.95               0.50     0.50      0.92   \nRidgeClassifierCV                  0.95               0.50     0.50      0.92   \nRidgeClassifier                    0.95               0.50     0.50      0.92   \nRandomForestClassifier             0.95               0.50     0.50      0.92   \nNearestCentroid                    0.95               0.50     0.50      0.92   \nLogisticRegression                 0.95               0.50     0.50      0.92   \nBernoulliNB                        0.95               0.50     0.50      0.92   \nBaggingClassifier                  0.95               0.50     0.50      0.92   \nLabelSpreading                     0.95               0.50     0.50      0.92   \nLabelPropagation                   0.95               0.50     0.50      0.92   \nKNeighborsClassifier               0.95               0.50     0.50      0.92   \nExtraTreesClassifier               0.95               0.50     0.50      0.92   \nExtraTreeClassifier                0.95               0.50     0.50      0.92   \nCheckingClassifier                 0.95               0.50     0.50      0.92   \nGaussianNB                         0.93               0.49     0.49      0.91   \nPassiveAggressiveClassifier        0.92               0.49     0.49      0.91   \nPerceptron                         0.92               0.49     0.49      0.91   \nDecisionTreeClassifier             0.92               0.49     0.49      0.91   \nLinearSVC                          0.92               0.49     0.49      0.91   \n\n                               Time Taken  \nModel                                      \nLinearDiscriminantAnalysis           0.13  \nAdaBoostClassifier                   0.27  \nLGBMClassifier                       0.09  \nXGBClassifier                        0.23  \nDummyClassifier                      0.04  \nQuadraticDiscriminantAnalysis        0.09  \nCalibratedClassifierCV               2.65  \nSVC                                  0.20  \nSGDClassifier                        0.06  \nRidgeClassifierCV                    0.07  \nRidgeClassifier                      0.05  \nRandomForestClassifier               0.17  \nNearestCentroid                      0.04  \nLogisticRegression                   0.05  \nBernoulliNB                          0.04  \nBaggingClassifier                    0.11  \nLabelSpreading                       0.04  \nLabelPropagation                     0.04  \nKNeighborsClassifier                 0.11  \nExtraTreesClassifier                 0.16  \nExtraTreeClassifier                  0.04  \nCheckingClassifier                   0.04  \nGaussianNB                           0.05  \nPassiveAggressiveClassifier          0.06  \nPerceptron                           0.04  \nDecisionTreeClassifier               0.05  \nLinearSVC                            0.71  \n"
     ]
    }
   ],
   "source": [
    "print(models_tv)"
   ]
  },
  {
   "cell_type": "code",
   "execution_count": null,
   "metadata": {},
   "outputs": [],
   "source": []
  }
 ]
}