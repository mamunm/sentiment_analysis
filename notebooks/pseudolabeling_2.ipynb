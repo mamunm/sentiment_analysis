{
 "metadata": {
  "language_info": {
   "codemirror_mode": {
    "name": "ipython",
    "version": 3
   },
   "file_extension": ".py",
   "mimetype": "text/x-python",
   "name": "python",
   "nbconvert_exporter": "python",
   "pygments_lexer": "ipython3",
   "version": "3.8.3-final"
  },
  "orig_nbformat": 2,
  "kernelspec": {
   "name": "python3",
   "display_name": "Python 3.8.3 64-bit ('springboard_capstone_two')",
   "metadata": {
    "interpreter": {
     "hash": "1474d2ceccc6981c1385943cdbe44b9985a06ccaa858e7fff270717edcc51f5d"
    }
   }
  }
 },
 "nbformat": 4,
 "nbformat_minor": 2,
 "cells": [
  {
   "cell_type": "code",
   "execution_count": 1,
   "metadata": {},
   "outputs": [],
   "source": [
    "import numpy as np \n",
    "import pandas as pd \n",
    "import re\n",
    "\n",
    "from sklearn.feature_extraction.text import CountVectorizer, TfidfVectorizer\n",
    "from sklearn.model_selection import train_test_split \n",
    "from sklearn.model_selection import KFold, train_test_split\n",
    "from sklearn.metrics import accuracy_score, precision_recall_curve, average_precision_score, f1_score, roc_auc_score, plot_precision_recall_curve, classification_report\n",
    "from sklearn.linear_model import LogisticRegression\n",
    "from sklearn.tree import DecisionTreeClassifier\n",
    "from sklearn.neighbors import KNeighborsClassifier as KNN \n",
    "from sklearn.ensemble import VotingClassifier\n",
    "from sklearn.discriminant_analysis import LinearDiscriminantAnalysis\n",
    "from sklearn.svm import SVC, LinearSVC, NuSVC\n",
    "\n",
    "import xgboost\n",
    "import lightgbm\n",
    "\n",
    "import matplotlib.pyplot as plt \n",
    "import matplotlib.cm as cm \n",
    "import seaborn as sns \n",
    "\n",
    "from nltk.stem import WordNetLemmatizer\n",
    "from nltk.tokenize import TweetTokenizer, word_tokenize\n",
    "\n",
    "from collections import defaultdict\n",
    "\n",
    "from lazypredict.Supervised import LazyClassifier\n",
    "\n",
    "import imblearn\n",
    "\n",
    "from textblob import TextBlob\n",
    "from vaderSentiment.vaderSentiment import SentimentIntensityAnalyzer\n",
    "import flair \n",
    "\n",
    "from snorkel.labeling import labeling_function, PandasLFApplier, LFAnalysis, filter_unlabeled_dataframe\n",
    "from snorkel.analysis import get_label_buckets\n",
    "from snorkel.preprocess import preprocessor \n",
    "from snorkel.preprocess.nlp import SpacyPreprocessor\n",
    "from snorkel.labeling.model import MajorityLabelVoter, LabelModel\n",
    "from snorkel.utils import probs_to_preds\n",
    "\n"
   ]
  },
  {
   "source": [
    "### Steps we will perform in this exercise:\n",
    "\n",
    "1. Label a small number of samples (df_ground_truth)\n",
    "2. Use weak supervision (Generator) to label the unlabelled samples (df_unlabelled)\n",
    "3. Use a supervised model based on ground truth labels and weak supervised labels to classify the sentiment (Discriminator)"
   ],
   "cell_type": "markdown",
   "metadata": {}
  },
  {
   "source": [
    "## Weak supervision\n",
    "\n",
    "To generate pseudolabel, we have 4 common types of labeling functions:\n",
    "\n",
    "1. Hard-coded heuristics (in our problem, boycott tanishq is an obvious giveaway; however, (reject/don't support) boycott tanishq may be an indicaor of an opposite sentiment). We will try to label based on presence of this phrases in the tweet; otherwise we will abstain from labeling the tweet.\n",
    "2. Syntactics: Spacy's dependency trees can be a very good starting point for generating some more labels.\n",
    "3. Distant supervision: textblob, flair, vader sentiment analyzer.\n",
    "4. External models: other models that can generate some good labels."
   ],
   "cell_type": "markdown",
   "metadata": {}
  },
  {
   "cell_type": "code",
   "execution_count": 2,
   "metadata": {},
   "outputs": [],
   "source": [
    "df = pd.read_csv('../data/processed/tanishq_data_clean_labelled.csv')\n",
    "df.drop(['Unnamed: 0', 'Unnamed: 0.1'], inplace=True, axis=1)\n",
    "lemmatizer = WordNetLemmatizer()\n",
    "tokenizer = TweetTokenizer()\n",
    "df['clean_tweet_token'] = df['clean_tweet_segmented'].apply(lemmatizer.lemmatize).apply(tokenizer.tokenize)\n",
    "df['clean_tweet_token'] = df['clean_tweet_token'].str.join(' ')\n",
    "df = df[['clean_tweet_token', 'sentiment']]\n"
   ]
  },
  {
   "cell_type": "code",
   "execution_count": 3,
   "metadata": {},
   "outputs": [],
   "source": [
    "df_ground_truth = df[df['sentiment'].isin([0.0, 4.0])]\n",
    "df_ground_truth['sentiment'] = df_ground_truth['sentiment'].replace({4.0: 1, 0.0: -1})\n",
    "df_ground_truth_generator, df_ground_truth_discriminator = train_test_split(df_ground_truth, test_size=0.25, stratify=df_ground_truth['sentiment'])"
   ]
  },
  {
   "cell_type": "code",
   "execution_count": 4,
   "metadata": {},
   "outputs": [],
   "source": [
    "df_unlabelled = df[df['sentiment'].isin([np.nan, 10.0])]\n",
    "df_unlabelled.drop('sentiment', axis=1, inplace=True)\n",
    "del df "
   ]
  },
  {
   "cell_type": "code",
   "execution_count": 5,
   "metadata": {},
   "outputs": [],
   "source": [
    "#pd.set_option('display.max_colwidth', 0)\n",
    "#df_ground_truth[df_ground_truth['sentiment'] == -1.00]"
   ]
  },
  {
   "cell_type": "code",
   "execution_count": 6,
   "metadata": {},
   "outputs": [
    {
     "output_type": "stream",
     "name": "stdout",
     "text": [
      "2021-02-22 20:52:48,686 loading file /Users/mamu867/.flair/models/sentiment-en-mix-distillbert_3.1.pt\n"
     ]
    }
   ],
   "source": [
    "# Labeling function\n",
    "\n",
    "# Textblob \n",
    "@preprocessor(memoize=True)\n",
    "def textblob_sentiment(x):\n",
    "    scores = TextBlob(x.clean_tweet_token)\n",
    "    x.tb_polarity = scores.sentiment.polarity\n",
    "    x.tb_subjectivity = scores.sentiment.subjectivity\n",
    "    return x \n",
    "\n",
    "@labeling_function(pre=[textblob_sentiment])\n",
    "def textblob_polarity(x):\n",
    "    return 1 if x.tb_polarity > 0 else -1\n",
    "\n",
    "# Vader\n",
    "@preprocessor(memoize=True)\n",
    "def vader_sentiment(x):\n",
    "    analyzer = SentimentIntensityAnalyzer()\n",
    "    scores = analyzer.polarity_scores(x.clean_tweet_token)\n",
    "    x.vd_polarity = scores['compound']\n",
    "    return x \n",
    "\n",
    "@labeling_function(pre=[vader_sentiment])\n",
    "def vader_polarity(x):\n",
    "    return 1 if x.vd_polarity > 0 else -1\n",
    "\n",
    "# Flair\n",
    "flair_sent = flair.models.TextClassifier.load('en-sentiment')\n",
    "@preprocessor(memoize=True)\n",
    "def flair_sentiment(x):\n",
    "    s = flair.data.Sentence(x.clean_tweet_token)\n",
    "    flair_sent.predict(s)\n",
    "    x.fl_polarity =  s.get_label_names()[0].lower()\n",
    "    return x \n",
    "\n",
    "@labeling_function(pre=[flair_sentiment])\n",
    "def flair_polarity(x):\n",
    "    return 1 if x.fl_polarity == 'positive' else -1\n",
    "\n",
    "# Positive sentiments about Tanishq\n",
    "search = r\"(support tanishq | ek at vam)\"\n",
    "\n",
    "@labeling_function()\n",
    "def positive_tanishq(x):\n",
    "    return 1 if re.search(search, x.clean_tweet_token, flags=re.I) else 0\n",
    "\n",
    "# Negative sentiments about Tanishq\n",
    "search = r\"(boycott tanishq | boycott bollywood | boycott amazon | hindu | offended | local | not respect | tradition | hindus | teach | losing | trust)\"\n",
    "\n",
    "@labeling_function()\n",
    "def negative_tanishq(x):\n",
    "    return -1 if re.search(search, x.clean_tweet_token, flags=re.I) else 0\n",
    "\n",
    "\n"
   ]
  },
  {
   "cell_type": "code",
   "execution_count": 7,
   "metadata": {},
   "outputs": [
    {
     "output_type": "execute_result",
     "data": {
      "text/plain": [
       "                                      clean_tweet_token  sentiment\n",
       "209   boycott tanishq jewelry forever in life i won ...      -1.00\n",
       "1458  boycott tanishq trends on twitter after the je...      -1.00\n",
       "1135  boycott amazon oh wow all dirts are showing th...      -1.00\n",
       "331   you need a new team of pr and a good managemen...      -1.00\n",
       "1851  boycott tanishq please ask pr of tanishq to ha...      -1.00\n",
       "...                                                 ...        ...\n",
       "2118  this dee wali no instead of tanishq buy j well...      -1.00\n",
       "2133  i don t think tanishq should sell jewels i don...      -1.00\n",
       "1442  wait do you think tanishq new eka tv am ad is ...       1.00\n",
       "1648  who is tanishq to advice hindus as how to cele...      -1.00\n",
       "1245  what has happened to great brand of tata they ...      -1.00\n",
       "\n",
       "[275 rows x 2 columns]"
      ],
      "text/html": "<div>\n<style scoped>\n    .dataframe tbody tr th:only-of-type {\n        vertical-align: middle;\n    }\n\n    .dataframe tbody tr th {\n        vertical-align: top;\n    }\n\n    .dataframe thead th {\n        text-align: right;\n    }\n</style>\n<table border=\"1\" class=\"dataframe\">\n  <thead>\n    <tr style=\"text-align: right;\">\n      <th></th>\n      <th>clean_tweet_token</th>\n      <th>sentiment</th>\n    </tr>\n  </thead>\n  <tbody>\n    <tr>\n      <th>209</th>\n      <td>boycott tanishq jewelry forever in life i won ...</td>\n      <td>-1.00</td>\n    </tr>\n    <tr>\n      <th>1458</th>\n      <td>boycott tanishq trends on twitter after the je...</td>\n      <td>-1.00</td>\n    </tr>\n    <tr>\n      <th>1135</th>\n      <td>boycott amazon oh wow all dirts are showing th...</td>\n      <td>-1.00</td>\n    </tr>\n    <tr>\n      <th>331</th>\n      <td>you need a new team of pr and a good managemen...</td>\n      <td>-1.00</td>\n    </tr>\n    <tr>\n      <th>1851</th>\n      <td>boycott tanishq please ask pr of tanishq to ha...</td>\n      <td>-1.00</td>\n    </tr>\n    <tr>\n      <th>...</th>\n      <td>...</td>\n      <td>...</td>\n    </tr>\n    <tr>\n      <th>2118</th>\n      <td>this dee wali no instead of tanishq buy j well...</td>\n      <td>-1.00</td>\n    </tr>\n    <tr>\n      <th>2133</th>\n      <td>i don t think tanishq should sell jewels i don...</td>\n      <td>-1.00</td>\n    </tr>\n    <tr>\n      <th>1442</th>\n      <td>wait do you think tanishq new eka tv am ad is ...</td>\n      <td>1.00</td>\n    </tr>\n    <tr>\n      <th>1648</th>\n      <td>who is tanishq to advice hindus as how to cele...</td>\n      <td>-1.00</td>\n    </tr>\n    <tr>\n      <th>1245</th>\n      <td>what has happened to great brand of tata they ...</td>\n      <td>-1.00</td>\n    </tr>\n  </tbody>\n</table>\n<p>275 rows × 2 columns</p>\n</div>"
     },
     "metadata": {},
     "execution_count": 7
    }
   ],
   "source": [
    "df_ground_truth_generator"
   ]
  },
  {
   "cell_type": "code",
   "execution_count": 8,
   "metadata": {},
   "outputs": [],
   "source": [
    "count_vec = CountVectorizer(ngram_range=(1, 3))\n",
    "X_count_vec_gen = count_vec.fit_transform(df_ground_truth_generator['clean_tweet_token'])\n",
    "X_count_vec_dis = count_vec.transform(df_ground_truth_discriminator['clean_tweet_token'])\n",
    "y_gen = df_ground_truth_generator['sentiment'].values\n",
    "y_dis = df_ground_truth_discriminator['sentiment'].values"
   ]
  },
  {
   "cell_type": "code",
   "execution_count": 9,
   "metadata": {},
   "outputs": [],
   "source": [
    "tfidf = TfidfVectorizer(ngram_range=(1, 3))\n",
    "X_tfidf_vec_gen = tfidf.fit_transform(df_ground_truth_generator['clean_tweet_token'])\n",
    "X_tfidf_vec_dis = tfidf.transform(df_ground_truth_discriminator['clean_tweet_token'])"
   ]
  },
  {
   "cell_type": "code",
   "execution_count": 10,
   "metadata": {},
   "outputs": [],
   "source": [
    "lr = LogisticRegression(random_state=42)\n",
    "knn = KNN()\n",
    "dt = DecisionTreeClassifier(random_state=42)\n",
    "xgb = xgboost.XGBClassifier()\n",
    "lgb = lightgbm.LGBMClassifier(random_state=42)\n",
    "lda = LinearDiscriminantAnalysis()\n",
    "svc = SVC(probability=True, random_state=42)\n",
    "lin_svc = LinearSVC(random_state=42)\n",
    "\n",
    "classifiers = {'lr': lr, 'knn': knn, 'dt': dt,  'lda': lda, 'svc': svc, 'xgb': xgb, 'lgb': lgb, 'lin_svc': lin_svc}\n",
    "\n",
    "for clf in classifiers:\n",
    "    classifiers[clf].fit(X_count_vec_gen.toarray(), y_gen)\n",
    "\n",
    "@labeling_function()\n",
    "def lr_label(x):\n",
    "    return classifiers['lr'].predict(count_vec.transform(x).toarray())\n",
    "\n",
    "@labeling_function()\n",
    "def knn_label(x):\n",
    "    return classifiers['knn'].predict(count_vec.transform(x).toarray())\n",
    "\n",
    "@labeling_function()\n",
    "def dt_label(x):\n",
    "    return classifiers['dt'].predict(count_vec.transform(x).toarray())\n",
    "\n",
    "@labeling_function()\n",
    "def xgb_label(x):\n",
    "    return classifiers['xgb'].predict(count_vec.transform(x).toarray())\n",
    "\n",
    "@labeling_function()\n",
    "def lgb_label(x):\n",
    "    return classifiers['lgb'].predict(count_vec.transform(x).toarray())\n",
    "\n",
    "@labeling_function()\n",
    "def lda_label(x):\n",
    "    return classifiers['lda'].predict(count_vec.transform(x).toarray())\n",
    "\n",
    "@labeling_function()\n",
    "def svc_label(x):\n",
    "    return classifiers['svc'].predict(count_vec.transform(x).toarray())\n",
    "\n",
    "@labeling_function()\n",
    "def lin_svc_label(x):\n",
    "    return classifiers['lin_svc'].predict(count_vec.transform(x).toarray())\n"
   ]
  },
  {
   "cell_type": "code",
   "execution_count": 11,
   "metadata": {},
   "outputs": [
    {
     "output_type": "stream",
     "name": "stderr",
     "text": [
      "100%|██████████| 1500/1500 [01:35<00:00, 15.75it/s]\n"
     ]
    }
   ],
   "source": [
    "lfs = [textblob_polarity, vader_polarity, flair_polarity, positive_tanishq, negative_tanishq, lr_label, knn_label, dt_label, xgb_label, lgb_label, lda_label, svc_label, lin_svc_label]\n",
    "\n",
    "applier = PandasLFApplier(lfs)\n",
    "df_unlabelled = df_unlabelled.sample(1500, random_state=42)\n",
    "L_train = applier.apply(df_unlabelled)"
   ]
  },
  {
   "cell_type": "code",
   "execution_count": 12,
   "metadata": {},
   "outputs": [
    {
     "output_type": "execute_result",
     "data": {
      "text/plain": [
       "                    j Polarity  Coverage  Overlaps  Conflicts\n",
       "textblob_polarity   0      [1]      0.16      0.16       0.04\n",
       "vader_polarity      1      [1]      0.18      0.18       0.05\n",
       "flair_polarity      2      [1]      0.02      0.02       0.01\n",
       "positive_tanishq    3   [0, 1]      1.00      0.89       0.48\n",
       "negative_tanishq    4      [0]      0.48      0.48       0.48\n",
       "lr_label            5       []      0.00      0.00       0.00\n",
       "knn_label           6       []      0.00      0.00       0.00\n",
       "dt_label            7      [1]      0.01      0.01       0.01\n",
       "xgb_label           8      [1]      0.00      0.00       0.00\n",
       "lgb_label           9      [1]      0.01      0.01       0.01\n",
       "lda_label          10      [1]      0.83      0.83       0.47\n",
       "svc_label          11       []      0.00      0.00       0.00\n",
       "lin_svc_label      12       []      0.00      0.00       0.00"
      ],
      "text/html": "<div>\n<style scoped>\n    .dataframe tbody tr th:only-of-type {\n        vertical-align: middle;\n    }\n\n    .dataframe tbody tr th {\n        vertical-align: top;\n    }\n\n    .dataframe thead th {\n        text-align: right;\n    }\n</style>\n<table border=\"1\" class=\"dataframe\">\n  <thead>\n    <tr style=\"text-align: right;\">\n      <th></th>\n      <th>j</th>\n      <th>Polarity</th>\n      <th>Coverage</th>\n      <th>Overlaps</th>\n      <th>Conflicts</th>\n    </tr>\n  </thead>\n  <tbody>\n    <tr>\n      <th>textblob_polarity</th>\n      <td>0</td>\n      <td>[1]</td>\n      <td>0.16</td>\n      <td>0.16</td>\n      <td>0.04</td>\n    </tr>\n    <tr>\n      <th>vader_polarity</th>\n      <td>1</td>\n      <td>[1]</td>\n      <td>0.18</td>\n      <td>0.18</td>\n      <td>0.05</td>\n    </tr>\n    <tr>\n      <th>flair_polarity</th>\n      <td>2</td>\n      <td>[1]</td>\n      <td>0.02</td>\n      <td>0.02</td>\n      <td>0.01</td>\n    </tr>\n    <tr>\n      <th>positive_tanishq</th>\n      <td>3</td>\n      <td>[0, 1]</td>\n      <td>1.00</td>\n      <td>0.89</td>\n      <td>0.48</td>\n    </tr>\n    <tr>\n      <th>negative_tanishq</th>\n      <td>4</td>\n      <td>[0]</td>\n      <td>0.48</td>\n      <td>0.48</td>\n      <td>0.48</td>\n    </tr>\n    <tr>\n      <th>lr_label</th>\n      <td>5</td>\n      <td>[]</td>\n      <td>0.00</td>\n      <td>0.00</td>\n      <td>0.00</td>\n    </tr>\n    <tr>\n      <th>knn_label</th>\n      <td>6</td>\n      <td>[]</td>\n      <td>0.00</td>\n      <td>0.00</td>\n      <td>0.00</td>\n    </tr>\n    <tr>\n      <th>dt_label</th>\n      <td>7</td>\n      <td>[1]</td>\n      <td>0.01</td>\n      <td>0.01</td>\n      <td>0.01</td>\n    </tr>\n    <tr>\n      <th>xgb_label</th>\n      <td>8</td>\n      <td>[1]</td>\n      <td>0.00</td>\n      <td>0.00</td>\n      <td>0.00</td>\n    </tr>\n    <tr>\n      <th>lgb_label</th>\n      <td>9</td>\n      <td>[1]</td>\n      <td>0.01</td>\n      <td>0.01</td>\n      <td>0.01</td>\n    </tr>\n    <tr>\n      <th>lda_label</th>\n      <td>10</td>\n      <td>[1]</td>\n      <td>0.83</td>\n      <td>0.83</td>\n      <td>0.47</td>\n    </tr>\n    <tr>\n      <th>svc_label</th>\n      <td>11</td>\n      <td>[]</td>\n      <td>0.00</td>\n      <td>0.00</td>\n      <td>0.00</td>\n    </tr>\n    <tr>\n      <th>lin_svc_label</th>\n      <td>12</td>\n      <td>[]</td>\n      <td>0.00</td>\n      <td>0.00</td>\n      <td>0.00</td>\n    </tr>\n  </tbody>\n</table>\n</div>"
     },
     "metadata": {},
     "execution_count": 12
    }
   ],
   "source": [
    "LFAnalysis(L_train, lfs).lf_summary()"
   ]
  },
  {
   "cell_type": "code",
   "execution_count": 13,
   "metadata": {},
   "outputs": [],
   "source": [
    "majority_model = MajorityLabelVoter()\n",
    "preds_train = majority_model.predict(L=L_train)"
   ]
  },
  {
   "cell_type": "code",
   "execution_count": 14,
   "metadata": {},
   "outputs": [],
   "source": [
    "label_model = LabelModel(cardinality=2, verbose=True)\n",
    "label_model.fit(L_train=L_train, n_epochs=500, lr=0.001, log_freq=100, seed=123)"
   ]
  },
  {
   "cell_type": "code",
   "execution_count": 15,
   "metadata": {},
   "outputs": [
    {
     "output_type": "stream",
     "name": "stderr",
     "text": [
      "100%|██████████| 275/275 [00:24<00:00, 11.03it/s]\n",
      "Majority Vote Accuracy:   100.0%\n",
      "Label Model Accuracy:     69.2%\n",
      "\n"
     ]
    }
   ],
   "source": [
    "L_test = applier.apply(df=df_ground_truth_generator[['clean_tweet_token']])\n",
    "\n",
    "majority_accuracy = majority_model.score(L=L_test, Y=df_ground_truth_generator['sentiment'], tie_break_policy=\"random\", metrics=['accuracy'])['accuracy']\n",
    "\n",
    "print(f\"\\n{'Majority Vote Accuracy:':<25} {majority_accuracy * 100:0.1f}%\")\n",
    "\n",
    "label_model_accuracy = label_model.score(L=L_test,Y=df_ground_truth_generator['sentiment'], tie_break_policy=\"random\", metrics=['accuracy'])['accuracy']\n",
    "\n",
    "print(f\"{'Label Model Accuracy:':<25} {label_model_accuracy * 100:0.1f}%\")"
   ]
  },
  {
   "cell_type": "code",
   "execution_count": 16,
   "metadata": {},
   "outputs": [
    {
     "output_type": "execute_result",
     "data": {
      "text/plain": [
       "                                      clean_tweet_token\n",
       "4833  from next year every hindu shud advice those p...\n",
       "5516  do not waste you energy on anti hindus anti hi...\n",
       "1755  celebrate diwali with this great bomb and give...\n",
       "2726  the most popular hobbies around the world we w...\n",
       "3805                      so true let s boycott tanishq\n",
       "4969  tanishq is brand of tata co amp i really respe...\n",
       "8011  enjoy diwali with crackers it s hindu indian f...\n",
       "6619  hindus please burst as many crackers as possib...\n",
       "2173  there is no crackers ban in haryana hours up m...\n",
       "7082  hey tanishq pr team yesterday we did gold shop..."
      ],
      "text/html": "<div>\n<style scoped>\n    .dataframe tbody tr th:only-of-type {\n        vertical-align: middle;\n    }\n\n    .dataframe tbody tr th {\n        vertical-align: top;\n    }\n\n    .dataframe thead th {\n        text-align: right;\n    }\n</style>\n<table border=\"1\" class=\"dataframe\">\n  <thead>\n    <tr style=\"text-align: right;\">\n      <th></th>\n      <th>clean_tweet_token</th>\n    </tr>\n  </thead>\n  <tbody>\n    <tr>\n      <th>4833</th>\n      <td>from next year every hindu shud advice those p...</td>\n    </tr>\n    <tr>\n      <th>5516</th>\n      <td>do not waste you energy on anti hindus anti hi...</td>\n    </tr>\n    <tr>\n      <th>1755</th>\n      <td>celebrate diwali with this great bomb and give...</td>\n    </tr>\n    <tr>\n      <th>2726</th>\n      <td>the most popular hobbies around the world we w...</td>\n    </tr>\n    <tr>\n      <th>3805</th>\n      <td>so true let s boycott tanishq</td>\n    </tr>\n    <tr>\n      <th>4969</th>\n      <td>tanishq is brand of tata co amp i really respe...</td>\n    </tr>\n    <tr>\n      <th>8011</th>\n      <td>enjoy diwali with crackers it s hindu indian f...</td>\n    </tr>\n    <tr>\n      <th>6619</th>\n      <td>hindus please burst as many crackers as possib...</td>\n    </tr>\n    <tr>\n      <th>2173</th>\n      <td>there is no crackers ban in haryana hours up m...</td>\n    </tr>\n    <tr>\n      <th>7082</th>\n      <td>hey tanishq pr team yesterday we did gold shop...</td>\n    </tr>\n  </tbody>\n</table>\n</div>"
     },
     "metadata": {},
     "execution_count": 16
    }
   ],
   "source": [
    "buckets = get_label_buckets(L_train[:, 0], L_train[:, 1], L_train[:, 2])\n",
    "df_unlabelled.iloc[buckets[(1, 1, 1)]].sample(10)"
   ]
  },
  {
   "cell_type": "code",
   "execution_count": 17,
   "metadata": {},
   "outputs": [
    {
     "output_type": "stream",
     "name": "stdout",
     "text": [
      "              precision    recall  f1-score   support\n\n        -1.0       1.00      0.02      0.04       262\n         0.0       0.00      0.00      0.00         0\n         1.0       0.05      1.00      0.10        13\n\n    accuracy                           0.07       275\n   macro avg       0.35      0.34      0.05       275\nweighted avg       0.96      0.07      0.04       275\n\n"
     ]
    }
   ],
   "source": [
    "y_ground_truth_pred = majority_model.predict(L_test)\n",
    "print(classification_report(df_ground_truth_generator['sentiment'].values, y_ground_truth_pred))"
   ]
  },
  {
   "cell_type": "code",
   "execution_count": 24,
   "metadata": {},
   "outputs": [],
   "source": [
    "X_unlabelled = count_vec.transform(df_unlabelled['clean_tweet_token']).toarray()[preds_train != 0]\n",
    "y_unlabelled = preds_train[preds_train != 0]\n",
    "y_unlabelled[y_unlabelled == -1] = 0\n",
    "y_gen[y_gen == -1] = 0\n",
    "X_train = np.concatenate([X_count_vec_gen.toarray(), X_unlabelled])\n",
    "y_train = np.concatenate([y_gen, y_unlabelled])\n",
    "y_dis[y_dis == -1] = 0"
   ]
  },
  {
   "cell_type": "code",
   "execution_count": 25,
   "metadata": {},
   "outputs": [
    {
     "output_type": "execute_result",
     "data": {
      "text/plain": [
       "array([0., 1.])"
      ]
     },
     "metadata": {},
     "execution_count": 25
    }
   ],
   "source": [
    "np.unique(y_dis)"
   ]
  },
  {
   "cell_type": "code",
   "execution_count": 26,
   "metadata": {},
   "outputs": [],
   "source": [
    "def custom_metric(A, B):\n",
    "    d = pd.DataFrame(classification_report(A, B, digits=2,\n",
    "                                        output_dict=True)).T\n",
    "    d = d.to_dict()\n",
    "    d['roc auc'] = roc_auc_score(A, B)\n",
    "    return d"
   ]
  },
  {
   "cell_type": "code",
   "execution_count": 27,
   "metadata": {},
   "outputs": [
    {
     "output_type": "stream",
     "name": "stderr",
     "text": [
      "100%|██████████| 30/30 [03:22<00:00,  6.76s/it]\n"
     ]
    }
   ],
   "source": [
    "clf_cv = LazyClassifier(verbose=0,ignore_warnings=True, custom_metric=custom_metric)\n",
    "models_cv, predictions_cv = clf_cv.fit(X_train, X_count_vec_dis.toarray(), y_train, y_dis)"
   ]
  },
  {
   "cell_type": "code",
   "execution_count": 28,
   "metadata": {},
   "outputs": [
    {
     "output_type": "execute_result",
     "data": {
      "text/plain": [
       "                               Accuracy  Balanced Accuracy  ROC AUC  F1 Score  \\\n",
       "Model                                                                           \n",
       "LGBMClassifier                     0.51               0.74     0.74      0.63   \n",
       "XGBClassifier                      0.48               0.72     0.72      0.59   \n",
       "BaggingClassifier                  0.40               0.68     0.68      0.52   \n",
       "DecisionTreeClassifier             0.52               0.65     0.65      0.64   \n",
       "QuadraticDiscriminantAnalysis      0.82               0.62     0.62      0.86   \n",
       "ExtraTreesClassifier               0.18               0.57     0.57      0.24   \n",
       "LinearDiscriminantAnalysis         0.35               0.56     0.56      0.46   \n",
       "SGDClassifier                      0.16               0.56     0.56      0.20   \n",
       "AdaBoostClassifier                 0.34               0.56     0.56      0.45   \n",
       "RidgeClassifier                    0.32               0.54     0.54      0.42   \n",
       "RandomForestClassifier             0.13               0.54     0.54      0.15   \n",
       "PassiveAggressiveClassifier        0.30               0.54     0.54      0.41   \n",
       "LabelSpreading                     0.84               0.54     0.54      0.87   \n",
       "LabelPropagation                   0.84               0.54     0.54      0.87   \n",
       "NearestCentroid                    0.12               0.53     0.53      0.13   \n",
       "Perceptron                         0.29               0.53     0.53      0.40   \n",
       "ExtraTreeClassifier                0.28               0.53     0.53      0.38   \n",
       "BernoulliNB                        0.10               0.52     0.52      0.09   \n",
       "RidgeClassifierCV                  0.27               0.52     0.52      0.37   \n",
       "KNeighborsClassifier               0.07               0.51     0.51      0.03   \n",
       "CheckingClassifier                 0.95               0.50     0.50      0.92   \n",
       "GaussianNB                         0.57               0.49     0.49      0.68   \n",
       "LinearSVC                          0.34               0.46     0.46      0.46   \n",
       "NuSVC                              0.15               0.46     0.46      0.20   \n",
       "SVC                                0.15               0.46     0.46      0.20   \n",
       "DummyClassifier                    0.29               0.44     0.44      0.41   \n",
       "CalibratedClassifierCV             0.10               0.43     0.43      0.11   \n",
       "\n",
       "                                                                   custom_metric  \\\n",
       "Model                                                                              \n",
       "LGBMClassifier                 {'precision': {'0.0': 1.0, '1.0': 0.1, 'accura...   \n",
       "XGBClassifier                  {'precision': {'0.0': 1.0, '1.0': 0.0943396226...   \n",
       "BaggingClassifier              {'precision': {'0.0': 1.0, '1.0': 0.0833333333...   \n",
       "DecisionTreeClassifier         {'precision': {'0.0': 0.9777777777777777, '1.0...   \n",
       "QuadraticDiscriminantAnalysis  {'precision': {'0.0': 0.9605263157894737, '1.0...   \n",
       "ExtraTreesClassifier           {'precision': {'0.0': 1.0, '1.0': 0.0625, 'acc...   \n",
       "LinearDiscriminantAnalysis     {'precision': {'0.0': 0.9655172413793104, '1.0...   \n",
       "SGDClassifier                  {'precision': {'0.0': 1.0, '1.0': 0.0609756097...   \n",
       "AdaBoostClassifier             {'precision': {'0.0': 0.9642857142857143, '1.0...   \n",
       "RidgeClassifier                {'precision': {'0.0': 0.9615384615384616, '1.0...   \n",
       "RandomForestClassifier         {'precision': {'0.0': 1.0, '1.0': 0.0588235294...   \n",
       "PassiveAggressiveClassifier    {'precision': {'0.0': 0.96, '1.0': 0.059701492...   \n",
       "LabelSpreading                 {'precision': {'0.0': 0.95, '1.0': 0.083333333...   \n",
       "LabelPropagation               {'precision': {'0.0': 0.95, '1.0': 0.083333333...   \n",
       "NearestCentroid                {'precision': {'0.0': 1.0, '1.0': 0.0581395348...   \n",
       "Perceptron                     {'precision': {'0.0': 0.9583333333333334, '1.0...   \n",
       "ExtraTreeClassifier            {'precision': {'0.0': 0.9565217391304348, '1.0...   \n",
       "BernoulliNB                    {'precision': {'0.0': 1.0, '1.0': 0.0568181818...   \n",
       "RidgeClassifierCV              {'precision': {'0.0': 0.9545454545454546, '1.0...   \n",
       "KNeighborsClassifier           {'precision': {'0.0': 1.0, '1.0': 0.0549450549...   \n",
       "CheckingClassifier             {'precision': {'0.0': 0.9456521739130435, '1.0...   \n",
       "GaussianNB                     {'precision': {'0.0': 0.9433962264150944, '1.0...   \n",
       "LinearSVC                      {'precision': {'0.0': 0.9333333333333333, '1.0...   \n",
       "NuSVC                          {'precision': {'0.0': 0.9090909090909091, '1.0...   \n",
       "SVC                            {'precision': {'0.0': 0.9090909090909091, '1.0...   \n",
       "DummyClassifier                {'precision': {'0.0': 0.9230769230769231, '1.0...   \n",
       "CalibratedClassifierCV         {'precision': {'0.0': 0.8333333333333334, '1.0...   \n",
       "\n",
       "                               Time Taken  \n",
       "Model                                      \n",
       "LGBMClassifier                       1.65  \n",
       "XGBClassifier                       11.37  \n",
       "BaggingClassifier                    5.52  \n",
       "DecisionTreeClassifier               2.82  \n",
       "QuadraticDiscriminantAnalysis        3.33  \n",
       "ExtraTreesClassifier                11.16  \n",
       "LinearDiscriminantAnalysis           4.66  \n",
       "SGDClassifier                        1.65  \n",
       "AdaBoostClassifier                  12.32  \n",
       "RidgeClassifier                      1.06  \n",
       "RandomForestClassifier               5.80  \n",
       "PassiveAggressiveClassifier          1.29  \n",
       "LabelSpreading                       0.90  \n",
       "LabelPropagation                     0.90  \n",
       "NearestCentroid                      0.87  \n",
       "Perceptron                           1.10  \n",
       "ExtraTreeClassifier                  0.97  \n",
       "BernoulliNB                          0.86  \n",
       "RidgeClassifierCV                    1.21  \n",
       "KNeighborsClassifier                 3.20  \n",
       "CheckingClassifier                   0.79  \n",
       "GaussianNB                           0.98  \n",
       "LinearSVC                           19.06  \n",
       "NuSVC                               15.76  \n",
       "SVC                                 14.01  \n",
       "DummyClassifier                      0.78  \n",
       "CalibratedClassifierCV              74.79  "
      ],
      "text/html": "<div>\n<style scoped>\n    .dataframe tbody tr th:only-of-type {\n        vertical-align: middle;\n    }\n\n    .dataframe tbody tr th {\n        vertical-align: top;\n    }\n\n    .dataframe thead th {\n        text-align: right;\n    }\n</style>\n<table border=\"1\" class=\"dataframe\">\n  <thead>\n    <tr style=\"text-align: right;\">\n      <th></th>\n      <th>Accuracy</th>\n      <th>Balanced Accuracy</th>\n      <th>ROC AUC</th>\n      <th>F1 Score</th>\n      <th>custom_metric</th>\n      <th>Time Taken</th>\n    </tr>\n    <tr>\n      <th>Model</th>\n      <th></th>\n      <th></th>\n      <th></th>\n      <th></th>\n      <th></th>\n      <th></th>\n    </tr>\n  </thead>\n  <tbody>\n    <tr>\n      <th>LGBMClassifier</th>\n      <td>0.51</td>\n      <td>0.74</td>\n      <td>0.74</td>\n      <td>0.63</td>\n      <td>{'precision': {'0.0': 1.0, '1.0': 0.1, 'accura...</td>\n      <td>1.65</td>\n    </tr>\n    <tr>\n      <th>XGBClassifier</th>\n      <td>0.48</td>\n      <td>0.72</td>\n      <td>0.72</td>\n      <td>0.59</td>\n      <td>{'precision': {'0.0': 1.0, '1.0': 0.0943396226...</td>\n      <td>11.37</td>\n    </tr>\n    <tr>\n      <th>BaggingClassifier</th>\n      <td>0.40</td>\n      <td>0.68</td>\n      <td>0.68</td>\n      <td>0.52</td>\n      <td>{'precision': {'0.0': 1.0, '1.0': 0.0833333333...</td>\n      <td>5.52</td>\n    </tr>\n    <tr>\n      <th>DecisionTreeClassifier</th>\n      <td>0.52</td>\n      <td>0.65</td>\n      <td>0.65</td>\n      <td>0.64</td>\n      <td>{'precision': {'0.0': 0.9777777777777777, '1.0...</td>\n      <td>2.82</td>\n    </tr>\n    <tr>\n      <th>QuadraticDiscriminantAnalysis</th>\n      <td>0.82</td>\n      <td>0.62</td>\n      <td>0.62</td>\n      <td>0.86</td>\n      <td>{'precision': {'0.0': 0.9605263157894737, '1.0...</td>\n      <td>3.33</td>\n    </tr>\n    <tr>\n      <th>ExtraTreesClassifier</th>\n      <td>0.18</td>\n      <td>0.57</td>\n      <td>0.57</td>\n      <td>0.24</td>\n      <td>{'precision': {'0.0': 1.0, '1.0': 0.0625, 'acc...</td>\n      <td>11.16</td>\n    </tr>\n    <tr>\n      <th>LinearDiscriminantAnalysis</th>\n      <td>0.35</td>\n      <td>0.56</td>\n      <td>0.56</td>\n      <td>0.46</td>\n      <td>{'precision': {'0.0': 0.9655172413793104, '1.0...</td>\n      <td>4.66</td>\n    </tr>\n    <tr>\n      <th>SGDClassifier</th>\n      <td>0.16</td>\n      <td>0.56</td>\n      <td>0.56</td>\n      <td>0.20</td>\n      <td>{'precision': {'0.0': 1.0, '1.0': 0.0609756097...</td>\n      <td>1.65</td>\n    </tr>\n    <tr>\n      <th>AdaBoostClassifier</th>\n      <td>0.34</td>\n      <td>0.56</td>\n      <td>0.56</td>\n      <td>0.45</td>\n      <td>{'precision': {'0.0': 0.9642857142857143, '1.0...</td>\n      <td>12.32</td>\n    </tr>\n    <tr>\n      <th>RidgeClassifier</th>\n      <td>0.32</td>\n      <td>0.54</td>\n      <td>0.54</td>\n      <td>0.42</td>\n      <td>{'precision': {'0.0': 0.9615384615384616, '1.0...</td>\n      <td>1.06</td>\n    </tr>\n    <tr>\n      <th>RandomForestClassifier</th>\n      <td>0.13</td>\n      <td>0.54</td>\n      <td>0.54</td>\n      <td>0.15</td>\n      <td>{'precision': {'0.0': 1.0, '1.0': 0.0588235294...</td>\n      <td>5.80</td>\n    </tr>\n    <tr>\n      <th>PassiveAggressiveClassifier</th>\n      <td>0.30</td>\n      <td>0.54</td>\n      <td>0.54</td>\n      <td>0.41</td>\n      <td>{'precision': {'0.0': 0.96, '1.0': 0.059701492...</td>\n      <td>1.29</td>\n    </tr>\n    <tr>\n      <th>LabelSpreading</th>\n      <td>0.84</td>\n      <td>0.54</td>\n      <td>0.54</td>\n      <td>0.87</td>\n      <td>{'precision': {'0.0': 0.95, '1.0': 0.083333333...</td>\n      <td>0.90</td>\n    </tr>\n    <tr>\n      <th>LabelPropagation</th>\n      <td>0.84</td>\n      <td>0.54</td>\n      <td>0.54</td>\n      <td>0.87</td>\n      <td>{'precision': {'0.0': 0.95, '1.0': 0.083333333...</td>\n      <td>0.90</td>\n    </tr>\n    <tr>\n      <th>NearestCentroid</th>\n      <td>0.12</td>\n      <td>0.53</td>\n      <td>0.53</td>\n      <td>0.13</td>\n      <td>{'precision': {'0.0': 1.0, '1.0': 0.0581395348...</td>\n      <td>0.87</td>\n    </tr>\n    <tr>\n      <th>Perceptron</th>\n      <td>0.29</td>\n      <td>0.53</td>\n      <td>0.53</td>\n      <td>0.40</td>\n      <td>{'precision': {'0.0': 0.9583333333333334, '1.0...</td>\n      <td>1.10</td>\n    </tr>\n    <tr>\n      <th>ExtraTreeClassifier</th>\n      <td>0.28</td>\n      <td>0.53</td>\n      <td>0.53</td>\n      <td>0.38</td>\n      <td>{'precision': {'0.0': 0.9565217391304348, '1.0...</td>\n      <td>0.97</td>\n    </tr>\n    <tr>\n      <th>BernoulliNB</th>\n      <td>0.10</td>\n      <td>0.52</td>\n      <td>0.52</td>\n      <td>0.09</td>\n      <td>{'precision': {'0.0': 1.0, '1.0': 0.0568181818...</td>\n      <td>0.86</td>\n    </tr>\n    <tr>\n      <th>RidgeClassifierCV</th>\n      <td>0.27</td>\n      <td>0.52</td>\n      <td>0.52</td>\n      <td>0.37</td>\n      <td>{'precision': {'0.0': 0.9545454545454546, '1.0...</td>\n      <td>1.21</td>\n    </tr>\n    <tr>\n      <th>KNeighborsClassifier</th>\n      <td>0.07</td>\n      <td>0.51</td>\n      <td>0.51</td>\n      <td>0.03</td>\n      <td>{'precision': {'0.0': 1.0, '1.0': 0.0549450549...</td>\n      <td>3.20</td>\n    </tr>\n    <tr>\n      <th>CheckingClassifier</th>\n      <td>0.95</td>\n      <td>0.50</td>\n      <td>0.50</td>\n      <td>0.92</td>\n      <td>{'precision': {'0.0': 0.9456521739130435, '1.0...</td>\n      <td>0.79</td>\n    </tr>\n    <tr>\n      <th>GaussianNB</th>\n      <td>0.57</td>\n      <td>0.49</td>\n      <td>0.49</td>\n      <td>0.68</td>\n      <td>{'precision': {'0.0': 0.9433962264150944, '1.0...</td>\n      <td>0.98</td>\n    </tr>\n    <tr>\n      <th>LinearSVC</th>\n      <td>0.34</td>\n      <td>0.46</td>\n      <td>0.46</td>\n      <td>0.46</td>\n      <td>{'precision': {'0.0': 0.9333333333333333, '1.0...</td>\n      <td>19.06</td>\n    </tr>\n    <tr>\n      <th>NuSVC</th>\n      <td>0.15</td>\n      <td>0.46</td>\n      <td>0.46</td>\n      <td>0.20</td>\n      <td>{'precision': {'0.0': 0.9090909090909091, '1.0...</td>\n      <td>15.76</td>\n    </tr>\n    <tr>\n      <th>SVC</th>\n      <td>0.15</td>\n      <td>0.46</td>\n      <td>0.46</td>\n      <td>0.20</td>\n      <td>{'precision': {'0.0': 0.9090909090909091, '1.0...</td>\n      <td>14.01</td>\n    </tr>\n    <tr>\n      <th>DummyClassifier</th>\n      <td>0.29</td>\n      <td>0.44</td>\n      <td>0.44</td>\n      <td>0.41</td>\n      <td>{'precision': {'0.0': 0.9230769230769231, '1.0...</td>\n      <td>0.78</td>\n    </tr>\n    <tr>\n      <th>CalibratedClassifierCV</th>\n      <td>0.10</td>\n      <td>0.43</td>\n      <td>0.43</td>\n      <td>0.11</td>\n      <td>{'precision': {'0.0': 0.8333333333333334, '1.0...</td>\n      <td>74.79</td>\n    </tr>\n  </tbody>\n</table>\n</div>"
     },
     "metadata": {},
     "execution_count": 28
    }
   ],
   "source": [
    "models_cv"
   ]
  },
  {
   "cell_type": "code",
   "execution_count": 29,
   "metadata": {},
   "outputs": [],
   "source": [
    "X_unlabelled = tfidf.transform(df_unlabelled['clean_tweet_token']).toarray()[preds_train != 0]\n",
    "#y_unlabelled = preds_train[preds_train != 0]\n",
    "#y_unlabelled[y_unlabelled == -1] = 0\n",
    "#y_gen[y_gen == -1] = 0\n",
    "X_train = np.concatenate([X_tfidf_vec_gen.toarray(), X_unlabelled])\n",
    "#y_train = np.concatenate([y_gen, y_unlabelled])"
   ]
  },
  {
   "cell_type": "code",
   "execution_count": 30,
   "metadata": {},
   "outputs": [
    {
     "output_type": "stream",
     "name": "stderr",
     "text": [
      "100%|██████████| 30/30 [03:19<00:00,  6.65s/it]\n"
     ]
    }
   ],
   "source": [
    "clf_tv = LazyClassifier(verbose=0,ignore_warnings=True, custom_metric=custom_metric)\n",
    "models_tv, predictions_tv = clf_tv.fit(X_train, X_tfidf_vec_dis.toarray(), y_train, y_dis)"
   ]
  },
  {
   "cell_type": "code",
   "execution_count": 31,
   "metadata": {},
   "outputs": [
    {
     "output_type": "execute_result",
     "data": {
      "text/plain": [
       "                               Accuracy  Balanced Accuracy  ROC AUC  F1 Score  \\\n",
       "Model                                                                           \n",
       "LGBMClassifier                     0.51               0.74     0.74      0.63   \n",
       "XGBClassifier                      0.48               0.72     0.72      0.59   \n",
       "BaggingClassifier                  0.40               0.68     0.68      0.52   \n",
       "DecisionTreeClassifier             0.52               0.65     0.65      0.64   \n",
       "QuadraticDiscriminantAnalysis      0.82               0.62     0.62      0.86   \n",
       "ExtraTreesClassifier               0.18               0.57     0.57      0.24   \n",
       "LinearDiscriminantAnalysis         0.35               0.56     0.56      0.46   \n",
       "SGDClassifier                      0.16               0.56     0.56      0.20   \n",
       "AdaBoostClassifier                 0.34               0.56     0.56      0.45   \n",
       "RidgeClassifier                    0.32               0.54     0.54      0.42   \n",
       "RandomForestClassifier             0.13               0.54     0.54      0.15   \n",
       "PassiveAggressiveClassifier        0.30               0.54     0.54      0.41   \n",
       "LabelSpreading                     0.84               0.54     0.54      0.87   \n",
       "LabelPropagation                   0.84               0.54     0.54      0.87   \n",
       "NearestCentroid                    0.12               0.53     0.53      0.13   \n",
       "Perceptron                         0.29               0.53     0.53      0.40   \n",
       "ExtraTreeClassifier                0.28               0.53     0.53      0.38   \n",
       "BernoulliNB                        0.10               0.52     0.52      0.09   \n",
       "RidgeClassifierCV                  0.27               0.52     0.52      0.37   \n",
       "KNeighborsClassifier               0.07               0.51     0.51      0.03   \n",
       "CheckingClassifier                 0.95               0.50     0.50      0.92   \n",
       "GaussianNB                         0.57               0.49     0.49      0.68   \n",
       "LinearSVC                          0.34               0.46     0.46      0.46   \n",
       "NuSVC                              0.15               0.46     0.46      0.20   \n",
       "SVC                                0.15               0.46     0.46      0.20   \n",
       "DummyClassifier                    0.29               0.44     0.44      0.41   \n",
       "CalibratedClassifierCV             0.10               0.43     0.43      0.11   \n",
       "\n",
       "                                                                   custom_metric  \\\n",
       "Model                                                                              \n",
       "LGBMClassifier                 {'precision': {'0.0': 1.0, '1.0': 0.1, 'accura...   \n",
       "XGBClassifier                  {'precision': {'0.0': 1.0, '1.0': 0.0943396226...   \n",
       "BaggingClassifier              {'precision': {'0.0': 1.0, '1.0': 0.0833333333...   \n",
       "DecisionTreeClassifier         {'precision': {'0.0': 0.9777777777777777, '1.0...   \n",
       "QuadraticDiscriminantAnalysis  {'precision': {'0.0': 0.9605263157894737, '1.0...   \n",
       "ExtraTreesClassifier           {'precision': {'0.0': 1.0, '1.0': 0.0625, 'acc...   \n",
       "LinearDiscriminantAnalysis     {'precision': {'0.0': 0.9655172413793104, '1.0...   \n",
       "SGDClassifier                  {'precision': {'0.0': 1.0, '1.0': 0.0609756097...   \n",
       "AdaBoostClassifier             {'precision': {'0.0': 0.9642857142857143, '1.0...   \n",
       "RidgeClassifier                {'precision': {'0.0': 0.9615384615384616, '1.0...   \n",
       "RandomForestClassifier         {'precision': {'0.0': 1.0, '1.0': 0.0588235294...   \n",
       "PassiveAggressiveClassifier    {'precision': {'0.0': 0.96, '1.0': 0.059701492...   \n",
       "LabelSpreading                 {'precision': {'0.0': 0.95, '1.0': 0.083333333...   \n",
       "LabelPropagation               {'precision': {'0.0': 0.95, '1.0': 0.083333333...   \n",
       "NearestCentroid                {'precision': {'0.0': 1.0, '1.0': 0.0581395348...   \n",
       "Perceptron                     {'precision': {'0.0': 0.9583333333333334, '1.0...   \n",
       "ExtraTreeClassifier            {'precision': {'0.0': 0.9565217391304348, '1.0...   \n",
       "BernoulliNB                    {'precision': {'0.0': 1.0, '1.0': 0.0568181818...   \n",
       "RidgeClassifierCV              {'precision': {'0.0': 0.9545454545454546, '1.0...   \n",
       "KNeighborsClassifier           {'precision': {'0.0': 1.0, '1.0': 0.0549450549...   \n",
       "CheckingClassifier             {'precision': {'0.0': 0.9456521739130435, '1.0...   \n",
       "GaussianNB                     {'precision': {'0.0': 0.9433962264150944, '1.0...   \n",
       "LinearSVC                      {'precision': {'0.0': 0.9333333333333333, '1.0...   \n",
       "NuSVC                          {'precision': {'0.0': 0.9090909090909091, '1.0...   \n",
       "SVC                            {'precision': {'0.0': 0.9090909090909091, '1.0...   \n",
       "DummyClassifier                {'precision': {'0.0': 0.9230769230769231, '1.0...   \n",
       "CalibratedClassifierCV         {'precision': {'0.0': 0.8333333333333334, '1.0...   \n",
       "\n",
       "                               Time Taken  \n",
       "Model                                      \n",
       "LGBMClassifier                       1.65  \n",
       "XGBClassifier                       11.37  \n",
       "BaggingClassifier                    5.52  \n",
       "DecisionTreeClassifier               2.82  \n",
       "QuadraticDiscriminantAnalysis        3.33  \n",
       "ExtraTreesClassifier                11.16  \n",
       "LinearDiscriminantAnalysis           4.66  \n",
       "SGDClassifier                        1.65  \n",
       "AdaBoostClassifier                  12.32  \n",
       "RidgeClassifier                      1.06  \n",
       "RandomForestClassifier               5.80  \n",
       "PassiveAggressiveClassifier          1.29  \n",
       "LabelSpreading                       0.90  \n",
       "LabelPropagation                     0.90  \n",
       "NearestCentroid                      0.87  \n",
       "Perceptron                           1.10  \n",
       "ExtraTreeClassifier                  0.97  \n",
       "BernoulliNB                          0.86  \n",
       "RidgeClassifierCV                    1.21  \n",
       "KNeighborsClassifier                 3.20  \n",
       "CheckingClassifier                   0.79  \n",
       "GaussianNB                           0.98  \n",
       "LinearSVC                           19.06  \n",
       "NuSVC                               15.76  \n",
       "SVC                                 14.01  \n",
       "DummyClassifier                      0.78  \n",
       "CalibratedClassifierCV              74.79  "
      ],
      "text/html": "<div>\n<style scoped>\n    .dataframe tbody tr th:only-of-type {\n        vertical-align: middle;\n    }\n\n    .dataframe tbody tr th {\n        vertical-align: top;\n    }\n\n    .dataframe thead th {\n        text-align: right;\n    }\n</style>\n<table border=\"1\" class=\"dataframe\">\n  <thead>\n    <tr style=\"text-align: right;\">\n      <th></th>\n      <th>Accuracy</th>\n      <th>Balanced Accuracy</th>\n      <th>ROC AUC</th>\n      <th>F1 Score</th>\n      <th>custom_metric</th>\n      <th>Time Taken</th>\n    </tr>\n    <tr>\n      <th>Model</th>\n      <th></th>\n      <th></th>\n      <th></th>\n      <th></th>\n      <th></th>\n      <th></th>\n    </tr>\n  </thead>\n  <tbody>\n    <tr>\n      <th>LGBMClassifier</th>\n      <td>0.51</td>\n      <td>0.74</td>\n      <td>0.74</td>\n      <td>0.63</td>\n      <td>{'precision': {'0.0': 1.0, '1.0': 0.1, 'accura...</td>\n      <td>1.65</td>\n    </tr>\n    <tr>\n      <th>XGBClassifier</th>\n      <td>0.48</td>\n      <td>0.72</td>\n      <td>0.72</td>\n      <td>0.59</td>\n      <td>{'precision': {'0.0': 1.0, '1.0': 0.0943396226...</td>\n      <td>11.37</td>\n    </tr>\n    <tr>\n      <th>BaggingClassifier</th>\n      <td>0.40</td>\n      <td>0.68</td>\n      <td>0.68</td>\n      <td>0.52</td>\n      <td>{'precision': {'0.0': 1.0, '1.0': 0.0833333333...</td>\n      <td>5.52</td>\n    </tr>\n    <tr>\n      <th>DecisionTreeClassifier</th>\n      <td>0.52</td>\n      <td>0.65</td>\n      <td>0.65</td>\n      <td>0.64</td>\n      <td>{'precision': {'0.0': 0.9777777777777777, '1.0...</td>\n      <td>2.82</td>\n    </tr>\n    <tr>\n      <th>QuadraticDiscriminantAnalysis</th>\n      <td>0.82</td>\n      <td>0.62</td>\n      <td>0.62</td>\n      <td>0.86</td>\n      <td>{'precision': {'0.0': 0.9605263157894737, '1.0...</td>\n      <td>3.33</td>\n    </tr>\n    <tr>\n      <th>ExtraTreesClassifier</th>\n      <td>0.18</td>\n      <td>0.57</td>\n      <td>0.57</td>\n      <td>0.24</td>\n      <td>{'precision': {'0.0': 1.0, '1.0': 0.0625, 'acc...</td>\n      <td>11.16</td>\n    </tr>\n    <tr>\n      <th>LinearDiscriminantAnalysis</th>\n      <td>0.35</td>\n      <td>0.56</td>\n      <td>0.56</td>\n      <td>0.46</td>\n      <td>{'precision': {'0.0': 0.9655172413793104, '1.0...</td>\n      <td>4.66</td>\n    </tr>\n    <tr>\n      <th>SGDClassifier</th>\n      <td>0.16</td>\n      <td>0.56</td>\n      <td>0.56</td>\n      <td>0.20</td>\n      <td>{'precision': {'0.0': 1.0, '1.0': 0.0609756097...</td>\n      <td>1.65</td>\n    </tr>\n    <tr>\n      <th>AdaBoostClassifier</th>\n      <td>0.34</td>\n      <td>0.56</td>\n      <td>0.56</td>\n      <td>0.45</td>\n      <td>{'precision': {'0.0': 0.9642857142857143, '1.0...</td>\n      <td>12.32</td>\n    </tr>\n    <tr>\n      <th>RidgeClassifier</th>\n      <td>0.32</td>\n      <td>0.54</td>\n      <td>0.54</td>\n      <td>0.42</td>\n      <td>{'precision': {'0.0': 0.9615384615384616, '1.0...</td>\n      <td>1.06</td>\n    </tr>\n    <tr>\n      <th>RandomForestClassifier</th>\n      <td>0.13</td>\n      <td>0.54</td>\n      <td>0.54</td>\n      <td>0.15</td>\n      <td>{'precision': {'0.0': 1.0, '1.0': 0.0588235294...</td>\n      <td>5.80</td>\n    </tr>\n    <tr>\n      <th>PassiveAggressiveClassifier</th>\n      <td>0.30</td>\n      <td>0.54</td>\n      <td>0.54</td>\n      <td>0.41</td>\n      <td>{'precision': {'0.0': 0.96, '1.0': 0.059701492...</td>\n      <td>1.29</td>\n    </tr>\n    <tr>\n      <th>LabelSpreading</th>\n      <td>0.84</td>\n      <td>0.54</td>\n      <td>0.54</td>\n      <td>0.87</td>\n      <td>{'precision': {'0.0': 0.95, '1.0': 0.083333333...</td>\n      <td>0.90</td>\n    </tr>\n    <tr>\n      <th>LabelPropagation</th>\n      <td>0.84</td>\n      <td>0.54</td>\n      <td>0.54</td>\n      <td>0.87</td>\n      <td>{'precision': {'0.0': 0.95, '1.0': 0.083333333...</td>\n      <td>0.90</td>\n    </tr>\n    <tr>\n      <th>NearestCentroid</th>\n      <td>0.12</td>\n      <td>0.53</td>\n      <td>0.53</td>\n      <td>0.13</td>\n      <td>{'precision': {'0.0': 1.0, '1.0': 0.0581395348...</td>\n      <td>0.87</td>\n    </tr>\n    <tr>\n      <th>Perceptron</th>\n      <td>0.29</td>\n      <td>0.53</td>\n      <td>0.53</td>\n      <td>0.40</td>\n      <td>{'precision': {'0.0': 0.9583333333333334, '1.0...</td>\n      <td>1.10</td>\n    </tr>\n    <tr>\n      <th>ExtraTreeClassifier</th>\n      <td>0.28</td>\n      <td>0.53</td>\n      <td>0.53</td>\n      <td>0.38</td>\n      <td>{'precision': {'0.0': 0.9565217391304348, '1.0...</td>\n      <td>0.97</td>\n    </tr>\n    <tr>\n      <th>BernoulliNB</th>\n      <td>0.10</td>\n      <td>0.52</td>\n      <td>0.52</td>\n      <td>0.09</td>\n      <td>{'precision': {'0.0': 1.0, '1.0': 0.0568181818...</td>\n      <td>0.86</td>\n    </tr>\n    <tr>\n      <th>RidgeClassifierCV</th>\n      <td>0.27</td>\n      <td>0.52</td>\n      <td>0.52</td>\n      <td>0.37</td>\n      <td>{'precision': {'0.0': 0.9545454545454546, '1.0...</td>\n      <td>1.21</td>\n    </tr>\n    <tr>\n      <th>KNeighborsClassifier</th>\n      <td>0.07</td>\n      <td>0.51</td>\n      <td>0.51</td>\n      <td>0.03</td>\n      <td>{'precision': {'0.0': 1.0, '1.0': 0.0549450549...</td>\n      <td>3.20</td>\n    </tr>\n    <tr>\n      <th>CheckingClassifier</th>\n      <td>0.95</td>\n      <td>0.50</td>\n      <td>0.50</td>\n      <td>0.92</td>\n      <td>{'precision': {'0.0': 0.9456521739130435, '1.0...</td>\n      <td>0.79</td>\n    </tr>\n    <tr>\n      <th>GaussianNB</th>\n      <td>0.57</td>\n      <td>0.49</td>\n      <td>0.49</td>\n      <td>0.68</td>\n      <td>{'precision': {'0.0': 0.9433962264150944, '1.0...</td>\n      <td>0.98</td>\n    </tr>\n    <tr>\n      <th>LinearSVC</th>\n      <td>0.34</td>\n      <td>0.46</td>\n      <td>0.46</td>\n      <td>0.46</td>\n      <td>{'precision': {'0.0': 0.9333333333333333, '1.0...</td>\n      <td>19.06</td>\n    </tr>\n    <tr>\n      <th>NuSVC</th>\n      <td>0.15</td>\n      <td>0.46</td>\n      <td>0.46</td>\n      <td>0.20</td>\n      <td>{'precision': {'0.0': 0.9090909090909091, '1.0...</td>\n      <td>15.76</td>\n    </tr>\n    <tr>\n      <th>SVC</th>\n      <td>0.15</td>\n      <td>0.46</td>\n      <td>0.46</td>\n      <td>0.20</td>\n      <td>{'precision': {'0.0': 0.9090909090909091, '1.0...</td>\n      <td>14.01</td>\n    </tr>\n    <tr>\n      <th>DummyClassifier</th>\n      <td>0.29</td>\n      <td>0.44</td>\n      <td>0.44</td>\n      <td>0.41</td>\n      <td>{'precision': {'0.0': 0.9230769230769231, '1.0...</td>\n      <td>0.78</td>\n    </tr>\n    <tr>\n      <th>CalibratedClassifierCV</th>\n      <td>0.10</td>\n      <td>0.43</td>\n      <td>0.43</td>\n      <td>0.11</td>\n      <td>{'precision': {'0.0': 0.8333333333333334, '1.0...</td>\n      <td>74.79</td>\n    </tr>\n  </tbody>\n</table>\n</div>"
     },
     "metadata": {},
     "execution_count": 31
    }
   ],
   "source": [
    "models_cv"
   ]
  },
  {
   "cell_type": "code",
   "execution_count": 32,
   "metadata": {},
   "outputs": [],
   "source": [
    "models_cv.to_html('model_cv_pseudolabeling.html')"
   ]
  },
  {
   "cell_type": "code",
   "execution_count": 33,
   "metadata": {},
   "outputs": [
    {
     "output_type": "execute_result",
     "data": {
      "text/plain": [
       "                               Accuracy  Balanced Accuracy  ROC AUC  F1 Score  \\\n",
       "Model                                                                           \n",
       "LGBMClassifier                     0.51               0.74     0.74      0.63   \n",
       "XGBClassifier                      0.48               0.72     0.72      0.59   \n",
       "BaggingClassifier                  0.40               0.68     0.68      0.52   \n",
       "DecisionTreeClassifier             0.52               0.65     0.65      0.64   \n",
       "QuadraticDiscriminantAnalysis      0.82               0.62     0.62      0.86   \n",
       "ExtraTreesClassifier               0.18               0.57     0.57      0.24   \n",
       "LinearDiscriminantAnalysis         0.35               0.56     0.56      0.46   \n",
       "SGDClassifier                      0.16               0.56     0.56      0.20   \n",
       "AdaBoostClassifier                 0.34               0.56     0.56      0.45   \n",
       "RidgeClassifier                    0.32               0.54     0.54      0.42   \n",
       "RandomForestClassifier             0.13               0.54     0.54      0.15   \n",
       "PassiveAggressiveClassifier        0.30               0.54     0.54      0.41   \n",
       "LabelSpreading                     0.84               0.54     0.54      0.87   \n",
       "LabelPropagation                   0.84               0.54     0.54      0.87   \n",
       "NearestCentroid                    0.12               0.53     0.53      0.13   \n",
       "Perceptron                         0.29               0.53     0.53      0.40   \n",
       "ExtraTreeClassifier                0.28               0.53     0.53      0.38   \n",
       "BernoulliNB                        0.10               0.52     0.52      0.09   \n",
       "RidgeClassifierCV                  0.27               0.52     0.52      0.37   \n",
       "KNeighborsClassifier               0.07               0.51     0.51      0.03   \n",
       "CheckingClassifier                 0.95               0.50     0.50      0.92   \n",
       "GaussianNB                         0.57               0.49     0.49      0.68   \n",
       "LinearSVC                          0.34               0.46     0.46      0.46   \n",
       "NuSVC                              0.15               0.46     0.46      0.20   \n",
       "SVC                                0.15               0.46     0.46      0.20   \n",
       "DummyClassifier                    0.29               0.44     0.44      0.41   \n",
       "CalibratedClassifierCV             0.10               0.43     0.43      0.11   \n",
       "\n",
       "                               Time Taken  Precision_0  Precision_1  Recall_0  \\\n",
       "Model                                                                           \n",
       "LGBMClassifier                       1.65         1.00         0.10      0.48   \n",
       "XGBClassifier                       11.37         1.00         0.09      0.45   \n",
       "BaggingClassifier                    5.52         1.00         0.08      0.37   \n",
       "DecisionTreeClassifier               2.82         0.98         0.09      0.51   \n",
       "QuadraticDiscriminantAnalysis        3.33         0.96         0.12      0.84   \n",
       "ExtraTreesClassifier                11.16         1.00         0.06      0.14   \n",
       "LinearDiscriminantAnalysis           4.66         0.97         0.06      0.32   \n",
       "SGDClassifier                        1.65         1.00         0.06      0.11   \n",
       "AdaBoostClassifier                  12.32         0.96         0.06      0.31   \n",
       "RidgeClassifier                      1.06         0.96         0.06      0.29   \n",
       "RandomForestClassifier               5.80         1.00         0.06      0.08   \n",
       "PassiveAggressiveClassifier          1.29         0.96         0.06      0.28   \n",
       "LabelSpreading                       0.90         0.95         0.08      0.87   \n",
       "LabelPropagation                     0.90         0.95         0.08      0.87   \n",
       "NearestCentroid                      0.87         1.00         0.06      0.07   \n",
       "Perceptron                           1.10         0.96         0.06      0.26   \n",
       "ExtraTreeClassifier                  0.97         0.96         0.06      0.25   \n",
       "BernoulliNB                          0.86         1.00         0.06      0.05   \n",
       "RidgeClassifierCV                    1.21         0.95         0.06      0.24   \n",
       "KNeighborsClassifier                 3.20         1.00         0.05      0.01   \n",
       "CheckingClassifier                   0.79         0.95         0.00      1.00   \n",
       "GaussianNB                           0.98         0.94         0.05      0.57   \n",
       "LinearSVC                           19.06         0.93         0.05      0.32   \n",
       "NuSVC                               15.76         0.91         0.05      0.11   \n",
       "SVC                                 14.01         0.91         0.05      0.11   \n",
       "DummyClassifier                      0.78         0.92         0.05      0.28   \n",
       "CalibratedClassifierCV              74.79         0.83         0.05      0.06   \n",
       "\n",
       "                               Recall_1  F1_0  F1_1  ROC_AUC  \n",
       "Model                                                         \n",
       "LGBMClassifier                     1.00  0.65  0.18     0.74  \n",
       "XGBClassifier                      1.00  0.62  0.17     0.72  \n",
       "BaggingClassifier                  1.00  0.54  0.15     0.68  \n",
       "DecisionTreeClassifier             0.80  0.67  0.15     0.65  \n",
       "QuadraticDiscriminantAnalysis      0.40  0.90  0.19     0.62  \n",
       "ExtraTreesClassifier               1.00  0.24  0.12     0.57  \n",
       "LinearDiscriminantAnalysis         0.80  0.48  0.12     0.56  \n",
       "SGDClassifier                      1.00  0.21  0.11     0.56  \n",
       "AdaBoostClassifier                 0.80  0.47  0.12     0.56  \n",
       "RidgeClassifier                    0.80  0.44  0.11     0.54  \n",
       "RandomForestClassifier             1.00  0.15  0.11     0.54  \n",
       "PassiveAggressiveClassifier        0.80  0.43  0.11     0.54  \n",
       "LabelSpreading                     0.20  0.91  0.12     0.54  \n",
       "LabelPropagation                   0.20  0.91  0.12     0.54  \n",
       "NearestCentroid                    1.00  0.13  0.11     0.53  \n",
       "Perceptron                         0.80  0.41  0.11     0.53  \n",
       "ExtraTreeClassifier                0.80  0.40  0.11     0.53  \n",
       "BernoulliNB                        1.00  0.09  0.11     0.52  \n",
       "RidgeClassifierCV                  0.80  0.39  0.11     0.52  \n",
       "KNeighborsClassifier               1.00  0.02  0.10     0.51  \n",
       "CheckingClassifier                 0.00  0.97  0.00     0.50  \n",
       "GaussianNB                         0.40  0.71  0.09     0.49  \n",
       "LinearSVC                          0.60  0.48  0.09     0.46  \n",
       "NuSVC                              0.80  0.20  0.09     0.46  \n",
       "SVC                                0.80  0.20  0.09     0.46  \n",
       "DummyClassifier                    0.60  0.42  0.08     0.44  \n",
       "CalibratedClassifierCV             0.80  0.11  0.09     0.43  "
      ],
      "text/html": "<div>\n<style scoped>\n    .dataframe tbody tr th:only-of-type {\n        vertical-align: middle;\n    }\n\n    .dataframe tbody tr th {\n        vertical-align: top;\n    }\n\n    .dataframe thead th {\n        text-align: right;\n    }\n</style>\n<table border=\"1\" class=\"dataframe\">\n  <thead>\n    <tr style=\"text-align: right;\">\n      <th></th>\n      <th>Accuracy</th>\n      <th>Balanced Accuracy</th>\n      <th>ROC AUC</th>\n      <th>F1 Score</th>\n      <th>Time Taken</th>\n      <th>Precision_0</th>\n      <th>Precision_1</th>\n      <th>Recall_0</th>\n      <th>Recall_1</th>\n      <th>F1_0</th>\n      <th>F1_1</th>\n      <th>ROC_AUC</th>\n    </tr>\n    <tr>\n      <th>Model</th>\n      <th></th>\n      <th></th>\n      <th></th>\n      <th></th>\n      <th></th>\n      <th></th>\n      <th></th>\n      <th></th>\n      <th></th>\n      <th></th>\n      <th></th>\n      <th></th>\n    </tr>\n  </thead>\n  <tbody>\n    <tr>\n      <th>LGBMClassifier</th>\n      <td>0.51</td>\n      <td>0.74</td>\n      <td>0.74</td>\n      <td>0.63</td>\n      <td>1.65</td>\n      <td>1.00</td>\n      <td>0.10</td>\n      <td>0.48</td>\n      <td>1.00</td>\n      <td>0.65</td>\n      <td>0.18</td>\n      <td>0.74</td>\n    </tr>\n    <tr>\n      <th>XGBClassifier</th>\n      <td>0.48</td>\n      <td>0.72</td>\n      <td>0.72</td>\n      <td>0.59</td>\n      <td>11.37</td>\n      <td>1.00</td>\n      <td>0.09</td>\n      <td>0.45</td>\n      <td>1.00</td>\n      <td>0.62</td>\n      <td>0.17</td>\n      <td>0.72</td>\n    </tr>\n    <tr>\n      <th>BaggingClassifier</th>\n      <td>0.40</td>\n      <td>0.68</td>\n      <td>0.68</td>\n      <td>0.52</td>\n      <td>5.52</td>\n      <td>1.00</td>\n      <td>0.08</td>\n      <td>0.37</td>\n      <td>1.00</td>\n      <td>0.54</td>\n      <td>0.15</td>\n      <td>0.68</td>\n    </tr>\n    <tr>\n      <th>DecisionTreeClassifier</th>\n      <td>0.52</td>\n      <td>0.65</td>\n      <td>0.65</td>\n      <td>0.64</td>\n      <td>2.82</td>\n      <td>0.98</td>\n      <td>0.09</td>\n      <td>0.51</td>\n      <td>0.80</td>\n      <td>0.67</td>\n      <td>0.15</td>\n      <td>0.65</td>\n    </tr>\n    <tr>\n      <th>QuadraticDiscriminantAnalysis</th>\n      <td>0.82</td>\n      <td>0.62</td>\n      <td>0.62</td>\n      <td>0.86</td>\n      <td>3.33</td>\n      <td>0.96</td>\n      <td>0.12</td>\n      <td>0.84</td>\n      <td>0.40</td>\n      <td>0.90</td>\n      <td>0.19</td>\n      <td>0.62</td>\n    </tr>\n    <tr>\n      <th>ExtraTreesClassifier</th>\n      <td>0.18</td>\n      <td>0.57</td>\n      <td>0.57</td>\n      <td>0.24</td>\n      <td>11.16</td>\n      <td>1.00</td>\n      <td>0.06</td>\n      <td>0.14</td>\n      <td>1.00</td>\n      <td>0.24</td>\n      <td>0.12</td>\n      <td>0.57</td>\n    </tr>\n    <tr>\n      <th>LinearDiscriminantAnalysis</th>\n      <td>0.35</td>\n      <td>0.56</td>\n      <td>0.56</td>\n      <td>0.46</td>\n      <td>4.66</td>\n      <td>0.97</td>\n      <td>0.06</td>\n      <td>0.32</td>\n      <td>0.80</td>\n      <td>0.48</td>\n      <td>0.12</td>\n      <td>0.56</td>\n    </tr>\n    <tr>\n      <th>SGDClassifier</th>\n      <td>0.16</td>\n      <td>0.56</td>\n      <td>0.56</td>\n      <td>0.20</td>\n      <td>1.65</td>\n      <td>1.00</td>\n      <td>0.06</td>\n      <td>0.11</td>\n      <td>1.00</td>\n      <td>0.21</td>\n      <td>0.11</td>\n      <td>0.56</td>\n    </tr>\n    <tr>\n      <th>AdaBoostClassifier</th>\n      <td>0.34</td>\n      <td>0.56</td>\n      <td>0.56</td>\n      <td>0.45</td>\n      <td>12.32</td>\n      <td>0.96</td>\n      <td>0.06</td>\n      <td>0.31</td>\n      <td>0.80</td>\n      <td>0.47</td>\n      <td>0.12</td>\n      <td>0.56</td>\n    </tr>\n    <tr>\n      <th>RidgeClassifier</th>\n      <td>0.32</td>\n      <td>0.54</td>\n      <td>0.54</td>\n      <td>0.42</td>\n      <td>1.06</td>\n      <td>0.96</td>\n      <td>0.06</td>\n      <td>0.29</td>\n      <td>0.80</td>\n      <td>0.44</td>\n      <td>0.11</td>\n      <td>0.54</td>\n    </tr>\n    <tr>\n      <th>RandomForestClassifier</th>\n      <td>0.13</td>\n      <td>0.54</td>\n      <td>0.54</td>\n      <td>0.15</td>\n      <td>5.80</td>\n      <td>1.00</td>\n      <td>0.06</td>\n      <td>0.08</td>\n      <td>1.00</td>\n      <td>0.15</td>\n      <td>0.11</td>\n      <td>0.54</td>\n    </tr>\n    <tr>\n      <th>PassiveAggressiveClassifier</th>\n      <td>0.30</td>\n      <td>0.54</td>\n      <td>0.54</td>\n      <td>0.41</td>\n      <td>1.29</td>\n      <td>0.96</td>\n      <td>0.06</td>\n      <td>0.28</td>\n      <td>0.80</td>\n      <td>0.43</td>\n      <td>0.11</td>\n      <td>0.54</td>\n    </tr>\n    <tr>\n      <th>LabelSpreading</th>\n      <td>0.84</td>\n      <td>0.54</td>\n      <td>0.54</td>\n      <td>0.87</td>\n      <td>0.90</td>\n      <td>0.95</td>\n      <td>0.08</td>\n      <td>0.87</td>\n      <td>0.20</td>\n      <td>0.91</td>\n      <td>0.12</td>\n      <td>0.54</td>\n    </tr>\n    <tr>\n      <th>LabelPropagation</th>\n      <td>0.84</td>\n      <td>0.54</td>\n      <td>0.54</td>\n      <td>0.87</td>\n      <td>0.90</td>\n      <td>0.95</td>\n      <td>0.08</td>\n      <td>0.87</td>\n      <td>0.20</td>\n      <td>0.91</td>\n      <td>0.12</td>\n      <td>0.54</td>\n    </tr>\n    <tr>\n      <th>NearestCentroid</th>\n      <td>0.12</td>\n      <td>0.53</td>\n      <td>0.53</td>\n      <td>0.13</td>\n      <td>0.87</td>\n      <td>1.00</td>\n      <td>0.06</td>\n      <td>0.07</td>\n      <td>1.00</td>\n      <td>0.13</td>\n      <td>0.11</td>\n      <td>0.53</td>\n    </tr>\n    <tr>\n      <th>Perceptron</th>\n      <td>0.29</td>\n      <td>0.53</td>\n      <td>0.53</td>\n      <td>0.40</td>\n      <td>1.10</td>\n      <td>0.96</td>\n      <td>0.06</td>\n      <td>0.26</td>\n      <td>0.80</td>\n      <td>0.41</td>\n      <td>0.11</td>\n      <td>0.53</td>\n    </tr>\n    <tr>\n      <th>ExtraTreeClassifier</th>\n      <td>0.28</td>\n      <td>0.53</td>\n      <td>0.53</td>\n      <td>0.38</td>\n      <td>0.97</td>\n      <td>0.96</td>\n      <td>0.06</td>\n      <td>0.25</td>\n      <td>0.80</td>\n      <td>0.40</td>\n      <td>0.11</td>\n      <td>0.53</td>\n    </tr>\n    <tr>\n      <th>BernoulliNB</th>\n      <td>0.10</td>\n      <td>0.52</td>\n      <td>0.52</td>\n      <td>0.09</td>\n      <td>0.86</td>\n      <td>1.00</td>\n      <td>0.06</td>\n      <td>0.05</td>\n      <td>1.00</td>\n      <td>0.09</td>\n      <td>0.11</td>\n      <td>0.52</td>\n    </tr>\n    <tr>\n      <th>RidgeClassifierCV</th>\n      <td>0.27</td>\n      <td>0.52</td>\n      <td>0.52</td>\n      <td>0.37</td>\n      <td>1.21</td>\n      <td>0.95</td>\n      <td>0.06</td>\n      <td>0.24</td>\n      <td>0.80</td>\n      <td>0.39</td>\n      <td>0.11</td>\n      <td>0.52</td>\n    </tr>\n    <tr>\n      <th>KNeighborsClassifier</th>\n      <td>0.07</td>\n      <td>0.51</td>\n      <td>0.51</td>\n      <td>0.03</td>\n      <td>3.20</td>\n      <td>1.00</td>\n      <td>0.05</td>\n      <td>0.01</td>\n      <td>1.00</td>\n      <td>0.02</td>\n      <td>0.10</td>\n      <td>0.51</td>\n    </tr>\n    <tr>\n      <th>CheckingClassifier</th>\n      <td>0.95</td>\n      <td>0.50</td>\n      <td>0.50</td>\n      <td>0.92</td>\n      <td>0.79</td>\n      <td>0.95</td>\n      <td>0.00</td>\n      <td>1.00</td>\n      <td>0.00</td>\n      <td>0.97</td>\n      <td>0.00</td>\n      <td>0.50</td>\n    </tr>\n    <tr>\n      <th>GaussianNB</th>\n      <td>0.57</td>\n      <td>0.49</td>\n      <td>0.49</td>\n      <td>0.68</td>\n      <td>0.98</td>\n      <td>0.94</td>\n      <td>0.05</td>\n      <td>0.57</td>\n      <td>0.40</td>\n      <td>0.71</td>\n      <td>0.09</td>\n      <td>0.49</td>\n    </tr>\n    <tr>\n      <th>LinearSVC</th>\n      <td>0.34</td>\n      <td>0.46</td>\n      <td>0.46</td>\n      <td>0.46</td>\n      <td>19.06</td>\n      <td>0.93</td>\n      <td>0.05</td>\n      <td>0.32</td>\n      <td>0.60</td>\n      <td>0.48</td>\n      <td>0.09</td>\n      <td>0.46</td>\n    </tr>\n    <tr>\n      <th>NuSVC</th>\n      <td>0.15</td>\n      <td>0.46</td>\n      <td>0.46</td>\n      <td>0.20</td>\n      <td>15.76</td>\n      <td>0.91</td>\n      <td>0.05</td>\n      <td>0.11</td>\n      <td>0.80</td>\n      <td>0.20</td>\n      <td>0.09</td>\n      <td>0.46</td>\n    </tr>\n    <tr>\n      <th>SVC</th>\n      <td>0.15</td>\n      <td>0.46</td>\n      <td>0.46</td>\n      <td>0.20</td>\n      <td>14.01</td>\n      <td>0.91</td>\n      <td>0.05</td>\n      <td>0.11</td>\n      <td>0.80</td>\n      <td>0.20</td>\n      <td>0.09</td>\n      <td>0.46</td>\n    </tr>\n    <tr>\n      <th>DummyClassifier</th>\n      <td>0.29</td>\n      <td>0.44</td>\n      <td>0.44</td>\n      <td>0.41</td>\n      <td>0.78</td>\n      <td>0.92</td>\n      <td>0.05</td>\n      <td>0.28</td>\n      <td>0.60</td>\n      <td>0.42</td>\n      <td>0.08</td>\n      <td>0.44</td>\n    </tr>\n    <tr>\n      <th>CalibratedClassifierCV</th>\n      <td>0.10</td>\n      <td>0.43</td>\n      <td>0.43</td>\n      <td>0.11</td>\n      <td>74.79</td>\n      <td>0.83</td>\n      <td>0.05</td>\n      <td>0.06</td>\n      <td>0.80</td>\n      <td>0.11</td>\n      <td>0.09</td>\n      <td>0.43</td>\n    </tr>\n  </tbody>\n</table>\n</div>"
     },
     "metadata": {},
     "execution_count": 33
    }
   ],
   "source": [
    "models_cv['Precision_0'] = models_cv['custom_metric'].apply(lambda x: x['precision']['0.0'])\n",
    "models_cv['Precision_1'] = models_cv['custom_metric'].apply(lambda x: x['precision']['1.0'])\n",
    "models_cv['Recall_0'] = models_cv['custom_metric'].apply(lambda x: x['recall']['0.0'])\n",
    "models_cv['Recall_1'] = models_cv['custom_metric'].apply(lambda x: x['recall']['1.0'])\n",
    "models_cv['F1_0'] = models_cv['custom_metric'].apply(lambda x: x['f1-score']['0.0'])\n",
    "models_cv['F1_1'] = models_cv['custom_metric'].apply(lambda x: x['f1-score']['1.0'])\n",
    "models_cv['ROC_AUC'] = models_cv['custom_metric'].apply(lambda x: x['roc auc'])\n",
    "models_cv.drop('custom_metric', axis=1, inplace=True)\n",
    "models_cv"
   ]
  },
  {
   "cell_type": "code",
   "execution_count": 34,
   "metadata": {},
   "outputs": [
    {
     "output_type": "execute_result",
     "data": {
      "text/plain": [
       "<pandas.io.formats.style.Styler at 0x7f8e1be92370>"
      ],
      "text/html": "<style  type=\"text/css\" >\n#T_853b8_row0_col0,#T_853b8_row0_col3,#T_853b8_row0_col6,#T_853b8_row1_col0,#T_853b8_row1_col3,#T_853b8_row2_col0,#T_853b8_row2_col3,#T_853b8_row4_col1,#T_853b8_row4_col2,#T_853b8_row4_col4,#T_853b8_row4_col5{\n            background-color:  #023858;\n            color:  #f1f1f1;\n        }#T_853b8_row0_col1{\n            background-color:  #9cb9d9;\n            color:  #000000;\n        }#T_853b8_row0_col2{\n            background-color:  #d2d2e7;\n            color:  #000000;\n        }#T_853b8_row0_col4{\n            background-color:  #b9c6e0;\n            color:  #000000;\n        }#T_853b8_row0_col5{\n            background-color:  #056dac;\n            color:  #f1f1f1;\n        }#T_853b8_row1_col1{\n            background-color:  #cccfe5;\n            color:  #000000;\n        }#T_853b8_row1_col2{\n            background-color:  #e2dfee;\n            color:  #000000;\n        }#T_853b8_row1_col4{\n            background-color:  #d5d5e8;\n            color:  #000000;\n        }#T_853b8_row1_col5{\n            background-color:  #71a8ce;\n            color:  #000000;\n        }#T_853b8_row1_col6{\n            background-color:  #045d92;\n            color:  #f1f1f1;\n        }#T_853b8_row2_col1,#T_853b8_row2_col2,#T_853b8_row2_col4,#T_853b8_row2_col5,#T_853b8_row3_col5,#T_853b8_row4_col0,#T_853b8_row4_col3,#T_853b8_row4_col6{\n            background-color:  #fff7fb;\n            color:  #000000;\n        }#T_853b8_row2_col6{\n            background-color:  #65a3cb;\n            color:  #000000;\n        }#T_853b8_row3_col0{\n            background-color:  #8eb3d5;\n            color:  #000000;\n        }#T_853b8_row3_col1{\n            background-color:  #f9f2f8;\n            color:  #000000;\n        }#T_853b8_row3_col2{\n            background-color:  #c2cbe2;\n            color:  #000000;\n        }#T_853b8_row3_col3{\n            background-color:  #2685bb;\n            color:  #000000;\n        }#T_853b8_row3_col4{\n            background-color:  #abbfdc;\n            color:  #000000;\n        }#T_853b8_row3_col6{\n            background-color:  #c8cde4;\n            color:  #000000;\n        }</style><table id=\"T_853b8_\" ><thead>    <tr>        <th class=\"blank level0\" ></th>        <th class=\"col_heading level0 col0\" >Precision_0</th>        <th class=\"col_heading level0 col1\" >Precision_1</th>        <th class=\"col_heading level0 col2\" >Recall_0</th>        <th class=\"col_heading level0 col3\" >Recall_1</th>        <th class=\"col_heading level0 col4\" >F1_0</th>        <th class=\"col_heading level0 col5\" >F1_1</th>        <th class=\"col_heading level0 col6\" >ROC AUC</th>    </tr>    <tr>        <th class=\"index_name level0\" >Model</th>        <th class=\"blank\" ></th>        <th class=\"blank\" ></th>        <th class=\"blank\" ></th>        <th class=\"blank\" ></th>        <th class=\"blank\" ></th>        <th class=\"blank\" ></th>        <th class=\"blank\" ></th>    </tr></thead><tbody>\n                <tr>\n                        <th id=\"T_853b8_level0_row0\" class=\"row_heading level0 row0\" >LGBMClassifier</th>\n                        <td id=\"T_853b8_row0_col0\" class=\"data row0 col0\" >1.00</td>\n                        <td id=\"T_853b8_row0_col1\" class=\"data row0 col1\" >0.10</td>\n                        <td id=\"T_853b8_row0_col2\" class=\"data row0 col2\" >0.48</td>\n                        <td id=\"T_853b8_row0_col3\" class=\"data row0 col3\" >1.00</td>\n                        <td id=\"T_853b8_row0_col4\" class=\"data row0 col4\" >0.65</td>\n                        <td id=\"T_853b8_row0_col5\" class=\"data row0 col5\" >0.18</td>\n                        <td id=\"T_853b8_row0_col6\" class=\"data row0 col6\" >0.74</td>\n            </tr>\n            <tr>\n                        <th id=\"T_853b8_level0_row1\" class=\"row_heading level0 row1\" >XGBClassifier</th>\n                        <td id=\"T_853b8_row1_col0\" class=\"data row1 col0\" >1.00</td>\n                        <td id=\"T_853b8_row1_col1\" class=\"data row1 col1\" >0.09</td>\n                        <td id=\"T_853b8_row1_col2\" class=\"data row1 col2\" >0.45</td>\n                        <td id=\"T_853b8_row1_col3\" class=\"data row1 col3\" >1.00</td>\n                        <td id=\"T_853b8_row1_col4\" class=\"data row1 col4\" >0.62</td>\n                        <td id=\"T_853b8_row1_col5\" class=\"data row1 col5\" >0.17</td>\n                        <td id=\"T_853b8_row1_col6\" class=\"data row1 col6\" >0.72</td>\n            </tr>\n            <tr>\n                        <th id=\"T_853b8_level0_row2\" class=\"row_heading level0 row2\" >BaggingClassifier</th>\n                        <td id=\"T_853b8_row2_col0\" class=\"data row2 col0\" >1.00</td>\n                        <td id=\"T_853b8_row2_col1\" class=\"data row2 col1\" >0.08</td>\n                        <td id=\"T_853b8_row2_col2\" class=\"data row2 col2\" >0.37</td>\n                        <td id=\"T_853b8_row2_col3\" class=\"data row2 col3\" >1.00</td>\n                        <td id=\"T_853b8_row2_col4\" class=\"data row2 col4\" >0.54</td>\n                        <td id=\"T_853b8_row2_col5\" class=\"data row2 col5\" >0.15</td>\n                        <td id=\"T_853b8_row2_col6\" class=\"data row2 col6\" >0.68</td>\n            </tr>\n            <tr>\n                        <th id=\"T_853b8_level0_row3\" class=\"row_heading level0 row3\" >DecisionTreeClassifier</th>\n                        <td id=\"T_853b8_row3_col0\" class=\"data row3 col0\" >0.98</td>\n                        <td id=\"T_853b8_row3_col1\" class=\"data row3 col1\" >0.09</td>\n                        <td id=\"T_853b8_row3_col2\" class=\"data row3 col2\" >0.51</td>\n                        <td id=\"T_853b8_row3_col3\" class=\"data row3 col3\" >0.80</td>\n                        <td id=\"T_853b8_row3_col4\" class=\"data row3 col4\" >0.67</td>\n                        <td id=\"T_853b8_row3_col5\" class=\"data row3 col5\" >0.15</td>\n                        <td id=\"T_853b8_row3_col6\" class=\"data row3 col6\" >0.65</td>\n            </tr>\n            <tr>\n                        <th id=\"T_853b8_level0_row4\" class=\"row_heading level0 row4\" >QuadraticDiscriminantAnalysis</th>\n                        <td id=\"T_853b8_row4_col0\" class=\"data row4 col0\" >0.96</td>\n                        <td id=\"T_853b8_row4_col1\" class=\"data row4 col1\" >0.12</td>\n                        <td id=\"T_853b8_row4_col2\" class=\"data row4 col2\" >0.84</td>\n                        <td id=\"T_853b8_row4_col3\" class=\"data row4 col3\" >0.40</td>\n                        <td id=\"T_853b8_row4_col4\" class=\"data row4 col4\" >0.90</td>\n                        <td id=\"T_853b8_row4_col5\" class=\"data row4 col5\" >0.19</td>\n                        <td id=\"T_853b8_row4_col6\" class=\"data row4 col6\" >0.62</td>\n            </tr>\n    </tbody></table>"
     },
     "metadata": {},
     "execution_count": 34
    }
   ],
   "source": [
    "models_cv[['Precision_0', 'Precision_1', 'Recall_0', 'Recall_1', 'F1_0', 'F1_1', 'ROC AUC']].head(5).style.background_gradient(cmap='PuBu')"
   ]
  },
  {
   "cell_type": "code",
   "execution_count": 35,
   "metadata": {},
   "outputs": [
    {
     "output_type": "execute_result",
     "data": {
      "text/plain": [
       "                               Accuracy  Balanced Accuracy  ROC AUC  F1 Score  \\\n",
       "Model                                                                           \n",
       "DecisionTreeClassifier             0.39               0.68     0.68      0.51   \n",
       "BaggingClassifier                  0.35               0.66     0.66      0.46   \n",
       "ExtraTreeClassifier                0.29               0.63     0.63      0.39   \n",
       "LGBMClassifier                     0.26               0.61     0.61      0.35   \n",
       "XGBClassifier                      0.26               0.61     0.61      0.35   \n",
       "SGDClassifier                      0.20               0.57     0.57      0.25   \n",
       "ExtraTreesClassifier               0.17               0.56     0.56      0.22   \n",
       "PassiveAggressiveClassifier        0.35               0.56     0.56      0.46   \n",
       "RandomForestClassifier             0.15               0.55     0.55      0.18   \n",
       "LinearSVC                          0.32               0.54     0.54      0.42   \n",
       "NearestCentroid                    0.13               0.54     0.54      0.15   \n",
       "Perceptron                         0.30               0.54     0.54      0.41   \n",
       "LabelPropagation                   0.84               0.54     0.54      0.87   \n",
       "LabelSpreading                     0.84               0.54     0.54      0.87   \n",
       "CalibratedClassifierCV             0.10               0.52     0.52      0.09   \n",
       "BernoulliNB                        0.10               0.52     0.52      0.09   \n",
       "QuadraticDiscriminantAnalysis      0.80               0.52     0.52      0.85   \n",
       "AdaBoostClassifier                 0.26               0.51     0.51      0.36   \n",
       "LinearDiscriminantAnalysis         0.26               0.51     0.51      0.36   \n",
       "KNeighborsClassifier               0.07               0.51     0.51      0.03   \n",
       "RidgeClassifier                    0.24               0.50     0.50      0.33   \n",
       "RidgeClassifierCV                  0.24               0.50     0.50      0.33   \n",
       "CheckingClassifier                 0.95               0.50     0.50      0.92   \n",
       "GaussianNB                         0.58               0.49     0.49      0.69   \n",
       "DummyClassifier                    0.29               0.44     0.44      0.41   \n",
       "NuSVC                              0.45               0.42     0.42      0.58   \n",
       "SVC                                0.45               0.42     0.42      0.58   \n",
       "\n",
       "                               Time Taken  Precision_0  Precision_1  Recall_0  \\\n",
       "Model                                                                           \n",
       "DecisionTreeClassifier               1.45         1.00         0.08      0.36   \n",
       "BaggingClassifier                    3.19         1.00         0.08      0.31   \n",
       "ExtraTreeClassifier                  0.94         1.00         0.07      0.25   \n",
       "LGBMClassifier                       1.67         1.00         0.07      0.22   \n",
       "XGBClassifier                       10.99         1.00         0.07      0.22   \n",
       "SGDClassifier                        1.34         1.00         0.06      0.15   \n",
       "ExtraTreesClassifier                 9.66         1.00         0.06      0.13   \n",
       "PassiveAggressiveClassifier          1.30         0.97         0.06      0.32   \n",
       "RandomForestClassifier               4.04         1.00         0.06      0.10   \n",
       "LinearSVC                           20.22         0.96         0.06      0.29   \n",
       "NearestCentroid                      0.88         1.00         0.06      0.08   \n",
       "Perceptron                           0.96         0.96         0.06      0.28   \n",
       "LabelPropagation                     0.91         0.95         0.08      0.87   \n",
       "LabelSpreading                       0.90         0.95         0.08      0.87   \n",
       "CalibratedClassifierCV              79.18         1.00         0.06      0.05   \n",
       "BernoulliNB                          0.88         1.00         0.06      0.05   \n",
       "QuadraticDiscriminantAnalysis        3.59         0.95         0.07      0.84   \n",
       "AdaBoostClassifier                  12.44         0.95         0.06      0.23   \n",
       "LinearDiscriminantAnalysis           4.67         0.95         0.06      0.23   \n",
       "KNeighborsClassifier                 3.20         1.00         0.05      0.01   \n",
       "RidgeClassifier                      1.05         0.95         0.05      0.21   \n",
       "RidgeClassifierCV                    1.20         0.95         0.05      0.21   \n",
       "CheckingClassifier                   0.67         0.95         0.00      1.00   \n",
       "GaussianNB                           0.99         0.94         0.05      0.59   \n",
       "DummyClassifier                      0.79         0.92         0.05      0.28   \n",
       "NuSVC                               15.91         0.93         0.04      0.45   \n",
       "SVC                                 13.88         0.93         0.04      0.45   \n",
       "\n",
       "                               Recall_1  F1_0  F1_1  ROC_AUC  \n",
       "Model                                                         \n",
       "DecisionTreeClassifier             1.00  0.53  0.15     0.68  \n",
       "BaggingClassifier                  1.00  0.47  0.14     0.66  \n",
       "ExtraTreeClassifier                1.00  0.40  0.13     0.63  \n",
       "LGBMClassifier                     1.00  0.36  0.13     0.61  \n",
       "XGBClassifier                      1.00  0.36  0.13     0.61  \n",
       "SGDClassifier                      1.00  0.26  0.12     0.57  \n",
       "ExtraTreesClassifier               1.00  0.22  0.12     0.56  \n",
       "PassiveAggressiveClassifier        0.80  0.48  0.12     0.56  \n",
       "RandomForestClassifier             1.00  0.19  0.11     0.55  \n",
       "LinearSVC                          0.80  0.44  0.11     0.54  \n",
       "NearestCentroid                    1.00  0.15  0.11     0.54  \n",
       "Perceptron                         0.80  0.43  0.11     0.54  \n",
       "LabelPropagation                   0.20  0.91  0.12     0.54  \n",
       "LabelSpreading                     0.20  0.91  0.12     0.54  \n",
       "CalibratedClassifierCV             1.00  0.09  0.11     0.52  \n",
       "BernoulliNB                        1.00  0.09  0.11     0.52  \n",
       "QuadraticDiscriminantAnalysis      0.20  0.89  0.10     0.52  \n",
       "AdaBoostClassifier                 0.80  0.37  0.11     0.51  \n",
       "LinearDiscriminantAnalysis         0.80  0.37  0.11     0.51  \n",
       "KNeighborsClassifier               1.00  0.02  0.10     0.51  \n",
       "RidgeClassifier                    0.80  0.34  0.10     0.50  \n",
       "RidgeClassifierCV                  0.80  0.34  0.10     0.50  \n",
       "CheckingClassifier                 0.00  0.97  0.00     0.50  \n",
       "GaussianNB                         0.40  0.72  0.09     0.49  \n",
       "DummyClassifier                    0.60  0.42  0.08     0.44  \n",
       "NuSVC                              0.40  0.60  0.07     0.42  \n",
       "SVC                                0.40  0.60  0.07     0.42  "
      ],
      "text/html": "<div>\n<style scoped>\n    .dataframe tbody tr th:only-of-type {\n        vertical-align: middle;\n    }\n\n    .dataframe tbody tr th {\n        vertical-align: top;\n    }\n\n    .dataframe thead th {\n        text-align: right;\n    }\n</style>\n<table border=\"1\" class=\"dataframe\">\n  <thead>\n    <tr style=\"text-align: right;\">\n      <th></th>\n      <th>Accuracy</th>\n      <th>Balanced Accuracy</th>\n      <th>ROC AUC</th>\n      <th>F1 Score</th>\n      <th>Time Taken</th>\n      <th>Precision_0</th>\n      <th>Precision_1</th>\n      <th>Recall_0</th>\n      <th>Recall_1</th>\n      <th>F1_0</th>\n      <th>F1_1</th>\n      <th>ROC_AUC</th>\n    </tr>\n    <tr>\n      <th>Model</th>\n      <th></th>\n      <th></th>\n      <th></th>\n      <th></th>\n      <th></th>\n      <th></th>\n      <th></th>\n      <th></th>\n      <th></th>\n      <th></th>\n      <th></th>\n      <th></th>\n    </tr>\n  </thead>\n  <tbody>\n    <tr>\n      <th>DecisionTreeClassifier</th>\n      <td>0.39</td>\n      <td>0.68</td>\n      <td>0.68</td>\n      <td>0.51</td>\n      <td>1.45</td>\n      <td>1.00</td>\n      <td>0.08</td>\n      <td>0.36</td>\n      <td>1.00</td>\n      <td>0.53</td>\n      <td>0.15</td>\n      <td>0.68</td>\n    </tr>\n    <tr>\n      <th>BaggingClassifier</th>\n      <td>0.35</td>\n      <td>0.66</td>\n      <td>0.66</td>\n      <td>0.46</td>\n      <td>3.19</td>\n      <td>1.00</td>\n      <td>0.08</td>\n      <td>0.31</td>\n      <td>1.00</td>\n      <td>0.47</td>\n      <td>0.14</td>\n      <td>0.66</td>\n    </tr>\n    <tr>\n      <th>ExtraTreeClassifier</th>\n      <td>0.29</td>\n      <td>0.63</td>\n      <td>0.63</td>\n      <td>0.39</td>\n      <td>0.94</td>\n      <td>1.00</td>\n      <td>0.07</td>\n      <td>0.25</td>\n      <td>1.00</td>\n      <td>0.40</td>\n      <td>0.13</td>\n      <td>0.63</td>\n    </tr>\n    <tr>\n      <th>LGBMClassifier</th>\n      <td>0.26</td>\n      <td>0.61</td>\n      <td>0.61</td>\n      <td>0.35</td>\n      <td>1.67</td>\n      <td>1.00</td>\n      <td>0.07</td>\n      <td>0.22</td>\n      <td>1.00</td>\n      <td>0.36</td>\n      <td>0.13</td>\n      <td>0.61</td>\n    </tr>\n    <tr>\n      <th>XGBClassifier</th>\n      <td>0.26</td>\n      <td>0.61</td>\n      <td>0.61</td>\n      <td>0.35</td>\n      <td>10.99</td>\n      <td>1.00</td>\n      <td>0.07</td>\n      <td>0.22</td>\n      <td>1.00</td>\n      <td>0.36</td>\n      <td>0.13</td>\n      <td>0.61</td>\n    </tr>\n    <tr>\n      <th>SGDClassifier</th>\n      <td>0.20</td>\n      <td>0.57</td>\n      <td>0.57</td>\n      <td>0.25</td>\n      <td>1.34</td>\n      <td>1.00</td>\n      <td>0.06</td>\n      <td>0.15</td>\n      <td>1.00</td>\n      <td>0.26</td>\n      <td>0.12</td>\n      <td>0.57</td>\n    </tr>\n    <tr>\n      <th>ExtraTreesClassifier</th>\n      <td>0.17</td>\n      <td>0.56</td>\n      <td>0.56</td>\n      <td>0.22</td>\n      <td>9.66</td>\n      <td>1.00</td>\n      <td>0.06</td>\n      <td>0.13</td>\n      <td>1.00</td>\n      <td>0.22</td>\n      <td>0.12</td>\n      <td>0.56</td>\n    </tr>\n    <tr>\n      <th>PassiveAggressiveClassifier</th>\n      <td>0.35</td>\n      <td>0.56</td>\n      <td>0.56</td>\n      <td>0.46</td>\n      <td>1.30</td>\n      <td>0.97</td>\n      <td>0.06</td>\n      <td>0.32</td>\n      <td>0.80</td>\n      <td>0.48</td>\n      <td>0.12</td>\n      <td>0.56</td>\n    </tr>\n    <tr>\n      <th>RandomForestClassifier</th>\n      <td>0.15</td>\n      <td>0.55</td>\n      <td>0.55</td>\n      <td>0.18</td>\n      <td>4.04</td>\n      <td>1.00</td>\n      <td>0.06</td>\n      <td>0.10</td>\n      <td>1.00</td>\n      <td>0.19</td>\n      <td>0.11</td>\n      <td>0.55</td>\n    </tr>\n    <tr>\n      <th>LinearSVC</th>\n      <td>0.32</td>\n      <td>0.54</td>\n      <td>0.54</td>\n      <td>0.42</td>\n      <td>20.22</td>\n      <td>0.96</td>\n      <td>0.06</td>\n      <td>0.29</td>\n      <td>0.80</td>\n      <td>0.44</td>\n      <td>0.11</td>\n      <td>0.54</td>\n    </tr>\n    <tr>\n      <th>NearestCentroid</th>\n      <td>0.13</td>\n      <td>0.54</td>\n      <td>0.54</td>\n      <td>0.15</td>\n      <td>0.88</td>\n      <td>1.00</td>\n      <td>0.06</td>\n      <td>0.08</td>\n      <td>1.00</td>\n      <td>0.15</td>\n      <td>0.11</td>\n      <td>0.54</td>\n    </tr>\n    <tr>\n      <th>Perceptron</th>\n      <td>0.30</td>\n      <td>0.54</td>\n      <td>0.54</td>\n      <td>0.41</td>\n      <td>0.96</td>\n      <td>0.96</td>\n      <td>0.06</td>\n      <td>0.28</td>\n      <td>0.80</td>\n      <td>0.43</td>\n      <td>0.11</td>\n      <td>0.54</td>\n    </tr>\n    <tr>\n      <th>LabelPropagation</th>\n      <td>0.84</td>\n      <td>0.54</td>\n      <td>0.54</td>\n      <td>0.87</td>\n      <td>0.91</td>\n      <td>0.95</td>\n      <td>0.08</td>\n      <td>0.87</td>\n      <td>0.20</td>\n      <td>0.91</td>\n      <td>0.12</td>\n      <td>0.54</td>\n    </tr>\n    <tr>\n      <th>LabelSpreading</th>\n      <td>0.84</td>\n      <td>0.54</td>\n      <td>0.54</td>\n      <td>0.87</td>\n      <td>0.90</td>\n      <td>0.95</td>\n      <td>0.08</td>\n      <td>0.87</td>\n      <td>0.20</td>\n      <td>0.91</td>\n      <td>0.12</td>\n      <td>0.54</td>\n    </tr>\n    <tr>\n      <th>CalibratedClassifierCV</th>\n      <td>0.10</td>\n      <td>0.52</td>\n      <td>0.52</td>\n      <td>0.09</td>\n      <td>79.18</td>\n      <td>1.00</td>\n      <td>0.06</td>\n      <td>0.05</td>\n      <td>1.00</td>\n      <td>0.09</td>\n      <td>0.11</td>\n      <td>0.52</td>\n    </tr>\n    <tr>\n      <th>BernoulliNB</th>\n      <td>0.10</td>\n      <td>0.52</td>\n      <td>0.52</td>\n      <td>0.09</td>\n      <td>0.88</td>\n      <td>1.00</td>\n      <td>0.06</td>\n      <td>0.05</td>\n      <td>1.00</td>\n      <td>0.09</td>\n      <td>0.11</td>\n      <td>0.52</td>\n    </tr>\n    <tr>\n      <th>QuadraticDiscriminantAnalysis</th>\n      <td>0.80</td>\n      <td>0.52</td>\n      <td>0.52</td>\n      <td>0.85</td>\n      <td>3.59</td>\n      <td>0.95</td>\n      <td>0.07</td>\n      <td>0.84</td>\n      <td>0.20</td>\n      <td>0.89</td>\n      <td>0.10</td>\n      <td>0.52</td>\n    </tr>\n    <tr>\n      <th>AdaBoostClassifier</th>\n      <td>0.26</td>\n      <td>0.51</td>\n      <td>0.51</td>\n      <td>0.36</td>\n      <td>12.44</td>\n      <td>0.95</td>\n      <td>0.06</td>\n      <td>0.23</td>\n      <td>0.80</td>\n      <td>0.37</td>\n      <td>0.11</td>\n      <td>0.51</td>\n    </tr>\n    <tr>\n      <th>LinearDiscriminantAnalysis</th>\n      <td>0.26</td>\n      <td>0.51</td>\n      <td>0.51</td>\n      <td>0.36</td>\n      <td>4.67</td>\n      <td>0.95</td>\n      <td>0.06</td>\n      <td>0.23</td>\n      <td>0.80</td>\n      <td>0.37</td>\n      <td>0.11</td>\n      <td>0.51</td>\n    </tr>\n    <tr>\n      <th>KNeighborsClassifier</th>\n      <td>0.07</td>\n      <td>0.51</td>\n      <td>0.51</td>\n      <td>0.03</td>\n      <td>3.20</td>\n      <td>1.00</td>\n      <td>0.05</td>\n      <td>0.01</td>\n      <td>1.00</td>\n      <td>0.02</td>\n      <td>0.10</td>\n      <td>0.51</td>\n    </tr>\n    <tr>\n      <th>RidgeClassifier</th>\n      <td>0.24</td>\n      <td>0.50</td>\n      <td>0.50</td>\n      <td>0.33</td>\n      <td>1.05</td>\n      <td>0.95</td>\n      <td>0.05</td>\n      <td>0.21</td>\n      <td>0.80</td>\n      <td>0.34</td>\n      <td>0.10</td>\n      <td>0.50</td>\n    </tr>\n    <tr>\n      <th>RidgeClassifierCV</th>\n      <td>0.24</td>\n      <td>0.50</td>\n      <td>0.50</td>\n      <td>0.33</td>\n      <td>1.20</td>\n      <td>0.95</td>\n      <td>0.05</td>\n      <td>0.21</td>\n      <td>0.80</td>\n      <td>0.34</td>\n      <td>0.10</td>\n      <td>0.50</td>\n    </tr>\n    <tr>\n      <th>CheckingClassifier</th>\n      <td>0.95</td>\n      <td>0.50</td>\n      <td>0.50</td>\n      <td>0.92</td>\n      <td>0.67</td>\n      <td>0.95</td>\n      <td>0.00</td>\n      <td>1.00</td>\n      <td>0.00</td>\n      <td>0.97</td>\n      <td>0.00</td>\n      <td>0.50</td>\n    </tr>\n    <tr>\n      <th>GaussianNB</th>\n      <td>0.58</td>\n      <td>0.49</td>\n      <td>0.49</td>\n      <td>0.69</td>\n      <td>0.99</td>\n      <td>0.94</td>\n      <td>0.05</td>\n      <td>0.59</td>\n      <td>0.40</td>\n      <td>0.72</td>\n      <td>0.09</td>\n      <td>0.49</td>\n    </tr>\n    <tr>\n      <th>DummyClassifier</th>\n      <td>0.29</td>\n      <td>0.44</td>\n      <td>0.44</td>\n      <td>0.41</td>\n      <td>0.79</td>\n      <td>0.92</td>\n      <td>0.05</td>\n      <td>0.28</td>\n      <td>0.60</td>\n      <td>0.42</td>\n      <td>0.08</td>\n      <td>0.44</td>\n    </tr>\n    <tr>\n      <th>NuSVC</th>\n      <td>0.45</td>\n      <td>0.42</td>\n      <td>0.42</td>\n      <td>0.58</td>\n      <td>15.91</td>\n      <td>0.93</td>\n      <td>0.04</td>\n      <td>0.45</td>\n      <td>0.40</td>\n      <td>0.60</td>\n      <td>0.07</td>\n      <td>0.42</td>\n    </tr>\n    <tr>\n      <th>SVC</th>\n      <td>0.45</td>\n      <td>0.42</td>\n      <td>0.42</td>\n      <td>0.58</td>\n      <td>13.88</td>\n      <td>0.93</td>\n      <td>0.04</td>\n      <td>0.45</td>\n      <td>0.40</td>\n      <td>0.60</td>\n      <td>0.07</td>\n      <td>0.42</td>\n    </tr>\n  </tbody>\n</table>\n</div>"
     },
     "metadata": {},
     "execution_count": 35
    }
   ],
   "source": [
    "models_tv['Precision_0'] = models_tv['custom_metric'].apply(lambda x: x['precision']['0.0'])\n",
    "models_tv['Precision_1'] = models_tv['custom_metric'].apply(lambda x: x['precision']['1.0'])\n",
    "models_tv['Recall_0'] = models_tv['custom_metric'].apply(lambda x: x['recall']['0.0'])\n",
    "models_tv['Recall_1'] = models_tv['custom_metric'].apply(lambda x: x['recall']['1.0'])\n",
    "models_tv['F1_0'] = models_tv['custom_metric'].apply(lambda x: x['f1-score']['0.0'])\n",
    "models_tv['F1_1'] = models_tv['custom_metric'].apply(lambda x: x['f1-score']['1.0'])\n",
    "models_tv['ROC_AUC'] = models_tv['custom_metric'].apply(lambda x: x['roc auc'])\n",
    "models_tv.drop('custom_metric', axis=1, inplace=True)\n",
    "models_tv"
   ]
  },
  {
   "cell_type": "code",
   "execution_count": 36,
   "metadata": {},
   "outputs": [
    {
     "output_type": "execute_result",
     "data": {
      "text/plain": [
       "<pandas.io.formats.style.Styler at 0x7f8e1a4b67f0>"
      ],
      "text/html": "<style  type=\"text/css\" >\n#T_1972b_row0_col0,#T_1972b_row0_col3,#T_1972b_row1_col0,#T_1972b_row1_col3,#T_1972b_row2_col0,#T_1972b_row2_col3,#T_1972b_row3_col0,#T_1972b_row3_col1,#T_1972b_row3_col2,#T_1972b_row3_col3,#T_1972b_row3_col4,#T_1972b_row3_col5,#T_1972b_row3_col6,#T_1972b_row4_col0,#T_1972b_row4_col1,#T_1972b_row4_col2,#T_1972b_row4_col3,#T_1972b_row4_col4,#T_1972b_row4_col5,#T_1972b_row4_col6{\n            background-color:  #fff7fb;\n            color:  #000000;\n        }#T_1972b_row0_col1,#T_1972b_row0_col2,#T_1972b_row0_col4,#T_1972b_row0_col5,#T_1972b_row0_col6{\n            background-color:  #023858;\n            color:  #f1f1f1;\n        }#T_1972b_row1_col1,#T_1972b_row1_col5{\n            background-color:  #358fc0;\n            color:  #000000;\n        }#T_1972b_row1_col2,#T_1972b_row1_col6{\n            background-color:  #2685bb;\n            color:  #000000;\n        }#T_1972b_row1_col4{\n            background-color:  #1c7fb8;\n            color:  #000000;\n        }#T_1972b_row2_col1{\n            background-color:  #d8d7e9;\n            color:  #000000;\n        }#T_1972b_row2_col2{\n            background-color:  #d0d1e6;\n            color:  #000000;\n        }#T_1972b_row2_col4{\n            background-color:  #c9cee4;\n            color:  #000000;\n        }#T_1972b_row2_col5{\n            background-color:  #d7d6e9;\n            color:  #000000;\n        }#T_1972b_row2_col6{\n            background-color:  #d1d2e6;\n            color:  #000000;\n        }</style><table id=\"T_1972b_\" ><thead>    <tr>        <th class=\"blank level0\" ></th>        <th class=\"col_heading level0 col0\" >Precision_0</th>        <th class=\"col_heading level0 col1\" >Precision_1</th>        <th class=\"col_heading level0 col2\" >Recall_0</th>        <th class=\"col_heading level0 col3\" >Recall_1</th>        <th class=\"col_heading level0 col4\" >F1_0</th>        <th class=\"col_heading level0 col5\" >F1_1</th>        <th class=\"col_heading level0 col6\" >ROC AUC</th>    </tr>    <tr>        <th class=\"index_name level0\" >Model</th>        <th class=\"blank\" ></th>        <th class=\"blank\" ></th>        <th class=\"blank\" ></th>        <th class=\"blank\" ></th>        <th class=\"blank\" ></th>        <th class=\"blank\" ></th>        <th class=\"blank\" ></th>    </tr></thead><tbody>\n                <tr>\n                        <th id=\"T_1972b_level0_row0\" class=\"row_heading level0 row0\" >DecisionTreeClassifier</th>\n                        <td id=\"T_1972b_row0_col0\" class=\"data row0 col0\" >1.00</td>\n                        <td id=\"T_1972b_row0_col1\" class=\"data row0 col1\" >0.08</td>\n                        <td id=\"T_1972b_row0_col2\" class=\"data row0 col2\" >0.36</td>\n                        <td id=\"T_1972b_row0_col3\" class=\"data row0 col3\" >1.00</td>\n                        <td id=\"T_1972b_row0_col4\" class=\"data row0 col4\" >0.53</td>\n                        <td id=\"T_1972b_row0_col5\" class=\"data row0 col5\" >0.15</td>\n                        <td id=\"T_1972b_row0_col6\" class=\"data row0 col6\" >0.68</td>\n            </tr>\n            <tr>\n                        <th id=\"T_1972b_level0_row1\" class=\"row_heading level0 row1\" >BaggingClassifier</th>\n                        <td id=\"T_1972b_row1_col0\" class=\"data row1 col0\" >1.00</td>\n                        <td id=\"T_1972b_row1_col1\" class=\"data row1 col1\" >0.08</td>\n                        <td id=\"T_1972b_row1_col2\" class=\"data row1 col2\" >0.31</td>\n                        <td id=\"T_1972b_row1_col3\" class=\"data row1 col3\" >1.00</td>\n                        <td id=\"T_1972b_row1_col4\" class=\"data row1 col4\" >0.47</td>\n                        <td id=\"T_1972b_row1_col5\" class=\"data row1 col5\" >0.14</td>\n                        <td id=\"T_1972b_row1_col6\" class=\"data row1 col6\" >0.66</td>\n            </tr>\n            <tr>\n                        <th id=\"T_1972b_level0_row2\" class=\"row_heading level0 row2\" >ExtraTreeClassifier</th>\n                        <td id=\"T_1972b_row2_col0\" class=\"data row2 col0\" >1.00</td>\n                        <td id=\"T_1972b_row2_col1\" class=\"data row2 col1\" >0.07</td>\n                        <td id=\"T_1972b_row2_col2\" class=\"data row2 col2\" >0.25</td>\n                        <td id=\"T_1972b_row2_col3\" class=\"data row2 col3\" >1.00</td>\n                        <td id=\"T_1972b_row2_col4\" class=\"data row2 col4\" >0.40</td>\n                        <td id=\"T_1972b_row2_col5\" class=\"data row2 col5\" >0.13</td>\n                        <td id=\"T_1972b_row2_col6\" class=\"data row2 col6\" >0.63</td>\n            </tr>\n            <tr>\n                        <th id=\"T_1972b_level0_row3\" class=\"row_heading level0 row3\" >LGBMClassifier</th>\n                        <td id=\"T_1972b_row3_col0\" class=\"data row3 col0\" >1.00</td>\n                        <td id=\"T_1972b_row3_col1\" class=\"data row3 col1\" >0.07</td>\n                        <td id=\"T_1972b_row3_col2\" class=\"data row3 col2\" >0.22</td>\n                        <td id=\"T_1972b_row3_col3\" class=\"data row3 col3\" >1.00</td>\n                        <td id=\"T_1972b_row3_col4\" class=\"data row3 col4\" >0.36</td>\n                        <td id=\"T_1972b_row3_col5\" class=\"data row3 col5\" >0.13</td>\n                        <td id=\"T_1972b_row3_col6\" class=\"data row3 col6\" >0.61</td>\n            </tr>\n            <tr>\n                        <th id=\"T_1972b_level0_row4\" class=\"row_heading level0 row4\" >XGBClassifier</th>\n                        <td id=\"T_1972b_row4_col0\" class=\"data row4 col0\" >1.00</td>\n                        <td id=\"T_1972b_row4_col1\" class=\"data row4 col1\" >0.07</td>\n                        <td id=\"T_1972b_row4_col2\" class=\"data row4 col2\" >0.22</td>\n                        <td id=\"T_1972b_row4_col3\" class=\"data row4 col3\" >1.00</td>\n                        <td id=\"T_1972b_row4_col4\" class=\"data row4 col4\" >0.36</td>\n                        <td id=\"T_1972b_row4_col5\" class=\"data row4 col5\" >0.13</td>\n                        <td id=\"T_1972b_row4_col6\" class=\"data row4 col6\" >0.61</td>\n            </tr>\n    </tbody></table>"
     },
     "metadata": {},
     "execution_count": 36
    }
   ],
   "source": [
    "models_tv[['Precision_0', 'Precision_1', 'Recall_0', 'Recall_1', 'F1_0', 'F1_1', 'ROC AUC']].head(5).style.background_gradient(cmap='PuBu')"
   ]
  },
  {
   "cell_type": "code",
   "execution_count": 37,
   "metadata": {},
   "outputs": [
    {
     "output_type": "execute_result",
     "data": {
      "text/plain": [
       "                               Accuracy  Balanced Accuracy  ROC AUC  F1 Score  \\\n",
       "Model                                                                           \n",
       "DecisionTreeClassifier             0.39               0.68     0.68      0.51   \n",
       "BaggingClassifier                  0.35               0.66     0.66      0.46   \n",
       "ExtraTreeClassifier                0.29               0.63     0.63      0.39   \n",
       "LGBMClassifier                     0.26               0.61     0.61      0.35   \n",
       "XGBClassifier                      0.26               0.61     0.61      0.35   \n",
       "SGDClassifier                      0.20               0.57     0.57      0.25   \n",
       "ExtraTreesClassifier               0.17               0.56     0.56      0.22   \n",
       "PassiveAggressiveClassifier        0.35               0.56     0.56      0.46   \n",
       "RandomForestClassifier             0.15               0.55     0.55      0.18   \n",
       "LinearSVC                          0.32               0.54     0.54      0.42   \n",
       "NearestCentroid                    0.13               0.54     0.54      0.15   \n",
       "Perceptron                         0.30               0.54     0.54      0.41   \n",
       "LabelPropagation                   0.84               0.54     0.54      0.87   \n",
       "LabelSpreading                     0.84               0.54     0.54      0.87   \n",
       "CalibratedClassifierCV             0.10               0.52     0.52      0.09   \n",
       "BernoulliNB                        0.10               0.52     0.52      0.09   \n",
       "QuadraticDiscriminantAnalysis      0.80               0.52     0.52      0.85   \n",
       "AdaBoostClassifier                 0.26               0.51     0.51      0.36   \n",
       "LinearDiscriminantAnalysis         0.26               0.51     0.51      0.36   \n",
       "KNeighborsClassifier               0.07               0.51     0.51      0.03   \n",
       "RidgeClassifier                    0.24               0.50     0.50      0.33   \n",
       "RidgeClassifierCV                  0.24               0.50     0.50      0.33   \n",
       "CheckingClassifier                 0.95               0.50     0.50      0.92   \n",
       "GaussianNB                         0.58               0.49     0.49      0.69   \n",
       "DummyClassifier                    0.29               0.44     0.44      0.41   \n",
       "NuSVC                              0.45               0.42     0.42      0.58   \n",
       "SVC                                0.45               0.42     0.42      0.58   \n",
       "\n",
       "                               Time Taken  Precision_0  Precision_1  Recall_0  \\\n",
       "Model                                                                           \n",
       "DecisionTreeClassifier               1.45         1.00         0.08      0.36   \n",
       "BaggingClassifier                    3.19         1.00         0.08      0.31   \n",
       "ExtraTreeClassifier                  0.94         1.00         0.07      0.25   \n",
       "LGBMClassifier                       1.67         1.00         0.07      0.22   \n",
       "XGBClassifier                       10.99         1.00         0.07      0.22   \n",
       "SGDClassifier                        1.34         1.00         0.06      0.15   \n",
       "ExtraTreesClassifier                 9.66         1.00         0.06      0.13   \n",
       "PassiveAggressiveClassifier          1.30         0.97         0.06      0.32   \n",
       "RandomForestClassifier               4.04         1.00         0.06      0.10   \n",
       "LinearSVC                           20.22         0.96         0.06      0.29   \n",
       "NearestCentroid                      0.88         1.00         0.06      0.08   \n",
       "Perceptron                           0.96         0.96         0.06      0.28   \n",
       "LabelPropagation                     0.91         0.95         0.08      0.87   \n",
       "LabelSpreading                       0.90         0.95         0.08      0.87   \n",
       "CalibratedClassifierCV              79.18         1.00         0.06      0.05   \n",
       "BernoulliNB                          0.88         1.00         0.06      0.05   \n",
       "QuadraticDiscriminantAnalysis        3.59         0.95         0.07      0.84   \n",
       "AdaBoostClassifier                  12.44         0.95         0.06      0.23   \n",
       "LinearDiscriminantAnalysis           4.67         0.95         0.06      0.23   \n",
       "KNeighborsClassifier                 3.20         1.00         0.05      0.01   \n",
       "RidgeClassifier                      1.05         0.95         0.05      0.21   \n",
       "RidgeClassifierCV                    1.20         0.95         0.05      0.21   \n",
       "CheckingClassifier                   0.67         0.95         0.00      1.00   \n",
       "GaussianNB                           0.99         0.94         0.05      0.59   \n",
       "DummyClassifier                      0.79         0.92         0.05      0.28   \n",
       "NuSVC                               15.91         0.93         0.04      0.45   \n",
       "SVC                                 13.88         0.93         0.04      0.45   \n",
       "\n",
       "                               Recall_1  F1_0  F1_1  ROC_AUC  \n",
       "Model                                                         \n",
       "DecisionTreeClassifier             1.00  0.53  0.15     0.68  \n",
       "BaggingClassifier                  1.00  0.47  0.14     0.66  \n",
       "ExtraTreeClassifier                1.00  0.40  0.13     0.63  \n",
       "LGBMClassifier                     1.00  0.36  0.13     0.61  \n",
       "XGBClassifier                      1.00  0.36  0.13     0.61  \n",
       "SGDClassifier                      1.00  0.26  0.12     0.57  \n",
       "ExtraTreesClassifier               1.00  0.22  0.12     0.56  \n",
       "PassiveAggressiveClassifier        0.80  0.48  0.12     0.56  \n",
       "RandomForestClassifier             1.00  0.19  0.11     0.55  \n",
       "LinearSVC                          0.80  0.44  0.11     0.54  \n",
       "NearestCentroid                    1.00  0.15  0.11     0.54  \n",
       "Perceptron                         0.80  0.43  0.11     0.54  \n",
       "LabelPropagation                   0.20  0.91  0.12     0.54  \n",
       "LabelSpreading                     0.20  0.91  0.12     0.54  \n",
       "CalibratedClassifierCV             1.00  0.09  0.11     0.52  \n",
       "BernoulliNB                        1.00  0.09  0.11     0.52  \n",
       "QuadraticDiscriminantAnalysis      0.20  0.89  0.10     0.52  \n",
       "AdaBoostClassifier                 0.80  0.37  0.11     0.51  \n",
       "LinearDiscriminantAnalysis         0.80  0.37  0.11     0.51  \n",
       "KNeighborsClassifier               1.00  0.02  0.10     0.51  \n",
       "RidgeClassifier                    0.80  0.34  0.10     0.50  \n",
       "RidgeClassifierCV                  0.80  0.34  0.10     0.50  \n",
       "CheckingClassifier                 0.00  0.97  0.00     0.50  \n",
       "GaussianNB                         0.40  0.72  0.09     0.49  \n",
       "DummyClassifier                    0.60  0.42  0.08     0.44  \n",
       "NuSVC                              0.40  0.60  0.07     0.42  \n",
       "SVC                                0.40  0.60  0.07     0.42  "
      ],
      "text/html": "<div>\n<style scoped>\n    .dataframe tbody tr th:only-of-type {\n        vertical-align: middle;\n    }\n\n    .dataframe tbody tr th {\n        vertical-align: top;\n    }\n\n    .dataframe thead th {\n        text-align: right;\n    }\n</style>\n<table border=\"1\" class=\"dataframe\">\n  <thead>\n    <tr style=\"text-align: right;\">\n      <th></th>\n      <th>Accuracy</th>\n      <th>Balanced Accuracy</th>\n      <th>ROC AUC</th>\n      <th>F1 Score</th>\n      <th>Time Taken</th>\n      <th>Precision_0</th>\n      <th>Precision_1</th>\n      <th>Recall_0</th>\n      <th>Recall_1</th>\n      <th>F1_0</th>\n      <th>F1_1</th>\n      <th>ROC_AUC</th>\n    </tr>\n    <tr>\n      <th>Model</th>\n      <th></th>\n      <th></th>\n      <th></th>\n      <th></th>\n      <th></th>\n      <th></th>\n      <th></th>\n      <th></th>\n      <th></th>\n      <th></th>\n      <th></th>\n      <th></th>\n    </tr>\n  </thead>\n  <tbody>\n    <tr>\n      <th>DecisionTreeClassifier</th>\n      <td>0.39</td>\n      <td>0.68</td>\n      <td>0.68</td>\n      <td>0.51</td>\n      <td>1.45</td>\n      <td>1.00</td>\n      <td>0.08</td>\n      <td>0.36</td>\n      <td>1.00</td>\n      <td>0.53</td>\n      <td>0.15</td>\n      <td>0.68</td>\n    </tr>\n    <tr>\n      <th>BaggingClassifier</th>\n      <td>0.35</td>\n      <td>0.66</td>\n      <td>0.66</td>\n      <td>0.46</td>\n      <td>3.19</td>\n      <td>1.00</td>\n      <td>0.08</td>\n      <td>0.31</td>\n      <td>1.00</td>\n      <td>0.47</td>\n      <td>0.14</td>\n      <td>0.66</td>\n    </tr>\n    <tr>\n      <th>ExtraTreeClassifier</th>\n      <td>0.29</td>\n      <td>0.63</td>\n      <td>0.63</td>\n      <td>0.39</td>\n      <td>0.94</td>\n      <td>1.00</td>\n      <td>0.07</td>\n      <td>0.25</td>\n      <td>1.00</td>\n      <td>0.40</td>\n      <td>0.13</td>\n      <td>0.63</td>\n    </tr>\n    <tr>\n      <th>LGBMClassifier</th>\n      <td>0.26</td>\n      <td>0.61</td>\n      <td>0.61</td>\n      <td>0.35</td>\n      <td>1.67</td>\n      <td>1.00</td>\n      <td>0.07</td>\n      <td>0.22</td>\n      <td>1.00</td>\n      <td>0.36</td>\n      <td>0.13</td>\n      <td>0.61</td>\n    </tr>\n    <tr>\n      <th>XGBClassifier</th>\n      <td>0.26</td>\n      <td>0.61</td>\n      <td>0.61</td>\n      <td>0.35</td>\n      <td>10.99</td>\n      <td>1.00</td>\n      <td>0.07</td>\n      <td>0.22</td>\n      <td>1.00</td>\n      <td>0.36</td>\n      <td>0.13</td>\n      <td>0.61</td>\n    </tr>\n    <tr>\n      <th>SGDClassifier</th>\n      <td>0.20</td>\n      <td>0.57</td>\n      <td>0.57</td>\n      <td>0.25</td>\n      <td>1.34</td>\n      <td>1.00</td>\n      <td>0.06</td>\n      <td>0.15</td>\n      <td>1.00</td>\n      <td>0.26</td>\n      <td>0.12</td>\n      <td>0.57</td>\n    </tr>\n    <tr>\n      <th>ExtraTreesClassifier</th>\n      <td>0.17</td>\n      <td>0.56</td>\n      <td>0.56</td>\n      <td>0.22</td>\n      <td>9.66</td>\n      <td>1.00</td>\n      <td>0.06</td>\n      <td>0.13</td>\n      <td>1.00</td>\n      <td>0.22</td>\n      <td>0.12</td>\n      <td>0.56</td>\n    </tr>\n    <tr>\n      <th>PassiveAggressiveClassifier</th>\n      <td>0.35</td>\n      <td>0.56</td>\n      <td>0.56</td>\n      <td>0.46</td>\n      <td>1.30</td>\n      <td>0.97</td>\n      <td>0.06</td>\n      <td>0.32</td>\n      <td>0.80</td>\n      <td>0.48</td>\n      <td>0.12</td>\n      <td>0.56</td>\n    </tr>\n    <tr>\n      <th>RandomForestClassifier</th>\n      <td>0.15</td>\n      <td>0.55</td>\n      <td>0.55</td>\n      <td>0.18</td>\n      <td>4.04</td>\n      <td>1.00</td>\n      <td>0.06</td>\n      <td>0.10</td>\n      <td>1.00</td>\n      <td>0.19</td>\n      <td>0.11</td>\n      <td>0.55</td>\n    </tr>\n    <tr>\n      <th>LinearSVC</th>\n      <td>0.32</td>\n      <td>0.54</td>\n      <td>0.54</td>\n      <td>0.42</td>\n      <td>20.22</td>\n      <td>0.96</td>\n      <td>0.06</td>\n      <td>0.29</td>\n      <td>0.80</td>\n      <td>0.44</td>\n      <td>0.11</td>\n      <td>0.54</td>\n    </tr>\n    <tr>\n      <th>NearestCentroid</th>\n      <td>0.13</td>\n      <td>0.54</td>\n      <td>0.54</td>\n      <td>0.15</td>\n      <td>0.88</td>\n      <td>1.00</td>\n      <td>0.06</td>\n      <td>0.08</td>\n      <td>1.00</td>\n      <td>0.15</td>\n      <td>0.11</td>\n      <td>0.54</td>\n    </tr>\n    <tr>\n      <th>Perceptron</th>\n      <td>0.30</td>\n      <td>0.54</td>\n      <td>0.54</td>\n      <td>0.41</td>\n      <td>0.96</td>\n      <td>0.96</td>\n      <td>0.06</td>\n      <td>0.28</td>\n      <td>0.80</td>\n      <td>0.43</td>\n      <td>0.11</td>\n      <td>0.54</td>\n    </tr>\n    <tr>\n      <th>LabelPropagation</th>\n      <td>0.84</td>\n      <td>0.54</td>\n      <td>0.54</td>\n      <td>0.87</td>\n      <td>0.91</td>\n      <td>0.95</td>\n      <td>0.08</td>\n      <td>0.87</td>\n      <td>0.20</td>\n      <td>0.91</td>\n      <td>0.12</td>\n      <td>0.54</td>\n    </tr>\n    <tr>\n      <th>LabelSpreading</th>\n      <td>0.84</td>\n      <td>0.54</td>\n      <td>0.54</td>\n      <td>0.87</td>\n      <td>0.90</td>\n      <td>0.95</td>\n      <td>0.08</td>\n      <td>0.87</td>\n      <td>0.20</td>\n      <td>0.91</td>\n      <td>0.12</td>\n      <td>0.54</td>\n    </tr>\n    <tr>\n      <th>CalibratedClassifierCV</th>\n      <td>0.10</td>\n      <td>0.52</td>\n      <td>0.52</td>\n      <td>0.09</td>\n      <td>79.18</td>\n      <td>1.00</td>\n      <td>0.06</td>\n      <td>0.05</td>\n      <td>1.00</td>\n      <td>0.09</td>\n      <td>0.11</td>\n      <td>0.52</td>\n    </tr>\n    <tr>\n      <th>BernoulliNB</th>\n      <td>0.10</td>\n      <td>0.52</td>\n      <td>0.52</td>\n      <td>0.09</td>\n      <td>0.88</td>\n      <td>1.00</td>\n      <td>0.06</td>\n      <td>0.05</td>\n      <td>1.00</td>\n      <td>0.09</td>\n      <td>0.11</td>\n      <td>0.52</td>\n    </tr>\n    <tr>\n      <th>QuadraticDiscriminantAnalysis</th>\n      <td>0.80</td>\n      <td>0.52</td>\n      <td>0.52</td>\n      <td>0.85</td>\n      <td>3.59</td>\n      <td>0.95</td>\n      <td>0.07</td>\n      <td>0.84</td>\n      <td>0.20</td>\n      <td>0.89</td>\n      <td>0.10</td>\n      <td>0.52</td>\n    </tr>\n    <tr>\n      <th>AdaBoostClassifier</th>\n      <td>0.26</td>\n      <td>0.51</td>\n      <td>0.51</td>\n      <td>0.36</td>\n      <td>12.44</td>\n      <td>0.95</td>\n      <td>0.06</td>\n      <td>0.23</td>\n      <td>0.80</td>\n      <td>0.37</td>\n      <td>0.11</td>\n      <td>0.51</td>\n    </tr>\n    <tr>\n      <th>LinearDiscriminantAnalysis</th>\n      <td>0.26</td>\n      <td>0.51</td>\n      <td>0.51</td>\n      <td>0.36</td>\n      <td>4.67</td>\n      <td>0.95</td>\n      <td>0.06</td>\n      <td>0.23</td>\n      <td>0.80</td>\n      <td>0.37</td>\n      <td>0.11</td>\n      <td>0.51</td>\n    </tr>\n    <tr>\n      <th>KNeighborsClassifier</th>\n      <td>0.07</td>\n      <td>0.51</td>\n      <td>0.51</td>\n      <td>0.03</td>\n      <td>3.20</td>\n      <td>1.00</td>\n      <td>0.05</td>\n      <td>0.01</td>\n      <td>1.00</td>\n      <td>0.02</td>\n      <td>0.10</td>\n      <td>0.51</td>\n    </tr>\n    <tr>\n      <th>RidgeClassifier</th>\n      <td>0.24</td>\n      <td>0.50</td>\n      <td>0.50</td>\n      <td>0.33</td>\n      <td>1.05</td>\n      <td>0.95</td>\n      <td>0.05</td>\n      <td>0.21</td>\n      <td>0.80</td>\n      <td>0.34</td>\n      <td>0.10</td>\n      <td>0.50</td>\n    </tr>\n    <tr>\n      <th>RidgeClassifierCV</th>\n      <td>0.24</td>\n      <td>0.50</td>\n      <td>0.50</td>\n      <td>0.33</td>\n      <td>1.20</td>\n      <td>0.95</td>\n      <td>0.05</td>\n      <td>0.21</td>\n      <td>0.80</td>\n      <td>0.34</td>\n      <td>0.10</td>\n      <td>0.50</td>\n    </tr>\n    <tr>\n      <th>CheckingClassifier</th>\n      <td>0.95</td>\n      <td>0.50</td>\n      <td>0.50</td>\n      <td>0.92</td>\n      <td>0.67</td>\n      <td>0.95</td>\n      <td>0.00</td>\n      <td>1.00</td>\n      <td>0.00</td>\n      <td>0.97</td>\n      <td>0.00</td>\n      <td>0.50</td>\n    </tr>\n    <tr>\n      <th>GaussianNB</th>\n      <td>0.58</td>\n      <td>0.49</td>\n      <td>0.49</td>\n      <td>0.69</td>\n      <td>0.99</td>\n      <td>0.94</td>\n      <td>0.05</td>\n      <td>0.59</td>\n      <td>0.40</td>\n      <td>0.72</td>\n      <td>0.09</td>\n      <td>0.49</td>\n    </tr>\n    <tr>\n      <th>DummyClassifier</th>\n      <td>0.29</td>\n      <td>0.44</td>\n      <td>0.44</td>\n      <td>0.41</td>\n      <td>0.79</td>\n      <td>0.92</td>\n      <td>0.05</td>\n      <td>0.28</td>\n      <td>0.60</td>\n      <td>0.42</td>\n      <td>0.08</td>\n      <td>0.44</td>\n    </tr>\n    <tr>\n      <th>NuSVC</th>\n      <td>0.45</td>\n      <td>0.42</td>\n      <td>0.42</td>\n      <td>0.58</td>\n      <td>15.91</td>\n      <td>0.93</td>\n      <td>0.04</td>\n      <td>0.45</td>\n      <td>0.40</td>\n      <td>0.60</td>\n      <td>0.07</td>\n      <td>0.42</td>\n    </tr>\n    <tr>\n      <th>SVC</th>\n      <td>0.45</td>\n      <td>0.42</td>\n      <td>0.42</td>\n      <td>0.58</td>\n      <td>13.88</td>\n      <td>0.93</td>\n      <td>0.04</td>\n      <td>0.45</td>\n      <td>0.40</td>\n      <td>0.60</td>\n      <td>0.07</td>\n      <td>0.42</td>\n    </tr>\n  </tbody>\n</table>\n</div>"
     },
     "metadata": {},
     "execution_count": 37
    }
   ],
   "source": [
    "models_tv"
   ]
  },
  {
   "cell_type": "code",
   "execution_count": null,
   "metadata": {},
   "outputs": [],
   "source": []
  }
 ]
}