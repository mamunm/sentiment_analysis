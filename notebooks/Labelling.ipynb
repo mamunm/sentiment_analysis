{
 "cells": [
  {
   "cell_type": "code",
   "execution_count": 1,
   "metadata": {},
   "outputs": [
    {
     "output_type": "stream",
     "name": "stderr",
     "text": "[nltk_data] Downloading package wordnet to\n[nltk_data]     /Users/osmanmamun/nltk_data...\n[nltk_data]   Package wordnet is already up-to-date!\n[nltk_data] Downloading package stopwords to\n[nltk_data]     /Users/osmanmamun/nltk_data...\n[nltk_data]   Package stopwords is already up-to-date!\n"
    }
   ],
   "source": [
    "import json \n",
    "import numpy as np \n",
    "import pandas as pd \n",
    "from textblob import TextBlob\n",
    "import matplotlib.pyplot as plt \n",
    "import seaborn as sns\n",
    "from wordcloud import WordCloud\n",
    "import os \n",
    "from glob import glob \n",
    "import re\n",
    "import preprocessor as tp\n",
    "import nltk\n",
    "from nltk import word_tokenize, FreqDist\n",
    "from nltk.corpus import stopwords\n",
    "from nltk.stem import WordNetLemmatizer\n",
    "nltk.download\n",
    "nltk.download('wordnet')\n",
    "nltk.download('stopwords')\n",
    "from nltk.tokenize import TweetTokenizer\n",
    "from IPython.display import clear_output"
   ]
  },
  {
   "cell_type": "code",
   "execution_count": 2,
   "metadata": {},
   "outputs": [
    {
     "output_type": "stream",
     "name": "stdout",
     "text": "Processing file: ../data/raw/ekatvambytanishq.json\nProcessing file: ../data/raw/BoycottTanishqJewelry.json\nProcessing file: ../data/raw/boycott_tanishq.json\nProcessing file: ../data/raw/BoycottTanishq2.json\nProcessing file: ../data/raw/BoycottTanishq.json\nNumber of tweets extracted: 9427\n"
    }
   ],
   "source": [
    "tanishq_files = glob(r'../data/raw/*anishq*.json')\n",
    "\n",
    "tweets = []\n",
    "for file in tanishq_files:\n",
    "    print(f'Processing file: {file}')\n",
    "    with open(file, encoding='utf-8') as f:\n",
    "        temp = json.load(f)\n",
    "        tweets.extend([tweet['full_text'] for tweet in temp if tweet['full_text'].isascii()])\n",
    "\n",
    "print(f'Number of tweets extracted: {len(tweets)}')\n",
    "\n",
    "tanishq_data = pd.DataFrame(tweets, columns=['Tweet'])\n",
    "\n",
    "del tweets"
   ]
  },
  {
   "cell_type": "code",
   "execution_count": 3,
   "metadata": {},
   "outputs": [
    {
     "output_type": "execute_result",
     "data": {
      "text/plain": "                                                  Tweet\n0     I hv been disappointed by the fact that Tanish...\n1     @TanishqJewelry  @RNTata2000 #EkatvamByTanishq...\n2     #EkatvamByTanishq @tanishq #HappyDiwali @sayan...\n3     Hope @TanishqJewelry wishes d same on #NewYear...\n4     @Ramesh_hjs @RituRathaur @HinduJagrutiOrg @rah...\n...                                                 ...\n9422  @TanishqJewelry @AlayaF___ @NimratOfficial @Ne...\n9423        Why every time same mistake #boycotttanishq\n9424  #boycotttanishq stop giving gyaan to us... Sto...\n9425  So Diwali is only buying gold, \"nice\" clothes,...\n9426  @TanishqJewelry @AlayaF___ @NimratOfficial @Ne...\n\n[9427 rows x 1 columns]",
      "text/html": "<div>\n<style scoped>\n    .dataframe tbody tr th:only-of-type {\n        vertical-align: middle;\n    }\n\n    .dataframe tbody tr th {\n        vertical-align: top;\n    }\n\n    .dataframe thead th {\n        text-align: right;\n    }\n</style>\n<table border=\"1\" class=\"dataframe\">\n  <thead>\n    <tr style=\"text-align: right;\">\n      <th></th>\n      <th>Tweet</th>\n    </tr>\n  </thead>\n  <tbody>\n    <tr>\n      <th>0</th>\n      <td>I hv been disappointed by the fact that Tanish...</td>\n    </tr>\n    <tr>\n      <th>1</th>\n      <td>@TanishqJewelry  @RNTata2000 #EkatvamByTanishq...</td>\n    </tr>\n    <tr>\n      <th>2</th>\n      <td>#EkatvamByTanishq @tanishq #HappyDiwali @sayan...</td>\n    </tr>\n    <tr>\n      <th>3</th>\n      <td>Hope @TanishqJewelry wishes d same on #NewYear...</td>\n    </tr>\n    <tr>\n      <th>4</th>\n      <td>@Ramesh_hjs @RituRathaur @HinduJagrutiOrg @rah...</td>\n    </tr>\n    <tr>\n      <th>...</th>\n      <td>...</td>\n    </tr>\n    <tr>\n      <th>9422</th>\n      <td>@TanishqJewelry @AlayaF___ @NimratOfficial @Ne...</td>\n    </tr>\n    <tr>\n      <th>9423</th>\n      <td>Why every time same mistake #boycotttanishq</td>\n    </tr>\n    <tr>\n      <th>9424</th>\n      <td>#boycotttanishq stop giving gyaan to us... Sto...</td>\n    </tr>\n    <tr>\n      <th>9425</th>\n      <td>So Diwali is only buying gold, \"nice\" clothes,...</td>\n    </tr>\n    <tr>\n      <th>9426</th>\n      <td>@TanishqJewelry @AlayaF___ @NimratOfficial @Ne...</td>\n    </tr>\n  </tbody>\n</table>\n<p>9427 rows × 1 columns</p>\n</div>"
     },
     "metadata": {},
     "execution_count": 3
    }
   ],
   "source": [
    "tanishq_data"
   ]
  },
  {
   "cell_type": "code",
   "execution_count": 4,
   "metadata": {},
   "outputs": [],
   "source": [
    "labelled_dict = tanishq_data.sample(5000, random_state=42)[\"Tweet\"].to_dict()"
   ]
  },
  {
   "cell_type": "code",
   "execution_count": 5,
   "metadata": {},
   "outputs": [],
   "source": [
    "labelled_dict = {k: {\"Text\": v, \"Sentiment\": None} for k, v in labelled_dict.items()}"
   ]
  },
  {
   "cell_type": "code",
   "execution_count": 6,
   "metadata": {
    "tags": [
     "outputPrepend"
    ]
   },
   "outputs": [
    {
     "output_type": "stream",
     "name": "stdout",
     "text": "\n\nWorking on key: 5018\n@vivekagnihotri #boycotttanishq  #boycottBollywoodDruggies\n"
    },
    {
     "output_type": "error",
     "ename": "ValueError",
     "evalue": "invalid literal for int() with base 10: ''",
     "traceback": [
      "\u001b[0;31m---------------------------------------------------------------------------\u001b[0m",
      "\u001b[0;31mValueError\u001b[0m                                Traceback (most recent call last)",
      "\u001b[0;32m<ipython-input-6-929e2d46cab2>\u001b[0m in \u001b[0;36m<module>\u001b[0;34m\u001b[0m\n\u001b[1;32m      4\u001b[0m     \u001b[0mprint\u001b[0m\u001b[0;34m(\u001b[0m\u001b[0;34mf'Working on key: {k}'\u001b[0m\u001b[0;34m)\u001b[0m\u001b[0;34m\u001b[0m\u001b[0;34m\u001b[0m\u001b[0m\n\u001b[1;32m      5\u001b[0m     \u001b[0mprint\u001b[0m\u001b[0;34m(\u001b[0m\u001b[0mv\u001b[0m\u001b[0;34m[\u001b[0m\u001b[0;34m'Text'\u001b[0m\u001b[0;34m]\u001b[0m\u001b[0;34m)\u001b[0m\u001b[0;34m\u001b[0m\u001b[0;34m\u001b[0m\u001b[0m\n\u001b[0;32m----> 6\u001b[0;31m     \u001b[0mv\u001b[0m\u001b[0;34m[\u001b[0m\u001b[0;34m'Sentiment'\u001b[0m\u001b[0;34m]\u001b[0m \u001b[0;34m=\u001b[0m \u001b[0mint\u001b[0m\u001b[0;34m(\u001b[0m\u001b[0minput\u001b[0m\u001b[0;34m(\u001b[0m\u001b[0;34m\"Please enter the sentiment:\"\u001b[0m\u001b[0;34m)\u001b[0m\u001b[0;34m)\u001b[0m\u001b[0;34m\u001b[0m\u001b[0;34m\u001b[0m\u001b[0m\n\u001b[0m",
      "\u001b[0;31mValueError\u001b[0m: invalid literal for int() with base 10: ''"
     ]
    }
   ],
   "source": [
    "for k, v in labelled_dict.items():\n",
    "    clear_output()\n",
    "    print('\\n')\n",
    "    print(f'Working on key: {k}')\n",
    "    print(v['Text'])\n",
    "    v['Sentiment'] = int(input(\"Please enter the sentiment:\"))"
   ]
  },
  {
   "cell_type": "code",
   "execution_count": 10,
   "metadata": {},
   "outputs": [],
   "source": [
    "np.save('labelled_dict.npy', labelled_dict)"
   ]
  },
  {
   "cell_type": "code",
   "execution_count": null,
   "metadata": {},
   "outputs": [],
   "source": []
  }
 ],
 "metadata": {
  "language_info": {
   "codemirror_mode": {
    "name": "ipython",
    "version": 3
   },
   "file_extension": ".py",
   "mimetype": "text/x-python",
   "name": "python",
   "nbconvert_exporter": "python",
   "pygments_lexer": "ipython3",
   "version": 3
  },
  "orig_nbformat": 2,
  "kernelspec": {
   "name": "python_defaultSpec_1610654934811",
   "display_name": "Python 3.7.7 64-bit ('Sentiment_Analysis': venv)"
  }
 },
 "nbformat": 4,
 "nbformat_minor": 2
}