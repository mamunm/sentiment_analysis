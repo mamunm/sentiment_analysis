{
 "cells": [
  {
   "cell_type": "code",
   "execution_count": 1,
   "metadata": {},
   "outputs": [],
   "source": [
    "import json \n",
    "import numpy as np \n",
    "import pandas as pd \n",
    "import os \n",
    "from glob import glob \n",
    "from IPython.display import clear_output"
   ]
  },
  {
   "cell_type": "code",
   "execution_count": 2,
   "metadata": {},
   "outputs": [
    {
     "name": "stdout",
     "output_type": "stream",
     "text": [
      "Processing file: ../data/raw/ekatvambytanishq.json\n",
      "Processing file: ../data/raw/BoycottTanishqJewelry.json\n",
      "Processing file: ../data/raw/boycott_tanishq.json\n",
      "Processing file: ../data/raw/BoycottTanishq2.json\n",
      "Processing file: ../data/raw/BoycottTanishq.json\n",
      "Number of tweets extracted: 9427\n"
     ]
    }
   ],
   "source": [
    "tanishq_files = glob(r'../data/raw/*anishq*.json') # This is problematic \n",
    "tanishq_files = ['../data/raw/ekatvambytanishq.json',\n",
    "                 '../data/raw/BoycottTanishqJewelry.json',\n",
    "                 '../data/raw/boycott_tanishq.json',\n",
    "                 '../data/raw/BoycottTanishq2.json',\n",
    "                 '../data/raw/BoycottTanishq.json']\n",
    "\n",
    "tweets = []\n",
    "for file in tanishq_files:\n",
    "    print(f'Processing file: {file}')\n",
    "    with open(file, encoding='utf-8') as f:\n",
    "        temp = json.load(f)\n",
    "        tweets.extend([tweet['full_text'] for tweet in temp if tweet['full_text'].isascii()])\n",
    "\n",
    "print(f'Number of tweets extracted: {len(tweets)}')\n",
    "n_tweets = len(tweets)\n",
    "tanishq_data = pd.DataFrame(tweets, columns=['Tweet'])\n",
    "\n",
    "del tweets"
   ]
  },
  {
   "cell_type": "code",
   "execution_count": 3,
   "metadata": {},
   "outputs": [],
   "source": [
    "if os.path.exists('labelled_dict_tanishq.npy'):\n",
    "    labelled_dict_tanishq = np.load('labelled_dict_tanishq.npy', allow_pickle=True)[()]\n",
    "else:\n",
    "    labelled_dict_tanishq = tanishq_data[\"Tweet\"].to_dict()\n",
    "    labelled_dict_tanishq = {k: {\"text\": v, \"sentiment\": None} for k, v in labelled_dict_tanishq.items()}"
   ]
  },
  {
   "cell_type": "code",
   "execution_count": 4,
   "metadata": {
    "tags": [
     "outputPrepend"
    ]
   },
   "outputs": [
    {
     "name": "stdout",
     "output_type": "stream",
     "text": [
      "\n",
      "\n",
      "2204 tweetes of 9427 has been processed.\n",
      "legal entries: 372 garbage entries: 1831\n",
      "Working on key: 2203\n",
      "@ShashiTharoor @dhruv_rathee After nearly a month, #BoycottTanishq is trending yet again across social media platforms. This time, it is for an ad that roots for a ban on #firecrackers as part of its #Diwali campaign. \n",
      "#FirecrackersBan #Tanishq \n",
      "https://t.co/bEgJ9KFt6v\n"
     ]
    },
    {
     "ename": "ValueError",
     "evalue": "invalid literal for int() with base 10: 'ee'",
     "output_type": "error",
     "traceback": [
      "\u001b[0;31m---------------------------------------------------------------------------\u001b[0m",
      "\u001b[0;31mValueError\u001b[0m                                Traceback (most recent call last)",
      "\u001b[0;32m<ipython-input-4-869706530948>\u001b[0m in \u001b[0;36m<module>\u001b[0;34m\u001b[0m\n\u001b[1;32m     16\u001b[0m     \u001b[0mprint\u001b[0m\u001b[0;34m(\u001b[0m\u001b[0;34mf'Working on key: {k}'\u001b[0m\u001b[0;34m)\u001b[0m\u001b[0;34m\u001b[0m\u001b[0;34m\u001b[0m\u001b[0m\n\u001b[1;32m     17\u001b[0m     \u001b[0mprint\u001b[0m\u001b[0;34m(\u001b[0m\u001b[0mv\u001b[0m\u001b[0;34m[\u001b[0m\u001b[0;34m'text'\u001b[0m\u001b[0;34m]\u001b[0m\u001b[0;34m)\u001b[0m\u001b[0;34m\u001b[0m\u001b[0;34m\u001b[0m\u001b[0m\n\u001b[0;32m---> 18\u001b[0;31m     \u001b[0mv\u001b[0m\u001b[0;34m[\u001b[0m\u001b[0;34m'sentiment'\u001b[0m\u001b[0;34m]\u001b[0m \u001b[0;34m=\u001b[0m \u001b[0mint\u001b[0m\u001b[0;34m(\u001b[0m\u001b[0minput\u001b[0m\u001b[0;34m(\u001b[0m\u001b[0;34m\"Please enter the sentiment:\"\u001b[0m\u001b[0;34m)\u001b[0m\u001b[0;34m)\u001b[0m\u001b[0;34m\u001b[0m\u001b[0;34m\u001b[0m\u001b[0m\n\u001b[0m\u001b[1;32m     19\u001b[0m     \u001b[0;32mif\u001b[0m \u001b[0mv\u001b[0m\u001b[0;34m[\u001b[0m\u001b[0;34m'sentiment'\u001b[0m\u001b[0;34m]\u001b[0m \u001b[0;34m==\u001b[0m \u001b[0;36m10\u001b[0m\u001b[0;34m:\u001b[0m\u001b[0;34m\u001b[0m\u001b[0;34m\u001b[0m\u001b[0m\n\u001b[1;32m     20\u001b[0m         \u001b[0mcount_garbage\u001b[0m \u001b[0;34m+=\u001b[0m \u001b[0;36m1\u001b[0m\u001b[0;34m\u001b[0m\u001b[0;34m\u001b[0m\u001b[0m\n",
      "\u001b[0;31mValueError\u001b[0m: invalid literal for int() with base 10: 'ee'"
     ]
    }
   ],
   "source": [
    "count = 0\n",
    "count_sent = 0\n",
    "count_garbage = 0\n",
    "for k, v in labelled_dict_tanishq.items():\n",
    "    clear_output()\n",
    "    count += 1\n",
    "    if v['sentiment'] is not None:\n",
    "        if v['sentiment'] == 10:\n",
    "            count_garbage += 1\n",
    "        else:\n",
    "            count_sent += 1\n",
    "        continue\n",
    "    print('\\n')\n",
    "    print(f'{count} tweetes of {n_tweets} has been processed.')\n",
    "    print(f'legal entries: {count_sent} garbage entries: {count_garbage}')\n",
    "    print(f'Working on key: {k}')\n",
    "    print(v['text'])\n",
    "    v['sentiment'] = int(input(\"Please enter the sentiment:\"))\n",
    "    if v['sentiment'] == 10:\n",
    "        count_garbage += 1\n",
    "    else:\n",
    "        count_sent += 1"
   ]
  },
  {
   "cell_type": "code",
   "execution_count": 5,
   "metadata": {},
   "outputs": [],
   "source": [
    "np.save('labelled_dict_tanishq.npy', labelled_dict_tanishq)"
   ]
  },
  {
   "cell_type": "code",
   "execution_count": 7,
   "metadata": {},
   "outputs": [],
   "source": [
    "tanishq_data['sentiment'] = tanishq_data.index.to_series().map({k: v['sentiment'] for k, v in labelled_dict_tanishq.items()})"
   ]
  },
  {
   "cell_type": "code",
   "execution_count": 9,
   "metadata": {},
   "outputs": [],
   "source": [
    "tanishq_data.to_csv('../data/processed/tanishq_data_labelled.csv')"
   ]
  },
  {
   "cell_type": "code",
   "execution_count": null,
   "metadata": {},
   "outputs": [],
   "source": []
  }
 ],
 "metadata": {
  "kernelspec": {
   "display_name": "Python 3.8.3 64-bit ('anaconda3': virtualenv)",
   "metadata": {
    "interpreter": {
     "hash": "510205fcc04712289c1e413dab4b8b305e1b9caeb4b2d946861b0f3375cceae2"
    }
   },
   "name": "python3"
  },
  "language_info": {
   "codemirror_mode": {
    "name": "ipython",
    "version": 3
   },
   "file_extension": ".py",
   "mimetype": "text/x-python",
   "name": "python",
   "nbconvert_exporter": "python",
   "pygments_lexer": "ipython3",
   "version": "3.8.3"
  },
  "orig_nbformat": 2
 },
 "nbformat": 4,
 "nbformat_minor": 2
}