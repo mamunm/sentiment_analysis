{
 "metadata": {
  "language_info": {
   "codemirror_mode": {
    "name": "ipython",
    "version": 3
   },
   "file_extension": ".py",
   "mimetype": "text/x-python",
   "name": "python",
   "nbconvert_exporter": "python",
   "pygments_lexer": "ipython3",
   "version": "3.8.3-final"
  },
  "orig_nbformat": 2,
  "kernelspec": {
   "name": "python3",
   "display_name": "Python 3.8.3 64-bit ('springboard_capstone_two')",
   "metadata": {
    "interpreter": {
     "hash": "1474d2ceccc6981c1385943cdbe44b9985a06ccaa858e7fff270717edcc51f5d"
    }
   }
  }
 },
 "nbformat": 4,
 "nbformat_minor": 2,
 "cells": [
  {
   "cell_type": "code",
   "execution_count": 1,
   "metadata": {},
   "outputs": [],
   "source": [
    "import numpy as np \n",
    "import pandas as pd \n",
    "\n",
    "from sklearn.feature_extraction.text import CountVectorizer, TfidfVectorizer\n",
    "from sklearn.model_selection import train_test_split \n",
    "from sklearn.model_selection import KFold, train_test_split\n",
    "from sklearn.decomposition import PCA\n",
    "\n",
    "import matplotlib.pyplot as plt \n",
    "import matplotlib.cm as cm \n",
    "import seaborn as sns \n",
    "\n",
    "from nltk.stem import WordNetLemmatizer\n",
    "from nltk.tokenize import TweetTokenizer, word_tokenize\n",
    "\n",
    "from collections import defaultdict\n",
    "\n",
    "from lazypredict.Supervised import LazyClassifier\n",
    "\n",
    "import imblearn\n",
    "\n",
    "from textblob import TextBlob\n",
    "from vaderSentiment.vaderSentiment import SentimentIntensityAnalyzer\n",
    "import flair \n",
    "\n",
    "from snorkel.labeling import labeling_function, PandasLFApplier, LFAnalysis, filter_unlabeled_dataframe\n",
    "from snorkel.analysis import get_label_buckets\n",
    "from snorkel.preprocess import preprocessor \n",
    "from snorkel.preprocess.nlp import SpacyPreprocessor\n",
    "from snorkel.labeling.model import MajorityLabelVoter, LabelModel\n",
    "from snorkel.utils import probs_to_preds\n",
    "\n"
   ]
  },
  {
   "cell_type": "code",
   "execution_count": 2,
   "metadata": {},
   "outputs": [],
   "source": [
    "df = pd.read_csv('../data/processed/tanishq_data_clean_labelled.csv')\n",
    "df.drop(['Unnamed: 0', 'Unnamed: 0.1'], inplace=True, axis=1)\n",
    "lemmatizer = WordNetLemmatizer()\n",
    "tokenizer = TweetTokenizer()\n",
    "df['clean_tweet_token'] = df['clean_tweet_segmented'].apply(lemmatizer.lemmatize).apply(tokenizer.tokenize)\n",
    "df['clean_tweet_token'] = df['clean_tweet_token'].str.join(' ')\n",
    "df = df[['clean_tweet_token', 'sentiment']]\n"
   ]
  },
  {
   "cell_type": "code",
   "execution_count": 3,
   "metadata": {},
   "outputs": [],
   "source": [
    "df_ground_truth = df[df['sentiment'].isin([0.0, 4.0])]\n",
    "df_ground_truth['sentiment'] = df_ground_truth['sentiment'].replace({4.0: 1, 0.0: -1})\n",
    "df_ground_truth_generator, df_ground_truth_discriminator = train_test_split(df_ground_truth, test_size=0.25, stratify=df_ground_truth['sentiment'])"
   ]
  },
  {
   "cell_type": "code",
   "execution_count": 4,
   "metadata": {},
   "outputs": [],
   "source": [
    "df_unlabelled = df[df['sentiment'].isin([np.nan, 10.0])]\n",
    "df_unlabelled.drop('sentiment', axis=1, inplace=True)\n",
    "del df "
   ]
  },
  {
   "cell_type": "code",
   "execution_count": 5,
   "metadata": {},
   "outputs": [
    {
     "output_type": "stream",
     "name": "stdout",
     "text": [
      "2021-02-05 00:03:30,580 loading file /Users/mamu867/.flair/models/sentiment-en-mix-distillbert_3.1.pt\n"
     ]
    }
   ],
   "source": [
    "# Labeling function\n",
    "\n",
    "# Textblob \n",
    "@preprocessor(memoize=True)\n",
    "def textblob_sentiment(x):\n",
    "    scores = TextBlob(x.clean_tweet_token)\n",
    "    x.tb_polarity = scores.sentiment.polarity\n",
    "    x.tb_subjectivity = scores.sentiment.subjectivity\n",
    "    return x \n",
    "\n",
    "@labeling_function(pre=[textblob_sentiment])\n",
    "def textblob_polarity(x):\n",
    "    return 1 if x.tb_polarity > 0 else -1\n",
    "\n",
    "# Vader\n",
    "@preprocessor(memoize=True)\n",
    "def vader_sentiment(x):\n",
    "    analyzer = SentimentIntensityAnalyzer()\n",
    "    scores = analyzer.polarity_scores(x.clean_tweet_token)\n",
    "    x.vd_polarity = scores['compound']\n",
    "    return x \n",
    "\n",
    "@labeling_function(pre=[vader_sentiment])\n",
    "def vader_polarity(x):\n",
    "    return 1 if x.vd_polarity > 0 else -1\n",
    "\n",
    "# Flair\n",
    "flair_sent = flair.models.TextClassifier.load('en-sentiment')\n",
    "@preprocessor(memoize=True)\n",
    "def flair_sentiment(x):\n",
    "    s = flair.data.Sentence(x.clean_tweet_token)\n",
    "    flair_sent.predict(s)\n",
    "    x.fl_polarity =  s.get_label_names()[0].lower()\n",
    "    return x \n",
    "\n",
    "@labeling_function(pre=[flair_sentiment])\n",
    "def flair_polarity(x):\n",
    "    return 1 if x.fl_polarity == 'positive' else -1\n",
    "\n"
   ]
  },
  {
   "cell_type": "code",
   "execution_count": 6,
   "metadata": {},
   "outputs": [
    {
     "output_type": "stream",
     "name": "stderr",
     "text": [
      "100%|██████████| 3000/3000 [01:34<00:00, 31.58it/s]\n"
     ]
    }
   ],
   "source": [
    "lfs = [textblob_polarity, vader_polarity, flair_polarity]\n",
    "\n",
    "applier = PandasLFApplier(lfs)\n",
    "L_train = applier.apply(df_unlabelled.sample(3000, random_state=42))"
   ]
  },
  {
   "cell_type": "code",
   "execution_count": 7,
   "metadata": {},
   "outputs": [
    {
     "output_type": "execute_result",
     "data": {
      "text/plain": [
       "                   j Polarity  Coverage  Overlaps  Conflicts\n",
       "textblob_polarity  0      [1]      0.17      0.09       0.00\n",
       "vader_polarity     1      [1]      0.18      0.10       0.00\n",
       "flair_polarity     2      [1]      0.03      0.02       0.00"
      ],
      "text/html": "<div>\n<style scoped>\n    .dataframe tbody tr th:only-of-type {\n        vertical-align: middle;\n    }\n\n    .dataframe tbody tr th {\n        vertical-align: top;\n    }\n\n    .dataframe thead th {\n        text-align: right;\n    }\n</style>\n<table border=\"1\" class=\"dataframe\">\n  <thead>\n    <tr style=\"text-align: right;\">\n      <th></th>\n      <th>j</th>\n      <th>Polarity</th>\n      <th>Coverage</th>\n      <th>Overlaps</th>\n      <th>Conflicts</th>\n    </tr>\n  </thead>\n  <tbody>\n    <tr>\n      <th>textblob_polarity</th>\n      <td>0</td>\n      <td>[1]</td>\n      <td>0.17</td>\n      <td>0.09</td>\n      <td>0.00</td>\n    </tr>\n    <tr>\n      <th>vader_polarity</th>\n      <td>1</td>\n      <td>[1]</td>\n      <td>0.18</td>\n      <td>0.10</td>\n      <td>0.00</td>\n    </tr>\n    <tr>\n      <th>flair_polarity</th>\n      <td>2</td>\n      <td>[1]</td>\n      <td>0.03</td>\n      <td>0.02</td>\n      <td>0.00</td>\n    </tr>\n  </tbody>\n</table>\n</div>"
     },
     "metadata": {},
     "execution_count": 7
    }
   ],
   "source": [
    "LFAnalysis(L_train, lfs).lf_summary()"
   ]
  },
  {
   "cell_type": "code",
   "execution_count": 8,
   "metadata": {},
   "outputs": [],
   "source": [
    "majority_model = MajorityLabelVoter()\n",
    "preds_train = majority_model.predict(L=L_train)"
   ]
  },
  {
   "cell_type": "code",
   "execution_count": 9,
   "metadata": {},
   "outputs": [],
   "source": [
    "label_model = LabelModel(cardinality=2, verbose=True)\n",
    "label_model.fit(L_train=L_train, n_epochs=500, lr=0.001, log_freq=100, seed=123)"
   ]
  },
  {
   "cell_type": "code",
   "execution_count": 12,
   "metadata": {},
   "outputs": [
    {
     "output_type": "stream",
     "name": "stderr",
     "text": [
      "100%|██████████| 275/275 [00:00<00:00, 24663.41it/s]\n",
      "Majority Vote Accuracy:   100.0%\n",
      "Label Model Accuracy:     100.0%\n",
      "\n"
     ]
    }
   ],
   "source": [
    "L_test = applier.apply(df=df_ground_truth_generator)\n",
    "\n",
    "majority_accuracy = majority_model.score(L=L_test, Y=df_ground_truth_generator['sentiment'], tie_break_policy=\"random\", metrics=['accuracy'])['accuracy']\n",
    "\n",
    "print(f\"\\n{'Majority Vote Accuracy:':<25} {majority_accuracy * 100:0.1f}%\")\n",
    "\n",
    "label_model_accuracy = label_model.score(L=L_test,Y=df_ground_truth_generator['sentiment'], tie_break_policy=\"random\", metrics=['accuracy'])['accuracy']\n",
    "\n",
    "print(f\"{'Label Model Accuracy:':<25} {label_model_accuracy * 100:0.1f}%\")"
   ]
  },
  {
   "cell_type": "code",
   "execution_count": 13,
   "metadata": {},
   "outputs": [
    {
     "output_type": "execute_result",
     "data": {
      "text/plain": [
       "                                      clean_tweet_token\n",
       "791   boycott tanishq boycott tanishq boycott tanish...\n",
       "1130  boycott amazon boycott tanishq jewelry boycott...\n",
       "1552  tanishq hai ki sudhar ne ka naam hi nahin let ...\n",
       "1349  boycott bollywood boycott kbc boycott bollywoo...\n",
       "728            boycott tanishq jewelry boycott tan is q\n",
       "3148      must read and don t forget to boycott tanishq\n",
       "2416  boycott tanishq trends again tanishq ad in con...\n",
       "3090                                    boycott tanishq\n",
       "1457                                    boycott tanishq\n",
       "2003  jewellery brand has again run into a controver..."
      ],
      "text/html": "<div>\n<style scoped>\n    .dataframe tbody tr th:only-of-type {\n        vertical-align: middle;\n    }\n\n    .dataframe tbody tr th {\n        vertical-align: top;\n    }\n\n    .dataframe thead th {\n        text-align: right;\n    }\n</style>\n<table border=\"1\" class=\"dataframe\">\n  <thead>\n    <tr style=\"text-align: right;\">\n      <th></th>\n      <th>clean_tweet_token</th>\n    </tr>\n  </thead>\n  <tbody>\n    <tr>\n      <th>791</th>\n      <td>boycott tanishq boycott tanishq boycott tanish...</td>\n    </tr>\n    <tr>\n      <th>1130</th>\n      <td>boycott amazon boycott tanishq jewelry boycott...</td>\n    </tr>\n    <tr>\n      <th>1552</th>\n      <td>tanishq hai ki sudhar ne ka naam hi nahin let ...</td>\n    </tr>\n    <tr>\n      <th>1349</th>\n      <td>boycott bollywood boycott kbc boycott bollywoo...</td>\n    </tr>\n    <tr>\n      <th>728</th>\n      <td>boycott tanishq jewelry boycott tan is q</td>\n    </tr>\n    <tr>\n      <th>3148</th>\n      <td>must read and don t forget to boycott tanishq</td>\n    </tr>\n    <tr>\n      <th>2416</th>\n      <td>boycott tanishq trends again tanishq ad in con...</td>\n    </tr>\n    <tr>\n      <th>3090</th>\n      <td>boycott tanishq</td>\n    </tr>\n    <tr>\n      <th>1457</th>\n      <td>boycott tanishq</td>\n    </tr>\n    <tr>\n      <th>2003</th>\n      <td>jewellery brand has again run into a controver...</td>\n    </tr>\n  </tbody>\n</table>\n</div>"
     },
     "metadata": {},
     "execution_count": 13
    }
   ],
   "source": [
    "buckets = get_label_buckets(L_train[:, 0], L_train[:, 1], L_train[:, 2])\n",
    "df_unlabelled.iloc[buckets[(1, 1, 1)]].sample(10)"
   ]
  },
  {
   "cell_type": "code",
   "execution_count": 12,
   "metadata": {},
   "outputs": [
    {
     "output_type": "execute_result",
     "data": {
      "text/plain": [
       "array([[ 1, -1, -1],\n",
       "       [ 1, -1, -1],\n",
       "       [-1, -1, -1],\n",
       "       ...,\n",
       "       [-1,  1, -1],\n",
       "       [-1, -1, -1],\n",
       "       [-1, -1, -1]])"
      ]
     },
     "metadata": {},
     "execution_count": 12
    }
   ],
   "source": [
    "L_train"
   ]
  },
  {
   "cell_type": "code",
   "execution_count": null,
   "metadata": {},
   "outputs": [],
   "source": []
  }
 ]
}