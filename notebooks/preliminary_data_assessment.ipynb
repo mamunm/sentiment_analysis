{
 "cells": [
  {
   "cell_type": "code",
   "execution_count": 4,
   "metadata": {},
   "outputs": [],
   "source": [
    "import json \n",
    "import numpy as np \n",
    "import pandas as pd \n",
    "from textblob import TextBlob\n",
    "import matplotlib.pyplot as plt \n",
    "import seaborn as sns\n",
    "from wordcloud import WordCloud\n",
    "import os \n",
    "from glob import glob "
   ]
  },
  {
   "cell_type": "code",
   "execution_count": 44,
   "metadata": {},
   "outputs": [
    {
     "output_type": "stream",
     "name": "stdout",
     "text": "Processing file: ../data/raw/ekatvambytanishq.json\nProcessing file: ../data/raw/BoycottTanishqJewelry.json\nProcessing file: ../data/raw/boycott_tanishq.json\nProcessing file: ../data/raw/BoycottTanishq2.json\nProcessing file: ../data/raw/BoycottTanishq.json\nNumber of tweets extracted: 9427\n"
    }
   ],
   "source": [
    "tanishq_files = glob(r'../data/raw/*anishq*.json')\n",
    "\n",
    "tweets = []\n",
    "for file in tanishq_files:\n",
    "    print(f'Processing file: {file}')\n",
    "    with open(file, encoding='utf-8') as f:\n",
    "        temp = json.load(f)\n",
    "        tweets.extend([tweet['full_text'] for tweet in temp if tweet['full_text'].isascii()])\n",
    "\n",
    "print(f'Number of tweets extracted: {len(tweets)}')\n",
    "\n",
    "tanishq_data = pd.DataFrame(tweets, columns=['Tweet'])\n",
    "\n",
    "del tweets"
   ]
  },
  {
   "cell_type": "code",
   "execution_count": 45,
   "metadata": {},
   "outputs": [
    {
     "output_type": "execute_result",
     "data": {
      "text/plain": "                                                  Tweet\n0     I hv been disappointed by the fact that Tanish...\n1     @TanishqJewelry  @RNTata2000 #EkatvamByTanishq...\n2     #EkatvamByTanishq @tanishq #HappyDiwali @sayan...\n3     Hope @TanishqJewelry wishes d same on #NewYear...\n4     @Ramesh_hjs @RituRathaur @HinduJagrutiOrg @rah...\n...                                                 ...\n9422  @TanishqJewelry @AlayaF___ @NimratOfficial @Ne...\n9423        Why every time same mistake #boycotttanishq\n9424  #boycotttanishq stop giving gyaan to us... Sto...\n9425  So Diwali is only buying gold, \"nice\" clothes,...\n9426  @TanishqJewelry @AlayaF___ @NimratOfficial @Ne...\n\n[9427 rows x 1 columns]",
      "text/html": "<div>\n<style scoped>\n    .dataframe tbody tr th:only-of-type {\n        vertical-align: middle;\n    }\n\n    .dataframe tbody tr th {\n        vertical-align: top;\n    }\n\n    .dataframe thead th {\n        text-align: right;\n    }\n</style>\n<table border=\"1\" class=\"dataframe\">\n  <thead>\n    <tr style=\"text-align: right;\">\n      <th></th>\n      <th>Tweet</th>\n    </tr>\n  </thead>\n  <tbody>\n    <tr>\n      <th>0</th>\n      <td>I hv been disappointed by the fact that Tanish...</td>\n    </tr>\n    <tr>\n      <th>1</th>\n      <td>@TanishqJewelry  @RNTata2000 #EkatvamByTanishq...</td>\n    </tr>\n    <tr>\n      <th>2</th>\n      <td>#EkatvamByTanishq @tanishq #HappyDiwali @sayan...</td>\n    </tr>\n    <tr>\n      <th>3</th>\n      <td>Hope @TanishqJewelry wishes d same on #NewYear...</td>\n    </tr>\n    <tr>\n      <th>4</th>\n      <td>@Ramesh_hjs @RituRathaur @HinduJagrutiOrg @rah...</td>\n    </tr>\n    <tr>\n      <th>...</th>\n      <td>...</td>\n    </tr>\n    <tr>\n      <th>9422</th>\n      <td>@TanishqJewelry @AlayaF___ @NimratOfficial @Ne...</td>\n    </tr>\n    <tr>\n      <th>9423</th>\n      <td>Why every time same mistake #boycotttanishq</td>\n    </tr>\n    <tr>\n      <th>9424</th>\n      <td>#boycotttanishq stop giving gyaan to us... Sto...</td>\n    </tr>\n    <tr>\n      <th>9425</th>\n      <td>So Diwali is only buying gold, \"nice\" clothes,...</td>\n    </tr>\n    <tr>\n      <th>9426</th>\n      <td>@TanishqJewelry @AlayaF___ @NimratOfficial @Ne...</td>\n    </tr>\n  </tbody>\n</table>\n<p>9427 rows × 1 columns</p>\n</div>"
     },
     "metadata": {},
     "execution_count": 45
    }
   ],
   "source": [
    "tanishq_data"
   ]
  },
  {
   "cell_type": "code",
   "execution_count": null,
   "metadata": {},
   "outputs": [],
   "source": []
  }
 ],
 "metadata": {
  "language_info": {
   "codemirror_mode": {
    "name": "ipython",
    "version": 3
   },
   "file_extension": ".py",
   "mimetype": "text/x-python",
   "name": "python",
   "nbconvert_exporter": "python",
   "pygments_lexer": "ipython3",
   "version": 3
  },
  "orig_nbformat": 2,
  "kernelspec": {
   "name": "python_defaultSpec_1610498180353",
   "display_name": "Python 3.7.7 64-bit ('Sentiment_Analysis': venv)"
  }
 },
 "nbformat": 4,
 "nbformat_minor": 2
}