{
 "metadata": {
  "language_info": {
   "codemirror_mode": {
    "name": "ipython",
    "version": 3
   },
   "file_extension": ".py",
   "mimetype": "text/x-python",
   "name": "python",
   "nbconvert_exporter": "python",
   "pygments_lexer": "ipython3",
   "version": "3.8.3-final"
  },
  "orig_nbformat": 2,
  "kernelspec": {
   "name": "python3",
   "display_name": "Python 3.8.3 64-bit ('springboard_capstone_two')",
   "metadata": {
    "interpreter": {
     "hash": "1474d2ceccc6981c1385943cdbe44b9985a06ccaa858e7fff270717edcc51f5d"
    }
   }
  }
 },
 "nbformat": 4,
 "nbformat_minor": 2,
 "cells": [
  {
   "cell_type": "code",
   "execution_count": 1,
   "metadata": {},
   "outputs": [
    {
     "output_type": "display_data",
     "data": {
      "text/html": "        <script type=\"text/javascript\">\n        window.PlotlyConfig = {MathJaxConfig: 'local'};\n        if (window.MathJax) {MathJax.Hub.Config({SVG: {font: \"STIX-Web\"}});}\n        if (typeof require !== 'undefined') {\n        require.undef(\"plotly\");\n        requirejs.config({\n            paths: {\n                'plotly': ['https://cdn.plot.ly/plotly-latest.min']\n            }\n        });\n        require(['plotly'], function(Plotly) {\n            window._Plotly = Plotly;\n        });\n        }\n        </script>\n        "
     },
     "metadata": {}
    }
   ],
   "source": [
    "import numpy as np \n",
    "import pandas as pd \n",
    "\n",
    "from sklearn.feature_extraction.text import CountVectorizer, TfidfVectorizer\n",
    "from sklearn.model_selection import train_test_split \n",
    "from sklearn.model_selection import KFold, train_test_split\n",
    "from sklearn.decomposition import PCA\n",
    "from sklearn.ensemble import AdaBoostClassifier\n",
    "from sklearn.tree import DecisionTreeClassifier\n",
    "from sklearn.model_selection import GridSearchCV\n",
    "from sklearn.metrics import make_scorer, accuracy_score, precision_score, recall_score, f1_score, roc_auc_score, classification_report\n",
    "\n",
    "import lightgbm\n",
    "import xgboost\n",
    "\n",
    "from bayes_opt import BayesianOptimization\n",
    "\n",
    "import matplotlib.pyplot as plt \n",
    "import matplotlib.cm as cm \n",
    "import seaborn as sns \n",
    "\n",
    "# Plotly \n",
    "import plotly.express as px \n",
    "import plotly.graph_objects as go \n",
    "from plotly.offline import init_notebook_mode,iplot\n",
    "import cufflinks as cf\n",
    "init_notebook_mode(connected=True)\n",
    "\n",
    "from nltk.stem import WordNetLemmatizer\n",
    "from nltk.tokenize import TweetTokenizer, word_tokenize\n",
    "\n",
    "from collections import defaultdict\n",
    "\n",
    "from lazypredict.Supervised import LazyClassifier\n",
    "\n",
    "import imblearn"
   ]
  },
  {
   "cell_type": "code",
   "execution_count": 2,
   "metadata": {},
   "outputs": [],
   "source": [
    "df = pd.read_csv('../data/processed/tanishq_data_clean_labelled.csv')\n",
    "df.drop(['Unnamed: 0', 'Unnamed: 0.1'], inplace=True, axis=1)\n",
    "lemmatizer = WordNetLemmatizer()\n",
    "tokenizer = TweetTokenizer()\n",
    "df['clean_tweet_token'] = df['clean_tweet_segmented'].apply(lemmatizer.lemmatize).apply(tokenizer.tokenize)\n",
    "df['clean_tweet_token'] = df['clean_tweet_token'].str.join(' ')\n",
    "df = df[['clean_tweet_token', 'sentiment']]\n",
    "df.dropna(inplace=True)\n",
    "df = df[df['sentiment'].isin([0.0, 4.0])]\n",
    "df['sentiment'] = df['sentiment'].replace({4.0: 1})"
   ]
  },
  {
   "cell_type": "code",
   "execution_count": 3,
   "metadata": {},
   "outputs": [],
   "source": [
    "count_vec = CountVectorizer()\n",
    "X_count_vec = count_vec.fit_transform(df['clean_tweet_token'])\n",
    "y = df['sentiment'].values \n",
    "X_train, X_test, y_train, y_test = train_test_split(X_count_vec, y, test_size=0.25, random_state=25)"
   ]
  },
  {
   "cell_type": "code",
   "execution_count": 4,
   "metadata": {},
   "outputs": [],
   "source": [
    "def process_smote(X=None, y=None, sampling=None):\n",
    "    X, y = sampling.fit_resample(X, y)\n",
    "    pca = PCA(n_components=2).fit_transform(X.toarray())\n",
    "    df = pd.DataFrame(pca)\n",
    "    df.columns = ['X1', 'X2']\n",
    "    df['labels'] = y\n",
    "    return X, y, df"
   ]
  },
  {
   "cell_type": "code",
   "execution_count": 5,
   "metadata": {},
   "outputs": [
    {
     "output_type": "display_data",
     "data": {
      "text/plain": "<Figure size 432x288 with 1 Axes>",
      "image/svg+xml": "<?xml version=\"1.0\" encoding=\"utf-8\" standalone=\"no\"?>\n<!DOCTYPE svg PUBLIC \"-//W3C//DTD SVG 1.1//EN\"\n  \"http://www.w3.org/Graphics/SVG/1.1/DTD/svg11.dtd\">\n<!-- Created with matplotlib (https://matplotlib.org/) -->\n<svg height=\"249.099688pt\" version=\"1.1\" viewBox=\"0 0 662.655 249.099688\" width=\"662.655pt\" xmlns=\"http://www.w3.org/2000/svg\" xmlns:xlink=\"http://www.w3.org/1999/xlink\">\n <metadata>\n  <rdf:RDF xmlns:cc=\"http://creativecommons.org/ns#\" xmlns:dc=\"http://purl.org/dc/elements/1.1/\" xmlns:rdf=\"http://www.w3.org/1999/02/22-rdf-syntax-ns#\">\n   <cc:Work>\n    <dc:type rdf:resource=\"http://purl.org/dc/dcmitype/StillImage\"/>\n    <dc:date>2021-02-22T21:44:23.162164</dc:date>\n    <dc:format>image/svg+xml</dc:format>\n    <dc:creator>\n     <cc:Agent>\n      <dc:title>Matplotlib v3.3.4, https://matplotlib.org/</dc:title>\n     </cc:Agent>\n    </dc:creator>\n   </cc:Work>\n  </rdf:RDF>\n </metadata>\n <defs>\n  <style type=\"text/css\">*{stroke-linecap:butt;stroke-linejoin:round;}</style>\n </defs>\n <g id=\"figure_1\">\n  <g id=\"patch_1\">\n   <path d=\"M 0 249.099688 \nL 662.655 249.099688 \nL 662.655 0 \nL 0 0 \nz\n\" style=\"fill:#ffffff;\"/>\n  </g>\n  <g id=\"axes_1\">\n   <g id=\"patch_2\">\n    <path d=\"M 171.9975 186.33125 \nL 490.6575 186.33125 \nL 490.6575 30.67125 \nL 171.9975 30.67125 \nz\n\" style=\"fill:#eaeaf2;\"/>\n   </g>\n   <g id=\"matplotlib.axis_1\">\n    <g id=\"xtick_1\">\n     <g id=\"line2d_1\">\n      <path clip-path=\"url(#p349d0fe030)\" d=\"M 175.382236 186.33125 \nL 175.382236 30.67125 \n\" style=\"fill:none;stroke:#ffffff;stroke-linecap:round;\"/>\n     </g>\n     <g id=\"text_1\">\n      <!-- −2 -->\n      <g style=\"fill:#262626;\" transform=\"translate(162.840517 211.578438)scale(0.22 -0.22)\">\n       <defs>\n        <path d=\"M 52.828125 31.203125 \nL 5.5625 31.203125 \nL 5.5625 39.40625 \nL 52.828125 39.40625 \nz\n\" id=\"ArialMT-8722\"/>\n        <path d=\"M 50.34375 8.453125 \nL 50.34375 0 \nL 3.03125 0 \nQ 2.9375 3.171875 4.046875 6.109375 \nQ 5.859375 10.9375 9.828125 15.625 \nQ 13.8125 20.3125 21.34375 26.46875 \nQ 33.015625 36.03125 37.109375 41.625 \nQ 41.21875 47.21875 41.21875 52.203125 \nQ 41.21875 57.421875 37.46875 61 \nQ 33.734375 64.59375 27.734375 64.59375 \nQ 21.390625 64.59375 17.578125 60.78125 \nQ 13.765625 56.984375 13.71875 50.25 \nL 4.6875 51.171875 \nQ 5.609375 61.28125 11.65625 66.578125 \nQ 17.71875 71.875 27.9375 71.875 \nQ 38.234375 71.875 44.234375 66.15625 \nQ 50.25 60.453125 50.25 52 \nQ 50.25 47.703125 48.484375 43.546875 \nQ 46.734375 39.40625 42.65625 34.8125 \nQ 38.578125 30.21875 29.109375 22.21875 \nQ 21.1875 15.578125 18.9375 13.203125 \nQ 16.703125 10.84375 15.234375 8.453125 \nz\n\" id=\"ArialMT-50\"/>\n       </defs>\n       <use xlink:href=\"#ArialMT-8722\"/>\n       <use x=\"58.398438\" xlink:href=\"#ArialMT-50\"/>\n      </g>\n     </g>\n    </g>\n    <g id=\"xtick_2\">\n     <g id=\"line2d_2\">\n      <path clip-path=\"url(#p349d0fe030)\" d=\"M 269.930977 186.33125 \nL 269.930977 30.67125 \n\" style=\"fill:none;stroke:#ffffff;stroke-linecap:round;\"/>\n     </g>\n     <g id=\"text_2\">\n      <!-- 0 -->\n      <g style=\"fill:#262626;\" transform=\"translate(263.813946 211.578438)scale(0.22 -0.22)\">\n       <defs>\n        <path d=\"M 4.15625 35.296875 \nQ 4.15625 48 6.765625 55.734375 \nQ 9.375 63.484375 14.515625 67.671875 \nQ 19.671875 71.875 27.484375 71.875 \nQ 33.25 71.875 37.59375 69.546875 \nQ 41.9375 67.234375 44.765625 62.859375 \nQ 47.609375 58.5 49.21875 52.21875 \nQ 50.828125 45.953125 50.828125 35.296875 \nQ 50.828125 22.703125 48.234375 14.96875 \nQ 45.65625 7.234375 40.5 3 \nQ 35.359375 -1.21875 27.484375 -1.21875 \nQ 17.140625 -1.21875 11.234375 6.203125 \nQ 4.15625 15.140625 4.15625 35.296875 \nz\nM 13.1875 35.296875 \nQ 13.1875 17.671875 17.3125 11.828125 \nQ 21.4375 6 27.484375 6 \nQ 33.546875 6 37.671875 11.859375 \nQ 41.796875 17.71875 41.796875 35.296875 \nQ 41.796875 52.984375 37.671875 58.78125 \nQ 33.546875 64.59375 27.390625 64.59375 \nQ 21.34375 64.59375 17.71875 59.46875 \nQ 13.1875 52.9375 13.1875 35.296875 \nz\n\" id=\"ArialMT-48\"/>\n       </defs>\n       <use xlink:href=\"#ArialMT-48\"/>\n      </g>\n     </g>\n    </g>\n    <g id=\"xtick_3\">\n     <g id=\"line2d_3\">\n      <path clip-path=\"url(#p349d0fe030)\" d=\"M 364.479718 186.33125 \nL 364.479718 30.67125 \n\" style=\"fill:none;stroke:#ffffff;stroke-linecap:round;\"/>\n     </g>\n     <g id=\"text_3\">\n      <!-- 2 -->\n      <g style=\"fill:#262626;\" transform=\"translate(358.362686 211.578438)scale(0.22 -0.22)\">\n       <use xlink:href=\"#ArialMT-50\"/>\n      </g>\n     </g>\n    </g>\n    <g id=\"xtick_4\">\n     <g id=\"line2d_4\">\n      <path clip-path=\"url(#p349d0fe030)\" d=\"M 459.028459 186.33125 \nL 459.028459 30.67125 \n\" style=\"fill:none;stroke:#ffffff;stroke-linecap:round;\"/>\n     </g>\n     <g id=\"text_4\">\n      <!-- 4 -->\n      <g style=\"fill:#262626;\" transform=\"translate(452.911427 211.578438)scale(0.22 -0.22)\">\n       <defs>\n        <path d=\"M 32.328125 0 \nL 32.328125 17.140625 \nL 1.265625 17.140625 \nL 1.265625 25.203125 \nL 33.9375 71.578125 \nL 41.109375 71.578125 \nL 41.109375 25.203125 \nL 50.78125 25.203125 \nL 50.78125 17.140625 \nL 41.109375 17.140625 \nL 41.109375 0 \nz\nM 32.328125 25.203125 \nL 32.328125 57.46875 \nL 9.90625 25.203125 \nz\n\" id=\"ArialMT-52\"/>\n       </defs>\n       <use xlink:href=\"#ArialMT-52\"/>\n      </g>\n     </g>\n    </g>\n    <g id=\"text_5\">\n     <!-- X1 -->\n     <g style=\"fill:#262626;\" transform=\"translate(316.65 237.129688)scale(0.24 -0.24)\">\n      <defs>\n       <path d=\"M 0.4375 0 \nL 28.125 37.3125 \nL 3.71875 71.578125 \nL 14.984375 71.578125 \nL 27.984375 53.21875 \nQ 32.03125 47.515625 33.734375 44.4375 \nQ 36.140625 48.34375 39.40625 52.59375 \nL 53.8125 71.578125 \nL 64.109375 71.578125 \nL 38.96875 37.84375 \nL 66.0625 0 \nL 54.34375 0 \nL 36.328125 25.53125 \nQ 34.8125 27.734375 33.203125 30.328125 \nQ 30.8125 26.421875 29.78125 24.953125 \nL 11.8125 0 \nz\n\" id=\"ArialMT-88\"/>\n       <path d=\"M 37.25 0 \nL 28.46875 0 \nL 28.46875 56 \nQ 25.296875 52.984375 20.140625 49.953125 \nQ 14.984375 46.921875 10.890625 45.40625 \nL 10.890625 53.90625 \nQ 18.265625 57.375 23.78125 62.296875 \nQ 29.296875 67.234375 31.59375 71.875 \nL 37.25 71.875 \nz\n\" id=\"ArialMT-49\"/>\n      </defs>\n      <use xlink:href=\"#ArialMT-88\"/>\n      <use x=\"66.699219\" xlink:href=\"#ArialMT-49\"/>\n     </g>\n    </g>\n   </g>\n   <g id=\"matplotlib.axis_2\">\n    <g id=\"ytick_1\">\n     <g id=\"line2d_5\">\n      <path clip-path=\"url(#p349d0fe030)\" d=\"M 171.9975 174.750348 \nL 490.6575 174.750348 \n\" style=\"fill:none;stroke:#ffffff;stroke-linecap:round;\"/>\n     </g>\n     <g id=\"text_6\">\n      <!-- −2 -->\n      <g style=\"fill:#262626;\" transform=\"translate(137.414062 182.623941)scale(0.22 -0.22)\">\n       <use xlink:href=\"#ArialMT-8722\"/>\n       <use x=\"58.398438\" xlink:href=\"#ArialMT-50\"/>\n      </g>\n     </g>\n    </g>\n    <g id=\"ytick_2\">\n     <g id=\"line2d_6\">\n      <path clip-path=\"url(#p349d0fe030)\" d=\"M 171.9975 121.528629 \nL 490.6575 121.528629 \n\" style=\"fill:none;stroke:#ffffff;stroke-linecap:round;\"/>\n     </g>\n     <g id=\"text_7\">\n      <!-- 0 -->\n      <g style=\"fill:#262626;\" transform=\"translate(150.263438 129.402222)scale(0.22 -0.22)\">\n       <use xlink:href=\"#ArialMT-48\"/>\n      </g>\n     </g>\n    </g>\n    <g id=\"ytick_3\">\n     <g id=\"line2d_7\">\n      <path clip-path=\"url(#p349d0fe030)\" d=\"M 171.9975 68.30691 \nL 490.6575 68.30691 \n\" style=\"fill:none;stroke:#ffffff;stroke-linecap:round;\"/>\n     </g>\n     <g id=\"text_8\">\n      <!-- 2 -->\n      <g style=\"fill:#262626;\" transform=\"translate(150.263438 76.180504)scale(0.22 -0.22)\">\n       <use xlink:href=\"#ArialMT-50\"/>\n      </g>\n     </g>\n    </g>\n    <g id=\"text_9\">\n     <!-- X2 -->\n     <g style=\"fill:#262626;\" transform=\"translate(128.644062 123.17875)rotate(-90)scale(0.24 -0.24)\">\n      <use xlink:href=\"#ArialMT-88\"/>\n      <use x=\"66.699219\" xlink:href=\"#ArialMT-50\"/>\n     </g>\n    </g>\n   </g>\n   <g id=\"PathCollection_1\">\n    <defs>\n     <path d=\"M 0 3 \nC 0.795609 3 1.55874 2.683901 2.12132 2.12132 \nC 2.683901 1.55874 3 0.795609 3 -0 \nC 3 -0.795609 2.683901 -1.55874 2.12132 -2.12132 \nC 1.55874 -2.683901 0.795609 -3 0 -3 \nC -0.795609 -3 -1.55874 -2.683901 -2.12132 -2.12132 \nC -2.683901 -1.55874 -3 -0.795609 -3 0 \nC -3 0.795609 -2.683901 1.55874 -2.12132 2.12132 \nC -1.55874 2.683901 -0.795609 3 0 3 \nz\n\" id=\"C0_0_6f4fb00128\"/>\n    </defs>\n    <g clip-path=\"url(#p349d0fe030)\">\n     <use style=\"fill:#001c7f;stroke:#ffffff;stroke-width:0.48;\" x=\"281.574485\" xlink:href=\"#C0_0_6f4fb00128\" y=\"108.052094\"/>\n    </g>\n    <g clip-path=\"url(#p349d0fe030)\">\n     <use style=\"fill:#001c7f;stroke:#ffffff;stroke-width:0.48;\" x=\"247.024592\" xlink:href=\"#C0_0_6f4fb00128\" y=\"179.255795\"/>\n    </g>\n    <g clip-path=\"url(#p349d0fe030)\">\n     <use style=\"fill:#001c7f;stroke:#ffffff;stroke-width:0.48;\" x=\"216.009363\" xlink:href=\"#C0_0_6f4fb00128\" y=\"79.969746\"/>\n    </g>\n    <g clip-path=\"url(#p349d0fe030)\">\n     <use style=\"fill:#001c7f;stroke:#ffffff;stroke-width:0.48;\" x=\"233.062687\" xlink:href=\"#C0_0_6f4fb00128\" y=\"66.094916\"/>\n    </g>\n    <g clip-path=\"url(#p349d0fe030)\">\n     <use style=\"fill:#001c7f;stroke:#ffffff;stroke-width:0.48;\" x=\"289.437488\" xlink:href=\"#C0_0_6f4fb00128\" y=\"150.753986\"/>\n    </g>\n    <g clip-path=\"url(#p349d0fe030)\">\n     <use style=\"fill:#001c7f;stroke:#ffffff;stroke-width:0.48;\" x=\"254.194199\" xlink:href=\"#C0_0_6f4fb00128\" y=\"85.317746\"/>\n    </g>\n    <g clip-path=\"url(#p349d0fe030)\">\n     <use style=\"fill:#001c7f;stroke:#ffffff;stroke-width:0.48;\" x=\"270.383448\" xlink:href=\"#C0_0_6f4fb00128\" y=\"89.55199\"/>\n    </g>\n    <g clip-path=\"url(#p349d0fe030)\">\n     <use style=\"fill:#b1400d;stroke:#ffffff;stroke-width:0.48;\" x=\"318.208868\" xlink:href=\"#C0_0_6f4fb00128\" y=\"134.013677\"/>\n    </g>\n    <g clip-path=\"url(#p349d0fe030)\">\n     <use style=\"fill:#001c7f;stroke:#ffffff;stroke-width:0.48;\" x=\"276.79227\" xlink:href=\"#C0_0_6f4fb00128\" y=\"124.869169\"/>\n    </g>\n    <g clip-path=\"url(#p349d0fe030)\">\n     <use style=\"fill:#001c7f;stroke:#ffffff;stroke-width:0.48;\" x=\"236.959156\" xlink:href=\"#C0_0_6f4fb00128\" y=\"92.889564\"/>\n    </g>\n    <g clip-path=\"url(#p349d0fe030)\">\n     <use style=\"fill:#001c7f;stroke:#ffffff;stroke-width:0.48;\" x=\"314.569371\" xlink:href=\"#C0_0_6f4fb00128\" y=\"133.497458\"/>\n    </g>\n    <g clip-path=\"url(#p349d0fe030)\">\n     <use style=\"fill:#001c7f;stroke:#ffffff;stroke-width:0.48;\" x=\"278.295632\" xlink:href=\"#C0_0_6f4fb00128\" y=\"86.791205\"/>\n    </g>\n    <g clip-path=\"url(#p349d0fe030)\">\n     <use style=\"fill:#001c7f;stroke:#ffffff;stroke-width:0.48;\" x=\"225.281449\" xlink:href=\"#C0_0_6f4fb00128\" y=\"146.851\"/>\n    </g>\n    <g clip-path=\"url(#p349d0fe030)\">\n     <use style=\"fill:#001c7f;stroke:#ffffff;stroke-width:0.48;\" x=\"246.13679\" xlink:href=\"#C0_0_6f4fb00128\" y=\"150.873287\"/>\n    </g>\n    <g clip-path=\"url(#p349d0fe030)\">\n     <use style=\"fill:#001c7f;stroke:#ffffff;stroke-width:0.48;\" x=\"348.598619\" xlink:href=\"#C0_0_6f4fb00128\" y=\"89.298385\"/>\n    </g>\n    <g clip-path=\"url(#p349d0fe030)\">\n     <use style=\"fill:#b1400d;stroke:#ffffff;stroke-width:0.48;\" x=\"365.720002\" xlink:href=\"#C0_0_6f4fb00128\" y=\"57.55111\"/>\n    </g>\n    <g clip-path=\"url(#p349d0fe030)\">\n     <use style=\"fill:#001c7f;stroke:#ffffff;stroke-width:0.48;\" x=\"343.588799\" xlink:href=\"#C0_0_6f4fb00128\" y=\"174.124441\"/>\n    </g>\n    <g clip-path=\"url(#p349d0fe030)\">\n     <use style=\"fill:#001c7f;stroke:#ffffff;stroke-width:0.48;\" x=\"276.454146\" xlink:href=\"#C0_0_6f4fb00128\" y=\"147.106094\"/>\n    </g>\n    <g clip-path=\"url(#p349d0fe030)\">\n     <use style=\"fill:#001c7f;stroke:#ffffff;stroke-width:0.48;\" x=\"232.237705\" xlink:href=\"#C0_0_6f4fb00128\" y=\"93.695027\"/>\n    </g>\n    <g clip-path=\"url(#p349d0fe030)\">\n     <use style=\"fill:#001c7f;stroke:#ffffff;stroke-width:0.48;\" x=\"226.850221\" xlink:href=\"#C0_0_6f4fb00128\" y=\"81.246118\"/>\n    </g>\n    <g clip-path=\"url(#p349d0fe030)\">\n     <use style=\"fill:#001c7f;stroke:#ffffff;stroke-width:0.48;\" x=\"346.51643\" xlink:href=\"#C0_0_6f4fb00128\" y=\"129.706777\"/>\n    </g>\n    <g clip-path=\"url(#p349d0fe030)\">\n     <use style=\"fill:#001c7f;stroke:#ffffff;stroke-width:0.48;\" x=\"241.386613\" xlink:href=\"#C0_0_6f4fb00128\" y=\"102.975163\"/>\n    </g>\n    <g clip-path=\"url(#p349d0fe030)\">\n     <use style=\"fill:#001c7f;stroke:#ffffff;stroke-width:0.48;\" x=\"295.862948\" xlink:href=\"#C0_0_6f4fb00128\" y=\"47.982363\"/>\n    </g>\n    <g clip-path=\"url(#p349d0fe030)\">\n     <use style=\"fill:#001c7f;stroke:#ffffff;stroke-width:0.48;\" x=\"266.098101\" xlink:href=\"#C0_0_6f4fb00128\" y=\"124.85161\"/>\n    </g>\n    <g clip-path=\"url(#p349d0fe030)\">\n     <use style=\"fill:#b1400d;stroke:#ffffff;stroke-width:0.48;\" x=\"240.605522\" xlink:href=\"#C0_0_6f4fb00128\" y=\"79.214454\"/>\n    </g>\n    <g clip-path=\"url(#p349d0fe030)\">\n     <use style=\"fill:#001c7f;stroke:#ffffff;stroke-width:0.48;\" x=\"276.345502\" xlink:href=\"#C0_0_6f4fb00128\" y=\"99.268664\"/>\n    </g>\n    <g clip-path=\"url(#p349d0fe030)\">\n     <use style=\"fill:#001c7f;stroke:#ffffff;stroke-width:0.48;\" x=\"256.474504\" xlink:href=\"#C0_0_6f4fb00128\" y=\"73.254707\"/>\n    </g>\n    <g clip-path=\"url(#p349d0fe030)\">\n     <use style=\"fill:#001c7f;stroke:#ffffff;stroke-width:0.48;\" x=\"245.928186\" xlink:href=\"#C0_0_6f4fb00128\" y=\"107.519857\"/>\n    </g>\n    <g clip-path=\"url(#p349d0fe030)\">\n     <use style=\"fill:#001c7f;stroke:#ffffff;stroke-width:0.48;\" x=\"261.708462\" xlink:href=\"#C0_0_6f4fb00128\" y=\"129.109595\"/>\n    </g>\n    <g clip-path=\"url(#p349d0fe030)\">\n     <use style=\"fill:#001c7f;stroke:#ffffff;stroke-width:0.48;\" x=\"422.43878\" xlink:href=\"#C0_0_6f4fb00128\" y=\"90.257138\"/>\n    </g>\n    <g clip-path=\"url(#p349d0fe030)\">\n     <use style=\"fill:#001c7f;stroke:#ffffff;stroke-width:0.48;\" x=\"206.123739\" xlink:href=\"#C0_0_6f4fb00128\" y=\"130.514405\"/>\n    </g>\n    <g clip-path=\"url(#p349d0fe030)\">\n     <use style=\"fill:#001c7f;stroke:#ffffff;stroke-width:0.48;\" x=\"242.337272\" xlink:href=\"#C0_0_6f4fb00128\" y=\"137.748374\"/>\n    </g>\n    <g clip-path=\"url(#p349d0fe030)\">\n     <use style=\"fill:#001c7f;stroke:#ffffff;stroke-width:0.48;\" x=\"378.343695\" xlink:href=\"#C0_0_6f4fb00128\" y=\"139.159305\"/>\n    </g>\n    <g clip-path=\"url(#p349d0fe030)\">\n     <use style=\"fill:#001c7f;stroke:#ffffff;stroke-width:0.48;\" x=\"242.684073\" xlink:href=\"#C0_0_6f4fb00128\" y=\"146.10884\"/>\n    </g>\n    <g clip-path=\"url(#p349d0fe030)\">\n     <use style=\"fill:#001c7f;stroke:#ffffff;stroke-width:0.48;\" x=\"223.282579\" xlink:href=\"#C0_0_6f4fb00128\" y=\"132.254434\"/>\n    </g>\n    <g clip-path=\"url(#p349d0fe030)\">\n     <use style=\"fill:#001c7f;stroke:#ffffff;stroke-width:0.48;\" x=\"308.12534\" xlink:href=\"#C0_0_6f4fb00128\" y=\"102.950115\"/>\n    </g>\n    <g clip-path=\"url(#p349d0fe030)\">\n     <use style=\"fill:#001c7f;stroke:#ffffff;stroke-width:0.48;\" x=\"379.338827\" xlink:href=\"#C0_0_6f4fb00128\" y=\"96.658149\"/>\n    </g>\n    <g clip-path=\"url(#p349d0fe030)\">\n     <use style=\"fill:#001c7f;stroke:#ffffff;stroke-width:0.48;\" x=\"293.295286\" xlink:href=\"#C0_0_6f4fb00128\" y=\"71.398758\"/>\n    </g>\n    <g clip-path=\"url(#p349d0fe030)\">\n     <use style=\"fill:#001c7f;stroke:#ffffff;stroke-width:0.48;\" x=\"242.684073\" xlink:href=\"#C0_0_6f4fb00128\" y=\"146.10884\"/>\n    </g>\n    <g clip-path=\"url(#p349d0fe030)\">\n     <use style=\"fill:#001c7f;stroke:#ffffff;stroke-width:0.48;\" x=\"283.794125\" xlink:href=\"#C0_0_6f4fb00128\" y=\"132.141464\"/>\n    </g>\n    <g clip-path=\"url(#p349d0fe030)\">\n     <use style=\"fill:#001c7f;stroke:#ffffff;stroke-width:0.48;\" x=\"245.873959\" xlink:href=\"#C0_0_6f4fb00128\" y=\"156.415524\"/>\n    </g>\n    <g clip-path=\"url(#p349d0fe030)\">\n     <use style=\"fill:#001c7f;stroke:#ffffff;stroke-width:0.48;\" x=\"209.094763\" xlink:href=\"#C0_0_6f4fb00128\" y=\"144.227243\"/>\n    </g>\n    <g clip-path=\"url(#p349d0fe030)\">\n     <use style=\"fill:#001c7f;stroke:#ffffff;stroke-width:0.48;\" x=\"221.845568\" xlink:href=\"#C0_0_6f4fb00128\" y=\"142.678805\"/>\n    </g>\n    <g clip-path=\"url(#p349d0fe030)\">\n     <use style=\"fill:#001c7f;stroke:#ffffff;stroke-width:0.48;\" x=\"288.411938\" xlink:href=\"#C0_0_6f4fb00128\" y=\"46.58584\"/>\n    </g>\n    <g clip-path=\"url(#p349d0fe030)\">\n     <use style=\"fill:#001c7f;stroke:#ffffff;stroke-width:0.48;\" x=\"328.074481\" xlink:href=\"#C0_0_6f4fb00128\" y=\"106.733083\"/>\n    </g>\n    <g clip-path=\"url(#p349d0fe030)\">\n     <use style=\"fill:#b1400d;stroke:#ffffff;stroke-width:0.48;\" x=\"245.403922\" xlink:href=\"#C0_0_6f4fb00128\" y=\"172.850881\"/>\n    </g>\n    <g clip-path=\"url(#p349d0fe030)\">\n     <use style=\"fill:#001c7f;stroke:#ffffff;stroke-width:0.48;\" x=\"254.070331\" xlink:href=\"#C0_0_6f4fb00128\" y=\"151.353533\"/>\n    </g>\n    <g clip-path=\"url(#p349d0fe030)\">\n     <use style=\"fill:#001c7f;stroke:#ffffff;stroke-width:0.48;\" x=\"254.172224\" xlink:href=\"#C0_0_6f4fb00128\" y=\"163.417739\"/>\n    </g>\n    <g clip-path=\"url(#p349d0fe030)\">\n     <use style=\"fill:#001c7f;stroke:#ffffff;stroke-width:0.48;\" x=\"220.698859\" xlink:href=\"#C0_0_6f4fb00128\" y=\"130.851033\"/>\n    </g>\n    <g clip-path=\"url(#p349d0fe030)\">\n     <use style=\"fill:#001c7f;stroke:#ffffff;stroke-width:0.48;\" x=\"285.235997\" xlink:href=\"#C0_0_6f4fb00128\" y=\"143.038979\"/>\n    </g>\n    <g clip-path=\"url(#p349d0fe030)\">\n     <use style=\"fill:#001c7f;stroke:#ffffff;stroke-width:0.48;\" x=\"352.039384\" xlink:href=\"#C0_0_6f4fb00128\" y=\"129.295035\"/>\n    </g>\n    <g clip-path=\"url(#p349d0fe030)\">\n     <use style=\"fill:#001c7f;stroke:#ffffff;stroke-width:0.48;\" x=\"203.093478\" xlink:href=\"#C0_0_6f4fb00128\" y=\"125.753114\"/>\n    </g>\n    <g clip-path=\"url(#p349d0fe030)\">\n     <use style=\"fill:#001c7f;stroke:#ffffff;stroke-width:0.48;\" x=\"380.228037\" xlink:href=\"#C0_0_6f4fb00128\" y=\"143.592548\"/>\n    </g>\n    <g clip-path=\"url(#p349d0fe030)\">\n     <use style=\"fill:#001c7f;stroke:#ffffff;stroke-width:0.48;\" x=\"285.489368\" xlink:href=\"#C0_0_6f4fb00128\" y=\"147.628401\"/>\n    </g>\n    <g clip-path=\"url(#p349d0fe030)\">\n     <use style=\"fill:#001c7f;stroke:#ffffff;stroke-width:0.48;\" x=\"226.173823\" xlink:href=\"#C0_0_6f4fb00128\" y=\"88.622798\"/>\n    </g>\n    <g clip-path=\"url(#p349d0fe030)\">\n     <use style=\"fill:#001c7f;stroke:#ffffff;stroke-width:0.48;\" x=\"220.280423\" xlink:href=\"#C0_0_6f4fb00128\" y=\"126.612463\"/>\n    </g>\n    <g clip-path=\"url(#p349d0fe030)\">\n     <use style=\"fill:#001c7f;stroke:#ffffff;stroke-width:0.48;\" x=\"240.615129\" xlink:href=\"#C0_0_6f4fb00128\" y=\"152.211918\"/>\n    </g>\n    <g clip-path=\"url(#p349d0fe030)\">\n     <use style=\"fill:#001c7f;stroke:#ffffff;stroke-width:0.48;\" x=\"256.068117\" xlink:href=\"#C0_0_6f4fb00128\" y=\"104.983143\"/>\n    </g>\n    <g clip-path=\"url(#p349d0fe030)\">\n     <use style=\"fill:#001c7f;stroke:#ffffff;stroke-width:0.48;\" x=\"252.928802\" xlink:href=\"#C0_0_6f4fb00128\" y=\"133.391873\"/>\n    </g>\n    <g clip-path=\"url(#p349d0fe030)\">\n     <use style=\"fill:#001c7f;stroke:#ffffff;stroke-width:0.48;\" x=\"209.795671\" xlink:href=\"#C0_0_6f4fb00128\" y=\"150.00626\"/>\n    </g>\n    <g clip-path=\"url(#p349d0fe030)\">\n     <use style=\"fill:#001c7f;stroke:#ffffff;stroke-width:0.48;\" x=\"229.953422\" xlink:href=\"#C0_0_6f4fb00128\" y=\"104.475335\"/>\n    </g>\n    <g clip-path=\"url(#p349d0fe030)\">\n     <use style=\"fill:#001c7f;stroke:#ffffff;stroke-width:0.48;\" x=\"300.999832\" xlink:href=\"#C0_0_6f4fb00128\" y=\"106.339457\"/>\n    </g>\n    <g clip-path=\"url(#p349d0fe030)\">\n     <use style=\"fill:#001c7f;stroke:#ffffff;stroke-width:0.48;\" x=\"220.457708\" xlink:href=\"#C0_0_6f4fb00128\" y=\"132.387897\"/>\n    </g>\n    <g clip-path=\"url(#p349d0fe030)\">\n     <use style=\"fill:#001c7f;stroke:#ffffff;stroke-width:0.48;\" x=\"220.387077\" xlink:href=\"#C0_0_6f4fb00128\" y=\"146.724229\"/>\n    </g>\n    <g clip-path=\"url(#p349d0fe030)\">\n     <use style=\"fill:#001c7f;stroke:#ffffff;stroke-width:0.48;\" x=\"205.324569\" xlink:href=\"#C0_0_6f4fb00128\" y=\"131.153162\"/>\n    </g>\n    <g clip-path=\"url(#p349d0fe030)\">\n     <use style=\"fill:#001c7f;stroke:#ffffff;stroke-width:0.48;\" x=\"240.935933\" xlink:href=\"#C0_0_6f4fb00128\" y=\"151.974188\"/>\n    </g>\n    <g clip-path=\"url(#p349d0fe030)\">\n     <use style=\"fill:#001c7f;stroke:#ffffff;stroke-width:0.48;\" x=\"310.776885\" xlink:href=\"#C0_0_6f4fb00128\" y=\"82.736302\"/>\n    </g>\n    <g clip-path=\"url(#p349d0fe030)\">\n     <use style=\"fill:#b1400d;stroke:#ffffff;stroke-width:0.48;\" x=\"393.533715\" xlink:href=\"#C0_0_6f4fb00128\" y=\"144.706243\"/>\n    </g>\n    <g clip-path=\"url(#p349d0fe030)\">\n     <use style=\"fill:#001c7f;stroke:#ffffff;stroke-width:0.48;\" x=\"260.977818\" xlink:href=\"#C0_0_6f4fb00128\" y=\"101.521848\"/>\n    </g>\n    <g clip-path=\"url(#p349d0fe030)\">\n     <use style=\"fill:#001c7f;stroke:#ffffff;stroke-width:0.48;\" x=\"313.437941\" xlink:href=\"#C0_0_6f4fb00128\" y=\"153.778655\"/>\n    </g>\n    <g clip-path=\"url(#p349d0fe030)\">\n     <use style=\"fill:#b1400d;stroke:#ffffff;stroke-width:0.48;\" x=\"322.254068\" xlink:href=\"#C0_0_6f4fb00128\" y=\"171.534861\"/>\n    </g>\n    <g clip-path=\"url(#p349d0fe030)\">\n     <use style=\"fill:#001c7f;stroke:#ffffff;stroke-width:0.48;\" x=\"329.292673\" xlink:href=\"#C0_0_6f4fb00128\" y=\"140.381597\"/>\n    </g>\n    <g clip-path=\"url(#p349d0fe030)\">\n     <use style=\"fill:#001c7f;stroke:#ffffff;stroke-width:0.48;\" x=\"210.748185\" xlink:href=\"#C0_0_6f4fb00128\" y=\"149.702524\"/>\n    </g>\n    <g clip-path=\"url(#p349d0fe030)\">\n     <use style=\"fill:#001c7f;stroke:#ffffff;stroke-width:0.48;\" x=\"275.291837\" xlink:href=\"#C0_0_6f4fb00128\" y=\"127.690675\"/>\n    </g>\n    <g clip-path=\"url(#p349d0fe030)\">\n     <use style=\"fill:#001c7f;stroke:#ffffff;stroke-width:0.48;\" x=\"216.406951\" xlink:href=\"#C0_0_6f4fb00128\" y=\"148.382259\"/>\n    </g>\n    <g clip-path=\"url(#p349d0fe030)\">\n     <use style=\"fill:#001c7f;stroke:#ffffff;stroke-width:0.48;\" x=\"259.874736\" xlink:href=\"#C0_0_6f4fb00128\" y=\"80.729948\"/>\n    </g>\n    <g clip-path=\"url(#p349d0fe030)\">\n     <use style=\"fill:#001c7f;stroke:#ffffff;stroke-width:0.48;\" x=\"221.654077\" xlink:href=\"#C0_0_6f4fb00128\" y=\"122.973923\"/>\n    </g>\n    <g clip-path=\"url(#p349d0fe030)\">\n     <use style=\"fill:#001c7f;stroke:#ffffff;stroke-width:0.48;\" x=\"227.895418\" xlink:href=\"#C0_0_6f4fb00128\" y=\"84.176124\"/>\n    </g>\n    <g clip-path=\"url(#p349d0fe030)\">\n     <use style=\"fill:#001c7f;stroke:#ffffff;stroke-width:0.48;\" x=\"220.137803\" xlink:href=\"#C0_0_6f4fb00128\" y=\"147.996617\"/>\n    </g>\n    <g clip-path=\"url(#p349d0fe030)\">\n     <use style=\"fill:#001c7f;stroke:#ffffff;stroke-width:0.48;\" x=\"225.750273\" xlink:href=\"#C0_0_6f4fb00128\" y=\"90.42051\"/>\n    </g>\n    <g clip-path=\"url(#p349d0fe030)\">\n     <use style=\"fill:#b1400d;stroke:#ffffff;stroke-width:0.48;\" x=\"354.661526\" xlink:href=\"#C0_0_6f4fb00128\" y=\"139.276515\"/>\n    </g>\n    <g clip-path=\"url(#p349d0fe030)\">\n     <use style=\"fill:#001c7f;stroke:#ffffff;stroke-width:0.48;\" x=\"245.927874\" xlink:href=\"#C0_0_6f4fb00128\" y=\"146.387095\"/>\n    </g>\n    <g clip-path=\"url(#p349d0fe030)\">\n     <use style=\"fill:#001c7f;stroke:#ffffff;stroke-width:0.48;\" x=\"244.91554\" xlink:href=\"#C0_0_6f4fb00128\" y=\"135.944924\"/>\n    </g>\n    <g clip-path=\"url(#p349d0fe030)\">\n     <use style=\"fill:#001c7f;stroke:#ffffff;stroke-width:0.48;\" x=\"291.883617\" xlink:href=\"#C0_0_6f4fb00128\" y=\"132.509782\"/>\n    </g>\n    <g clip-path=\"url(#p349d0fe030)\">\n     <use style=\"fill:#001c7f;stroke:#ffffff;stroke-width:0.48;\" x=\"238.362991\" xlink:href=\"#C0_0_6f4fb00128\" y=\"148.939859\"/>\n    </g>\n    <g clip-path=\"url(#p349d0fe030)\">\n     <use style=\"fill:#001c7f;stroke:#ffffff;stroke-width:0.48;\" x=\"240.640824\" xlink:href=\"#C0_0_6f4fb00128\" y=\"41.774\"/>\n    </g>\n    <g clip-path=\"url(#p349d0fe030)\">\n     <use style=\"fill:#001c7f;stroke:#ffffff;stroke-width:0.48;\" x=\"247.175285\" xlink:href=\"#C0_0_6f4fb00128\" y=\"147.810882\"/>\n    </g>\n    <g clip-path=\"url(#p349d0fe030)\">\n     <use style=\"fill:#001c7f;stroke:#ffffff;stroke-width:0.48;\" x=\"260.977818\" xlink:href=\"#C0_0_6f4fb00128\" y=\"101.521848\"/>\n    </g>\n    <g clip-path=\"url(#p349d0fe030)\">\n     <use style=\"fill:#001c7f;stroke:#ffffff;stroke-width:0.48;\" x=\"475.53187\" xlink:href=\"#C0_0_6f4fb00128\" y=\"128.368019\"/>\n    </g>\n    <g clip-path=\"url(#p349d0fe030)\">\n     <use style=\"fill:#001c7f;stroke:#ffffff;stroke-width:0.48;\" x=\"208.805109\" xlink:href=\"#C0_0_6f4fb00128\" y=\"149.82885\"/>\n    </g>\n    <g clip-path=\"url(#p349d0fe030)\">\n     <use style=\"fill:#001c7f;stroke:#ffffff;stroke-width:0.48;\" x=\"389.50187\" xlink:href=\"#C0_0_6f4fb00128\" y=\"144.009412\"/>\n    </g>\n    <g clip-path=\"url(#p349d0fe030)\">\n     <use style=\"fill:#001c7f;stroke:#ffffff;stroke-width:0.48;\" x=\"474.472616\" xlink:href=\"#C0_0_6f4fb00128\" y=\"88.064636\"/>\n    </g>\n    <g clip-path=\"url(#p349d0fe030)\">\n     <use style=\"fill:#001c7f;stroke:#ffffff;stroke-width:0.48;\" x=\"218.661376\" xlink:href=\"#C0_0_6f4fb00128\" y=\"80.573814\"/>\n    </g>\n    <g clip-path=\"url(#p349d0fe030)\">\n     <use style=\"fill:#001c7f;stroke:#ffffff;stroke-width:0.48;\" x=\"304.489299\" xlink:href=\"#C0_0_6f4fb00128\" y=\"108.93652\"/>\n    </g>\n    <g clip-path=\"url(#p349d0fe030)\">\n     <use style=\"fill:#001c7f;stroke:#ffffff;stroke-width:0.48;\" x=\"365.107048\" xlink:href=\"#C0_0_6f4fb00128\" y=\"98.31824\"/>\n    </g>\n    <g clip-path=\"url(#p349d0fe030)\">\n     <use style=\"fill:#001c7f;stroke:#ffffff;stroke-width:0.48;\" x=\"299.6605\" xlink:href=\"#C0_0_6f4fb00128\" y=\"92.973414\"/>\n    </g>\n    <g clip-path=\"url(#p349d0fe030)\">\n     <use style=\"fill:#001c7f;stroke:#ffffff;stroke-width:0.48;\" x=\"337.976935\" xlink:href=\"#C0_0_6f4fb00128\" y=\"133.471994\"/>\n    </g>\n    <g clip-path=\"url(#p349d0fe030)\">\n     <use style=\"fill:#001c7f;stroke:#ffffff;stroke-width:0.48;\" x=\"237.070002\" xlink:href=\"#C0_0_6f4fb00128\" y=\"122.640388\"/>\n    </g>\n    <g clip-path=\"url(#p349d0fe030)\">\n     <use style=\"fill:#001c7f;stroke:#ffffff;stroke-width:0.48;\" x=\"300.566342\" xlink:href=\"#C0_0_6f4fb00128\" y=\"112.650496\"/>\n    </g>\n    <g clip-path=\"url(#p349d0fe030)\">\n     <use style=\"fill:#001c7f;stroke:#ffffff;stroke-width:0.48;\" x=\"253.526269\" xlink:href=\"#C0_0_6f4fb00128\" y=\"99.373821\"/>\n    </g>\n    <g clip-path=\"url(#p349d0fe030)\">\n     <use style=\"fill:#001c7f;stroke:#ffffff;stroke-width:0.48;\" x=\"280.586884\" xlink:href=\"#C0_0_6f4fb00128\" y=\"124.690342\"/>\n    </g>\n    <g clip-path=\"url(#p349d0fe030)\">\n     <use style=\"fill:#001c7f;stroke:#ffffff;stroke-width:0.48;\" x=\"275.912805\" xlink:href=\"#C0_0_6f4fb00128\" y=\"97.570554\"/>\n    </g>\n    <g clip-path=\"url(#p349d0fe030)\">\n     <use style=\"fill:#001c7f;stroke:#ffffff;stroke-width:0.48;\" x=\"221.492024\" xlink:href=\"#C0_0_6f4fb00128\" y=\"113.831544\"/>\n    </g>\n    <g clip-path=\"url(#p349d0fe030)\">\n     <use style=\"fill:#001c7f;stroke:#ffffff;stroke-width:0.48;\" x=\"242.993108\" xlink:href=\"#C0_0_6f4fb00128\" y=\"91.394054\"/>\n    </g>\n    <g clip-path=\"url(#p349d0fe030)\">\n     <use style=\"fill:#001c7f;stroke:#ffffff;stroke-width:0.48;\" x=\"227.857741\" xlink:href=\"#C0_0_6f4fb00128\" y=\"151.509189\"/>\n    </g>\n    <g clip-path=\"url(#p349d0fe030)\">\n     <use style=\"fill:#001c7f;stroke:#ffffff;stroke-width:0.48;\" x=\"255.843449\" xlink:href=\"#C0_0_6f4fb00128\" y=\"118.979208\"/>\n    </g>\n    <g clip-path=\"url(#p349d0fe030)\">\n     <use style=\"fill:#001c7f;stroke:#ffffff;stroke-width:0.48;\" x=\"301.311131\" xlink:href=\"#C0_0_6f4fb00128\" y=\"101.452115\"/>\n    </g>\n    <g clip-path=\"url(#p349d0fe030)\">\n     <use style=\"fill:#001c7f;stroke:#ffffff;stroke-width:0.48;\" x=\"315.318304\" xlink:href=\"#C0_0_6f4fb00128\" y=\"119.629404\"/>\n    </g>\n    <g clip-path=\"url(#p349d0fe030)\">\n     <use style=\"fill:#001c7f;stroke:#ffffff;stroke-width:0.48;\" x=\"360.847033\" xlink:href=\"#C0_0_6f4fb00128\" y=\"113.354718\"/>\n    </g>\n    <g clip-path=\"url(#p349d0fe030)\">\n     <use style=\"fill:#001c7f;stroke:#ffffff;stroke-width:0.48;\" x=\"256.603809\" xlink:href=\"#C0_0_6f4fb00128\" y=\"148.778622\"/>\n    </g>\n    <g clip-path=\"url(#p349d0fe030)\">\n     <use style=\"fill:#001c7f;stroke:#ffffff;stroke-width:0.48;\" x=\"218.185382\" xlink:href=\"#C0_0_6f4fb00128\" y=\"104.616666\"/>\n    </g>\n    <g clip-path=\"url(#p349d0fe030)\">\n     <use style=\"fill:#001c7f;stroke:#ffffff;stroke-width:0.48;\" x=\"274.529495\" xlink:href=\"#C0_0_6f4fb00128\" y=\"150.228068\"/>\n    </g>\n    <g clip-path=\"url(#p349d0fe030)\">\n     <use style=\"fill:#001c7f;stroke:#ffffff;stroke-width:0.48;\" x=\"226.507772\" xlink:href=\"#C0_0_6f4fb00128\" y=\"117.623697\"/>\n    </g>\n    <g clip-path=\"url(#p349d0fe030)\">\n     <use style=\"fill:#001c7f;stroke:#ffffff;stroke-width:0.48;\" x=\"210.477453\" xlink:href=\"#C0_0_6f4fb00128\" y=\"107.57681\"/>\n    </g>\n    <g clip-path=\"url(#p349d0fe030)\">\n     <use style=\"fill:#001c7f;stroke:#ffffff;stroke-width:0.48;\" x=\"365.802511\" xlink:href=\"#C0_0_6f4fb00128\" y=\"144.761166\"/>\n    </g>\n    <g clip-path=\"url(#p349d0fe030)\">\n     <use style=\"fill:#001c7f;stroke:#ffffff;stroke-width:0.48;\" x=\"233.19013\" xlink:href=\"#C0_0_6f4fb00128\" y=\"148.437898\"/>\n    </g>\n    <g clip-path=\"url(#p349d0fe030)\">\n     <use style=\"fill:#b1400d;stroke:#ffffff;stroke-width:0.48;\" x=\"221.398124\" xlink:href=\"#C0_0_6f4fb00128\" y=\"175.514846\"/>\n    </g>\n    <g clip-path=\"url(#p349d0fe030)\">\n     <use style=\"fill:#001c7f;stroke:#ffffff;stroke-width:0.48;\" x=\"271.628607\" xlink:href=\"#C0_0_6f4fb00128\" y=\"137.199918\"/>\n    </g>\n    <g clip-path=\"url(#p349d0fe030)\">\n     <use style=\"fill:#001c7f;stroke:#ffffff;stroke-width:0.48;\" x=\"286.022687\" xlink:href=\"#C0_0_6f4fb00128\" y=\"127.499831\"/>\n    </g>\n    <g clip-path=\"url(#p349d0fe030)\">\n     <use style=\"fill:#001c7f;stroke:#ffffff;stroke-width:0.48;\" x=\"264.158105\" xlink:href=\"#C0_0_6f4fb00128\" y=\"109.942686\"/>\n    </g>\n    <g clip-path=\"url(#p349d0fe030)\">\n     <use style=\"fill:#001c7f;stroke:#ffffff;stroke-width:0.48;\" x=\"267.151166\" xlink:href=\"#C0_0_6f4fb00128\" y=\"139.215845\"/>\n    </g>\n    <g clip-path=\"url(#p349d0fe030)\">\n     <use style=\"fill:#001c7f;stroke:#ffffff;stroke-width:0.48;\" x=\"224.053795\" xlink:href=\"#C0_0_6f4fb00128\" y=\"146.611393\"/>\n    </g>\n    <g clip-path=\"url(#p349d0fe030)\">\n     <use style=\"fill:#001c7f;stroke:#ffffff;stroke-width:0.48;\" x=\"223.293246\" xlink:href=\"#C0_0_6f4fb00128\" y=\"91.888223\"/>\n    </g>\n    <g clip-path=\"url(#p349d0fe030)\">\n     <use style=\"fill:#001c7f;stroke:#ffffff;stroke-width:0.48;\" x=\"247.655068\" xlink:href=\"#C0_0_6f4fb00128\" y=\"149.439105\"/>\n    </g>\n    <g clip-path=\"url(#p349d0fe030)\">\n     <use style=\"fill:#001c7f;stroke:#ffffff;stroke-width:0.48;\" x=\"298.7035\" xlink:href=\"#C0_0_6f4fb00128\" y=\"129.53956\"/>\n    </g>\n    <g clip-path=\"url(#p349d0fe030)\">\n     <use style=\"fill:#b1400d;stroke:#ffffff;stroke-width:0.48;\" x=\"331.713149\" xlink:href=\"#C0_0_6f4fb00128\" y=\"64.43369\"/>\n    </g>\n    <g clip-path=\"url(#p349d0fe030)\">\n     <use style=\"fill:#001c7f;stroke:#ffffff;stroke-width:0.48;\" x=\"387.832695\" xlink:href=\"#C0_0_6f4fb00128\" y=\"79.271591\"/>\n    </g>\n    <g clip-path=\"url(#p349d0fe030)\">\n     <use style=\"fill:#001c7f;stroke:#ffffff;stroke-width:0.48;\" x=\"256.013615\" xlink:href=\"#C0_0_6f4fb00128\" y=\"145.069721\"/>\n    </g>\n    <g clip-path=\"url(#p349d0fe030)\">\n     <use style=\"fill:#001c7f;stroke:#ffffff;stroke-width:0.48;\" x=\"225.750273\" xlink:href=\"#C0_0_6f4fb00128\" y=\"90.42051\"/>\n    </g>\n    <g clip-path=\"url(#p349d0fe030)\">\n     <use style=\"fill:#001c7f;stroke:#ffffff;stroke-width:0.48;\" x=\"268.90041\" xlink:href=\"#C0_0_6f4fb00128\" y=\"142.447342\"/>\n    </g>\n    <g clip-path=\"url(#p349d0fe030)\">\n     <use style=\"fill:#001c7f;stroke:#ffffff;stroke-width:0.48;\" x=\"303.433413\" xlink:href=\"#C0_0_6f4fb00128\" y=\"145.344907\"/>\n    </g>\n    <g clip-path=\"url(#p349d0fe030)\">\n     <use style=\"fill:#001c7f;stroke:#ffffff;stroke-width:0.48;\" x=\"476.172955\" xlink:href=\"#C0_0_6f4fb00128\" y=\"121.782517\"/>\n    </g>\n    <g clip-path=\"url(#p349d0fe030)\">\n     <use style=\"fill:#001c7f;stroke:#ffffff;stroke-width:0.48;\" x=\"241.96517\" xlink:href=\"#C0_0_6f4fb00128\" y=\"107.703437\"/>\n    </g>\n    <g clip-path=\"url(#p349d0fe030)\">\n     <use style=\"fill:#001c7f;stroke:#ffffff;stroke-width:0.48;\" x=\"300.490856\" xlink:href=\"#C0_0_6f4fb00128\" y=\"151.284349\"/>\n    </g>\n    <g clip-path=\"url(#p349d0fe030)\">\n     <use style=\"fill:#b1400d;stroke:#ffffff;stroke-width:0.48;\" x=\"377.92638\" xlink:href=\"#C0_0_6f4fb00128\" y=\"126.188239\"/>\n    </g>\n    <g clip-path=\"url(#p349d0fe030)\">\n     <use style=\"fill:#001c7f;stroke:#ffffff;stroke-width:0.48;\" x=\"219.082032\" xlink:href=\"#C0_0_6f4fb00128\" y=\"125.521292\"/>\n    </g>\n    <g clip-path=\"url(#p349d0fe030)\">\n     <use style=\"fill:#001c7f;stroke:#ffffff;stroke-width:0.48;\" x=\"219.851723\" xlink:href=\"#C0_0_6f4fb00128\" y=\"150.986029\"/>\n    </g>\n    <g clip-path=\"url(#p349d0fe030)\">\n     <use style=\"fill:#001c7f;stroke:#ffffff;stroke-width:0.48;\" x=\"214.765106\" xlink:href=\"#C0_0_6f4fb00128\" y=\"157.487376\"/>\n    </g>\n    <g clip-path=\"url(#p349d0fe030)\">\n     <use style=\"fill:#001c7f;stroke:#ffffff;stroke-width:0.48;\" x=\"304.004984\" xlink:href=\"#C0_0_6f4fb00128\" y=\"141.170758\"/>\n    </g>\n    <g clip-path=\"url(#p349d0fe030)\">\n     <use style=\"fill:#001c7f;stroke:#ffffff;stroke-width:0.48;\" x=\"218.677878\" xlink:href=\"#C0_0_6f4fb00128\" y=\"142.080032\"/>\n    </g>\n    <g clip-path=\"url(#p349d0fe030)\">\n     <use style=\"fill:#001c7f;stroke:#ffffff;stroke-width:0.48;\" x=\"215.388904\" xlink:href=\"#C0_0_6f4fb00128\" y=\"150.499243\"/>\n    </g>\n    <g clip-path=\"url(#p349d0fe030)\">\n     <use style=\"fill:#001c7f;stroke:#ffffff;stroke-width:0.48;\" x=\"372.406758\" xlink:href=\"#C0_0_6f4fb00128\" y=\"149.579856\"/>\n    </g>\n    <g clip-path=\"url(#p349d0fe030)\">\n     <use style=\"fill:#001c7f;stroke:#ffffff;stroke-width:0.48;\" x=\"268.330536\" xlink:href=\"#C0_0_6f4fb00128\" y=\"141.213433\"/>\n    </g>\n    <g clip-path=\"url(#p349d0fe030)\">\n     <use style=\"fill:#001c7f;stroke:#ffffff;stroke-width:0.48;\" x=\"229.979819\" xlink:href=\"#C0_0_6f4fb00128\" y=\"110.200389\"/>\n    </g>\n    <g clip-path=\"url(#p349d0fe030)\">\n     <use style=\"fill:#001c7f;stroke:#ffffff;stroke-width:0.48;\" x=\"353.6196\" xlink:href=\"#C0_0_6f4fb00128\" y=\"137.003027\"/>\n    </g>\n    <g clip-path=\"url(#p349d0fe030)\">\n     <use style=\"fill:#001c7f;stroke:#ffffff;stroke-width:0.48;\" x=\"261.742051\" xlink:href=\"#C0_0_6f4fb00128\" y=\"90.536985\"/>\n    </g>\n    <g clip-path=\"url(#p349d0fe030)\">\n     <use style=\"fill:#001c7f;stroke:#ffffff;stroke-width:0.48;\" x=\"253.898008\" xlink:href=\"#C0_0_6f4fb00128\" y=\"131.332593\"/>\n    </g>\n    <g clip-path=\"url(#p349d0fe030)\">\n     <use style=\"fill:#001c7f;stroke:#ffffff;stroke-width:0.48;\" x=\"283.815334\" xlink:href=\"#C0_0_6f4fb00128\" y=\"121.76886\"/>\n    </g>\n    <g clip-path=\"url(#p349d0fe030)\">\n     <use style=\"fill:#001c7f;stroke:#ffffff;stroke-width:0.48;\" x=\"331.179135\" xlink:href=\"#C0_0_6f4fb00128\" y=\"137.794975\"/>\n    </g>\n    <g clip-path=\"url(#p349d0fe030)\">\n     <use style=\"fill:#001c7f;stroke:#ffffff;stroke-width:0.48;\" x=\"234.687883\" xlink:href=\"#C0_0_6f4fb00128\" y=\"139.635442\"/>\n    </g>\n    <g clip-path=\"url(#p349d0fe030)\">\n     <use style=\"fill:#001c7f;stroke:#ffffff;stroke-width:0.48;\" x=\"259.164943\" xlink:href=\"#C0_0_6f4fb00128\" y=\"146.211725\"/>\n    </g>\n    <g clip-path=\"url(#p349d0fe030)\">\n     <use style=\"fill:#001c7f;stroke:#ffffff;stroke-width:0.48;\" x=\"266.806807\" xlink:href=\"#C0_0_6f4fb00128\" y=\"90.520832\"/>\n    </g>\n    <g clip-path=\"url(#p349d0fe030)\">\n     <use style=\"fill:#001c7f;stroke:#ffffff;stroke-width:0.48;\" x=\"219.093729\" xlink:href=\"#C0_0_6f4fb00128\" y=\"142.953092\"/>\n    </g>\n    <g clip-path=\"url(#p349d0fe030)\">\n     <use style=\"fill:#001c7f;stroke:#ffffff;stroke-width:0.48;\" x=\"218.963402\" xlink:href=\"#C0_0_6f4fb00128\" y=\"130.933465\"/>\n    </g>\n    <g clip-path=\"url(#p349d0fe030)\">\n     <use style=\"fill:#001c7f;stroke:#ffffff;stroke-width:0.48;\" x=\"269.003047\" xlink:href=\"#C0_0_6f4fb00128\" y=\"119.479864\"/>\n    </g>\n    <g clip-path=\"url(#p349d0fe030)\">\n     <use style=\"fill:#001c7f;stroke:#ffffff;stroke-width:0.48;\" x=\"268.639039\" xlink:href=\"#C0_0_6f4fb00128\" y=\"125.785758\"/>\n    </g>\n    <g clip-path=\"url(#p349d0fe030)\">\n     <use style=\"fill:#001c7f;stroke:#ffffff;stroke-width:0.48;\" x=\"209.193372\" xlink:href=\"#C0_0_6f4fb00128\" y=\"149.894286\"/>\n    </g>\n    <g clip-path=\"url(#p349d0fe030)\">\n     <use style=\"fill:#001c7f;stroke:#ffffff;stroke-width:0.48;\" x=\"229.990892\" xlink:href=\"#C0_0_6f4fb00128\" y=\"150.608942\"/>\n    </g>\n    <g clip-path=\"url(#p349d0fe030)\">\n     <use style=\"fill:#001c7f;stroke:#ffffff;stroke-width:0.48;\" x=\"218.49694\" xlink:href=\"#C0_0_6f4fb00128\" y=\"106.192691\"/>\n    </g>\n    <g clip-path=\"url(#p349d0fe030)\">\n     <use style=\"fill:#001c7f;stroke:#ffffff;stroke-width:0.48;\" x=\"226.901389\" xlink:href=\"#C0_0_6f4fb00128\" y=\"92.118891\"/>\n    </g>\n    <g clip-path=\"url(#p349d0fe030)\">\n     <use style=\"fill:#001c7f;stroke:#ffffff;stroke-width:0.48;\" x=\"291.381215\" xlink:href=\"#C0_0_6f4fb00128\" y=\"144.30709\"/>\n    </g>\n    <g clip-path=\"url(#p349d0fe030)\">\n     <use style=\"fill:#001c7f;stroke:#ffffff;stroke-width:0.48;\" x=\"214.140113\" xlink:href=\"#C0_0_6f4fb00128\" y=\"149.877861\"/>\n    </g>\n    <g clip-path=\"url(#p349d0fe030)\">\n     <use style=\"fill:#001c7f;stroke:#ffffff;stroke-width:0.48;\" x=\"320.530836\" xlink:href=\"#C0_0_6f4fb00128\" y=\"109.455615\"/>\n    </g>\n    <g clip-path=\"url(#p349d0fe030)\">\n     <use style=\"fill:#001c7f;stroke:#ffffff;stroke-width:0.48;\" x=\"296.777382\" xlink:href=\"#C0_0_6f4fb00128\" y=\"148.521016\"/>\n    </g>\n    <g clip-path=\"url(#p349d0fe030)\">\n     <use style=\"fill:#001c7f;stroke:#ffffff;stroke-width:0.48;\" x=\"289.794062\" xlink:href=\"#C0_0_6f4fb00128\" y=\"133.400775\"/>\n    </g>\n    <g clip-path=\"url(#p349d0fe030)\">\n     <use style=\"fill:#001c7f;stroke:#ffffff;stroke-width:0.48;\" x=\"230.129429\" xlink:href=\"#C0_0_6f4fb00128\" y=\"145.739917\"/>\n    </g>\n    <g clip-path=\"url(#p349d0fe030)\">\n     <use style=\"fill:#001c7f;stroke:#ffffff;stroke-width:0.48;\" x=\"335.238945\" xlink:href=\"#C0_0_6f4fb00128\" y=\"111.629883\"/>\n    </g>\n    <g clip-path=\"url(#p349d0fe030)\">\n     <use style=\"fill:#001c7f;stroke:#ffffff;stroke-width:0.48;\" x=\"436.47724\" xlink:href=\"#C0_0_6f4fb00128\" y=\"168.930154\"/>\n    </g>\n    <g clip-path=\"url(#p349d0fe030)\">\n     <use style=\"fill:#001c7f;stroke:#ffffff;stroke-width:0.48;\" x=\"365.363712\" xlink:href=\"#C0_0_6f4fb00128\" y=\"106.779627\"/>\n    </g>\n    <g clip-path=\"url(#p349d0fe030)\">\n     <use style=\"fill:#001c7f;stroke:#ffffff;stroke-width:0.48;\" x=\"233.651121\" xlink:href=\"#C0_0_6f4fb00128\" y=\"107.222326\"/>\n    </g>\n    <g clip-path=\"url(#p349d0fe030)\">\n     <use style=\"fill:#001c7f;stroke:#ffffff;stroke-width:0.48;\" x=\"304.530076\" xlink:href=\"#C0_0_6f4fb00128\" y=\"84.773151\"/>\n    </g>\n    <g clip-path=\"url(#p349d0fe030)\">\n     <use style=\"fill:#001c7f;stroke:#ffffff;stroke-width:0.48;\" x=\"233.063194\" xlink:href=\"#C0_0_6f4fb00128\" y=\"133.306463\"/>\n    </g>\n    <g clip-path=\"url(#p349d0fe030)\">\n     <use style=\"fill:#001c7f;stroke:#ffffff;stroke-width:0.48;\" x=\"216.033914\" xlink:href=\"#C0_0_6f4fb00128\" y=\"90.468843\"/>\n    </g>\n    <g clip-path=\"url(#p349d0fe030)\">\n     <use style=\"fill:#001c7f;stroke:#ffffff;stroke-width:0.48;\" x=\"190.791191\" xlink:href=\"#C0_0_6f4fb00128\" y=\"92.152047\"/>\n    </g>\n    <g clip-path=\"url(#p349d0fe030)\">\n     <use style=\"fill:#001c7f;stroke:#ffffff;stroke-width:0.48;\" x=\"244.99636\" xlink:href=\"#C0_0_6f4fb00128\" y=\"65.640809\"/>\n    </g>\n    <g clip-path=\"url(#p349d0fe030)\">\n     <use style=\"fill:#001c7f;stroke:#ffffff;stroke-width:0.48;\" x=\"269.620908\" xlink:href=\"#C0_0_6f4fb00128\" y=\"48.022351\"/>\n    </g>\n    <g clip-path=\"url(#p349d0fe030)\">\n     <use style=\"fill:#001c7f;stroke:#ffffff;stroke-width:0.48;\" x=\"277.305132\" xlink:href=\"#C0_0_6f4fb00128\" y=\"149.242866\"/>\n    </g>\n    <g clip-path=\"url(#p349d0fe030)\">\n     <use style=\"fill:#001c7f;stroke:#ffffff;stroke-width:0.48;\" x=\"278.295632\" xlink:href=\"#C0_0_6f4fb00128\" y=\"86.791205\"/>\n    </g>\n    <g clip-path=\"url(#p349d0fe030)\">\n     <use style=\"fill:#001c7f;stroke:#ffffff;stroke-width:0.48;\" x=\"215.734697\" xlink:href=\"#C0_0_6f4fb00128\" y=\"153.070951\"/>\n    </g>\n    <g clip-path=\"url(#p349d0fe030)\">\n     <use style=\"fill:#001c7f;stroke:#ffffff;stroke-width:0.48;\" x=\"215.700002\" xlink:href=\"#C0_0_6f4fb00128\" y=\"149.106938\"/>\n    </g>\n    <g clip-path=\"url(#p349d0fe030)\">\n     <use style=\"fill:#001c7f;stroke:#ffffff;stroke-width:0.48;\" x=\"275.905368\" xlink:href=\"#C0_0_6f4fb00128\" y=\"125.401205\"/>\n    </g>\n    <g clip-path=\"url(#p349d0fe030)\">\n     <use style=\"fill:#001c7f;stroke:#ffffff;stroke-width:0.48;\" x=\"320.84416\" xlink:href=\"#C0_0_6f4fb00128\" y=\"117.938291\"/>\n    </g>\n    <g clip-path=\"url(#p349d0fe030)\">\n     <use style=\"fill:#001c7f;stroke:#ffffff;stroke-width:0.48;\" x=\"297.457365\" xlink:href=\"#C0_0_6f4fb00128\" y=\"107.841489\"/>\n    </g>\n    <g clip-path=\"url(#p349d0fe030)\">\n     <use style=\"fill:#001c7f;stroke:#ffffff;stroke-width:0.48;\" x=\"239.33577\" xlink:href=\"#C0_0_6f4fb00128\" y=\"101.785565\"/>\n    </g>\n    <g clip-path=\"url(#p349d0fe030)\">\n     <use style=\"fill:#001c7f;stroke:#ffffff;stroke-width:0.48;\" x=\"254.306897\" xlink:href=\"#C0_0_6f4fb00128\" y=\"92.315116\"/>\n    </g>\n    <g clip-path=\"url(#p349d0fe030)\">\n     <use style=\"fill:#001c7f;stroke:#ffffff;stroke-width:0.48;\" x=\"285.830987\" xlink:href=\"#C0_0_6f4fb00128\" y=\"119.152969\"/>\n    </g>\n    <g clip-path=\"url(#p349d0fe030)\">\n     <use style=\"fill:#001c7f;stroke:#ffffff;stroke-width:0.48;\" x=\"208.478866\" xlink:href=\"#C0_0_6f4fb00128\" y=\"149.980262\"/>\n    </g>\n    <g clip-path=\"url(#p349d0fe030)\">\n     <use style=\"fill:#b1400d;stroke:#ffffff;stroke-width:0.48;\" x=\"265.923214\" xlink:href=\"#C0_0_6f4fb00128\" y=\"177.512188\"/>\n    </g>\n    <g clip-path=\"url(#p349d0fe030)\">\n     <use style=\"fill:#001c7f;stroke:#ffffff;stroke-width:0.48;\" x=\"310.271783\" xlink:href=\"#C0_0_6f4fb00128\" y=\"136.602537\"/>\n    </g>\n    <g clip-path=\"url(#p349d0fe030)\">\n     <use style=\"fill:#001c7f;stroke:#ffffff;stroke-width:0.48;\" x=\"213.24433\" xlink:href=\"#C0_0_6f4fb00128\" y=\"125.167913\"/>\n    </g>\n    <g clip-path=\"url(#p349d0fe030)\">\n     <use style=\"fill:#001c7f;stroke:#ffffff;stroke-width:0.48;\" x=\"353.973152\" xlink:href=\"#C0_0_6f4fb00128\" y=\"113.785328\"/>\n    </g>\n    <g clip-path=\"url(#p349d0fe030)\">\n     <use style=\"fill:#001c7f;stroke:#ffffff;stroke-width:0.48;\" x=\"238.690173\" xlink:href=\"#C0_0_6f4fb00128\" y=\"106.503473\"/>\n    </g>\n    <g clip-path=\"url(#p349d0fe030)\">\n     <use style=\"fill:#001c7f;stroke:#ffffff;stroke-width:0.48;\" x=\"272.636602\" xlink:href=\"#C0_0_6f4fb00128\" y=\"145.088405\"/>\n    </g>\n    <g clip-path=\"url(#p349d0fe030)\">\n     <use style=\"fill:#001c7f;stroke:#ffffff;stroke-width:0.48;\" x=\"341.362264\" xlink:href=\"#C0_0_6f4fb00128\" y=\"152.603668\"/>\n    </g>\n    <g clip-path=\"url(#p349d0fe030)\">\n     <use style=\"fill:#001c7f;stroke:#ffffff;stroke-width:0.48;\" x=\"236.959156\" xlink:href=\"#C0_0_6f4fb00128\" y=\"92.889564\"/>\n    </g>\n    <g clip-path=\"url(#p349d0fe030)\">\n     <use style=\"fill:#001c7f;stroke:#ffffff;stroke-width:0.48;\" x=\"253.18079\" xlink:href=\"#C0_0_6f4fb00128\" y=\"152.705955\"/>\n    </g>\n    <g clip-path=\"url(#p349d0fe030)\">\n     <use style=\"fill:#001c7f;stroke:#ffffff;stroke-width:0.48;\" x=\"241.062554\" xlink:href=\"#C0_0_6f4fb00128\" y=\"137.276095\"/>\n    </g>\n    <g clip-path=\"url(#p349d0fe030)\">\n     <use style=\"fill:#001c7f;stroke:#ffffff;stroke-width:0.48;\" x=\"253.962728\" xlink:href=\"#C0_0_6f4fb00128\" y=\"151.513582\"/>\n    </g>\n    <g clip-path=\"url(#p349d0fe030)\">\n     <use style=\"fill:#001c7f;stroke:#ffffff;stroke-width:0.48;\" x=\"296.402312\" xlink:href=\"#C0_0_6f4fb00128\" y=\"77.557067\"/>\n    </g>\n    <g clip-path=\"url(#p349d0fe030)\">\n     <use style=\"fill:#001c7f;stroke:#ffffff;stroke-width:0.48;\" x=\"271.3914\" xlink:href=\"#C0_0_6f4fb00128\" y=\"144.308662\"/>\n    </g>\n    <g clip-path=\"url(#p349d0fe030)\">\n     <use style=\"fill:#001c7f;stroke:#ffffff;stroke-width:0.48;\" x=\"217.103434\" xlink:href=\"#C0_0_6f4fb00128\" y=\"93.885596\"/>\n    </g>\n    <g clip-path=\"url(#p349d0fe030)\">\n     <use style=\"fill:#001c7f;stroke:#ffffff;stroke-width:0.48;\" x=\"213.728314\" xlink:href=\"#C0_0_6f4fb00128\" y=\"108.475373\"/>\n    </g>\n    <g clip-path=\"url(#p349d0fe030)\">\n     <use style=\"fill:#001c7f;stroke:#ffffff;stroke-width:0.48;\" x=\"214.647105\" xlink:href=\"#C0_0_6f4fb00128\" y=\"146.759779\"/>\n    </g>\n    <g clip-path=\"url(#p349d0fe030)\">\n     <use style=\"fill:#001c7f;stroke:#ffffff;stroke-width:0.48;\" x=\"247.939549\" xlink:href=\"#C0_0_6f4fb00128\" y=\"103.310673\"/>\n    </g>\n    <g clip-path=\"url(#p349d0fe030)\">\n     <use style=\"fill:#001c7f;stroke:#ffffff;stroke-width:0.48;\" x=\"218.373604\" xlink:href=\"#C0_0_6f4fb00128\" y=\"141.662289\"/>\n    </g>\n    <g clip-path=\"url(#p349d0fe030)\">\n     <use style=\"fill:#001c7f;stroke:#ffffff;stroke-width:0.48;\" x=\"251.714611\" xlink:href=\"#C0_0_6f4fb00128\" y=\"137.105526\"/>\n    </g>\n    <g clip-path=\"url(#p349d0fe030)\">\n     <use style=\"fill:#001c7f;stroke:#ffffff;stroke-width:0.48;\" x=\"216.552712\" xlink:href=\"#C0_0_6f4fb00128\" y=\"141.928469\"/>\n    </g>\n    <g clip-path=\"url(#p349d0fe030)\">\n     <use style=\"fill:#001c7f;stroke:#ffffff;stroke-width:0.48;\" x=\"290.432795\" xlink:href=\"#C0_0_6f4fb00128\" y=\"128.9818\"/>\n    </g>\n    <g clip-path=\"url(#p349d0fe030)\">\n     <use style=\"fill:#001c7f;stroke:#ffffff;stroke-width:0.48;\" x=\"312.585742\" xlink:href=\"#C0_0_6f4fb00128\" y=\"98.761819\"/>\n    </g>\n    <g clip-path=\"url(#p349d0fe030)\">\n     <use style=\"fill:#001c7f;stroke:#ffffff;stroke-width:0.48;\" x=\"245.028216\" xlink:href=\"#C0_0_6f4fb00128\" y=\"145.416712\"/>\n    </g>\n    <g clip-path=\"url(#p349d0fe030)\">\n     <use style=\"fill:#001c7f;stroke:#ffffff;stroke-width:0.48;\" x=\"248.771299\" xlink:href=\"#C0_0_6f4fb00128\" y=\"101.655285\"/>\n    </g>\n    <g clip-path=\"url(#p349d0fe030)\">\n     <use style=\"fill:#001c7f;stroke:#ffffff;stroke-width:0.48;\" x=\"236.403173\" xlink:href=\"#C0_0_6f4fb00128\" y=\"129.391086\"/>\n    </g>\n    <g clip-path=\"url(#p349d0fe030)\">\n     <use style=\"fill:#001c7f;stroke:#ffffff;stroke-width:0.48;\" x=\"244.588088\" xlink:href=\"#C0_0_6f4fb00128\" y=\"109.620847\"/>\n    </g>\n    <g clip-path=\"url(#p349d0fe030)\">\n     <use style=\"fill:#001c7f;stroke:#ffffff;stroke-width:0.48;\" x=\"243.523843\" xlink:href=\"#C0_0_6f4fb00128\" y=\"52.423534\"/>\n    </g>\n    <g clip-path=\"url(#p349d0fe030)\">\n     <use style=\"fill:#001c7f;stroke:#ffffff;stroke-width:0.48;\" x=\"232.780061\" xlink:href=\"#C0_0_6f4fb00128\" y=\"139.313675\"/>\n    </g>\n    <g clip-path=\"url(#p349d0fe030)\">\n     <use style=\"fill:#001c7f;stroke:#ffffff;stroke-width:0.48;\" x=\"205.64743\" xlink:href=\"#C0_0_6f4fb00128\" y=\"131.262519\"/>\n    </g>\n    <g clip-path=\"url(#p349d0fe030)\">\n     <use style=\"fill:#001c7f;stroke:#ffffff;stroke-width:0.48;\" x=\"257.367875\" xlink:href=\"#C0_0_6f4fb00128\" y=\"148.876859\"/>\n    </g>\n    <g clip-path=\"url(#p349d0fe030)\">\n     <use style=\"fill:#001c7f;stroke:#ffffff;stroke-width:0.48;\" x=\"312.333201\" xlink:href=\"#C0_0_6f4fb00128\" y=\"124.931456\"/>\n    </g>\n    <g clip-path=\"url(#p349d0fe030)\">\n     <use style=\"fill:#001c7f;stroke:#ffffff;stroke-width:0.48;\" x=\"245.345801\" xlink:href=\"#C0_0_6f4fb00128\" y=\"96.490443\"/>\n    </g>\n    <g clip-path=\"url(#p349d0fe030)\">\n     <use style=\"fill:#001c7f;stroke:#ffffff;stroke-width:0.48;\" x=\"331.018884\" xlink:href=\"#C0_0_6f4fb00128\" y=\"133.751111\"/>\n    </g>\n    <g clip-path=\"url(#p349d0fe030)\">\n     <use style=\"fill:#001c7f;stroke:#ffffff;stroke-width:0.48;\" x=\"253.526269\" xlink:href=\"#C0_0_6f4fb00128\" y=\"99.373821\"/>\n    </g>\n    <g clip-path=\"url(#p349d0fe030)\">\n     <use style=\"fill:#001c7f;stroke:#ffffff;stroke-width:0.48;\" x=\"322.407436\" xlink:href=\"#C0_0_6f4fb00128\" y=\"177.454354\"/>\n    </g>\n    <g clip-path=\"url(#p349d0fe030)\">\n     <use style=\"fill:#001c7f;stroke:#ffffff;stroke-width:0.48;\" x=\"303.483496\" xlink:href=\"#C0_0_6f4fb00128\" y=\"144.129899\"/>\n    </g>\n    <g clip-path=\"url(#p349d0fe030)\">\n     <use style=\"fill:#001c7f;stroke:#ffffff;stroke-width:0.48;\" x=\"267.386973\" xlink:href=\"#C0_0_6f4fb00128\" y=\"148.16053\"/>\n    </g>\n    <g clip-path=\"url(#p349d0fe030)\">\n     <use style=\"fill:#001c7f;stroke:#ffffff;stroke-width:0.48;\" x=\"225.163472\" xlink:href=\"#C0_0_6f4fb00128\" y=\"91.56812\"/>\n    </g>\n    <g clip-path=\"url(#p349d0fe030)\">\n     <use style=\"fill:#001c7f;stroke:#ffffff;stroke-width:0.48;\" x=\"392.619618\" xlink:href=\"#C0_0_6f4fb00128\" y=\"74.530621\"/>\n    </g>\n    <g clip-path=\"url(#p349d0fe030)\">\n     <use style=\"fill:#001c7f;stroke:#ffffff;stroke-width:0.48;\" x=\"217.714681\" xlink:href=\"#C0_0_6f4fb00128\" y=\"87.747667\"/>\n    </g>\n    <g clip-path=\"url(#p349d0fe030)\">\n     <use style=\"fill:#001c7f;stroke:#ffffff;stroke-width:0.48;\" x=\"247.121963\" xlink:href=\"#C0_0_6f4fb00128\" y=\"140.35495\"/>\n    </g>\n    <g clip-path=\"url(#p349d0fe030)\">\n     <use style=\"fill:#b1400d;stroke:#ffffff;stroke-width:0.48;\" x=\"267.425761\" xlink:href=\"#C0_0_6f4fb00128\" y=\"171.065484\"/>\n    </g>\n    <g clip-path=\"url(#p349d0fe030)\">\n     <use style=\"fill:#001c7f;stroke:#ffffff;stroke-width:0.48;\" x=\"238.714964\" xlink:href=\"#C0_0_6f4fb00128\" y=\"152.355435\"/>\n    </g>\n    <g clip-path=\"url(#p349d0fe030)\">\n     <use style=\"fill:#001c7f;stroke:#ffffff;stroke-width:0.48;\" x=\"283.905841\" xlink:href=\"#C0_0_6f4fb00128\" y=\"174.988692\"/>\n    </g>\n    <g clip-path=\"url(#p349d0fe030)\">\n     <use style=\"fill:#001c7f;stroke:#ffffff;stroke-width:0.48;\" x=\"218.49694\" xlink:href=\"#C0_0_6f4fb00128\" y=\"106.192691\"/>\n    </g>\n    <g clip-path=\"url(#p349d0fe030)\">\n     <use style=\"fill:#001c7f;stroke:#ffffff;stroke-width:0.48;\" x=\"274.107915\" xlink:href=\"#C0_0_6f4fb00128\" y=\"124.727014\"/>\n    </g>\n    <g clip-path=\"url(#p349d0fe030)\">\n     <use style=\"fill:#001c7f;stroke:#ffffff;stroke-width:0.48;\" x=\"474.472616\" xlink:href=\"#C0_0_6f4fb00128\" y=\"88.064636\"/>\n    </g>\n    <g clip-path=\"url(#p349d0fe030)\">\n     <use style=\"fill:#001c7f;stroke:#ffffff;stroke-width:0.48;\" x=\"216.160822\" xlink:href=\"#C0_0_6f4fb00128\" y=\"60.432886\"/>\n    </g>\n    <g clip-path=\"url(#p349d0fe030)\">\n     <use style=\"fill:#001c7f;stroke:#ffffff;stroke-width:0.48;\" x=\"284.169973\" xlink:href=\"#C0_0_6f4fb00128\" y=\"143.841512\"/>\n    </g>\n    <g clip-path=\"url(#p349d0fe030)\">\n     <use style=\"fill:#001c7f;stroke:#ffffff;stroke-width:0.48;\" x=\"232.460868\" xlink:href=\"#C0_0_6f4fb00128\" y=\"105.529282\"/>\n    </g>\n    <g clip-path=\"url(#p349d0fe030)\">\n     <use style=\"fill:#001c7f;stroke:#ffffff;stroke-width:0.48;\" x=\"271.267997\" xlink:href=\"#C0_0_6f4fb00128\" y=\"145.004744\"/>\n    </g>\n    <g clip-path=\"url(#p349d0fe030)\">\n     <use style=\"fill:#001c7f;stroke:#ffffff;stroke-width:0.48;\" x=\"217.714681\" xlink:href=\"#C0_0_6f4fb00128\" y=\"87.747667\"/>\n    </g>\n    <g clip-path=\"url(#p349d0fe030)\">\n     <use style=\"fill:#001c7f;stroke:#ffffff;stroke-width:0.48;\" x=\"269.059546\" xlink:href=\"#C0_0_6f4fb00128\" y=\"137.219803\"/>\n    </g>\n    <g clip-path=\"url(#p349d0fe030)\">\n     <use style=\"fill:#001c7f;stroke:#ffffff;stroke-width:0.48;\" x=\"186.482045\" xlink:href=\"#C0_0_6f4fb00128\" y=\"92.507844\"/>\n    </g>\n    <g clip-path=\"url(#p349d0fe030)\">\n     <use style=\"fill:#b1400d;stroke:#ffffff;stroke-width:0.48;\" x=\"224.417388\" xlink:href=\"#C0_0_6f4fb00128\" y=\"125.356625\"/>\n    </g>\n    <g clip-path=\"url(#p349d0fe030)\">\n     <use style=\"fill:#001c7f;stroke:#ffffff;stroke-width:0.48;\" x=\"257.818671\" xlink:href=\"#C0_0_6f4fb00128\" y=\"143.503293\"/>\n    </g>\n    <g clip-path=\"url(#p349d0fe030)\">\n     <use style=\"fill:#001c7f;stroke:#ffffff;stroke-width:0.48;\" x=\"358.044292\" xlink:href=\"#C0_0_6f4fb00128\" y=\"151.404865\"/>\n    </g>\n    <g clip-path=\"url(#p349d0fe030)\">\n     <use style=\"fill:#001c7f;stroke:#ffffff;stroke-width:0.48;\" x=\"227.534873\" xlink:href=\"#C0_0_6f4fb00128\" y=\"154.31444\"/>\n    </g>\n    <g clip-path=\"url(#p349d0fe030)\">\n     <use style=\"fill:#001c7f;stroke:#ffffff;stroke-width:0.48;\" x=\"222.092278\" xlink:href=\"#C0_0_6f4fb00128\" y=\"110.452415\"/>\n    </g>\n    <g clip-path=\"url(#p349d0fe030)\">\n     <use style=\"fill:#001c7f;stroke:#ffffff;stroke-width:0.48;\" x=\"313.68634\" xlink:href=\"#C0_0_6f4fb00128\" y=\"37.746705\"/>\n    </g>\n    <g clip-path=\"url(#p349d0fe030)\">\n     <use style=\"fill:#001c7f;stroke:#ffffff;stroke-width:0.48;\" x=\"236.659331\" xlink:href=\"#C0_0_6f4fb00128\" y=\"90.709575\"/>\n    </g>\n    <g clip-path=\"url(#p349d0fe030)\">\n     <use style=\"fill:#001c7f;stroke:#ffffff;stroke-width:0.48;\" x=\"231.831523\" xlink:href=\"#C0_0_6f4fb00128\" y=\"127.092713\"/>\n    </g>\n    <g clip-path=\"url(#p349d0fe030)\">\n     <use style=\"fill:#001c7f;stroke:#ffffff;stroke-width:0.48;\" x=\"239.598057\" xlink:href=\"#C0_0_6f4fb00128\" y=\"52.838928\"/>\n    </g>\n    <g clip-path=\"url(#p349d0fe030)\">\n     <use style=\"fill:#001c7f;stroke:#ffffff;stroke-width:0.48;\" x=\"214.521637\" xlink:href=\"#C0_0_6f4fb00128\" y=\"67.70692\"/>\n    </g>\n    <g clip-path=\"url(#p349d0fe030)\">\n     <use style=\"fill:#001c7f;stroke:#ffffff;stroke-width:0.48;\" x=\"269.352472\" xlink:href=\"#C0_0_6f4fb00128\" y=\"103.75814\"/>\n    </g>\n    <g clip-path=\"url(#p349d0fe030)\">\n     <use style=\"fill:#001c7f;stroke:#ffffff;stroke-width:0.48;\" x=\"345.629884\" xlink:href=\"#C0_0_6f4fb00128\" y=\"155.750194\"/>\n    </g>\n    <g clip-path=\"url(#p349d0fe030)\">\n     <use style=\"fill:#001c7f;stroke:#ffffff;stroke-width:0.48;\" x=\"317.106095\" xlink:href=\"#C0_0_6f4fb00128\" y=\"119.413082\"/>\n    </g>\n    <g clip-path=\"url(#p349d0fe030)\">\n     <use style=\"fill:#001c7f;stroke:#ffffff;stroke-width:0.48;\" x=\"455.382953\" xlink:href=\"#C0_0_6f4fb00128\" y=\"146.877618\"/>\n    </g>\n    <g clip-path=\"url(#p349d0fe030)\">\n     <use style=\"fill:#001c7f;stroke:#ffffff;stroke-width:0.48;\" x=\"250.329623\" xlink:href=\"#C0_0_6f4fb00128\" y=\"148.564713\"/>\n    </g>\n    <g clip-path=\"url(#p349d0fe030)\">\n     <use style=\"fill:#001c7f;stroke:#ffffff;stroke-width:0.48;\" x=\"256.262688\" xlink:href=\"#C0_0_6f4fb00128\" y=\"84.015515\"/>\n    </g>\n    <g clip-path=\"url(#p349d0fe030)\">\n     <use style=\"fill:#001c7f;stroke:#ffffff;stroke-width:0.48;\" x=\"271.049501\" xlink:href=\"#C0_0_6f4fb00128\" y=\"128.649811\"/>\n    </g>\n    <g clip-path=\"url(#p349d0fe030)\">\n     <use style=\"fill:#001c7f;stroke:#ffffff;stroke-width:0.48;\" x=\"214.521637\" xlink:href=\"#C0_0_6f4fb00128\" y=\"67.70692\"/>\n    </g>\n    <g clip-path=\"url(#p349d0fe030)\">\n     <use style=\"fill:#001c7f;stroke:#ffffff;stroke-width:0.48;\" x=\"238.830433\" xlink:href=\"#C0_0_6f4fb00128\" y=\"154.211351\"/>\n    </g>\n    <g clip-path=\"url(#p349d0fe030)\">\n     <use style=\"fill:#001c7f;stroke:#ffffff;stroke-width:0.48;\" x=\"238.417431\" xlink:href=\"#C0_0_6f4fb00128\" y=\"80.827945\"/>\n    </g>\n    <g clip-path=\"url(#p349d0fe030)\">\n     <use style=\"fill:#001c7f;stroke:#ffffff;stroke-width:0.48;\" x=\"475.53187\" xlink:href=\"#C0_0_6f4fb00128\" y=\"128.368019\"/>\n    </g>\n    <g clip-path=\"url(#p349d0fe030)\">\n     <use style=\"fill:#001c7f;stroke:#ffffff;stroke-width:0.48;\" x=\"246.831823\" xlink:href=\"#C0_0_6f4fb00128\" y=\"50.36704\"/>\n    </g>\n    <g clip-path=\"url(#p349d0fe030)\">\n     <use style=\"fill:#001c7f;stroke:#ffffff;stroke-width:0.48;\" x=\"245.659917\" xlink:href=\"#C0_0_6f4fb00128\" y=\"89.855473\"/>\n    </g>\n    <g clip-path=\"url(#p349d0fe030)\">\n     <use style=\"fill:#001c7f;stroke:#ffffff;stroke-width:0.48;\" x=\"218.922943\" xlink:href=\"#C0_0_6f4fb00128\" y=\"135.476227\"/>\n    </g>\n    <g clip-path=\"url(#p349d0fe030)\">\n     <use style=\"fill:#001c7f;stroke:#ffffff;stroke-width:0.48;\" x=\"222.658238\" xlink:href=\"#C0_0_6f4fb00128\" y=\"151.150125\"/>\n    </g>\n    <g clip-path=\"url(#p349d0fe030)\">\n     <use style=\"fill:#001c7f;stroke:#ffffff;stroke-width:0.48;\" x=\"249.365568\" xlink:href=\"#C0_0_6f4fb00128\" y=\"103.872122\"/>\n    </g>\n    <g clip-path=\"url(#p349d0fe030)\">\n     <use style=\"fill:#001c7f;stroke:#ffffff;stroke-width:0.48;\" x=\"263.286798\" xlink:href=\"#C0_0_6f4fb00128\" y=\"102.626174\"/>\n    </g>\n    <g clip-path=\"url(#p349d0fe030)\">\n     <use style=\"fill:#001c7f;stroke:#ffffff;stroke-width:0.48;\" x=\"264.716288\" xlink:href=\"#C0_0_6f4fb00128\" y=\"151.744351\"/>\n    </g>\n    <g clip-path=\"url(#p349d0fe030)\">\n     <use style=\"fill:#001c7f;stroke:#ffffff;stroke-width:0.48;\" x=\"254.426648\" xlink:href=\"#C0_0_6f4fb00128\" y=\"105.321058\"/>\n    </g>\n    <g clip-path=\"url(#p349d0fe030)\">\n     <use style=\"fill:#001c7f;stroke:#ffffff;stroke-width:0.48;\" x=\"223.839856\" xlink:href=\"#C0_0_6f4fb00128\" y=\"150.431526\"/>\n    </g>\n    <g clip-path=\"url(#p349d0fe030)\">\n     <use style=\"fill:#001c7f;stroke:#ffffff;stroke-width:0.48;\" x=\"265.494209\" xlink:href=\"#C0_0_6f4fb00128\" y=\"133.18498\"/>\n    </g>\n    <g clip-path=\"url(#p349d0fe030)\">\n     <use style=\"fill:#001c7f;stroke:#ffffff;stroke-width:0.48;\" x=\"210.97838\" xlink:href=\"#C0_0_6f4fb00128\" y=\"107.514377\"/>\n    </g>\n    <g clip-path=\"url(#p349d0fe030)\">\n     <use style=\"fill:#001c7f;stroke:#ffffff;stroke-width:0.48;\" x=\"285.417197\" xlink:href=\"#C0_0_6f4fb00128\" y=\"143.437613\"/>\n    </g>\n    <g clip-path=\"url(#p349d0fe030)\">\n     <use style=\"fill:#001c7f;stroke:#ffffff;stroke-width:0.48;\" x=\"260.518343\" xlink:href=\"#C0_0_6f4fb00128\" y=\"101.611829\"/>\n    </g>\n   </g>\n   <g id=\"PathCollection_2\"/>\n   <g id=\"PathCollection_3\"/>\n   <g id=\"patch_3\">\n    <path d=\"M 171.9975 186.33125 \nL 171.9975 30.67125 \n\" style=\"fill:none;stroke:#ffffff;stroke-linecap:square;stroke-linejoin:miter;stroke-width:1.25;\"/>\n   </g>\n   <g id=\"patch_4\">\n    <path d=\"M 490.6575 186.33125 \nL 490.6575 30.67125 \n\" style=\"fill:none;stroke:#ffffff;stroke-linecap:square;stroke-linejoin:miter;stroke-width:1.25;\"/>\n   </g>\n   <g id=\"patch_5\">\n    <path d=\"M 171.9975 186.33125 \nL 490.6575 186.33125 \n\" style=\"fill:none;stroke:#ffffff;stroke-linecap:square;stroke-linejoin:miter;stroke-width:1.25;\"/>\n   </g>\n   <g id=\"patch_6\">\n    <path d=\"M 171.9975 30.67125 \nL 490.6575 30.67125 \n\" style=\"fill:none;stroke:#ffffff;stroke-linecap:square;stroke-linejoin:miter;stroke-width:1.25;\"/>\n   </g>\n   <g id=\"text_10\">\n    <!-- Cluster visaliztion in the first two principal component domain -->\n    <g style=\"fill:#262626;\" transform=\"translate(7.2 24.67125)scale(0.24 -0.24)\">\n     <defs>\n      <path d=\"M 58.796875 25.09375 \nL 68.265625 22.703125 \nQ 65.28125 11.03125 57.546875 4.90625 \nQ 49.8125 -1.21875 38.625 -1.21875 \nQ 27.046875 -1.21875 19.796875 3.484375 \nQ 12.546875 8.203125 8.765625 17.140625 \nQ 4.984375 26.078125 4.984375 36.328125 \nQ 4.984375 47.515625 9.25 55.828125 \nQ 13.53125 64.15625 21.40625 68.46875 \nQ 29.296875 72.796875 38.765625 72.796875 \nQ 49.515625 72.796875 56.828125 67.328125 \nQ 64.15625 61.859375 67.046875 51.953125 \nL 57.71875 49.75 \nQ 55.21875 57.5625 50.484375 61.125 \nQ 45.75 64.703125 38.578125 64.703125 \nQ 30.328125 64.703125 24.78125 60.734375 \nQ 19.234375 56.78125 16.984375 50.109375 \nQ 14.75 43.453125 14.75 36.375 \nQ 14.75 27.25 17.40625 20.4375 \nQ 20.0625 13.625 25.671875 10.25 \nQ 31.296875 6.890625 37.84375 6.890625 \nQ 45.796875 6.890625 51.3125 11.46875 \nQ 56.84375 16.0625 58.796875 25.09375 \nz\n\" id=\"ArialMT-67\"/>\n      <path d=\"M 6.390625 0 \nL 6.390625 71.578125 \nL 15.1875 71.578125 \nL 15.1875 0 \nz\n\" id=\"ArialMT-108\"/>\n      <path d=\"M 40.578125 0 \nL 40.578125 7.625 \nQ 34.515625 -1.171875 24.125 -1.171875 \nQ 19.53125 -1.171875 15.546875 0.578125 \nQ 11.578125 2.34375 9.640625 5 \nQ 7.71875 7.671875 6.9375 11.53125 \nQ 6.390625 14.109375 6.390625 19.734375 \nL 6.390625 51.859375 \nL 15.1875 51.859375 \nL 15.1875 23.09375 \nQ 15.1875 16.21875 15.71875 13.8125 \nQ 16.546875 10.359375 19.234375 8.375 \nQ 21.921875 6.390625 25.875 6.390625 \nQ 29.828125 6.390625 33.296875 8.421875 \nQ 36.765625 10.453125 38.203125 13.9375 \nQ 39.65625 17.4375 39.65625 24.078125 \nL 39.65625 51.859375 \nL 48.4375 51.859375 \nL 48.4375 0 \nz\n\" id=\"ArialMT-117\"/>\n      <path d=\"M 3.078125 15.484375 \nL 11.765625 16.84375 \nQ 12.5 11.625 15.84375 8.84375 \nQ 19.1875 6.0625 25.203125 6.0625 \nQ 31.25 6.0625 34.171875 8.515625 \nQ 37.109375 10.984375 37.109375 14.3125 \nQ 37.109375 17.28125 34.515625 19 \nQ 32.71875 20.171875 25.53125 21.96875 \nQ 15.875 24.421875 12.140625 26.203125 \nQ 8.40625 27.984375 6.46875 31.125 \nQ 4.546875 34.28125 4.546875 38.09375 \nQ 4.546875 41.546875 6.125 44.5 \nQ 7.71875 47.46875 10.453125 49.421875 \nQ 12.5 50.921875 16.03125 51.96875 \nQ 19.578125 53.03125 23.640625 53.03125 \nQ 29.734375 53.03125 34.34375 51.265625 \nQ 38.96875 49.515625 41.15625 46.5 \nQ 43.359375 43.5 44.1875 38.484375 \nL 35.59375 37.3125 \nQ 35.015625 41.3125 32.203125 43.546875 \nQ 29.390625 45.796875 24.265625 45.796875 \nQ 18.21875 45.796875 15.625 43.796875 \nQ 13.03125 41.796875 13.03125 39.109375 \nQ 13.03125 37.40625 14.109375 36.03125 \nQ 15.1875 34.625 17.484375 33.6875 \nQ 18.796875 33.203125 25.25 31.453125 \nQ 34.578125 28.953125 38.25 27.359375 \nQ 41.9375 25.78125 44.03125 22.75 \nQ 46.140625 19.734375 46.140625 15.234375 \nQ 46.140625 10.84375 43.578125 6.953125 \nQ 41.015625 3.078125 36.171875 0.953125 \nQ 31.34375 -1.171875 25.25 -1.171875 \nQ 15.140625 -1.171875 9.84375 3.03125 \nQ 4.546875 7.234375 3.078125 15.484375 \nz\n\" id=\"ArialMT-115\"/>\n      <path d=\"M 25.78125 7.859375 \nL 27.046875 0.09375 \nQ 23.34375 -0.6875 20.40625 -0.6875 \nQ 15.625 -0.6875 12.984375 0.828125 \nQ 10.359375 2.34375 9.28125 4.8125 \nQ 8.203125 7.28125 8.203125 15.1875 \nL 8.203125 45.015625 \nL 1.765625 45.015625 \nL 1.765625 51.859375 \nL 8.203125 51.859375 \nL 8.203125 64.703125 \nL 16.9375 69.96875 \nL 16.9375 51.859375 \nL 25.78125 51.859375 \nL 25.78125 45.015625 \nL 16.9375 45.015625 \nL 16.9375 14.703125 \nQ 16.9375 10.9375 17.40625 9.859375 \nQ 17.875 8.796875 18.921875 8.15625 \nQ 19.96875 7.515625 21.921875 7.515625 \nQ 23.390625 7.515625 25.78125 7.859375 \nz\n\" id=\"ArialMT-116\"/>\n      <path d=\"M 42.09375 16.703125 \nL 51.171875 15.578125 \nQ 49.03125 7.625 43.21875 3.21875 \nQ 37.40625 -1.171875 28.375 -1.171875 \nQ 17 -1.171875 10.328125 5.828125 \nQ 3.65625 12.84375 3.65625 25.484375 \nQ 3.65625 38.578125 10.390625 45.796875 \nQ 17.140625 53.03125 27.875 53.03125 \nQ 38.28125 53.03125 44.875 45.953125 \nQ 51.46875 38.875 51.46875 26.03125 \nQ 51.46875 25.25 51.421875 23.6875 \nL 12.75 23.6875 \nQ 13.234375 15.140625 17.578125 10.59375 \nQ 21.921875 6.0625 28.421875 6.0625 \nQ 33.25 6.0625 36.671875 8.59375 \nQ 40.09375 11.140625 42.09375 16.703125 \nz\nM 13.234375 30.90625 \nL 42.1875 30.90625 \nQ 41.609375 37.453125 38.875 40.71875 \nQ 34.671875 45.796875 27.984375 45.796875 \nQ 21.921875 45.796875 17.796875 41.75 \nQ 13.671875 37.703125 13.234375 30.90625 \nz\n\" id=\"ArialMT-101\"/>\n      <path d=\"M 6.5 0 \nL 6.5 51.859375 \nL 14.40625 51.859375 \nL 14.40625 44 \nQ 17.4375 49.515625 20 51.265625 \nQ 22.5625 53.03125 25.640625 53.03125 \nQ 30.078125 53.03125 34.671875 50.203125 \nL 31.640625 42.046875 \nQ 28.421875 43.953125 25.203125 43.953125 \nQ 22.3125 43.953125 20.015625 42.21875 \nQ 17.71875 40.484375 16.75 37.40625 \nQ 15.28125 32.71875 15.28125 27.15625 \nL 15.28125 0 \nz\n\" id=\"ArialMT-114\"/>\n      <path id=\"ArialMT-32\"/>\n      <path d=\"M 21 0 \nL 1.265625 51.859375 \nL 10.546875 51.859375 \nL 21.6875 20.796875 \nQ 23.484375 15.765625 25 10.359375 \nQ 26.171875 14.453125 28.265625 20.21875 \nL 39.796875 51.859375 \nL 48.828125 51.859375 \nL 29.203125 0 \nz\n\" id=\"ArialMT-118\"/>\n      <path d=\"M 6.640625 61.46875 \nL 6.640625 71.578125 \nL 15.4375 71.578125 \nL 15.4375 61.46875 \nz\nM 6.640625 0 \nL 6.640625 51.859375 \nL 15.4375 51.859375 \nL 15.4375 0 \nz\n\" id=\"ArialMT-105\"/>\n      <path d=\"M 40.4375 6.390625 \nQ 35.546875 2.25 31.03125 0.53125 \nQ 26.515625 -1.171875 21.34375 -1.171875 \nQ 12.796875 -1.171875 8.203125 3 \nQ 3.609375 7.171875 3.609375 13.671875 \nQ 3.609375 17.484375 5.34375 20.625 \nQ 7.078125 23.78125 9.890625 25.6875 \nQ 12.703125 27.59375 16.21875 28.5625 \nQ 18.796875 29.25 24.03125 29.890625 \nQ 34.671875 31.15625 39.703125 32.90625 \nQ 39.75 34.71875 39.75 35.203125 \nQ 39.75 40.578125 37.25 42.78125 \nQ 33.890625 45.75 27.25 45.75 \nQ 21.046875 45.75 18.09375 43.578125 \nQ 15.140625 41.40625 13.71875 35.890625 \nL 5.125 37.0625 \nQ 6.296875 42.578125 8.984375 45.96875 \nQ 11.671875 49.359375 16.75 51.1875 \nQ 21.828125 53.03125 28.515625 53.03125 \nQ 35.15625 53.03125 39.296875 51.46875 \nQ 43.453125 49.90625 45.40625 47.53125 \nQ 47.359375 45.171875 48.140625 41.546875 \nQ 48.578125 39.3125 48.578125 33.453125 \nL 48.578125 21.734375 \nQ 48.578125 9.46875 49.140625 6.21875 \nQ 49.703125 2.984375 51.375 0 \nL 42.1875 0 \nQ 40.828125 2.734375 40.4375 6.390625 \nz\nM 39.703125 26.03125 \nQ 34.90625 24.078125 25.34375 22.703125 \nQ 19.921875 21.921875 17.671875 20.9375 \nQ 15.4375 19.96875 14.203125 18.09375 \nQ 12.984375 16.21875 12.984375 13.921875 \nQ 12.984375 10.40625 15.640625 8.0625 \nQ 18.3125 5.71875 23.4375 5.71875 \nQ 28.515625 5.71875 32.46875 7.9375 \nQ 36.421875 10.15625 38.28125 14.015625 \nQ 39.703125 17 39.703125 22.796875 \nz\n\" id=\"ArialMT-97\"/>\n      <path d=\"M 1.953125 0 \nL 1.953125 7.125 \nL 34.96875 45.015625 \nQ 29.34375 44.734375 25.046875 44.734375 \nL 3.90625 44.734375 \nL 3.90625 51.859375 \nL 46.296875 51.859375 \nL 46.296875 46.046875 \nL 18.21875 13.140625 \nL 12.796875 7.125 \nQ 18.703125 7.5625 23.875 7.5625 \nL 47.859375 7.5625 \nL 47.859375 0 \nz\n\" id=\"ArialMT-122\"/>\n      <path d=\"M 3.328125 25.921875 \nQ 3.328125 40.328125 11.328125 47.265625 \nQ 18.015625 53.03125 27.640625 53.03125 \nQ 38.328125 53.03125 45.109375 46.015625 \nQ 51.90625 39.015625 51.90625 26.65625 \nQ 51.90625 16.65625 48.90625 10.90625 \nQ 45.90625 5.171875 40.15625 2 \nQ 34.421875 -1.171875 27.640625 -1.171875 \nQ 16.75 -1.171875 10.03125 5.8125 \nQ 3.328125 12.796875 3.328125 25.921875 \nz\nM 12.359375 25.921875 \nQ 12.359375 15.96875 16.703125 11.015625 \nQ 21.046875 6.0625 27.640625 6.0625 \nQ 34.1875 6.0625 38.53125 11.03125 \nQ 42.875 16.015625 42.875 26.21875 \nQ 42.875 35.84375 38.5 40.796875 \nQ 34.125 45.75 27.640625 45.75 \nQ 21.046875 45.75 16.703125 40.8125 \nQ 12.359375 35.890625 12.359375 25.921875 \nz\n\" id=\"ArialMT-111\"/>\n      <path d=\"M 6.59375 0 \nL 6.59375 51.859375 \nL 14.5 51.859375 \nL 14.5 44.484375 \nQ 20.21875 53.03125 31 53.03125 \nQ 35.6875 53.03125 39.625 51.34375 \nQ 43.5625 49.65625 45.515625 46.921875 \nQ 47.46875 44.1875 48.25 40.4375 \nQ 48.734375 37.984375 48.734375 31.890625 \nL 48.734375 0 \nL 39.9375 0 \nL 39.9375 31.546875 \nQ 39.9375 36.921875 38.90625 39.578125 \nQ 37.890625 42.234375 35.28125 43.8125 \nQ 32.671875 45.40625 29.15625 45.40625 \nQ 23.53125 45.40625 19.453125 41.84375 \nQ 15.375 38.28125 15.375 28.328125 \nL 15.375 0 \nz\n\" id=\"ArialMT-110\"/>\n      <path d=\"M 6.59375 0 \nL 6.59375 71.578125 \nL 15.375 71.578125 \nL 15.375 45.90625 \nQ 21.53125 53.03125 30.90625 53.03125 \nQ 36.671875 53.03125 40.921875 50.75 \nQ 45.171875 48.484375 47 44.484375 \nQ 48.828125 40.484375 48.828125 32.859375 \nL 48.828125 0 \nL 40.046875 0 \nL 40.046875 32.859375 \nQ 40.046875 39.453125 37.1875 42.453125 \nQ 34.328125 45.453125 29.109375 45.453125 \nQ 25.203125 45.453125 21.75 43.421875 \nQ 18.3125 41.40625 16.84375 37.9375 \nQ 15.375 34.46875 15.375 28.375 \nL 15.375 0 \nz\n\" id=\"ArialMT-104\"/>\n      <path d=\"M 8.6875 0 \nL 8.6875 45.015625 \nL 0.921875 45.015625 \nL 0.921875 51.859375 \nL 8.6875 51.859375 \nL 8.6875 57.375 \nQ 8.6875 62.59375 9.625 65.140625 \nQ 10.890625 68.5625 14.078125 70.671875 \nQ 17.28125 72.796875 23.046875 72.796875 \nQ 26.765625 72.796875 31.25 71.921875 \nL 29.9375 64.265625 \nQ 27.203125 64.75 24.75 64.75 \nQ 20.75 64.75 19.09375 63.03125 \nQ 17.4375 61.328125 17.4375 56.640625 \nL 17.4375 51.859375 \nL 27.546875 51.859375 \nL 27.546875 45.015625 \nL 17.4375 45.015625 \nL 17.4375 0 \nz\n\" id=\"ArialMT-102\"/>\n      <path d=\"M 16.15625 0 \nL 0.296875 51.859375 \nL 9.375 51.859375 \nL 17.625 21.921875 \nL 20.703125 10.796875 \nQ 20.90625 11.625 23.390625 21.484375 \nL 31.640625 51.859375 \nL 40.671875 51.859375 \nL 48.4375 21.78125 \nL 51.03125 11.859375 \nL 54 21.875 \nL 62.890625 51.859375 \nL 71.4375 51.859375 \nL 55.21875 0 \nL 46.09375 0 \nL 37.84375 31.0625 \nL 35.84375 39.890625 \nL 25.34375 0 \nz\n\" id=\"ArialMT-119\"/>\n      <path d=\"M 6.59375 -19.875 \nL 6.59375 51.859375 \nL 14.59375 51.859375 \nL 14.59375 45.125 \nQ 17.4375 49.078125 21 51.046875 \nQ 24.5625 53.03125 29.640625 53.03125 \nQ 36.28125 53.03125 41.359375 49.609375 \nQ 46.4375 46.1875 49.015625 39.953125 \nQ 51.609375 33.734375 51.609375 26.3125 \nQ 51.609375 18.359375 48.75 11.984375 \nQ 45.90625 5.609375 40.453125 2.21875 \nQ 35.015625 -1.171875 29 -1.171875 \nQ 24.609375 -1.171875 21.109375 0.6875 \nQ 17.625 2.546875 15.375 5.375 \nL 15.375 -19.875 \nz\nM 14.546875 25.640625 \nQ 14.546875 15.625 18.59375 10.84375 \nQ 22.65625 6.0625 28.421875 6.0625 \nQ 34.28125 6.0625 38.453125 11.015625 \nQ 42.625 15.96875 42.625 26.375 \nQ 42.625 36.28125 38.546875 41.203125 \nQ 34.46875 46.140625 28.8125 46.140625 \nQ 23.1875 46.140625 18.859375 40.890625 \nQ 14.546875 35.640625 14.546875 25.640625 \nz\n\" id=\"ArialMT-112\"/>\n      <path d=\"M 40.4375 19 \nL 49.078125 17.875 \nQ 47.65625 8.9375 41.8125 3.875 \nQ 35.984375 -1.171875 27.484375 -1.171875 \nQ 16.84375 -1.171875 10.375 5.78125 \nQ 3.90625 12.75 3.90625 25.734375 \nQ 3.90625 34.125 6.6875 40.421875 \nQ 9.46875 46.734375 15.15625 49.875 \nQ 20.84375 53.03125 27.546875 53.03125 \nQ 35.984375 53.03125 41.359375 48.75 \nQ 46.734375 44.484375 48.25 36.625 \nL 39.703125 35.296875 \nQ 38.484375 40.53125 35.375 43.15625 \nQ 32.28125 45.796875 27.875 45.796875 \nQ 21.234375 45.796875 17.078125 41.03125 \nQ 12.9375 36.28125 12.9375 25.984375 \nQ 12.9375 15.53125 16.9375 10.796875 \nQ 20.953125 6.0625 27.390625 6.0625 \nQ 32.5625 6.0625 36.03125 9.234375 \nQ 39.5 12.40625 40.4375 19 \nz\n\" id=\"ArialMT-99\"/>\n      <path d=\"M 6.59375 0 \nL 6.59375 51.859375 \nL 14.453125 51.859375 \nL 14.453125 44.578125 \nQ 16.890625 48.390625 20.9375 50.703125 \nQ 25 53.03125 30.171875 53.03125 \nQ 35.9375 53.03125 39.625 50.640625 \nQ 43.3125 48.25 44.828125 43.953125 \nQ 50.984375 53.03125 60.84375 53.03125 \nQ 68.5625 53.03125 72.703125 48.75 \nQ 76.859375 44.484375 76.859375 35.59375 \nL 76.859375 0 \nL 68.109375 0 \nL 68.109375 32.671875 \nQ 68.109375 37.9375 67.25 40.25 \nQ 66.40625 42.578125 64.15625 43.984375 \nQ 61.921875 45.40625 58.890625 45.40625 \nQ 53.421875 45.40625 49.796875 41.765625 \nQ 46.1875 38.140625 46.1875 30.125 \nL 46.1875 0 \nL 37.40625 0 \nL 37.40625 33.6875 \nQ 37.40625 39.546875 35.25 42.46875 \nQ 33.109375 45.40625 28.21875 45.40625 \nQ 24.515625 45.40625 21.359375 43.453125 \nQ 18.21875 41.5 16.796875 37.734375 \nQ 15.375 33.984375 15.375 26.90625 \nL 15.375 0 \nz\n\" id=\"ArialMT-109\"/>\n      <path d=\"M 40.234375 0 \nL 40.234375 6.546875 \nQ 35.296875 -1.171875 25.734375 -1.171875 \nQ 19.53125 -1.171875 14.328125 2.25 \nQ 9.125 5.671875 6.265625 11.796875 \nQ 3.421875 17.921875 3.421875 25.875 \nQ 3.421875 33.640625 6 39.96875 \nQ 8.59375 46.296875 13.765625 49.65625 \nQ 18.953125 53.03125 25.34375 53.03125 \nQ 30.03125 53.03125 33.6875 51.046875 \nQ 37.359375 49.078125 39.65625 45.90625 \nL 39.65625 71.578125 \nL 48.390625 71.578125 \nL 48.390625 0 \nz\nM 12.453125 25.875 \nQ 12.453125 15.921875 16.640625 10.984375 \nQ 20.84375 6.0625 26.5625 6.0625 \nQ 32.328125 6.0625 36.34375 10.765625 \nQ 40.375 15.484375 40.375 25.140625 \nQ 40.375 35.796875 36.265625 40.765625 \nQ 32.171875 45.75 26.171875 45.75 \nQ 20.3125 45.75 16.375 40.96875 \nQ 12.453125 36.1875 12.453125 25.875 \nz\n\" id=\"ArialMT-100\"/>\n     </defs>\n     <use xlink:href=\"#ArialMT-67\"/>\n     <use x=\"72.216797\" xlink:href=\"#ArialMT-108\"/>\n     <use x=\"94.433594\" xlink:href=\"#ArialMT-117\"/>\n     <use x=\"150.048828\" xlink:href=\"#ArialMT-115\"/>\n     <use x=\"200.048828\" xlink:href=\"#ArialMT-116\"/>\n     <use x=\"227.832031\" xlink:href=\"#ArialMT-101\"/>\n     <use x=\"283.447266\" xlink:href=\"#ArialMT-114\"/>\n     <use x=\"316.748047\" xlink:href=\"#ArialMT-32\"/>\n     <use x=\"344.53125\" xlink:href=\"#ArialMT-118\"/>\n     <use x=\"394.53125\" xlink:href=\"#ArialMT-105\"/>\n     <use x=\"416.748047\" xlink:href=\"#ArialMT-115\"/>\n     <use x=\"466.748047\" xlink:href=\"#ArialMT-97\"/>\n     <use x=\"522.363281\" xlink:href=\"#ArialMT-108\"/>\n     <use x=\"544.580078\" xlink:href=\"#ArialMT-105\"/>\n     <use x=\"566.796875\" xlink:href=\"#ArialMT-122\"/>\n     <use x=\"616.796875\" xlink:href=\"#ArialMT-116\"/>\n     <use x=\"644.580078\" xlink:href=\"#ArialMT-105\"/>\n     <use x=\"666.796875\" xlink:href=\"#ArialMT-111\"/>\n     <use x=\"722.412109\" xlink:href=\"#ArialMT-110\"/>\n     <use x=\"778.027344\" xlink:href=\"#ArialMT-32\"/>\n     <use x=\"805.810547\" xlink:href=\"#ArialMT-105\"/>\n     <use x=\"828.027344\" xlink:href=\"#ArialMT-110\"/>\n     <use x=\"883.642578\" xlink:href=\"#ArialMT-32\"/>\n     <use x=\"911.425781\" xlink:href=\"#ArialMT-116\"/>\n     <use x=\"939.208984\" xlink:href=\"#ArialMT-104\"/>\n     <use x=\"994.824219\" xlink:href=\"#ArialMT-101\"/>\n     <use x=\"1050.439453\" xlink:href=\"#ArialMT-32\"/>\n     <use x=\"1078.222656\" xlink:href=\"#ArialMT-102\"/>\n     <use x=\"1106.005859\" xlink:href=\"#ArialMT-105\"/>\n     <use x=\"1128.222656\" xlink:href=\"#ArialMT-114\"/>\n     <use x=\"1161.523438\" xlink:href=\"#ArialMT-115\"/>\n     <use x=\"1211.523438\" xlink:href=\"#ArialMT-116\"/>\n     <use x=\"1239.306641\" xlink:href=\"#ArialMT-32\"/>\n     <use x=\"1267.089844\" xlink:href=\"#ArialMT-116\"/>\n     <use x=\"1294.873047\" xlink:href=\"#ArialMT-119\"/>\n     <use x=\"1367.089844\" xlink:href=\"#ArialMT-111\"/>\n     <use x=\"1422.705078\" xlink:href=\"#ArialMT-32\"/>\n     <use x=\"1450.488281\" xlink:href=\"#ArialMT-112\"/>\n     <use x=\"1506.103516\" xlink:href=\"#ArialMT-114\"/>\n     <use x=\"1539.404297\" xlink:href=\"#ArialMT-105\"/>\n     <use x=\"1561.621094\" xlink:href=\"#ArialMT-110\"/>\n     <use x=\"1617.236328\" xlink:href=\"#ArialMT-99\"/>\n     <use x=\"1667.236328\" xlink:href=\"#ArialMT-105\"/>\n     <use x=\"1689.453125\" xlink:href=\"#ArialMT-112\"/>\n     <use x=\"1745.068359\" xlink:href=\"#ArialMT-97\"/>\n     <use x=\"1800.683594\" xlink:href=\"#ArialMT-108\"/>\n     <use x=\"1822.900391\" xlink:href=\"#ArialMT-32\"/>\n     <use x=\"1850.683594\" xlink:href=\"#ArialMT-99\"/>\n     <use x=\"1900.683594\" xlink:href=\"#ArialMT-111\"/>\n     <use x=\"1956.298828\" xlink:href=\"#ArialMT-109\"/>\n     <use x=\"2039.599609\" xlink:href=\"#ArialMT-112\"/>\n     <use x=\"2095.214844\" xlink:href=\"#ArialMT-111\"/>\n     <use x=\"2150.830078\" xlink:href=\"#ArialMT-110\"/>\n     <use x=\"2206.445312\" xlink:href=\"#ArialMT-101\"/>\n     <use x=\"2262.060547\" xlink:href=\"#ArialMT-110\"/>\n     <use x=\"2317.675781\" xlink:href=\"#ArialMT-116\"/>\n     <use x=\"2345.458984\" xlink:href=\"#ArialMT-32\"/>\n     <use x=\"2373.242188\" xlink:href=\"#ArialMT-100\"/>\n     <use x=\"2428.857422\" xlink:href=\"#ArialMT-111\"/>\n     <use x=\"2484.472656\" xlink:href=\"#ArialMT-109\"/>\n     <use x=\"2567.773438\" xlink:href=\"#ArialMT-97\"/>\n     <use x=\"2623.388672\" xlink:href=\"#ArialMT-105\"/>\n     <use x=\"2645.605469\" xlink:href=\"#ArialMT-110\"/>\n    </g>\n   </g>\n   <g id=\"legend_1\">\n    <g id=\"patch_7\">\n     <path d=\"M 374.2775 143.459375 \nL 475.2575 143.459375 \nQ 479.6575 143.459375 479.6575 139.059375 \nL 479.6575 46.07125 \nQ 479.6575 41.67125 475.2575 41.67125 \nL 374.2775 41.67125 \nQ 369.8775 41.67125 369.8775 46.07125 \nL 369.8775 139.059375 \nQ 369.8775 143.459375 374.2775 143.459375 \nz\n\" style=\"fill:#eaeaf2;opacity:0.8;stroke:#cccccc;stroke-linejoin:miter;\"/>\n    </g>\n    <g id=\"text_11\">\n     <!-- labels -->\n     <g style=\"fill:#262626;\" transform=\"translate(393.415625 67.65)scale(0.24 -0.24)\">\n      <defs>\n       <path d=\"M 14.703125 0 \nL 6.546875 0 \nL 6.546875 71.578125 \nL 15.328125 71.578125 \nL 15.328125 46.046875 \nQ 20.90625 53.03125 29.546875 53.03125 \nQ 34.328125 53.03125 38.59375 51.09375 \nQ 42.875 49.171875 45.625 45.671875 \nQ 48.390625 42.1875 49.953125 37.25 \nQ 51.515625 32.328125 51.515625 26.703125 \nQ 51.515625 13.375 44.921875 6.09375 \nQ 38.328125 -1.171875 29.109375 -1.171875 \nQ 19.921875 -1.171875 14.703125 6.5 \nz\nM 14.59375 26.3125 \nQ 14.59375 17 17.140625 12.84375 \nQ 21.296875 6.0625 28.375 6.0625 \nQ 34.125 6.0625 38.328125 11.0625 \nQ 42.53125 16.0625 42.53125 25.984375 \nQ 42.53125 36.140625 38.5 40.96875 \nQ 34.46875 45.796875 28.765625 45.796875 \nQ 23 45.796875 18.796875 40.796875 \nQ 14.59375 35.796875 14.59375 26.3125 \nz\n\" id=\"ArialMT-98\"/>\n      </defs>\n      <use xlink:href=\"#ArialMT-108\"/>\n      <use x=\"22.216797\" xlink:href=\"#ArialMT-97\"/>\n      <use x=\"77.832031\" xlink:href=\"#ArialMT-98\"/>\n      <use x=\"133.447266\" xlink:href=\"#ArialMT-101\"/>\n      <use x=\"189.0625\" xlink:href=\"#ArialMT-108\"/>\n      <use x=\"211.279297\" xlink:href=\"#ArialMT-115\"/>\n     </g>\n    </g>\n    <g id=\"PathCollection_4\">\n     <defs>\n      <path d=\"M 0 3 \nC 0.795609 3 1.55874 2.683901 2.12132 2.12132 \nC 2.683901 1.55874 3 0.795609 3 0 \nC 3 -0.795609 2.683901 -1.55874 2.12132 -2.12132 \nC 1.55874 -2.683901 0.795609 -3 0 -3 \nC -0.795609 -3 -1.55874 -2.683901 -2.12132 -2.12132 \nC -2.683901 -1.55874 -3 -0.795609 -3 0 \nC -3 0.795609 -2.683901 1.55874 -2.12132 2.12132 \nC -1.55874 2.683901 -0.795609 3 0 3 \nz\n\" id=\"m137e5ad863\" style=\"stroke:#001c7f;\"/>\n     </defs>\n     <g>\n      <use style=\"fill:#001c7f;stroke:#001c7f;\" x=\"400.6775\" xlink:href=\"#m137e5ad863\" y=\"93.392187\"/>\n     </g>\n    </g>\n    <g id=\"text_12\">\n     <!-- 0.0 -->\n     <g style=\"fill:#262626;\" transform=\"translate(440.2775 99.167187)scale(0.22 -0.22)\">\n      <defs>\n       <path d=\"M 9.078125 0 \nL 9.078125 10.015625 \nL 19.09375 10.015625 \nL 19.09375 0 \nz\n\" id=\"ArialMT-46\"/>\n      </defs>\n      <use xlink:href=\"#ArialMT-48\"/>\n      <use x=\"55.615234\" xlink:href=\"#ArialMT-46\"/>\n      <use x=\"83.398438\" xlink:href=\"#ArialMT-48\"/>\n     </g>\n    </g>\n    <g id=\"PathCollection_5\">\n     <defs>\n      <path d=\"M 0 3 \nC 0.795609 3 1.55874 2.683901 2.12132 2.12132 \nC 2.683901 1.55874 3 0.795609 3 0 \nC 3 -0.795609 2.683901 -1.55874 2.12132 -2.12132 \nC 1.55874 -2.683901 0.795609 -3 0 -3 \nC -0.795609 -3 -1.55874 -2.683901 -2.12132 -2.12132 \nC -2.683901 -1.55874 -3 -0.795609 -3 0 \nC -3 0.795609 -2.683901 1.55874 -2.12132 2.12132 \nC -1.55874 2.683901 -0.795609 3 0 3 \nz\n\" id=\"mc840dc1eb3\" style=\"stroke:#b1400d;\"/>\n     </defs>\n     <g>\n      <use style=\"fill:#b1400d;stroke:#b1400d;\" x=\"400.6775\" xlink:href=\"#mc840dc1eb3\" y=\"124.511875\"/>\n     </g>\n    </g>\n    <g id=\"text_13\">\n     <!-- 1.0 -->\n     <g style=\"fill:#262626;\" transform=\"translate(440.2775 130.286875)scale(0.22 -0.22)\">\n      <use xlink:href=\"#ArialMT-49\"/>\n      <use x=\"55.615234\" xlink:href=\"#ArialMT-46\"/>\n      <use x=\"83.398438\" xlink:href=\"#ArialMT-48\"/>\n     </g>\n    </g>\n   </g>\n  </g>\n </g>\n <defs>\n  <clipPath id=\"p349d0fe030\">\n   <rect height=\"155.66\" width=\"318.66\" x=\"171.9975\" y=\"30.67125\"/>\n  </clipPath>\n </defs>\n</svg>\n",
      "image/png": "[encoded data removed]"
     },
     "metadata": {}
    }
   ],
   "source": [
    "sns.set(font_scale=2)\n",
    "pca = PCA(n_components=2).fit_transform(X_train.toarray())\n",
    "df_prim = pd.DataFrame(pca)\n",
    "df_prim.columns = ['X1', 'X2']\n",
    "df_prim['labels'] = y_train\n",
    "ax = sns.scatterplot(x='X1', y='X2', hue='labels', \n",
    "    data=df_prim, palette=\"dark\")\n",
    "ax.set(title=\"Cluster visaliztion in the first two principal component domain\")\n",
    "plt.tight_layout()\n",
    "plt.savefig('../images/PCA_before_smoteenn.png')"
   ]
  },
  {
   "cell_type": "code",
   "execution_count": 6,
   "metadata": {},
   "outputs": [
    {
     "output_type": "display_data",
     "data": {
      "text/plain": "<Figure size 432x288 with 1 Axes>",
      "image/svg+xml": "<?xml version=\"1.0\" encoding=\"utf-8\" standalone=\"no\"?>\n<!DOCTYPE svg PUBLIC \"-//W3C//DTD SVG 1.1//EN\"\n  \"http://www.w3.org/Graphics/SVG/1.1/DTD/svg11.dtd\">\n<!-- Created with matplotlib (https://matplotlib.org/) -->\n<svg height=\"249.099688pt\" version=\"1.1\" viewBox=\"0 0 662.655 249.099688\" width=\"662.655pt\" xmlns=\"http://www.w3.org/2000/svg\" xmlns:xlink=\"http://www.w3.org/1999/xlink\">\n <metadata>\n  <rdf:RDF xmlns:cc=\"http://creativecommons.org/ns#\" xmlns:dc=\"http://purl.org/dc/elements/1.1/\" xmlns:rdf=\"http://www.w3.org/1999/02/22-rdf-syntax-ns#\">\n   <cc:Work>\n    <dc:type rdf:resource=\"http://purl.org/dc/dcmitype/StillImage\"/>\n    <dc:date>2021-02-22T21:44:23.711977</dc:date>\n    <dc:format>image/svg+xml</dc:format>\n    <dc:creator>\n     <cc:Agent>\n      <dc:title>Matplotlib v3.3.4, https://matplotlib.org/</dc:title>\n     </cc:Agent>\n    </dc:creator>\n   </cc:Work>\n  </rdf:RDF>\n </metadata>\n <defs>\n  <style type=\"text/css\">*{stroke-linecap:butt;stroke-linejoin:round;}</style>\n </defs>\n <g id=\"figure_1\">\n  <g id=\"patch_1\">\n   <path d=\"M 0 249.099688 \nL 662.655 249.099688 \nL 662.655 0 \nL 0 0 \nz\n\" style=\"fill:#ffffff;\"/>\n  </g>\n  <g id=\"axes_1\">\n   <g id=\"patch_2\">\n    <path d=\"M 171.9975 186.33125 \nL 490.6575 186.33125 \nL 490.6575 30.67125 \nL 171.9975 30.67125 \nz\n\" style=\"fill:#eaeaf2;\"/>\n   </g>\n   <g id=\"matplotlib.axis_1\">\n    <g id=\"xtick_1\">\n     <g id=\"line2d_1\">\n      <path clip-path=\"url(#pe1669969ce)\" d=\"M 248.826511 186.33125 \nL 248.826511 30.67125 \n\" style=\"fill:none;stroke:#ffffff;stroke-linecap:round;\"/>\n     </g>\n     <g id=\"text_1\">\n      <!-- 0.0 -->\n      <g style=\"fill:#262626;\" transform=\"translate(233.536511 211.578438)scale(0.22 -0.22)\">\n       <defs>\n        <path d=\"M 4.15625 35.296875 \nQ 4.15625 48 6.765625 55.734375 \nQ 9.375 63.484375 14.515625 67.671875 \nQ 19.671875 71.875 27.484375 71.875 \nQ 33.25 71.875 37.59375 69.546875 \nQ 41.9375 67.234375 44.765625 62.859375 \nQ 47.609375 58.5 49.21875 52.21875 \nQ 50.828125 45.953125 50.828125 35.296875 \nQ 50.828125 22.703125 48.234375 14.96875 \nQ 45.65625 7.234375 40.5 3 \nQ 35.359375 -1.21875 27.484375 -1.21875 \nQ 17.140625 -1.21875 11.234375 6.203125 \nQ 4.15625 15.140625 4.15625 35.296875 \nz\nM 13.1875 35.296875 \nQ 13.1875 17.671875 17.3125 11.828125 \nQ 21.4375 6 27.484375 6 \nQ 33.546875 6 37.671875 11.859375 \nQ 41.796875 17.71875 41.796875 35.296875 \nQ 41.796875 52.984375 37.671875 58.78125 \nQ 33.546875 64.59375 27.390625 64.59375 \nQ 21.34375 64.59375 17.71875 59.46875 \nQ 13.1875 52.9375 13.1875 35.296875 \nz\n\" id=\"ArialMT-48\"/>\n        <path d=\"M 9.078125 0 \nL 9.078125 10.015625 \nL 19.09375 10.015625 \nL 19.09375 0 \nz\n\" id=\"ArialMT-46\"/>\n       </defs>\n       <use xlink:href=\"#ArialMT-48\"/>\n       <use x=\"55.615234\" xlink:href=\"#ArialMT-46\"/>\n       <use x=\"83.398438\" xlink:href=\"#ArialMT-48\"/>\n      </g>\n     </g>\n    </g>\n    <g id=\"xtick_2\">\n     <g id=\"line2d_2\">\n      <path clip-path=\"url(#pe1669969ce)\" d=\"M 339.690022 186.33125 \nL 339.690022 30.67125 \n\" style=\"fill:none;stroke:#ffffff;stroke-linecap:round;\"/>\n     </g>\n     <g id=\"text_2\">\n      <!-- 2.5 -->\n      <g style=\"fill:#262626;\" transform=\"translate(324.400022 211.578438)scale(0.22 -0.22)\">\n       <defs>\n        <path d=\"M 50.34375 8.453125 \nL 50.34375 0 \nL 3.03125 0 \nQ 2.9375 3.171875 4.046875 6.109375 \nQ 5.859375 10.9375 9.828125 15.625 \nQ 13.8125 20.3125 21.34375 26.46875 \nQ 33.015625 36.03125 37.109375 41.625 \nQ 41.21875 47.21875 41.21875 52.203125 \nQ 41.21875 57.421875 37.46875 61 \nQ 33.734375 64.59375 27.734375 64.59375 \nQ 21.390625 64.59375 17.578125 60.78125 \nQ 13.765625 56.984375 13.71875 50.25 \nL 4.6875 51.171875 \nQ 5.609375 61.28125 11.65625 66.578125 \nQ 17.71875 71.875 27.9375 71.875 \nQ 38.234375 71.875 44.234375 66.15625 \nQ 50.25 60.453125 50.25 52 \nQ 50.25 47.703125 48.484375 43.546875 \nQ 46.734375 39.40625 42.65625 34.8125 \nQ 38.578125 30.21875 29.109375 22.21875 \nQ 21.1875 15.578125 18.9375 13.203125 \nQ 16.703125 10.84375 15.234375 8.453125 \nz\n\" id=\"ArialMT-50\"/>\n        <path d=\"M 4.15625 18.75 \nL 13.375 19.53125 \nQ 14.40625 12.796875 18.140625 9.390625 \nQ 21.875 6 27.15625 6 \nQ 33.5 6 37.890625 10.78125 \nQ 42.28125 15.578125 42.28125 23.484375 \nQ 42.28125 31 38.0625 35.34375 \nQ 33.84375 39.703125 27 39.703125 \nQ 22.75 39.703125 19.328125 37.765625 \nQ 15.921875 35.84375 13.96875 32.765625 \nL 5.71875 33.84375 \nL 12.640625 70.609375 \nL 48.25 70.609375 \nL 48.25 62.203125 \nL 19.671875 62.203125 \nL 15.828125 42.96875 \nQ 22.265625 47.46875 29.34375 47.46875 \nQ 38.71875 47.46875 45.15625 40.96875 \nQ 51.609375 34.46875 51.609375 24.265625 \nQ 51.609375 14.546875 45.953125 7.46875 \nQ 39.0625 -1.21875 27.15625 -1.21875 \nQ 17.390625 -1.21875 11.203125 4.25 \nQ 5.03125 9.71875 4.15625 18.75 \nz\n\" id=\"ArialMT-53\"/>\n       </defs>\n       <use xlink:href=\"#ArialMT-50\"/>\n       <use x=\"55.615234\" xlink:href=\"#ArialMT-46\"/>\n       <use x=\"83.398438\" xlink:href=\"#ArialMT-53\"/>\n      </g>\n     </g>\n    </g>\n    <g id=\"xtick_3\">\n     <g id=\"line2d_3\">\n      <path clip-path=\"url(#pe1669969ce)\" d=\"M 430.553533 186.33125 \nL 430.553533 30.67125 \n\" style=\"fill:none;stroke:#ffffff;stroke-linecap:round;\"/>\n     </g>\n     <g id=\"text_3\">\n      <!-- 5.0 -->\n      <g style=\"fill:#262626;\" transform=\"translate(415.263533 211.578438)scale(0.22 -0.22)\">\n       <use xlink:href=\"#ArialMT-53\"/>\n       <use x=\"55.615234\" xlink:href=\"#ArialMT-46\"/>\n       <use x=\"83.398438\" xlink:href=\"#ArialMT-48\"/>\n      </g>\n     </g>\n    </g>\n    <g id=\"text_4\">\n     <!-- X1 -->\n     <g style=\"fill:#262626;\" transform=\"translate(316.65 237.129688)scale(0.24 -0.24)\">\n      <defs>\n       <path d=\"M 0.4375 0 \nL 28.125 37.3125 \nL 3.71875 71.578125 \nL 14.984375 71.578125 \nL 27.984375 53.21875 \nQ 32.03125 47.515625 33.734375 44.4375 \nQ 36.140625 48.34375 39.40625 52.59375 \nL 53.8125 71.578125 \nL 64.109375 71.578125 \nL 38.96875 37.84375 \nL 66.0625 0 \nL 54.34375 0 \nL 36.328125 25.53125 \nQ 34.8125 27.734375 33.203125 30.328125 \nQ 30.8125 26.421875 29.78125 24.953125 \nL 11.8125 0 \nz\n\" id=\"ArialMT-88\"/>\n       <path d=\"M 37.25 0 \nL 28.46875 0 \nL 28.46875 56 \nQ 25.296875 52.984375 20.140625 49.953125 \nQ 14.984375 46.921875 10.890625 45.40625 \nL 10.890625 53.90625 \nQ 18.265625 57.375 23.78125 62.296875 \nQ 29.296875 67.234375 31.59375 71.875 \nL 37.25 71.875 \nz\n\" id=\"ArialMT-49\"/>\n      </defs>\n      <use xlink:href=\"#ArialMT-88\"/>\n      <use x=\"66.699219\" xlink:href=\"#ArialMT-49\"/>\n     </g>\n    </g>\n   </g>\n   <g id=\"matplotlib.axis_2\">\n    <g id=\"ytick_1\">\n     <g id=\"line2d_4\">\n      <path clip-path=\"url(#pe1669969ce)\" d=\"M 171.9975 161.859242 \nL 490.6575 161.859242 \n\" style=\"fill:none;stroke:#ffffff;stroke-linecap:round;\"/>\n     </g>\n     <g id=\"text_5\">\n      <!-- −2.5 -->\n      <g style=\"fill:#262626;\" transform=\"translate(119.068125 169.732836)scale(0.22 -0.22)\">\n       <defs>\n        <path d=\"M 52.828125 31.203125 \nL 5.5625 31.203125 \nL 5.5625 39.40625 \nL 52.828125 39.40625 \nz\n\" id=\"ArialMT-8722\"/>\n       </defs>\n       <use xlink:href=\"#ArialMT-8722\"/>\n       <use x=\"58.398438\" xlink:href=\"#ArialMT-50\"/>\n       <use x=\"114.013672\" xlink:href=\"#ArialMT-46\"/>\n       <use x=\"141.796875\" xlink:href=\"#ArialMT-53\"/>\n      </g>\n     </g>\n    </g>\n    <g id=\"ytick_2\">\n     <g id=\"line2d_5\">\n      <path clip-path=\"url(#pe1669969ce)\" d=\"M 171.9975 110.106103 \nL 490.6575 110.106103 \n\" style=\"fill:none;stroke:#ffffff;stroke-linecap:round;\"/>\n     </g>\n     <g id=\"text_6\">\n      <!-- 0.0 -->\n      <g style=\"fill:#262626;\" transform=\"translate(131.9175 117.979696)scale(0.22 -0.22)\">\n       <use xlink:href=\"#ArialMT-48\"/>\n       <use x=\"55.615234\" xlink:href=\"#ArialMT-46\"/>\n       <use x=\"83.398438\" xlink:href=\"#ArialMT-48\"/>\n      </g>\n     </g>\n    </g>\n    <g id=\"ytick_3\">\n     <g id=\"line2d_6\">\n      <path clip-path=\"url(#pe1669969ce)\" d=\"M 171.9975 58.352963 \nL 490.6575 58.352963 \n\" style=\"fill:none;stroke:#ffffff;stroke-linecap:round;\"/>\n     </g>\n     <g id=\"text_7\">\n      <!-- 2.5 -->\n      <g style=\"fill:#262626;\" transform=\"translate(131.9175 66.226557)scale(0.22 -0.22)\">\n       <use xlink:href=\"#ArialMT-50\"/>\n       <use x=\"55.615234\" xlink:href=\"#ArialMT-46\"/>\n       <use x=\"83.398438\" xlink:href=\"#ArialMT-53\"/>\n      </g>\n     </g>\n    </g>\n    <g id=\"text_8\">\n     <!-- X2 -->\n     <g style=\"fill:#262626;\" transform=\"translate(110.298125 123.17875)rotate(-90)scale(0.24 -0.24)\">\n      <use xlink:href=\"#ArialMT-88\"/>\n      <use x=\"66.699219\" xlink:href=\"#ArialMT-50\"/>\n     </g>\n    </g>\n   </g>\n   <g id=\"PathCollection_1\">\n    <defs>\n     <path d=\"M 0 3 \nC 0.795609 3 1.55874 2.683901 2.12132 2.12132 \nC 2.683901 1.55874 3 0.795609 3 -0 \nC 3 -0.795609 2.683901 -1.55874 2.12132 -2.12132 \nC 1.55874 -2.683901 0.795609 -3 0 -3 \nC -0.795609 -3 -1.55874 -2.683901 -2.12132 -2.12132 \nC -2.683901 -1.55874 -3 -0.795609 -3 0 \nC -3 0.795609 -2.683901 1.55874 -2.12132 2.12132 \nC -1.55874 2.683901 -0.795609 3 0 3 \nz\n\" id=\"C0_0_4cf5f16252\"/>\n    </defs>\n    <g clip-path=\"url(#pe1669969ce)\">\n     <use style=\"fill:#001c7f;stroke:#ffffff;stroke-width:0.48;\" x=\"329.322404\" xlink:href=\"#C0_0_4cf5f16252\" y=\"87.44248\"/>\n    </g>\n    <g clip-path=\"url(#pe1669969ce)\">\n     <use style=\"fill:#001c7f;stroke:#ffffff;stroke-width:0.48;\" x=\"272.999631\" xlink:href=\"#C0_0_4cf5f16252\" y=\"77.412694\"/>\n    </g>\n    <g clip-path=\"url(#pe1669969ce)\">\n     <use style=\"fill:#001c7f;stroke:#ffffff;stroke-width:0.48;\" x=\"263.646646\" xlink:href=\"#C0_0_4cf5f16252\" y=\"76.733527\"/>\n    </g>\n    <g clip-path=\"url(#pe1669969ce)\">\n     <use style=\"fill:#001c7f;stroke:#ffffff;stroke-width:0.48;\" x=\"305.482501\" xlink:href=\"#C0_0_4cf5f16252\" y=\"74.497004\"/>\n    </g>\n    <g clip-path=\"url(#pe1669969ce)\">\n     <use style=\"fill:#001c7f;stroke:#ffffff;stroke-width:0.48;\" x=\"293.385234\" xlink:href=\"#C0_0_4cf5f16252\" y=\"53.572206\"/>\n    </g>\n    <g clip-path=\"url(#pe1669969ce)\">\n     <use style=\"fill:#001c7f;stroke:#ffffff;stroke-width:0.48;\" x=\"273.584743\" xlink:href=\"#C0_0_4cf5f16252\" y=\"89.799768\"/>\n    </g>\n    <g clip-path=\"url(#pe1669969ce)\">\n     <use style=\"fill:#001c7f;stroke:#ffffff;stroke-width:0.48;\" x=\"322.22815\" xlink:href=\"#C0_0_4cf5f16252\" y=\"85.086439\"/>\n    </g>\n    <g clip-path=\"url(#pe1669969ce)\">\n     <use style=\"fill:#001c7f;stroke:#ffffff;stroke-width:0.48;\" x=\"364.460163\" xlink:href=\"#C0_0_4cf5f16252\" y=\"71.927521\"/>\n    </g>\n    <g clip-path=\"url(#pe1669969ce)\">\n     <use style=\"fill:#001c7f;stroke:#ffffff;stroke-width:0.48;\" x=\"298.212485\" xlink:href=\"#C0_0_4cf5f16252\" y=\"71.089231\"/>\n    </g>\n    <g clip-path=\"url(#pe1669969ce)\">\n     <use style=\"fill:#001c7f;stroke:#ffffff;stroke-width:0.48;\" x=\"325.99935\" xlink:href=\"#C0_0_4cf5f16252\" y=\"83.859936\"/>\n    </g>\n    <g clip-path=\"url(#pe1669969ce)\">\n     <use style=\"fill:#001c7f;stroke:#ffffff;stroke-width:0.48;\" x=\"313.02557\" xlink:href=\"#C0_0_4cf5f16252\" y=\"74.577696\"/>\n    </g>\n    <g clip-path=\"url(#pe1669969ce)\">\n     <use style=\"fill:#001c7f;stroke:#ffffff;stroke-width:0.48;\" x=\"318.593319\" xlink:href=\"#C0_0_4cf5f16252\" y=\"73.559599\"/>\n    </g>\n    <g clip-path=\"url(#pe1669969ce)\">\n     <use style=\"fill:#001c7f;stroke:#ffffff;stroke-width:0.48;\" x=\"285.515448\" xlink:href=\"#C0_0_4cf5f16252\" y=\"85.428359\"/>\n    </g>\n    <g clip-path=\"url(#pe1669969ce)\">\n     <use style=\"fill:#001c7f;stroke:#ffffff;stroke-width:0.48;\" x=\"304.094386\" xlink:href=\"#C0_0_4cf5f16252\" y=\"87.416482\"/>\n    </g>\n    <g clip-path=\"url(#pe1669969ce)\">\n     <use style=\"fill:#001c7f;stroke:#ffffff;stroke-width:0.48;\" x=\"310.447261\" xlink:href=\"#C0_0_4cf5f16252\" y=\"98.629008\"/>\n    </g>\n    <g clip-path=\"url(#pe1669969ce)\">\n     <use style=\"fill:#001c7f;stroke:#ffffff;stroke-width:0.48;\" x=\"326.306061\" xlink:href=\"#C0_0_4cf5f16252\" y=\"78.836144\"/>\n    </g>\n    <g clip-path=\"url(#pe1669969ce)\">\n     <use style=\"fill:#001c7f;stroke:#ffffff;stroke-width:0.48;\" x=\"298.913941\" xlink:href=\"#C0_0_4cf5f16252\" y=\"89.267415\"/>\n    </g>\n    <g clip-path=\"url(#pe1669969ce)\">\n     <use style=\"fill:#001c7f;stroke:#ffffff;stroke-width:0.48;\" x=\"395.902808\" xlink:href=\"#C0_0_4cf5f16252\" y=\"102.974032\"/>\n    </g>\n    <g clip-path=\"url(#pe1669969ce)\">\n     <use style=\"fill:#001c7f;stroke:#ffffff;stroke-width:0.48;\" x=\"312.160901\" xlink:href=\"#C0_0_4cf5f16252\" y=\"51.687291\"/>\n    </g>\n    <g clip-path=\"url(#pe1669969ce)\">\n     <use style=\"fill:#001c7f;stroke:#ffffff;stroke-width:0.48;\" x=\"348.74757\" xlink:href=\"#C0_0_4cf5f16252\" y=\"37.746705\"/>\n    </g>\n    <g clip-path=\"url(#pe1669969ce)\">\n     <use style=\"fill:#001c7f;stroke:#ffffff;stroke-width:0.48;\" x=\"312.179901\" xlink:href=\"#C0_0_4cf5f16252\" y=\"77.034826\"/>\n    </g>\n    <g clip-path=\"url(#pe1669969ce)\">\n     <use style=\"fill:#001c7f;stroke:#ffffff;stroke-width:0.48;\" x=\"327.149426\" xlink:href=\"#C0_0_4cf5f16252\" y=\"83.142422\"/>\n    </g>\n    <g clip-path=\"url(#pe1669969ce)\">\n     <use style=\"fill:#001c7f;stroke:#ffffff;stroke-width:0.48;\" x=\"254.993907\" xlink:href=\"#C0_0_4cf5f16252\" y=\"104.44762\"/>\n    </g>\n    <g clip-path=\"url(#pe1669969ce)\">\n     <use style=\"fill:#001c7f;stroke:#ffffff;stroke-width:0.48;\" x=\"272.675429\" xlink:href=\"#C0_0_4cf5f16252\" y=\"90.633096\"/>\n    </g>\n    <g clip-path=\"url(#pe1669969ce)\">\n     <use style=\"fill:#001c7f;stroke:#ffffff;stroke-width:0.48;\" x=\"284.603359\" xlink:href=\"#C0_0_4cf5f16252\" y=\"86.455882\"/>\n    </g>\n    <g clip-path=\"url(#pe1669969ce)\">\n     <use style=\"fill:#001c7f;stroke:#ffffff;stroke-width:0.48;\" x=\"298.913941\" xlink:href=\"#C0_0_4cf5f16252\" y=\"89.267415\"/>\n    </g>\n    <g clip-path=\"url(#pe1669969ce)\">\n     <use style=\"fill:#001c7f;stroke:#ffffff;stroke-width:0.48;\" x=\"316.020741\" xlink:href=\"#C0_0_4cf5f16252\" y=\"47.171952\"/>\n    </g>\n    <g clip-path=\"url(#pe1669969ce)\">\n     <use style=\"fill:#001c7f;stroke:#ffffff;stroke-width:0.48;\" x=\"288.40338\" xlink:href=\"#C0_0_4cf5f16252\" y=\"97.573203\"/>\n    </g>\n    <g clip-path=\"url(#pe1669969ce)\">\n     <use style=\"fill:#001c7f;stroke:#ffffff;stroke-width:0.48;\" x=\"289.04301\" xlink:href=\"#C0_0_4cf5f16252\" y=\"84.577382\"/>\n    </g>\n    <g clip-path=\"url(#pe1669969ce)\">\n     <use style=\"fill:#001c7f;stroke:#ffffff;stroke-width:0.48;\" x=\"307.166452\" xlink:href=\"#C0_0_4cf5f16252\" y=\"73.279423\"/>\n    </g>\n    <g clip-path=\"url(#pe1669969ce)\">\n     <use style=\"fill:#001c7f;stroke:#ffffff;stroke-width:0.48;\" x=\"258.286987\" xlink:href=\"#C0_0_4cf5f16252\" y=\"98.015056\"/>\n    </g>\n    <g clip-path=\"url(#pe1669969ce)\">\n     <use style=\"fill:#001c7f;stroke:#ffffff;stroke-width:0.48;\" x=\"302.689566\" xlink:href=\"#C0_0_4cf5f16252\" y=\"84.605756\"/>\n    </g>\n    <g clip-path=\"url(#pe1669969ce)\">\n     <use style=\"fill:#001c7f;stroke:#ffffff;stroke-width:0.48;\" x=\"255.837892\" xlink:href=\"#C0_0_4cf5f16252\" y=\"102.417436\"/>\n    </g>\n    <g clip-path=\"url(#pe1669969ce)\">\n     <use style=\"fill:#001c7f;stroke:#ffffff;stroke-width:0.48;\" x=\"282.322237\" xlink:href=\"#C0_0_4cf5f16252\" y=\"95.265662\"/>\n    </g>\n    <g clip-path=\"url(#pe1669969ce)\">\n     <use style=\"fill:#001c7f;stroke:#ffffff;stroke-width:0.48;\" x=\"310.44995\" xlink:href=\"#C0_0_4cf5f16252\" y=\"72.675386\"/>\n    </g>\n    <g clip-path=\"url(#pe1669969ce)\">\n     <use style=\"fill:#001c7f;stroke:#ffffff;stroke-width:0.48;\" x=\"320.266477\" xlink:href=\"#C0_0_4cf5f16252\" y=\"69.301539\"/>\n    </g>\n    <g clip-path=\"url(#pe1669969ce)\">\n     <use style=\"fill:#001c7f;stroke:#ffffff;stroke-width:0.48;\" x=\"290.327073\" xlink:href=\"#C0_0_4cf5f16252\" y=\"86.692209\"/>\n    </g>\n    <g clip-path=\"url(#pe1669969ce)\">\n     <use style=\"fill:#001c7f;stroke:#ffffff;stroke-width:0.48;\" x=\"341.800791\" xlink:href=\"#C0_0_4cf5f16252\" y=\"79.481005\"/>\n    </g>\n    <g clip-path=\"url(#pe1669969ce)\">\n     <use style=\"fill:#001c7f;stroke:#ffffff;stroke-width:0.48;\" x=\"305.482501\" xlink:href=\"#C0_0_4cf5f16252\" y=\"74.497004\"/>\n    </g>\n    <g clip-path=\"url(#pe1669969ce)\">\n     <use style=\"fill:#001c7f;stroke:#ffffff;stroke-width:0.48;\" x=\"293.995293\" xlink:href=\"#C0_0_4cf5f16252\" y=\"91.948438\"/>\n    </g>\n    <g clip-path=\"url(#pe1669969ce)\">\n     <use style=\"fill:#001c7f;stroke:#ffffff;stroke-width:0.48;\" x=\"296.429006\" xlink:href=\"#C0_0_4cf5f16252\" y=\"80.33643\"/>\n    </g>\n    <g clip-path=\"url(#pe1669969ce)\">\n     <use style=\"fill:#001c7f;stroke:#ffffff;stroke-width:0.48;\" x=\"291.298753\" xlink:href=\"#C0_0_4cf5f16252\" y=\"94.662417\"/>\n    </g>\n    <g clip-path=\"url(#pe1669969ce)\">\n     <use style=\"fill:#001c7f;stroke:#ffffff;stroke-width:0.48;\" x=\"263.646646\" xlink:href=\"#C0_0_4cf5f16252\" y=\"76.733527\"/>\n    </g>\n    <g clip-path=\"url(#pe1669969ce)\">\n     <use style=\"fill:#001c7f;stroke:#ffffff;stroke-width:0.48;\" x=\"291.637465\" xlink:href=\"#C0_0_4cf5f16252\" y=\"45.95707\"/>\n    </g>\n    <g clip-path=\"url(#pe1669969ce)\">\n     <use style=\"fill:#001c7f;stroke:#ffffff;stroke-width:0.48;\" x=\"296.479414\" xlink:href=\"#C0_0_4cf5f16252\" y=\"95.323047\"/>\n    </g>\n    <g clip-path=\"url(#pe1669969ce)\">\n     <use style=\"fill:#001c7f;stroke:#ffffff;stroke-width:0.48;\" x=\"279.608244\" xlink:href=\"#C0_0_4cf5f16252\" y=\"72.786313\"/>\n    </g>\n    <g clip-path=\"url(#pe1669969ce)\">\n     <use style=\"fill:#001c7f;stroke:#ffffff;stroke-width:0.48;\" x=\"329.409809\" xlink:href=\"#C0_0_4cf5f16252\" y=\"66.282726\"/>\n    </g>\n    <g clip-path=\"url(#pe1669969ce)\">\n     <use style=\"fill:#001c7f;stroke:#ffffff;stroke-width:0.48;\" x=\"254.951067\" xlink:href=\"#C0_0_4cf5f16252\" y=\"97.533136\"/>\n    </g>\n    <g clip-path=\"url(#pe1669969ce)\">\n     <use style=\"fill:#001c7f;stroke:#ffffff;stroke-width:0.48;\" x=\"275.446936\" xlink:href=\"#C0_0_4cf5f16252\" y=\"67.540787\"/>\n    </g>\n    <g clip-path=\"url(#pe1669969ce)\">\n     <use style=\"fill:#001c7f;stroke:#ffffff;stroke-width:0.48;\" x=\"284.901071\" xlink:href=\"#C0_0_4cf5f16252\" y=\"83.378067\"/>\n    </g>\n    <g clip-path=\"url(#pe1669969ce)\">\n     <use style=\"fill:#001c7f;stroke:#ffffff;stroke-width:0.48;\" x=\"282.322237\" xlink:href=\"#C0_0_4cf5f16252\" y=\"95.265662\"/>\n    </g>\n    <g clip-path=\"url(#pe1669969ce)\">\n     <use style=\"fill:#001c7f;stroke:#ffffff;stroke-width:0.48;\" x=\"348.74757\" xlink:href=\"#C0_0_4cf5f16252\" y=\"37.746705\"/>\n    </g>\n    <g clip-path=\"url(#pe1669969ce)\">\n     <use style=\"fill:#001c7f;stroke:#ffffff;stroke-width:0.48;\" x=\"346.446181\" xlink:href=\"#C0_0_4cf5f16252\" y=\"87.457964\"/>\n    </g>\n    <g clip-path=\"url(#pe1669969ce)\">\n     <use style=\"fill:#001c7f;stroke:#ffffff;stroke-width:0.48;\" x=\"284.901071\" xlink:href=\"#C0_0_4cf5f16252\" y=\"83.378067\"/>\n    </g>\n    <g clip-path=\"url(#pe1669969ce)\">\n     <use style=\"fill:#001c7f;stroke:#ffffff;stroke-width:0.48;\" x=\"248.822136\" xlink:href=\"#C0_0_4cf5f16252\" y=\"106.642805\"/>\n    </g>\n    <g clip-path=\"url(#pe1669969ce)\">\n     <use style=\"fill:#001c7f;stroke:#ffffff;stroke-width:0.48;\" x=\"375.983611\" xlink:href=\"#C0_0_4cf5f16252\" y=\"78.262861\"/>\n    </g>\n    <g clip-path=\"url(#pe1669969ce)\">\n     <use style=\"fill:#001c7f;stroke:#ffffff;stroke-width:0.48;\" x=\"313.577206\" xlink:href=\"#C0_0_4cf5f16252\" y=\"99.19991\"/>\n    </g>\n    <g clip-path=\"url(#pe1669969ce)\">\n     <use style=\"fill:#001c7f;stroke:#ffffff;stroke-width:0.48;\" x=\"335.93205\" xlink:href=\"#C0_0_4cf5f16252\" y=\"65.037899\"/>\n    </g>\n    <g clip-path=\"url(#pe1669969ce)\">\n     <use style=\"fill:#001c7f;stroke:#ffffff;stroke-width:0.48;\" x=\"251.353527\" xlink:href=\"#C0_0_4cf5f16252\" y=\"102.72552\"/>\n    </g>\n    <g clip-path=\"url(#pe1669969ce)\">\n     <use style=\"fill:#001c7f;stroke:#ffffff;stroke-width:0.48;\" x=\"305.501322\" xlink:href=\"#C0_0_4cf5f16252\" y=\"70.282276\"/>\n    </g>\n    <g clip-path=\"url(#pe1669969ce)\">\n     <use style=\"fill:#001c7f;stroke:#ffffff;stroke-width:0.48;\" x=\"312.160901\" xlink:href=\"#C0_0_4cf5f16252\" y=\"51.687291\"/>\n    </g>\n    <g clip-path=\"url(#pe1669969ce)\">\n     <use style=\"fill:#001c7f;stroke:#ffffff;stroke-width:0.48;\" x=\"334.179075\" xlink:href=\"#C0_0_4cf5f16252\" y=\"67.314465\"/>\n    </g>\n    <g clip-path=\"url(#pe1669969ce)\">\n     <use style=\"fill:#001c7f;stroke:#ffffff;stroke-width:0.48;\" x=\"296.68538\" xlink:href=\"#C0_0_4cf5f16252\" y=\"96.11306\"/>\n    </g>\n    <g clip-path=\"url(#pe1669969ce)\">\n     <use style=\"fill:#001c7f;stroke:#ffffff;stroke-width:0.48;\" x=\"283.60389\" xlink:href=\"#C0_0_4cf5f16252\" y=\"104.158024\"/>\n    </g>\n    <g clip-path=\"url(#pe1669969ce)\">\n     <use style=\"fill:#001c7f;stroke:#ffffff;stroke-width:0.48;\" x=\"300.581839\" xlink:href=\"#C0_0_4cf5f16252\" y=\"91.068497\"/>\n    </g>\n    <g clip-path=\"url(#pe1669969ce)\">\n     <use style=\"fill:#b1400d;stroke:#ffffff;stroke-width:0.48;\" x=\"314.555761\" xlink:href=\"#C0_0_4cf5f16252\" y=\"139.66469\"/>\n    </g>\n    <g clip-path=\"url(#pe1669969ce)\">\n     <use style=\"fill:#b1400d;stroke:#ffffff;stroke-width:0.48;\" x=\"476.172955\" xlink:href=\"#C0_0_4cf5f16252\" y=\"179.255795\"/>\n    </g>\n    <g clip-path=\"url(#pe1669969ce)\">\n     <use style=\"fill:#b1400d;stroke:#ffffff;stroke-width:0.48;\" x=\"330.395453\" xlink:href=\"#C0_0_4cf5f16252\" y=\"112.208413\"/>\n    </g>\n    <g clip-path=\"url(#pe1669969ce)\">\n     <use style=\"fill:#b1400d;stroke:#ffffff;stroke-width:0.48;\" x=\"190.990042\" xlink:href=\"#C0_0_4cf5f16252\" y=\"104.138908\"/>\n    </g>\n    <g clip-path=\"url(#pe1669969ce)\">\n     <use style=\"fill:#b1400d;stroke:#ffffff;stroke-width:0.48;\" x=\"250.181879\" xlink:href=\"#C0_0_4cf5f16252\" y=\"81.671085\"/>\n    </g>\n    <g clip-path=\"url(#pe1669969ce)\">\n     <use style=\"fill:#b1400d;stroke:#ffffff;stroke-width:0.48;\" x=\"225.434982\" xlink:href=\"#C0_0_4cf5f16252\" y=\"119.170076\"/>\n    </g>\n    <g clip-path=\"url(#pe1669969ce)\">\n     <use style=\"fill:#b1400d;stroke:#ffffff;stroke-width:0.48;\" x=\"259.272641\" xlink:href=\"#C0_0_4cf5f16252\" y=\"85.946418\"/>\n    </g>\n    <g clip-path=\"url(#pe1669969ce)\">\n     <use style=\"fill:#b1400d;stroke:#ffffff;stroke-width:0.48;\" x=\"186.950598\" xlink:href=\"#C0_0_4cf5f16252\" y=\"116.646249\"/>\n    </g>\n    <g clip-path=\"url(#pe1669969ce)\">\n     <use style=\"fill:#b1400d;stroke:#ffffff;stroke-width:0.48;\" x=\"353.0991\" xlink:href=\"#C0_0_4cf5f16252\" y=\"70.775474\"/>\n    </g>\n    <g clip-path=\"url(#pe1669969ce)\">\n     <use style=\"fill:#b1400d;stroke:#ffffff;stroke-width:0.48;\" x=\"310.755065\" xlink:href=\"#C0_0_4cf5f16252\" y=\"92.855519\"/>\n    </g>\n    <g clip-path=\"url(#pe1669969ce)\">\n     <use style=\"fill:#b1400d;stroke:#ffffff;stroke-width:0.48;\" x=\"196.893047\" xlink:href=\"#C0_0_4cf5f16252\" y=\"109.531864\"/>\n    </g>\n    <g clip-path=\"url(#pe1669969ce)\">\n     <use style=\"fill:#b1400d;stroke:#ffffff;stroke-width:0.48;\" x=\"195.622439\" xlink:href=\"#C0_0_4cf5f16252\" y=\"104.604943\"/>\n    </g>\n    <g clip-path=\"url(#pe1669969ce)\">\n     <use style=\"fill:#b1400d;stroke:#ffffff;stroke-width:0.48;\" x=\"296.458187\" xlink:href=\"#C0_0_4cf5f16252\" y=\"135.932664\"/>\n    </g>\n    <g clip-path=\"url(#pe1669969ce)\">\n     <use style=\"fill:#b1400d;stroke:#ffffff;stroke-width:0.48;\" x=\"406.881066\" xlink:href=\"#C0_0_4cf5f16252\" y=\"162.386632\"/>\n    </g>\n    <g clip-path=\"url(#pe1669969ce)\">\n     <use style=\"fill:#b1400d;stroke:#ffffff;stroke-width:0.48;\" x=\"187.97746\" xlink:href=\"#C0_0_4cf5f16252\" y=\"112.484154\"/>\n    </g>\n    <g clip-path=\"url(#pe1669969ce)\">\n     <use style=\"fill:#b1400d;stroke:#ffffff;stroke-width:0.48;\" x=\"270.220554\" xlink:href=\"#C0_0_4cf5f16252\" y=\"106.743337\"/>\n    </g>\n    <g clip-path=\"url(#pe1669969ce)\">\n     <use style=\"fill:#b1400d;stroke:#ffffff;stroke-width:0.48;\" x=\"187.011666\" xlink:href=\"#C0_0_4cf5f16252\" y=\"116.175348\"/>\n    </g>\n    <g clip-path=\"url(#pe1669969ce)\">\n     <use style=\"fill:#b1400d;stroke:#ffffff;stroke-width:0.48;\" x=\"187.011666\" xlink:href=\"#C0_0_4cf5f16252\" y=\"116.175348\"/>\n    </g>\n    <g clip-path=\"url(#pe1669969ce)\">\n     <use style=\"fill:#b1400d;stroke:#ffffff;stroke-width:0.48;\" x=\"197.262223\" xlink:href=\"#C0_0_4cf5f16252\" y=\"110.293544\"/>\n    </g>\n    <g clip-path=\"url(#pe1669969ce)\">\n     <use style=\"fill:#b1400d;stroke:#ffffff;stroke-width:0.48;\" x=\"218.462349\" xlink:href=\"#C0_0_4cf5f16252\" y=\"112.688855\"/>\n    </g>\n    <g clip-path=\"url(#pe1669969ce)\">\n     <use style=\"fill:#b1400d;stroke:#ffffff;stroke-width:0.48;\" x=\"241.485726\" xlink:href=\"#C0_0_4cf5f16252\" y=\"117.311048\"/>\n    </g>\n    <g clip-path=\"url(#pe1669969ce)\">\n     <use style=\"fill:#b1400d;stroke:#ffffff;stroke-width:0.48;\" x=\"403.649652\" xlink:href=\"#C0_0_4cf5f16252\" y=\"164.813514\"/>\n    </g>\n    <g clip-path=\"url(#pe1669969ce)\">\n     <use style=\"fill:#b1400d;stroke:#ffffff;stroke-width:0.48;\" x=\"263.959438\" xlink:href=\"#C0_0_4cf5f16252\" y=\"124.334912\"/>\n    </g>\n    <g clip-path=\"url(#pe1669969ce)\">\n     <use style=\"fill:#b1400d;stroke:#ffffff;stroke-width:0.48;\" x=\"293.007405\" xlink:href=\"#C0_0_4cf5f16252\" y=\"135.19034\"/>\n    </g>\n    <g clip-path=\"url(#pe1669969ce)\">\n     <use style=\"fill:#b1400d;stroke:#ffffff;stroke-width:0.48;\" x=\"203.213901\" xlink:href=\"#C0_0_4cf5f16252\" y=\"108.477797\"/>\n    </g>\n    <g clip-path=\"url(#pe1669969ce)\">\n     <use style=\"fill:#b1400d;stroke:#ffffff;stroke-width:0.48;\" x=\"328.185228\" xlink:href=\"#C0_0_4cf5f16252\" y=\"139.492908\"/>\n    </g>\n    <g clip-path=\"url(#pe1669969ce)\">\n     <use style=\"fill:#b1400d;stroke:#ffffff;stroke-width:0.48;\" x=\"285.818299\" xlink:href=\"#C0_0_4cf5f16252\" y=\"92.738484\"/>\n    </g>\n    <g clip-path=\"url(#pe1669969ce)\">\n     <use style=\"fill:#b1400d;stroke:#ffffff;stroke-width:0.48;\" x=\"216.535868\" xlink:href=\"#C0_0_4cf5f16252\" y=\"115.479401\"/>\n    </g>\n    <g clip-path=\"url(#pe1669969ce)\">\n     <use style=\"fill:#b1400d;stroke:#ffffff;stroke-width:0.48;\" x=\"194.626375\" xlink:href=\"#C0_0_4cf5f16252\" y=\"112.021402\"/>\n    </g>\n    <g clip-path=\"url(#pe1669969ce)\">\n     <use style=\"fill:#b1400d;stroke:#ffffff;stroke-width:0.48;\" x=\"212.370517\" xlink:href=\"#C0_0_4cf5f16252\" y=\"94.624945\"/>\n    </g>\n    <g clip-path=\"url(#pe1669969ce)\">\n     <use style=\"fill:#b1400d;stroke:#ffffff;stroke-width:0.48;\" x=\"226.578054\" xlink:href=\"#C0_0_4cf5f16252\" y=\"109.127037\"/>\n    </g>\n    <g clip-path=\"url(#pe1669969ce)\">\n     <use style=\"fill:#b1400d;stroke:#ffffff;stroke-width:0.48;\" x=\"194.626375\" xlink:href=\"#C0_0_4cf5f16252\" y=\"112.021402\"/>\n    </g>\n    <g clip-path=\"url(#pe1669969ce)\">\n     <use style=\"fill:#b1400d;stroke:#ffffff;stroke-width:0.48;\" x=\"241.485726\" xlink:href=\"#C0_0_4cf5f16252\" y=\"117.311048\"/>\n    </g>\n    <g clip-path=\"url(#pe1669969ce)\">\n     <use style=\"fill:#b1400d;stroke:#ffffff;stroke-width:0.48;\" x=\"391.767867\" xlink:href=\"#C0_0_4cf5f16252\" y=\"160.638231\"/>\n    </g>\n    <g clip-path=\"url(#pe1669969ce)\">\n     <use style=\"fill:#b1400d;stroke:#ffffff;stroke-width:0.48;\" x=\"221.178561\" xlink:href=\"#C0_0_4cf5f16252\" y=\"117.368888\"/>\n    </g>\n    <g clip-path=\"url(#pe1669969ce)\">\n     <use style=\"fill:#b1400d;stroke:#ffffff;stroke-width:0.48;\" x=\"271.581966\" xlink:href=\"#C0_0_4cf5f16252\" y=\"122.288244\"/>\n    </g>\n    <g clip-path=\"url(#pe1669969ce)\">\n     <use style=\"fill:#b1400d;stroke:#ffffff;stroke-width:0.48;\" x=\"186.482045\" xlink:href=\"#C0_0_4cf5f16252\" y=\"116.270376\"/>\n    </g>\n    <g clip-path=\"url(#pe1669969ce)\">\n     <use style=\"fill:#b1400d;stroke:#ffffff;stroke-width:0.48;\" x=\"187.011666\" xlink:href=\"#C0_0_4cf5f16252\" y=\"116.175348\"/>\n    </g>\n    <g clip-path=\"url(#pe1669969ce)\">\n     <use style=\"fill:#b1400d;stroke:#ffffff;stroke-width:0.48;\" x=\"221.178561\" xlink:href=\"#C0_0_4cf5f16252\" y=\"117.368888\"/>\n    </g>\n    <g clip-path=\"url(#pe1669969ce)\">\n     <use style=\"fill:#b1400d;stroke:#ffffff;stroke-width:0.48;\" x=\"212.370517\" xlink:href=\"#C0_0_4cf5f16252\" y=\"94.624945\"/>\n    </g>\n    <g clip-path=\"url(#pe1669969ce)\">\n     <use style=\"fill:#b1400d;stroke:#ffffff;stroke-width:0.48;\" x=\"226.23932\" xlink:href=\"#C0_0_4cf5f16252\" y=\"101.431961\"/>\n    </g>\n    <g clip-path=\"url(#pe1669969ce)\">\n     <use style=\"fill:#b1400d;stroke:#ffffff;stroke-width:0.48;\" x=\"187.011666\" xlink:href=\"#C0_0_4cf5f16252\" y=\"116.175348\"/>\n    </g>\n    <g clip-path=\"url(#pe1669969ce)\">\n     <use style=\"fill:#b1400d;stroke:#ffffff;stroke-width:0.48;\" x=\"186.507977\" xlink:href=\"#C0_0_4cf5f16252\" y=\"114.919285\"/>\n    </g>\n    <g clip-path=\"url(#pe1669969ce)\">\n     <use style=\"fill:#b1400d;stroke:#ffffff;stroke-width:0.48;\" x=\"192.080644\" xlink:href=\"#C0_0_4cf5f16252\" y=\"114.755624\"/>\n    </g>\n    <g clip-path=\"url(#pe1669969ce)\">\n     <use style=\"fill:#b1400d;stroke:#ffffff;stroke-width:0.48;\" x=\"187.011666\" xlink:href=\"#C0_0_4cf5f16252\" y=\"116.175348\"/>\n    </g>\n    <g clip-path=\"url(#pe1669969ce)\">\n     <use style=\"fill:#b1400d;stroke:#ffffff;stroke-width:0.48;\" x=\"188.710303\" xlink:href=\"#C0_0_4cf5f16252\" y=\"110.031689\"/>\n    </g>\n    <g clip-path=\"url(#pe1669969ce)\">\n     <use style=\"fill:#b1400d;stroke:#ffffff;stroke-width:0.48;\" x=\"293.007405\" xlink:href=\"#C0_0_4cf5f16252\" y=\"135.19034\"/>\n    </g>\n    <g clip-path=\"url(#pe1669969ce)\">\n     <use style=\"fill:#b1400d;stroke:#ffffff;stroke-width:0.48;\" x=\"216.535868\" xlink:href=\"#C0_0_4cf5f16252\" y=\"115.479401\"/>\n    </g>\n    <g clip-path=\"url(#pe1669969ce)\">\n     <use style=\"fill:#b1400d;stroke:#ffffff;stroke-width:0.48;\" x=\"216.535868\" xlink:href=\"#C0_0_4cf5f16252\" y=\"115.479401\"/>\n    </g>\n    <g clip-path=\"url(#pe1669969ce)\">\n     <use style=\"fill:#b1400d;stroke:#ffffff;stroke-width:0.48;\" x=\"225.189757\" xlink:href=\"#C0_0_4cf5f16252\" y=\"111.950139\"/>\n    </g>\n    <g clip-path=\"url(#pe1669969ce)\">\n     <use style=\"fill:#b1400d;stroke:#ffffff;stroke-width:0.48;\" x=\"202.528345\" xlink:href=\"#C0_0_4cf5f16252\" y=\"113.940788\"/>\n    </g>\n    <g clip-path=\"url(#pe1669969ce)\">\n     <use style=\"fill:#b1400d;stroke:#ffffff;stroke-width:0.48;\" x=\"246.3439\" xlink:href=\"#C0_0_4cf5f16252\" y=\"126.834415\"/>\n    </g>\n    <g clip-path=\"url(#pe1669969ce)\">\n     <use style=\"fill:#b1400d;stroke:#ffffff;stroke-width:0.48;\" x=\"271.618497\" xlink:href=\"#C0_0_4cf5f16252\" y=\"122.389597\"/>\n    </g>\n    <g clip-path=\"url(#pe1669969ce)\">\n     <use style=\"fill:#b1400d;stroke:#ffffff;stroke-width:0.48;\" x=\"229.62372\" xlink:href=\"#C0_0_4cf5f16252\" y=\"105.742094\"/>\n    </g>\n    <g clip-path=\"url(#pe1669969ce)\">\n     <use style=\"fill:#b1400d;stroke:#ffffff;stroke-width:0.48;\" x=\"202.259901\" xlink:href=\"#C0_0_4cf5f16252\" y=\"110.418099\"/>\n    </g>\n    <g clip-path=\"url(#pe1669969ce)\">\n     <use style=\"fill:#b1400d;stroke:#ffffff;stroke-width:0.48;\" x=\"216.89983\" xlink:href=\"#C0_0_4cf5f16252\" y=\"115.857062\"/>\n    </g>\n    <g clip-path=\"url(#pe1669969ce)\">\n     <use style=\"fill:#b1400d;stroke:#ffffff;stroke-width:0.48;\" x=\"277.16441\" xlink:href=\"#C0_0_4cf5f16252\" y=\"96.267746\"/>\n    </g>\n    <g clip-path=\"url(#pe1669969ce)\">\n     <use style=\"fill:#b1400d;stroke:#ffffff;stroke-width:0.48;\" x=\"187.011666\" xlink:href=\"#C0_0_4cf5f16252\" y=\"116.175348\"/>\n    </g>\n    <g clip-path=\"url(#pe1669969ce)\">\n     <use style=\"fill:#b1400d;stroke:#ffffff;stroke-width:0.48;\" x=\"197.262223\" xlink:href=\"#C0_0_4cf5f16252\" y=\"110.293544\"/>\n    </g>\n    <g clip-path=\"url(#pe1669969ce)\">\n     <use style=\"fill:#b1400d;stroke:#ffffff;stroke-width:0.48;\" x=\"187.011666\" xlink:href=\"#C0_0_4cf5f16252\" y=\"116.175348\"/>\n    </g>\n    <g clip-path=\"url(#pe1669969ce)\">\n     <use style=\"fill:#b1400d;stroke:#ffffff;stroke-width:0.48;\" x=\"219.113566\" xlink:href=\"#C0_0_4cf5f16252\" y=\"95.417952\"/>\n    </g>\n    <g clip-path=\"url(#pe1669969ce)\">\n     <use style=\"fill:#b1400d;stroke:#ffffff;stroke-width:0.48;\" x=\"187.763585\" xlink:href=\"#C0_0_4cf5f16252\" y=\"110.726698\"/>\n    </g>\n    <g clip-path=\"url(#pe1669969ce)\">\n     <use style=\"fill:#b1400d;stroke:#ffffff;stroke-width:0.48;\" x=\"216.535868\" xlink:href=\"#C0_0_4cf5f16252\" y=\"115.479401\"/>\n    </g>\n    <g clip-path=\"url(#pe1669969ce)\">\n     <use style=\"fill:#b1400d;stroke:#ffffff;stroke-width:0.48;\" x=\"225.189757\" xlink:href=\"#C0_0_4cf5f16252\" y=\"111.950139\"/>\n    </g>\n    <g clip-path=\"url(#pe1669969ce)\">\n     <use style=\"fill:#b1400d;stroke:#ffffff;stroke-width:0.48;\" x=\"216.861501\" xlink:href=\"#C0_0_4cf5f16252\" y=\"113.339962\"/>\n    </g>\n    <g clip-path=\"url(#pe1669969ce)\">\n     <use style=\"fill:#b1400d;stroke:#ffffff;stroke-width:0.48;\" x=\"212.370517\" xlink:href=\"#C0_0_4cf5f16252\" y=\"94.624945\"/>\n    </g>\n    <g clip-path=\"url(#pe1669969ce)\">\n     <use style=\"fill:#b1400d;stroke:#ffffff;stroke-width:0.48;\" x=\"226.578054\" xlink:href=\"#C0_0_4cf5f16252\" y=\"109.127037\"/>\n    </g>\n    <g clip-path=\"url(#pe1669969ce)\">\n     <use style=\"fill:#b1400d;stroke:#ffffff;stroke-width:0.48;\" x=\"216.535868\" xlink:href=\"#C0_0_4cf5f16252\" y=\"115.479401\"/>\n    </g>\n    <g clip-path=\"url(#pe1669969ce)\">\n     <use style=\"fill:#b1400d;stroke:#ffffff;stroke-width:0.48;\" x=\"278.041328\" xlink:href=\"#C0_0_4cf5f16252\" y=\"103.995378\"/>\n    </g>\n    <g clip-path=\"url(#pe1669969ce)\">\n     <use style=\"fill:#b1400d;stroke:#ffffff;stroke-width:0.48;\" x=\"202.984178\" xlink:href=\"#C0_0_4cf5f16252\" y=\"106.909804\"/>\n    </g>\n    <g clip-path=\"url(#pe1669969ce)\">\n     <use style=\"fill:#b1400d;stroke:#ffffff;stroke-width:0.48;\" x=\"187.011666\" xlink:href=\"#C0_0_4cf5f16252\" y=\"116.175348\"/>\n    </g>\n    <g clip-path=\"url(#pe1669969ce)\">\n     <use style=\"fill:#b1400d;stroke:#ffffff;stroke-width:0.48;\" x=\"216.535868\" xlink:href=\"#C0_0_4cf5f16252\" y=\"115.479401\"/>\n    </g>\n    <g clip-path=\"url(#pe1669969ce)\">\n     <use style=\"fill:#b1400d;stroke:#ffffff;stroke-width:0.48;\" x=\"241.485726\" xlink:href=\"#C0_0_4cf5f16252\" y=\"117.311048\"/>\n    </g>\n    <g clip-path=\"url(#pe1669969ce)\">\n     <use style=\"fill:#b1400d;stroke:#ffffff;stroke-width:0.48;\" x=\"202.984178\" xlink:href=\"#C0_0_4cf5f16252\" y=\"106.909804\"/>\n    </g>\n    <g clip-path=\"url(#pe1669969ce)\">\n     <use style=\"fill:#b1400d;stroke:#ffffff;stroke-width:0.48;\" x=\"193.874456\" xlink:href=\"#C0_0_4cf5f16252\" y=\"117.470051\"/>\n    </g>\n    <g clip-path=\"url(#pe1669969ce)\">\n     <use style=\"fill:#b1400d;stroke:#ffffff;stroke-width:0.48;\" x=\"187.011666\" xlink:href=\"#C0_0_4cf5f16252\" y=\"116.175348\"/>\n    </g>\n    <g clip-path=\"url(#pe1669969ce)\">\n     <use style=\"fill:#b1400d;stroke:#ffffff;stroke-width:0.48;\" x=\"188.206614\" xlink:href=\"#C0_0_4cf5f16252\" y=\"108.775627\"/>\n    </g>\n    <g clip-path=\"url(#pe1669969ce)\">\n     <use style=\"fill:#b1400d;stroke:#ffffff;stroke-width:0.48;\" x=\"232.878116\" xlink:href=\"#C0_0_4cf5f16252\" y=\"110.454683\"/>\n    </g>\n    <g clip-path=\"url(#pe1669969ce)\">\n     <use style=\"fill:#b1400d;stroke:#ffffff;stroke-width:0.48;\" x=\"237.360536\" xlink:href=\"#C0_0_4cf5f16252\" y=\"127.533599\"/>\n    </g>\n    <g clip-path=\"url(#pe1669969ce)\">\n     <use style=\"fill:#b1400d;stroke:#ffffff;stroke-width:0.48;\" x=\"279.924006\" xlink:href=\"#C0_0_4cf5f16252\" y=\"92.695897\"/>\n    </g>\n    <g clip-path=\"url(#pe1669969ce)\">\n     <use style=\"fill:#b1400d;stroke:#ffffff;stroke-width:0.48;\" x=\"187.011666\" xlink:href=\"#C0_0_4cf5f16252\" y=\"116.175348\"/>\n    </g>\n    <g clip-path=\"url(#pe1669969ce)\">\n     <use style=\"fill:#b1400d;stroke:#ffffff;stroke-width:0.48;\" x=\"187.011666\" xlink:href=\"#C0_0_4cf5f16252\" y=\"116.175348\"/>\n    </g>\n    <g clip-path=\"url(#pe1669969ce)\">\n     <use style=\"fill:#b1400d;stroke:#ffffff;stroke-width:0.48;\" x=\"228.235423\" xlink:href=\"#C0_0_4cf5f16252\" y=\"108.565196\"/>\n    </g>\n    <g clip-path=\"url(#pe1669969ce)\">\n     <use style=\"fill:#b1400d;stroke:#ffffff;stroke-width:0.48;\" x=\"259.963829\" xlink:href=\"#C0_0_4cf5f16252\" y=\"113.73851\"/>\n    </g>\n    <g clip-path=\"url(#pe1669969ce)\">\n     <use style=\"fill:#b1400d;stroke:#ffffff;stroke-width:0.48;\" x=\"216.535868\" xlink:href=\"#C0_0_4cf5f16252\" y=\"115.479401\"/>\n    </g>\n    <g clip-path=\"url(#pe1669969ce)\">\n     <use style=\"fill:#b1400d;stroke:#ffffff;stroke-width:0.48;\" x=\"406.881066\" xlink:href=\"#C0_0_4cf5f16252\" y=\"162.386632\"/>\n    </g>\n    <g clip-path=\"url(#pe1669969ce)\">\n     <use style=\"fill:#b1400d;stroke:#ffffff;stroke-width:0.48;\" x=\"197.262223\" xlink:href=\"#C0_0_4cf5f16252\" y=\"110.293544\"/>\n    </g>\n    <g clip-path=\"url(#pe1669969ce)\">\n     <use style=\"fill:#b1400d;stroke:#ffffff;stroke-width:0.48;\" x=\"259.963829\" xlink:href=\"#C0_0_4cf5f16252\" y=\"113.73851\"/>\n    </g>\n    <g clip-path=\"url(#pe1669969ce)\">\n     <use style=\"fill:#b1400d;stroke:#ffffff;stroke-width:0.48;\" x=\"225.189757\" xlink:href=\"#C0_0_4cf5f16252\" y=\"111.950139\"/>\n    </g>\n    <g clip-path=\"url(#pe1669969ce)\">\n     <use style=\"fill:#b1400d;stroke:#ffffff;stroke-width:0.48;\" x=\"241.485726\" xlink:href=\"#C0_0_4cf5f16252\" y=\"117.311048\"/>\n    </g>\n    <g clip-path=\"url(#pe1669969ce)\">\n     <use style=\"fill:#b1400d;stroke:#ffffff;stroke-width:0.48;\" x=\"193.874456\" xlink:href=\"#C0_0_4cf5f16252\" y=\"117.470051\"/>\n    </g>\n    <g clip-path=\"url(#pe1669969ce)\">\n     <use style=\"fill:#b1400d;stroke:#ffffff;stroke-width:0.48;\" x=\"279.551544\" xlink:href=\"#C0_0_4cf5f16252\" y=\"125.014875\"/>\n    </g>\n    <g clip-path=\"url(#pe1669969ce)\">\n     <use style=\"fill:#b1400d;stroke:#ffffff;stroke-width:0.48;\" x=\"186.482045\" xlink:href=\"#C0_0_4cf5f16252\" y=\"116.270376\"/>\n    </g>\n    <g clip-path=\"url(#pe1669969ce)\">\n     <use style=\"fill:#b1400d;stroke:#ffffff;stroke-width:0.48;\" x=\"188.710303\" xlink:href=\"#C0_0_4cf5f16252\" y=\"110.031689\"/>\n    </g>\n    <g clip-path=\"url(#pe1669969ce)\">\n     <use style=\"fill:#b1400d;stroke:#ffffff;stroke-width:0.48;\" x=\"271.581966\" xlink:href=\"#C0_0_4cf5f16252\" y=\"122.288244\"/>\n    </g>\n    <g clip-path=\"url(#pe1669969ce)\">\n     <use style=\"fill:#b1400d;stroke:#ffffff;stroke-width:0.48;\" x=\"216.535868\" xlink:href=\"#C0_0_4cf5f16252\" y=\"115.479401\"/>\n    </g>\n    <g clip-path=\"url(#pe1669969ce)\">\n     <use style=\"fill:#b1400d;stroke:#ffffff;stroke-width:0.48;\" x=\"225.189757\" xlink:href=\"#C0_0_4cf5f16252\" y=\"111.950139\"/>\n    </g>\n    <g clip-path=\"url(#pe1669969ce)\">\n     <use style=\"fill:#b1400d;stroke:#ffffff;stroke-width:0.48;\" x=\"187.011666\" xlink:href=\"#C0_0_4cf5f16252\" y=\"116.175348\"/>\n    </g>\n    <g clip-path=\"url(#pe1669969ce)\">\n     <use style=\"fill:#b1400d;stroke:#ffffff;stroke-width:0.48;\" x=\"187.011666\" xlink:href=\"#C0_0_4cf5f16252\" y=\"116.175348\"/>\n    </g>\n    <g clip-path=\"url(#pe1669969ce)\">\n     <use style=\"fill:#b1400d;stroke:#ffffff;stroke-width:0.48;\" x=\"228.561056\" xlink:href=\"#C0_0_4cf5f16252\" y=\"106.425758\"/>\n    </g>\n    <g clip-path=\"url(#pe1669969ce)\">\n     <use style=\"fill:#b1400d;stroke:#ffffff;stroke-width:0.48;\" x=\"188.378611\" xlink:href=\"#C0_0_4cf5f16252\" y=\"112.254813\"/>\n    </g>\n    <g clip-path=\"url(#pe1669969ce)\">\n     <use style=\"fill:#b1400d;stroke:#ffffff;stroke-width:0.48;\" x=\"403.649652\" xlink:href=\"#C0_0_4cf5f16252\" y=\"164.813514\"/>\n    </g>\n    <g clip-path=\"url(#pe1669969ce)\">\n     <use style=\"fill:#b1400d;stroke:#ffffff;stroke-width:0.48;\" x=\"188.710303\" xlink:href=\"#C0_0_4cf5f16252\" y=\"110.031689\"/>\n    </g>\n    <g clip-path=\"url(#pe1669969ce)\">\n     <use style=\"fill:#b1400d;stroke:#ffffff;stroke-width:0.48;\" x=\"195.665555\" xlink:href=\"#C0_0_4cf5f16252\" y=\"112.646085\"/>\n    </g>\n    <g clip-path=\"url(#pe1669969ce)\">\n     <use style=\"fill:#b1400d;stroke:#ffffff;stroke-width:0.48;\" x=\"186.482045\" xlink:href=\"#C0_0_4cf5f16252\" y=\"116.270376\"/>\n    </g>\n    <g clip-path=\"url(#pe1669969ce)\">\n     <use style=\"fill:#b1400d;stroke:#ffffff;stroke-width:0.48;\" x=\"187.011666\" xlink:href=\"#C0_0_4cf5f16252\" y=\"116.175348\"/>\n    </g>\n    <g clip-path=\"url(#pe1669969ce)\">\n     <use style=\"fill:#b1400d;stroke:#ffffff;stroke-width:0.48;\" x=\"195.665555\" xlink:href=\"#C0_0_4cf5f16252\" y=\"112.646085\"/>\n    </g>\n    <g clip-path=\"url(#pe1669969ce)\">\n     <use style=\"fill:#b1400d;stroke:#ffffff;stroke-width:0.48;\" x=\"216.535868\" xlink:href=\"#C0_0_4cf5f16252\" y=\"115.479401\"/>\n    </g>\n    <g clip-path=\"url(#pe1669969ce)\">\n     <use style=\"fill:#b1400d;stroke:#ffffff;stroke-width:0.48;\" x=\"187.011666\" xlink:href=\"#C0_0_4cf5f16252\" y=\"116.175348\"/>\n    </g>\n    <g clip-path=\"url(#pe1669969ce)\">\n     <use style=\"fill:#b1400d;stroke:#ffffff;stroke-width:0.48;\" x=\"187.011666\" xlink:href=\"#C0_0_4cf5f16252\" y=\"116.175348\"/>\n    </g>\n    <g clip-path=\"url(#pe1669969ce)\">\n     <use style=\"fill:#b1400d;stroke:#ffffff;stroke-width:0.48;\" x=\"228.561056\" xlink:href=\"#C0_0_4cf5f16252\" y=\"106.425758\"/>\n    </g>\n    <g clip-path=\"url(#pe1669969ce)\">\n     <use style=\"fill:#b1400d;stroke:#ffffff;stroke-width:0.48;\" x=\"403.649652\" xlink:href=\"#C0_0_4cf5f16252\" y=\"164.813514\"/>\n    </g>\n    <g clip-path=\"url(#pe1669969ce)\">\n     <use style=\"fill:#b1400d;stroke:#ffffff;stroke-width:0.48;\" x=\"280.704824\" xlink:href=\"#C0_0_4cf5f16252\" y=\"129.528088\"/>\n    </g>\n    <g clip-path=\"url(#pe1669969ce)\">\n     <use style=\"fill:#b1400d;stroke:#ffffff;stroke-width:0.48;\" x=\"216.572398\" xlink:href=\"#C0_0_4cf5f16252\" y=\"115.580753\"/>\n    </g>\n    <g clip-path=\"url(#pe1669969ce)\">\n     <use style=\"fill:#b1400d;stroke:#ffffff;stroke-width:0.48;\" x=\"268.803327\" xlink:href=\"#C0_0_4cf5f16252\" y=\"134.407578\"/>\n    </g>\n    <g clip-path=\"url(#pe1669969ce)\">\n     <use style=\"fill:#b1400d;stroke:#ffffff;stroke-width:0.48;\" x=\"188.710303\" xlink:href=\"#C0_0_4cf5f16252\" y=\"110.031689\"/>\n    </g>\n    <g clip-path=\"url(#pe1669969ce)\">\n     <use style=\"fill:#b1400d;stroke:#ffffff;stroke-width:0.48;\" x=\"268.883751\" xlink:href=\"#C0_0_4cf5f16252\" y=\"106.268578\"/>\n    </g>\n    <g clip-path=\"url(#pe1669969ce)\">\n     <use style=\"fill:#b1400d;stroke:#ffffff;stroke-width:0.48;\" x=\"241.485726\" xlink:href=\"#C0_0_4cf5f16252\" y=\"117.311048\"/>\n    </g>\n    <g clip-path=\"url(#pe1669969ce)\">\n     <use style=\"fill:#b1400d;stroke:#ffffff;stroke-width:0.48;\" x=\"271.618497\" xlink:href=\"#C0_0_4cf5f16252\" y=\"122.389597\"/>\n    </g>\n    <g clip-path=\"url(#pe1669969ce)\">\n     <use style=\"fill:#b1400d;stroke:#ffffff;stroke-width:0.48;\" x=\"281.836734\" xlink:href=\"#C0_0_4cf5f16252\" y=\"128.251451\"/>\n    </g>\n    <g clip-path=\"url(#pe1669969ce)\">\n     <use style=\"fill:#b1400d;stroke:#ffffff;stroke-width:0.48;\" x=\"260.593985\" xlink:href=\"#C0_0_4cf5f16252\" y=\"131.216091\"/>\n    </g>\n    <g clip-path=\"url(#pe1669969ce)\">\n     <use style=\"fill:#b1400d;stroke:#ffffff;stroke-width:0.48;\" x=\"216.535868\" xlink:href=\"#C0_0_4cf5f16252\" y=\"115.479401\"/>\n    </g>\n    <g clip-path=\"url(#pe1669969ce)\">\n     <use style=\"fill:#b1400d;stroke:#ffffff;stroke-width:0.48;\" x=\"229.62372\" xlink:href=\"#C0_0_4cf5f16252\" y=\"105.742094\"/>\n    </g>\n    <g clip-path=\"url(#pe1669969ce)\">\n     <use style=\"fill:#b1400d;stroke:#ffffff;stroke-width:0.48;\" x=\"186.507977\" xlink:href=\"#C0_0_4cf5f16252\" y=\"114.919285\"/>\n    </g>\n    <g clip-path=\"url(#pe1669969ce)\">\n     <use style=\"fill:#b1400d;stroke:#ffffff;stroke-width:0.48;\" x=\"241.485726\" xlink:href=\"#C0_0_4cf5f16252\" y=\"117.311048\"/>\n    </g>\n    <g clip-path=\"url(#pe1669969ce)\">\n     <use style=\"fill:#b1400d;stroke:#ffffff;stroke-width:0.48;\" x=\"202.528345\" xlink:href=\"#C0_0_4cf5f16252\" y=\"113.940788\"/>\n    </g>\n    <g clip-path=\"url(#pe1669969ce)\">\n     <use style=\"fill:#b1400d;stroke:#ffffff;stroke-width:0.48;\" x=\"221.178561\" xlink:href=\"#C0_0_4cf5f16252\" y=\"117.368888\"/>\n    </g>\n    <g clip-path=\"url(#pe1669969ce)\">\n     <use style=\"fill:#b1400d;stroke:#ffffff;stroke-width:0.48;\" x=\"265.26153\" xlink:href=\"#C0_0_4cf5f16252\" y=\"131.950579\"/>\n    </g>\n    <g clip-path=\"url(#pe1669969ce)\">\n     <use style=\"fill:#b1400d;stroke:#ffffff;stroke-width:0.48;\" x=\"259.963829\" xlink:href=\"#C0_0_4cf5f16252\" y=\"113.73851\"/>\n    </g>\n    <g clip-path=\"url(#pe1669969ce)\">\n     <use style=\"fill:#b1400d;stroke:#ffffff;stroke-width:0.48;\" x=\"403.649652\" xlink:href=\"#C0_0_4cf5f16252\" y=\"164.813514\"/>\n    </g>\n    <g clip-path=\"url(#pe1669969ce)\">\n     <use style=\"fill:#b1400d;stroke:#ffffff;stroke-width:0.48;\" x=\"193.874456\" xlink:href=\"#C0_0_4cf5f16252\" y=\"117.470051\"/>\n    </g>\n    <g clip-path=\"url(#pe1669969ce)\">\n     <use style=\"fill:#b1400d;stroke:#ffffff;stroke-width:0.48;\" x=\"212.370517\" xlink:href=\"#C0_0_4cf5f16252\" y=\"94.624945\"/>\n    </g>\n    <g clip-path=\"url(#pe1669969ce)\">\n     <use style=\"fill:#b1400d;stroke:#ffffff;stroke-width:0.48;\" x=\"216.535868\" xlink:href=\"#C0_0_4cf5f16252\" y=\"115.479401\"/>\n    </g>\n    <g clip-path=\"url(#pe1669969ce)\">\n     <use style=\"fill:#b1400d;stroke:#ffffff;stroke-width:0.48;\" x=\"279.551544\" xlink:href=\"#C0_0_4cf5f16252\" y=\"125.014875\"/>\n    </g>\n    <g clip-path=\"url(#pe1669969ce)\">\n     <use style=\"fill:#b1400d;stroke:#ffffff;stroke-width:0.48;\" x=\"216.535868\" xlink:href=\"#C0_0_4cf5f16252\" y=\"115.479401\"/>\n    </g>\n    <g clip-path=\"url(#pe1669969ce)\">\n     <use style=\"fill:#b1400d;stroke:#ffffff;stroke-width:0.48;\" x=\"241.522257\" xlink:href=\"#C0_0_4cf5f16252\" y=\"117.412401\"/>\n    </g>\n    <g clip-path=\"url(#pe1669969ce)\">\n     <use style=\"fill:#b1400d;stroke:#ffffff;stroke-width:0.48;\" x=\"202.528345\" xlink:href=\"#C0_0_4cf5f16252\" y=\"113.940788\"/>\n    </g>\n    <g clip-path=\"url(#pe1669969ce)\">\n     <use style=\"fill:#b1400d;stroke:#ffffff;stroke-width:0.48;\" x=\"187.011666\" xlink:href=\"#C0_0_4cf5f16252\" y=\"116.175348\"/>\n    </g>\n    <g clip-path=\"url(#pe1669969ce)\">\n     <use style=\"fill:#b1400d;stroke:#ffffff;stroke-width:0.48;\" x=\"186.507977\" xlink:href=\"#C0_0_4cf5f16252\" y=\"114.919285\"/>\n    </g>\n    <g clip-path=\"url(#pe1669969ce)\">\n     <use style=\"fill:#b1400d;stroke:#ffffff;stroke-width:0.48;\" x=\"293.007405\" xlink:href=\"#C0_0_4cf5f16252\" y=\"135.19034\"/>\n    </g>\n    <g clip-path=\"url(#pe1669969ce)\">\n     <use style=\"fill:#b1400d;stroke:#ffffff;stroke-width:0.48;\" x=\"282.631305\" xlink:href=\"#C0_0_4cf5f16252\" y=\"126.737542\"/>\n    </g>\n    <g clip-path=\"url(#pe1669969ce)\">\n     <use style=\"fill:#b1400d;stroke:#ffffff;stroke-width:0.48;\" x=\"229.62372\" xlink:href=\"#C0_0_4cf5f16252\" y=\"105.742094\"/>\n    </g>\n    <g clip-path=\"url(#pe1669969ce)\">\n     <use style=\"fill:#b1400d;stroke:#ffffff;stroke-width:0.48;\" x=\"195.665555\" xlink:href=\"#C0_0_4cf5f16252\" y=\"112.646085\"/>\n    </g>\n    <g clip-path=\"url(#pe1669969ce)\">\n     <use style=\"fill:#b1400d;stroke:#ffffff;stroke-width:0.48;\" x=\"187.011666\" xlink:href=\"#C0_0_4cf5f16252\" y=\"116.175348\"/>\n    </g>\n    <g clip-path=\"url(#pe1669969ce)\">\n     <use style=\"fill:#b1400d;stroke:#ffffff;stroke-width:0.48;\" x=\"261.560497\" xlink:href=\"#C0_0_4cf5f16252\" y=\"111.385968\"/>\n    </g>\n    <g clip-path=\"url(#pe1669969ce)\">\n     <use style=\"fill:#b1400d;stroke:#ffffff;stroke-width:0.48;\" x=\"268.803327\" xlink:href=\"#C0_0_4cf5f16252\" y=\"134.407578\"/>\n    </g>\n    <g clip-path=\"url(#pe1669969ce)\">\n     <use style=\"fill:#b1400d;stroke:#ffffff;stroke-width:0.48;\" x=\"195.665555\" xlink:href=\"#C0_0_4cf5f16252\" y=\"112.646085\"/>\n    </g>\n    <g clip-path=\"url(#pe1669969ce)\">\n     <use style=\"fill:#b1400d;stroke:#ffffff;stroke-width:0.48;\" x=\"241.485726\" xlink:href=\"#C0_0_4cf5f16252\" y=\"117.311048\"/>\n    </g>\n    <g clip-path=\"url(#pe1669969ce)\">\n     <use style=\"fill:#b1400d;stroke:#ffffff;stroke-width:0.48;\" x=\"187.011666\" xlink:href=\"#C0_0_4cf5f16252\" y=\"116.175348\"/>\n    </g>\n    <g clip-path=\"url(#pe1669969ce)\">\n     <use style=\"fill:#b1400d;stroke:#ffffff;stroke-width:0.48;\" x=\"187.011666\" xlink:href=\"#C0_0_4cf5f16252\" y=\"116.175348\"/>\n    </g>\n    <g clip-path=\"url(#pe1669969ce)\">\n     <use style=\"fill:#b1400d;stroke:#ffffff;stroke-width:0.48;\" x=\"187.011666\" xlink:href=\"#C0_0_4cf5f16252\" y=\"116.175348\"/>\n    </g>\n    <g clip-path=\"url(#pe1669969ce)\">\n     <use style=\"fill:#b1400d;stroke:#ffffff;stroke-width:0.48;\" x=\"187.011666\" xlink:href=\"#C0_0_4cf5f16252\" y=\"116.175348\"/>\n    </g>\n    <g clip-path=\"url(#pe1669969ce)\">\n     <use style=\"fill:#b1400d;stroke:#ffffff;stroke-width:0.48;\" x=\"186.507977\" xlink:href=\"#C0_0_4cf5f16252\" y=\"114.919285\"/>\n    </g>\n    <g clip-path=\"url(#pe1669969ce)\">\n     <use style=\"fill:#b1400d;stroke:#ffffff;stroke-width:0.48;\" x=\"280.704824\" xlink:href=\"#C0_0_4cf5f16252\" y=\"129.528088\"/>\n    </g>\n    <g clip-path=\"url(#pe1669969ce)\">\n     <use style=\"fill:#b1400d;stroke:#ffffff;stroke-width:0.48;\" x=\"216.535868\" xlink:href=\"#C0_0_4cf5f16252\" y=\"115.479401\"/>\n    </g>\n    <g clip-path=\"url(#pe1669969ce)\">\n     <use style=\"fill:#b1400d;stroke:#ffffff;stroke-width:0.48;\" x=\"276.961085\" xlink:href=\"#C0_0_4cf5f16252\" y=\"125.036375\"/>\n    </g>\n    <g clip-path=\"url(#pe1669969ce)\">\n     <use style=\"fill:#b1400d;stroke:#ffffff;stroke-width:0.48;\" x=\"187.763585\" xlink:href=\"#C0_0_4cf5f16252\" y=\"110.726698\"/>\n    </g>\n    <g clip-path=\"url(#pe1669969ce)\">\n     <use style=\"fill:#b1400d;stroke:#ffffff;stroke-width:0.48;\" x=\"187.011666\" xlink:href=\"#C0_0_4cf5f16252\" y=\"116.175348\"/>\n    </g>\n    <g clip-path=\"url(#pe1669969ce)\">\n     <use style=\"fill:#b1400d;stroke:#ffffff;stroke-width:0.48;\" x=\"241.485726\" xlink:href=\"#C0_0_4cf5f16252\" y=\"117.311048\"/>\n    </g>\n    <g clip-path=\"url(#pe1669969ce)\">\n     <use style=\"fill:#b1400d;stroke:#ffffff;stroke-width:0.48;\" x=\"187.011666\" xlink:href=\"#C0_0_4cf5f16252\" y=\"116.175348\"/>\n    </g>\n    <g clip-path=\"url(#pe1669969ce)\">\n     <use style=\"fill:#b1400d;stroke:#ffffff;stroke-width:0.48;\" x=\"265.26153\" xlink:href=\"#C0_0_4cf5f16252\" y=\"131.950579\"/>\n    </g>\n    <g clip-path=\"url(#pe1669969ce)\">\n     <use style=\"fill:#b1400d;stroke:#ffffff;stroke-width:0.48;\" x=\"290.408275\" xlink:href=\"#C0_0_4cf5f16252\" y=\"115.480648\"/>\n    </g>\n    <g clip-path=\"url(#pe1669969ce)\">\n     <use style=\"fill:#b1400d;stroke:#ffffff;stroke-width:0.48;\" x=\"187.011666\" xlink:href=\"#C0_0_4cf5f16252\" y=\"116.175348\"/>\n    </g>\n    <g clip-path=\"url(#pe1669969ce)\">\n     <use style=\"fill:#b1400d;stroke:#ffffff;stroke-width:0.48;\" x=\"232.878116\" xlink:href=\"#C0_0_4cf5f16252\" y=\"110.454683\"/>\n    </g>\n    <g clip-path=\"url(#pe1669969ce)\">\n     <use style=\"fill:#b1400d;stroke:#ffffff;stroke-width:0.48;\" x=\"192.080644\" xlink:href=\"#C0_0_4cf5f16252\" y=\"114.755624\"/>\n    </g>\n    <g clip-path=\"url(#pe1669969ce)\">\n     <use style=\"fill:#b1400d;stroke:#ffffff;stroke-width:0.48;\" x=\"216.535868\" xlink:href=\"#C0_0_4cf5f16252\" y=\"115.479401\"/>\n    </g>\n    <g clip-path=\"url(#pe1669969ce)\">\n     <use style=\"fill:#b1400d;stroke:#ffffff;stroke-width:0.48;\" x=\"221.178561\" xlink:href=\"#C0_0_4cf5f16252\" y=\"117.368888\"/>\n    </g>\n    <g clip-path=\"url(#pe1669969ce)\">\n     <use style=\"fill:#b1400d;stroke:#ffffff;stroke-width:0.48;\" x=\"188.710303\" xlink:href=\"#C0_0_4cf5f16252\" y=\"110.031689\"/>\n    </g>\n    <g clip-path=\"url(#pe1669969ce)\">\n     <use style=\"fill:#b1400d;stroke:#ffffff;stroke-width:0.48;\" x=\"216.535868\" xlink:href=\"#C0_0_4cf5f16252\" y=\"115.479401\"/>\n    </g>\n    <g clip-path=\"url(#pe1669969ce)\">\n     <use style=\"fill:#b1400d;stroke:#ffffff;stroke-width:0.48;\" x=\"225.189757\" xlink:href=\"#C0_0_4cf5f16252\" y=\"111.950139\"/>\n    </g>\n    <g clip-path=\"url(#pe1669969ce)\">\n     <use style=\"fill:#b1400d;stroke:#ffffff;stroke-width:0.48;\" x=\"187.011666\" xlink:href=\"#C0_0_4cf5f16252\" y=\"116.175348\"/>\n    </g>\n    <g clip-path=\"url(#pe1669969ce)\">\n     <use style=\"fill:#b1400d;stroke:#ffffff;stroke-width:0.48;\" x=\"194.300741\" xlink:href=\"#C0_0_4cf5f16252\" y=\"114.16084\"/>\n    </g>\n    <g clip-path=\"url(#pe1669969ce)\">\n     <use style=\"fill:#b1400d;stroke:#ffffff;stroke-width:0.48;\" x=\"188.608334\" xlink:href=\"#C0_0_4cf5f16252\" y=\"113.822806\"/>\n    </g>\n    <g clip-path=\"url(#pe1669969ce)\">\n     <use style=\"fill:#b1400d;stroke:#ffffff;stroke-width:0.48;\" x=\"241.485726\" xlink:href=\"#C0_0_4cf5f16252\" y=\"117.311048\"/>\n    </g>\n    <g clip-path=\"url(#pe1669969ce)\">\n     <use style=\"fill:#b1400d;stroke:#ffffff;stroke-width:0.48;\" x=\"237.360536\" xlink:href=\"#C0_0_4cf5f16252\" y=\"127.533599\"/>\n    </g>\n    <g clip-path=\"url(#pe1669969ce)\">\n     <use style=\"fill:#b1400d;stroke:#ffffff;stroke-width:0.48;\" x=\"271.581966\" xlink:href=\"#C0_0_4cf5f16252\" y=\"122.288244\"/>\n    </g>\n    <g clip-path=\"url(#pe1669969ce)\">\n     <use style=\"fill:#b1400d;stroke:#ffffff;stroke-width:0.48;\" x=\"318.868635\" xlink:href=\"#C0_0_4cf5f16252\" y=\"138.072658\"/>\n    </g>\n    <g clip-path=\"url(#pe1669969ce)\">\n     <use style=\"fill:#b1400d;stroke:#ffffff;stroke-width:0.48;\" x=\"237.360536\" xlink:href=\"#C0_0_4cf5f16252\" y=\"127.533599\"/>\n    </g>\n    <g clip-path=\"url(#pe1669969ce)\">\n     <use style=\"fill:#b1400d;stroke:#ffffff;stroke-width:0.48;\" x=\"406.881066\" xlink:href=\"#C0_0_4cf5f16252\" y=\"162.386632\"/>\n    </g>\n    <g clip-path=\"url(#pe1669969ce)\">\n     <use style=\"fill:#b1400d;stroke:#ffffff;stroke-width:0.48;\" x=\"263.595476\" xlink:href=\"#C0_0_4cf5f16252\" y=\"123.957251\"/>\n    </g>\n    <g clip-path=\"url(#pe1669969ce)\">\n     <use style=\"fill:#b1400d;stroke:#ffffff;stroke-width:0.48;\" x=\"413.877617\" xlink:href=\"#C0_0_4cf5f16252\" y=\"167.284434\"/>\n    </g>\n    <g clip-path=\"url(#pe1669969ce)\">\n     <use style=\"fill:#b1400d;stroke:#ffffff;stroke-width:0.48;\" x=\"216.535868\" xlink:href=\"#C0_0_4cf5f16252\" y=\"115.479401\"/>\n    </g>\n    <g clip-path=\"url(#pe1669969ce)\">\n     <use style=\"fill:#b1400d;stroke:#ffffff;stroke-width:0.48;\" x=\"328.185228\" xlink:href=\"#C0_0_4cf5f16252\" y=\"139.492908\"/>\n    </g>\n    <g clip-path=\"url(#pe1669969ce)\">\n     <use style=\"fill:#b1400d;stroke:#ffffff;stroke-width:0.48;\" x=\"295.150676\" xlink:href=\"#C0_0_4cf5f16252\" y=\"109.566216\"/>\n    </g>\n    <g clip-path=\"url(#pe1669969ce)\">\n     <use style=\"fill:#b1400d;stroke:#ffffff;stroke-width:0.48;\" x=\"406.881066\" xlink:href=\"#C0_0_4cf5f16252\" y=\"162.386632\"/>\n    </g>\n    <g clip-path=\"url(#pe1669969ce)\">\n     <use style=\"fill:#b1400d;stroke:#ffffff;stroke-width:0.48;\" x=\"340.067013\" xlink:href=\"#C0_0_4cf5f16252\" y=\"143.66819\"/>\n    </g>\n    <g clip-path=\"url(#pe1669969ce)\">\n     <use style=\"fill:#b1400d;stroke:#ffffff;stroke-width:0.48;\" x=\"279.551544\" xlink:href=\"#C0_0_4cf5f16252\" y=\"125.014875\"/>\n    </g>\n    <g clip-path=\"url(#pe1669969ce)\">\n     <use style=\"fill:#b1400d;stroke:#ffffff;stroke-width:0.48;\" x=\"241.485726\" xlink:href=\"#C0_0_4cf5f16252\" y=\"117.311048\"/>\n    </g>\n    <g clip-path=\"url(#pe1669969ce)\">\n     <use style=\"fill:#b1400d;stroke:#ffffff;stroke-width:0.48;\" x=\"279.551544\" xlink:href=\"#C0_0_4cf5f16252\" y=\"125.014875\"/>\n    </g>\n    <g clip-path=\"url(#pe1669969ce)\">\n     <use style=\"fill:#b1400d;stroke:#ffffff;stroke-width:0.48;\" x=\"246.632108\" xlink:href=\"#C0_0_4cf5f16252\" y=\"120.456597\"/>\n    </g>\n    <g clip-path=\"url(#pe1669969ce)\">\n     <use style=\"fill:#b1400d;stroke:#ffffff;stroke-width:0.48;\" x=\"216.535868\" xlink:href=\"#C0_0_4cf5f16252\" y=\"115.479401\"/>\n    </g>\n    <g clip-path=\"url(#pe1669969ce)\">\n     <use style=\"fill:#b1400d;stroke:#ffffff;stroke-width:0.48;\" x=\"229.62372\" xlink:href=\"#C0_0_4cf5f16252\" y=\"105.742094\"/>\n    </g>\n    <g clip-path=\"url(#pe1669969ce)\">\n     <use style=\"fill:#b1400d;stroke:#ffffff;stroke-width:0.48;\" x=\"268.803327\" xlink:href=\"#C0_0_4cf5f16252\" y=\"134.407578\"/>\n    </g>\n    <g clip-path=\"url(#pe1669969ce)\">\n     <use style=\"fill:#b1400d;stroke:#ffffff;stroke-width:0.48;\" x=\"279.090891\" xlink:href=\"#C0_0_4cf5f16252\" y=\"93.4772\"/>\n    </g>\n    <g clip-path=\"url(#pe1669969ce)\">\n     <use style=\"fill:#b1400d;stroke:#ffffff;stroke-width:0.48;\" x=\"241.485726\" xlink:href=\"#C0_0_4cf5f16252\" y=\"117.311048\"/>\n    </g>\n    <g clip-path=\"url(#pe1669969ce)\">\n     <use style=\"fill:#b1400d;stroke:#ffffff;stroke-width:0.48;\" x=\"241.485726\" xlink:href=\"#C0_0_4cf5f16252\" y=\"117.311048\"/>\n    </g>\n    <g clip-path=\"url(#pe1669969ce)\">\n     <use style=\"fill:#b1400d;stroke:#ffffff;stroke-width:0.48;\" x=\"216.535868\" xlink:href=\"#C0_0_4cf5f16252\" y=\"115.479401\"/>\n    </g>\n    <g clip-path=\"url(#pe1669969ce)\">\n     <use style=\"fill:#b1400d;stroke:#ffffff;stroke-width:0.48;\" x=\"193.606013\" xlink:href=\"#C0_0_4cf5f16252\" y=\"113.947362\"/>\n    </g>\n    <g clip-path=\"url(#pe1669969ce)\">\n     <use style=\"fill:#b1400d;stroke:#ffffff;stroke-width:0.48;\" x=\"251.865351\" xlink:href=\"#C0_0_4cf5f16252\" y=\"117.895066\"/>\n    </g>\n    <g clip-path=\"url(#pe1669969ce)\">\n     <use style=\"fill:#b1400d;stroke:#ffffff;stroke-width:0.48;\" x=\"232.878116\" xlink:href=\"#C0_0_4cf5f16252\" y=\"110.454683\"/>\n    </g>\n    <g clip-path=\"url(#pe1669969ce)\">\n     <use style=\"fill:#b1400d;stroke:#ffffff;stroke-width:0.48;\" x=\"279.924006\" xlink:href=\"#C0_0_4cf5f16252\" y=\"92.695897\"/>\n    </g>\n    <g clip-path=\"url(#pe1669969ce)\">\n     <use style=\"fill:#b1400d;stroke:#ffffff;stroke-width:0.48;\" x=\"188.206614\" xlink:href=\"#C0_0_4cf5f16252\" y=\"108.775627\"/>\n    </g>\n    <g clip-path=\"url(#pe1669969ce)\">\n     <use style=\"fill:#b1400d;stroke:#ffffff;stroke-width:0.48;\" x=\"270.849212\" xlink:href=\"#C0_0_4cf5f16252\" y=\"135.386811\"/>\n    </g>\n    <g clip-path=\"url(#pe1669969ce)\">\n     <use style=\"fill:#b1400d;stroke:#ffffff;stroke-width:0.48;\" x=\"241.485726\" xlink:href=\"#C0_0_4cf5f16252\" y=\"117.311048\"/>\n    </g>\n    <g clip-path=\"url(#pe1669969ce)\">\n     <use style=\"fill:#b1400d;stroke:#ffffff;stroke-width:0.48;\" x=\"357.274355\" xlink:href=\"#C0_0_4cf5f16252\" y=\"150.07977\"/>\n    </g>\n    <g clip-path=\"url(#pe1669969ce)\">\n     <use style=\"fill:#b1400d;stroke:#ffffff;stroke-width:0.48;\" x=\"187.011666\" xlink:href=\"#C0_0_4cf5f16252\" y=\"116.175348\"/>\n    </g>\n    <g clip-path=\"url(#pe1669969ce)\">\n     <use style=\"fill:#b1400d;stroke:#ffffff;stroke-width:0.48;\" x=\"187.011666\" xlink:href=\"#C0_0_4cf5f16252\" y=\"116.175348\"/>\n    </g>\n    <g clip-path=\"url(#pe1669969ce)\">\n     <use style=\"fill:#b1400d;stroke:#ffffff;stroke-width:0.48;\" x=\"187.011666\" xlink:href=\"#C0_0_4cf5f16252\" y=\"116.175348\"/>\n    </g>\n    <g clip-path=\"url(#pe1669969ce)\">\n     <use style=\"fill:#b1400d;stroke:#ffffff;stroke-width:0.48;\" x=\"193.874456\" xlink:href=\"#C0_0_4cf5f16252\" y=\"117.470051\"/>\n    </g>\n    <g clip-path=\"url(#pe1669969ce)\">\n     <use style=\"fill:#b1400d;stroke:#ffffff;stroke-width:0.48;\" x=\"241.485726\" xlink:href=\"#C0_0_4cf5f16252\" y=\"117.311048\"/>\n    </g>\n    <g clip-path=\"url(#pe1669969ce)\">\n     <use style=\"fill:#b1400d;stroke:#ffffff;stroke-width:0.48;\" x=\"187.011666\" xlink:href=\"#C0_0_4cf5f16252\" y=\"116.175348\"/>\n    </g>\n    <g clip-path=\"url(#pe1669969ce)\">\n     <use style=\"fill:#b1400d;stroke:#ffffff;stroke-width:0.48;\" x=\"203.213901\" xlink:href=\"#C0_0_4cf5f16252\" y=\"108.477797\"/>\n    </g>\n    <g clip-path=\"url(#pe1669969ce)\">\n     <use style=\"fill:#b1400d;stroke:#ffffff;stroke-width:0.48;\" x=\"187.011666\" xlink:href=\"#C0_0_4cf5f16252\" y=\"116.175348\"/>\n    </g>\n    <g clip-path=\"url(#pe1669969ce)\">\n     <use style=\"fill:#b1400d;stroke:#ffffff;stroke-width:0.48;\" x=\"187.011666\" xlink:href=\"#C0_0_4cf5f16252\" y=\"116.175348\"/>\n    </g>\n    <g clip-path=\"url(#pe1669969ce)\">\n     <use style=\"fill:#b1400d;stroke:#ffffff;stroke-width:0.48;\" x=\"270.220554\" xlink:href=\"#C0_0_4cf5f16252\" y=\"106.743337\"/>\n    </g>\n    <g clip-path=\"url(#pe1669969ce)\">\n     <use style=\"fill:#b1400d;stroke:#ffffff;stroke-width:0.48;\" x=\"280.704824\" xlink:href=\"#C0_0_4cf5f16252\" y=\"129.528088\"/>\n    </g>\n    <g clip-path=\"url(#pe1669969ce)\">\n     <use style=\"fill:#b1400d;stroke:#ffffff;stroke-width:0.48;\" x=\"228.998916\" xlink:href=\"#C0_0_4cf5f16252\" y=\"97.860111\"/>\n    </g>\n    <g clip-path=\"url(#pe1669969ce)\">\n     <use style=\"fill:#b1400d;stroke:#ffffff;stroke-width:0.48;\" x=\"187.763585\" xlink:href=\"#C0_0_4cf5f16252\" y=\"110.726698\"/>\n    </g>\n    <g clip-path=\"url(#pe1669969ce)\">\n     <use style=\"fill:#b1400d;stroke:#ffffff;stroke-width:0.48;\" x=\"228.561056\" xlink:href=\"#C0_0_4cf5f16252\" y=\"106.425758\"/>\n    </g>\n    <g clip-path=\"url(#pe1669969ce)\">\n     <use style=\"fill:#b1400d;stroke:#ffffff;stroke-width:0.48;\" x=\"192.080644\" xlink:href=\"#C0_0_4cf5f16252\" y=\"114.755624\"/>\n    </g>\n    <g clip-path=\"url(#pe1669969ce)\">\n     <use style=\"fill:#b1400d;stroke:#ffffff;stroke-width:0.48;\" x=\"188.378611\" xlink:href=\"#C0_0_4cf5f16252\" y=\"112.254813\"/>\n    </g>\n    <g clip-path=\"url(#pe1669969ce)\">\n     <use style=\"fill:#b1400d;stroke:#ffffff;stroke-width:0.48;\" x=\"203.213901\" xlink:href=\"#C0_0_4cf5f16252\" y=\"108.477797\"/>\n    </g>\n    <g clip-path=\"url(#pe1669969ce)\">\n     <use style=\"fill:#b1400d;stroke:#ffffff;stroke-width:0.48;\" x=\"276.961085\" xlink:href=\"#C0_0_4cf5f16252\" y=\"125.036375\"/>\n    </g>\n    <g clip-path=\"url(#pe1669969ce)\">\n     <use style=\"fill:#b1400d;stroke:#ffffff;stroke-width:0.48;\" x=\"348.984428\" xlink:href=\"#C0_0_4cf5f16252\" y=\"153.986694\"/>\n    </g>\n    <g clip-path=\"url(#pe1669969ce)\">\n     <use style=\"fill:#b1400d;stroke:#ffffff;stroke-width:0.48;\" x=\"241.485726\" xlink:href=\"#C0_0_4cf5f16252\" y=\"117.311048\"/>\n    </g>\n    <g clip-path=\"url(#pe1669969ce)\">\n     <use style=\"fill:#b1400d;stroke:#ffffff;stroke-width:0.48;\" x=\"290.408275\" xlink:href=\"#C0_0_4cf5f16252\" y=\"115.480648\"/>\n    </g>\n    <g clip-path=\"url(#pe1669969ce)\">\n     <use style=\"fill:#b1400d;stroke:#ffffff;stroke-width:0.48;\" x=\"187.011666\" xlink:href=\"#C0_0_4cf5f16252\" y=\"116.175348\"/>\n    </g>\n    <g clip-path=\"url(#pe1669969ce)\">\n     <use style=\"fill:#b1400d;stroke:#ffffff;stroke-width:0.48;\" x=\"187.763585\" xlink:href=\"#C0_0_4cf5f16252\" y=\"110.726698\"/>\n    </g>\n    <g clip-path=\"url(#pe1669969ce)\">\n     <use style=\"fill:#b1400d;stroke:#ffffff;stroke-width:0.48;\" x=\"187.011666\" xlink:href=\"#C0_0_4cf5f16252\" y=\"116.175348\"/>\n    </g>\n    <g clip-path=\"url(#pe1669969ce)\">\n     <use style=\"fill:#b1400d;stroke:#ffffff;stroke-width:0.48;\" x=\"187.011666\" xlink:href=\"#C0_0_4cf5f16252\" y=\"116.175348\"/>\n    </g>\n    <g clip-path=\"url(#pe1669969ce)\">\n     <use style=\"fill:#b1400d;stroke:#ffffff;stroke-width:0.48;\" x=\"203.213901\" xlink:href=\"#C0_0_4cf5f16252\" y=\"108.477797\"/>\n    </g>\n    <g clip-path=\"url(#pe1669969ce)\">\n     <use style=\"fill:#b1400d;stroke:#ffffff;stroke-width:0.48;\" x=\"221.178561\" xlink:href=\"#C0_0_4cf5f16252\" y=\"117.368888\"/>\n    </g>\n    <g clip-path=\"url(#pe1669969ce)\">\n     <use style=\"fill:#b1400d;stroke:#ffffff;stroke-width:0.48;\" x=\"278.041328\" xlink:href=\"#C0_0_4cf5f16252\" y=\"103.995378\"/>\n    </g>\n    <g clip-path=\"url(#pe1669969ce)\">\n     <use style=\"fill:#b1400d;stroke:#ffffff;stroke-width:0.48;\" x=\"218.715079\" xlink:href=\"#C0_0_4cf5f16252\" y=\"92.54685\"/>\n    </g>\n    <g clip-path=\"url(#pe1669969ce)\">\n     <use style=\"fill:#b1400d;stroke:#ffffff;stroke-width:0.48;\" x=\"280.704824\" xlink:href=\"#C0_0_4cf5f16252\" y=\"129.528088\"/>\n    </g>\n    <g clip-path=\"url(#pe1669969ce)\">\n     <use style=\"fill:#b1400d;stroke:#ffffff;stroke-width:0.48;\" x=\"186.482045\" xlink:href=\"#C0_0_4cf5f16252\" y=\"116.270376\"/>\n    </g>\n    <g clip-path=\"url(#pe1669969ce)\">\n     <use style=\"fill:#b1400d;stroke:#ffffff;stroke-width:0.48;\" x=\"406.881066\" xlink:href=\"#C0_0_4cf5f16252\" y=\"162.386632\"/>\n    </g>\n    <g clip-path=\"url(#pe1669969ce)\">\n     <use style=\"fill:#b1400d;stroke:#ffffff;stroke-width:0.48;\" x=\"221.178561\" xlink:href=\"#C0_0_4cf5f16252\" y=\"117.368888\"/>\n    </g>\n    <g clip-path=\"url(#pe1669969ce)\">\n     <use style=\"fill:#b1400d;stroke:#ffffff;stroke-width:0.48;\" x=\"219.113566\" xlink:href=\"#C0_0_4cf5f16252\" y=\"95.417952\"/>\n    </g>\n    <g clip-path=\"url(#pe1669969ce)\">\n     <use style=\"fill:#b1400d;stroke:#ffffff;stroke-width:0.48;\" x=\"187.011666\" xlink:href=\"#C0_0_4cf5f16252\" y=\"116.175348\"/>\n    </g>\n    <g clip-path=\"url(#pe1669969ce)\">\n     <use style=\"fill:#b1400d;stroke:#ffffff;stroke-width:0.48;\" x=\"187.011666\" xlink:href=\"#C0_0_4cf5f16252\" y=\"116.175348\"/>\n    </g>\n    <g clip-path=\"url(#pe1669969ce)\">\n     <use style=\"fill:#b1400d;stroke:#ffffff;stroke-width:0.48;\" x=\"241.485726\" xlink:href=\"#C0_0_4cf5f16252\" y=\"117.311048\"/>\n    </g>\n    <g clip-path=\"url(#pe1669969ce)\">\n     <use style=\"fill:#b1400d;stroke:#ffffff;stroke-width:0.48;\" x=\"203.213901\" xlink:href=\"#C0_0_4cf5f16252\" y=\"108.477797\"/>\n    </g>\n    <g clip-path=\"url(#pe1669969ce)\">\n     <use style=\"fill:#b1400d;stroke:#ffffff;stroke-width:0.48;\" x=\"204.580846\" xlink:href=\"#C0_0_4cf5f16252\" y=\"104.557263\"/>\n    </g>\n    <g clip-path=\"url(#pe1669969ce)\">\n     <use style=\"fill:#b1400d;stroke:#ffffff;stroke-width:0.48;\" x=\"195.665555\" xlink:href=\"#C0_0_4cf5f16252\" y=\"112.646085\"/>\n    </g>\n    <g clip-path=\"url(#pe1669969ce)\">\n     <use style=\"fill:#b1400d;stroke:#ffffff;stroke-width:0.48;\" x=\"229.62372\" xlink:href=\"#C0_0_4cf5f16252\" y=\"105.742094\"/>\n    </g>\n    <g clip-path=\"url(#pe1669969ce)\">\n     <use style=\"fill:#b1400d;stroke:#ffffff;stroke-width:0.48;\" x=\"246.632108\" xlink:href=\"#C0_0_4cf5f16252\" y=\"120.456597\"/>\n    </g>\n    <g clip-path=\"url(#pe1669969ce)\">\n     <use style=\"fill:#b1400d;stroke:#ffffff;stroke-width:0.48;\" x=\"193.874456\" xlink:href=\"#C0_0_4cf5f16252\" y=\"117.470051\"/>\n    </g>\n    <g clip-path=\"url(#pe1669969ce)\">\n     <use style=\"fill:#b1400d;stroke:#ffffff;stroke-width:0.48;\" x=\"241.485726\" xlink:href=\"#C0_0_4cf5f16252\" y=\"117.311048\"/>\n    </g>\n    <g clip-path=\"url(#pe1669969ce)\">\n     <use style=\"fill:#b1400d;stroke:#ffffff;stroke-width:0.48;\" x=\"328.451456\" xlink:href=\"#C0_0_4cf5f16252\" y=\"134.847998\"/>\n    </g>\n    <g clip-path=\"url(#pe1669969ce)\">\n     <use style=\"fill:#b1400d;stroke:#ffffff;stroke-width:0.48;\" x=\"187.011666\" xlink:href=\"#C0_0_4cf5f16252\" y=\"116.175348\"/>\n    </g>\n    <g clip-path=\"url(#pe1669969ce)\">\n     <use style=\"fill:#b1400d;stroke:#ffffff;stroke-width:0.48;\" x=\"280.704824\" xlink:href=\"#C0_0_4cf5f16252\" y=\"129.528088\"/>\n    </g>\n    <g clip-path=\"url(#pe1669969ce)\">\n     <use style=\"fill:#b1400d;stroke:#ffffff;stroke-width:0.48;\" x=\"226.578054\" xlink:href=\"#C0_0_4cf5f16252\" y=\"109.127037\"/>\n    </g>\n    <g clip-path=\"url(#pe1669969ce)\">\n     <use style=\"fill:#b1400d;stroke:#ffffff;stroke-width:0.48;\" x=\"221.178561\" xlink:href=\"#C0_0_4cf5f16252\" y=\"117.368888\"/>\n    </g>\n    <g clip-path=\"url(#pe1669969ce)\">\n     <use style=\"fill:#b1400d;stroke:#ffffff;stroke-width:0.48;\" x=\"219.113566\" xlink:href=\"#C0_0_4cf5f16252\" y=\"95.417952\"/>\n    </g>\n    <g clip-path=\"url(#pe1669969ce)\">\n     <use style=\"fill:#b1400d;stroke:#ffffff;stroke-width:0.48;\" x=\"186.482045\" xlink:href=\"#C0_0_4cf5f16252\" y=\"116.270376\"/>\n    </g>\n    <g clip-path=\"url(#pe1669969ce)\">\n     <use style=\"fill:#b1400d;stroke:#ffffff;stroke-width:0.48;\" x=\"228.235423\" xlink:href=\"#C0_0_4cf5f16252\" y=\"108.565196\"/>\n    </g>\n    <g clip-path=\"url(#pe1669969ce)\">\n     <use style=\"fill:#b1400d;stroke:#ffffff;stroke-width:0.48;\" x=\"187.011666\" xlink:href=\"#C0_0_4cf5f16252\" y=\"116.175348\"/>\n    </g>\n    <g clip-path=\"url(#pe1669969ce)\">\n     <use style=\"fill:#b1400d;stroke:#ffffff;stroke-width:0.48;\" x=\"261.560497\" xlink:href=\"#C0_0_4cf5f16252\" y=\"111.385968\"/>\n    </g>\n    <g clip-path=\"url(#pe1669969ce)\">\n     <use style=\"fill:#b1400d;stroke:#ffffff;stroke-width:0.48;\" x=\"186.507977\" xlink:href=\"#C0_0_4cf5f16252\" y=\"114.919285\"/>\n    </g>\n    <g clip-path=\"url(#pe1669969ce)\">\n     <use style=\"fill:#b1400d;stroke:#ffffff;stroke-width:0.48;\" x=\"193.874456\" xlink:href=\"#C0_0_4cf5f16252\" y=\"117.470051\"/>\n    </g>\n   </g>\n   <g id=\"PathCollection_2\"/>\n   <g id=\"PathCollection_3\"/>\n   <g id=\"patch_3\">\n    <path d=\"M 171.9975 186.33125 \nL 171.9975 30.67125 \n\" style=\"fill:none;stroke:#ffffff;stroke-linecap:square;stroke-linejoin:miter;stroke-width:1.25;\"/>\n   </g>\n   <g id=\"patch_4\">\n    <path d=\"M 490.6575 186.33125 \nL 490.6575 30.67125 \n\" style=\"fill:none;stroke:#ffffff;stroke-linecap:square;stroke-linejoin:miter;stroke-width:1.25;\"/>\n   </g>\n   <g id=\"patch_5\">\n    <path d=\"M 171.9975 186.33125 \nL 490.6575 186.33125 \n\" style=\"fill:none;stroke:#ffffff;stroke-linecap:square;stroke-linejoin:miter;stroke-width:1.25;\"/>\n   </g>\n   <g id=\"patch_6\">\n    <path d=\"M 171.9975 30.67125 \nL 490.6575 30.67125 \n\" style=\"fill:none;stroke:#ffffff;stroke-linecap:square;stroke-linejoin:miter;stroke-width:1.25;\"/>\n   </g>\n   <g id=\"text_9\">\n    <!-- Cluster visaliztion in the first two principal component domain -->\n    <g style=\"fill:#262626;\" transform=\"translate(7.2 24.67125)scale(0.24 -0.24)\">\n     <defs>\n      <path d=\"M 58.796875 25.09375 \nL 68.265625 22.703125 \nQ 65.28125 11.03125 57.546875 4.90625 \nQ 49.8125 -1.21875 38.625 -1.21875 \nQ 27.046875 -1.21875 19.796875 3.484375 \nQ 12.546875 8.203125 8.765625 17.140625 \nQ 4.984375 26.078125 4.984375 36.328125 \nQ 4.984375 47.515625 9.25 55.828125 \nQ 13.53125 64.15625 21.40625 68.46875 \nQ 29.296875 72.796875 38.765625 72.796875 \nQ 49.515625 72.796875 56.828125 67.328125 \nQ 64.15625 61.859375 67.046875 51.953125 \nL 57.71875 49.75 \nQ 55.21875 57.5625 50.484375 61.125 \nQ 45.75 64.703125 38.578125 64.703125 \nQ 30.328125 64.703125 24.78125 60.734375 \nQ 19.234375 56.78125 16.984375 50.109375 \nQ 14.75 43.453125 14.75 36.375 \nQ 14.75 27.25 17.40625 20.4375 \nQ 20.0625 13.625 25.671875 10.25 \nQ 31.296875 6.890625 37.84375 6.890625 \nQ 45.796875 6.890625 51.3125 11.46875 \nQ 56.84375 16.0625 58.796875 25.09375 \nz\n\" id=\"ArialMT-67\"/>\n      <path d=\"M 6.390625 0 \nL 6.390625 71.578125 \nL 15.1875 71.578125 \nL 15.1875 0 \nz\n\" id=\"ArialMT-108\"/>\n      <path d=\"M 40.578125 0 \nL 40.578125 7.625 \nQ 34.515625 -1.171875 24.125 -1.171875 \nQ 19.53125 -1.171875 15.546875 0.578125 \nQ 11.578125 2.34375 9.640625 5 \nQ 7.71875 7.671875 6.9375 11.53125 \nQ 6.390625 14.109375 6.390625 19.734375 \nL 6.390625 51.859375 \nL 15.1875 51.859375 \nL 15.1875 23.09375 \nQ 15.1875 16.21875 15.71875 13.8125 \nQ 16.546875 10.359375 19.234375 8.375 \nQ 21.921875 6.390625 25.875 6.390625 \nQ 29.828125 6.390625 33.296875 8.421875 \nQ 36.765625 10.453125 38.203125 13.9375 \nQ 39.65625 17.4375 39.65625 24.078125 \nL 39.65625 51.859375 \nL 48.4375 51.859375 \nL 48.4375 0 \nz\n\" id=\"ArialMT-117\"/>\n      <path d=\"M 3.078125 15.484375 \nL 11.765625 16.84375 \nQ 12.5 11.625 15.84375 8.84375 \nQ 19.1875 6.0625 25.203125 6.0625 \nQ 31.25 6.0625 34.171875 8.515625 \nQ 37.109375 10.984375 37.109375 14.3125 \nQ 37.109375 17.28125 34.515625 19 \nQ 32.71875 20.171875 25.53125 21.96875 \nQ 15.875 24.421875 12.140625 26.203125 \nQ 8.40625 27.984375 6.46875 31.125 \nQ 4.546875 34.28125 4.546875 38.09375 \nQ 4.546875 41.546875 6.125 44.5 \nQ 7.71875 47.46875 10.453125 49.421875 \nQ 12.5 50.921875 16.03125 51.96875 \nQ 19.578125 53.03125 23.640625 53.03125 \nQ 29.734375 53.03125 34.34375 51.265625 \nQ 38.96875 49.515625 41.15625 46.5 \nQ 43.359375 43.5 44.1875 38.484375 \nL 35.59375 37.3125 \nQ 35.015625 41.3125 32.203125 43.546875 \nQ 29.390625 45.796875 24.265625 45.796875 \nQ 18.21875 45.796875 15.625 43.796875 \nQ 13.03125 41.796875 13.03125 39.109375 \nQ 13.03125 37.40625 14.109375 36.03125 \nQ 15.1875 34.625 17.484375 33.6875 \nQ 18.796875 33.203125 25.25 31.453125 \nQ 34.578125 28.953125 38.25 27.359375 \nQ 41.9375 25.78125 44.03125 22.75 \nQ 46.140625 19.734375 46.140625 15.234375 \nQ 46.140625 10.84375 43.578125 6.953125 \nQ 41.015625 3.078125 36.171875 0.953125 \nQ 31.34375 -1.171875 25.25 -1.171875 \nQ 15.140625 -1.171875 9.84375 3.03125 \nQ 4.546875 7.234375 3.078125 15.484375 \nz\n\" id=\"ArialMT-115\"/>\n      <path d=\"M 25.78125 7.859375 \nL 27.046875 0.09375 \nQ 23.34375 -0.6875 20.40625 -0.6875 \nQ 15.625 -0.6875 12.984375 0.828125 \nQ 10.359375 2.34375 9.28125 4.8125 \nQ 8.203125 7.28125 8.203125 15.1875 \nL 8.203125 45.015625 \nL 1.765625 45.015625 \nL 1.765625 51.859375 \nL 8.203125 51.859375 \nL 8.203125 64.703125 \nL 16.9375 69.96875 \nL 16.9375 51.859375 \nL 25.78125 51.859375 \nL 25.78125 45.015625 \nL 16.9375 45.015625 \nL 16.9375 14.703125 \nQ 16.9375 10.9375 17.40625 9.859375 \nQ 17.875 8.796875 18.921875 8.15625 \nQ 19.96875 7.515625 21.921875 7.515625 \nQ 23.390625 7.515625 25.78125 7.859375 \nz\n\" id=\"ArialMT-116\"/>\n      <path d=\"M 42.09375 16.703125 \nL 51.171875 15.578125 \nQ 49.03125 7.625 43.21875 3.21875 \nQ 37.40625 -1.171875 28.375 -1.171875 \nQ 17 -1.171875 10.328125 5.828125 \nQ 3.65625 12.84375 3.65625 25.484375 \nQ 3.65625 38.578125 10.390625 45.796875 \nQ 17.140625 53.03125 27.875 53.03125 \nQ 38.28125 53.03125 44.875 45.953125 \nQ 51.46875 38.875 51.46875 26.03125 \nQ 51.46875 25.25 51.421875 23.6875 \nL 12.75 23.6875 \nQ 13.234375 15.140625 17.578125 10.59375 \nQ 21.921875 6.0625 28.421875 6.0625 \nQ 33.25 6.0625 36.671875 8.59375 \nQ 40.09375 11.140625 42.09375 16.703125 \nz\nM 13.234375 30.90625 \nL 42.1875 30.90625 \nQ 41.609375 37.453125 38.875 40.71875 \nQ 34.671875 45.796875 27.984375 45.796875 \nQ 21.921875 45.796875 17.796875 41.75 \nQ 13.671875 37.703125 13.234375 30.90625 \nz\n\" id=\"ArialMT-101\"/>\n      <path d=\"M 6.5 0 \nL 6.5 51.859375 \nL 14.40625 51.859375 \nL 14.40625 44 \nQ 17.4375 49.515625 20 51.265625 \nQ 22.5625 53.03125 25.640625 53.03125 \nQ 30.078125 53.03125 34.671875 50.203125 \nL 31.640625 42.046875 \nQ 28.421875 43.953125 25.203125 43.953125 \nQ 22.3125 43.953125 20.015625 42.21875 \nQ 17.71875 40.484375 16.75 37.40625 \nQ 15.28125 32.71875 15.28125 27.15625 \nL 15.28125 0 \nz\n\" id=\"ArialMT-114\"/>\n      <path id=\"ArialMT-32\"/>\n      <path d=\"M 21 0 \nL 1.265625 51.859375 \nL 10.546875 51.859375 \nL 21.6875 20.796875 \nQ 23.484375 15.765625 25 10.359375 \nQ 26.171875 14.453125 28.265625 20.21875 \nL 39.796875 51.859375 \nL 48.828125 51.859375 \nL 29.203125 0 \nz\n\" id=\"ArialMT-118\"/>\n      <path d=\"M 6.640625 61.46875 \nL 6.640625 71.578125 \nL 15.4375 71.578125 \nL 15.4375 61.46875 \nz\nM 6.640625 0 \nL 6.640625 51.859375 \nL 15.4375 51.859375 \nL 15.4375 0 \nz\n\" id=\"ArialMT-105\"/>\n      <path d=\"M 40.4375 6.390625 \nQ 35.546875 2.25 31.03125 0.53125 \nQ 26.515625 -1.171875 21.34375 -1.171875 \nQ 12.796875 -1.171875 8.203125 3 \nQ 3.609375 7.171875 3.609375 13.671875 \nQ 3.609375 17.484375 5.34375 20.625 \nQ 7.078125 23.78125 9.890625 25.6875 \nQ 12.703125 27.59375 16.21875 28.5625 \nQ 18.796875 29.25 24.03125 29.890625 \nQ 34.671875 31.15625 39.703125 32.90625 \nQ 39.75 34.71875 39.75 35.203125 \nQ 39.75 40.578125 37.25 42.78125 \nQ 33.890625 45.75 27.25 45.75 \nQ 21.046875 45.75 18.09375 43.578125 \nQ 15.140625 41.40625 13.71875 35.890625 \nL 5.125 37.0625 \nQ 6.296875 42.578125 8.984375 45.96875 \nQ 11.671875 49.359375 16.75 51.1875 \nQ 21.828125 53.03125 28.515625 53.03125 \nQ 35.15625 53.03125 39.296875 51.46875 \nQ 43.453125 49.90625 45.40625 47.53125 \nQ 47.359375 45.171875 48.140625 41.546875 \nQ 48.578125 39.3125 48.578125 33.453125 \nL 48.578125 21.734375 \nQ 48.578125 9.46875 49.140625 6.21875 \nQ 49.703125 2.984375 51.375 0 \nL 42.1875 0 \nQ 40.828125 2.734375 40.4375 6.390625 \nz\nM 39.703125 26.03125 \nQ 34.90625 24.078125 25.34375 22.703125 \nQ 19.921875 21.921875 17.671875 20.9375 \nQ 15.4375 19.96875 14.203125 18.09375 \nQ 12.984375 16.21875 12.984375 13.921875 \nQ 12.984375 10.40625 15.640625 8.0625 \nQ 18.3125 5.71875 23.4375 5.71875 \nQ 28.515625 5.71875 32.46875 7.9375 \nQ 36.421875 10.15625 38.28125 14.015625 \nQ 39.703125 17 39.703125 22.796875 \nz\n\" id=\"ArialMT-97\"/>\n      <path d=\"M 1.953125 0 \nL 1.953125 7.125 \nL 34.96875 45.015625 \nQ 29.34375 44.734375 25.046875 44.734375 \nL 3.90625 44.734375 \nL 3.90625 51.859375 \nL 46.296875 51.859375 \nL 46.296875 46.046875 \nL 18.21875 13.140625 \nL 12.796875 7.125 \nQ 18.703125 7.5625 23.875 7.5625 \nL 47.859375 7.5625 \nL 47.859375 0 \nz\n\" id=\"ArialMT-122\"/>\n      <path d=\"M 3.328125 25.921875 \nQ 3.328125 40.328125 11.328125 47.265625 \nQ 18.015625 53.03125 27.640625 53.03125 \nQ 38.328125 53.03125 45.109375 46.015625 \nQ 51.90625 39.015625 51.90625 26.65625 \nQ 51.90625 16.65625 48.90625 10.90625 \nQ 45.90625 5.171875 40.15625 2 \nQ 34.421875 -1.171875 27.640625 -1.171875 \nQ 16.75 -1.171875 10.03125 5.8125 \nQ 3.328125 12.796875 3.328125 25.921875 \nz\nM 12.359375 25.921875 \nQ 12.359375 15.96875 16.703125 11.015625 \nQ 21.046875 6.0625 27.640625 6.0625 \nQ 34.1875 6.0625 38.53125 11.03125 \nQ 42.875 16.015625 42.875 26.21875 \nQ 42.875 35.84375 38.5 40.796875 \nQ 34.125 45.75 27.640625 45.75 \nQ 21.046875 45.75 16.703125 40.8125 \nQ 12.359375 35.890625 12.359375 25.921875 \nz\n\" id=\"ArialMT-111\"/>\n      <path d=\"M 6.59375 0 \nL 6.59375 51.859375 \nL 14.5 51.859375 \nL 14.5 44.484375 \nQ 20.21875 53.03125 31 53.03125 \nQ 35.6875 53.03125 39.625 51.34375 \nQ 43.5625 49.65625 45.515625 46.921875 \nQ 47.46875 44.1875 48.25 40.4375 \nQ 48.734375 37.984375 48.734375 31.890625 \nL 48.734375 0 \nL 39.9375 0 \nL 39.9375 31.546875 \nQ 39.9375 36.921875 38.90625 39.578125 \nQ 37.890625 42.234375 35.28125 43.8125 \nQ 32.671875 45.40625 29.15625 45.40625 \nQ 23.53125 45.40625 19.453125 41.84375 \nQ 15.375 38.28125 15.375 28.328125 \nL 15.375 0 \nz\n\" id=\"ArialMT-110\"/>\n      <path d=\"M 6.59375 0 \nL 6.59375 71.578125 \nL 15.375 71.578125 \nL 15.375 45.90625 \nQ 21.53125 53.03125 30.90625 53.03125 \nQ 36.671875 53.03125 40.921875 50.75 \nQ 45.171875 48.484375 47 44.484375 \nQ 48.828125 40.484375 48.828125 32.859375 \nL 48.828125 0 \nL 40.046875 0 \nL 40.046875 32.859375 \nQ 40.046875 39.453125 37.1875 42.453125 \nQ 34.328125 45.453125 29.109375 45.453125 \nQ 25.203125 45.453125 21.75 43.421875 \nQ 18.3125 41.40625 16.84375 37.9375 \nQ 15.375 34.46875 15.375 28.375 \nL 15.375 0 \nz\n\" id=\"ArialMT-104\"/>\n      <path d=\"M 8.6875 0 \nL 8.6875 45.015625 \nL 0.921875 45.015625 \nL 0.921875 51.859375 \nL 8.6875 51.859375 \nL 8.6875 57.375 \nQ 8.6875 62.59375 9.625 65.140625 \nQ 10.890625 68.5625 14.078125 70.671875 \nQ 17.28125 72.796875 23.046875 72.796875 \nQ 26.765625 72.796875 31.25 71.921875 \nL 29.9375 64.265625 \nQ 27.203125 64.75 24.75 64.75 \nQ 20.75 64.75 19.09375 63.03125 \nQ 17.4375 61.328125 17.4375 56.640625 \nL 17.4375 51.859375 \nL 27.546875 51.859375 \nL 27.546875 45.015625 \nL 17.4375 45.015625 \nL 17.4375 0 \nz\n\" id=\"ArialMT-102\"/>\n      <path d=\"M 16.15625 0 \nL 0.296875 51.859375 \nL 9.375 51.859375 \nL 17.625 21.921875 \nL 20.703125 10.796875 \nQ 20.90625 11.625 23.390625 21.484375 \nL 31.640625 51.859375 \nL 40.671875 51.859375 \nL 48.4375 21.78125 \nL 51.03125 11.859375 \nL 54 21.875 \nL 62.890625 51.859375 \nL 71.4375 51.859375 \nL 55.21875 0 \nL 46.09375 0 \nL 37.84375 31.0625 \nL 35.84375 39.890625 \nL 25.34375 0 \nz\n\" id=\"ArialMT-119\"/>\n      <path d=\"M 6.59375 -19.875 \nL 6.59375 51.859375 \nL 14.59375 51.859375 \nL 14.59375 45.125 \nQ 17.4375 49.078125 21 51.046875 \nQ 24.5625 53.03125 29.640625 53.03125 \nQ 36.28125 53.03125 41.359375 49.609375 \nQ 46.4375 46.1875 49.015625 39.953125 \nQ 51.609375 33.734375 51.609375 26.3125 \nQ 51.609375 18.359375 48.75 11.984375 \nQ 45.90625 5.609375 40.453125 2.21875 \nQ 35.015625 -1.171875 29 -1.171875 \nQ 24.609375 -1.171875 21.109375 0.6875 \nQ 17.625 2.546875 15.375 5.375 \nL 15.375 -19.875 \nz\nM 14.546875 25.640625 \nQ 14.546875 15.625 18.59375 10.84375 \nQ 22.65625 6.0625 28.421875 6.0625 \nQ 34.28125 6.0625 38.453125 11.015625 \nQ 42.625 15.96875 42.625 26.375 \nQ 42.625 36.28125 38.546875 41.203125 \nQ 34.46875 46.140625 28.8125 46.140625 \nQ 23.1875 46.140625 18.859375 40.890625 \nQ 14.546875 35.640625 14.546875 25.640625 \nz\n\" id=\"ArialMT-112\"/>\n      <path d=\"M 40.4375 19 \nL 49.078125 17.875 \nQ 47.65625 8.9375 41.8125 3.875 \nQ 35.984375 -1.171875 27.484375 -1.171875 \nQ 16.84375 -1.171875 10.375 5.78125 \nQ 3.90625 12.75 3.90625 25.734375 \nQ 3.90625 34.125 6.6875 40.421875 \nQ 9.46875 46.734375 15.15625 49.875 \nQ 20.84375 53.03125 27.546875 53.03125 \nQ 35.984375 53.03125 41.359375 48.75 \nQ 46.734375 44.484375 48.25 36.625 \nL 39.703125 35.296875 \nQ 38.484375 40.53125 35.375 43.15625 \nQ 32.28125 45.796875 27.875 45.796875 \nQ 21.234375 45.796875 17.078125 41.03125 \nQ 12.9375 36.28125 12.9375 25.984375 \nQ 12.9375 15.53125 16.9375 10.796875 \nQ 20.953125 6.0625 27.390625 6.0625 \nQ 32.5625 6.0625 36.03125 9.234375 \nQ 39.5 12.40625 40.4375 19 \nz\n\" id=\"ArialMT-99\"/>\n      <path d=\"M 6.59375 0 \nL 6.59375 51.859375 \nL 14.453125 51.859375 \nL 14.453125 44.578125 \nQ 16.890625 48.390625 20.9375 50.703125 \nQ 25 53.03125 30.171875 53.03125 \nQ 35.9375 53.03125 39.625 50.640625 \nQ 43.3125 48.25 44.828125 43.953125 \nQ 50.984375 53.03125 60.84375 53.03125 \nQ 68.5625 53.03125 72.703125 48.75 \nQ 76.859375 44.484375 76.859375 35.59375 \nL 76.859375 0 \nL 68.109375 0 \nL 68.109375 32.671875 \nQ 68.109375 37.9375 67.25 40.25 \nQ 66.40625 42.578125 64.15625 43.984375 \nQ 61.921875 45.40625 58.890625 45.40625 \nQ 53.421875 45.40625 49.796875 41.765625 \nQ 46.1875 38.140625 46.1875 30.125 \nL 46.1875 0 \nL 37.40625 0 \nL 37.40625 33.6875 \nQ 37.40625 39.546875 35.25 42.46875 \nQ 33.109375 45.40625 28.21875 45.40625 \nQ 24.515625 45.40625 21.359375 43.453125 \nQ 18.21875 41.5 16.796875 37.734375 \nQ 15.375 33.984375 15.375 26.90625 \nL 15.375 0 \nz\n\" id=\"ArialMT-109\"/>\n      <path d=\"M 40.234375 0 \nL 40.234375 6.546875 \nQ 35.296875 -1.171875 25.734375 -1.171875 \nQ 19.53125 -1.171875 14.328125 2.25 \nQ 9.125 5.671875 6.265625 11.796875 \nQ 3.421875 17.921875 3.421875 25.875 \nQ 3.421875 33.640625 6 39.96875 \nQ 8.59375 46.296875 13.765625 49.65625 \nQ 18.953125 53.03125 25.34375 53.03125 \nQ 30.03125 53.03125 33.6875 51.046875 \nQ 37.359375 49.078125 39.65625 45.90625 \nL 39.65625 71.578125 \nL 48.390625 71.578125 \nL 48.390625 0 \nz\nM 12.453125 25.875 \nQ 12.453125 15.921875 16.640625 10.984375 \nQ 20.84375 6.0625 26.5625 6.0625 \nQ 32.328125 6.0625 36.34375 10.765625 \nQ 40.375 15.484375 40.375 25.140625 \nQ 40.375 35.796875 36.265625 40.765625 \nQ 32.171875 45.75 26.171875 45.75 \nQ 20.3125 45.75 16.375 40.96875 \nQ 12.453125 36.1875 12.453125 25.875 \nz\n\" id=\"ArialMT-100\"/>\n     </defs>\n     <use xlink:href=\"#ArialMT-67\"/>\n     <use x=\"72.216797\" xlink:href=\"#ArialMT-108\"/>\n     <use x=\"94.433594\" xlink:href=\"#ArialMT-117\"/>\n     <use x=\"150.048828\" xlink:href=\"#ArialMT-115\"/>\n     <use x=\"200.048828\" xlink:href=\"#ArialMT-116\"/>\n     <use x=\"227.832031\" xlink:href=\"#ArialMT-101\"/>\n     <use x=\"283.447266\" xlink:href=\"#ArialMT-114\"/>\n     <use x=\"316.748047\" xlink:href=\"#ArialMT-32\"/>\n     <use x=\"344.53125\" xlink:href=\"#ArialMT-118\"/>\n     <use x=\"394.53125\" xlink:href=\"#ArialMT-105\"/>\n     <use x=\"416.748047\" xlink:href=\"#ArialMT-115\"/>\n     <use x=\"466.748047\" xlink:href=\"#ArialMT-97\"/>\n     <use x=\"522.363281\" xlink:href=\"#ArialMT-108\"/>\n     <use x=\"544.580078\" xlink:href=\"#ArialMT-105\"/>\n     <use x=\"566.796875\" xlink:href=\"#ArialMT-122\"/>\n     <use x=\"616.796875\" xlink:href=\"#ArialMT-116\"/>\n     <use x=\"644.580078\" xlink:href=\"#ArialMT-105\"/>\n     <use x=\"666.796875\" xlink:href=\"#ArialMT-111\"/>\n     <use x=\"722.412109\" xlink:href=\"#ArialMT-110\"/>\n     <use x=\"778.027344\" xlink:href=\"#ArialMT-32\"/>\n     <use x=\"805.810547\" xlink:href=\"#ArialMT-105\"/>\n     <use x=\"828.027344\" xlink:href=\"#ArialMT-110\"/>\n     <use x=\"883.642578\" xlink:href=\"#ArialMT-32\"/>\n     <use x=\"911.425781\" xlink:href=\"#ArialMT-116\"/>\n     <use x=\"939.208984\" xlink:href=\"#ArialMT-104\"/>\n     <use x=\"994.824219\" xlink:href=\"#ArialMT-101\"/>\n     <use x=\"1050.439453\" xlink:href=\"#ArialMT-32\"/>\n     <use x=\"1078.222656\" xlink:href=\"#ArialMT-102\"/>\n     <use x=\"1106.005859\" xlink:href=\"#ArialMT-105\"/>\n     <use x=\"1128.222656\" xlink:href=\"#ArialMT-114\"/>\n     <use x=\"1161.523438\" xlink:href=\"#ArialMT-115\"/>\n     <use x=\"1211.523438\" xlink:href=\"#ArialMT-116\"/>\n     <use x=\"1239.306641\" xlink:href=\"#ArialMT-32\"/>\n     <use x=\"1267.089844\" xlink:href=\"#ArialMT-116\"/>\n     <use x=\"1294.873047\" xlink:href=\"#ArialMT-119\"/>\n     <use x=\"1367.089844\" xlink:href=\"#ArialMT-111\"/>\n     <use x=\"1422.705078\" xlink:href=\"#ArialMT-32\"/>\n     <use x=\"1450.488281\" xlink:href=\"#ArialMT-112\"/>\n     <use x=\"1506.103516\" xlink:href=\"#ArialMT-114\"/>\n     <use x=\"1539.404297\" xlink:href=\"#ArialMT-105\"/>\n     <use x=\"1561.621094\" xlink:href=\"#ArialMT-110\"/>\n     <use x=\"1617.236328\" xlink:href=\"#ArialMT-99\"/>\n     <use x=\"1667.236328\" xlink:href=\"#ArialMT-105\"/>\n     <use x=\"1689.453125\" xlink:href=\"#ArialMT-112\"/>\n     <use x=\"1745.068359\" xlink:href=\"#ArialMT-97\"/>\n     <use x=\"1800.683594\" xlink:href=\"#ArialMT-108\"/>\n     <use x=\"1822.900391\" xlink:href=\"#ArialMT-32\"/>\n     <use x=\"1850.683594\" xlink:href=\"#ArialMT-99\"/>\n     <use x=\"1900.683594\" xlink:href=\"#ArialMT-111\"/>\n     <use x=\"1956.298828\" xlink:href=\"#ArialMT-109\"/>\n     <use x=\"2039.599609\" xlink:href=\"#ArialMT-112\"/>\n     <use x=\"2095.214844\" xlink:href=\"#ArialMT-111\"/>\n     <use x=\"2150.830078\" xlink:href=\"#ArialMT-110\"/>\n     <use x=\"2206.445312\" xlink:href=\"#ArialMT-101\"/>\n     <use x=\"2262.060547\" xlink:href=\"#ArialMT-110\"/>\n     <use x=\"2317.675781\" xlink:href=\"#ArialMT-116\"/>\n     <use x=\"2345.458984\" xlink:href=\"#ArialMT-32\"/>\n     <use x=\"2373.242188\" xlink:href=\"#ArialMT-100\"/>\n     <use x=\"2428.857422\" xlink:href=\"#ArialMT-111\"/>\n     <use x=\"2484.472656\" xlink:href=\"#ArialMT-109\"/>\n     <use x=\"2567.773438\" xlink:href=\"#ArialMT-97\"/>\n     <use x=\"2623.388672\" xlink:href=\"#ArialMT-105\"/>\n     <use x=\"2645.605469\" xlink:href=\"#ArialMT-110\"/>\n    </g>\n   </g>\n   <g id=\"legend_1\">\n    <g id=\"patch_7\">\n     <path d=\"M 374.2775 143.459375 \nL 475.2575 143.459375 \nQ 479.6575 143.459375 479.6575 139.059375 \nL 479.6575 46.07125 \nQ 479.6575 41.67125 475.2575 41.67125 \nL 374.2775 41.67125 \nQ 369.8775 41.67125 369.8775 46.07125 \nL 369.8775 139.059375 \nQ 369.8775 143.459375 374.2775 143.459375 \nz\n\" style=\"fill:#eaeaf2;opacity:0.8;stroke:#cccccc;stroke-linejoin:miter;\"/>\n    </g>\n    <g id=\"text_10\">\n     <!-- labels -->\n     <g style=\"fill:#262626;\" transform=\"translate(393.415625 67.65)scale(0.24 -0.24)\">\n      <defs>\n       <path d=\"M 14.703125 0 \nL 6.546875 0 \nL 6.546875 71.578125 \nL 15.328125 71.578125 \nL 15.328125 46.046875 \nQ 20.90625 53.03125 29.546875 53.03125 \nQ 34.328125 53.03125 38.59375 51.09375 \nQ 42.875 49.171875 45.625 45.671875 \nQ 48.390625 42.1875 49.953125 37.25 \nQ 51.515625 32.328125 51.515625 26.703125 \nQ 51.515625 13.375 44.921875 6.09375 \nQ 38.328125 -1.171875 29.109375 -1.171875 \nQ 19.921875 -1.171875 14.703125 6.5 \nz\nM 14.59375 26.3125 \nQ 14.59375 17 17.140625 12.84375 \nQ 21.296875 6.0625 28.375 6.0625 \nQ 34.125 6.0625 38.328125 11.0625 \nQ 42.53125 16.0625 42.53125 25.984375 \nQ 42.53125 36.140625 38.5 40.96875 \nQ 34.46875 45.796875 28.765625 45.796875 \nQ 23 45.796875 18.796875 40.796875 \nQ 14.59375 35.796875 14.59375 26.3125 \nz\n\" id=\"ArialMT-98\"/>\n      </defs>\n      <use xlink:href=\"#ArialMT-108\"/>\n      <use x=\"22.216797\" xlink:href=\"#ArialMT-97\"/>\n      <use x=\"77.832031\" xlink:href=\"#ArialMT-98\"/>\n      <use x=\"133.447266\" xlink:href=\"#ArialMT-101\"/>\n      <use x=\"189.0625\" xlink:href=\"#ArialMT-108\"/>\n      <use x=\"211.279297\" xlink:href=\"#ArialMT-115\"/>\n     </g>\n    </g>\n    <g id=\"PathCollection_4\">\n     <defs>\n      <path d=\"M 0 3 \nC 0.795609 3 1.55874 2.683901 2.12132 2.12132 \nC 2.683901 1.55874 3 0.795609 3 0 \nC 3 -0.795609 2.683901 -1.55874 2.12132 -2.12132 \nC 1.55874 -2.683901 0.795609 -3 0 -3 \nC -0.795609 -3 -1.55874 -2.683901 -2.12132 -2.12132 \nC -2.683901 -1.55874 -3 -0.795609 -3 0 \nC -3 0.795609 -2.683901 1.55874 -2.12132 2.12132 \nC -1.55874 2.683901 -0.795609 3 0 3 \nz\n\" id=\"mcf7b6e7e29\" style=\"stroke:#001c7f;\"/>\n     </defs>\n     <g>\n      <use style=\"fill:#001c7f;stroke:#001c7f;\" x=\"400.6775\" xlink:href=\"#mcf7b6e7e29\" y=\"93.392187\"/>\n     </g>\n    </g>\n    <g id=\"text_11\">\n     <!-- 0.0 -->\n     <g style=\"fill:#262626;\" transform=\"translate(440.2775 99.167187)scale(0.22 -0.22)\">\n      <use xlink:href=\"#ArialMT-48\"/>\n      <use x=\"55.615234\" xlink:href=\"#ArialMT-46\"/>\n      <use x=\"83.398438\" xlink:href=\"#ArialMT-48\"/>\n     </g>\n    </g>\n    <g id=\"PathCollection_5\">\n     <defs>\n      <path d=\"M 0 3 \nC 0.795609 3 1.55874 2.683901 2.12132 2.12132 \nC 2.683901 1.55874 3 0.795609 3 0 \nC 3 -0.795609 2.683901 -1.55874 2.12132 -2.12132 \nC 1.55874 -2.683901 0.795609 -3 0 -3 \nC -0.795609 -3 -1.55874 -2.683901 -2.12132 -2.12132 \nC -2.683901 -1.55874 -3 -0.795609 -3 0 \nC -3 0.795609 -2.683901 1.55874 -2.12132 2.12132 \nC -1.55874 2.683901 -0.795609 3 0 3 \nz\n\" id=\"mb68a06804c\" style=\"stroke:#b1400d;\"/>\n     </defs>\n     <g>\n      <use style=\"fill:#b1400d;stroke:#b1400d;\" x=\"400.6775\" xlink:href=\"#mb68a06804c\" y=\"124.511875\"/>\n     </g>\n    </g>\n    <g id=\"text_12\">\n     <!-- 1.0 -->\n     <g style=\"fill:#262626;\" transform=\"translate(440.2775 130.286875)scale(0.22 -0.22)\">\n      <use xlink:href=\"#ArialMT-49\"/>\n      <use x=\"55.615234\" xlink:href=\"#ArialMT-46\"/>\n      <use x=\"83.398438\" xlink:href=\"#ArialMT-48\"/>\n     </g>\n    </g>\n   </g>\n  </g>\n </g>\n <defs>\n  <clipPath id=\"pe1669969ce\">\n   <rect height=\"155.66\" width=\"318.66\" x=\"171.9975\" y=\"30.67125\"/>\n  </clipPath>\n </defs>\n</svg>\n",
      "image/png": "[encoded data removed]"
     },
     "metadata": {}
    }
   ],
   "source": [
    "# SMOTEENN\n",
    "sampling = imblearn.combine.SMOTEENN()\n",
    "X_smoteenn, y_smoteenn, df_smoteenn = process_smote(X=X_train, y=y_train, sampling=sampling) \n",
    "sns.set(font_scale=2)\n",
    "ax = sns.scatterplot(x='X1', y='X2', hue='labels', \n",
    "    data=df_smoteenn, palette=\"dark\")\n",
    "ax.set(title=\"Cluster visaliztion in the first two principal component domain\")\n",
    "plt.tight_layout()\n",
    "plt.savefig('../images/PCA_after_smoteenn.png')\n"
   ]
  },
  {
   "cell_type": "code",
   "execution_count": 7,
   "metadata": {},
   "outputs": [],
   "source": [
    "def custom_metric(A, B):\n",
    "    d = pd.DataFrame(classification_report(A, B, digits=2,\n",
    "                                        output_dict=True)).T\n",
    "    d = d.to_dict()\n",
    "    d['roc auc'] = roc_auc_score(A, B)\n",
    "    return d"
   ]
  },
  {
   "cell_type": "code",
   "execution_count": 8,
   "metadata": {},
   "outputs": [],
   "source": [
    "def process_lazypredict(X_train=None, y_train=None, X_test=None, y_test=None):\n",
    "    clf = LazyClassifier(verbose=0, ignore_warnings=True, custom_metric=custom_metric)\n",
    "    models, predictions = clf.fit(X_train, X_test, y_train, y_test)\n",
    "    return models"
   ]
  },
  {
   "cell_type": "code",
   "execution_count": 9,
   "metadata": {},
   "outputs": [
    {
     "output_type": "execute_result",
     "data": {
      "text/plain": [
       "(92, 1657)"
      ]
     },
     "metadata": {},
     "execution_count": 9
    }
   ],
   "source": [
    "X_test.toarray().shape"
   ]
  },
  {
   "cell_type": "code",
   "execution_count": 10,
   "metadata": {},
   "outputs": [
    {
     "output_type": "execute_result",
     "data": {
      "text/plain": [
       "(326, 1657)"
      ]
     },
     "metadata": {},
     "execution_count": 10
    }
   ],
   "source": [
    "X_smoteenn.toarray().shape"
   ]
  },
  {
   "cell_type": "code",
   "execution_count": 11,
   "metadata": {},
   "outputs": [
    {
     "output_type": "execute_result",
     "data": {
      "text/plain": [
       "(92,)"
      ]
     },
     "metadata": {},
     "execution_count": 11
    }
   ],
   "source": [
    "y_test.shape"
   ]
  },
  {
   "cell_type": "code",
   "execution_count": 12,
   "metadata": {},
   "outputs": [
    {
     "output_type": "stream",
     "name": "stderr",
     "text": [
      "100%|██████████| 30/30 [00:03<00:00,  9.49it/s]\n"
     ]
    }
   ],
   "source": [
    "models_smoteenn = process_lazypredict(X_train=X_smoteenn.toarray(), \n",
    "    y_train=y_smoteenn, X_test=X_test.toarray(), y_test=y_test)"
   ]
  },
  {
   "cell_type": "code",
   "execution_count": 13,
   "metadata": {},
   "outputs": [
    {
     "output_type": "execute_result",
     "data": {
      "text/plain": [
       "                               Accuracy  Balanced Accuracy  ROC AUC  F1 Score  \\\n",
       "Model                                                                           \n",
       "DecisionTreeClassifier             0.68               0.83     0.83      0.77   \n",
       "ExtraTreeClassifier                0.75               0.77     0.77      0.82   \n",
       "LinearDiscriminantAnalysis         0.54               0.76     0.76      0.66   \n",
       "LogisticRegression                 0.50               0.74     0.74      0.62   \n",
       "BaggingClassifier                  0.66               0.73     0.73      0.75   \n",
       "RandomForestClassifier             0.64               0.72     0.72      0.74   \n",
       "SGDClassifier                      0.74               0.67     0.67      0.81   \n",
       "Perceptron                         0.72               0.66     0.66      0.79   \n",
       "NearestCentroid                    0.52               0.65     0.65      0.64   \n",
       "ExtraTreesClassifier               0.70               0.65     0.65      0.78   \n",
       "GaussianNB                         0.87               0.65     0.65      0.89   \n",
       "RidgeClassifierCV                  0.49               0.64     0.64      0.61   \n",
       "CalibratedClassifierCV             0.48               0.63     0.63      0.60   \n",
       "LinearSVC                          0.82               0.62     0.62      0.86   \n",
       "XGBClassifier                      0.62               0.61     0.61      0.72   \n",
       "DummyClassifier                    0.25               0.60     0.60      0.33   \n",
       "RidgeClassifier                    0.40               0.59     0.59      0.52   \n",
       "PassiveAggressiveClassifier        0.83               0.53     0.53      0.86   \n",
       "KNeighborsClassifier               0.09               0.52     0.52      0.07   \n",
       "CheckingClassifier                 0.95               0.50     0.50      0.92   \n",
       "LabelPropagation                   0.95               0.50     0.50      0.92   \n",
       "QuadraticDiscriminantAnalysis      0.95               0.50     0.50      0.92   \n",
       "LabelSpreading                     0.95               0.50     0.50      0.92   \n",
       "BernoulliNB                        0.51               0.46     0.46      0.63   \n",
       "LGBMClassifier                     0.67               0.45     0.45      0.76   \n",
       "SVC                                0.83               0.44     0.44      0.86   \n",
       "AdaBoostClassifier                 0.64               0.43     0.43      0.74   \n",
       "\n",
       "                                                                   custom_metric  \\\n",
       "Model                                                                              \n",
       "DecisionTreeClassifier         {'precision': {'0.0': 1.0, '1.0': 0.1470588235...   \n",
       "ExtraTreeClassifier            {'precision': {'0.0': 0.9848484848484849, '1.0...   \n",
       "LinearDiscriminantAnalysis     {'precision': {'0.0': 1.0, '1.0': 0.1063829787...   \n",
       "LogisticRegression             {'precision': {'0.0': 1.0, '1.0': 0.0980392156...   \n",
       "BaggingClassifier              {'precision': {'0.0': 0.9827586206896551, '1.0...   \n",
       "RandomForestClassifier         {'precision': {'0.0': 0.9821428571428571, '1.0...   \n",
       "SGDClassifier                  {'precision': {'0.0': 0.9701492537313433, '1.0...   \n",
       "Perceptron                     {'precision': {'0.0': 0.9692307692307692, '1.0...   \n",
       "NearestCentroid                {'precision': {'0.0': 0.9777777777777777, '1.0...   \n",
       "ExtraTreesClassifier           {'precision': {'0.0': 0.9682539682539683, '1.0...   \n",
       "GaussianNB                     {'precision': {'0.0': 0.9629629629629629, '1.0...   \n",
       "RidgeClassifierCV              {'precision': {'0.0': 0.9761904761904762, '1.0...   \n",
       "CalibratedClassifierCV         {'precision': {'0.0': 0.975609756097561, '1.0'...   \n",
       "LinearSVC                      {'precision': {'0.0': 0.9605263157894737, '1.0...   \n",
       "XGBClassifier                  {'precision': {'0.0': 0.9642857142857143, '1.0...   \n",
       "DummyClassifier                {'precision': {'0.0': 1.0, '1.0': 0.0675675675...   \n",
       "RidgeClassifier                {'precision': {'0.0': 0.9705882352941176, '1.0...   \n",
       "PassiveAggressiveClassifier    {'precision': {'0.0': 0.9493670886075949, '1.0...   \n",
       "KNeighborsClassifier           {'precision': {'0.0': 1.0, '1.0': 0.0561797752...   \n",
       "CheckingClassifier             {'precision': {'0.0': 0.9456521739130435, '1.0...   \n",
       "LabelPropagation               {'precision': {'0.0': 0.9456521739130435, '1.0...   \n",
       "QuadraticDiscriminantAnalysis  {'precision': {'0.0': 0.9456521739130435, '1.0...   \n",
       "LabelSpreading                 {'precision': {'0.0': 0.9456521739130435, '1.0...   \n",
       "BernoulliNB                    {'precision': {'0.0': 0.9375, '1.0': 0.0454545...   \n",
       "LGBMClassifier                 {'precision': {'0.0': 0.9384615384615385, '1.0...   \n",
       "SVC                            {'precision': {'0.0': 0.9382716049382716, '1.0...   \n",
       "AdaBoostClassifier             {'precision': {'0.0': 0.9354838709677419, '1.0...   \n",
       "\n",
       "                               Time Taken  \n",
       "Model                                      \n",
       "DecisionTreeClassifier               0.05  \n",
       "ExtraTreeClassifier                  0.04  \n",
       "LinearDiscriminantAnalysis           0.15  \n",
       "LogisticRegression                   0.05  \n",
       "BaggingClassifier                    0.09  \n",
       "RandomForestClassifier               0.17  \n",
       "SGDClassifier                        0.06  \n",
       "Perceptron                           0.05  \n",
       "NearestCentroid                      0.04  \n",
       "ExtraTreesClassifier                 0.16  \n",
       "GaussianNB                           0.05  \n",
       "RidgeClassifierCV                    0.08  \n",
       "CalibratedClassifierCV               0.34  \n",
       "LinearSVC                            0.14  \n",
       "XGBClassifier                        0.26  \n",
       "DummyClassifier                      0.05  \n",
       "RidgeClassifier                      0.05  \n",
       "PassiveAggressiveClassifier          0.05  \n",
       "KNeighborsClassifier                 0.12  \n",
       "CheckingClassifier                   0.04  \n",
       "LabelPropagation                     0.04  \n",
       "QuadraticDiscriminantAnalysis        0.10  \n",
       "LabelSpreading                       0.05  \n",
       "BernoulliNB                          0.05  \n",
       "LGBMClassifier                       0.07  \n",
       "SVC                                  0.12  \n",
       "AdaBoostClassifier                   0.34  "
      ],
      "text/html": "<div>\n<style scoped>\n    .dataframe tbody tr th:only-of-type {\n        vertical-align: middle;\n    }\n\n    .dataframe tbody tr th {\n        vertical-align: top;\n    }\n\n    .dataframe thead th {\n        text-align: right;\n    }\n</style>\n<table border=\"1\" class=\"dataframe\">\n  <thead>\n    <tr style=\"text-align: right;\">\n      <th></th>\n      <th>Accuracy</th>\n      <th>Balanced Accuracy</th>\n      <th>ROC AUC</th>\n      <th>F1 Score</th>\n      <th>custom_metric</th>\n      <th>Time Taken</th>\n    </tr>\n    <tr>\n      <th>Model</th>\n      <th></th>\n      <th></th>\n      <th></th>\n      <th></th>\n      <th></th>\n      <th></th>\n    </tr>\n  </thead>\n  <tbody>\n    <tr>\n      <th>DecisionTreeClassifier</th>\n      <td>0.68</td>\n      <td>0.83</td>\n      <td>0.83</td>\n      <td>0.77</td>\n      <td>{'precision': {'0.0': 1.0, '1.0': 0.1470588235...</td>\n      <td>0.05</td>\n    </tr>\n    <tr>\n      <th>ExtraTreeClassifier</th>\n      <td>0.75</td>\n      <td>0.77</td>\n      <td>0.77</td>\n      <td>0.82</td>\n      <td>{'precision': {'0.0': 0.9848484848484849, '1.0...</td>\n      <td>0.04</td>\n    </tr>\n    <tr>\n      <th>LinearDiscriminantAnalysis</th>\n      <td>0.54</td>\n      <td>0.76</td>\n      <td>0.76</td>\n      <td>0.66</td>\n      <td>{'precision': {'0.0': 1.0, '1.0': 0.1063829787...</td>\n      <td>0.15</td>\n    </tr>\n    <tr>\n      <th>LogisticRegression</th>\n      <td>0.50</td>\n      <td>0.74</td>\n      <td>0.74</td>\n      <td>0.62</td>\n      <td>{'precision': {'0.0': 1.0, '1.0': 0.0980392156...</td>\n      <td>0.05</td>\n    </tr>\n    <tr>\n      <th>BaggingClassifier</th>\n      <td>0.66</td>\n      <td>0.73</td>\n      <td>0.73</td>\n      <td>0.75</td>\n      <td>{'precision': {'0.0': 0.9827586206896551, '1.0...</td>\n      <td>0.09</td>\n    </tr>\n    <tr>\n      <th>RandomForestClassifier</th>\n      <td>0.64</td>\n      <td>0.72</td>\n      <td>0.72</td>\n      <td>0.74</td>\n      <td>{'precision': {'0.0': 0.9821428571428571, '1.0...</td>\n      <td>0.17</td>\n    </tr>\n    <tr>\n      <th>SGDClassifier</th>\n      <td>0.74</td>\n      <td>0.67</td>\n      <td>0.67</td>\n      <td>0.81</td>\n      <td>{'precision': {'0.0': 0.9701492537313433, '1.0...</td>\n      <td>0.06</td>\n    </tr>\n    <tr>\n      <th>Perceptron</th>\n      <td>0.72</td>\n      <td>0.66</td>\n      <td>0.66</td>\n      <td>0.79</td>\n      <td>{'precision': {'0.0': 0.9692307692307692, '1.0...</td>\n      <td>0.05</td>\n    </tr>\n    <tr>\n      <th>NearestCentroid</th>\n      <td>0.52</td>\n      <td>0.65</td>\n      <td>0.65</td>\n      <td>0.64</td>\n      <td>{'precision': {'0.0': 0.9777777777777777, '1.0...</td>\n      <td>0.04</td>\n    </tr>\n    <tr>\n      <th>ExtraTreesClassifier</th>\n      <td>0.70</td>\n      <td>0.65</td>\n      <td>0.65</td>\n      <td>0.78</td>\n      <td>{'precision': {'0.0': 0.9682539682539683, '1.0...</td>\n      <td>0.16</td>\n    </tr>\n    <tr>\n      <th>GaussianNB</th>\n      <td>0.87</td>\n      <td>0.65</td>\n      <td>0.65</td>\n      <td>0.89</td>\n      <td>{'precision': {'0.0': 0.9629629629629629, '1.0...</td>\n      <td>0.05</td>\n    </tr>\n    <tr>\n      <th>RidgeClassifierCV</th>\n      <td>0.49</td>\n      <td>0.64</td>\n      <td>0.64</td>\n      <td>0.61</td>\n      <td>{'precision': {'0.0': 0.9761904761904762, '1.0...</td>\n      <td>0.08</td>\n    </tr>\n    <tr>\n      <th>CalibratedClassifierCV</th>\n      <td>0.48</td>\n      <td>0.63</td>\n      <td>0.63</td>\n      <td>0.60</td>\n      <td>{'precision': {'0.0': 0.975609756097561, '1.0'...</td>\n      <td>0.34</td>\n    </tr>\n    <tr>\n      <th>LinearSVC</th>\n      <td>0.82</td>\n      <td>0.62</td>\n      <td>0.62</td>\n      <td>0.86</td>\n      <td>{'precision': {'0.0': 0.9605263157894737, '1.0...</td>\n      <td>0.14</td>\n    </tr>\n    <tr>\n      <th>XGBClassifier</th>\n      <td>0.62</td>\n      <td>0.61</td>\n      <td>0.61</td>\n      <td>0.72</td>\n      <td>{'precision': {'0.0': 0.9642857142857143, '1.0...</td>\n      <td>0.26</td>\n    </tr>\n    <tr>\n      <th>DummyClassifier</th>\n      <td>0.25</td>\n      <td>0.60</td>\n      <td>0.60</td>\n      <td>0.33</td>\n      <td>{'precision': {'0.0': 1.0, '1.0': 0.0675675675...</td>\n      <td>0.05</td>\n    </tr>\n    <tr>\n      <th>RidgeClassifier</th>\n      <td>0.40</td>\n      <td>0.59</td>\n      <td>0.59</td>\n      <td>0.52</td>\n      <td>{'precision': {'0.0': 0.9705882352941176, '1.0...</td>\n      <td>0.05</td>\n    </tr>\n    <tr>\n      <th>PassiveAggressiveClassifier</th>\n      <td>0.83</td>\n      <td>0.53</td>\n      <td>0.53</td>\n      <td>0.86</td>\n      <td>{'precision': {'0.0': 0.9493670886075949, '1.0...</td>\n      <td>0.05</td>\n    </tr>\n    <tr>\n      <th>KNeighborsClassifier</th>\n      <td>0.09</td>\n      <td>0.52</td>\n      <td>0.52</td>\n      <td>0.07</td>\n      <td>{'precision': {'0.0': 1.0, '1.0': 0.0561797752...</td>\n      <td>0.12</td>\n    </tr>\n    <tr>\n      <th>CheckingClassifier</th>\n      <td>0.95</td>\n      <td>0.50</td>\n      <td>0.50</td>\n      <td>0.92</td>\n      <td>{'precision': {'0.0': 0.9456521739130435, '1.0...</td>\n      <td>0.04</td>\n    </tr>\n    <tr>\n      <th>LabelPropagation</th>\n      <td>0.95</td>\n      <td>0.50</td>\n      <td>0.50</td>\n      <td>0.92</td>\n      <td>{'precision': {'0.0': 0.9456521739130435, '1.0...</td>\n      <td>0.04</td>\n    </tr>\n    <tr>\n      <th>QuadraticDiscriminantAnalysis</th>\n      <td>0.95</td>\n      <td>0.50</td>\n      <td>0.50</td>\n      <td>0.92</td>\n      <td>{'precision': {'0.0': 0.9456521739130435, '1.0...</td>\n      <td>0.10</td>\n    </tr>\n    <tr>\n      <th>LabelSpreading</th>\n      <td>0.95</td>\n      <td>0.50</td>\n      <td>0.50</td>\n      <td>0.92</td>\n      <td>{'precision': {'0.0': 0.9456521739130435, '1.0...</td>\n      <td>0.05</td>\n    </tr>\n    <tr>\n      <th>BernoulliNB</th>\n      <td>0.51</td>\n      <td>0.46</td>\n      <td>0.46</td>\n      <td>0.63</td>\n      <td>{'precision': {'0.0': 0.9375, '1.0': 0.0454545...</td>\n      <td>0.05</td>\n    </tr>\n    <tr>\n      <th>LGBMClassifier</th>\n      <td>0.67</td>\n      <td>0.45</td>\n      <td>0.45</td>\n      <td>0.76</td>\n      <td>{'precision': {'0.0': 0.9384615384615385, '1.0...</td>\n      <td>0.07</td>\n    </tr>\n    <tr>\n      <th>SVC</th>\n      <td>0.83</td>\n      <td>0.44</td>\n      <td>0.44</td>\n      <td>0.86</td>\n      <td>{'precision': {'0.0': 0.9382716049382716, '1.0...</td>\n      <td>0.12</td>\n    </tr>\n    <tr>\n      <th>AdaBoostClassifier</th>\n      <td>0.64</td>\n      <td>0.43</td>\n      <td>0.43</td>\n      <td>0.74</td>\n      <td>{'precision': {'0.0': 0.9354838709677419, '1.0...</td>\n      <td>0.34</td>\n    </tr>\n  </tbody>\n</table>\n</div>"
     },
     "metadata": {},
     "execution_count": 13
    }
   ],
   "source": [
    "models_smoteenn"
   ]
  },
  {
   "cell_type": "code",
   "execution_count": 14,
   "metadata": {},
   "outputs": [
    {
     "output_type": "execute_result",
     "data": {
      "text/plain": [
       "                               Accuracy  Balanced Accuracy  ROC AUC  F1 Score  \\\n",
       "Model                                                                           \n",
       "DecisionTreeClassifier             0.68               0.83     0.83      0.77   \n",
       "ExtraTreeClassifier                0.75               0.77     0.77      0.82   \n",
       "LinearDiscriminantAnalysis         0.54               0.76     0.76      0.66   \n",
       "LogisticRegression                 0.50               0.74     0.74      0.62   \n",
       "BaggingClassifier                  0.66               0.73     0.73      0.75   \n",
       "RandomForestClassifier             0.64               0.72     0.72      0.74   \n",
       "SGDClassifier                      0.74               0.67     0.67      0.81   \n",
       "Perceptron                         0.72               0.66     0.66      0.79   \n",
       "NearestCentroid                    0.52               0.65     0.65      0.64   \n",
       "ExtraTreesClassifier               0.70               0.65     0.65      0.78   \n",
       "GaussianNB                         0.87               0.65     0.65      0.89   \n",
       "RidgeClassifierCV                  0.49               0.64     0.64      0.61   \n",
       "CalibratedClassifierCV             0.48               0.63     0.63      0.60   \n",
       "LinearSVC                          0.82               0.62     0.62      0.86   \n",
       "XGBClassifier                      0.62               0.61     0.61      0.72   \n",
       "DummyClassifier                    0.25               0.60     0.60      0.33   \n",
       "RidgeClassifier                    0.40               0.59     0.59      0.52   \n",
       "PassiveAggressiveClassifier        0.83               0.53     0.53      0.86   \n",
       "KNeighborsClassifier               0.09               0.52     0.52      0.07   \n",
       "CheckingClassifier                 0.95               0.50     0.50      0.92   \n",
       "LabelPropagation                   0.95               0.50     0.50      0.92   \n",
       "QuadraticDiscriminantAnalysis      0.95               0.50     0.50      0.92   \n",
       "LabelSpreading                     0.95               0.50     0.50      0.92   \n",
       "BernoulliNB                        0.51               0.46     0.46      0.63   \n",
       "LGBMClassifier                     0.67               0.45     0.45      0.76   \n",
       "SVC                                0.83               0.44     0.44      0.86   \n",
       "AdaBoostClassifier                 0.64               0.43     0.43      0.74   \n",
       "\n",
       "                               Time Taken  Precision_0  Precision_1  Recall_0  \\\n",
       "Model                                                                           \n",
       "DecisionTreeClassifier               0.05         1.00         0.15      0.67   \n",
       "ExtraTreeClassifier                  0.04         0.98         0.15      0.75   \n",
       "LinearDiscriminantAnalysis           0.15         1.00         0.11      0.52   \n",
       "LogisticRegression                   0.05         1.00         0.10      0.47   \n",
       "BaggingClassifier                    0.09         0.98         0.12      0.66   \n",
       "RandomForestClassifier               0.17         0.98         0.11      0.63   \n",
       "SGDClassifier                        0.06         0.97         0.12      0.75   \n",
       "Perceptron                           0.05         0.97         0.11      0.72   \n",
       "NearestCentroid                      0.04         0.98         0.09      0.51   \n",
       "ExtraTreesClassifier                 0.16         0.97         0.10      0.70   \n",
       "GaussianNB                           0.05         0.96         0.18      0.90   \n",
       "RidgeClassifierCV                    0.08         0.98         0.08      0.47   \n",
       "CalibratedClassifierCV               0.34         0.98         0.08      0.46   \n",
       "LinearSVC                            0.14         0.96         0.12      0.84   \n",
       "XGBClassifier                        0.26         0.96         0.08      0.62   \n",
       "DummyClassifier                      0.05         1.00         0.07      0.21   \n",
       "RidgeClassifier                      0.05         0.97         0.07      0.38   \n",
       "PassiveAggressiveClassifier          0.05         0.95         0.08      0.86   \n",
       "KNeighborsClassifier                 0.12         1.00         0.06      0.03   \n",
       "CheckingClassifier                   0.04         0.95         0.00      1.00   \n",
       "LabelPropagation                     0.04         0.95         0.00      1.00   \n",
       "QuadraticDiscriminantAnalysis        0.10         0.95         0.00      1.00   \n",
       "LabelSpreading                       0.05         0.95         0.00      1.00   \n",
       "BernoulliNB                          0.05         0.94         0.05      0.52   \n",
       "LGBMClassifier                       0.07         0.94         0.04      0.70   \n",
       "SVC                                  0.12         0.94         0.00      0.87   \n",
       "AdaBoostClassifier                   0.34         0.94         0.03      0.67   \n",
       "\n",
       "                               Recall_1  F1_0  F1_1  ROC_AUC  \n",
       "Model                                                         \n",
       "DecisionTreeClassifier             1.00  0.80  0.26     0.83  \n",
       "ExtraTreeClassifier                0.80  0.85  0.26     0.77  \n",
       "LinearDiscriminantAnalysis         1.00  0.68  0.19     0.76  \n",
       "LogisticRegression                 1.00  0.64  0.18     0.74  \n",
       "BaggingClassifier                  0.80  0.79  0.21     0.73  \n",
       "RandomForestClassifier             0.80  0.77  0.20     0.72  \n",
       "SGDClassifier                      0.60  0.84  0.20     0.67  \n",
       "Perceptron                         0.60  0.83  0.19     0.66  \n",
       "NearestCentroid                    0.80  0.67  0.15     0.65  \n",
       "ExtraTreesClassifier               0.60  0.81  0.18     0.65  \n",
       "GaussianNB                         0.40  0.93  0.25     0.65  \n",
       "RidgeClassifierCV                  0.80  0.64  0.15     0.64  \n",
       "CalibratedClassifierCV             0.80  0.62  0.14     0.63  \n",
       "LinearSVC                          0.40  0.90  0.19     0.62  \n",
       "XGBClassifier                      0.60  0.76  0.15     0.61  \n",
       "DummyClassifier                    1.00  0.34  0.13     0.60  \n",
       "RidgeClassifier                    0.80  0.55  0.13     0.59  \n",
       "PassiveAggressiveClassifier        0.20  0.90  0.11     0.53  \n",
       "KNeighborsClassifier               1.00  0.07  0.11     0.52  \n",
       "CheckingClassifier                 0.00  0.97  0.00     0.50  \n",
       "LabelPropagation                   0.00  0.97  0.00     0.50  \n",
       "QuadraticDiscriminantAnalysis      0.00  0.97  0.00     0.50  \n",
       "LabelSpreading                     0.00  0.97  0.00     0.50  \n",
       "BernoulliNB                        0.40  0.67  0.08     0.46  \n",
       "LGBMClassifier                     0.20  0.80  0.06     0.45  \n",
       "SVC                                0.00  0.90  0.00     0.44  \n",
       "AdaBoostClassifier                 0.20  0.78  0.06     0.43  "
      ],
      "text/html": "<div>\n<style scoped>\n    .dataframe tbody tr th:only-of-type {\n        vertical-align: middle;\n    }\n\n    .dataframe tbody tr th {\n        vertical-align: top;\n    }\n\n    .dataframe thead th {\n        text-align: right;\n    }\n</style>\n<table border=\"1\" class=\"dataframe\">\n  <thead>\n    <tr style=\"text-align: right;\">\n      <th></th>\n      <th>Accuracy</th>\n      <th>Balanced Accuracy</th>\n      <th>ROC AUC</th>\n      <th>F1 Score</th>\n      <th>Time Taken</th>\n      <th>Precision_0</th>\n      <th>Precision_1</th>\n      <th>Recall_0</th>\n      <th>Recall_1</th>\n      <th>F1_0</th>\n      <th>F1_1</th>\n      <th>ROC_AUC</th>\n    </tr>\n    <tr>\n      <th>Model</th>\n      <th></th>\n      <th></th>\n      <th></th>\n      <th></th>\n      <th></th>\n      <th></th>\n      <th></th>\n      <th></th>\n      <th></th>\n      <th></th>\n      <th></th>\n      <th></th>\n    </tr>\n  </thead>\n  <tbody>\n    <tr>\n      <th>DecisionTreeClassifier</th>\n      <td>0.68</td>\n      <td>0.83</td>\n      <td>0.83</td>\n      <td>0.77</td>\n      <td>0.05</td>\n      <td>1.00</td>\n      <td>0.15</td>\n      <td>0.67</td>\n      <td>1.00</td>\n      <td>0.80</td>\n      <td>0.26</td>\n      <td>0.83</td>\n    </tr>\n    <tr>\n      <th>ExtraTreeClassifier</th>\n      <td>0.75</td>\n      <td>0.77</td>\n      <td>0.77</td>\n      <td>0.82</td>\n      <td>0.04</td>\n      <td>0.98</td>\n      <td>0.15</td>\n      <td>0.75</td>\n      <td>0.80</td>\n      <td>0.85</td>\n      <td>0.26</td>\n      <td>0.77</td>\n    </tr>\n    <tr>\n      <th>LinearDiscriminantAnalysis</th>\n      <td>0.54</td>\n      <td>0.76</td>\n      <td>0.76</td>\n      <td>0.66</td>\n      <td>0.15</td>\n      <td>1.00</td>\n      <td>0.11</td>\n      <td>0.52</td>\n      <td>1.00</td>\n      <td>0.68</td>\n      <td>0.19</td>\n      <td>0.76</td>\n    </tr>\n    <tr>\n      <th>LogisticRegression</th>\n      <td>0.50</td>\n      <td>0.74</td>\n      <td>0.74</td>\n      <td>0.62</td>\n      <td>0.05</td>\n      <td>1.00</td>\n      <td>0.10</td>\n      <td>0.47</td>\n      <td>1.00</td>\n      <td>0.64</td>\n      <td>0.18</td>\n      <td>0.74</td>\n    </tr>\n    <tr>\n      <th>BaggingClassifier</th>\n      <td>0.66</td>\n      <td>0.73</td>\n      <td>0.73</td>\n      <td>0.75</td>\n      <td>0.09</td>\n      <td>0.98</td>\n      <td>0.12</td>\n      <td>0.66</td>\n      <td>0.80</td>\n      <td>0.79</td>\n      <td>0.21</td>\n      <td>0.73</td>\n    </tr>\n    <tr>\n      <th>RandomForestClassifier</th>\n      <td>0.64</td>\n      <td>0.72</td>\n      <td>0.72</td>\n      <td>0.74</td>\n      <td>0.17</td>\n      <td>0.98</td>\n      <td>0.11</td>\n      <td>0.63</td>\n      <td>0.80</td>\n      <td>0.77</td>\n      <td>0.20</td>\n      <td>0.72</td>\n    </tr>\n    <tr>\n      <th>SGDClassifier</th>\n      <td>0.74</td>\n      <td>0.67</td>\n      <td>0.67</td>\n      <td>0.81</td>\n      <td>0.06</td>\n      <td>0.97</td>\n      <td>0.12</td>\n      <td>0.75</td>\n      <td>0.60</td>\n      <td>0.84</td>\n      <td>0.20</td>\n      <td>0.67</td>\n    </tr>\n    <tr>\n      <th>Perceptron</th>\n      <td>0.72</td>\n      <td>0.66</td>\n      <td>0.66</td>\n      <td>0.79</td>\n      <td>0.05</td>\n      <td>0.97</td>\n      <td>0.11</td>\n      <td>0.72</td>\n      <td>0.60</td>\n      <td>0.83</td>\n      <td>0.19</td>\n      <td>0.66</td>\n    </tr>\n    <tr>\n      <th>NearestCentroid</th>\n      <td>0.52</td>\n      <td>0.65</td>\n      <td>0.65</td>\n      <td>0.64</td>\n      <td>0.04</td>\n      <td>0.98</td>\n      <td>0.09</td>\n      <td>0.51</td>\n      <td>0.80</td>\n      <td>0.67</td>\n      <td>0.15</td>\n      <td>0.65</td>\n    </tr>\n    <tr>\n      <th>ExtraTreesClassifier</th>\n      <td>0.70</td>\n      <td>0.65</td>\n      <td>0.65</td>\n      <td>0.78</td>\n      <td>0.16</td>\n      <td>0.97</td>\n      <td>0.10</td>\n      <td>0.70</td>\n      <td>0.60</td>\n      <td>0.81</td>\n      <td>0.18</td>\n      <td>0.65</td>\n    </tr>\n    <tr>\n      <th>GaussianNB</th>\n      <td>0.87</td>\n      <td>0.65</td>\n      <td>0.65</td>\n      <td>0.89</td>\n      <td>0.05</td>\n      <td>0.96</td>\n      <td>0.18</td>\n      <td>0.90</td>\n      <td>0.40</td>\n      <td>0.93</td>\n      <td>0.25</td>\n      <td>0.65</td>\n    </tr>\n    <tr>\n      <th>RidgeClassifierCV</th>\n      <td>0.49</td>\n      <td>0.64</td>\n      <td>0.64</td>\n      <td>0.61</td>\n      <td>0.08</td>\n      <td>0.98</td>\n      <td>0.08</td>\n      <td>0.47</td>\n      <td>0.80</td>\n      <td>0.64</td>\n      <td>0.15</td>\n      <td>0.64</td>\n    </tr>\n    <tr>\n      <th>CalibratedClassifierCV</th>\n      <td>0.48</td>\n      <td>0.63</td>\n      <td>0.63</td>\n      <td>0.60</td>\n      <td>0.34</td>\n      <td>0.98</td>\n      <td>0.08</td>\n      <td>0.46</td>\n      <td>0.80</td>\n      <td>0.62</td>\n      <td>0.14</td>\n      <td>0.63</td>\n    </tr>\n    <tr>\n      <th>LinearSVC</th>\n      <td>0.82</td>\n      <td>0.62</td>\n      <td>0.62</td>\n      <td>0.86</td>\n      <td>0.14</td>\n      <td>0.96</td>\n      <td>0.12</td>\n      <td>0.84</td>\n      <td>0.40</td>\n      <td>0.90</td>\n      <td>0.19</td>\n      <td>0.62</td>\n    </tr>\n    <tr>\n      <th>XGBClassifier</th>\n      <td>0.62</td>\n      <td>0.61</td>\n      <td>0.61</td>\n      <td>0.72</td>\n      <td>0.26</td>\n      <td>0.96</td>\n      <td>0.08</td>\n      <td>0.62</td>\n      <td>0.60</td>\n      <td>0.76</td>\n      <td>0.15</td>\n      <td>0.61</td>\n    </tr>\n    <tr>\n      <th>DummyClassifier</th>\n      <td>0.25</td>\n      <td>0.60</td>\n      <td>0.60</td>\n      <td>0.33</td>\n      <td>0.05</td>\n      <td>1.00</td>\n      <td>0.07</td>\n      <td>0.21</td>\n      <td>1.00</td>\n      <td>0.34</td>\n      <td>0.13</td>\n      <td>0.60</td>\n    </tr>\n    <tr>\n      <th>RidgeClassifier</th>\n      <td>0.40</td>\n      <td>0.59</td>\n      <td>0.59</td>\n      <td>0.52</td>\n      <td>0.05</td>\n      <td>0.97</td>\n      <td>0.07</td>\n      <td>0.38</td>\n      <td>0.80</td>\n      <td>0.55</td>\n      <td>0.13</td>\n      <td>0.59</td>\n    </tr>\n    <tr>\n      <th>PassiveAggressiveClassifier</th>\n      <td>0.83</td>\n      <td>0.53</td>\n      <td>0.53</td>\n      <td>0.86</td>\n      <td>0.05</td>\n      <td>0.95</td>\n      <td>0.08</td>\n      <td>0.86</td>\n      <td>0.20</td>\n      <td>0.90</td>\n      <td>0.11</td>\n      <td>0.53</td>\n    </tr>\n    <tr>\n      <th>KNeighborsClassifier</th>\n      <td>0.09</td>\n      <td>0.52</td>\n      <td>0.52</td>\n      <td>0.07</td>\n      <td>0.12</td>\n      <td>1.00</td>\n      <td>0.06</td>\n      <td>0.03</td>\n      <td>1.00</td>\n      <td>0.07</td>\n      <td>0.11</td>\n      <td>0.52</td>\n    </tr>\n    <tr>\n      <th>CheckingClassifier</th>\n      <td>0.95</td>\n      <td>0.50</td>\n      <td>0.50</td>\n      <td>0.92</td>\n      <td>0.04</td>\n      <td>0.95</td>\n      <td>0.00</td>\n      <td>1.00</td>\n      <td>0.00</td>\n      <td>0.97</td>\n      <td>0.00</td>\n      <td>0.50</td>\n    </tr>\n    <tr>\n      <th>LabelPropagation</th>\n      <td>0.95</td>\n      <td>0.50</td>\n      <td>0.50</td>\n      <td>0.92</td>\n      <td>0.04</td>\n      <td>0.95</td>\n      <td>0.00</td>\n      <td>1.00</td>\n      <td>0.00</td>\n      <td>0.97</td>\n      <td>0.00</td>\n      <td>0.50</td>\n    </tr>\n    <tr>\n      <th>QuadraticDiscriminantAnalysis</th>\n      <td>0.95</td>\n      <td>0.50</td>\n      <td>0.50</td>\n      <td>0.92</td>\n      <td>0.10</td>\n      <td>0.95</td>\n      <td>0.00</td>\n      <td>1.00</td>\n      <td>0.00</td>\n      <td>0.97</td>\n      <td>0.00</td>\n      <td>0.50</td>\n    </tr>\n    <tr>\n      <th>LabelSpreading</th>\n      <td>0.95</td>\n      <td>0.50</td>\n      <td>0.50</td>\n      <td>0.92</td>\n      <td>0.05</td>\n      <td>0.95</td>\n      <td>0.00</td>\n      <td>1.00</td>\n      <td>0.00</td>\n      <td>0.97</td>\n      <td>0.00</td>\n      <td>0.50</td>\n    </tr>\n    <tr>\n      <th>BernoulliNB</th>\n      <td>0.51</td>\n      <td>0.46</td>\n      <td>0.46</td>\n      <td>0.63</td>\n      <td>0.05</td>\n      <td>0.94</td>\n      <td>0.05</td>\n      <td>0.52</td>\n      <td>0.40</td>\n      <td>0.67</td>\n      <td>0.08</td>\n      <td>0.46</td>\n    </tr>\n    <tr>\n      <th>LGBMClassifier</th>\n      <td>0.67</td>\n      <td>0.45</td>\n      <td>0.45</td>\n      <td>0.76</td>\n      <td>0.07</td>\n      <td>0.94</td>\n      <td>0.04</td>\n      <td>0.70</td>\n      <td>0.20</td>\n      <td>0.80</td>\n      <td>0.06</td>\n      <td>0.45</td>\n    </tr>\n    <tr>\n      <th>SVC</th>\n      <td>0.83</td>\n      <td>0.44</td>\n      <td>0.44</td>\n      <td>0.86</td>\n      <td>0.12</td>\n      <td>0.94</td>\n      <td>0.00</td>\n      <td>0.87</td>\n      <td>0.00</td>\n      <td>0.90</td>\n      <td>0.00</td>\n      <td>0.44</td>\n    </tr>\n    <tr>\n      <th>AdaBoostClassifier</th>\n      <td>0.64</td>\n      <td>0.43</td>\n      <td>0.43</td>\n      <td>0.74</td>\n      <td>0.34</td>\n      <td>0.94</td>\n      <td>0.03</td>\n      <td>0.67</td>\n      <td>0.20</td>\n      <td>0.78</td>\n      <td>0.06</td>\n      <td>0.43</td>\n    </tr>\n  </tbody>\n</table>\n</div>"
     },
     "metadata": {},
     "execution_count": 14
    }
   ],
   "source": [
    "models_smoteenn['Precision_0'] = models_smoteenn['custom_metric'].apply(lambda x: x['precision']['0.0'])\n",
    "models_smoteenn['Precision_1'] = models_smoteenn['custom_metric'].apply(lambda x: x['precision']['1.0'])\n",
    "models_smoteenn['Recall_0'] = models_smoteenn['custom_metric'].apply(lambda x: x['recall']['0.0'])\n",
    "models_smoteenn['Recall_1'] = models_smoteenn['custom_metric'].apply(lambda x: x['recall']['1.0'])\n",
    "models_smoteenn['F1_0'] = models_smoteenn['custom_metric'].apply(lambda x: x['f1-score']['0.0'])\n",
    "models_smoteenn['F1_1'] = models_smoteenn['custom_metric'].apply(lambda x: x['f1-score']['1.0'])\n",
    "models_smoteenn['ROC_AUC'] = models_smoteenn['custom_metric'].apply(lambda x: x['roc auc'])\n",
    "models_smoteenn.drop('custom_metric', axis=1, inplace=True)\n",
    "models_smoteenn"
   ]
  },
  {
   "cell_type": "code",
   "execution_count": 15,
   "metadata": {},
   "outputs": [
    {
     "output_type": "execute_result",
     "data": {
      "text/plain": [
       "<pandas.io.formats.style.Styler at 0x7fa3faca38e0>"
      ],
      "text/html": "<style  type=\"text/css\" >\n#T_514c4_row0_col0,#T_514c4_row0_col3,#T_514c4_row0_col6,#T_514c4_row1_col1,#T_514c4_row1_col2,#T_514c4_row1_col4,#T_514c4_row1_col5,#T_514c4_row2_col0,#T_514c4_row2_col3,#T_514c4_row3_col0,#T_514c4_row3_col3{\n            background-color:  #023858;\n            color:  #f1f1f1;\n        }#T_514c4_row0_col1{\n            background-color:  #04598c;\n            color:  #f1f1f1;\n        }#T_514c4_row0_col2{\n            background-color:  #157ab5;\n            color:  #000000;\n        }#T_514c4_row0_col4{\n            background-color:  #056dac;\n            color:  #f1f1f1;\n        }#T_514c4_row0_col5{\n            background-color:  #023d60;\n            color:  #f1f1f1;\n        }#T_514c4_row1_col0{\n            background-color:  #ede7f2;\n            color:  #000000;\n        }#T_514c4_row1_col3,#T_514c4_row3_col1,#T_514c4_row3_col2,#T_514c4_row3_col4,#T_514c4_row3_col5,#T_514c4_row4_col0,#T_514c4_row4_col3,#T_514c4_row4_col6{\n            background-color:  #fff7fb;\n            color:  #000000;\n        }#T_514c4_row1_col6{\n            background-color:  #8eb3d5;\n            color:  #000000;\n        }#T_514c4_row2_col1{\n            background-color:  #e7e3f0;\n            color:  #000000;\n        }#T_514c4_row2_col2{\n            background-color:  #e3e0ee;\n            color:  #000000;\n        }#T_514c4_row2_col4{\n            background-color:  #dcdaeb;\n            color:  #000000;\n        }#T_514c4_row2_col5{\n            background-color:  #e1dfed;\n            color:  #000000;\n        }#T_514c4_row2_col6{\n            background-color:  #c1cae2;\n            color:  #000000;\n        }#T_514c4_row3_col6{\n            background-color:  #f4edf6;\n            color:  #000000;\n        }#T_514c4_row4_col1{\n            background-color:  #afc1dd;\n            color:  #000000;\n        }#T_514c4_row4_col2{\n            background-color:  #2685bb;\n            color:  #000000;\n        }#T_514c4_row4_col4{\n            background-color:  #197db7;\n            color:  #000000;\n        }#T_514c4_row4_col5{\n            background-color:  #b4c4df;\n            color:  #000000;\n        }</style><table id=\"T_514c4_\" ><thead>    <tr>        <th class=\"blank level0\" ></th>        <th class=\"col_heading level0 col0\" >Precision_0</th>        <th class=\"col_heading level0 col1\" >Precision_1</th>        <th class=\"col_heading level0 col2\" >Recall_0</th>        <th class=\"col_heading level0 col3\" >Recall_1</th>        <th class=\"col_heading level0 col4\" >F1_0</th>        <th class=\"col_heading level0 col5\" >F1_1</th>        <th class=\"col_heading level0 col6\" >ROC AUC</th>    </tr>    <tr>        <th class=\"index_name level0\" >Model</th>        <th class=\"blank\" ></th>        <th class=\"blank\" ></th>        <th class=\"blank\" ></th>        <th class=\"blank\" ></th>        <th class=\"blank\" ></th>        <th class=\"blank\" ></th>        <th class=\"blank\" ></th>    </tr></thead><tbody>\n                <tr>\n                        <th id=\"T_514c4_level0_row0\" class=\"row_heading level0 row0\" >DecisionTreeClassifier</th>\n                        <td id=\"T_514c4_row0_col0\" class=\"data row0 col0\" >1.00</td>\n                        <td id=\"T_514c4_row0_col1\" class=\"data row0 col1\" >0.15</td>\n                        <td id=\"T_514c4_row0_col2\" class=\"data row0 col2\" >0.67</td>\n                        <td id=\"T_514c4_row0_col3\" class=\"data row0 col3\" >1.00</td>\n                        <td id=\"T_514c4_row0_col4\" class=\"data row0 col4\" >0.80</td>\n                        <td id=\"T_514c4_row0_col5\" class=\"data row0 col5\" >0.26</td>\n                        <td id=\"T_514c4_row0_col6\" class=\"data row0 col6\" >0.83</td>\n            </tr>\n            <tr>\n                        <th id=\"T_514c4_level0_row1\" class=\"row_heading level0 row1\" >ExtraTreeClassifier</th>\n                        <td id=\"T_514c4_row1_col0\" class=\"data row1 col0\" >0.98</td>\n                        <td id=\"T_514c4_row1_col1\" class=\"data row1 col1\" >0.15</td>\n                        <td id=\"T_514c4_row1_col2\" class=\"data row1 col2\" >0.75</td>\n                        <td id=\"T_514c4_row1_col3\" class=\"data row1 col3\" >0.80</td>\n                        <td id=\"T_514c4_row1_col4\" class=\"data row1 col4\" >0.85</td>\n                        <td id=\"T_514c4_row1_col5\" class=\"data row1 col5\" >0.26</td>\n                        <td id=\"T_514c4_row1_col6\" class=\"data row1 col6\" >0.77</td>\n            </tr>\n            <tr>\n                        <th id=\"T_514c4_level0_row2\" class=\"row_heading level0 row2\" >LinearDiscriminantAnalysis</th>\n                        <td id=\"T_514c4_row2_col0\" class=\"data row2 col0\" >1.00</td>\n                        <td id=\"T_514c4_row2_col1\" class=\"data row2 col1\" >0.11</td>\n                        <td id=\"T_514c4_row2_col2\" class=\"data row2 col2\" >0.52</td>\n                        <td id=\"T_514c4_row2_col3\" class=\"data row2 col3\" >1.00</td>\n                        <td id=\"T_514c4_row2_col4\" class=\"data row2 col4\" >0.68</td>\n                        <td id=\"T_514c4_row2_col5\" class=\"data row2 col5\" >0.19</td>\n                        <td id=\"T_514c4_row2_col6\" class=\"data row2 col6\" >0.76</td>\n            </tr>\n            <tr>\n                        <th id=\"T_514c4_level0_row3\" class=\"row_heading level0 row3\" >LogisticRegression</th>\n                        <td id=\"T_514c4_row3_col0\" class=\"data row3 col0\" >1.00</td>\n                        <td id=\"T_514c4_row3_col1\" class=\"data row3 col1\" >0.10</td>\n                        <td id=\"T_514c4_row3_col2\" class=\"data row3 col2\" >0.47</td>\n                        <td id=\"T_514c4_row3_col3\" class=\"data row3 col3\" >1.00</td>\n                        <td id=\"T_514c4_row3_col4\" class=\"data row3 col4\" >0.64</td>\n                        <td id=\"T_514c4_row3_col5\" class=\"data row3 col5\" >0.18</td>\n                        <td id=\"T_514c4_row3_col6\" class=\"data row3 col6\" >0.74</td>\n            </tr>\n            <tr>\n                        <th id=\"T_514c4_level0_row4\" class=\"row_heading level0 row4\" >BaggingClassifier</th>\n                        <td id=\"T_514c4_row4_col0\" class=\"data row4 col0\" >0.98</td>\n                        <td id=\"T_514c4_row4_col1\" class=\"data row4 col1\" >0.12</td>\n                        <td id=\"T_514c4_row4_col2\" class=\"data row4 col2\" >0.66</td>\n                        <td id=\"T_514c4_row4_col3\" class=\"data row4 col3\" >0.80</td>\n                        <td id=\"T_514c4_row4_col4\" class=\"data row4 col4\" >0.79</td>\n                        <td id=\"T_514c4_row4_col5\" class=\"data row4 col5\" >0.21</td>\n                        <td id=\"T_514c4_row4_col6\" class=\"data row4 col6\" >0.73</td>\n            </tr>\n    </tbody></table>"
     },
     "metadata": {},
     "execution_count": 15
    }
   ],
   "source": [
    "models_smoteenn[['Precision_0', 'Precision_1', 'Recall_0', 'Recall_1', 'F1_0', 'F1_1', 'ROC AUC']].head(5).style.background_gradient(cmap='PuBu')"
   ]
  },
  {
   "cell_type": "code",
   "execution_count": 16,
   "metadata": {},
   "outputs": [
    {
     "output_type": "execute_result",
     "data": {
      "text/plain": [
       "                               Accuracy  Balanced Accuracy  ROC AUC  F1 Score  \\\n",
       "Model                                                                           \n",
       "DecisionTreeClassifier             0.68               0.83     0.83      0.77   \n",
       "ExtraTreeClassifier                0.75               0.77     0.77      0.82   \n",
       "LinearDiscriminantAnalysis         0.54               0.76     0.76      0.66   \n",
       "LogisticRegression                 0.50               0.74     0.74      0.62   \n",
       "BaggingClassifier                  0.66               0.73     0.73      0.75   \n",
       "RandomForestClassifier             0.64               0.72     0.72      0.74   \n",
       "SGDClassifier                      0.74               0.67     0.67      0.81   \n",
       "Perceptron                         0.72               0.66     0.66      0.79   \n",
       "NearestCentroid                    0.52               0.65     0.65      0.64   \n",
       "ExtraTreesClassifier               0.70               0.65     0.65      0.78   \n",
       "GaussianNB                         0.87               0.65     0.65      0.89   \n",
       "RidgeClassifierCV                  0.49               0.64     0.64      0.61   \n",
       "CalibratedClassifierCV             0.48               0.63     0.63      0.60   \n",
       "LinearSVC                          0.82               0.62     0.62      0.86   \n",
       "XGBClassifier                      0.62               0.61     0.61      0.72   \n",
       "DummyClassifier                    0.25               0.60     0.60      0.33   \n",
       "RidgeClassifier                    0.40               0.59     0.59      0.52   \n",
       "PassiveAggressiveClassifier        0.83               0.53     0.53      0.86   \n",
       "KNeighborsClassifier               0.09               0.52     0.52      0.07   \n",
       "CheckingClassifier                 0.95               0.50     0.50      0.92   \n",
       "LabelPropagation                   0.95               0.50     0.50      0.92   \n",
       "QuadraticDiscriminantAnalysis      0.95               0.50     0.50      0.92   \n",
       "LabelSpreading                     0.95               0.50     0.50      0.92   \n",
       "BernoulliNB                        0.51               0.46     0.46      0.63   \n",
       "LGBMClassifier                     0.67               0.45     0.45      0.76   \n",
       "SVC                                0.83               0.44     0.44      0.86   \n",
       "AdaBoostClassifier                 0.64               0.43     0.43      0.74   \n",
       "\n",
       "                               Time Taken  Precision_0  Precision_1  Recall_0  \\\n",
       "Model                                                                           \n",
       "DecisionTreeClassifier               0.05         1.00         0.15      0.67   \n",
       "ExtraTreeClassifier                  0.04         0.98         0.15      0.75   \n",
       "LinearDiscriminantAnalysis           0.15         1.00         0.11      0.52   \n",
       "LogisticRegression                   0.05         1.00         0.10      0.47   \n",
       "BaggingClassifier                    0.09         0.98         0.12      0.66   \n",
       "RandomForestClassifier               0.17         0.98         0.11      0.63   \n",
       "SGDClassifier                        0.06         0.97         0.12      0.75   \n",
       "Perceptron                           0.05         0.97         0.11      0.72   \n",
       "NearestCentroid                      0.04         0.98         0.09      0.51   \n",
       "ExtraTreesClassifier                 0.16         0.97         0.10      0.70   \n",
       "GaussianNB                           0.05         0.96         0.18      0.90   \n",
       "RidgeClassifierCV                    0.08         0.98         0.08      0.47   \n",
       "CalibratedClassifierCV               0.34         0.98         0.08      0.46   \n",
       "LinearSVC                            0.14         0.96         0.12      0.84   \n",
       "XGBClassifier                        0.26         0.96         0.08      0.62   \n",
       "DummyClassifier                      0.05         1.00         0.07      0.21   \n",
       "RidgeClassifier                      0.05         0.97         0.07      0.38   \n",
       "PassiveAggressiveClassifier          0.05         0.95         0.08      0.86   \n",
       "KNeighborsClassifier                 0.12         1.00         0.06      0.03   \n",
       "CheckingClassifier                   0.04         0.95         0.00      1.00   \n",
       "LabelPropagation                     0.04         0.95         0.00      1.00   \n",
       "QuadraticDiscriminantAnalysis        0.10         0.95         0.00      1.00   \n",
       "LabelSpreading                       0.05         0.95         0.00      1.00   \n",
       "BernoulliNB                          0.05         0.94         0.05      0.52   \n",
       "LGBMClassifier                       0.07         0.94         0.04      0.70   \n",
       "SVC                                  0.12         0.94         0.00      0.87   \n",
       "AdaBoostClassifier                   0.34         0.94         0.03      0.67   \n",
       "\n",
       "                               Recall_1  F1_0  F1_1  ROC_AUC  \n",
       "Model                                                         \n",
       "DecisionTreeClassifier             1.00  0.80  0.26     0.83  \n",
       "ExtraTreeClassifier                0.80  0.85  0.26     0.77  \n",
       "LinearDiscriminantAnalysis         1.00  0.68  0.19     0.76  \n",
       "LogisticRegression                 1.00  0.64  0.18     0.74  \n",
       "BaggingClassifier                  0.80  0.79  0.21     0.73  \n",
       "RandomForestClassifier             0.80  0.77  0.20     0.72  \n",
       "SGDClassifier                      0.60  0.84  0.20     0.67  \n",
       "Perceptron                         0.60  0.83  0.19     0.66  \n",
       "NearestCentroid                    0.80  0.67  0.15     0.65  \n",
       "ExtraTreesClassifier               0.60  0.81  0.18     0.65  \n",
       "GaussianNB                         0.40  0.93  0.25     0.65  \n",
       "RidgeClassifierCV                  0.80  0.64  0.15     0.64  \n",
       "CalibratedClassifierCV             0.80  0.62  0.14     0.63  \n",
       "LinearSVC                          0.40  0.90  0.19     0.62  \n",
       "XGBClassifier                      0.60  0.76  0.15     0.61  \n",
       "DummyClassifier                    1.00  0.34  0.13     0.60  \n",
       "RidgeClassifier                    0.80  0.55  0.13     0.59  \n",
       "PassiveAggressiveClassifier        0.20  0.90  0.11     0.53  \n",
       "KNeighborsClassifier               1.00  0.07  0.11     0.52  \n",
       "CheckingClassifier                 0.00  0.97  0.00     0.50  \n",
       "LabelPropagation                   0.00  0.97  0.00     0.50  \n",
       "QuadraticDiscriminantAnalysis      0.00  0.97  0.00     0.50  \n",
       "LabelSpreading                     0.00  0.97  0.00     0.50  \n",
       "BernoulliNB                        0.40  0.67  0.08     0.46  \n",
       "LGBMClassifier                     0.20  0.80  0.06     0.45  \n",
       "SVC                                0.00  0.90  0.00     0.44  \n",
       "AdaBoostClassifier                 0.20  0.78  0.06     0.43  "
      ],
      "text/html": "<div>\n<style scoped>\n    .dataframe tbody tr th:only-of-type {\n        vertical-align: middle;\n    }\n\n    .dataframe tbody tr th {\n        vertical-align: top;\n    }\n\n    .dataframe thead th {\n        text-align: right;\n    }\n</style>\n<table border=\"1\" class=\"dataframe\">\n  <thead>\n    <tr style=\"text-align: right;\">\n      <th></th>\n      <th>Accuracy</th>\n      <th>Balanced Accuracy</th>\n      <th>ROC AUC</th>\n      <th>F1 Score</th>\n      <th>Time Taken</th>\n      <th>Precision_0</th>\n      <th>Precision_1</th>\n      <th>Recall_0</th>\n      <th>Recall_1</th>\n      <th>F1_0</th>\n      <th>F1_1</th>\n      <th>ROC_AUC</th>\n    </tr>\n    <tr>\n      <th>Model</th>\n      <th></th>\n      <th></th>\n      <th></th>\n      <th></th>\n      <th></th>\n      <th></th>\n      <th></th>\n      <th></th>\n      <th></th>\n      <th></th>\n      <th></th>\n      <th></th>\n    </tr>\n  </thead>\n  <tbody>\n    <tr>\n      <th>DecisionTreeClassifier</th>\n      <td>0.68</td>\n      <td>0.83</td>\n      <td>0.83</td>\n      <td>0.77</td>\n      <td>0.05</td>\n      <td>1.00</td>\n      <td>0.15</td>\n      <td>0.67</td>\n      <td>1.00</td>\n      <td>0.80</td>\n      <td>0.26</td>\n      <td>0.83</td>\n    </tr>\n    <tr>\n      <th>ExtraTreeClassifier</th>\n      <td>0.75</td>\n      <td>0.77</td>\n      <td>0.77</td>\n      <td>0.82</td>\n      <td>0.04</td>\n      <td>0.98</td>\n      <td>0.15</td>\n      <td>0.75</td>\n      <td>0.80</td>\n      <td>0.85</td>\n      <td>0.26</td>\n      <td>0.77</td>\n    </tr>\n    <tr>\n      <th>LinearDiscriminantAnalysis</th>\n      <td>0.54</td>\n      <td>0.76</td>\n      <td>0.76</td>\n      <td>0.66</td>\n      <td>0.15</td>\n      <td>1.00</td>\n      <td>0.11</td>\n      <td>0.52</td>\n      <td>1.00</td>\n      <td>0.68</td>\n      <td>0.19</td>\n      <td>0.76</td>\n    </tr>\n    <tr>\n      <th>LogisticRegression</th>\n      <td>0.50</td>\n      <td>0.74</td>\n      <td>0.74</td>\n      <td>0.62</td>\n      <td>0.05</td>\n      <td>1.00</td>\n      <td>0.10</td>\n      <td>0.47</td>\n      <td>1.00</td>\n      <td>0.64</td>\n      <td>0.18</td>\n      <td>0.74</td>\n    </tr>\n    <tr>\n      <th>BaggingClassifier</th>\n      <td>0.66</td>\n      <td>0.73</td>\n      <td>0.73</td>\n      <td>0.75</td>\n      <td>0.09</td>\n      <td>0.98</td>\n      <td>0.12</td>\n      <td>0.66</td>\n      <td>0.80</td>\n      <td>0.79</td>\n      <td>0.21</td>\n      <td>0.73</td>\n    </tr>\n    <tr>\n      <th>RandomForestClassifier</th>\n      <td>0.64</td>\n      <td>0.72</td>\n      <td>0.72</td>\n      <td>0.74</td>\n      <td>0.17</td>\n      <td>0.98</td>\n      <td>0.11</td>\n      <td>0.63</td>\n      <td>0.80</td>\n      <td>0.77</td>\n      <td>0.20</td>\n      <td>0.72</td>\n    </tr>\n    <tr>\n      <th>SGDClassifier</th>\n      <td>0.74</td>\n      <td>0.67</td>\n      <td>0.67</td>\n      <td>0.81</td>\n      <td>0.06</td>\n      <td>0.97</td>\n      <td>0.12</td>\n      <td>0.75</td>\n      <td>0.60</td>\n      <td>0.84</td>\n      <td>0.20</td>\n      <td>0.67</td>\n    </tr>\n    <tr>\n      <th>Perceptron</th>\n      <td>0.72</td>\n      <td>0.66</td>\n      <td>0.66</td>\n      <td>0.79</td>\n      <td>0.05</td>\n      <td>0.97</td>\n      <td>0.11</td>\n      <td>0.72</td>\n      <td>0.60</td>\n      <td>0.83</td>\n      <td>0.19</td>\n      <td>0.66</td>\n    </tr>\n    <tr>\n      <th>NearestCentroid</th>\n      <td>0.52</td>\n      <td>0.65</td>\n      <td>0.65</td>\n      <td>0.64</td>\n      <td>0.04</td>\n      <td>0.98</td>\n      <td>0.09</td>\n      <td>0.51</td>\n      <td>0.80</td>\n      <td>0.67</td>\n      <td>0.15</td>\n      <td>0.65</td>\n    </tr>\n    <tr>\n      <th>ExtraTreesClassifier</th>\n      <td>0.70</td>\n      <td>0.65</td>\n      <td>0.65</td>\n      <td>0.78</td>\n      <td>0.16</td>\n      <td>0.97</td>\n      <td>0.10</td>\n      <td>0.70</td>\n      <td>0.60</td>\n      <td>0.81</td>\n      <td>0.18</td>\n      <td>0.65</td>\n    </tr>\n    <tr>\n      <th>GaussianNB</th>\n      <td>0.87</td>\n      <td>0.65</td>\n      <td>0.65</td>\n      <td>0.89</td>\n      <td>0.05</td>\n      <td>0.96</td>\n      <td>0.18</td>\n      <td>0.90</td>\n      <td>0.40</td>\n      <td>0.93</td>\n      <td>0.25</td>\n      <td>0.65</td>\n    </tr>\n    <tr>\n      <th>RidgeClassifierCV</th>\n      <td>0.49</td>\n      <td>0.64</td>\n      <td>0.64</td>\n      <td>0.61</td>\n      <td>0.08</td>\n      <td>0.98</td>\n      <td>0.08</td>\n      <td>0.47</td>\n      <td>0.80</td>\n      <td>0.64</td>\n      <td>0.15</td>\n      <td>0.64</td>\n    </tr>\n    <tr>\n      <th>CalibratedClassifierCV</th>\n      <td>0.48</td>\n      <td>0.63</td>\n      <td>0.63</td>\n      <td>0.60</td>\n      <td>0.34</td>\n      <td>0.98</td>\n      <td>0.08</td>\n      <td>0.46</td>\n      <td>0.80</td>\n      <td>0.62</td>\n      <td>0.14</td>\n      <td>0.63</td>\n    </tr>\n    <tr>\n      <th>LinearSVC</th>\n      <td>0.82</td>\n      <td>0.62</td>\n      <td>0.62</td>\n      <td>0.86</td>\n      <td>0.14</td>\n      <td>0.96</td>\n      <td>0.12</td>\n      <td>0.84</td>\n      <td>0.40</td>\n      <td>0.90</td>\n      <td>0.19</td>\n      <td>0.62</td>\n    </tr>\n    <tr>\n      <th>XGBClassifier</th>\n      <td>0.62</td>\n      <td>0.61</td>\n      <td>0.61</td>\n      <td>0.72</td>\n      <td>0.26</td>\n      <td>0.96</td>\n      <td>0.08</td>\n      <td>0.62</td>\n      <td>0.60</td>\n      <td>0.76</td>\n      <td>0.15</td>\n      <td>0.61</td>\n    </tr>\n    <tr>\n      <th>DummyClassifier</th>\n      <td>0.25</td>\n      <td>0.60</td>\n      <td>0.60</td>\n      <td>0.33</td>\n      <td>0.05</td>\n      <td>1.00</td>\n      <td>0.07</td>\n      <td>0.21</td>\n      <td>1.00</td>\n      <td>0.34</td>\n      <td>0.13</td>\n      <td>0.60</td>\n    </tr>\n    <tr>\n      <th>RidgeClassifier</th>\n      <td>0.40</td>\n      <td>0.59</td>\n      <td>0.59</td>\n      <td>0.52</td>\n      <td>0.05</td>\n      <td>0.97</td>\n      <td>0.07</td>\n      <td>0.38</td>\n      <td>0.80</td>\n      <td>0.55</td>\n      <td>0.13</td>\n      <td>0.59</td>\n    </tr>\n    <tr>\n      <th>PassiveAggressiveClassifier</th>\n      <td>0.83</td>\n      <td>0.53</td>\n      <td>0.53</td>\n      <td>0.86</td>\n      <td>0.05</td>\n      <td>0.95</td>\n      <td>0.08</td>\n      <td>0.86</td>\n      <td>0.20</td>\n      <td>0.90</td>\n      <td>0.11</td>\n      <td>0.53</td>\n    </tr>\n    <tr>\n      <th>KNeighborsClassifier</th>\n      <td>0.09</td>\n      <td>0.52</td>\n      <td>0.52</td>\n      <td>0.07</td>\n      <td>0.12</td>\n      <td>1.00</td>\n      <td>0.06</td>\n      <td>0.03</td>\n      <td>1.00</td>\n      <td>0.07</td>\n      <td>0.11</td>\n      <td>0.52</td>\n    </tr>\n    <tr>\n      <th>CheckingClassifier</th>\n      <td>0.95</td>\n      <td>0.50</td>\n      <td>0.50</td>\n      <td>0.92</td>\n      <td>0.04</td>\n      <td>0.95</td>\n      <td>0.00</td>\n      <td>1.00</td>\n      <td>0.00</td>\n      <td>0.97</td>\n      <td>0.00</td>\n      <td>0.50</td>\n    </tr>\n    <tr>\n      <th>LabelPropagation</th>\n      <td>0.95</td>\n      <td>0.50</td>\n      <td>0.50</td>\n      <td>0.92</td>\n      <td>0.04</td>\n      <td>0.95</td>\n      <td>0.00</td>\n      <td>1.00</td>\n      <td>0.00</td>\n      <td>0.97</td>\n      <td>0.00</td>\n      <td>0.50</td>\n    </tr>\n    <tr>\n      <th>QuadraticDiscriminantAnalysis</th>\n      <td>0.95</td>\n      <td>0.50</td>\n      <td>0.50</td>\n      <td>0.92</td>\n      <td>0.10</td>\n      <td>0.95</td>\n      <td>0.00</td>\n      <td>1.00</td>\n      <td>0.00</td>\n      <td>0.97</td>\n      <td>0.00</td>\n      <td>0.50</td>\n    </tr>\n    <tr>\n      <th>LabelSpreading</th>\n      <td>0.95</td>\n      <td>0.50</td>\n      <td>0.50</td>\n      <td>0.92</td>\n      <td>0.05</td>\n      <td>0.95</td>\n      <td>0.00</td>\n      <td>1.00</td>\n      <td>0.00</td>\n      <td>0.97</td>\n      <td>0.00</td>\n      <td>0.50</td>\n    </tr>\n    <tr>\n      <th>BernoulliNB</th>\n      <td>0.51</td>\n      <td>0.46</td>\n      <td>0.46</td>\n      <td>0.63</td>\n      <td>0.05</td>\n      <td>0.94</td>\n      <td>0.05</td>\n      <td>0.52</td>\n      <td>0.40</td>\n      <td>0.67</td>\n      <td>0.08</td>\n      <td>0.46</td>\n    </tr>\n    <tr>\n      <th>LGBMClassifier</th>\n      <td>0.67</td>\n      <td>0.45</td>\n      <td>0.45</td>\n      <td>0.76</td>\n      <td>0.07</td>\n      <td>0.94</td>\n      <td>0.04</td>\n      <td>0.70</td>\n      <td>0.20</td>\n      <td>0.80</td>\n      <td>0.06</td>\n      <td>0.45</td>\n    </tr>\n    <tr>\n      <th>SVC</th>\n      <td>0.83</td>\n      <td>0.44</td>\n      <td>0.44</td>\n      <td>0.86</td>\n      <td>0.12</td>\n      <td>0.94</td>\n      <td>0.00</td>\n      <td>0.87</td>\n      <td>0.00</td>\n      <td>0.90</td>\n      <td>0.00</td>\n      <td>0.44</td>\n    </tr>\n    <tr>\n      <th>AdaBoostClassifier</th>\n      <td>0.64</td>\n      <td>0.43</td>\n      <td>0.43</td>\n      <td>0.74</td>\n      <td>0.34</td>\n      <td>0.94</td>\n      <td>0.03</td>\n      <td>0.67</td>\n      <td>0.20</td>\n      <td>0.78</td>\n      <td>0.06</td>\n      <td>0.43</td>\n    </tr>\n  </tbody>\n</table>\n</div>"
     },
     "metadata": {},
     "execution_count": 16
    }
   ],
   "source": [
    "models_smoteenn"
   ]
  },
  {
   "cell_type": "code",
   "execution_count": 17,
   "metadata": {},
   "outputs": [
    {
     "output_type": "display_data",
     "data": {
      "application/vnd.plotly.v1+json": {
       "config": {
        "plotlyServerURL": "https://plot.ly"
       },
       "data": [
        {
         "alignmentgroup": "True",
         "hovertemplate": "Model=%{x}<br>ROC AUC=%{y}<extra></extra>",
         "legendgroup": "DecisionTreeClassifier",
         "marker": {
          "color": "#AF0038"
         },
         "name": "DecisionTreeClassifier",
         "offsetgroup": "DecisionTreeClassifier",
         "orientation": "v",
         "showlegend": true,
         "textposition": "auto",
         "type": "bar",
         "x": [
          "DecisionTreeClassifier"
         ],
         "xaxis": "x",
         "y": [
          0.8333333333333334
         ],
         "yaxis": "y"
        },
        {
         "alignmentgroup": "True",
         "hovertemplate": "Model=%{x}<br>ROC AUC=%{y}<extra></extra>",
         "legendgroup": "ExtraTreeClassifier",
         "marker": {
          "color": "#0D2A63"
         },
         "name": "ExtraTreeClassifier",
         "offsetgroup": "ExtraTreeClassifier",
         "orientation": "v",
         "showlegend": true,
         "textposition": "auto",
         "type": "bar",
         "x": [
          "ExtraTreeClassifier"
         ],
         "xaxis": "x",
         "y": [
          0.7735632183908047
         ],
         "yaxis": "y"
        },
        {
         "alignmentgroup": "True",
         "hovertemplate": "Model=%{x}<br>ROC AUC=%{y}<extra></extra>",
         "legendgroup": "LinearDiscriminantAnalysis",
         "marker": {
          "color": "#6C4516"
         },
         "name": "LinearDiscriminantAnalysis",
         "offsetgroup": "LinearDiscriminantAnalysis",
         "orientation": "v",
         "showlegend": true,
         "textposition": "auto",
         "type": "bar",
         "x": [
          "LinearDiscriminantAnalysis"
         ],
         "xaxis": "x",
         "y": [
          0.7586206896551724
         ],
         "yaxis": "y"
        },
        {
         "alignmentgroup": "True",
         "hovertemplate": "Model=%{x}<br>ROC AUC=%{y}<extra></extra>",
         "legendgroup": "LogisticRegression",
         "marker": {
          "color": "#DA60CA"
         },
         "name": "LogisticRegression",
         "offsetgroup": "LogisticRegression",
         "orientation": "v",
         "showlegend": true,
         "textposition": "auto",
         "type": "bar",
         "x": [
          "LogisticRegression"
         ],
         "xaxis": "x",
         "y": [
          0.735632183908046
         ],
         "yaxis": "y"
        },
        {
         "alignmentgroup": "True",
         "hovertemplate": "Model=%{x}<br>ROC AUC=%{y}<extra></extra>",
         "legendgroup": "BaggingClassifier",
         "marker": {
          "color": "#1616A7"
         },
         "name": "BaggingClassifier",
         "offsetgroup": "BaggingClassifier",
         "orientation": "v",
         "showlegend": true,
         "textposition": "auto",
         "type": "bar",
         "x": [
          "BaggingClassifier"
         ],
         "xaxis": "x",
         "y": [
          0.7275862068965517
         ],
         "yaxis": "y"
        },
        {
         "alignmentgroup": "True",
         "hovertemplate": "Model=%{x}<br>ROC AUC=%{y}<extra></extra>",
         "legendgroup": "RandomForestClassifier",
         "marker": {
          "color": "#620042"
         },
         "name": "RandomForestClassifier",
         "offsetgroup": "RandomForestClassifier",
         "orientation": "v",
         "showlegend": true,
         "textposition": "auto",
         "type": "bar",
         "x": [
          "RandomForestClassifier"
         ],
         "xaxis": "x",
         "y": [
          0.7160919540229885
         ],
         "yaxis": "y"
        },
        {
         "alignmentgroup": "True",
         "hovertemplate": "Model=%{x}<br>ROC AUC=%{y}<extra></extra>",
         "legendgroup": "SGDClassifier",
         "marker": {
          "color": "#A777F1"
         },
         "name": "SGDClassifier",
         "offsetgroup": "SGDClassifier",
         "orientation": "v",
         "showlegend": true,
         "textposition": "auto",
         "type": "bar",
         "x": [
          "SGDClassifier"
         ],
         "xaxis": "x",
         "y": [
          0.6735632183908047
         ],
         "yaxis": "y"
        },
        {
         "alignmentgroup": "True",
         "hovertemplate": "Model=%{x}<br>ROC AUC=%{y}<extra></extra>",
         "legendgroup": "Perceptron",
         "marker": {
          "color": "#862A16"
         },
         "name": "Perceptron",
         "offsetgroup": "Perceptron",
         "orientation": "v",
         "showlegend": true,
         "textposition": "auto",
         "type": "bar",
         "x": [
          "Perceptron"
         ],
         "xaxis": "x",
         "y": [
          0.6620689655172414
         ],
         "yaxis": "y"
        },
        {
         "alignmentgroup": "True",
         "hovertemplate": "Model=%{x}<br>ROC AUC=%{y}<extra></extra>",
         "legendgroup": "NearestCentroid",
         "marker": {
          "color": "#778AAE"
         },
         "name": "NearestCentroid",
         "offsetgroup": "NearestCentroid",
         "orientation": "v",
         "showlegend": true,
         "textposition": "auto",
         "type": "bar",
         "x": [
          "NearestCentroid"
         ],
         "xaxis": "x",
         "y": [
          0.6528735632183909
         ],
         "yaxis": "y"
        },
        {
         "alignmentgroup": "True",
         "hovertemplate": "Model=%{x}<br>ROC AUC=%{y}<extra></extra>",
         "legendgroup": "ExtraTreesClassifier",
         "marker": {
          "color": "#6C7C32"
         },
         "name": "ExtraTreesClassifier",
         "offsetgroup": "ExtraTreesClassifier",
         "orientation": "v",
         "showlegend": true,
         "textposition": "auto",
         "type": "bar",
         "x": [
          "ExtraTreesClassifier"
         ],
         "xaxis": "x",
         "y": [
          0.650574712643678
         ],
         "yaxis": "y"
        },
        {
         "alignmentgroup": "True",
         "hovertemplate": "Model=%{x}<br>ROC AUC=%{y}<extra></extra>",
         "legendgroup": "GaussianNB",
         "marker": {
          "color": "#B2828D"
         },
         "name": "GaussianNB",
         "offsetgroup": "GaussianNB",
         "orientation": "v",
         "showlegend": true,
         "textposition": "auto",
         "type": "bar",
         "x": [
          "GaussianNB"
         ],
         "xaxis": "x",
         "y": [
          0.6482758620689655
         ],
         "yaxis": "y"
        },
        {
         "alignmentgroup": "True",
         "hovertemplate": "Model=%{x}<br>ROC AUC=%{y}<extra></extra>",
         "legendgroup": "RidgeClassifierCV",
         "marker": {
          "color": "#FC0080"
         },
         "name": "RidgeClassifierCV",
         "offsetgroup": "RidgeClassifierCV",
         "orientation": "v",
         "showlegend": true,
         "textposition": "auto",
         "type": "bar",
         "x": [
          "RidgeClassifierCV"
         ],
         "xaxis": "x",
         "y": [
          0.635632183908046
         ],
         "yaxis": "y"
        },
        {
         "alignmentgroup": "True",
         "hovertemplate": "Model=%{x}<br>ROC AUC=%{y}<extra></extra>",
         "legendgroup": "CalibratedClassifierCV",
         "marker": {
          "color": "#FB00D1"
         },
         "name": "CalibratedClassifierCV",
         "offsetgroup": "CalibratedClassifierCV",
         "orientation": "v",
         "showlegend": true,
         "textposition": "auto",
         "type": "bar",
         "x": [
          "CalibratedClassifierCV"
         ],
         "xaxis": "x",
         "y": [
          0.6298850574712644
         ],
         "yaxis": "y"
        },
        {
         "alignmentgroup": "True",
         "hovertemplate": "Model=%{x}<br>ROC AUC=%{y}<extra></extra>",
         "legendgroup": "LinearSVC",
         "marker": {
          "color": "#00A08B"
         },
         "name": "LinearSVC",
         "offsetgroup": "LinearSVC",
         "orientation": "v",
         "showlegend": true,
         "textposition": "auto",
         "type": "bar",
         "x": [
          "LinearSVC"
         ],
         "xaxis": "x",
         "y": [
          0.6195402298850574
         ],
         "yaxis": "y"
        },
        {
         "alignmentgroup": "True",
         "hovertemplate": "Model=%{x}<br>ROC AUC=%{y}<extra></extra>",
         "legendgroup": "XGBClassifier",
         "marker": {
          "color": "#511CFB"
         },
         "name": "XGBClassifier",
         "offsetgroup": "XGBClassifier",
         "orientation": "v",
         "showlegend": true,
         "textposition": "auto",
         "type": "bar",
         "x": [
          "XGBClassifier"
         ],
         "xaxis": "x",
         "y": [
          0.6103448275862069
         ],
         "yaxis": "y"
        },
        {
         "alignmentgroup": "True",
         "hovertemplate": "Model=%{x}<br>ROC AUC=%{y}<extra></extra>",
         "legendgroup": "DummyClassifier",
         "marker": {
          "color": "#EB663B"
         },
         "name": "DummyClassifier",
         "offsetgroup": "DummyClassifier",
         "orientation": "v",
         "showlegend": true,
         "textposition": "auto",
         "type": "bar",
         "x": [
          "DummyClassifier"
         ],
         "xaxis": "x",
         "y": [
          0.603448275862069
         ],
         "yaxis": "y"
        },
        {
         "alignmentgroup": "True",
         "hovertemplate": "Model=%{x}<br>ROC AUC=%{y}<extra></extra>",
         "legendgroup": "RidgeClassifier",
         "marker": {
          "color": "#750D86"
         },
         "name": "RidgeClassifier",
         "offsetgroup": "RidgeClassifier",
         "orientation": "v",
         "showlegend": true,
         "textposition": "auto",
         "type": "bar",
         "x": [
          "RidgeClassifier"
         ],
         "xaxis": "x",
         "y": [
          0.5896551724137932
         ],
         "yaxis": "y"
        },
        {
         "alignmentgroup": "True",
         "hovertemplate": "Model=%{x}<br>ROC AUC=%{y}<extra></extra>",
         "legendgroup": "PassiveAggressiveClassifier",
         "marker": {
          "color": "#B68100"
         },
         "name": "PassiveAggressiveClassifier",
         "offsetgroup": "PassiveAggressiveClassifier",
         "orientation": "v",
         "showlegend": true,
         "textposition": "auto",
         "type": "bar",
         "x": [
          "PassiveAggressiveClassifier"
         ],
         "xaxis": "x",
         "y": [
          0.5310344827586206
         ],
         "yaxis": "y"
        },
        {
         "alignmentgroup": "True",
         "hovertemplate": "Model=%{x}<br>ROC AUC=%{y}<extra></extra>",
         "legendgroup": "KNeighborsClassifier",
         "marker": {
          "color": "#222A2A"
         },
         "name": "KNeighborsClassifier",
         "offsetgroup": "KNeighborsClassifier",
         "orientation": "v",
         "showlegend": true,
         "textposition": "auto",
         "type": "bar",
         "x": [
          "KNeighborsClassifier"
         ],
         "xaxis": "x",
         "y": [
          0.5172413793103448
         ],
         "yaxis": "y"
        },
        {
         "alignmentgroup": "True",
         "hovertemplate": "Model=%{x}<br>ROC AUC=%{y}<extra></extra>",
         "legendgroup": "CheckingClassifier",
         "marker": {
          "color": "#DA16FF"
         },
         "name": "CheckingClassifier",
         "offsetgroup": "CheckingClassifier",
         "orientation": "v",
         "showlegend": true,
         "textposition": "auto",
         "type": "bar",
         "x": [
          "CheckingClassifier"
         ],
         "xaxis": "x",
         "y": [
          0.5
         ],
         "yaxis": "y"
        },
        {
         "alignmentgroup": "True",
         "hovertemplate": "Model=%{x}<br>ROC AUC=%{y}<extra></extra>",
         "legendgroup": "LabelPropagation",
         "marker": {
          "color": "#FB0D0D"
         },
         "name": "LabelPropagation",
         "offsetgroup": "LabelPropagation",
         "orientation": "v",
         "showlegend": true,
         "textposition": "auto",
         "type": "bar",
         "x": [
          "LabelPropagation"
         ],
         "xaxis": "x",
         "y": [
          0.5
         ],
         "yaxis": "y"
        },
        {
         "alignmentgroup": "True",
         "hovertemplate": "Model=%{x}<br>ROC AUC=%{y}<extra></extra>",
         "legendgroup": "QuadraticDiscriminantAnalysis",
         "marker": {
          "color": "#1CA71C"
         },
         "name": "QuadraticDiscriminantAnalysis",
         "offsetgroup": "QuadraticDiscriminantAnalysis",
         "orientation": "v",
         "showlegend": true,
         "textposition": "auto",
         "type": "bar",
         "x": [
          "QuadraticDiscriminantAnalysis"
         ],
         "xaxis": "x",
         "y": [
          0.5
         ],
         "yaxis": "y"
        },
        {
         "alignmentgroup": "True",
         "hovertemplate": "Model=%{x}<br>ROC AUC=%{y}<extra></extra>",
         "legendgroup": "LabelSpreading",
         "marker": {
          "color": "#E15F99"
         },
         "name": "LabelSpreading",
         "offsetgroup": "LabelSpreading",
         "orientation": "v",
         "showlegend": true,
         "textposition": "auto",
         "type": "bar",
         "x": [
          "LabelSpreading"
         ],
         "xaxis": "x",
         "y": [
          0.5
         ],
         "yaxis": "y"
        },
        {
         "alignmentgroup": "True",
         "hovertemplate": "Model=%{x}<br>ROC AUC=%{y}<extra></extra>",
         "legendgroup": "BernoulliNB",
         "marker": {
          "color": "#2E91E5"
         },
         "name": "BernoulliNB",
         "offsetgroup": "BernoulliNB",
         "orientation": "v",
         "showlegend": true,
         "textposition": "auto",
         "type": "bar",
         "x": [
          "BernoulliNB"
         ],
         "xaxis": "x",
         "y": [
          0.4586206896551724
         ],
         "yaxis": "y"
        },
        {
         "alignmentgroup": "True",
         "hovertemplate": "Model=%{x}<br>ROC AUC=%{y}<extra></extra>",
         "legendgroup": "LGBMClassifier",
         "marker": {
          "color": "#AF0038"
         },
         "name": "LGBMClassifier",
         "offsetgroup": "LGBMClassifier",
         "orientation": "v",
         "showlegend": true,
         "textposition": "auto",
         "type": "bar",
         "x": [
          "LGBMClassifier"
         ],
         "xaxis": "x",
         "y": [
          0.4505747126436781
         ],
         "yaxis": "y"
        },
        {
         "alignmentgroup": "True",
         "hovertemplate": "Model=%{x}<br>ROC AUC=%{y}<extra></extra>",
         "legendgroup": "SVC",
         "marker": {
          "color": "#0D2A63"
         },
         "name": "SVC",
         "offsetgroup": "SVC",
         "orientation": "v",
         "showlegend": true,
         "textposition": "auto",
         "type": "bar",
         "x": [
          "SVC"
         ],
         "xaxis": "x",
         "y": [
          0.4367816091954023
         ],
         "yaxis": "y"
        },
        {
         "alignmentgroup": "True",
         "hovertemplate": "Model=%{x}<br>ROC AUC=%{y}<extra></extra>",
         "legendgroup": "AdaBoostClassifier",
         "marker": {
          "color": "#6C4516"
         },
         "name": "AdaBoostClassifier",
         "offsetgroup": "AdaBoostClassifier",
         "orientation": "v",
         "showlegend": true,
         "textposition": "auto",
         "type": "bar",
         "x": [
          "AdaBoostClassifier"
         ],
         "xaxis": "x",
         "y": [
          0.43333333333333335
         ],
         "yaxis": "y"
        }
       ],
       "layout": {
        "barmode": "relative",
        "legend": {
         "title": {
          "text": "Model"
         },
         "tracegroupgap": 0
        },
        "margin": {
         "t": 60
        },
        "template": {
         "data": {
          "bar": [
           {
            "error_x": {
             "color": "#2a3f5f"
            },
            "error_y": {
             "color": "#2a3f5f"
            },
            "marker": {
             "line": {
              "color": "#E5ECF6",
              "width": 0.5
             }
            },
            "type": "bar"
           }
          ],
          "barpolar": [
           {
            "marker": {
             "line": {
              "color": "#E5ECF6",
              "width": 0.5
             }
            },
            "type": "barpolar"
           }
          ],
          "carpet": [
           {
            "aaxis": {
             "endlinecolor": "#2a3f5f",
             "gridcolor": "white",
             "linecolor": "white",
             "minorgridcolor": "white",
             "startlinecolor": "#2a3f5f"
            },
            "baxis": {
             "endlinecolor": "#2a3f5f",
             "gridcolor": "white",
             "linecolor": "white",
             "minorgridcolor": "white",
             "startlinecolor": "#2a3f5f"
            },
            "type": "carpet"
           }
          ],
          "choropleth": [
           {
            "colorbar": {
             "outlinewidth": 0,
             "ticks": ""
            },
            "type": "choropleth"
           }
          ],
          "contour": [
           {
            "colorbar": {
             "outlinewidth": 0,
             "ticks": ""
            },
            "colorscale": [
             [
              0,
              "#0d0887"
             ],
             [
              0.1111111111111111,
              "#46039f"
             ],
             [
              0.2222222222222222,
              "#7201a8"
             ],
             [
              0.3333333333333333,
              "#9c179e"
             ],
             [
              0.4444444444444444,
              "#bd3786"
             ],
             [
              0.5555555555555556,
              "#d8576b"
             ],
             [
              0.6666666666666666,
              "#ed7953"
             ],
             [
              0.7777777777777778,
              "#fb9f3a"
             ],
             [
              0.8888888888888888,
              "#fdca26"
             ],
             [
              1,
              "#f0f921"
             ]
            ],
            "type": "contour"
           }
          ],
          "contourcarpet": [
           {
            "colorbar": {
             "outlinewidth": 0,
             "ticks": ""
            },
            "type": "contourcarpet"
           }
          ],
          "heatmap": [
           {
            "colorbar": {
             "outlinewidth": 0,
             "ticks": ""
            },
            "colorscale": [
             [
              0,
              "#0d0887"
             ],
             [
              0.1111111111111111,
              "#46039f"
             ],
             [
              0.2222222222222222,
              "#7201a8"
             ],
             [
              0.3333333333333333,
              "#9c179e"
             ],
             [
              0.4444444444444444,
              "#bd3786"
             ],
             [
              0.5555555555555556,
              "#d8576b"
             ],
             [
              0.6666666666666666,
              "#ed7953"
             ],
             [
              0.7777777777777778,
              "#fb9f3a"
             ],
             [
              0.8888888888888888,
              "#fdca26"
             ],
             [
              1,
              "#f0f921"
             ]
            ],
            "type": "heatmap"
           }
          ],
          "heatmapgl": [
           {
            "colorbar": {
             "outlinewidth": 0,
             "ticks": ""
            },
            "colorscale": [
             [
              0,
              "#0d0887"
             ],
             [
              0.1111111111111111,
              "#46039f"
             ],
             [
              0.2222222222222222,
              "#7201a8"
             ],
             [
              0.3333333333333333,
              "#9c179e"
             ],
             [
              0.4444444444444444,
              "#bd3786"
             ],
             [
              0.5555555555555556,
              "#d8576b"
             ],
             [
              0.6666666666666666,
              "#ed7953"
             ],
             [
              0.7777777777777778,
              "#fb9f3a"
             ],
             [
              0.8888888888888888,
              "#fdca26"
             ],
             [
              1,
              "#f0f921"
             ]
            ],
            "type": "heatmapgl"
           }
          ],
          "histogram": [
           {
            "marker": {
             "colorbar": {
              "outlinewidth": 0,
              "ticks": ""
             }
            },
            "type": "histogram"
           }
          ],
          "histogram2d": [
           {
            "colorbar": {
             "outlinewidth": 0,
             "ticks": ""
            },
            "colorscale": [
             [
              0,
              "#0d0887"
             ],
             [
              0.1111111111111111,
              "#46039f"
             ],
             [
              0.2222222222222222,
              "#7201a8"
             ],
             [
              0.3333333333333333,
              "#9c179e"
             ],
             [
              0.4444444444444444,
              "#bd3786"
             ],
             [
              0.5555555555555556,
              "#d8576b"
             ],
             [
              0.6666666666666666,
              "#ed7953"
             ],
             [
              0.7777777777777778,
              "#fb9f3a"
             ],
             [
              0.8888888888888888,
              "#fdca26"
             ],
             [
              1,
              "#f0f921"
             ]
            ],
            "type": "histogram2d"
           }
          ],
          "histogram2dcontour": [
           {
            "colorbar": {
             "outlinewidth": 0,
             "ticks": ""
            },
            "colorscale": [
             [
              0,
              "#0d0887"
             ],
             [
              0.1111111111111111,
              "#46039f"
             ],
             [
              0.2222222222222222,
              "#7201a8"
             ],
             [
              0.3333333333333333,
              "#9c179e"
             ],
             [
              0.4444444444444444,
              "#bd3786"
             ],
             [
              0.5555555555555556,
              "#d8576b"
             ],
             [
              0.6666666666666666,
              "#ed7953"
             ],
             [
              0.7777777777777778,
              "#fb9f3a"
             ],
             [
              0.8888888888888888,
              "#fdca26"
             ],
             [
              1,
              "#f0f921"
             ]
            ],
            "type": "histogram2dcontour"
           }
          ],
          "mesh3d": [
           {
            "colorbar": {
             "outlinewidth": 0,
             "ticks": ""
            },
            "type": "mesh3d"
           }
          ],
          "parcoords": [
           {
            "line": {
             "colorbar": {
              "outlinewidth": 0,
              "ticks": ""
             }
            },
            "type": "parcoords"
           }
          ],
          "pie": [
           {
            "automargin": true,
            "type": "pie"
           }
          ],
          "scatter": [
           {
            "marker": {
             "colorbar": {
              "outlinewidth": 0,
              "ticks": ""
             }
            },
            "type": "scatter"
           }
          ],
          "scatter3d": [
           {
            "line": {
             "colorbar": {
              "outlinewidth": 0,
              "ticks": ""
             }
            },
            "marker": {
             "colorbar": {
              "outlinewidth": 0,
              "ticks": ""
             }
            },
            "type": "scatter3d"
           }
          ],
          "scattercarpet": [
           {
            "marker": {
             "colorbar": {
              "outlinewidth": 0,
              "ticks": ""
             }
            },
            "type": "scattercarpet"
           }
          ],
          "scattergeo": [
           {
            "marker": {
             "colorbar": {
              "outlinewidth": 0,
              "ticks": ""
             }
            },
            "type": "scattergeo"
           }
          ],
          "scattergl": [
           {
            "marker": {
             "colorbar": {
              "outlinewidth": 0,
              "ticks": ""
             }
            },
            "type": "scattergl"
           }
          ],
          "scattermapbox": [
           {
            "marker": {
             "colorbar": {
              "outlinewidth": 0,
              "ticks": ""
             }
            },
            "type": "scattermapbox"
           }
          ],
          "scatterpolar": [
           {
            "marker": {
             "colorbar": {
              "outlinewidth": 0,
              "ticks": ""
             }
            },
            "type": "scatterpolar"
           }
          ],
          "scatterpolargl": [
           {
            "marker": {
             "colorbar": {
              "outlinewidth": 0,
              "ticks": ""
             }
            },
            "type": "scatterpolargl"
           }
          ],
          "scatterternary": [
           {
            "marker": {
             "colorbar": {
              "outlinewidth": 0,
              "ticks": ""
             }
            },
            "type": "scatterternary"
           }
          ],
          "surface": [
           {
            "colorbar": {
             "outlinewidth": 0,
             "ticks": ""
            },
            "colorscale": [
             [
              0,
              "#0d0887"
             ],
             [
              0.1111111111111111,
              "#46039f"
             ],
             [
              0.2222222222222222,
              "#7201a8"
             ],
             [
              0.3333333333333333,
              "#9c179e"
             ],
             [
              0.4444444444444444,
              "#bd3786"
             ],
             [
              0.5555555555555556,
              "#d8576b"
             ],
             [
              0.6666666666666666,
              "#ed7953"
             ],
             [
              0.7777777777777778,
              "#fb9f3a"
             ],
             [
              0.8888888888888888,
              "#fdca26"
             ],
             [
              1,
              "#f0f921"
             ]
            ],
            "type": "surface"
           }
          ],
          "table": [
           {
            "cells": {
             "fill": {
              "color": "#EBF0F8"
             },
             "line": {
              "color": "white"
             }
            },
            "header": {
             "fill": {
              "color": "#C8D4E3"
             },
             "line": {
              "color": "white"
             }
            },
            "type": "table"
           }
          ]
         },
         "layout": {
          "annotationdefaults": {
           "arrowcolor": "#2a3f5f",
           "arrowhead": 0,
           "arrowwidth": 1
          },
          "autotypenumbers": "strict",
          "coloraxis": {
           "colorbar": {
            "outlinewidth": 0,
            "ticks": ""
           }
          },
          "colorscale": {
           "diverging": [
            [
             0,
             "#8e0152"
            ],
            [
             0.1,
             "#c51b7d"
            ],
            [
             0.2,
             "#de77ae"
            ],
            [
             0.3,
             "#f1b6da"
            ],
            [
             0.4,
             "#fde0ef"
            ],
            [
             0.5,
             "#f7f7f7"
            ],
            [
             0.6,
             "#e6f5d0"
            ],
            [
             0.7,
             "#b8e186"
            ],
            [
             0.8,
             "#7fbc41"
            ],
            [
             0.9,
             "#4d9221"
            ],
            [
             1,
             "#276419"
            ]
           ],
           "sequential": [
            [
             0,
             "#0d0887"
            ],
            [
             0.1111111111111111,
             "#46039f"
            ],
            [
             0.2222222222222222,
             "#7201a8"
            ],
            [
             0.3333333333333333,
             "#9c179e"
            ],
            [
             0.4444444444444444,
             "#bd3786"
            ],
            [
             0.5555555555555556,
             "#d8576b"
            ],
            [
             0.6666666666666666,
             "#ed7953"
            ],
            [
             0.7777777777777778,
             "#fb9f3a"
            ],
            [
             0.8888888888888888,
             "#fdca26"
            ],
            [
             1,
             "#f0f921"
            ]
           ],
           "sequentialminus": [
            [
             0,
             "#0d0887"
            ],
            [
             0.1111111111111111,
             "#46039f"
            ],
            [
             0.2222222222222222,
             "#7201a8"
            ],
            [
             0.3333333333333333,
             "#9c179e"
            ],
            [
             0.4444444444444444,
             "#bd3786"
            ],
            [
             0.5555555555555556,
             "#d8576b"
            ],
            [
             0.6666666666666666,
             "#ed7953"
            ],
            [
             0.7777777777777778,
             "#fb9f3a"
            ],
            [
             0.8888888888888888,
             "#fdca26"
            ],
            [
             1,
             "#f0f921"
            ]
           ]
          },
          "colorway": [
           "#636efa",
           "#EF553B",
           "#00cc96",
           "#ab63fa",
           "#FFA15A",
           "#19d3f3",
           "#FF6692",
           "#B6E880",
           "#FF97FF",
           "#FECB52"
          ],
          "font": {
           "color": "#2a3f5f"
          },
          "geo": {
           "bgcolor": "white",
           "lakecolor": "white",
           "landcolor": "#E5ECF6",
           "showlakes": true,
           "showland": true,
           "subunitcolor": "white"
          },
          "hoverlabel": {
           "align": "left"
          },
          "hovermode": "closest",
          "mapbox": {
           "style": "light"
          },
          "paper_bgcolor": "white",
          "plot_bgcolor": "#E5ECF6",
          "polar": {
           "angularaxis": {
            "gridcolor": "white",
            "linecolor": "white",
            "ticks": ""
           },
           "bgcolor": "#E5ECF6",
           "radialaxis": {
            "gridcolor": "white",
            "linecolor": "white",
            "ticks": ""
           }
          },
          "scene": {
           "xaxis": {
            "backgroundcolor": "#E5ECF6",
            "gridcolor": "white",
            "gridwidth": 2,
            "linecolor": "white",
            "showbackground": true,
            "ticks": "",
            "zerolinecolor": "white"
           },
           "yaxis": {
            "backgroundcolor": "#E5ECF6",
            "gridcolor": "white",
            "gridwidth": 2,
            "linecolor": "white",
            "showbackground": true,
            "ticks": "",
            "zerolinecolor": "white"
           },
           "zaxis": {
            "backgroundcolor": "#E5ECF6",
            "gridcolor": "white",
            "gridwidth": 2,
            "linecolor": "white",
            "showbackground": true,
            "ticks": "",
            "zerolinecolor": "white"
           }
          },
          "shapedefaults": {
           "line": {
            "color": "#2a3f5f"
           }
          },
          "ternary": {
           "aaxis": {
            "gridcolor": "white",
            "linecolor": "white",
            "ticks": ""
           },
           "baxis": {
            "gridcolor": "white",
            "linecolor": "white",
            "ticks": ""
           },
           "bgcolor": "#E5ECF6",
           "caxis": {
            "gridcolor": "white",
            "linecolor": "white",
            "ticks": ""
           }
          },
          "title": {
           "x": 0.05
          },
          "xaxis": {
           "automargin": true,
           "gridcolor": "white",
           "linecolor": "white",
           "ticks": "",
           "title": {
            "standoff": 15
           },
           "zerolinecolor": "white",
           "zerolinewidth": 2
          },
          "yaxis": {
           "automargin": true,
           "gridcolor": "white",
           "linecolor": "white",
           "ticks": "",
           "title": {
            "standoff": 15
           },
           "zerolinecolor": "white",
           "zerolinewidth": 2
          }
         }
        },
        "xaxis": {
         "anchor": "y",
         "categoryarray": [
          "DecisionTreeClassifier",
          "ExtraTreeClassifier",
          "LinearDiscriminantAnalysis",
          "LogisticRegression",
          "BaggingClassifier",
          "RandomForestClassifier",
          "SGDClassifier",
          "Perceptron",
          "NearestCentroid",
          "ExtraTreesClassifier",
          "GaussianNB",
          "RidgeClassifierCV",
          "CalibratedClassifierCV",
          "LinearSVC",
          "XGBClassifier",
          "DummyClassifier",
          "RidgeClassifier",
          "PassiveAggressiveClassifier",
          "KNeighborsClassifier",
          "CheckingClassifier",
          "LabelPropagation",
          "QuadraticDiscriminantAnalysis",
          "LabelSpreading",
          "BernoulliNB",
          "LGBMClassifier",
          "SVC",
          "AdaBoostClassifier"
         ],
         "categoryorder": "array",
         "domain": [
          0,
          1
         ],
         "title": {
          "text": "Model"
         }
        },
        "yaxis": {
         "anchor": "x",
         "domain": [
          0,
          1
         ],
         "title": {
          "text": "ROC AUC"
         }
        }
       }
      },
      "text/html": "<div>                            <div id=\"eced72df-cc64-4304-9162-6d282d7e504e\" class=\"plotly-graph-div\" style=\"height:525px; width:100%;\"></div>            <script type=\"text/javascript\">                require([\"plotly\"], function(Plotly) {                    window.PLOTLYENV=window.PLOTLYENV || {};                                    if (document.getElementById(\"eced72df-cc64-4304-9162-6d282d7e504e\")) {                    Plotly.newPlot(                        \"eced72df-cc64-4304-9162-6d282d7e504e\",                        [{\"alignmentgroup\": \"True\", \"hovertemplate\": \"Model=%{x}<br>ROC AUC=%{y}<extra></extra>\", \"legendgroup\": \"DecisionTreeClassifier\", \"marker\": {\"color\": \"#AF0038\"}, \"name\": \"DecisionTreeClassifier\", \"offsetgroup\": \"DecisionTreeClassifier\", \"orientation\": \"v\", \"showlegend\": true, \"textposition\": \"auto\", \"type\": \"bar\", \"x\": [\"DecisionTreeClassifier\"], \"xaxis\": \"x\", \"y\": [0.8333333333333334], \"yaxis\": \"y\"}, {\"alignmentgroup\": \"True\", \"hovertemplate\": \"Model=%{x}<br>ROC AUC=%{y}<extra></extra>\", \"legendgroup\": \"ExtraTreeClassifier\", \"marker\": {\"color\": \"#0D2A63\"}, \"name\": \"ExtraTreeClassifier\", \"offsetgroup\": \"ExtraTreeClassifier\", \"orientation\": \"v\", \"showlegend\": true, \"textposition\": \"auto\", \"type\": \"bar\", \"x\": [\"ExtraTreeClassifier\"], \"xaxis\": \"x\", \"y\": [0.7735632183908047], \"yaxis\": \"y\"}, {\"alignmentgroup\": \"True\", \"hovertemplate\": \"Model=%{x}<br>ROC AUC=%{y}<extra></extra>\", \"legendgroup\": \"LinearDiscriminantAnalysis\", \"marker\": {\"color\": \"#6C4516\"}, \"name\": \"LinearDiscriminantAnalysis\", \"offsetgroup\": \"LinearDiscriminantAnalysis\", \"orientation\": \"v\", \"showlegend\": true, \"textposition\": \"auto\", \"type\": \"bar\", \"x\": [\"LinearDiscriminantAnalysis\"], \"xaxis\": \"x\", \"y\": [0.7586206896551724], \"yaxis\": \"y\"}, {\"alignmentgroup\": \"True\", \"hovertemplate\": \"Model=%{x}<br>ROC AUC=%{y}<extra></extra>\", \"legendgroup\": \"LogisticRegression\", \"marker\": {\"color\": \"#DA60CA\"}, \"name\": \"LogisticRegression\", \"offsetgroup\": \"LogisticRegression\", \"orientation\": \"v\", \"showlegend\": true, \"textposition\": \"auto\", \"type\": \"bar\", \"x\": [\"LogisticRegression\"], \"xaxis\": \"x\", \"y\": [0.735632183908046], \"yaxis\": \"y\"}, {\"alignmentgroup\": \"True\", \"hovertemplate\": \"Model=%{x}<br>ROC AUC=%{y}<extra></extra>\", \"legendgroup\": \"BaggingClassifier\", \"marker\": {\"color\": \"#1616A7\"}, \"name\": \"BaggingClassifier\", \"offsetgroup\": \"BaggingClassifier\", \"orientation\": \"v\", \"showlegend\": true, \"textposition\": \"auto\", \"type\": \"bar\", \"x\": [\"BaggingClassifier\"], \"xaxis\": \"x\", \"y\": [0.7275862068965517], \"yaxis\": \"y\"}, {\"alignmentgroup\": \"True\", \"hovertemplate\": \"Model=%{x}<br>ROC AUC=%{y}<extra></extra>\", \"legendgroup\": \"RandomForestClassifier\", \"marker\": {\"color\": \"#620042\"}, \"name\": \"RandomForestClassifier\", \"offsetgroup\": \"RandomForestClassifier\", \"orientation\": \"v\", \"showlegend\": true, \"textposition\": \"auto\", \"type\": \"bar\", \"x\": [\"RandomForestClassifier\"], \"xaxis\": \"x\", \"y\": [0.7160919540229885], \"yaxis\": \"y\"}, {\"alignmentgroup\": \"True\", \"hovertemplate\": \"Model=%{x}<br>ROC AUC=%{y}<extra></extra>\", \"legendgroup\": \"SGDClassifier\", \"marker\": {\"color\": \"#A777F1\"}, \"name\": \"SGDClassifier\", \"offsetgroup\": \"SGDClassifier\", \"orientation\": \"v\", \"showlegend\": true, \"textposition\": \"auto\", \"type\": \"bar\", \"x\": [\"SGDClassifier\"], \"xaxis\": \"x\", \"y\": [0.6735632183908047], \"yaxis\": \"y\"}, {\"alignmentgroup\": \"True\", \"hovertemplate\": \"Model=%{x}<br>ROC AUC=%{y}<extra></extra>\", \"legendgroup\": \"Perceptron\", \"marker\": {\"color\": \"#862A16\"}, \"name\": \"Perceptron\", \"offsetgroup\": \"Perceptron\", \"orientation\": \"v\", \"showlegend\": true, \"textposition\": \"auto\", \"type\": \"bar\", \"x\": [\"Perceptron\"], \"xaxis\": \"x\", \"y\": [0.6620689655172414], \"yaxis\": \"y\"}, {\"alignmentgroup\": \"True\", \"hovertemplate\": \"Model=%{x}<br>ROC AUC=%{y}<extra></extra>\", \"legendgroup\": \"NearestCentroid\", \"marker\": {\"color\": \"#778AAE\"}, \"name\": \"NearestCentroid\", \"offsetgroup\": \"NearestCentroid\", \"orientation\": \"v\", \"showlegend\": true, \"textposition\": \"auto\", \"type\": \"bar\", \"x\": [\"NearestCentroid\"], \"xaxis\": \"x\", \"y\": [0.6528735632183909], \"yaxis\": \"y\"}, {\"alignmentgroup\": \"True\", \"hovertemplate\": \"Model=%{x}<br>ROC AUC=%{y}<extra></extra>\", \"legendgroup\": \"ExtraTreesClassifier\", \"marker\": {\"color\": \"#6C7C32\"}, \"name\": \"ExtraTreesClassifier\", \"offsetgroup\": \"ExtraTreesClassifier\", \"orientation\": \"v\", \"showlegend\": true, \"textposition\": \"auto\", \"type\": \"bar\", \"x\": [\"ExtraTreesClassifier\"], \"xaxis\": \"x\", \"y\": [0.650574712643678], \"yaxis\": \"y\"}, {\"alignmentgroup\": \"True\", \"hovertemplate\": \"Model=%{x}<br>ROC AUC=%{y}<extra></extra>\", \"legendgroup\": \"GaussianNB\", \"marker\": {\"color\": \"#B2828D\"}, \"name\": \"GaussianNB\", \"offsetgroup\": \"GaussianNB\", \"orientation\": \"v\", \"showlegend\": true, \"textposition\": \"auto\", \"type\": \"bar\", \"x\": [\"GaussianNB\"], \"xaxis\": \"x\", \"y\": [0.6482758620689655], \"yaxis\": \"y\"}, {\"alignmentgroup\": \"True\", \"hovertemplate\": \"Model=%{x}<br>ROC AUC=%{y}<extra></extra>\", \"legendgroup\": \"RidgeClassifierCV\", \"marker\": {\"color\": \"#FC0080\"}, \"name\": \"RidgeClassifierCV\", \"offsetgroup\": \"RidgeClassifierCV\", \"orientation\": \"v\", \"showlegend\": true, \"textposition\": \"auto\", \"type\": \"bar\", \"x\": [\"RidgeClassifierCV\"], \"xaxis\": \"x\", \"y\": [0.635632183908046], \"yaxis\": \"y\"}, {\"alignmentgroup\": \"True\", \"hovertemplate\": \"Model=%{x}<br>ROC AUC=%{y}<extra></extra>\", \"legendgroup\": \"CalibratedClassifierCV\", \"marker\": {\"color\": \"#FB00D1\"}, \"name\": \"CalibratedClassifierCV\", \"offsetgroup\": \"CalibratedClassifierCV\", \"orientation\": \"v\", \"showlegend\": true, \"textposition\": \"auto\", \"type\": \"bar\", \"x\": [\"CalibratedClassifierCV\"], \"xaxis\": \"x\", \"y\": [0.6298850574712644], \"yaxis\": \"y\"}, {\"alignmentgroup\": \"True\", \"hovertemplate\": \"Model=%{x}<br>ROC AUC=%{y}<extra></extra>\", \"legendgroup\": \"LinearSVC\", \"marker\": {\"color\": \"#00A08B\"}, \"name\": \"LinearSVC\", \"offsetgroup\": \"LinearSVC\", \"orientation\": \"v\", \"showlegend\": true, \"textposition\": \"auto\", \"type\": \"bar\", \"x\": [\"LinearSVC\"], \"xaxis\": \"x\", \"y\": [0.6195402298850574], \"yaxis\": \"y\"}, {\"alignmentgroup\": \"True\", \"hovertemplate\": \"Model=%{x}<br>ROC AUC=%{y}<extra></extra>\", \"legendgroup\": \"XGBClassifier\", \"marker\": {\"color\": \"#511CFB\"}, \"name\": \"XGBClassifier\", \"offsetgroup\": \"XGBClassifier\", \"orientation\": \"v\", \"showlegend\": true, \"textposition\": \"auto\", \"type\": \"bar\", \"x\": [\"XGBClassifier\"], \"xaxis\": \"x\", \"y\": [0.6103448275862069], \"yaxis\": \"y\"}, {\"alignmentgroup\": \"True\", \"hovertemplate\": \"Model=%{x}<br>ROC AUC=%{y}<extra></extra>\", \"legendgroup\": \"DummyClassifier\", \"marker\": {\"color\": \"#EB663B\"}, \"name\": \"DummyClassifier\", \"offsetgroup\": \"DummyClassifier\", \"orientation\": \"v\", \"showlegend\": true, \"textposition\": \"auto\", \"type\": \"bar\", \"x\": [\"DummyClassifier\"], \"xaxis\": \"x\", \"y\": [0.603448275862069], \"yaxis\": \"y\"}, {\"alignmentgroup\": \"True\", \"hovertemplate\": \"Model=%{x}<br>ROC AUC=%{y}<extra></extra>\", \"legendgroup\": \"RidgeClassifier\", \"marker\": {\"color\": \"#750D86\"}, \"name\": \"RidgeClassifier\", \"offsetgroup\": \"RidgeClassifier\", \"orientation\": \"v\", \"showlegend\": true, \"textposition\": \"auto\", \"type\": \"bar\", \"x\": [\"RidgeClassifier\"], \"xaxis\": \"x\", \"y\": [0.5896551724137932], \"yaxis\": \"y\"}, {\"alignmentgroup\": \"True\", \"hovertemplate\": \"Model=%{x}<br>ROC AUC=%{y}<extra></extra>\", \"legendgroup\": \"PassiveAggressiveClassifier\", \"marker\": {\"color\": \"#B68100\"}, \"name\": \"PassiveAggressiveClassifier\", \"offsetgroup\": \"PassiveAggressiveClassifier\", \"orientation\": \"v\", \"showlegend\": true, \"textposition\": \"auto\", \"type\": \"bar\", \"x\": [\"PassiveAggressiveClassifier\"], \"xaxis\": \"x\", \"y\": [0.5310344827586206], \"yaxis\": \"y\"}, {\"alignmentgroup\": \"True\", \"hovertemplate\": \"Model=%{x}<br>ROC AUC=%{y}<extra></extra>\", \"legendgroup\": \"KNeighborsClassifier\", \"marker\": {\"color\": \"#222A2A\"}, \"name\": \"KNeighborsClassifier\", \"offsetgroup\": \"KNeighborsClassifier\", \"orientation\": \"v\", \"showlegend\": true, \"textposition\": \"auto\", \"type\": \"bar\", \"x\": [\"KNeighborsClassifier\"], \"xaxis\": \"x\", \"y\": [0.5172413793103448], \"yaxis\": \"y\"}, {\"alignmentgroup\": \"True\", \"hovertemplate\": \"Model=%{x}<br>ROC AUC=%{y}<extra></extra>\", \"legendgroup\": \"CheckingClassifier\", \"marker\": {\"color\": \"#DA16FF\"}, \"name\": \"CheckingClassifier\", \"offsetgroup\": \"CheckingClassifier\", \"orientation\": \"v\", \"showlegend\": true, \"textposition\": \"auto\", \"type\": \"bar\", \"x\": [\"CheckingClassifier\"], \"xaxis\": \"x\", \"y\": [0.5], \"yaxis\": \"y\"}, {\"alignmentgroup\": \"True\", \"hovertemplate\": \"Model=%{x}<br>ROC AUC=%{y}<extra></extra>\", \"legendgroup\": \"LabelPropagation\", \"marker\": {\"color\": \"#FB0D0D\"}, \"name\": \"LabelPropagation\", \"offsetgroup\": \"LabelPropagation\", \"orientation\": \"v\", \"showlegend\": true, \"textposition\": \"auto\", \"type\": \"bar\", \"x\": [\"LabelPropagation\"], \"xaxis\": \"x\", \"y\": [0.5], \"yaxis\": \"y\"}, {\"alignmentgroup\": \"True\", \"hovertemplate\": \"Model=%{x}<br>ROC AUC=%{y}<extra></extra>\", \"legendgroup\": \"QuadraticDiscriminantAnalysis\", \"marker\": {\"color\": \"#1CA71C\"}, \"name\": \"QuadraticDiscriminantAnalysis\", \"offsetgroup\": \"QuadraticDiscriminantAnalysis\", \"orientation\": \"v\", \"showlegend\": true, \"textposition\": \"auto\", \"type\": \"bar\", \"x\": [\"QuadraticDiscriminantAnalysis\"], \"xaxis\": \"x\", \"y\": [0.5], \"yaxis\": \"y\"}, {\"alignmentgroup\": \"True\", \"hovertemplate\": \"Model=%{x}<br>ROC AUC=%{y}<extra></extra>\", \"legendgroup\": \"LabelSpreading\", \"marker\": {\"color\": \"#E15F99\"}, \"name\": \"LabelSpreading\", \"offsetgroup\": \"LabelSpreading\", \"orientation\": \"v\", \"showlegend\": true, \"textposition\": \"auto\", \"type\": \"bar\", \"x\": [\"LabelSpreading\"], \"xaxis\": \"x\", \"y\": [0.5], \"yaxis\": \"y\"}, {\"alignmentgroup\": \"True\", \"hovertemplate\": \"Model=%{x}<br>ROC AUC=%{y}<extra></extra>\", \"legendgroup\": \"BernoulliNB\", \"marker\": {\"color\": \"#2E91E5\"}, \"name\": \"BernoulliNB\", \"offsetgroup\": \"BernoulliNB\", \"orientation\": \"v\", \"showlegend\": true, \"textposition\": \"auto\", \"type\": \"bar\", \"x\": [\"BernoulliNB\"], \"xaxis\": \"x\", \"y\": [0.4586206896551724], \"yaxis\": \"y\"}, {\"alignmentgroup\": \"True\", \"hovertemplate\": \"Model=%{x}<br>ROC AUC=%{y}<extra></extra>\", \"legendgroup\": \"LGBMClassifier\", \"marker\": {\"color\": \"#AF0038\"}, \"name\": \"LGBMClassifier\", \"offsetgroup\": \"LGBMClassifier\", \"orientation\": \"v\", \"showlegend\": true, \"textposition\": \"auto\", \"type\": \"bar\", \"x\": [\"LGBMClassifier\"], \"xaxis\": \"x\", \"y\": [0.4505747126436781], \"yaxis\": \"y\"}, {\"alignmentgroup\": \"True\", \"hovertemplate\": \"Model=%{x}<br>ROC AUC=%{y}<extra></extra>\", \"legendgroup\": \"SVC\", \"marker\": {\"color\": \"#0D2A63\"}, \"name\": \"SVC\", \"offsetgroup\": \"SVC\", \"orientation\": \"v\", \"showlegend\": true, \"textposition\": \"auto\", \"type\": \"bar\", \"x\": [\"SVC\"], \"xaxis\": \"x\", \"y\": [0.4367816091954023], \"yaxis\": \"y\"}, {\"alignmentgroup\": \"True\", \"hovertemplate\": \"Model=%{x}<br>ROC AUC=%{y}<extra></extra>\", \"legendgroup\": \"AdaBoostClassifier\", \"marker\": {\"color\": \"#6C4516\"}, \"name\": \"AdaBoostClassifier\", \"offsetgroup\": \"AdaBoostClassifier\", \"orientation\": \"v\", \"showlegend\": true, \"textposition\": \"auto\", \"type\": \"bar\", \"x\": [\"AdaBoostClassifier\"], \"xaxis\": \"x\", \"y\": [0.43333333333333335], \"yaxis\": \"y\"}],                        {\"barmode\": \"relative\", \"legend\": {\"title\": {\"text\": \"Model\"}, \"tracegroupgap\": 0}, \"margin\": {\"t\": 60}, \"template\": {\"data\": {\"bar\": [{\"error_x\": {\"color\": \"#2a3f5f\"}, \"error_y\": {\"color\": \"#2a3f5f\"}, \"marker\": {\"line\": {\"color\": \"#E5ECF6\", \"width\": 0.5}}, \"type\": \"bar\"}], \"barpolar\": [{\"marker\": {\"line\": {\"color\": \"#E5ECF6\", \"width\": 0.5}}, \"type\": \"barpolar\"}], \"carpet\": [{\"aaxis\": {\"endlinecolor\": \"#2a3f5f\", \"gridcolor\": \"white\", \"linecolor\": \"white\", \"minorgridcolor\": \"white\", \"startlinecolor\": \"#2a3f5f\"}, \"baxis\": {\"endlinecolor\": \"#2a3f5f\", \"gridcolor\": \"white\", \"linecolor\": \"white\", \"minorgridcolor\": \"white\", \"startlinecolor\": \"#2a3f5f\"}, \"type\": \"carpet\"}], \"choropleth\": [{\"colorbar\": {\"outlinewidth\": 0, \"ticks\": \"\"}, \"type\": \"choropleth\"}], \"contour\": [{\"colorbar\": {\"outlinewidth\": 0, \"ticks\": \"\"}, \"colorscale\": [[0.0, \"#0d0887\"], [0.1111111111111111, \"#46039f\"], [0.2222222222222222, \"#7201a8\"], [0.3333333333333333, \"#9c179e\"], [0.4444444444444444, \"#bd3786\"], [0.5555555555555556, \"#d8576b\"], [0.6666666666666666, \"#ed7953\"], [0.7777777777777778, \"#fb9f3a\"], [0.8888888888888888, \"#fdca26\"], [1.0, \"#f0f921\"]], \"type\": \"contour\"}], \"contourcarpet\": [{\"colorbar\": {\"outlinewidth\": 0, \"ticks\": \"\"}, \"type\": \"contourcarpet\"}], \"heatmap\": [{\"colorbar\": {\"outlinewidth\": 0, \"ticks\": \"\"}, \"colorscale\": [[0.0, \"#0d0887\"], [0.1111111111111111, \"#46039f\"], [0.2222222222222222, \"#7201a8\"], [0.3333333333333333, \"#9c179e\"], [0.4444444444444444, \"#bd3786\"], [0.5555555555555556, \"#d8576b\"], [0.6666666666666666, \"#ed7953\"], [0.7777777777777778, \"#fb9f3a\"], [0.8888888888888888, \"#fdca26\"], [1.0, \"#f0f921\"]], \"type\": \"heatmap\"}], \"heatmapgl\": [{\"colorbar\": {\"outlinewidth\": 0, \"ticks\": \"\"}, \"colorscale\": [[0.0, \"#0d0887\"], [0.1111111111111111, \"#46039f\"], [0.2222222222222222, \"#7201a8\"], [0.3333333333333333, \"#9c179e\"], [0.4444444444444444, \"#bd3786\"], [0.5555555555555556, \"#d8576b\"], [0.6666666666666666, \"#ed7953\"], [0.7777777777777778, \"#fb9f3a\"], [0.8888888888888888, \"#fdca26\"], [1.0, \"#f0f921\"]], \"type\": \"heatmapgl\"}], \"histogram\": [{\"marker\": {\"colorbar\": {\"outlinewidth\": 0, \"ticks\": \"\"}}, \"type\": \"histogram\"}], \"histogram2d\": [{\"colorbar\": {\"outlinewidth\": 0, \"ticks\": \"\"}, \"colorscale\": [[0.0, \"#0d0887\"], [0.1111111111111111, \"#46039f\"], [0.2222222222222222, \"#7201a8\"], [0.3333333333333333, \"#9c179e\"], [0.4444444444444444, \"#bd3786\"], [0.5555555555555556, \"#d8576b\"], [0.6666666666666666, \"#ed7953\"], [0.7777777777777778, \"#fb9f3a\"], [0.8888888888888888, \"#fdca26\"], [1.0, \"#f0f921\"]], \"type\": \"histogram2d\"}], \"histogram2dcontour\": [{\"colorbar\": {\"outlinewidth\": 0, \"ticks\": \"\"}, \"colorscale\": [[0.0, \"#0d0887\"], [0.1111111111111111, \"#46039f\"], [0.2222222222222222, \"#7201a8\"], [0.3333333333333333, \"#9c179e\"], [0.4444444444444444, \"#bd3786\"], [0.5555555555555556, \"#d8576b\"], [0.6666666666666666, \"#ed7953\"], [0.7777777777777778, \"#fb9f3a\"], [0.8888888888888888, \"#fdca26\"], [1.0, \"#f0f921\"]], \"type\": \"histogram2dcontour\"}], \"mesh3d\": [{\"colorbar\": {\"outlinewidth\": 0, \"ticks\": \"\"}, \"type\": \"mesh3d\"}], \"parcoords\": [{\"line\": {\"colorbar\": {\"outlinewidth\": 0, \"ticks\": \"\"}}, \"type\": \"parcoords\"}], \"pie\": [{\"automargin\": true, \"type\": \"pie\"}], \"scatter\": [{\"marker\": {\"colorbar\": {\"outlinewidth\": 0, \"ticks\": \"\"}}, \"type\": \"scatter\"}], \"scatter3d\": [{\"line\": {\"colorbar\": {\"outlinewidth\": 0, \"ticks\": \"\"}}, \"marker\": {\"colorbar\": {\"outlinewidth\": 0, \"ticks\": \"\"}}, \"type\": \"scatter3d\"}], \"scattercarpet\": [{\"marker\": {\"colorbar\": {\"outlinewidth\": 0, \"ticks\": \"\"}}, \"type\": \"scattercarpet\"}], \"scattergeo\": [{\"marker\": {\"colorbar\": {\"outlinewidth\": 0, \"ticks\": \"\"}}, \"type\": \"scattergeo\"}], \"scattergl\": [{\"marker\": {\"colorbar\": {\"outlinewidth\": 0, \"ticks\": \"\"}}, \"type\": \"scattergl\"}], \"scattermapbox\": [{\"marker\": {\"colorbar\": {\"outlinewidth\": 0, \"ticks\": \"\"}}, \"type\": \"scattermapbox\"}], \"scatterpolar\": [{\"marker\": {\"colorbar\": {\"outlinewidth\": 0, \"ticks\": \"\"}}, \"type\": \"scatterpolar\"}], \"scatterpolargl\": [{\"marker\": {\"colorbar\": {\"outlinewidth\": 0, \"ticks\": \"\"}}, \"type\": \"scatterpolargl\"}], \"scatterternary\": [{\"marker\": {\"colorbar\": {\"outlinewidth\": 0, \"ticks\": \"\"}}, \"type\": \"scatterternary\"}], \"surface\": [{\"colorbar\": {\"outlinewidth\": 0, \"ticks\": \"\"}, \"colorscale\": [[0.0, \"#0d0887\"], [0.1111111111111111, \"#46039f\"], [0.2222222222222222, \"#7201a8\"], [0.3333333333333333, \"#9c179e\"], [0.4444444444444444, \"#bd3786\"], [0.5555555555555556, \"#d8576b\"], [0.6666666666666666, \"#ed7953\"], [0.7777777777777778, \"#fb9f3a\"], [0.8888888888888888, \"#fdca26\"], [1.0, \"#f0f921\"]], \"type\": \"surface\"}], \"table\": [{\"cells\": {\"fill\": {\"color\": \"#EBF0F8\"}, \"line\": {\"color\": \"white\"}}, \"header\": {\"fill\": {\"color\": \"#C8D4E3\"}, \"line\": {\"color\": \"white\"}}, \"type\": \"table\"}]}, \"layout\": {\"annotationdefaults\": {\"arrowcolor\": \"#2a3f5f\", \"arrowhead\": 0, \"arrowwidth\": 1}, \"autotypenumbers\": \"strict\", \"coloraxis\": {\"colorbar\": {\"outlinewidth\": 0, \"ticks\": \"\"}}, \"colorscale\": {\"diverging\": [[0, \"#8e0152\"], [0.1, \"#c51b7d\"], [0.2, \"#de77ae\"], [0.3, \"#f1b6da\"], [0.4, \"#fde0ef\"], [0.5, \"#f7f7f7\"], [0.6, \"#e6f5d0\"], [0.7, \"#b8e186\"], [0.8, \"#7fbc41\"], [0.9, \"#4d9221\"], [1, \"#276419\"]], \"sequential\": [[0.0, \"#0d0887\"], [0.1111111111111111, \"#46039f\"], [0.2222222222222222, \"#7201a8\"], [0.3333333333333333, \"#9c179e\"], [0.4444444444444444, \"#bd3786\"], [0.5555555555555556, \"#d8576b\"], [0.6666666666666666, \"#ed7953\"], [0.7777777777777778, \"#fb9f3a\"], [0.8888888888888888, \"#fdca26\"], [1.0, \"#f0f921\"]], \"sequentialminus\": [[0.0, \"#0d0887\"], [0.1111111111111111, \"#46039f\"], [0.2222222222222222, \"#7201a8\"], [0.3333333333333333, \"#9c179e\"], [0.4444444444444444, \"#bd3786\"], [0.5555555555555556, \"#d8576b\"], [0.6666666666666666, \"#ed7953\"], [0.7777777777777778, \"#fb9f3a\"], [0.8888888888888888, \"#fdca26\"], [1.0, \"#f0f921\"]]}, \"colorway\": [\"#636efa\", \"#EF553B\", \"#00cc96\", \"#ab63fa\", \"#FFA15A\", \"#19d3f3\", \"#FF6692\", \"#B6E880\", \"#FF97FF\", \"#FECB52\"], \"font\": {\"color\": \"#2a3f5f\"}, \"geo\": {\"bgcolor\": \"white\", \"lakecolor\": \"white\", \"landcolor\": \"#E5ECF6\", \"showlakes\": true, \"showland\": true, \"subunitcolor\": \"white\"}, \"hoverlabel\": {\"align\": \"left\"}, \"hovermode\": \"closest\", \"mapbox\": {\"style\": \"light\"}, \"paper_bgcolor\": \"white\", \"plot_bgcolor\": \"#E5ECF6\", \"polar\": {\"angularaxis\": {\"gridcolor\": \"white\", \"linecolor\": \"white\", \"ticks\": \"\"}, \"bgcolor\": \"#E5ECF6\", \"radialaxis\": {\"gridcolor\": \"white\", \"linecolor\": \"white\", \"ticks\": \"\"}}, \"scene\": {\"xaxis\": {\"backgroundcolor\": \"#E5ECF6\", \"gridcolor\": \"white\", \"gridwidth\": 2, \"linecolor\": \"white\", \"showbackground\": true, \"ticks\": \"\", \"zerolinecolor\": \"white\"}, \"yaxis\": {\"backgroundcolor\": \"#E5ECF6\", \"gridcolor\": \"white\", \"gridwidth\": 2, \"linecolor\": \"white\", \"showbackground\": true, \"ticks\": \"\", \"zerolinecolor\": \"white\"}, \"zaxis\": {\"backgroundcolor\": \"#E5ECF6\", \"gridcolor\": \"white\", \"gridwidth\": 2, \"linecolor\": \"white\", \"showbackground\": true, \"ticks\": \"\", \"zerolinecolor\": \"white\"}}, \"shapedefaults\": {\"line\": {\"color\": \"#2a3f5f\"}}, \"ternary\": {\"aaxis\": {\"gridcolor\": \"white\", \"linecolor\": \"white\", \"ticks\": \"\"}, \"baxis\": {\"gridcolor\": \"white\", \"linecolor\": \"white\", \"ticks\": \"\"}, \"bgcolor\": \"#E5ECF6\", \"caxis\": {\"gridcolor\": \"white\", \"linecolor\": \"white\", \"ticks\": \"\"}}, \"title\": {\"x\": 0.05}, \"xaxis\": {\"automargin\": true, \"gridcolor\": \"white\", \"linecolor\": \"white\", \"ticks\": \"\", \"title\": {\"standoff\": 15}, \"zerolinecolor\": \"white\", \"zerolinewidth\": 2}, \"yaxis\": {\"automargin\": true, \"gridcolor\": \"white\", \"linecolor\": \"white\", \"ticks\": \"\", \"title\": {\"standoff\": 15}, \"zerolinecolor\": \"white\", \"zerolinewidth\": 2}}}, \"xaxis\": {\"anchor\": \"y\", \"categoryarray\": [\"DecisionTreeClassifier\", \"ExtraTreeClassifier\", \"LinearDiscriminantAnalysis\", \"LogisticRegression\", \"BaggingClassifier\", \"RandomForestClassifier\", \"SGDClassifier\", \"Perceptron\", \"NearestCentroid\", \"ExtraTreesClassifier\", \"GaussianNB\", \"RidgeClassifierCV\", \"CalibratedClassifierCV\", \"LinearSVC\", \"XGBClassifier\", \"DummyClassifier\", \"RidgeClassifier\", \"PassiveAggressiveClassifier\", \"KNeighborsClassifier\", \"CheckingClassifier\", \"LabelPropagation\", \"QuadraticDiscriminantAnalysis\", \"LabelSpreading\", \"BernoulliNB\", \"LGBMClassifier\", \"SVC\", \"AdaBoostClassifier\"], \"categoryorder\": \"array\", \"domain\": [0.0, 1.0], \"title\": {\"text\": \"Model\"}}, \"yaxis\": {\"anchor\": \"x\", \"domain\": [0.0, 1.0], \"title\": {\"text\": \"ROC AUC\"}}},                        {\"responsive\": true}                    ).then(function(){\n                            \nvar gd = document.getElementById('eced72df-cc64-4304-9162-6d282d7e504e');\nvar x = new MutationObserver(function (mutations, observer) {{\n        var display = window.getComputedStyle(gd).display;\n        if (!display || display === 'none') {{\n            console.log([gd, 'removed!']);\n            Plotly.purge(gd);\n            observer.disconnect();\n        }}\n}});\n\n// Listen for the removal of the full notebook cells\nvar notebookContainer = gd.closest('#notebook-container');\nif (notebookContainer) {{\n    x.observe(notebookContainer, {childList: true});\n}}\n\n// Listen for the clearing of the current output cell\nvar outputEl = gd.closest('.output');\nif (outputEl) {{\n    x.observe(outputEl, {childList: true});\n}}\n\n                        })                };                });            </script>        </div>"
     },
     "metadata": {}
    }
   ],
   "source": [
    "fig = px.bar(models_smoteenn.reset_index(), x='Model', y='ROC AUC', color='Model', color_discrete_sequence=px.colors.qualitative.Dark24_r)\n",
    "fig.show()"
   ]
  },
  {
   "source": [
    "Based on the performance of different models with default hyperparameters, we decided to perform hyperparameter optimization of AdaBoostClassifier, DecisionTreeClassifier, LGBMClassifier, and XGBClassifier.\n",
    "\n",
    "Hyperparametr to optimize:\n",
    "\n",
    "AdaBoostClassifier (GridSearchCV): learning_rate (1), n_estimators (50), base_estimator (DecisionTreeClassifier(max_depth=1))\n",
    "\n",
    "DecisionTreeClassifier (GridSearchCV): max_depth (None), min_samples_split (2), max_features (None) \n",
    "\n",
    "XGBClassifier: n_estimators, max_depth, reg_alpha, reg_lambda, eta, gamma, subsample, colsample_bytree\n",
    "\n",
    "<!---\n",
    "LightGBM: num_boost_round, num_leaves, max_depth, lambda_l2, lambda_l1, min_child_samples, min_data_in_leaf\n",
    "--->"
   ],
   "cell_type": "markdown",
   "metadata": {}
  },
  {
   "cell_type": "code",
   "execution_count": 18,
   "metadata": {},
   "outputs": [],
   "source": [
    "X_train=X_smoteenn.toarray()\n",
    "y_train=y_smoteenn\n",
    "X_test=X_test.toarray()\n",
    "y_test=y_test"
   ]
  },
  {
   "cell_type": "code",
   "execution_count": 19,
   "metadata": {},
   "outputs": [
    {
     "output_type": "stream",
     "name": "stdout",
     "text": [
      "Accuracy for optimized ada: 0.6304347826086957\nF1 score for optimized ada: 0.15\nROC AUC for optimized ada: 0.6160919540229886\n"
     ]
    }
   ],
   "source": [
    "# AdaBoostClassifier\n",
    "\n",
    "scoring = {'AUC': 'roc_auc', 'Accuracy': make_scorer(accuracy_score), 'Precision': make_scorer(precision_score), 'Recall': make_scorer(recall_score)}\n",
    "\n",
    "param_grid = {\n",
    "    'learning_rate': np.arange(0, 1.1, 0.2),\n",
    "    'n_estimators': np.arange(0, 205, 50),\n",
    "    #'base_estimator': [DecisionTreeClassifier(max_depth=1), DecisionTreeClassifier(max_depth=2)]\n",
    "}\n",
    "\n",
    "ada = AdaBoostClassifier(random_state=42)\n",
    "\n",
    "gs_ada = GridSearchCV(estimator=ada, \n",
    "                      param_grid=param_grid,\n",
    "                      scoring=scoring,\n",
    "                      refit='AUC',\n",
    "                      return_train_score=True,\n",
    "                      cv=3)\n",
    "gs_ada.fit(X_train, y_train)\n",
    "y_pred = gs_ada.predict(X_test)\n",
    "\n",
    "print('Accuracy for optimized ada: {}'.format(accuracy_score(y_test, y_pred)))\n",
    "print('F1 score for optimized ada: {}'.format(f1_score(y_test, y_pred)))\n",
    "print('ROC AUC for optimized ada: {}'.format(roc_auc_score(y_test, y_pred)))\n"
   ]
  },
  {
   "cell_type": "code",
   "execution_count": 20,
   "metadata": {},
   "outputs": [
    {
     "output_type": "execute_result",
     "data": {
      "text/plain": [
       "{'learning_rate': 0.8, 'n_estimators': 100}"
      ]
     },
     "metadata": {},
     "execution_count": 20
    }
   ],
   "source": [
    "ada_results = gs_ada.cv_results_\n",
    "gs_ada.best_params_"
   ]
  },
  {
   "cell_type": "code",
   "execution_count": 21,
   "metadata": {},
   "outputs": [],
   "source": [
    "gs_ada_df = pd.DataFrame()\n",
    "for k in param_grid:\n",
    "    gs_ada_df[k] = ada_results['param_' + k]\n",
    "\n",
    "for k in ['Accuracy', 'Precision', 'AUC', 'Recall']:\n",
    "    gs_ada_df['mean_train_' + k] = ada_results['mean_train_' + k]\n",
    "    gs_ada_df['std_train_' + k] = ada_results['std_train_' + k]\n",
    "    gs_ada_df['mean_test_' + k] = ada_results['mean_test_' + k]\n",
    "    gs_ada_df['std_test_' + k] = ada_results['std_test_' + k]\n"
   ]
  },
  {
   "cell_type": "code",
   "execution_count": 22,
   "metadata": {},
   "outputs": [],
   "source": [
    "#gs_ada_df['max_depth'] = gs_ada_df['base_estimator'].apply(lambda x: x.max_depth)"
   ]
  },
  {
   "cell_type": "code",
   "execution_count": 23,
   "metadata": {},
   "outputs": [
    {
     "output_type": "execute_result",
     "data": {
      "text/plain": [
       "   learning_rate n_estimators  mean_train_Accuracy  std_train_Accuracy  \\\n",
       "20           0.8            0                  NaN                 NaN   \n",
       "21           0.8           50                 1.00                0.00   \n",
       "22           0.8          100                 1.00                0.00   \n",
       "23           0.8          150                 1.00                0.00   \n",
       "24           0.8          200                 1.00                0.00   \n",
       "\n",
       "    mean_test_Accuracy  std_test_Accuracy  mean_train_Precision  \\\n",
       "20                 NaN                NaN                   NaN   \n",
       "21                0.97               0.02                  1.00   \n",
       "22                0.97               0.02                  1.00   \n",
       "23                0.97               0.02                  1.00   \n",
       "24                0.97               0.02                  1.00   \n",
       "\n",
       "    std_train_Precision  mean_test_Precision  std_test_Precision  \\\n",
       "20                  NaN                  NaN                 NaN   \n",
       "21                 0.00                 0.98                0.00   \n",
       "22                 0.00                 0.97                0.00   \n",
       "23                 0.00                 0.98                0.00   \n",
       "24                 0.00                 0.98                0.00   \n",
       "\n",
       "    mean_train_AUC  std_train_AUC  mean_test_AUC  std_test_AUC  \\\n",
       "20             NaN            NaN            NaN           NaN   \n",
       "21            1.00           0.00           0.99          0.01   \n",
       "22            1.00           0.00           1.00          0.01   \n",
       "23            1.00           0.00           1.00          0.01   \n",
       "24            1.00           0.00           1.00          0.01   \n",
       "\n",
       "    mean_train_Recall  std_train_Recall  mean_test_Recall  std_test_Recall  \n",
       "20                NaN               NaN               NaN              NaN  \n",
       "21               1.00              0.00              0.98             0.02  \n",
       "22               1.00              0.00              0.98             0.02  \n",
       "23               1.00              0.00              0.98             0.02  \n",
       "24               1.00              0.00              0.98             0.02  "
      ],
      "text/html": "<div>\n<style scoped>\n    .dataframe tbody tr th:only-of-type {\n        vertical-align: middle;\n    }\n\n    .dataframe tbody tr th {\n        vertical-align: top;\n    }\n\n    .dataframe thead th {\n        text-align: right;\n    }\n</style>\n<table border=\"1\" class=\"dataframe\">\n  <thead>\n    <tr style=\"text-align: right;\">\n      <th></th>\n      <th>learning_rate</th>\n      <th>n_estimators</th>\n      <th>mean_train_Accuracy</th>\n      <th>std_train_Accuracy</th>\n      <th>mean_test_Accuracy</th>\n      <th>std_test_Accuracy</th>\n      <th>mean_train_Precision</th>\n      <th>std_train_Precision</th>\n      <th>mean_test_Precision</th>\n      <th>std_test_Precision</th>\n      <th>mean_train_AUC</th>\n      <th>std_train_AUC</th>\n      <th>mean_test_AUC</th>\n      <th>std_test_AUC</th>\n      <th>mean_train_Recall</th>\n      <th>std_train_Recall</th>\n      <th>mean_test_Recall</th>\n      <th>std_test_Recall</th>\n    </tr>\n  </thead>\n  <tbody>\n    <tr>\n      <th>20</th>\n      <td>0.8</td>\n      <td>0</td>\n      <td>NaN</td>\n      <td>NaN</td>\n      <td>NaN</td>\n      <td>NaN</td>\n      <td>NaN</td>\n      <td>NaN</td>\n      <td>NaN</td>\n      <td>NaN</td>\n      <td>NaN</td>\n      <td>NaN</td>\n      <td>NaN</td>\n      <td>NaN</td>\n      <td>NaN</td>\n      <td>NaN</td>\n      <td>NaN</td>\n      <td>NaN</td>\n    </tr>\n    <tr>\n      <th>21</th>\n      <td>0.8</td>\n      <td>50</td>\n      <td>1.00</td>\n      <td>0.00</td>\n      <td>0.97</td>\n      <td>0.02</td>\n      <td>1.00</td>\n      <td>0.00</td>\n      <td>0.98</td>\n      <td>0.00</td>\n      <td>1.00</td>\n      <td>0.00</td>\n      <td>0.99</td>\n      <td>0.01</td>\n      <td>1.00</td>\n      <td>0.00</td>\n      <td>0.98</td>\n      <td>0.02</td>\n    </tr>\n    <tr>\n      <th>22</th>\n      <td>0.8</td>\n      <td>100</td>\n      <td>1.00</td>\n      <td>0.00</td>\n      <td>0.97</td>\n      <td>0.02</td>\n      <td>1.00</td>\n      <td>0.00</td>\n      <td>0.97</td>\n      <td>0.00</td>\n      <td>1.00</td>\n      <td>0.00</td>\n      <td>1.00</td>\n      <td>0.01</td>\n      <td>1.00</td>\n      <td>0.00</td>\n      <td>0.98</td>\n      <td>0.02</td>\n    </tr>\n    <tr>\n      <th>23</th>\n      <td>0.8</td>\n      <td>150</td>\n      <td>1.00</td>\n      <td>0.00</td>\n      <td>0.97</td>\n      <td>0.02</td>\n      <td>1.00</td>\n      <td>0.00</td>\n      <td>0.98</td>\n      <td>0.00</td>\n      <td>1.00</td>\n      <td>0.00</td>\n      <td>1.00</td>\n      <td>0.01</td>\n      <td>1.00</td>\n      <td>0.00</td>\n      <td>0.98</td>\n      <td>0.02</td>\n    </tr>\n    <tr>\n      <th>24</th>\n      <td>0.8</td>\n      <td>200</td>\n      <td>1.00</td>\n      <td>0.00</td>\n      <td>0.97</td>\n      <td>0.02</td>\n      <td>1.00</td>\n      <td>0.00</td>\n      <td>0.98</td>\n      <td>0.00</td>\n      <td>1.00</td>\n      <td>0.00</td>\n      <td>1.00</td>\n      <td>0.01</td>\n      <td>1.00</td>\n      <td>0.00</td>\n      <td>0.98</td>\n      <td>0.02</td>\n    </tr>\n  </tbody>\n</table>\n</div>"
     },
     "metadata": {},
     "execution_count": 23
    }
   ],
   "source": [
    "gs_ada_df = gs_ada_df[gs_ada_df['learning_rate'] == 0.8]\n",
    "#gs_ada_df = gs_ada_df[gs_ada_df['max_depth'] == 2]\n",
    "gs_ada_df"
   ]
  },
  {
   "cell_type": "code",
   "execution_count": 24,
   "metadata": {},
   "outputs": [
    {
     "output_type": "display_data",
     "data": {
      "application/vnd.plotly.v1+json": {
       "config": {
        "plotlyServerURL": "https://plot.ly"
       },
       "data": [
        {
         "line": {
          "color": "rgb(31, 119, 180)"
         },
         "mode": "lines",
         "name": "test_auc",
         "type": "scatter",
         "x": [
          0,
          50,
          100,
          150,
          200
         ],
         "y": [
          null,
          0.9939045628700801,
          0.9956461163357715,
          0.9956461163357715,
          0.9956461163357715
         ]
        },
        {
         "line": {
          "width": 0
         },
         "marker": {
          "color": "#444"
         },
         "mode": "lines",
         "showlegend": false,
         "type": "scatter",
         "x": [
          0,
          50,
          100,
          150,
          200
         ],
         "y": [
          null,
          0.9998207202199453,
          1.001803437662718,
          1.001803437662718,
          1.001803437662718
         ]
        },
        {
         "fill": "tonexty",
         "fillcolor": "rgba(68, 68, 68, 0.3)",
         "line": {
          "width": 0
         },
         "marker": {
          "color": "#444"
         },
         "mode": "lines",
         "showlegend": false,
         "type": "scatter",
         "x": [
          0,
          50,
          100,
          150,
          200
         ],
         "y": [
          null,
          0.9879884055202149,
          0.9894887950088249,
          0.9894887950088249,
          0.9894887950088249
         ]
        }
       ],
       "layout": {
        "hovermode": "x",
        "template": {
         "data": {
          "bar": [
           {
            "error_x": {
             "color": "#2a3f5f"
            },
            "error_y": {
             "color": "#2a3f5f"
            },
            "marker": {
             "line": {
              "color": "#E5ECF6",
              "width": 0.5
             }
            },
            "type": "bar"
           }
          ],
          "barpolar": [
           {
            "marker": {
             "line": {
              "color": "#E5ECF6",
              "width": 0.5
             }
            },
            "type": "barpolar"
           }
          ],
          "carpet": [
           {
            "aaxis": {
             "endlinecolor": "#2a3f5f",
             "gridcolor": "white",
             "linecolor": "white",
             "minorgridcolor": "white",
             "startlinecolor": "#2a3f5f"
            },
            "baxis": {
             "endlinecolor": "#2a3f5f",
             "gridcolor": "white",
             "linecolor": "white",
             "minorgridcolor": "white",
             "startlinecolor": "#2a3f5f"
            },
            "type": "carpet"
           }
          ],
          "choropleth": [
           {
            "colorbar": {
             "outlinewidth": 0,
             "ticks": ""
            },
            "type": "choropleth"
           }
          ],
          "contour": [
           {
            "colorbar": {
             "outlinewidth": 0,
             "ticks": ""
            },
            "colorscale": [
             [
              0,
              "#0d0887"
             ],
             [
              0.1111111111111111,
              "#46039f"
             ],
             [
              0.2222222222222222,
              "#7201a8"
             ],
             [
              0.3333333333333333,
              "#9c179e"
             ],
             [
              0.4444444444444444,
              "#bd3786"
             ],
             [
              0.5555555555555556,
              "#d8576b"
             ],
             [
              0.6666666666666666,
              "#ed7953"
             ],
             [
              0.7777777777777778,
              "#fb9f3a"
             ],
             [
              0.8888888888888888,
              "#fdca26"
             ],
             [
              1,
              "#f0f921"
             ]
            ],
            "type": "contour"
           }
          ],
          "contourcarpet": [
           {
            "colorbar": {
             "outlinewidth": 0,
             "ticks": ""
            },
            "type": "contourcarpet"
           }
          ],
          "heatmap": [
           {
            "colorbar": {
             "outlinewidth": 0,
             "ticks": ""
            },
            "colorscale": [
             [
              0,
              "#0d0887"
             ],
             [
              0.1111111111111111,
              "#46039f"
             ],
             [
              0.2222222222222222,
              "#7201a8"
             ],
             [
              0.3333333333333333,
              "#9c179e"
             ],
             [
              0.4444444444444444,
              "#bd3786"
             ],
             [
              0.5555555555555556,
              "#d8576b"
             ],
             [
              0.6666666666666666,
              "#ed7953"
             ],
             [
              0.7777777777777778,
              "#fb9f3a"
             ],
             [
              0.8888888888888888,
              "#fdca26"
             ],
             [
              1,
              "#f0f921"
             ]
            ],
            "type": "heatmap"
           }
          ],
          "heatmapgl": [
           {
            "colorbar": {
             "outlinewidth": 0,
             "ticks": ""
            },
            "colorscale": [
             [
              0,
              "#0d0887"
             ],
             [
              0.1111111111111111,
              "#46039f"
             ],
             [
              0.2222222222222222,
              "#7201a8"
             ],
             [
              0.3333333333333333,
              "#9c179e"
             ],
             [
              0.4444444444444444,
              "#bd3786"
             ],
             [
              0.5555555555555556,
              "#d8576b"
             ],
             [
              0.6666666666666666,
              "#ed7953"
             ],
             [
              0.7777777777777778,
              "#fb9f3a"
             ],
             [
              0.8888888888888888,
              "#fdca26"
             ],
             [
              1,
              "#f0f921"
             ]
            ],
            "type": "heatmapgl"
           }
          ],
          "histogram": [
           {
            "marker": {
             "colorbar": {
              "outlinewidth": 0,
              "ticks": ""
             }
            },
            "type": "histogram"
           }
          ],
          "histogram2d": [
           {
            "colorbar": {
             "outlinewidth": 0,
             "ticks": ""
            },
            "colorscale": [
             [
              0,
              "#0d0887"
             ],
             [
              0.1111111111111111,
              "#46039f"
             ],
             [
              0.2222222222222222,
              "#7201a8"
             ],
             [
              0.3333333333333333,
              "#9c179e"
             ],
             [
              0.4444444444444444,
              "#bd3786"
             ],
             [
              0.5555555555555556,
              "#d8576b"
             ],
             [
              0.6666666666666666,
              "#ed7953"
             ],
             [
              0.7777777777777778,
              "#fb9f3a"
             ],
             [
              0.8888888888888888,
              "#fdca26"
             ],
             [
              1,
              "#f0f921"
             ]
            ],
            "type": "histogram2d"
           }
          ],
          "histogram2dcontour": [
           {
            "colorbar": {
             "outlinewidth": 0,
             "ticks": ""
            },
            "colorscale": [
             [
              0,
              "#0d0887"
             ],
             [
              0.1111111111111111,
              "#46039f"
             ],
             [
              0.2222222222222222,
              "#7201a8"
             ],
             [
              0.3333333333333333,
              "#9c179e"
             ],
             [
              0.4444444444444444,
              "#bd3786"
             ],
             [
              0.5555555555555556,
              "#d8576b"
             ],
             [
              0.6666666666666666,
              "#ed7953"
             ],
             [
              0.7777777777777778,
              "#fb9f3a"
             ],
             [
              0.8888888888888888,
              "#fdca26"
             ],
             [
              1,
              "#f0f921"
             ]
            ],
            "type": "histogram2dcontour"
           }
          ],
          "mesh3d": [
           {
            "colorbar": {
             "outlinewidth": 0,
             "ticks": ""
            },
            "type": "mesh3d"
           }
          ],
          "parcoords": [
           {
            "line": {
             "colorbar": {
              "outlinewidth": 0,
              "ticks": ""
             }
            },
            "type": "parcoords"
           }
          ],
          "pie": [
           {
            "automargin": true,
            "type": "pie"
           }
          ],
          "scatter": [
           {
            "marker": {
             "colorbar": {
              "outlinewidth": 0,
              "ticks": ""
             }
            },
            "type": "scatter"
           }
          ],
          "scatter3d": [
           {
            "line": {
             "colorbar": {
              "outlinewidth": 0,
              "ticks": ""
             }
            },
            "marker": {
             "colorbar": {
              "outlinewidth": 0,
              "ticks": ""
             }
            },
            "type": "scatter3d"
           }
          ],
          "scattercarpet": [
           {
            "marker": {
             "colorbar": {
              "outlinewidth": 0,
              "ticks": ""
             }
            },
            "type": "scattercarpet"
           }
          ],
          "scattergeo": [
           {
            "marker": {
             "colorbar": {
              "outlinewidth": 0,
              "ticks": ""
             }
            },
            "type": "scattergeo"
           }
          ],
          "scattergl": [
           {
            "marker": {
             "colorbar": {
              "outlinewidth": 0,
              "ticks": ""
             }
            },
            "type": "scattergl"
           }
          ],
          "scattermapbox": [
           {
            "marker": {
             "colorbar": {
              "outlinewidth": 0,
              "ticks": ""
             }
            },
            "type": "scattermapbox"
           }
          ],
          "scatterpolar": [
           {
            "marker": {
             "colorbar": {
              "outlinewidth": 0,
              "ticks": ""
             }
            },
            "type": "scatterpolar"
           }
          ],
          "scatterpolargl": [
           {
            "marker": {
             "colorbar": {
              "outlinewidth": 0,
              "ticks": ""
             }
            },
            "type": "scatterpolargl"
           }
          ],
          "scatterternary": [
           {
            "marker": {
             "colorbar": {
              "outlinewidth": 0,
              "ticks": ""
             }
            },
            "type": "scatterternary"
           }
          ],
          "surface": [
           {
            "colorbar": {
             "outlinewidth": 0,
             "ticks": ""
            },
            "colorscale": [
             [
              0,
              "#0d0887"
             ],
             [
              0.1111111111111111,
              "#46039f"
             ],
             [
              0.2222222222222222,
              "#7201a8"
             ],
             [
              0.3333333333333333,
              "#9c179e"
             ],
             [
              0.4444444444444444,
              "#bd3786"
             ],
             [
              0.5555555555555556,
              "#d8576b"
             ],
             [
              0.6666666666666666,
              "#ed7953"
             ],
             [
              0.7777777777777778,
              "#fb9f3a"
             ],
             [
              0.8888888888888888,
              "#fdca26"
             ],
             [
              1,
              "#f0f921"
             ]
            ],
            "type": "surface"
           }
          ],
          "table": [
           {
            "cells": {
             "fill": {
              "color": "#EBF0F8"
             },
             "line": {
              "color": "white"
             }
            },
            "header": {
             "fill": {
              "color": "#C8D4E3"
             },
             "line": {
              "color": "white"
             }
            },
            "type": "table"
           }
          ]
         },
         "layout": {
          "annotationdefaults": {
           "arrowcolor": "#2a3f5f",
           "arrowhead": 0,
           "arrowwidth": 1
          },
          "autotypenumbers": "strict",
          "coloraxis": {
           "colorbar": {
            "outlinewidth": 0,
            "ticks": ""
           }
          },
          "colorscale": {
           "diverging": [
            [
             0,
             "#8e0152"
            ],
            [
             0.1,
             "#c51b7d"
            ],
            [
             0.2,
             "#de77ae"
            ],
            [
             0.3,
             "#f1b6da"
            ],
            [
             0.4,
             "#fde0ef"
            ],
            [
             0.5,
             "#f7f7f7"
            ],
            [
             0.6,
             "#e6f5d0"
            ],
            [
             0.7,
             "#b8e186"
            ],
            [
             0.8,
             "#7fbc41"
            ],
            [
             0.9,
             "#4d9221"
            ],
            [
             1,
             "#276419"
            ]
           ],
           "sequential": [
            [
             0,
             "#0d0887"
            ],
            [
             0.1111111111111111,
             "#46039f"
            ],
            [
             0.2222222222222222,
             "#7201a8"
            ],
            [
             0.3333333333333333,
             "#9c179e"
            ],
            [
             0.4444444444444444,
             "#bd3786"
            ],
            [
             0.5555555555555556,
             "#d8576b"
            ],
            [
             0.6666666666666666,
             "#ed7953"
            ],
            [
             0.7777777777777778,
             "#fb9f3a"
            ],
            [
             0.8888888888888888,
             "#fdca26"
            ],
            [
             1,
             "#f0f921"
            ]
           ],
           "sequentialminus": [
            [
             0,
             "#0d0887"
            ],
            [
             0.1111111111111111,
             "#46039f"
            ],
            [
             0.2222222222222222,
             "#7201a8"
            ],
            [
             0.3333333333333333,
             "#9c179e"
            ],
            [
             0.4444444444444444,
             "#bd3786"
            ],
            [
             0.5555555555555556,
             "#d8576b"
            ],
            [
             0.6666666666666666,
             "#ed7953"
            ],
            [
             0.7777777777777778,
             "#fb9f3a"
            ],
            [
             0.8888888888888888,
             "#fdca26"
            ],
            [
             1,
             "#f0f921"
            ]
           ]
          },
          "colorway": [
           "#636efa",
           "#EF553B",
           "#00cc96",
           "#ab63fa",
           "#FFA15A",
           "#19d3f3",
           "#FF6692",
           "#B6E880",
           "#FF97FF",
           "#FECB52"
          ],
          "font": {
           "color": "#2a3f5f"
          },
          "geo": {
           "bgcolor": "white",
           "lakecolor": "white",
           "landcolor": "#E5ECF6",
           "showlakes": true,
           "showland": true,
           "subunitcolor": "white"
          },
          "hoverlabel": {
           "align": "left"
          },
          "hovermode": "closest",
          "mapbox": {
           "style": "light"
          },
          "paper_bgcolor": "white",
          "plot_bgcolor": "#E5ECF6",
          "polar": {
           "angularaxis": {
            "gridcolor": "white",
            "linecolor": "white",
            "ticks": ""
           },
           "bgcolor": "#E5ECF6",
           "radialaxis": {
            "gridcolor": "white",
            "linecolor": "white",
            "ticks": ""
           }
          },
          "scene": {
           "xaxis": {
            "backgroundcolor": "#E5ECF6",
            "gridcolor": "white",
            "gridwidth": 2,
            "linecolor": "white",
            "showbackground": true,
            "ticks": "",
            "zerolinecolor": "white"
           },
           "yaxis": {
            "backgroundcolor": "#E5ECF6",
            "gridcolor": "white",
            "gridwidth": 2,
            "linecolor": "white",
            "showbackground": true,
            "ticks": "",
            "zerolinecolor": "white"
           },
           "zaxis": {
            "backgroundcolor": "#E5ECF6",
            "gridcolor": "white",
            "gridwidth": 2,
            "linecolor": "white",
            "showbackground": true,
            "ticks": "",
            "zerolinecolor": "white"
           }
          },
          "shapedefaults": {
           "line": {
            "color": "#2a3f5f"
           }
          },
          "ternary": {
           "aaxis": {
            "gridcolor": "white",
            "linecolor": "white",
            "ticks": ""
           },
           "baxis": {
            "gridcolor": "white",
            "linecolor": "white",
            "ticks": ""
           },
           "bgcolor": "#E5ECF6",
           "caxis": {
            "gridcolor": "white",
            "linecolor": "white",
            "ticks": ""
           }
          },
          "title": {
           "x": 0.05
          },
          "xaxis": {
           "automargin": true,
           "gridcolor": "white",
           "linecolor": "white",
           "ticks": "",
           "title": {
            "standoff": 15
           },
           "zerolinecolor": "white",
           "zerolinewidth": 2
          },
          "yaxis": {
           "automargin": true,
           "gridcolor": "white",
           "linecolor": "white",
           "ticks": "",
           "title": {
            "standoff": 15
           },
           "zerolinecolor": "white",
           "zerolinewidth": 2
          }
         }
        },
        "title": {
         "text": "GridSearchCV for n_estimators"
        },
        "yaxis": {
         "title": {
          "text": "Score"
         }
        }
       }
      },
      "text/html": "<div>                            <div id=\"f0904c40-9775-4421-bdc9-e3c68b58c919\" class=\"plotly-graph-div\" style=\"height:525px; width:100%;\"></div>            <script type=\"text/javascript\">                require([\"plotly\"], function(Plotly) {                    window.PLOTLYENV=window.PLOTLYENV || {};                                    if (document.getElementById(\"f0904c40-9775-4421-bdc9-e3c68b58c919\")) {                    Plotly.newPlot(                        \"f0904c40-9775-4421-bdc9-e3c68b58c919\",                        [{\"line\": {\"color\": \"rgb(31, 119, 180)\"}, \"mode\": \"lines\", \"name\": \"test_auc\", \"type\": \"scatter\", \"x\": [0, 50, 100, 150, 200], \"y\": [null, 0.9939045628700801, 0.9956461163357715, 0.9956461163357715, 0.9956461163357715]}, {\"line\": {\"width\": 0}, \"marker\": {\"color\": \"#444\"}, \"mode\": \"lines\", \"showlegend\": false, \"type\": \"scatter\", \"x\": [0, 50, 100, 150, 200], \"y\": [null, 0.9998207202199453, 1.001803437662718, 1.001803437662718, 1.001803437662718]}, {\"fill\": \"tonexty\", \"fillcolor\": \"rgba(68, 68, 68, 0.3)\", \"line\": {\"width\": 0}, \"marker\": {\"color\": \"#444\"}, \"mode\": \"lines\", \"showlegend\": false, \"type\": \"scatter\", \"x\": [0, 50, 100, 150, 200], \"y\": [null, 0.9879884055202149, 0.9894887950088249, 0.9894887950088249, 0.9894887950088249]}],                        {\"hovermode\": \"x\", \"template\": {\"data\": {\"bar\": [{\"error_x\": {\"color\": \"#2a3f5f\"}, \"error_y\": {\"color\": \"#2a3f5f\"}, \"marker\": {\"line\": {\"color\": \"#E5ECF6\", \"width\": 0.5}}, \"type\": \"bar\"}], \"barpolar\": [{\"marker\": {\"line\": {\"color\": \"#E5ECF6\", \"width\": 0.5}}, \"type\": \"barpolar\"}], \"carpet\": [{\"aaxis\": {\"endlinecolor\": \"#2a3f5f\", \"gridcolor\": \"white\", \"linecolor\": \"white\", \"minorgridcolor\": \"white\", \"startlinecolor\": \"#2a3f5f\"}, \"baxis\": {\"endlinecolor\": \"#2a3f5f\", \"gridcolor\": \"white\", \"linecolor\": \"white\", \"minorgridcolor\": \"white\", \"startlinecolor\": \"#2a3f5f\"}, \"type\": \"carpet\"}], \"choropleth\": [{\"colorbar\": {\"outlinewidth\": 0, \"ticks\": \"\"}, \"type\": \"choropleth\"}], \"contour\": [{\"colorbar\": {\"outlinewidth\": 0, \"ticks\": \"\"}, \"colorscale\": [[0.0, \"#0d0887\"], [0.1111111111111111, \"#46039f\"], [0.2222222222222222, \"#7201a8\"], [0.3333333333333333, \"#9c179e\"], [0.4444444444444444, \"#bd3786\"], [0.5555555555555556, \"#d8576b\"], [0.6666666666666666, \"#ed7953\"], [0.7777777777777778, \"#fb9f3a\"], [0.8888888888888888, \"#fdca26\"], [1.0, \"#f0f921\"]], \"type\": \"contour\"}], \"contourcarpet\": [{\"colorbar\": {\"outlinewidth\": 0, \"ticks\": \"\"}, \"type\": \"contourcarpet\"}], \"heatmap\": [{\"colorbar\": {\"outlinewidth\": 0, \"ticks\": \"\"}, \"colorscale\": [[0.0, \"#0d0887\"], [0.1111111111111111, \"#46039f\"], [0.2222222222222222, \"#7201a8\"], [0.3333333333333333, \"#9c179e\"], [0.4444444444444444, \"#bd3786\"], [0.5555555555555556, \"#d8576b\"], [0.6666666666666666, \"#ed7953\"], [0.7777777777777778, \"#fb9f3a\"], [0.8888888888888888, \"#fdca26\"], [1.0, \"#f0f921\"]], \"type\": \"heatmap\"}], \"heatmapgl\": [{\"colorbar\": {\"outlinewidth\": 0, \"ticks\": \"\"}, \"colorscale\": [[0.0, \"#0d0887\"], [0.1111111111111111, \"#46039f\"], [0.2222222222222222, \"#7201a8\"], [0.3333333333333333, \"#9c179e\"], [0.4444444444444444, \"#bd3786\"], [0.5555555555555556, \"#d8576b\"], [0.6666666666666666, \"#ed7953\"], [0.7777777777777778, \"#fb9f3a\"], [0.8888888888888888, \"#fdca26\"], [1.0, \"#f0f921\"]], \"type\": \"heatmapgl\"}], \"histogram\": [{\"marker\": {\"colorbar\": {\"outlinewidth\": 0, \"ticks\": \"\"}}, \"type\": \"histogram\"}], \"histogram2d\": [{\"colorbar\": {\"outlinewidth\": 0, \"ticks\": \"\"}, \"colorscale\": [[0.0, \"#0d0887\"], [0.1111111111111111, \"#46039f\"], [0.2222222222222222, \"#7201a8\"], [0.3333333333333333, \"#9c179e\"], [0.4444444444444444, \"#bd3786\"], [0.5555555555555556, \"#d8576b\"], [0.6666666666666666, \"#ed7953\"], [0.7777777777777778, \"#fb9f3a\"], [0.8888888888888888, \"#fdca26\"], [1.0, \"#f0f921\"]], \"type\": \"histogram2d\"}], \"histogram2dcontour\": [{\"colorbar\": {\"outlinewidth\": 0, \"ticks\": \"\"}, \"colorscale\": [[0.0, \"#0d0887\"], [0.1111111111111111, \"#46039f\"], [0.2222222222222222, \"#7201a8\"], [0.3333333333333333, \"#9c179e\"], [0.4444444444444444, \"#bd3786\"], [0.5555555555555556, \"#d8576b\"], [0.6666666666666666, \"#ed7953\"], [0.7777777777777778, \"#fb9f3a\"], [0.8888888888888888, \"#fdca26\"], [1.0, \"#f0f921\"]], \"type\": \"histogram2dcontour\"}], \"mesh3d\": [{\"colorbar\": {\"outlinewidth\": 0, \"ticks\": \"\"}, \"type\": \"mesh3d\"}], \"parcoords\": [{\"line\": {\"colorbar\": {\"outlinewidth\": 0, \"ticks\": \"\"}}, \"type\": \"parcoords\"}], \"pie\": [{\"automargin\": true, \"type\": \"pie\"}], \"scatter\": [{\"marker\": {\"colorbar\": {\"outlinewidth\": 0, \"ticks\": \"\"}}, \"type\": \"scatter\"}], \"scatter3d\": [{\"line\": {\"colorbar\": {\"outlinewidth\": 0, \"ticks\": \"\"}}, \"marker\": {\"colorbar\": {\"outlinewidth\": 0, \"ticks\": \"\"}}, \"type\": \"scatter3d\"}], \"scattercarpet\": [{\"marker\": {\"colorbar\": {\"outlinewidth\": 0, \"ticks\": \"\"}}, \"type\": \"scattercarpet\"}], \"scattergeo\": [{\"marker\": {\"colorbar\": {\"outlinewidth\": 0, \"ticks\": \"\"}}, \"type\": \"scattergeo\"}], \"scattergl\": [{\"marker\": {\"colorbar\": {\"outlinewidth\": 0, \"ticks\": \"\"}}, \"type\": \"scattergl\"}], \"scattermapbox\": [{\"marker\": {\"colorbar\": {\"outlinewidth\": 0, \"ticks\": \"\"}}, \"type\": \"scattermapbox\"}], \"scatterpolar\": [{\"marker\": {\"colorbar\": {\"outlinewidth\": 0, \"ticks\": \"\"}}, \"type\": \"scatterpolar\"}], \"scatterpolargl\": [{\"marker\": {\"colorbar\": {\"outlinewidth\": 0, \"ticks\": \"\"}}, \"type\": \"scatterpolargl\"}], \"scatterternary\": [{\"marker\": {\"colorbar\": {\"outlinewidth\": 0, \"ticks\": \"\"}}, \"type\": \"scatterternary\"}], \"surface\": [{\"colorbar\": {\"outlinewidth\": 0, \"ticks\": \"\"}, \"colorscale\": [[0.0, \"#0d0887\"], [0.1111111111111111, \"#46039f\"], [0.2222222222222222, \"#7201a8\"], [0.3333333333333333, \"#9c179e\"], [0.4444444444444444, \"#bd3786\"], [0.5555555555555556, \"#d8576b\"], [0.6666666666666666, \"#ed7953\"], [0.7777777777777778, \"#fb9f3a\"], [0.8888888888888888, \"#fdca26\"], [1.0, \"#f0f921\"]], \"type\": \"surface\"}], \"table\": [{\"cells\": {\"fill\": {\"color\": \"#EBF0F8\"}, \"line\": {\"color\": \"white\"}}, \"header\": {\"fill\": {\"color\": \"#C8D4E3\"}, \"line\": {\"color\": \"white\"}}, \"type\": \"table\"}]}, \"layout\": {\"annotationdefaults\": {\"arrowcolor\": \"#2a3f5f\", \"arrowhead\": 0, \"arrowwidth\": 1}, \"autotypenumbers\": \"strict\", \"coloraxis\": {\"colorbar\": {\"outlinewidth\": 0, \"ticks\": \"\"}}, \"colorscale\": {\"diverging\": [[0, \"#8e0152\"], [0.1, \"#c51b7d\"], [0.2, \"#de77ae\"], [0.3, \"#f1b6da\"], [0.4, \"#fde0ef\"], [0.5, \"#f7f7f7\"], [0.6, \"#e6f5d0\"], [0.7, \"#b8e186\"], [0.8, \"#7fbc41\"], [0.9, \"#4d9221\"], [1, \"#276419\"]], \"sequential\": [[0.0, \"#0d0887\"], [0.1111111111111111, \"#46039f\"], [0.2222222222222222, \"#7201a8\"], [0.3333333333333333, \"#9c179e\"], [0.4444444444444444, \"#bd3786\"], [0.5555555555555556, \"#d8576b\"], [0.6666666666666666, \"#ed7953\"], [0.7777777777777778, \"#fb9f3a\"], [0.8888888888888888, \"#fdca26\"], [1.0, \"#f0f921\"]], \"sequentialminus\": [[0.0, \"#0d0887\"], [0.1111111111111111, \"#46039f\"], [0.2222222222222222, \"#7201a8\"], [0.3333333333333333, \"#9c179e\"], [0.4444444444444444, \"#bd3786\"], [0.5555555555555556, \"#d8576b\"], [0.6666666666666666, \"#ed7953\"], [0.7777777777777778, \"#fb9f3a\"], [0.8888888888888888, \"#fdca26\"], [1.0, \"#f0f921\"]]}, \"colorway\": [\"#636efa\", \"#EF553B\", \"#00cc96\", \"#ab63fa\", \"#FFA15A\", \"#19d3f3\", \"#FF6692\", \"#B6E880\", \"#FF97FF\", \"#FECB52\"], \"font\": {\"color\": \"#2a3f5f\"}, \"geo\": {\"bgcolor\": \"white\", \"lakecolor\": \"white\", \"landcolor\": \"#E5ECF6\", \"showlakes\": true, \"showland\": true, \"subunitcolor\": \"white\"}, \"hoverlabel\": {\"align\": \"left\"}, \"hovermode\": \"closest\", \"mapbox\": {\"style\": \"light\"}, \"paper_bgcolor\": \"white\", \"plot_bgcolor\": \"#E5ECF6\", \"polar\": {\"angularaxis\": {\"gridcolor\": \"white\", \"linecolor\": \"white\", \"ticks\": \"\"}, \"bgcolor\": \"#E5ECF6\", \"radialaxis\": {\"gridcolor\": \"white\", \"linecolor\": \"white\", \"ticks\": \"\"}}, \"scene\": {\"xaxis\": {\"backgroundcolor\": \"#E5ECF6\", \"gridcolor\": \"white\", \"gridwidth\": 2, \"linecolor\": \"white\", \"showbackground\": true, \"ticks\": \"\", \"zerolinecolor\": \"white\"}, \"yaxis\": {\"backgroundcolor\": \"#E5ECF6\", \"gridcolor\": \"white\", \"gridwidth\": 2, \"linecolor\": \"white\", \"showbackground\": true, \"ticks\": \"\", \"zerolinecolor\": \"white\"}, \"zaxis\": {\"backgroundcolor\": \"#E5ECF6\", \"gridcolor\": \"white\", \"gridwidth\": 2, \"linecolor\": \"white\", \"showbackground\": true, \"ticks\": \"\", \"zerolinecolor\": \"white\"}}, \"shapedefaults\": {\"line\": {\"color\": \"#2a3f5f\"}}, \"ternary\": {\"aaxis\": {\"gridcolor\": \"white\", \"linecolor\": \"white\", \"ticks\": \"\"}, \"baxis\": {\"gridcolor\": \"white\", \"linecolor\": \"white\", \"ticks\": \"\"}, \"bgcolor\": \"#E5ECF6\", \"caxis\": {\"gridcolor\": \"white\", \"linecolor\": \"white\", \"ticks\": \"\"}}, \"title\": {\"x\": 0.05}, \"xaxis\": {\"automargin\": true, \"gridcolor\": \"white\", \"linecolor\": \"white\", \"ticks\": \"\", \"title\": {\"standoff\": 15}, \"zerolinecolor\": \"white\", \"zerolinewidth\": 2}, \"yaxis\": {\"automargin\": true, \"gridcolor\": \"white\", \"linecolor\": \"white\", \"ticks\": \"\", \"title\": {\"standoff\": 15}, \"zerolinecolor\": \"white\", \"zerolinewidth\": 2}}}, \"title\": {\"text\": \"GridSearchCV for n_estimators\"}, \"yaxis\": {\"title\": {\"text\": \"Score\"}}},                        {\"responsive\": true}                    ).then(function(){\n                            \nvar gd = document.getElementById('f0904c40-9775-4421-bdc9-e3c68b58c919');\nvar x = new MutationObserver(function (mutations, observer) {{\n        var display = window.getComputedStyle(gd).display;\n        if (!display || display === 'none') {{\n            console.log([gd, 'removed!']);\n            Plotly.purge(gd);\n            observer.disconnect();\n        }}\n}});\n\n// Listen for the removal of the full notebook cells\nvar notebookContainer = gd.closest('#notebook-container');\nif (notebookContainer) {{\n    x.observe(notebookContainer, {childList: true});\n}}\n\n// Listen for the clearing of the current output cell\nvar outputEl = gd.closest('.output');\nif (outputEl) {{\n    x.observe(outputEl, {childList: true});\n}}\n\n                        })                };                });            </script>        </div>"
     },
     "metadata": {}
    }
   ],
   "source": [
    "fig = go.Figure([\n",
    "    go.Scatter(\n",
    "        name='test_auc',\n",
    "        x=gs_ada_df['n_estimators'],\n",
    "        y=gs_ada_df['mean_test_AUC'],\n",
    "        mode='lines',\n",
    "        line=dict(color='rgb(31, 119, 180)'),\n",
    "    ),\n",
    "    go.Scatter(\n",
    "        x=gs_ada_df['n_estimators'],\n",
    "        y=gs_ada_df['mean_test_AUC']+gs_ada_df['std_test_AUC'],\n",
    "        mode='lines',\n",
    "        marker=dict(color=\"#444\"),\n",
    "        line=dict(width=0),\n",
    "        showlegend=False\n",
    "    ),\n",
    "    go.Scatter(\n",
    "        x=gs_ada_df['n_estimators'],\n",
    "        y=gs_ada_df['mean_test_AUC']-gs_ada_df['std_test_AUC'],\n",
    "        marker=dict(color=\"#444\"),\n",
    "        line=dict(width=0),\n",
    "        mode='lines',\n",
    "        fillcolor='rgba(68, 68, 68, 0.3)',\n",
    "        fill='tonexty',\n",
    "        showlegend=False\n",
    "    )\n",
    "])\n",
    "fig.update_layout(\n",
    "    yaxis_title='Score',\n",
    "    title='GridSearchCV for n_estimators',\n",
    "    hovermode=\"x\"\n",
    ")\n",
    "fig.show()"
   ]
  },
  {
   "cell_type": "code",
   "execution_count": 25,
   "metadata": {},
   "outputs": [
    {
     "output_type": "stream",
     "name": "stdout",
     "text": [
      "Accuracy for optimized ada: 0.6847826086956522\nROC AUC for optimized ada: 0.8333333333333334\n"
     ]
    }
   ],
   "source": [
    "# DecisionTreeClassifier\n",
    "\n",
    "scoring = {'AUC': 'roc_auc', 'Accuracy': make_scorer(accuracy_score), 'Precision': make_scorer(precision_score), 'Recall': make_scorer(recall_score)}\n",
    "\n",
    "param_grid = {\n",
    "    'max_depth': [None, 2, 4, 6, 8],\n",
    "    'min_samples_split': [2, 10, 25, 50],\n",
    "    'max_features': [None, 'log2', 'sqrt']\n",
    "}\n",
    "\n",
    "dtc = DecisionTreeClassifier(random_state=42)\n",
    "\n",
    "gs_dtc = GridSearchCV(estimator=dtc, \n",
    "                      param_grid=param_grid,\n",
    "                      scoring=scoring,\n",
    "                      refit='AUC',\n",
    "                      return_train_score=True,\n",
    "                      cv=3)\n",
    "gs_dtc.fit(X_train, y_train)\n",
    "y_pred = gs_dtc.predict(X_test)\n",
    "\n",
    "print('Accuracy for optimized ada: {}'.format(accuracy_score(y_test, y_pred)))\n",
    "#print('F1 score for optimized ada: {}'.format(f1_score(y_test, y_pred)))\n",
    "print('ROC AUC for optimized ada: {}'.format(roc_auc_score(y_test, y_pred)))"
   ]
  },
  {
   "cell_type": "code",
   "execution_count": 26,
   "metadata": {},
   "outputs": [],
   "source": [
    "def xgb_classifier(n_estimators, max_depth, reg_alpha,\n",
    "                   reg_lambda, eta, subsample, colsample_bytree,\n",
    "                   gamma):\n",
    "    params = {\"booster\": 'gbtree',\n",
    "              \"objective\" : \"binary:logistic\",\n",
    "              \"eval_metric\" : \"auc\", \n",
    "              \"is_unbalance\": True,\n",
    "              \"n_estimators\": int(n_estimators),\n",
    "              \"max_depth\" : int(max_depth),\n",
    "              \"reg_alpha\" : reg_alpha,\n",
    "              \"reg_lambda\" : reg_lambda,\n",
    "              \"gamma\": gamma,\n",
    "              \"num_threads\" : 20,\n",
    "              \"subsample\" : subsample,\n",
    "              \"learning_rate\" : 0.01,\n",
    "              \"subsample_freq\" : 5,\n",
    "              \"seed\" : 42,\n",
    "              \"verbosity\" : 0,\n",
    "              \"colsmaple_bytree\": colsample_bytree}\n",
    "    train_data = xgboost.DMatrix(X_train, y_train)\n",
    "    cv_result = xgboost.cv(params,\n",
    "                       train_data,\n",
    "                       1000,\n",
    "                       early_stopping_rounds=100,\n",
    "                       stratified=True,\n",
    "                       nfold=3)\n",
    "    return cv_result['test-auc-mean'].iloc[-1]"
   ]
  },
  {
   "cell_type": "code",
   "execution_count": 27,
   "metadata": {},
   "outputs": [
    {
     "output_type": "stream",
     "name": "stdout",
     "text": [
      "|   iter    |  target   | colsam... |    eta    |   gamma   | max_depth | n_esti... | reg_alpha | reg_la... | subsample |\n",
      "-------------------------------------------------------------------------------------------------------------------------\n",
      "| \u001b[0m 1       \u001b[0m | \u001b[0m 0.9878  \u001b[0m | \u001b[0m 0.00291 \u001b[0m | \u001b[0m 0.7195  \u001b[0m | \u001b[0m 8.691   \u001b[0m | \u001b[0m 23.91   \u001b[0m | \u001b[0m 91.19   \u001b[0m | \u001b[0m 0.3118  \u001b[0m | \u001b[0m 0.3619  \u001b[0m | \u001b[0m 0.7879  \u001b[0m |\n",
      "| \u001b[0m 2       \u001b[0m | \u001b[0m 0.9844  \u001b[0m | \u001b[0m 0.06204 \u001b[0m | \u001b[0m 0.4639  \u001b[0m | \u001b[0m 0.7938  \u001b[0m | \u001b[0m 11.89   \u001b[0m | \u001b[0m 53.72   \u001b[0m | \u001b[0m 0.6338  \u001b[0m | \u001b[0m 0.2443  \u001b[0m | \u001b[0m 0.1962  \u001b[0m |\n",
      "| \u001b[0m 3       \u001b[0m | \u001b[0m 0.9474  \u001b[0m | \u001b[0m 0.3386  \u001b[0m | \u001b[0m 0.2239  \u001b[0m | \u001b[0m 9.353   \u001b[0m | \u001b[0m 24.46   \u001b[0m | \u001b[0m 91.05   \u001b[0m | \u001b[0m 0.3415  \u001b[0m | \u001b[0m 0.7163  \u001b[0m | \u001b[0m 0.08127 \u001b[0m |\n",
      "| \u001b[0m 4       \u001b[0m | \u001b[0m 0.9512  \u001b[0m | \u001b[0m 0.2027  \u001b[0m | \u001b[0m 0.2274  \u001b[0m | \u001b[0m 8.682   \u001b[0m | \u001b[0m 7.165   \u001b[0m | \u001b[0m 58.87   \u001b[0m | \u001b[0m 0.4814  \u001b[0m | \u001b[0m 0.5223  \u001b[0m | \u001b[0m 0.09823 \u001b[0m |\n",
      "| \u001b[95m 5       \u001b[0m | \u001b[95m 0.9928  \u001b[0m | \u001b[95m 0.3406  \u001b[0m | \u001b[95m 0.7908  \u001b[0m | \u001b[95m 1.773   \u001b[0m | \u001b[95m 38.04   \u001b[0m | \u001b[95m 17.09   \u001b[0m | \u001b[95m 0.8838  \u001b[0m | \u001b[95m 0.9159  \u001b[0m | \u001b[95m 0.7425  \u001b[0m |\n",
      "| \u001b[0m 6       \u001b[0m | \u001b[0m 0.9919  \u001b[0m | \u001b[0m 0.9751  \u001b[0m | \u001b[0m 0.8489  \u001b[0m | \u001b[0m 4.213   \u001b[0m | \u001b[0m 19.53   \u001b[0m | \u001b[0m 52.96   \u001b[0m | \u001b[0m 0.196   \u001b[0m | \u001b[0m 0.4506  \u001b[0m | \u001b[0m 0.9305  \u001b[0m |\n",
      "| \u001b[0m 7       \u001b[0m | \u001b[0m 0.9903  \u001b[0m | \u001b[0m 0.04783 \u001b[0m | \u001b[0m 0.489   \u001b[0m | \u001b[0m 0.8015  \u001b[0m | \u001b[0m 24.42   \u001b[0m | \u001b[0m 88.43   \u001b[0m | \u001b[0m 0.5396  \u001b[0m | \u001b[0m 0.9036  \u001b[0m | \u001b[0m 0.2982  \u001b[0m |\n",
      "| \u001b[0m 8       \u001b[0m | \u001b[0m 0.9894  \u001b[0m | \u001b[0m 0.3213  \u001b[0m | \u001b[0m 0.3723  \u001b[0m | \u001b[0m 0.8151  \u001b[0m | \u001b[0m 19.75   \u001b[0m | \u001b[0m 94.4    \u001b[0m | \u001b[0m 0.5842  \u001b[0m | \u001b[0m 0.6097  \u001b[0m | \u001b[0m 0.8341  \u001b[0m |\n",
      "| \u001b[0m 9       \u001b[0m | \u001b[0m 0.9845  \u001b[0m | \u001b[0m 0.7086  \u001b[0m | \u001b[0m 0.464   \u001b[0m | \u001b[0m 8.868   \u001b[0m | \u001b[0m 20.71   \u001b[0m | \u001b[0m 25.99   \u001b[0m | \u001b[0m 0.7813  \u001b[0m | \u001b[0m 0.113   \u001b[0m | \u001b[0m 0.9035  \u001b[0m |\n",
      "| \u001b[0m 10      \u001b[0m | \u001b[0m 0.9888  \u001b[0m | \u001b[0m 0.3218  \u001b[0m | \u001b[0m 0.6313  \u001b[0m | \u001b[0m 5.104   \u001b[0m | \u001b[0m 22.36   \u001b[0m | \u001b[0m 57.98   \u001b[0m | \u001b[0m 0.1652  \u001b[0m | \u001b[0m 0.9146  \u001b[0m | \u001b[0m 0.9103  \u001b[0m |\n",
      "| \u001b[0m 11      \u001b[0m | \u001b[0m 0.9829  \u001b[0m | \u001b[0m 0.8982  \u001b[0m | \u001b[0m 0.6508  \u001b[0m | \u001b[0m 7.1     \u001b[0m | \u001b[0m 30.87   \u001b[0m | \u001b[0m 99.2    \u001b[0m | \u001b[0m 0.1923  \u001b[0m | \u001b[0m 0.167   \u001b[0m | \u001b[0m 0.2781  \u001b[0m |\n",
      "| \u001b[95m 12      \u001b[0m | \u001b[95m 0.9952  \u001b[0m | \u001b[95m 0.1521  \u001b[0m | \u001b[95m 0.33    \u001b[0m | \u001b[95m 0.8719  \u001b[0m | \u001b[95m 20.41   \u001b[0m | \u001b[95m 94.31   \u001b[0m | \u001b[95m 0.5857  \u001b[0m | \u001b[95m 0.3503  \u001b[0m | \u001b[95m 0.7138  \u001b[0m |\n",
      "| \u001b[0m 13      \u001b[0m | \u001b[0m 0.9898  \u001b[0m | \u001b[0m 0.7033  \u001b[0m | \u001b[0m 0.1957  \u001b[0m | \u001b[0m 1.365   \u001b[0m | \u001b[0m 20.52   \u001b[0m | \u001b[0m 94.5    \u001b[0m | \u001b[0m 0.3371  \u001b[0m | \u001b[0m 0.1082  \u001b[0m | \u001b[0m 0.6707  \u001b[0m |\n",
      "| \u001b[0m 14      \u001b[0m | \u001b[0m 0.9843  \u001b[0m | \u001b[0m 0.0507  \u001b[0m | \u001b[0m 0.9136  \u001b[0m | \u001b[0m 1.303   \u001b[0m | \u001b[0m 20.26   \u001b[0m | \u001b[0m 94.6    \u001b[0m | \u001b[0m 0.2743  \u001b[0m | \u001b[0m 0.9297  \u001b[0m | \u001b[0m 0.1833  \u001b[0m |\n",
      "| \u001b[0m 15      \u001b[0m | \u001b[0m 0.9902  \u001b[0m | \u001b[0m 0.5847  \u001b[0m | \u001b[0m 0.1416  \u001b[0m | \u001b[0m 2.034   \u001b[0m | \u001b[0m 38.4    \u001b[0m | \u001b[0m 16.62   \u001b[0m | \u001b[0m 0.8236  \u001b[0m | \u001b[0m 0.3422  \u001b[0m | \u001b[0m 0.3351  \u001b[0m |\n",
      "| \u001b[0m 16      \u001b[0m | \u001b[0m 0.9937  \u001b[0m | \u001b[0m 0.7202  \u001b[0m | \u001b[0m 0.8083  \u001b[0m | \u001b[0m 2.218   \u001b[0m | \u001b[0m 37.67   \u001b[0m | \u001b[0m 16.84   \u001b[0m | \u001b[0m 0.2257  \u001b[0m | \u001b[0m 0.6675  \u001b[0m | \u001b[0m 0.9478  \u001b[0m |\n",
      "| \u001b[0m 17      \u001b[0m | \u001b[0m 0.9578  \u001b[0m | \u001b[0m 0.4805  \u001b[0m | \u001b[0m 0.9055  \u001b[0m | \u001b[0m 1.416   \u001b[0m | \u001b[0m 36.75   \u001b[0m | \u001b[0m 16.42   \u001b[0m | \u001b[0m 0.3747  \u001b[0m | \u001b[0m 0.8939  \u001b[0m | \u001b[0m 0.05653 \u001b[0m |\n",
      "| \u001b[0m 18      \u001b[0m | \u001b[0m 0.9927  \u001b[0m | \u001b[0m 0.1728  \u001b[0m | \u001b[0m 0.04875 \u001b[0m | \u001b[0m 2.41    \u001b[0m | \u001b[0m 38.08   \u001b[0m | \u001b[0m 17.27   \u001b[0m | \u001b[0m 0.00848 \u001b[0m | \u001b[0m 0.5949  \u001b[0m | \u001b[0m 0.4003  \u001b[0m |\n",
      "| \u001b[0m 19      \u001b[0m | \u001b[0m 0.9929  \u001b[0m | \u001b[0m 0.8465  \u001b[0m | \u001b[0m 0.5055  \u001b[0m | \u001b[0m 2.0     \u001b[0m | \u001b[0m 38.43   \u001b[0m | \u001b[0m 17.87   \u001b[0m | \u001b[0m 0.4456  \u001b[0m | \u001b[0m 0.0824  \u001b[0m | \u001b[0m 0.4925  \u001b[0m |\n",
      "| \u001b[0m 20      \u001b[0m | \u001b[0m 0.9935  \u001b[0m | \u001b[0m 0.5283  \u001b[0m | \u001b[0m 0.7233  \u001b[0m | \u001b[0m 1.711   \u001b[0m | \u001b[0m 39.67   \u001b[0m | \u001b[0m 17.36   \u001b[0m | \u001b[0m 0.5926  \u001b[0m | \u001b[0m 0.6457  \u001b[0m | \u001b[0m 0.8255  \u001b[0m |\n",
      "| \u001b[0m 21      \u001b[0m | \u001b[0m 0.9929  \u001b[0m | \u001b[0m 0.2286  \u001b[0m | \u001b[0m 0.4241  \u001b[0m | \u001b[0m 2.005   \u001b[0m | \u001b[0m 39.14   \u001b[0m | \u001b[0m 18.82   \u001b[0m | \u001b[0m 0.7276  \u001b[0m | \u001b[0m 0.9389  \u001b[0m | \u001b[0m 0.8018  \u001b[0m |\n",
      "| \u001b[0m 22      \u001b[0m | \u001b[0m 0.9929  \u001b[0m | \u001b[0m 0.2435  \u001b[0m | \u001b[0m 0.9175  \u001b[0m | \u001b[0m 3.429   \u001b[0m | \u001b[0m 38.02   \u001b[0m | \u001b[0m 16.71   \u001b[0m | \u001b[0m 0.2773  \u001b[0m | \u001b[0m 0.6384  \u001b[0m | \u001b[0m 0.7966  \u001b[0m |\n",
      "=========================================================================================================================\n"
     ]
    }
   ],
   "source": [
    "xgbBO = BayesianOptimization(f=xgb_classifier, pbounds={\"n_estimators\": (10, 100),\n",
    "                                                'max_depth': (2, 40),\n",
    "                                                'reg_alpha': (0.0, 1.0),\n",
    "                                                'reg_lambda': (0.0, 1.0),\n",
    "                                                'subsample': (0.0, 1.0),\n",
    "                                                'colsample_bytree': (0.0, 1.0),\n",
    "                                                \"gamma\": (0, 10),\n",
    "                                                \"eta\": (0.0, 1.0)\n",
    "                                                })\n",
    "\n",
    "xgbBO.maximize(n_iter=20, init_points=2)"
   ]
  },
  {
   "cell_type": "code",
   "execution_count": 28,
   "metadata": {},
   "outputs": [
    {
     "output_type": "execute_result",
     "data": {
      "text/plain": [
       "{'target': 0.9951983333333333,\n",
       " 'params': {'colsample_bytree': 0.15206473814751942,\n",
       "  'eta': 0.33001477043207283,\n",
       "  'gamma': 0.8719204838770422,\n",
       "  'max_depth': 20.410937429314657,\n",
       "  'n_estimators': 94.3134633483094,\n",
       "  'reg_alpha': 0.5857428507722843,\n",
       "  'reg_lambda': 0.35033864951132676,\n",
       "  'subsample': 0.7137544942822505}}"
      ]
     },
     "metadata": {},
     "execution_count": 28
    }
   ],
   "source": [
    "xgbBO.max"
   ]
  },
  {
   "cell_type": "code",
   "execution_count": 29,
   "metadata": {},
   "outputs": [],
   "source": [
    "train_data = xgboost.DMatrix(X_train, y_train)\n",
    "params = xgbBO.max['params']\n",
    "params['objective'] = 'binary:logistic'\n",
    "params['max_depth'] = 10\n",
    "params['n_estimators'] = 80\n",
    "xgb_opt = xgboost.train(dtrain=train_data,\n",
    "                          params=params,\n",
    "                          #early_stopping_rounds=100,\n",
    "                          num_boost_round=1000)"
   ]
  },
  {
   "cell_type": "code",
   "execution_count": 30,
   "metadata": {},
   "outputs": [
    {
     "output_type": "stream",
     "name": "stdout",
     "text": [
      "ROC AUC for optimized ada: 0.6643678160919539\n"
     ]
    }
   ],
   "source": [
    "y_pred = xgb_opt.predict(xgboost.DMatrix(X_test))\n",
    "\n",
    "#print('Accuracy for optimized ada: {}'.format(accuracy_score(y_test, y_pred)))\n",
    "#print('F1 score for optimized ada: {}'.format(f1_score(y_test, y_pred)))\n",
    "print('ROC AUC for optimized ada: {}'.format(roc_auc_score(y_test, y_pred)))"
   ]
  },
  {
   "cell_type": "code",
   "execution_count": null,
   "metadata": {},
   "outputs": [],
   "source": []
  },
  {
   "cell_type": "code",
   "execution_count": null,
   "metadata": {},
   "outputs": [],
   "source": []
  },
  {
   "cell_type": "code",
   "execution_count": null,
   "metadata": {},
   "outputs": [],
   "source": []
  }
 ]
}