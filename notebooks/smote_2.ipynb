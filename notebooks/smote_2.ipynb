{
 "metadata": {
  "language_info": {
   "codemirror_mode": {
    "name": "ipython",
    "version": 3
   },
   "file_extension": ".py",
   "mimetype": "text/x-python",
   "name": "python",
   "nbconvert_exporter": "python",
   "pygments_lexer": "ipython3",
   "version": "3.8.3-final"
  },
  "orig_nbformat": 2,
  "kernelspec": {
   "name": "python3",
   "display_name": "Python 3.8.3 64-bit ('springboard_capstone_two')",
   "metadata": {
    "interpreter": {
     "hash": "1474d2ceccc6981c1385943cdbe44b9985a06ccaa858e7fff270717edcc51f5d"
    }
   }
  }
 },
 "nbformat": 4,
 "nbformat_minor": 2,
 "cells": [
  {
   "cell_type": "code",
   "execution_count": 23,
   "metadata": {},
   "outputs": [
    {
     "output_type": "display_data",
     "data": {
      "text/html": "        <script type=\"text/javascript\">\n        window.PlotlyConfig = {MathJaxConfig: 'local'};\n        if (window.MathJax) {MathJax.Hub.Config({SVG: {font: \"STIX-Web\"}});}\n        if (typeof require !== 'undefined') {\n        require.undef(\"plotly\");\n        requirejs.config({\n            paths: {\n                'plotly': ['https://cdn.plot.ly/plotly-latest.min']\n            }\n        });\n        require(['plotly'], function(Plotly) {\n            window._Plotly = Plotly;\n        });\n        }\n        </script>\n        "
     },
     "metadata": {}
    }
   ],
   "source": [
    "import numpy as np \n",
    "import pandas as pd \n",
    "\n",
    "from sklearn.feature_extraction.text import CountVectorizer, TfidfVectorizer\n",
    "from sklearn.model_selection import train_test_split \n",
    "from sklearn.model_selection import KFold, train_test_split\n",
    "from sklearn.decomposition import PCA\n",
    "from sklearn.ensemble import AdaBoostClassifier\n",
    "from sklearn.tree import DecisionTreeClassifier\n",
    "from sklearn.model_selection import GridSearchCV\n",
    "from sklearn.metrics import make_scorer, accuracy_score, precision_score, recall_score, f1_score, roc_auc_score\n",
    "\n",
    "import lightgbm\n",
    "import xgboost\n",
    "\n",
    "from bayes_opt import BayesianOptimization\n",
    "\n",
    "import matplotlib.pyplot as plt \n",
    "import matplotlib.cm as cm \n",
    "import seaborn as sns \n",
    "\n",
    "# Plotly \n",
    "import plotly.express as px \n",
    "import plotly.graph_objects as go \n",
    "from plotly.offline import init_notebook_mode,iplot\n",
    "import cufflinks as cf\n",
    "init_notebook_mode(connected=True)\n",
    "\n",
    "from nltk.stem import WordNetLemmatizer\n",
    "from nltk.tokenize import TweetTokenizer, word_tokenize\n",
    "\n",
    "from collections import defaultdict\n",
    "\n",
    "from lazypredict.Supervised import LazyClassifier\n",
    "\n",
    "import imblearn"
   ]
  },
  {
   "cell_type": "code",
   "execution_count": 2,
   "metadata": {},
   "outputs": [],
   "source": [
    "df = pd.read_csv('../data/processed/tanishq_data_clean_labelled.csv')\n",
    "df.drop(['Unnamed: 0', 'Unnamed: 0.1'], inplace=True, axis=1)\n",
    "lemmatizer = WordNetLemmatizer()\n",
    "tokenizer = TweetTokenizer()\n",
    "df['clean_tweet_token'] = df['clean_tweet_segmented'].apply(lemmatizer.lemmatize).apply(tokenizer.tokenize)\n",
    "df['clean_tweet_token'] = df['clean_tweet_token'].str.join(' ')\n",
    "df = df[['clean_tweet_token', 'sentiment']]\n",
    "df.dropna(inplace=True)\n",
    "df = df[df['sentiment'].isin([0.0, 4.0])]\n",
    "df['sentiment'] = df['sentiment'].replace({4.0: 1})"
   ]
  },
  {
   "cell_type": "code",
   "execution_count": 3,
   "metadata": {},
   "outputs": [],
   "source": [
    "count_vec = CountVectorizer()\n",
    "X_count_vec = count_vec.fit_transform(df['clean_tweet_token'])\n",
    "y = df['sentiment'].values \n",
    "X_train, X_test, y_train, y_test = train_test_split(X_count_vec, y, test_size=0.25)"
   ]
  },
  {
   "cell_type": "code",
   "execution_count": 4,
   "metadata": {},
   "outputs": [],
   "source": [
    "def process_smote(X=None, y=None, sampling=None):\n",
    "    X, y = sampling.fit_resample(X, y)\n",
    "    pca = PCA(n_components=2).fit_transform(X.toarray())\n",
    "    df = pd.DataFrame(pca)\n",
    "    df.columns = ['X1', 'X2']\n",
    "    df['labels'] = y\n",
    "    return X, y, df"
   ]
  },
  {
   "cell_type": "code",
   "execution_count": 5,
   "metadata": {},
   "outputs": [
    {
     "output_type": "execute_result",
     "data": {
      "text/plain": [
       "[Text(0.5, 1.0, 'Cluster visaliztion in the first two principal component domain')]"
      ]
     },
     "metadata": {},
     "execution_count": 5
    },
    {
     "output_type": "display_data",
     "data": {
      "text/plain": "<Figure size 432x288 with 1 Axes>",
      "image/svg+xml": "<?xml version=\"1.0\" encoding=\"utf-8\" standalone=\"no\"?>\n<!DOCTYPE svg PUBLIC \"-//W3C//DTD SVG 1.1//EN\"\n  \"http://www.w3.org/Graphics/SVG/1.1/DTD/svg11.dtd\">\n<!-- Created with matplotlib (https://matplotlib.org/) -->\n<svg height=\"310.879687pt\" version=\"1.1\" viewBox=\"0 0 662.655 310.879687\" width=\"662.655pt\" xmlns=\"http://www.w3.org/2000/svg\" xmlns:xlink=\"http://www.w3.org/1999/xlink\">\n <metadata>\n  <rdf:RDF xmlns:cc=\"http://creativecommons.org/ns#\" xmlns:dc=\"http://purl.org/dc/elements/1.1/\" xmlns:rdf=\"http://www.w3.org/1999/02/22-rdf-syntax-ns#\">\n   <cc:Work>\n    <dc:type rdf:resource=\"http://purl.org/dc/dcmitype/StillImage\"/>\n    <dc:date>2021-02-19T20:15:25.640543</dc:date>\n    <dc:format>image/svg+xml</dc:format>\n    <dc:creator>\n     <cc:Agent>\n      <dc:title>Matplotlib v3.3.4, https://matplotlib.org/</dc:title>\n     </cc:Agent>\n    </dc:creator>\n   </cc:Work>\n  </rdf:RDF>\n </metadata>\n <defs>\n  <style type=\"text/css\">*{stroke-linecap:butt;stroke-linejoin:round;}</style>\n </defs>\n <g id=\"figure_1\">\n  <g id=\"patch_1\">\n   <path d=\"M 0 310.879687 \nL 662.655 310.879687 \nL 662.655 0 \nL 0 0 \nz\n\" style=\"fill:#ffffff;\"/>\n  </g>\n  <g id=\"axes_1\">\n   <g id=\"patch_2\">\n    <path d=\"M 163.9275 248.11125 \nL 498.7275 248.11125 \nL 498.7275 30.67125 \nL 163.9275 30.67125 \nz\n\" style=\"fill:#eaeaf2;\"/>\n   </g>\n   <g id=\"matplotlib.axis_1\">\n    <g id=\"xtick_1\">\n     <g id=\"line2d_1\">\n      <path clip-path=\"url(#p0575345c21)\" d=\"M 246.177869 248.11125 \nL 246.177869 30.67125 \n\" style=\"fill:none;stroke:#ffffff;stroke-linecap:round;\"/>\n     </g>\n     <g id=\"text_1\">\n      <!-- 0 -->\n      <g style=\"fill:#262626;\" transform=\"translate(240.060838 273.358437)scale(0.22 -0.22)\">\n       <defs>\n        <path d=\"M 4.15625 35.296875 \nQ 4.15625 48 6.765625 55.734375 \nQ 9.375 63.484375 14.515625 67.671875 \nQ 19.671875 71.875 27.484375 71.875 \nQ 33.25 71.875 37.59375 69.546875 \nQ 41.9375 67.234375 44.765625 62.859375 \nQ 47.609375 58.5 49.21875 52.21875 \nQ 50.828125 45.953125 50.828125 35.296875 \nQ 50.828125 22.703125 48.234375 14.96875 \nQ 45.65625 7.234375 40.5 3 \nQ 35.359375 -1.21875 27.484375 -1.21875 \nQ 17.140625 -1.21875 11.234375 6.203125 \nQ 4.15625 15.140625 4.15625 35.296875 \nz\nM 13.1875 35.296875 \nQ 13.1875 17.671875 17.3125 11.828125 \nQ 21.4375 6 27.484375 6 \nQ 33.546875 6 37.671875 11.859375 \nQ 41.796875 17.71875 41.796875 35.296875 \nQ 41.796875 52.984375 37.671875 58.78125 \nQ 33.546875 64.59375 27.390625 64.59375 \nQ 21.34375 64.59375 17.71875 59.46875 \nQ 13.1875 52.9375 13.1875 35.296875 \nz\n\" id=\"ArialMT-48\"/>\n       </defs>\n       <use xlink:href=\"#ArialMT-48\"/>\n      </g>\n     </g>\n    </g>\n    <g id=\"xtick_2\">\n     <g id=\"line2d_2\">\n      <path clip-path=\"url(#p0575345c21)\" d=\"M 344.934428 248.11125 \nL 344.934428 30.67125 \n\" style=\"fill:none;stroke:#ffffff;stroke-linecap:round;\"/>\n     </g>\n     <g id=\"text_2\">\n      <!-- 2 -->\n      <g style=\"fill:#262626;\" transform=\"translate(338.817396 273.358437)scale(0.22 -0.22)\">\n       <defs>\n        <path d=\"M 50.34375 8.453125 \nL 50.34375 0 \nL 3.03125 0 \nQ 2.9375 3.171875 4.046875 6.109375 \nQ 5.859375 10.9375 9.828125 15.625 \nQ 13.8125 20.3125 21.34375 26.46875 \nQ 33.015625 36.03125 37.109375 41.625 \nQ 41.21875 47.21875 41.21875 52.203125 \nQ 41.21875 57.421875 37.46875 61 \nQ 33.734375 64.59375 27.734375 64.59375 \nQ 21.390625 64.59375 17.578125 60.78125 \nQ 13.765625 56.984375 13.71875 50.25 \nL 4.6875 51.171875 \nQ 5.609375 61.28125 11.65625 66.578125 \nQ 17.71875 71.875 27.9375 71.875 \nQ 38.234375 71.875 44.234375 66.15625 \nQ 50.25 60.453125 50.25 52 \nQ 50.25 47.703125 48.484375 43.546875 \nQ 46.734375 39.40625 42.65625 34.8125 \nQ 38.578125 30.21875 29.109375 22.21875 \nQ 21.1875 15.578125 18.9375 13.203125 \nQ 16.703125 10.84375 15.234375 8.453125 \nz\n\" id=\"ArialMT-50\"/>\n       </defs>\n       <use xlink:href=\"#ArialMT-50\"/>\n      </g>\n     </g>\n    </g>\n    <g id=\"xtick_3\">\n     <g id=\"line2d_3\">\n      <path clip-path=\"url(#p0575345c21)\" d=\"M 443.690986 248.11125 \nL 443.690986 30.67125 \n\" style=\"fill:none;stroke:#ffffff;stroke-linecap:round;\"/>\n     </g>\n     <g id=\"text_3\">\n      <!-- 4 -->\n      <g style=\"fill:#262626;\" transform=\"translate(437.573955 273.358437)scale(0.22 -0.22)\">\n       <defs>\n        <path d=\"M 32.328125 0 \nL 32.328125 17.140625 \nL 1.265625 17.140625 \nL 1.265625 25.203125 \nL 33.9375 71.578125 \nL 41.109375 71.578125 \nL 41.109375 25.203125 \nL 50.78125 25.203125 \nL 50.78125 17.140625 \nL 41.109375 17.140625 \nL 41.109375 0 \nz\nM 32.328125 25.203125 \nL 32.328125 57.46875 \nL 9.90625 25.203125 \nz\n\" id=\"ArialMT-52\"/>\n       </defs>\n       <use xlink:href=\"#ArialMT-52\"/>\n      </g>\n     </g>\n    </g>\n    <g id=\"text_4\">\n     <!-- X1 -->\n     <g style=\"fill:#262626;\" transform=\"translate(316.65 298.909687)scale(0.24 -0.24)\">\n      <defs>\n       <path d=\"M 0.4375 0 \nL 28.125 37.3125 \nL 3.71875 71.578125 \nL 14.984375 71.578125 \nL 27.984375 53.21875 \nQ 32.03125 47.515625 33.734375 44.4375 \nQ 36.140625 48.34375 39.40625 52.59375 \nL 53.8125 71.578125 \nL 64.109375 71.578125 \nL 38.96875 37.84375 \nL 66.0625 0 \nL 54.34375 0 \nL 36.328125 25.53125 \nQ 34.8125 27.734375 33.203125 30.328125 \nQ 30.8125 26.421875 29.78125 24.953125 \nL 11.8125 0 \nz\n\" id=\"ArialMT-88\"/>\n       <path d=\"M 37.25 0 \nL 28.46875 0 \nL 28.46875 56 \nQ 25.296875 52.984375 20.140625 49.953125 \nQ 14.984375 46.921875 10.890625 45.40625 \nL 10.890625 53.90625 \nQ 18.265625 57.375 23.78125 62.296875 \nQ 29.296875 67.234375 31.59375 71.875 \nL 37.25 71.875 \nz\n\" id=\"ArialMT-49\"/>\n      </defs>\n      <use xlink:href=\"#ArialMT-88\"/>\n      <use x=\"66.699219\" xlink:href=\"#ArialMT-49\"/>\n     </g>\n    </g>\n   </g>\n   <g id=\"matplotlib.axis_2\">\n    <g id=\"ytick_1\">\n     <g id=\"line2d_4\">\n      <path clip-path=\"url(#p0575345c21)\" d=\"M 163.9275 231.78884 \nL 498.7275 231.78884 \n\" style=\"fill:none;stroke:#ffffff;stroke-linecap:round;\"/>\n     </g>\n     <g id=\"text_5\">\n      <!-- −2 -->\n      <g style=\"fill:#262626;\" transform=\"translate(129.344063 239.662434)scale(0.22 -0.22)\">\n       <defs>\n        <path d=\"M 52.828125 31.203125 \nL 5.5625 31.203125 \nL 5.5625 39.40625 \nL 52.828125 39.40625 \nz\n\" id=\"ArialMT-8722\"/>\n       </defs>\n       <use xlink:href=\"#ArialMT-8722\"/>\n       <use x=\"58.398438\" xlink:href=\"#ArialMT-50\"/>\n      </g>\n     </g>\n    </g>\n    <g id=\"ytick_2\">\n     <g id=\"line2d_5\">\n      <path clip-path=\"url(#p0575345c21)\" d=\"M 163.9275 161.623224 \nL 498.7275 161.623224 \n\" style=\"fill:none;stroke:#ffffff;stroke-linecap:round;\"/>\n     </g>\n     <g id=\"text_6\">\n      <!-- 0 -->\n      <g style=\"fill:#262626;\" transform=\"translate(142.193438 169.496818)scale(0.22 -0.22)\">\n       <use xlink:href=\"#ArialMT-48\"/>\n      </g>\n     </g>\n    </g>\n    <g id=\"ytick_3\">\n     <g id=\"line2d_6\">\n      <path clip-path=\"url(#p0575345c21)\" d=\"M 163.9275 91.457608 \nL 498.7275 91.457608 \n\" style=\"fill:none;stroke:#ffffff;stroke-linecap:round;\"/>\n     </g>\n     <g id=\"text_7\">\n      <!-- 2 -->\n      <g style=\"fill:#262626;\" transform=\"translate(142.193438 99.331202)scale(0.22 -0.22)\">\n       <use xlink:href=\"#ArialMT-50\"/>\n      </g>\n     </g>\n    </g>\n    <g id=\"text_8\">\n     <!-- X2 -->\n     <g style=\"fill:#262626;\" transform=\"translate(120.574063 154.06875)rotate(-90)scale(0.24 -0.24)\">\n      <use xlink:href=\"#ArialMT-88\"/>\n      <use x=\"66.699219\" xlink:href=\"#ArialMT-50\"/>\n     </g>\n    </g>\n   </g>\n   <g id=\"PathCollection_1\">\n    <defs>\n     <path d=\"M 0 3 \nC 0.795609 3 1.55874 2.683901 2.12132 2.12132 \nC 2.683901 1.55874 3 0.795609 3 -0 \nC 3 -0.795609 2.683901 -1.55874 2.12132 -2.12132 \nC 1.55874 -2.683901 0.795609 -3 0 -3 \nC -0.795609 -3 -1.55874 -2.683901 -2.12132 -2.12132 \nC -2.683901 -1.55874 -3 -0.795609 -3 0 \nC -3 0.795609 -2.683901 1.55874 -2.12132 2.12132 \nC -1.55874 2.683901 -0.795609 3 0 3 \nz\n\" id=\"C0_0_c71d292ef1\"/>\n    </defs>\n    <g clip-path=\"url(#p0575345c21)\">\n     <use style=\"fill:#001c7f;stroke:#ffffff;stroke-width:0.48;\" x=\"483.509318\" xlink:href=\"#C0_0_c71d292ef1\" y=\"60.893551\"/>\n    </g>\n    <g clip-path=\"url(#p0575345c21)\">\n     <use style=\"fill:#001c7f;stroke:#ffffff;stroke-width:0.48;\" x=\"427.840168\" xlink:href=\"#C0_0_c71d292ef1\" y=\"83.081995\"/>\n    </g>\n    <g clip-path=\"url(#p0575345c21)\">\n     <use style=\"fill:#001c7f;stroke:#ffffff;stroke-width:0.48;\" x=\"446.168795\" xlink:href=\"#C0_0_c71d292ef1\" y=\"195.171328\"/>\n    </g>\n    <g clip-path=\"url(#p0575345c21)\">\n     <use style=\"fill:#001c7f;stroke:#ffffff;stroke-width:0.48;\" x=\"446.168795\" xlink:href=\"#C0_0_c71d292ef1\" y=\"195.171328\"/>\n    </g>\n    <g clip-path=\"url(#p0575345c21)\">\n     <use style=\"fill:#001c7f;stroke:#ffffff;stroke-width:0.48;\" x=\"343.828313\" xlink:href=\"#C0_0_c71d292ef1\" y=\"181.129293\"/>\n    </g>\n    <g clip-path=\"url(#p0575345c21)\">\n     <use style=\"fill:#001c7f;stroke:#ffffff;stroke-width:0.48;\" x=\"313.900221\" xlink:href=\"#C0_0_c71d292ef1\" y=\"159.66353\"/>\n    </g>\n    <g clip-path=\"url(#p0575345c21)\">\n     <use style=\"fill:#001c7f;stroke:#ffffff;stroke-width:0.48;\" x=\"281.090303\" xlink:href=\"#C0_0_c71d292ef1\" y=\"146.249447\"/>\n    </g>\n    <g clip-path=\"url(#p0575345c21)\">\n     <use style=\"fill:#001c7f;stroke:#ffffff;stroke-width:0.48;\" x=\"329.819847\" xlink:href=\"#C0_0_c71d292ef1\" y=\"181.721848\"/>\n    </g>\n    <g clip-path=\"url(#p0575345c21)\">\n     <use style=\"fill:#001c7f;stroke:#ffffff;stroke-width:0.48;\" x=\"359.984448\" xlink:href=\"#C0_0_c71d292ef1\" y=\"219.833296\"/>\n    </g>\n    <g clip-path=\"url(#p0575345c21)\">\n     <use style=\"fill:#001c7f;stroke:#ffffff;stroke-width:0.48;\" x=\"273.322167\" xlink:href=\"#C0_0_c71d292ef1\" y=\"162.540831\"/>\n    </g>\n    <g clip-path=\"url(#p0575345c21)\">\n     <use style=\"fill:#001c7f;stroke:#ffffff;stroke-width:0.48;\" x=\"382.845096\" xlink:href=\"#C0_0_c71d292ef1\" y=\"238.227614\"/>\n    </g>\n    <g clip-path=\"url(#p0575345c21)\">\n     <use style=\"fill:#001c7f;stroke:#ffffff;stroke-width:0.48;\" x=\"291.078237\" xlink:href=\"#C0_0_c71d292ef1\" y=\"193.202879\"/>\n    </g>\n    <g clip-path=\"url(#p0575345c21)\">\n     <use style=\"fill:#001c7f;stroke:#ffffff;stroke-width:0.48;\" x=\"296.723063\" xlink:href=\"#C0_0_c71d292ef1\" y=\"207.752242\"/>\n    </g>\n    <g clip-path=\"url(#p0575345c21)\">\n     <use style=\"fill:#001c7f;stroke:#ffffff;stroke-width:0.48;\" x=\"363.630456\" xlink:href=\"#C0_0_c71d292ef1\" y=\"223.860477\"/>\n    </g>\n    <g clip-path=\"url(#p0575345c21)\">\n     <use style=\"fill:#001c7f;stroke:#ffffff;stroke-width:0.48;\" x=\"361.222915\" xlink:href=\"#C0_0_c71d292ef1\" y=\"185.888421\"/>\n    </g>\n    <g clip-path=\"url(#p0575345c21)\">\n     <use style=\"fill:#001c7f;stroke:#ffffff;stroke-width:0.48;\" x=\"326.485861\" xlink:href=\"#C0_0_c71d292ef1\" y=\"217.909562\"/>\n    </g>\n    <g clip-path=\"url(#p0575345c21)\">\n     <use style=\"fill:#001c7f;stroke:#ffffff;stroke-width:0.48;\" x=\"430.341099\" xlink:href=\"#C0_0_c71d292ef1\" y=\"44.287282\"/>\n    </g>\n    <g clip-path=\"url(#p0575345c21)\">\n     <use style=\"fill:#001c7f;stroke:#ffffff;stroke-width:0.48;\" x=\"380.998285\" xlink:href=\"#C0_0_c71d292ef1\" y=\"110.724518\"/>\n    </g>\n    <g clip-path=\"url(#p0575345c21)\">\n     <use style=\"fill:#001c7f;stroke:#ffffff;stroke-width:0.48;\" x=\"361.222915\" xlink:href=\"#C0_0_c71d292ef1\" y=\"185.888421\"/>\n    </g>\n    <g clip-path=\"url(#p0575345c21)\">\n     <use style=\"fill:#001c7f;stroke:#ffffff;stroke-width:0.48;\" x=\"334.667121\" xlink:href=\"#C0_0_c71d292ef1\" y=\"158.207523\"/>\n    </g>\n    <g clip-path=\"url(#p0575345c21)\">\n     <use style=\"fill:#001c7f;stroke:#ffffff;stroke-width:0.48;\" x=\"359.05805\" xlink:href=\"#C0_0_c71d292ef1\" y=\"137.937014\"/>\n    </g>\n    <g clip-path=\"url(#p0575345c21)\">\n     <use style=\"fill:#001c7f;stroke:#ffffff;stroke-width:0.48;\" x=\"341.856153\" xlink:href=\"#C0_0_c71d292ef1\" y=\"207.210508\"/>\n    </g>\n    <g clip-path=\"url(#p0575345c21)\">\n     <use style=\"fill:#001c7f;stroke:#ffffff;stroke-width:0.48;\" x=\"296.716527\" xlink:href=\"#C0_0_c71d292ef1\" y=\"168.681767\"/>\n    </g>\n    <g clip-path=\"url(#p0575345c21)\">\n     <use style=\"fill:#001c7f;stroke:#ffffff;stroke-width:0.48;\" x=\"443.465577\" xlink:href=\"#C0_0_c71d292ef1\" y=\"204.134407\"/>\n    </g>\n    <g clip-path=\"url(#p0575345c21)\">\n     <use style=\"fill:#001c7f;stroke:#ffffff;stroke-width:0.48;\" x=\"320.34827\" xlink:href=\"#C0_0_c71d292ef1\" y=\"183.294784\"/>\n    </g>\n    <g clip-path=\"url(#p0575345c21)\">\n     <use style=\"fill:#001c7f;stroke:#ffffff;stroke-width:0.48;\" x=\"280.567083\" xlink:href=\"#C0_0_c71d292ef1\" y=\"167.595161\"/>\n    </g>\n    <g clip-path=\"url(#p0575345c21)\">\n     <use style=\"fill:#001c7f;stroke:#ffffff;stroke-width:0.48;\" x=\"334.09425\" xlink:href=\"#C0_0_c71d292ef1\" y=\"174.315239\"/>\n    </g>\n    <g clip-path=\"url(#p0575345c21)\">\n     <use style=\"fill:#001c7f;stroke:#ffffff;stroke-width:0.48;\" x=\"425.450178\" xlink:href=\"#C0_0_c71d292ef1\" y=\"157.819467\"/>\n    </g>\n    <g clip-path=\"url(#p0575345c21)\">\n     <use style=\"fill:#001c7f;stroke:#ffffff;stroke-width:0.48;\" x=\"364.261758\" xlink:href=\"#C0_0_c71d292ef1\" y=\"148.31881\"/>\n    </g>\n    <g clip-path=\"url(#p0575345c21)\">\n     <use style=\"fill:#001c7f;stroke:#ffffff;stroke-width:0.48;\" x=\"392.924452\" xlink:href=\"#C0_0_c71d292ef1\" y=\"159.251189\"/>\n    </g>\n    <g clip-path=\"url(#p0575345c21)\">\n     <use style=\"fill:#001c7f;stroke:#ffffff;stroke-width:0.48;\" x=\"389.471813\" xlink:href=\"#C0_0_c71d292ef1\" y=\"159.853647\"/>\n    </g>\n    <g clip-path=\"url(#p0575345c21)\">\n     <use style=\"fill:#001c7f;stroke:#ffffff;stroke-width:0.48;\" x=\"450.024827\" xlink:href=\"#C0_0_c71d292ef1\" y=\"125.122998\"/>\n    </g>\n    <g clip-path=\"url(#p0575345c21)\">\n     <use style=\"fill:#001c7f;stroke:#ffffff;stroke-width:0.48;\" x=\"334.487168\" xlink:href=\"#C0_0_c71d292ef1\" y=\"192.320342\"/>\n    </g>\n    <g clip-path=\"url(#p0575345c21)\">\n     <use style=\"fill:#001c7f;stroke:#ffffff;stroke-width:0.48;\" x=\"376.959893\" xlink:href=\"#C0_0_c71d292ef1\" y=\"217.013297\"/>\n    </g>\n    <g clip-path=\"url(#p0575345c21)\">\n     <use style=\"fill:#001c7f;stroke:#ffffff;stroke-width:0.48;\" x=\"315.429417\" xlink:href=\"#C0_0_c71d292ef1\" y=\"221.29315\"/>\n    </g>\n    <g clip-path=\"url(#p0575345c21)\">\n     <use style=\"fill:#001c7f;stroke:#ffffff;stroke-width:0.48;\" x=\"376.959893\" xlink:href=\"#C0_0_c71d292ef1\" y=\"217.013297\"/>\n    </g>\n    <g clip-path=\"url(#p0575345c21)\">\n     <use style=\"fill:#001c7f;stroke:#ffffff;stroke-width:0.48;\" x=\"483.509318\" xlink:href=\"#C0_0_c71d292ef1\" y=\"60.893551\"/>\n    </g>\n    <g clip-path=\"url(#p0575345c21)\">\n     <use style=\"fill:#001c7f;stroke:#ffffff;stroke-width:0.48;\" x=\"363.292874\" xlink:href=\"#C0_0_c71d292ef1\" y=\"192.57625\"/>\n    </g>\n    <g clip-path=\"url(#p0575345c21)\">\n     <use style=\"fill:#001c7f;stroke:#ffffff;stroke-width:0.48;\" x=\"391.948255\" xlink:href=\"#C0_0_c71d292ef1\" y=\"219.231029\"/>\n    </g>\n    <g clip-path=\"url(#p0575345c21)\">\n     <use style=\"fill:#001c7f;stroke:#ffffff;stroke-width:0.48;\" x=\"341.111693\" xlink:href=\"#C0_0_c71d292ef1\" y=\"191.181049\"/>\n    </g>\n    <g clip-path=\"url(#p0575345c21)\">\n     <use style=\"fill:#001c7f;stroke:#ffffff;stroke-width:0.48;\" x=\"389.471813\" xlink:href=\"#C0_0_c71d292ef1\" y=\"159.853647\"/>\n    </g>\n    <g clip-path=\"url(#p0575345c21)\">\n     <use style=\"fill:#001c7f;stroke:#ffffff;stroke-width:0.48;\" x=\"438.923789\" xlink:href=\"#C0_0_c71d292ef1\" y=\"45.610213\"/>\n    </g>\n    <g clip-path=\"url(#p0575345c21)\">\n     <use style=\"fill:#001c7f;stroke:#ffffff;stroke-width:0.48;\" x=\"456.92638\" xlink:href=\"#C0_0_c71d292ef1\" y=\"43.918173\"/>\n    </g>\n    <g clip-path=\"url(#p0575345c21)\">\n     <use style=\"fill:#001c7f;stroke:#ffffff;stroke-width:0.48;\" x=\"340.189653\" xlink:href=\"#C0_0_c71d292ef1\" y=\"162.945684\"/>\n    </g>\n    <g clip-path=\"url(#p0575345c21)\">\n     <use style=\"fill:#b1400d;stroke:#ffffff;stroke-width:0.48;\" x=\"201.079496\" xlink:href=\"#C0_0_c71d292ef1\" y=\"120.492864\"/>\n    </g>\n    <g clip-path=\"url(#p0575345c21)\">\n     <use style=\"fill:#b1400d;stroke:#ffffff;stroke-width:0.48;\" x=\"295.028387\" xlink:href=\"#C0_0_c71d292ef1\" y=\"140.31632\"/>\n    </g>\n    <g clip-path=\"url(#p0575345c21)\">\n     <use style=\"fill:#b1400d;stroke:#ffffff;stroke-width:0.48;\" x=\"246.863639\" xlink:href=\"#C0_0_c71d292ef1\" y=\"187.551526\"/>\n    </g>\n    <g clip-path=\"url(#p0575345c21)\">\n     <use style=\"fill:#b1400d;stroke:#ffffff;stroke-width:0.48;\" x=\"199.876842\" xlink:href=\"#C0_0_c71d292ef1\" y=\"111.346098\"/>\n    </g>\n    <g clip-path=\"url(#p0575345c21)\">\n     <use style=\"fill:#b1400d;stroke:#ffffff;stroke-width:0.48;\" x=\"323.748497\" xlink:href=\"#C0_0_c71d292ef1\" y=\"192.966287\"/>\n    </g>\n    <g clip-path=\"url(#p0575345c21)\">\n     <use style=\"fill:#b1400d;stroke:#ffffff;stroke-width:0.48;\" x=\"209.810884\" xlink:href=\"#C0_0_c71d292ef1\" y=\"109.862204\"/>\n    </g>\n    <g clip-path=\"url(#p0575345c21)\">\n     <use style=\"fill:#b1400d;stroke:#ffffff;stroke-width:0.48;\" x=\"277.471695\" xlink:href=\"#C0_0_c71d292ef1\" y=\"212.032002\"/>\n    </g>\n    <g clip-path=\"url(#p0575345c21)\">\n     <use style=\"fill:#b1400d;stroke:#ffffff;stroke-width:0.48;\" x=\"321.32067\" xlink:href=\"#C0_0_c71d292ef1\" y=\"40.554886\"/>\n    </g>\n    <g clip-path=\"url(#p0575345c21)\">\n     <use style=\"fill:#b1400d;stroke:#ffffff;stroke-width:0.48;\" x=\"305.674374\" xlink:href=\"#C0_0_c71d292ef1\" y=\"154.766474\"/>\n    </g>\n    <g clip-path=\"url(#p0575345c21)\">\n     <use style=\"fill:#b1400d;stroke:#ffffff;stroke-width:0.48;\" x=\"348.233233\" xlink:href=\"#C0_0_c71d292ef1\" y=\"228.619763\"/>\n    </g>\n    <g clip-path=\"url(#p0575345c21)\">\n     <use style=\"fill:#b1400d;stroke:#ffffff;stroke-width:0.48;\" x=\"249.419198\" xlink:href=\"#C0_0_c71d292ef1\" y=\"194.597426\"/>\n    </g>\n    <g clip-path=\"url(#p0575345c21)\">\n     <use style=\"fill:#b1400d;stroke:#ffffff;stroke-width:0.48;\" x=\"322.581806\" xlink:href=\"#C0_0_c71d292ef1\" y=\"64.856067\"/>\n    </g>\n    <g clip-path=\"url(#p0575345c21)\">\n     <use style=\"fill:#b1400d;stroke:#ffffff;stroke-width:0.48;\" x=\"372.240292\" xlink:href=\"#C0_0_c71d292ef1\" y=\"125.011523\"/>\n    </g>\n    <g clip-path=\"url(#p0575345c21)\">\n     <use style=\"fill:#b1400d;stroke:#ffffff;stroke-width:0.48;\" x=\"198.15518\" xlink:href=\"#C0_0_c71d292ef1\" y=\"171.816211\"/>\n    </g>\n    <g clip-path=\"url(#p0575345c21)\">\n     <use style=\"fill:#b1400d;stroke:#ffffff;stroke-width:0.48;\" x=\"220.446267\" xlink:href=\"#C0_0_c71d292ef1\" y=\"91.018321\"/>\n    </g>\n    <g clip-path=\"url(#p0575345c21)\">\n     <use style=\"fill:#b1400d;stroke:#ffffff;stroke-width:0.48;\" x=\"232.873005\" xlink:href=\"#C0_0_c71d292ef1\" y=\"189.043627\"/>\n    </g>\n    <g clip-path=\"url(#p0575345c21)\">\n     <use style=\"fill:#b1400d;stroke:#ffffff;stroke-width:0.48;\" x=\"242.74071\" xlink:href=\"#C0_0_c71d292ef1\" y=\"187.099548\"/>\n    </g>\n    <g clip-path=\"url(#p0575345c21)\">\n     <use style=\"fill:#b1400d;stroke:#ffffff;stroke-width:0.48;\" x=\"258.5707\" xlink:href=\"#C0_0_c71d292ef1\" y=\"118.333561\"/>\n    </g>\n    <g clip-path=\"url(#p0575345c21)\">\n     <use style=\"fill:#b1400d;stroke:#ffffff;stroke-width:0.48;\" x=\"238.670421\" xlink:href=\"#C0_0_c71d292ef1\" y=\"136.934834\"/>\n    </g>\n    <g clip-path=\"url(#p0575345c21)\">\n     <use style=\"fill:#b1400d;stroke:#ffffff;stroke-width:0.48;\" x=\"201.604462\" xlink:href=\"#C0_0_c71d292ef1\" y=\"172.220102\"/>\n    </g>\n    <g clip-path=\"url(#p0575345c21)\">\n     <use style=\"fill:#b1400d;stroke:#ffffff;stroke-width:0.48;\" x=\"201.604462\" xlink:href=\"#C0_0_c71d292ef1\" y=\"172.220102\"/>\n    </g>\n    <g clip-path=\"url(#p0575345c21)\">\n     <use style=\"fill:#b1400d;stroke:#ffffff;stroke-width:0.48;\" x=\"201.604462\" xlink:href=\"#C0_0_c71d292ef1\" y=\"172.220102\"/>\n    </g>\n    <g clip-path=\"url(#p0575345c21)\">\n     <use style=\"fill:#b1400d;stroke:#ffffff;stroke-width:0.48;\" x=\"198.15518\" xlink:href=\"#C0_0_c71d292ef1\" y=\"171.816211\"/>\n    </g>\n    <g clip-path=\"url(#p0575345c21)\">\n     <use style=\"fill:#b1400d;stroke:#ffffff;stroke-width:0.48;\" x=\"199.110381\" xlink:href=\"#C0_0_c71d292ef1\" y=\"169.627002\"/>\n    </g>\n    <g clip-path=\"url(#p0575345c21)\">\n     <use style=\"fill:#b1400d;stroke:#ffffff;stroke-width:0.48;\" x=\"272.324451\" xlink:href=\"#C0_0_c71d292ef1\" y=\"183.471645\"/>\n    </g>\n    <g clip-path=\"url(#p0575345c21)\">\n     <use style=\"fill:#b1400d;stroke:#ffffff;stroke-width:0.48;\" x=\"179.145682\" xlink:href=\"#C0_0_c71d292ef1\" y=\"134.893736\"/>\n    </g>\n    <g clip-path=\"url(#p0575345c21)\">\n     <use style=\"fill:#b1400d;stroke:#ffffff;stroke-width:0.48;\" x=\"201.604462\" xlink:href=\"#C0_0_c71d292ef1\" y=\"172.220102\"/>\n    </g>\n    <g clip-path=\"url(#p0575345c21)\">\n     <use style=\"fill:#b1400d;stroke:#ffffff;stroke-width:0.48;\" x=\"246.189992\" xlink:href=\"#C0_0_c71d292ef1\" y=\"187.503439\"/>\n    </g>\n    <g clip-path=\"url(#p0575345c21)\">\n     <use style=\"fill:#b1400d;stroke:#ffffff;stroke-width:0.48;\" x=\"228.359545\" xlink:href=\"#C0_0_c71d292ef1\" y=\"189.361243\"/>\n    </g>\n    <g clip-path=\"url(#p0575345c21)\">\n     <use style=\"fill:#b1400d;stroke:#ffffff;stroke-width:0.48;\" x=\"179.145682\" xlink:href=\"#C0_0_c71d292ef1\" y=\"134.893736\"/>\n    </g>\n    <g clip-path=\"url(#p0575345c21)\">\n     <use style=\"fill:#b1400d;stroke:#ffffff;stroke-width:0.48;\" x=\"182.594964\" xlink:href=\"#C0_0_c71d292ef1\" y=\"135.297627\"/>\n    </g>\n    <g clip-path=\"url(#p0575345c21)\">\n     <use style=\"fill:#b1400d;stroke:#ffffff;stroke-width:0.48;\" x=\"179.145682\" xlink:href=\"#C0_0_c71d292ef1\" y=\"134.893736\"/>\n    </g>\n    <g clip-path=\"url(#p0575345c21)\">\n     <use style=\"fill:#b1400d;stroke:#ffffff;stroke-width:0.48;\" x=\"227.989687\" xlink:href=\"#C0_0_c71d292ef1\" y=\"86.978422\"/>\n    </g>\n    <g clip-path=\"url(#p0575345c21)\">\n     <use style=\"fill:#b1400d;stroke:#ffffff;stroke-width:0.48;\" x=\"248.669347\" xlink:href=\"#C0_0_c71d292ef1\" y=\"190.287361\"/>\n    </g>\n    <g clip-path=\"url(#p0575345c21)\">\n     <use style=\"fill:#b1400d;stroke:#ffffff;stroke-width:0.48;\" x=\"245.854836\" xlink:href=\"#C0_0_c71d292ef1\" y=\"196.52661\"/>\n    </g>\n    <g clip-path=\"url(#p0575345c21)\">\n     <use style=\"fill:#b1400d;stroke:#ffffff;stroke-width:0.48;\" x=\"201.604462\" xlink:href=\"#C0_0_c71d292ef1\" y=\"172.220102\"/>\n    </g>\n    <g clip-path=\"url(#p0575345c21)\">\n     <use style=\"fill:#b1400d;stroke:#ffffff;stroke-width:0.48;\" x=\"234.704862\" xlink:href=\"#C0_0_c71d292ef1\" y=\"187.099048\"/>\n    </g>\n    <g clip-path=\"url(#p0575345c21)\">\n     <use style=\"fill:#b1400d;stroke:#ffffff;stroke-width:0.48;\" x=\"211.367504\" xlink:href=\"#C0_0_c71d292ef1\" y=\"163.523873\"/>\n    </g>\n    <g clip-path=\"url(#p0575345c21)\">\n     <use style=\"fill:#b1400d;stroke:#ffffff;stroke-width:0.48;\" x=\"186.655021\" xlink:href=\"#C0_0_c71d292ef1\" y=\"125.661526\"/>\n    </g>\n    <g clip-path=\"url(#p0575345c21)\">\n     <use style=\"fill:#b1400d;stroke:#ffffff;stroke-width:0.48;\" x=\"236.791177\" xlink:href=\"#C0_0_c71d292ef1\" y=\"145.858853\"/>\n    </g>\n    <g clip-path=\"url(#p0575345c21)\">\n     <use style=\"fill:#b1400d;stroke:#ffffff;stroke-width:0.48;\" x=\"248.669347\" xlink:href=\"#C0_0_c71d292ef1\" y=\"190.287361\"/>\n    </g>\n    <g clip-path=\"url(#p0575345c21)\">\n     <use style=\"fill:#b1400d;stroke:#ffffff;stroke-width:0.48;\" x=\"234.329336\" xlink:href=\"#C0_0_c71d292ef1\" y=\"186.771664\"/>\n    </g>\n    <g clip-path=\"url(#p0575345c21)\">\n     <use style=\"fill:#b1400d;stroke:#ffffff;stroke-width:0.48;\" x=\"239.910807\" xlink:href=\"#C0_0_c71d292ef1\" y=\"164.107033\"/>\n    </g>\n    <g clip-path=\"url(#p0575345c21)\">\n     <use style=\"fill:#b1400d;stroke:#ffffff;stroke-width:0.48;\" x=\"243.990178\" xlink:href=\"#C0_0_c71d292ef1\" y=\"92.176096\"/>\n    </g>\n    <g clip-path=\"url(#p0575345c21)\">\n     <use style=\"fill:#b1400d;stroke:#ffffff;stroke-width:0.48;\" x=\"232.873005\" xlink:href=\"#C0_0_c71d292ef1\" y=\"189.043627\"/>\n    </g>\n    <g clip-path=\"url(#p0575345c21)\">\n     <use style=\"fill:#b1400d;stroke:#ffffff;stroke-width:0.48;\" x=\"248.025767\" xlink:href=\"#C0_0_c71d292ef1\" y=\"198.410593\"/>\n    </g>\n    <g clip-path=\"url(#p0575345c21)\">\n     <use style=\"fill:#b1400d;stroke:#ffffff;stroke-width:0.48;\" x=\"199.110381\" xlink:href=\"#C0_0_c71d292ef1\" y=\"169.627002\"/>\n    </g>\n    <g clip-path=\"url(#p0575345c21)\">\n     <use style=\"fill:#b1400d;stroke:#ffffff;stroke-width:0.48;\" x=\"258.5707\" xlink:href=\"#C0_0_c71d292ef1\" y=\"118.333561\"/>\n    </g>\n    <g clip-path=\"url(#p0575345c21)\">\n     <use style=\"fill:#b1400d;stroke:#ffffff;stroke-width:0.48;\" x=\"286.565008\" xlink:href=\"#C0_0_c71d292ef1\" y=\"146.663617\"/>\n    </g>\n    <g clip-path=\"url(#p0575345c21)\">\n     <use style=\"fill:#b1400d;stroke:#ffffff;stroke-width:0.48;\" x=\"252.52175\" xlink:href=\"#C0_0_c71d292ef1\" y=\"178.477842\"/>\n    </g>\n    <g clip-path=\"url(#p0575345c21)\">\n     <use style=\"fill:#b1400d;stroke:#ffffff;stroke-width:0.48;\" x=\"228.994235\" xlink:href=\"#C0_0_c71d292ef1\" y=\"148.081721\"/>\n    </g>\n    <g clip-path=\"url(#p0575345c21)\">\n     <use style=\"fill:#b1400d;stroke:#ffffff;stroke-width:0.48;\" x=\"189.785602\" xlink:href=\"#C0_0_c71d292ef1\" y=\"129.702227\"/>\n    </g>\n    <g clip-path=\"url(#p0575345c21)\">\n     <use style=\"fill:#b1400d;stroke:#ffffff;stroke-width:0.48;\" x=\"232.873005\" xlink:href=\"#C0_0_c71d292ef1\" y=\"189.043627\"/>\n    </g>\n    <g clip-path=\"url(#p0575345c21)\">\n     <use style=\"fill:#b1400d;stroke:#ffffff;stroke-width:0.48;\" x=\"201.604462\" xlink:href=\"#C0_0_c71d292ef1\" y=\"172.220102\"/>\n    </g>\n    <g clip-path=\"url(#p0575345c21)\">\n     <use style=\"fill:#b1400d;stroke:#ffffff;stroke-width:0.48;\" x=\"201.604462\" xlink:href=\"#C0_0_c71d292ef1\" y=\"172.220102\"/>\n    </g>\n    <g clip-path=\"url(#p0575345c21)\">\n     <use style=\"fill:#b1400d;stroke:#ffffff;stroke-width:0.48;\" x=\"245.854836\" xlink:href=\"#C0_0_c71d292ef1\" y=\"196.52661\"/>\n    </g>\n    <g clip-path=\"url(#p0575345c21)\">\n     <use style=\"fill:#b1400d;stroke:#ffffff;stroke-width:0.48;\" x=\"198.15518\" xlink:href=\"#C0_0_c71d292ef1\" y=\"171.816211\"/>\n    </g>\n    <g clip-path=\"url(#p0575345c21)\">\n     <use style=\"fill:#b1400d;stroke:#ffffff;stroke-width:0.48;\" x=\"199.110381\" xlink:href=\"#C0_0_c71d292ef1\" y=\"169.627002\"/>\n    </g>\n    <g clip-path=\"url(#p0575345c21)\">\n     <use style=\"fill:#b1400d;stroke:#ffffff;stroke-width:0.48;\" x=\"276.26439\" xlink:href=\"#C0_0_c71d292ef1\" y=\"162.542511\"/>\n    </g>\n    <g clip-path=\"url(#p0575345c21)\">\n     <use style=\"fill:#b1400d;stroke:#ffffff;stroke-width:0.48;\" x=\"245.854836\" xlink:href=\"#C0_0_c71d292ef1\" y=\"196.52661\"/>\n    </g>\n    <g clip-path=\"url(#p0575345c21)\">\n     <use style=\"fill:#b1400d;stroke:#ffffff;stroke-width:0.48;\" x=\"204.278291\" xlink:href=\"#C0_0_c71d292ef1\" y=\"148.120811\"/>\n    </g>\n    <g clip-path=\"url(#p0575345c21)\">\n     <use style=\"fill:#b1400d;stroke:#ffffff;stroke-width:0.48;\" x=\"274.496141\" xlink:href=\"#C0_0_c71d292ef1\" y=\"160.408932\"/>\n    </g>\n    <g clip-path=\"url(#p0575345c21)\">\n     <use style=\"fill:#b1400d;stroke:#ffffff;stroke-width:0.48;\" x=\"248.669347\" xlink:href=\"#C0_0_c71d292ef1\" y=\"190.287361\"/>\n    </g>\n    <g clip-path=\"url(#p0575345c21)\">\n     <use style=\"fill:#b1400d;stroke:#ffffff;stroke-width:0.48;\" x=\"229.619701\" xlink:href=\"#C0_0_c71d292ef1\" y=\"187.922389\"/>\n    </g>\n    <g clip-path=\"url(#p0575345c21)\">\n     <use style=\"fill:#b1400d;stroke:#ffffff;stroke-width:0.48;\" x=\"225.645111\" xlink:href=\"#C0_0_c71d292ef1\" y=\"149.920447\"/>\n    </g>\n    <g clip-path=\"url(#p0575345c21)\">\n     <use style=\"fill:#b1400d;stroke:#ffffff;stroke-width:0.48;\" x=\"281.39422\" xlink:href=\"#C0_0_c71d292ef1\" y=\"204.838924\"/>\n    </g>\n    <g clip-path=\"url(#p0575345c21)\">\n     <use style=\"fill:#b1400d;stroke:#ffffff;stroke-width:0.48;\" x=\"221.397387\" xlink:href=\"#C0_0_c71d292ef1\" y=\"149.149213\"/>\n    </g>\n    <g clip-path=\"url(#p0575345c21)\">\n     <use style=\"fill:#b1400d;stroke:#ffffff;stroke-width:0.48;\" x=\"205.035746\" xlink:href=\"#C0_0_c71d292ef1\" y=\"172.549469\"/>\n    </g>\n    <g clip-path=\"url(#p0575345c21)\">\n     <use style=\"fill:#b1400d;stroke:#ffffff;stroke-width:0.48;\" x=\"199.110381\" xlink:href=\"#C0_0_c71d292ef1\" y=\"169.627002\"/>\n    </g>\n    <g clip-path=\"url(#p0575345c21)\">\n     <use style=\"fill:#b1400d;stroke:#ffffff;stroke-width:0.48;\" x=\"241.201163\" xlink:href=\"#C0_0_c71d292ef1\" y=\"152.894652\"/>\n    </g>\n    <g clip-path=\"url(#p0575345c21)\">\n     <use style=\"fill:#b1400d;stroke:#ffffff;stroke-width:0.48;\" x=\"199.110381\" xlink:href=\"#C0_0_c71d292ef1\" y=\"169.627002\"/>\n    </g>\n    <g clip-path=\"url(#p0575345c21)\">\n     <use style=\"fill:#b1400d;stroke:#ffffff;stroke-width:0.48;\" x=\"179.145682\" xlink:href=\"#C0_0_c71d292ef1\" y=\"134.893736\"/>\n    </g>\n    <g clip-path=\"url(#p0575345c21)\">\n     <use style=\"fill:#b1400d;stroke:#ffffff;stroke-width:0.48;\" x=\"205.035746\" xlink:href=\"#C0_0_c71d292ef1\" y=\"172.549469\"/>\n    </g>\n    <g clip-path=\"url(#p0575345c21)\">\n     <use style=\"fill:#b1400d;stroke:#ffffff;stroke-width:0.48;\" x=\"227.989687\" xlink:href=\"#C0_0_c71d292ef1\" y=\"86.978422\"/>\n    </g>\n    <g clip-path=\"url(#p0575345c21)\">\n     <use style=\"fill:#b1400d;stroke:#ffffff;stroke-width:0.48;\" x=\"220.345684\" xlink:href=\"#C0_0_c71d292ef1\" y=\"173.685134\"/>\n    </g>\n    <g clip-path=\"url(#p0575345c21)\">\n     <use style=\"fill:#b1400d;stroke:#ffffff;stroke-width:0.48;\" x=\"242.74071\" xlink:href=\"#C0_0_c71d292ef1\" y=\"187.099548\"/>\n    </g>\n    <g clip-path=\"url(#p0575345c21)\">\n     <use style=\"fill:#b1400d;stroke:#ffffff;stroke-width:0.48;\" x=\"228.359545\" xlink:href=\"#C0_0_c71d292ef1\" y=\"189.361243\"/>\n    </g>\n    <g clip-path=\"url(#p0575345c21)\">\n     <use style=\"fill:#b1400d;stroke:#ffffff;stroke-width:0.48;\" x=\"211.367504\" xlink:href=\"#C0_0_c71d292ef1\" y=\"163.523873\"/>\n    </g>\n    <g clip-path=\"url(#p0575345c21)\">\n     <use style=\"fill:#b1400d;stroke:#ffffff;stroke-width:0.48;\" x=\"182.594964\" xlink:href=\"#C0_0_c71d292ef1\" y=\"135.297627\"/>\n    </g>\n    <g clip-path=\"url(#p0575345c21)\">\n     <use style=\"fill:#b1400d;stroke:#ffffff;stroke-width:0.48;\" x=\"242.74071\" xlink:href=\"#C0_0_c71d292ef1\" y=\"187.099548\"/>\n    </g>\n    <g clip-path=\"url(#p0575345c21)\">\n     <use style=\"fill:#b1400d;stroke:#ffffff;stroke-width:0.48;\" x=\"257.202502\" xlink:href=\"#C0_0_c71d292ef1\" y=\"83.883758\"/>\n    </g>\n    <g clip-path=\"url(#p0575345c21)\">\n     <use style=\"fill:#b1400d;stroke:#ffffff;stroke-width:0.48;\" x=\"225.645111\" xlink:href=\"#C0_0_c71d292ef1\" y=\"149.920447\"/>\n    </g>\n    <g clip-path=\"url(#p0575345c21)\">\n     <use style=\"fill:#b1400d;stroke:#ffffff;stroke-width:0.48;\" x=\"185.124658\" xlink:href=\"#C0_0_c71d292ef1\" y=\"124.312638\"/>\n    </g>\n    <g clip-path=\"url(#p0575345c21)\">\n     <use style=\"fill:#b1400d;stroke:#ffffff;stroke-width:0.48;\" x=\"201.604462\" xlink:href=\"#C0_0_c71d292ef1\" y=\"172.220102\"/>\n    </g>\n    <g clip-path=\"url(#p0575345c21)\">\n     <use style=\"fill:#b1400d;stroke:#ffffff;stroke-width:0.48;\" x=\"182.594964\" xlink:href=\"#C0_0_c71d292ef1\" y=\"135.297627\"/>\n    </g>\n    <g clip-path=\"url(#p0575345c21)\">\n     <use style=\"fill:#b1400d;stroke:#ffffff;stroke-width:0.48;\" x=\"258.5707\" xlink:href=\"#C0_0_c71d292ef1\" y=\"118.333561\"/>\n    </g>\n    <g clip-path=\"url(#p0575345c21)\">\n     <use style=\"fill:#b1400d;stroke:#ffffff;stroke-width:0.48;\" x=\"242.74071\" xlink:href=\"#C0_0_c71d292ef1\" y=\"187.099548\"/>\n    </g>\n    <g clip-path=\"url(#p0575345c21)\">\n     <use style=\"fill:#b1400d;stroke:#ffffff;stroke-width:0.48;\" x=\"247.370526\" xlink:href=\"#C0_0_c71d292ef1\" y=\"193.728835\"/>\n    </g>\n    <g clip-path=\"url(#p0575345c21)\">\n     <use style=\"fill:#b1400d;stroke:#ffffff;stroke-width:0.48;\" x=\"221.657929\" xlink:href=\"#C0_0_c71d292ef1\" y=\"96.004019\"/>\n    </g>\n    <g clip-path=\"url(#p0575345c21)\">\n     <use style=\"fill:#b1400d;stroke:#ffffff;stroke-width:0.48;\" x=\"229.619701\" xlink:href=\"#C0_0_c71d292ef1\" y=\"187.922389\"/>\n    </g>\n    <g clip-path=\"url(#p0575345c21)\">\n     <use style=\"fill:#b1400d;stroke:#ffffff;stroke-width:0.48;\" x=\"228.275359\" xlink:href=\"#C0_0_c71d292ef1\" y=\"188.458266\"/>\n    </g>\n    <g clip-path=\"url(#p0575345c21)\">\n     <use style=\"fill:#b1400d;stroke:#ffffff;stroke-width:0.48;\" x=\"220.446267\" xlink:href=\"#C0_0_c71d292ef1\" y=\"91.018321\"/>\n    </g>\n    <g clip-path=\"url(#p0575345c21)\">\n     <use style=\"fill:#b1400d;stroke:#ffffff;stroke-width:0.48;\" x=\"239.910807\" xlink:href=\"#C0_0_c71d292ef1\" y=\"164.107033\"/>\n    </g>\n    <g clip-path=\"url(#p0575345c21)\">\n     <use style=\"fill:#b1400d;stroke:#ffffff;stroke-width:0.48;\" x=\"267.427918\" xlink:href=\"#C0_0_c71d292ef1\" y=\"202.2902\"/>\n    </g>\n    <g clip-path=\"url(#p0575345c21)\">\n     <use style=\"fill:#b1400d;stroke:#ffffff;stroke-width:0.48;\" x=\"201.604462\" xlink:href=\"#C0_0_c71d292ef1\" y=\"172.220102\"/>\n    </g>\n    <g clip-path=\"url(#p0575345c21)\">\n     <use style=\"fill:#b1400d;stroke:#ffffff;stroke-width:0.48;\" x=\"201.604462\" xlink:href=\"#C0_0_c71d292ef1\" y=\"172.220102\"/>\n    </g>\n    <g clip-path=\"url(#p0575345c21)\">\n     <use style=\"fill:#b1400d;stroke:#ffffff;stroke-width:0.48;\" x=\"244.508959\" xlink:href=\"#C0_0_c71d292ef1\" y=\"189.233128\"/>\n    </g>\n    <g clip-path=\"url(#p0575345c21)\">\n     <use style=\"fill:#b1400d;stroke:#ffffff;stroke-width:0.48;\" x=\"199.110381\" xlink:href=\"#C0_0_c71d292ef1\" y=\"169.627002\"/>\n    </g>\n    <g clip-path=\"url(#p0575345c21)\">\n     <use style=\"fill:#b1400d;stroke:#ffffff;stroke-width:0.48;\" x=\"186.655021\" xlink:href=\"#C0_0_c71d292ef1\" y=\"125.661526\"/>\n    </g>\n    <g clip-path=\"url(#p0575345c21)\">\n     <use style=\"fill:#b1400d;stroke:#ffffff;stroke-width:0.48;\" x=\"201.604462\" xlink:href=\"#C0_0_c71d292ef1\" y=\"172.220102\"/>\n    </g>\n    <g clip-path=\"url(#p0575345c21)\">\n     <use style=\"fill:#b1400d;stroke:#ffffff;stroke-width:0.48;\" x=\"237.291084\" xlink:href=\"#C0_0_c71d292ef1\" y=\"188.260016\"/>\n    </g>\n    <g clip-path=\"url(#p0575345c21)\">\n     <use style=\"fill:#b1400d;stroke:#ffffff;stroke-width:0.48;\" x=\"201.604462\" xlink:href=\"#C0_0_c71d292ef1\" y=\"172.220102\"/>\n    </g>\n    <g clip-path=\"url(#p0575345c21)\">\n     <use style=\"fill:#b1400d;stroke:#ffffff;stroke-width:0.48;\" x=\"236.791177\" xlink:href=\"#C0_0_c71d292ef1\" y=\"145.858853\"/>\n    </g>\n    <g clip-path=\"url(#p0575345c21)\">\n     <use style=\"fill:#b1400d;stroke:#ffffff;stroke-width:0.48;\" x=\"201.604462\" xlink:href=\"#C0_0_c71d292ef1\" y=\"172.220102\"/>\n    </g>\n    <g clip-path=\"url(#p0575345c21)\">\n     <use style=\"fill:#b1400d;stroke:#ffffff;stroke-width:0.48;\" x=\"242.74071\" xlink:href=\"#C0_0_c71d292ef1\" y=\"187.099548\"/>\n    </g>\n    <g clip-path=\"url(#p0575345c21)\">\n     <use style=\"fill:#b1400d;stroke:#ffffff;stroke-width:0.48;\" x=\"244.508959\" xlink:href=\"#C0_0_c71d292ef1\" y=\"189.233128\"/>\n    </g>\n    <g clip-path=\"url(#p0575345c21)\">\n     <use style=\"fill:#b1400d;stroke:#ffffff;stroke-width:0.48;\" x=\"211.367504\" xlink:href=\"#C0_0_c71d292ef1\" y=\"163.523873\"/>\n    </g>\n    <g clip-path=\"url(#p0575345c21)\">\n     <use style=\"fill:#b1400d;stroke:#ffffff;stroke-width:0.48;\" x=\"201.604462\" xlink:href=\"#C0_0_c71d292ef1\" y=\"172.220102\"/>\n    </g>\n    <g clip-path=\"url(#p0575345c21)\">\n     <use style=\"fill:#b1400d;stroke:#ffffff;stroke-width:0.48;\" x=\"242.74071\" xlink:href=\"#C0_0_c71d292ef1\" y=\"187.099548\"/>\n    </g>\n    <g clip-path=\"url(#p0575345c21)\">\n     <use style=\"fill:#b1400d;stroke:#ffffff;stroke-width:0.48;\" x=\"197.175486\" xlink:href=\"#C0_0_c71d292ef1\" y=\"161.455091\"/>\n    </g>\n    <g clip-path=\"url(#p0575345c21)\">\n     <use style=\"fill:#b1400d;stroke:#ffffff;stroke-width:0.48;\" x=\"201.604462\" xlink:href=\"#C0_0_c71d292ef1\" y=\"172.220102\"/>\n    </g>\n    <g clip-path=\"url(#p0575345c21)\">\n     <use style=\"fill:#b1400d;stroke:#ffffff;stroke-width:0.48;\" x=\"201.604462\" xlink:href=\"#C0_0_c71d292ef1\" y=\"172.220102\"/>\n    </g>\n    <g clip-path=\"url(#p0575345c21)\">\n     <use style=\"fill:#b1400d;stroke:#ffffff;stroke-width:0.48;\" x=\"205.035746\" xlink:href=\"#C0_0_c71d292ef1\" y=\"172.549469\"/>\n    </g>\n    <g clip-path=\"url(#p0575345c21)\">\n     <use style=\"fill:#b1400d;stroke:#ffffff;stroke-width:0.48;\" x=\"270.439288\" xlink:href=\"#C0_0_c71d292ef1\" y=\"179.873588\"/>\n    </g>\n    <g clip-path=\"url(#p0575345c21)\">\n     <use style=\"fill:#b1400d;stroke:#ffffff;stroke-width:0.48;\" x=\"246.495142\" xlink:href=\"#C0_0_c71d292ef1\" y=\"179.82653\"/>\n    </g>\n    <g clip-path=\"url(#p0575345c21)\">\n     <use style=\"fill:#b1400d;stroke:#ffffff;stroke-width:0.48;\" x=\"202.495243\" xlink:href=\"#C0_0_c71d292ef1\" y=\"116.696354\"/>\n    </g>\n    <g clip-path=\"url(#p0575345c21)\">\n     <use style=\"fill:#b1400d;stroke:#ffffff;stroke-width:0.48;\" x=\"201.604462\" xlink:href=\"#C0_0_c71d292ef1\" y=\"172.220102\"/>\n    </g>\n    <g clip-path=\"url(#p0575345c21)\">\n     <use style=\"fill:#b1400d;stroke:#ffffff;stroke-width:0.48;\" x=\"182.594964\" xlink:href=\"#C0_0_c71d292ef1\" y=\"135.297627\"/>\n    </g>\n    <g clip-path=\"url(#p0575345c21)\">\n     <use style=\"fill:#b1400d;stroke:#ffffff;stroke-width:0.48;\" x=\"179.145682\" xlink:href=\"#C0_0_c71d292ef1\" y=\"134.893736\"/>\n    </g>\n    <g clip-path=\"url(#p0575345c21)\">\n     <use style=\"fill:#b1400d;stroke:#ffffff;stroke-width:0.48;\" x=\"201.604462\" xlink:href=\"#C0_0_c71d292ef1\" y=\"172.220102\"/>\n    </g>\n    <g clip-path=\"url(#p0575345c21)\">\n     <use style=\"fill:#b1400d;stroke:#ffffff;stroke-width:0.48;\" x=\"228.994235\" xlink:href=\"#C0_0_c71d292ef1\" y=\"148.081721\"/>\n    </g>\n    <g clip-path=\"url(#p0575345c21)\">\n     <use style=\"fill:#b1400d;stroke:#ffffff;stroke-width:0.48;\" x=\"238.577059\" xlink:href=\"#C0_0_c71d292ef1\" y=\"187.542898\"/>\n    </g>\n    <g clip-path=\"url(#p0575345c21)\">\n     <use style=\"fill:#b1400d;stroke:#ffffff;stroke-width:0.48;\" x=\"249.030355\" xlink:href=\"#C0_0_c71d292ef1\" y=\"188.912287\"/>\n    </g>\n    <g clip-path=\"url(#p0575345c21)\">\n     <use style=\"fill:#b1400d;stroke:#ffffff;stroke-width:0.48;\" x=\"224.565259\" xlink:href=\"#C0_0_c71d292ef1\" y=\"137.316711\"/>\n    </g>\n    <g clip-path=\"url(#p0575345c21)\">\n     <use style=\"fill:#b1400d;stroke:#ffffff;stroke-width:0.48;\" x=\"202.495243\" xlink:href=\"#C0_0_c71d292ef1\" y=\"116.696354\"/>\n    </g>\n    <g clip-path=\"url(#p0575345c21)\">\n     <use style=\"fill:#b1400d;stroke:#ffffff;stroke-width:0.48;\" x=\"229.619701\" xlink:href=\"#C0_0_c71d292ef1\" y=\"187.922389\"/>\n    </g>\n    <g clip-path=\"url(#p0575345c21)\">\n     <use style=\"fill:#b1400d;stroke:#ffffff;stroke-width:0.48;\" x=\"272.324451\" xlink:href=\"#C0_0_c71d292ef1\" y=\"183.471645\"/>\n    </g>\n    <g clip-path=\"url(#p0575345c21)\">\n     <use style=\"fill:#b1400d;stroke:#ffffff;stroke-width:0.48;\" x=\"258.5707\" xlink:href=\"#C0_0_c71d292ef1\" y=\"118.333561\"/>\n    </g>\n    <g clip-path=\"url(#p0575345c21)\">\n     <use style=\"fill:#b1400d;stroke:#ffffff;stroke-width:0.48;\" x=\"234.329336\" xlink:href=\"#C0_0_c71d292ef1\" y=\"186.771664\"/>\n    </g>\n    <g clip-path=\"url(#p0575345c21)\">\n     <use style=\"fill:#b1400d;stroke:#ffffff;stroke-width:0.48;\" x=\"227.151481\" xlink:href=\"#C0_0_c71d292ef1\" y=\"138.477679\"/>\n    </g>\n    <g clip-path=\"url(#p0575345c21)\">\n     <use style=\"fill:#b1400d;stroke:#ffffff;stroke-width:0.48;\" x=\"286.565008\" xlink:href=\"#C0_0_c71d292ef1\" y=\"146.663617\"/>\n    </g>\n    <g clip-path=\"url(#p0575345c21)\">\n     <use style=\"fill:#b1400d;stroke:#ffffff;stroke-width:0.48;\" x=\"267.427918\" xlink:href=\"#C0_0_c71d292ef1\" y=\"202.2902\"/>\n    </g>\n    <g clip-path=\"url(#p0575345c21)\">\n     <use style=\"fill:#b1400d;stroke:#ffffff;stroke-width:0.48;\" x=\"228.359545\" xlink:href=\"#C0_0_c71d292ef1\" y=\"189.361243\"/>\n    </g>\n    <g clip-path=\"url(#p0575345c21)\">\n     <use style=\"fill:#b1400d;stroke:#ffffff;stroke-width:0.48;\" x=\"201.604462\" xlink:href=\"#C0_0_c71d292ef1\" y=\"172.220102\"/>\n    </g>\n    <g clip-path=\"url(#p0575345c21)\">\n     <use style=\"fill:#b1400d;stroke:#ffffff;stroke-width:0.48;\" x=\"242.74071\" xlink:href=\"#C0_0_c71d292ef1\" y=\"187.099548\"/>\n    </g>\n    <g clip-path=\"url(#p0575345c21)\">\n     <use style=\"fill:#b1400d;stroke:#ffffff;stroke-width:0.48;\" x=\"198.15518\" xlink:href=\"#C0_0_c71d292ef1\" y=\"171.816211\"/>\n    </g>\n    <g clip-path=\"url(#p0575345c21)\">\n     <use style=\"fill:#b1400d;stroke:#ffffff;stroke-width:0.48;\" x=\"202.495243\" xlink:href=\"#C0_0_c71d292ef1\" y=\"116.696354\"/>\n    </g>\n    <g clip-path=\"url(#p0575345c21)\">\n     <use style=\"fill:#b1400d;stroke:#ffffff;stroke-width:0.48;\" x=\"193.313206\" xlink:href=\"#C0_0_c71d292ef1\" y=\"124.412189\"/>\n    </g>\n    <g clip-path=\"url(#p0575345c21)\">\n     <use style=\"fill:#b1400d;stroke:#ffffff;stroke-width:0.48;\" x=\"201.604462\" xlink:href=\"#C0_0_c71d292ef1\" y=\"172.220102\"/>\n    </g>\n    <g clip-path=\"url(#p0575345c21)\">\n     <use style=\"fill:#b1400d;stroke:#ffffff;stroke-width:0.48;\" x=\"202.495243\" xlink:href=\"#C0_0_c71d292ef1\" y=\"116.696354\"/>\n    </g>\n    <g clip-path=\"url(#p0575345c21)\">\n     <use style=\"fill:#b1400d;stroke:#ffffff;stroke-width:0.48;\" x=\"201.604462\" xlink:href=\"#C0_0_c71d292ef1\" y=\"172.220102\"/>\n    </g>\n    <g clip-path=\"url(#p0575345c21)\">\n     <use style=\"fill:#b1400d;stroke:#ffffff;stroke-width:0.48;\" x=\"272.324451\" xlink:href=\"#C0_0_c71d292ef1\" y=\"183.471645\"/>\n    </g>\n    <g clip-path=\"url(#p0575345c21)\">\n     <use style=\"fill:#b1400d;stroke:#ffffff;stroke-width:0.48;\" x=\"253.353543\" xlink:href=\"#C0_0_c71d292ef1\" y=\"198.768697\"/>\n    </g>\n    <g clip-path=\"url(#p0575345c21)\">\n     <use style=\"fill:#b1400d;stroke:#ffffff;stroke-width:0.48;\" x=\"260.173644\" xlink:href=\"#C0_0_c71d292ef1\" y=\"200.589969\"/>\n    </g>\n    <g clip-path=\"url(#p0575345c21)\">\n     <use style=\"fill:#b1400d;stroke:#ffffff;stroke-width:0.48;\" x=\"228.994235\" xlink:href=\"#C0_0_c71d292ef1\" y=\"148.081721\"/>\n    </g>\n    <g clip-path=\"url(#p0575345c21)\">\n     <use style=\"fill:#b1400d;stroke:#ffffff;stroke-width:0.48;\" x=\"242.74071\" xlink:href=\"#C0_0_c71d292ef1\" y=\"187.099548\"/>\n    </g>\n    <g clip-path=\"url(#p0575345c21)\">\n     <use style=\"fill:#b1400d;stroke:#ffffff;stroke-width:0.48;\" x=\"201.604462\" xlink:href=\"#C0_0_c71d292ef1\" y=\"172.220102\"/>\n    </g>\n    <g clip-path=\"url(#p0575345c21)\">\n     <use style=\"fill:#b1400d;stroke:#ffffff;stroke-width:0.48;\" x=\"199.110381\" xlink:href=\"#C0_0_c71d292ef1\" y=\"169.627002\"/>\n    </g>\n    <g clip-path=\"url(#p0575345c21)\">\n     <use style=\"fill:#b1400d;stroke:#ffffff;stroke-width:0.48;\" x=\"267.427918\" xlink:href=\"#C0_0_c71d292ef1\" y=\"202.2902\"/>\n    </g>\n    <g clip-path=\"url(#p0575345c21)\">\n     <use style=\"fill:#b1400d;stroke:#ffffff;stroke-width:0.48;\" x=\"205.035746\" xlink:href=\"#C0_0_c71d292ef1\" y=\"172.549469\"/>\n    </g>\n    <g clip-path=\"url(#p0575345c21)\">\n     <use style=\"fill:#b1400d;stroke:#ffffff;stroke-width:0.48;\" x=\"240.849387\" xlink:href=\"#C0_0_c71d292ef1\" y=\"139.992378\"/>\n    </g>\n    <g clip-path=\"url(#p0575345c21)\">\n     <use style=\"fill:#b1400d;stroke:#ffffff;stroke-width:0.48;\" x=\"186.655021\" xlink:href=\"#C0_0_c71d292ef1\" y=\"125.661526\"/>\n    </g>\n    <g clip-path=\"url(#p0575345c21)\">\n     <use style=\"fill:#b1400d;stroke:#ffffff;stroke-width:0.48;\" x=\"201.604462\" xlink:href=\"#C0_0_c71d292ef1\" y=\"172.220102\"/>\n    </g>\n    <g clip-path=\"url(#p0575345c21)\">\n     <use style=\"fill:#b1400d;stroke:#ffffff;stroke-width:0.48;\" x=\"274.496141\" xlink:href=\"#C0_0_c71d292ef1\" y=\"160.408932\"/>\n    </g>\n    <g clip-path=\"url(#p0575345c21)\">\n     <use style=\"fill:#b1400d;stroke:#ffffff;stroke-width:0.48;\" x=\"247.145192\" xlink:href=\"#C0_0_c71d292ef1\" y=\"185.31423\"/>\n    </g>\n    <g clip-path=\"url(#p0575345c21)\">\n     <use style=\"fill:#b1400d;stroke:#ffffff;stroke-width:0.48;\" x=\"221.300884\" xlink:href=\"#C0_0_c71d292ef1\" y=\"171.495925\"/>\n    </g>\n    <g clip-path=\"url(#p0575345c21)\">\n     <use style=\"fill:#b1400d;stroke:#ffffff;stroke-width:0.48;\" x=\"190.104303\" xlink:href=\"#C0_0_c71d292ef1\" y=\"126.065416\"/>\n    </g>\n    <g clip-path=\"url(#p0575345c21)\">\n     <use style=\"fill:#b1400d;stroke:#ffffff;stroke-width:0.48;\" x=\"201.604462\" xlink:href=\"#C0_0_c71d292ef1\" y=\"172.220102\"/>\n    </g>\n    <g clip-path=\"url(#p0575345c21)\">\n     <use style=\"fill:#b1400d;stroke:#ffffff;stroke-width:0.48;\" x=\"201.604462\" xlink:href=\"#C0_0_c71d292ef1\" y=\"172.220102\"/>\n    </g>\n    <g clip-path=\"url(#p0575345c21)\">\n     <use style=\"fill:#b1400d;stroke:#ffffff;stroke-width:0.48;\" x=\"182.594964\" xlink:href=\"#C0_0_c71d292ef1\" y=\"135.297627\"/>\n    </g>\n    <g clip-path=\"url(#p0575345c21)\">\n     <use style=\"fill:#b1400d;stroke:#ffffff;stroke-width:0.48;\" x=\"224.565259\" xlink:href=\"#C0_0_c71d292ef1\" y=\"137.316711\"/>\n    </g>\n    <g clip-path=\"url(#p0575345c21)\">\n     <use style=\"fill:#b1400d;stroke:#ffffff;stroke-width:0.48;\" x=\"201.604462\" xlink:href=\"#C0_0_c71d292ef1\" y=\"172.220102\"/>\n    </g>\n    <g clip-path=\"url(#p0575345c21)\">\n     <use style=\"fill:#b1400d;stroke:#ffffff;stroke-width:0.48;\" x=\"185.124658\" xlink:href=\"#C0_0_c71d292ef1\" y=\"124.312638\"/>\n    </g>\n    <g clip-path=\"url(#p0575345c21)\">\n     <use style=\"fill:#b1400d;stroke:#ffffff;stroke-width:0.48;\" x=\"201.604462\" xlink:href=\"#C0_0_c71d292ef1\" y=\"172.220102\"/>\n    </g>\n    <g clip-path=\"url(#p0575345c21)\">\n     <use style=\"fill:#b1400d;stroke:#ffffff;stroke-width:0.48;\" x=\"242.74071\" xlink:href=\"#C0_0_c71d292ef1\" y=\"187.099548\"/>\n    </g>\n    <g clip-path=\"url(#p0575345c21)\">\n     <use style=\"fill:#b1400d;stroke:#ffffff;stroke-width:0.48;\" x=\"270.439288\" xlink:href=\"#C0_0_c71d292ef1\" y=\"179.873588\"/>\n    </g>\n    <g clip-path=\"url(#p0575345c21)\">\n     <use style=\"fill:#b1400d;stroke:#ffffff;stroke-width:0.48;\" x=\"186.655021\" xlink:href=\"#C0_0_c71d292ef1\" y=\"125.661526\"/>\n    </g>\n    <g clip-path=\"url(#p0575345c21)\">\n     <use style=\"fill:#b1400d;stroke:#ffffff;stroke-width:0.48;\" x=\"238.670421\" xlink:href=\"#C0_0_c71d292ef1\" y=\"136.934834\"/>\n    </g>\n    <g clip-path=\"url(#p0575345c21)\">\n     <use style=\"fill:#b1400d;stroke:#ffffff;stroke-width:0.48;\" x=\"179.145682\" xlink:href=\"#C0_0_c71d292ef1\" y=\"134.893736\"/>\n    </g>\n    <g clip-path=\"url(#p0575345c21)\">\n     <use style=\"fill:#b1400d;stroke:#ffffff;stroke-width:0.48;\" x=\"182.594964\" xlink:href=\"#C0_0_c71d292ef1\" y=\"135.297627\"/>\n    </g>\n    <g clip-path=\"url(#p0575345c21)\">\n     <use style=\"fill:#b1400d;stroke:#ffffff;stroke-width:0.48;\" x=\"220.469582\" xlink:href=\"#C0_0_c71d292ef1\" y=\"156.014449\"/>\n    </g>\n    <g clip-path=\"url(#p0575345c21)\">\n     <use style=\"fill:#b1400d;stroke:#ffffff;stroke-width:0.48;\" x=\"199.110381\" xlink:href=\"#C0_0_c71d292ef1\" y=\"169.627002\"/>\n    </g>\n    <g clip-path=\"url(#p0575345c21)\">\n     <use style=\"fill:#b1400d;stroke:#ffffff;stroke-width:0.48;\" x=\"202.495243\" xlink:href=\"#C0_0_c71d292ef1\" y=\"116.696354\"/>\n    </g>\n    <g clip-path=\"url(#p0575345c21)\">\n     <use style=\"fill:#b1400d;stroke:#ffffff;stroke-width:0.48;\" x=\"186.655021\" xlink:href=\"#C0_0_c71d292ef1\" y=\"125.661526\"/>\n    </g>\n    <g clip-path=\"url(#p0575345c21)\">\n     <use style=\"fill:#b1400d;stroke:#ffffff;stroke-width:0.48;\" x=\"246.835443\" xlink:href=\"#C0_0_c71d292ef1\" y=\"188.346471\"/>\n    </g>\n    <g clip-path=\"url(#p0575345c21)\">\n     <use style=\"fill:#b1400d;stroke:#ffffff;stroke-width:0.48;\" x=\"202.495243\" xlink:href=\"#C0_0_c71d292ef1\" y=\"116.696354\"/>\n    </g>\n    <g clip-path=\"url(#p0575345c21)\">\n     <use style=\"fill:#b1400d;stroke:#ffffff;stroke-width:0.48;\" x=\"258.5707\" xlink:href=\"#C0_0_c71d292ef1\" y=\"118.333561\"/>\n    </g>\n    <g clip-path=\"url(#p0575345c21)\">\n     <use style=\"fill:#b1400d;stroke:#ffffff;stroke-width:0.48;\" x=\"220.446267\" xlink:href=\"#C0_0_c71d292ef1\" y=\"91.018321\"/>\n    </g>\n    <g clip-path=\"url(#p0575345c21)\">\n     <use style=\"fill:#b1400d;stroke:#ffffff;stroke-width:0.48;\" x=\"199.110381\" xlink:href=\"#C0_0_c71d292ef1\" y=\"169.627002\"/>\n    </g>\n    <g clip-path=\"url(#p0575345c21)\">\n     <use style=\"fill:#b1400d;stroke:#ffffff;stroke-width:0.48;\" x=\"229.619701\" xlink:href=\"#C0_0_c71d292ef1\" y=\"187.922389\"/>\n    </g>\n    <g clip-path=\"url(#p0575345c21)\">\n     <use style=\"fill:#b1400d;stroke:#ffffff;stroke-width:0.48;\" x=\"242.74071\" xlink:href=\"#C0_0_c71d292ef1\" y=\"187.099548\"/>\n    </g>\n    <g clip-path=\"url(#p0575345c21)\">\n     <use style=\"fill:#b1400d;stroke:#ffffff;stroke-width:0.48;\" x=\"182.594964\" xlink:href=\"#C0_0_c71d292ef1\" y=\"135.297627\"/>\n    </g>\n    <g clip-path=\"url(#p0575345c21)\">\n     <use style=\"fill:#b1400d;stroke:#ffffff;stroke-width:0.48;\" x=\"186.655021\" xlink:href=\"#C0_0_c71d292ef1\" y=\"125.661526\"/>\n    </g>\n    <g clip-path=\"url(#p0575345c21)\">\n     <use style=\"fill:#b1400d;stroke:#ffffff;stroke-width:0.48;\" x=\"201.604462\" xlink:href=\"#C0_0_c71d292ef1\" y=\"172.220102\"/>\n    </g>\n    <g clip-path=\"url(#p0575345c21)\">\n     <use style=\"fill:#b1400d;stroke:#ffffff;stroke-width:0.48;\" x=\"190.104303\" xlink:href=\"#C0_0_c71d292ef1\" y=\"126.065416\"/>\n    </g>\n    <g clip-path=\"url(#p0575345c21)\">\n     <use style=\"fill:#b1400d;stroke:#ffffff;stroke-width:0.48;\" x=\"201.423209\" xlink:href=\"#C0_0_c71d292ef1\" y=\"162.226325\"/>\n    </g>\n    <g clip-path=\"url(#p0575345c21)\">\n     <use style=\"fill:#b1400d;stroke:#ffffff;stroke-width:0.48;\" x=\"227.989687\" xlink:href=\"#C0_0_c71d292ef1\" y=\"86.978422\"/>\n    </g>\n    <g clip-path=\"url(#p0575345c21)\">\n     <use style=\"fill:#b1400d;stroke:#ffffff;stroke-width:0.48;\" x=\"246.835443\" xlink:href=\"#C0_0_c71d292ef1\" y=\"188.346471\"/>\n    </g>\n    <g clip-path=\"url(#p0575345c21)\">\n     <use style=\"fill:#b1400d;stroke:#ffffff;stroke-width:0.48;\" x=\"229.619701\" xlink:href=\"#C0_0_c71d292ef1\" y=\"187.922389\"/>\n    </g>\n    <g clip-path=\"url(#p0575345c21)\">\n     <use style=\"fill:#b1400d;stroke:#ffffff;stroke-width:0.48;\" x=\"234.329336\" xlink:href=\"#C0_0_c71d292ef1\" y=\"186.771664\"/>\n    </g>\n    <g clip-path=\"url(#p0575345c21)\">\n     <use style=\"fill:#b1400d;stroke:#ffffff;stroke-width:0.48;\" x=\"182.594964\" xlink:href=\"#C0_0_c71d292ef1\" y=\"135.297627\"/>\n    </g>\n    <g clip-path=\"url(#p0575345c21)\">\n     <use style=\"fill:#b1400d;stroke:#ffffff;stroke-width:0.48;\" x=\"201.604462\" xlink:href=\"#C0_0_c71d292ef1\" y=\"172.220102\"/>\n    </g>\n    <g clip-path=\"url(#p0575345c21)\">\n     <use style=\"fill:#b1400d;stroke:#ffffff;stroke-width:0.48;\" x=\"220.010528\" xlink:href=\"#C0_0_c71d292ef1\" y=\"182.708305\"/>\n    </g>\n    <g clip-path=\"url(#p0575345c21)\">\n     <use style=\"fill:#b1400d;stroke:#ffffff;stroke-width:0.48;\" x=\"224.089899\" xlink:href=\"#C0_0_c71d292ef1\" y=\"110.777369\"/>\n    </g>\n    <g clip-path=\"url(#p0575345c21)\">\n     <use style=\"fill:#b1400d;stroke:#ffffff;stroke-width:0.48;\" x=\"202.495243\" xlink:href=\"#C0_0_c71d292ef1\" y=\"116.696354\"/>\n    </g>\n    <g clip-path=\"url(#p0575345c21)\">\n     <use style=\"fill:#b1400d;stroke:#ffffff;stroke-width:0.48;\" x=\"201.604462\" xlink:href=\"#C0_0_c71d292ef1\" y=\"172.220102\"/>\n    </g>\n    <g clip-path=\"url(#p0575345c21)\">\n     <use style=\"fill:#b1400d;stroke:#ffffff;stroke-width:0.48;\" x=\"211.367504\" xlink:href=\"#C0_0_c71d292ef1\" y=\"163.523873\"/>\n    </g>\n    <g clip-path=\"url(#p0575345c21)\">\n     <use style=\"fill:#b1400d;stroke:#ffffff;stroke-width:0.48;\" x=\"201.604462\" xlink:href=\"#C0_0_c71d292ef1\" y=\"172.220102\"/>\n    </g>\n    <g clip-path=\"url(#p0575345c21)\">\n     <use style=\"fill:#b1400d;stroke:#ffffff;stroke-width:0.48;\" x=\"229.619701\" xlink:href=\"#C0_0_c71d292ef1\" y=\"187.922389\"/>\n    </g>\n    <g clip-path=\"url(#p0575345c21)\">\n     <use style=\"fill:#b1400d;stroke:#ffffff;stroke-width:0.48;\" x=\"246.835443\" xlink:href=\"#C0_0_c71d292ef1\" y=\"188.346471\"/>\n    </g>\n    <g clip-path=\"url(#p0575345c21)\">\n     <use style=\"fill:#b1400d;stroke:#ffffff;stroke-width:0.48;\" x=\"274.496141\" xlink:href=\"#C0_0_c71d292ef1\" y=\"160.408932\"/>\n    </g>\n    <g clip-path=\"url(#p0575345c21)\">\n     <use style=\"fill:#b1400d;stroke:#ffffff;stroke-width:0.48;\" x=\"201.604462\" xlink:href=\"#C0_0_c71d292ef1\" y=\"172.220102\"/>\n    </g>\n    <g clip-path=\"url(#p0575345c21)\">\n     <use style=\"fill:#b1400d;stroke:#ffffff;stroke-width:0.48;\" x=\"229.619701\" xlink:href=\"#C0_0_c71d292ef1\" y=\"187.922389\"/>\n    </g>\n    <g clip-path=\"url(#p0575345c21)\">\n     <use style=\"fill:#b1400d;stroke:#ffffff;stroke-width:0.48;\" x=\"198.15518\" xlink:href=\"#C0_0_c71d292ef1\" y=\"171.816211\"/>\n    </g>\n    <g clip-path=\"url(#p0575345c21)\">\n     <use style=\"fill:#b1400d;stroke:#ffffff;stroke-width:0.48;\" x=\"248.669347\" xlink:href=\"#C0_0_c71d292ef1\" y=\"190.287361\"/>\n    </g>\n    <g clip-path=\"url(#p0575345c21)\">\n     <use style=\"fill:#b1400d;stroke:#ffffff;stroke-width:0.48;\" x=\"198.15518\" xlink:href=\"#C0_0_c71d292ef1\" y=\"171.816211\"/>\n    </g>\n    <g clip-path=\"url(#p0575345c21)\">\n     <use style=\"fill:#b1400d;stroke:#ffffff;stroke-width:0.48;\" x=\"221.300884\" xlink:href=\"#C0_0_c71d292ef1\" y=\"171.495925\"/>\n    </g>\n    <g clip-path=\"url(#p0575345c21)\">\n     <use style=\"fill:#b1400d;stroke:#ffffff;stroke-width:0.48;\" x=\"270.439288\" xlink:href=\"#C0_0_c71d292ef1\" y=\"179.873588\"/>\n    </g>\n    <g clip-path=\"url(#p0575345c21)\">\n     <use style=\"fill:#b1400d;stroke:#ffffff;stroke-width:0.48;\" x=\"201.604462\" xlink:href=\"#C0_0_c71d292ef1\" y=\"172.220102\"/>\n    </g>\n    <g clip-path=\"url(#p0575345c21)\">\n     <use style=\"fill:#b1400d;stroke:#ffffff;stroke-width:0.48;\" x=\"274.496141\" xlink:href=\"#C0_0_c71d292ef1\" y=\"160.408932\"/>\n    </g>\n    <g clip-path=\"url(#p0575345c21)\">\n     <use style=\"fill:#b1400d;stroke:#ffffff;stroke-width:0.48;\" x=\"228.359545\" xlink:href=\"#C0_0_c71d292ef1\" y=\"189.361243\"/>\n    </g>\n    <g clip-path=\"url(#p0575345c21)\">\n     <use style=\"fill:#b1400d;stroke:#ffffff;stroke-width:0.48;\" x=\"201.604462\" xlink:href=\"#C0_0_c71d292ef1\" y=\"172.220102\"/>\n    </g>\n    <g clip-path=\"url(#p0575345c21)\">\n     <use style=\"fill:#b1400d;stroke:#ffffff;stroke-width:0.48;\" x=\"258.5707\" xlink:href=\"#C0_0_c71d292ef1\" y=\"118.333561\"/>\n    </g>\n    <g clip-path=\"url(#p0575345c21)\">\n     <use style=\"fill:#b1400d;stroke:#ffffff;stroke-width:0.48;\" x=\"186.655021\" xlink:href=\"#C0_0_c71d292ef1\" y=\"125.661526\"/>\n    </g>\n    <g clip-path=\"url(#p0575345c21)\">\n     <use style=\"fill:#b1400d;stroke:#ffffff;stroke-width:0.48;\" x=\"201.604462\" xlink:href=\"#C0_0_c71d292ef1\" y=\"172.220102\"/>\n    </g>\n    <g clip-path=\"url(#p0575345c21)\">\n     <use style=\"fill:#b1400d;stroke:#ffffff;stroke-width:0.48;\" x=\"241.201163\" xlink:href=\"#C0_0_c71d292ef1\" y=\"152.894652\"/>\n    </g>\n    <g clip-path=\"url(#p0575345c21)\">\n     <use style=\"fill:#b1400d;stroke:#ffffff;stroke-width:0.48;\" x=\"229.619701\" xlink:href=\"#C0_0_c71d292ef1\" y=\"187.922389\"/>\n    </g>\n    <g clip-path=\"url(#p0575345c21)\">\n     <use style=\"fill:#b1400d;stroke:#ffffff;stroke-width:0.48;\" x=\"232.873005\" xlink:href=\"#C0_0_c71d292ef1\" y=\"189.043627\"/>\n    </g>\n    <g clip-path=\"url(#p0575345c21)\">\n     <use style=\"fill:#b1400d;stroke:#ffffff;stroke-width:0.48;\" x=\"238.577059\" xlink:href=\"#C0_0_c71d292ef1\" y=\"187.542898\"/>\n    </g>\n    <g clip-path=\"url(#p0575345c21)\">\n     <use style=\"fill:#b1400d;stroke:#ffffff;stroke-width:0.48;\" x=\"202.495243\" xlink:href=\"#C0_0_c71d292ef1\" y=\"116.696354\"/>\n    </g>\n    <g clip-path=\"url(#p0575345c21)\">\n     <use style=\"fill:#b1400d;stroke:#ffffff;stroke-width:0.48;\" x=\"201.604462\" xlink:href=\"#C0_0_c71d292ef1\" y=\"172.220102\"/>\n    </g>\n    <g clip-path=\"url(#p0575345c21)\">\n     <use style=\"fill:#b1400d;stroke:#ffffff;stroke-width:0.48;\" x=\"286.565008\" xlink:href=\"#C0_0_c71d292ef1\" y=\"146.663617\"/>\n    </g>\n    <g clip-path=\"url(#p0575345c21)\">\n     <use style=\"fill:#b1400d;stroke:#ffffff;stroke-width:0.48;\" x=\"201.604462\" xlink:href=\"#C0_0_c71d292ef1\" y=\"172.220102\"/>\n    </g>\n    <g clip-path=\"url(#p0575345c21)\">\n     <use style=\"fill:#b1400d;stroke:#ffffff;stroke-width:0.48;\" x=\"205.035746\" xlink:href=\"#C0_0_c71d292ef1\" y=\"172.549469\"/>\n    </g>\n    <g clip-path=\"url(#p0575345c21)\">\n     <use style=\"fill:#b1400d;stroke:#ffffff;stroke-width:0.48;\" x=\"280.23325\" xlink:href=\"#C0_0_c71d292ef1\" y=\"155.689213\"/>\n    </g>\n    <g clip-path=\"url(#p0575345c21)\">\n     <use style=\"fill:#b1400d;stroke:#ffffff;stroke-width:0.48;\" x=\"239.910807\" xlink:href=\"#C0_0_c71d292ef1\" y=\"164.107033\"/>\n    </g>\n    <g clip-path=\"url(#p0575345c21)\">\n     <use style=\"fill:#b1400d;stroke:#ffffff;stroke-width:0.48;\" x=\"196.117361\" xlink:href=\"#C0_0_c71d292ef1\" y=\"120.676631\"/>\n    </g>\n    <g clip-path=\"url(#p0575345c21)\">\n     <use style=\"fill:#b1400d;stroke:#ffffff;stroke-width:0.48;\" x=\"228.359545\" xlink:href=\"#C0_0_c71d292ef1\" y=\"189.361243\"/>\n    </g>\n    <g clip-path=\"url(#p0575345c21)\">\n     <use style=\"fill:#b1400d;stroke:#ffffff;stroke-width:0.48;\" x=\"198.15518\" xlink:href=\"#C0_0_c71d292ef1\" y=\"171.816211\"/>\n    </g>\n    <g clip-path=\"url(#p0575345c21)\">\n     <use style=\"fill:#b1400d;stroke:#ffffff;stroke-width:0.48;\" x=\"229.619701\" xlink:href=\"#C0_0_c71d292ef1\" y=\"187.922389\"/>\n    </g>\n    <g clip-path=\"url(#p0575345c21)\">\n     <use style=\"fill:#b1400d;stroke:#ffffff;stroke-width:0.48;\" x=\"220.345684\" xlink:href=\"#C0_0_c71d292ef1\" y=\"173.685134\"/>\n    </g>\n    <g clip-path=\"url(#p0575345c21)\">\n     <use style=\"fill:#b1400d;stroke:#ffffff;stroke-width:0.48;\" x=\"227.989687\" xlink:href=\"#C0_0_c71d292ef1\" y=\"86.978422\"/>\n    </g>\n    <g clip-path=\"url(#p0575345c21)\">\n     <use style=\"fill:#b1400d;stroke:#ffffff;stroke-width:0.48;\" x=\"199.110381\" xlink:href=\"#C0_0_c71d292ef1\" y=\"169.627002\"/>\n    </g>\n    <g clip-path=\"url(#p0575345c21)\">\n     <use style=\"fill:#b1400d;stroke:#ffffff;stroke-width:0.48;\" x=\"199.110381\" xlink:href=\"#C0_0_c71d292ef1\" y=\"169.627002\"/>\n    </g>\n    <g clip-path=\"url(#p0575345c21)\">\n     <use style=\"fill:#b1400d;stroke:#ffffff;stroke-width:0.48;\" x=\"201.604462\" xlink:href=\"#C0_0_c71d292ef1\" y=\"172.220102\"/>\n    </g>\n    <g clip-path=\"url(#p0575345c21)\">\n     <use style=\"fill:#b1400d;stroke:#ffffff;stroke-width:0.48;\" x=\"186.655021\" xlink:href=\"#C0_0_c71d292ef1\" y=\"125.661526\"/>\n    </g>\n    <g clip-path=\"url(#p0575345c21)\">\n     <use style=\"fill:#b1400d;stroke:#ffffff;stroke-width:0.48;\" x=\"234.704862\" xlink:href=\"#C0_0_c71d292ef1\" y=\"187.099048\"/>\n    </g>\n    <g clip-path=\"url(#p0575345c21)\">\n     <use style=\"fill:#b1400d;stroke:#ffffff;stroke-width:0.48;\" x=\"216.36178\" xlink:href=\"#C0_0_c71d292ef1\" y=\"147.436094\"/>\n    </g>\n    <g clip-path=\"url(#p0575345c21)\">\n     <use style=\"fill:#b1400d;stroke:#ffffff;stroke-width:0.48;\" x=\"201.604462\" xlink:href=\"#C0_0_c71d292ef1\" y=\"172.220102\"/>\n    </g>\n    <g clip-path=\"url(#p0575345c21)\">\n     <use style=\"fill:#b1400d;stroke:#ffffff;stroke-width:0.48;\" x=\"182.594964\" xlink:href=\"#C0_0_c71d292ef1\" y=\"135.297627\"/>\n    </g>\n    <g clip-path=\"url(#p0575345c21)\">\n     <use style=\"fill:#b1400d;stroke:#ffffff;stroke-width:0.48;\" x=\"201.604462\" xlink:href=\"#C0_0_c71d292ef1\" y=\"172.220102\"/>\n    </g>\n    <g clip-path=\"url(#p0575345c21)\">\n     <use style=\"fill:#b1400d;stroke:#ffffff;stroke-width:0.48;\" x=\"198.15518\" xlink:href=\"#C0_0_c71d292ef1\" y=\"171.816211\"/>\n    </g>\n    <g clip-path=\"url(#p0575345c21)\">\n     <use style=\"fill:#b1400d;stroke:#ffffff;stroke-width:0.48;\" x=\"244.508959\" xlink:href=\"#C0_0_c71d292ef1\" y=\"189.233128\"/>\n    </g>\n    <g clip-path=\"url(#p0575345c21)\">\n     <use style=\"fill:#b1400d;stroke:#ffffff;stroke-width:0.48;\" x=\"234.329336\" xlink:href=\"#C0_0_c71d292ef1\" y=\"186.771664\"/>\n    </g>\n    <g clip-path=\"url(#p0575345c21)\">\n     <use style=\"fill:#b1400d;stroke:#ffffff;stroke-width:0.48;\" x=\"234.704862\" xlink:href=\"#C0_0_c71d292ef1\" y=\"187.099048\"/>\n    </g>\n    <g clip-path=\"url(#p0575345c21)\">\n     <use style=\"fill:#b1400d;stroke:#ffffff;stroke-width:0.48;\" x=\"201.604462\" xlink:href=\"#C0_0_c71d292ef1\" y=\"172.220102\"/>\n    </g>\n    <g clip-path=\"url(#p0575345c21)\">\n     <use style=\"fill:#b1400d;stroke:#ffffff;stroke-width:0.48;\" x=\"210.313795\" xlink:href=\"#C0_0_c71d292ef1\" y=\"149.685669\"/>\n    </g>\n    <g clip-path=\"url(#p0575345c21)\">\n     <use style=\"fill:#b1400d;stroke:#ffffff;stroke-width:0.48;\" x=\"234.704862\" xlink:href=\"#C0_0_c71d292ef1\" y=\"187.099048\"/>\n    </g>\n    <g clip-path=\"url(#p0575345c21)\">\n     <use style=\"fill:#b1400d;stroke:#ffffff;stroke-width:0.48;\" x=\"234.329336\" xlink:href=\"#C0_0_c71d292ef1\" y=\"186.771664\"/>\n    </g>\n    <g clip-path=\"url(#p0575345c21)\">\n     <use style=\"fill:#b1400d;stroke:#ffffff;stroke-width:0.48;\" x=\"229.619701\" xlink:href=\"#C0_0_c71d292ef1\" y=\"187.922389\"/>\n    </g>\n   </g>\n   <g id=\"PathCollection_2\"/>\n   <g id=\"PathCollection_3\"/>\n   <g id=\"patch_3\">\n    <path d=\"M 163.9275 248.11125 \nL 163.9275 30.67125 \n\" style=\"fill:none;stroke:#ffffff;stroke-linecap:square;stroke-linejoin:miter;stroke-width:1.25;\"/>\n   </g>\n   <g id=\"patch_4\">\n    <path d=\"M 498.7275 248.11125 \nL 498.7275 30.67125 \n\" style=\"fill:none;stroke:#ffffff;stroke-linecap:square;stroke-linejoin:miter;stroke-width:1.25;\"/>\n   </g>\n   <g id=\"patch_5\">\n    <path d=\"M 163.9275 248.11125 \nL 498.7275 248.11125 \n\" style=\"fill:none;stroke:#ffffff;stroke-linecap:square;stroke-linejoin:miter;stroke-width:1.25;\"/>\n   </g>\n   <g id=\"patch_6\">\n    <path d=\"M 163.9275 30.67125 \nL 498.7275 30.67125 \n\" style=\"fill:none;stroke:#ffffff;stroke-linecap:square;stroke-linejoin:miter;stroke-width:1.25;\"/>\n   </g>\n   <g id=\"text_9\">\n    <!-- Cluster visaliztion in the first two principal component domain -->\n    <g style=\"fill:#262626;\" transform=\"translate(7.2 24.67125)scale(0.24 -0.24)\">\n     <defs>\n      <path d=\"M 58.796875 25.09375 \nL 68.265625 22.703125 \nQ 65.28125 11.03125 57.546875 4.90625 \nQ 49.8125 -1.21875 38.625 -1.21875 \nQ 27.046875 -1.21875 19.796875 3.484375 \nQ 12.546875 8.203125 8.765625 17.140625 \nQ 4.984375 26.078125 4.984375 36.328125 \nQ 4.984375 47.515625 9.25 55.828125 \nQ 13.53125 64.15625 21.40625 68.46875 \nQ 29.296875 72.796875 38.765625 72.796875 \nQ 49.515625 72.796875 56.828125 67.328125 \nQ 64.15625 61.859375 67.046875 51.953125 \nL 57.71875 49.75 \nQ 55.21875 57.5625 50.484375 61.125 \nQ 45.75 64.703125 38.578125 64.703125 \nQ 30.328125 64.703125 24.78125 60.734375 \nQ 19.234375 56.78125 16.984375 50.109375 \nQ 14.75 43.453125 14.75 36.375 \nQ 14.75 27.25 17.40625 20.4375 \nQ 20.0625 13.625 25.671875 10.25 \nQ 31.296875 6.890625 37.84375 6.890625 \nQ 45.796875 6.890625 51.3125 11.46875 \nQ 56.84375 16.0625 58.796875 25.09375 \nz\n\" id=\"ArialMT-67\"/>\n      <path d=\"M 6.390625 0 \nL 6.390625 71.578125 \nL 15.1875 71.578125 \nL 15.1875 0 \nz\n\" id=\"ArialMT-108\"/>\n      <path d=\"M 40.578125 0 \nL 40.578125 7.625 \nQ 34.515625 -1.171875 24.125 -1.171875 \nQ 19.53125 -1.171875 15.546875 0.578125 \nQ 11.578125 2.34375 9.640625 5 \nQ 7.71875 7.671875 6.9375 11.53125 \nQ 6.390625 14.109375 6.390625 19.734375 \nL 6.390625 51.859375 \nL 15.1875 51.859375 \nL 15.1875 23.09375 \nQ 15.1875 16.21875 15.71875 13.8125 \nQ 16.546875 10.359375 19.234375 8.375 \nQ 21.921875 6.390625 25.875 6.390625 \nQ 29.828125 6.390625 33.296875 8.421875 \nQ 36.765625 10.453125 38.203125 13.9375 \nQ 39.65625 17.4375 39.65625 24.078125 \nL 39.65625 51.859375 \nL 48.4375 51.859375 \nL 48.4375 0 \nz\n\" id=\"ArialMT-117\"/>\n      <path d=\"M 3.078125 15.484375 \nL 11.765625 16.84375 \nQ 12.5 11.625 15.84375 8.84375 \nQ 19.1875 6.0625 25.203125 6.0625 \nQ 31.25 6.0625 34.171875 8.515625 \nQ 37.109375 10.984375 37.109375 14.3125 \nQ 37.109375 17.28125 34.515625 19 \nQ 32.71875 20.171875 25.53125 21.96875 \nQ 15.875 24.421875 12.140625 26.203125 \nQ 8.40625 27.984375 6.46875 31.125 \nQ 4.546875 34.28125 4.546875 38.09375 \nQ 4.546875 41.546875 6.125 44.5 \nQ 7.71875 47.46875 10.453125 49.421875 \nQ 12.5 50.921875 16.03125 51.96875 \nQ 19.578125 53.03125 23.640625 53.03125 \nQ 29.734375 53.03125 34.34375 51.265625 \nQ 38.96875 49.515625 41.15625 46.5 \nQ 43.359375 43.5 44.1875 38.484375 \nL 35.59375 37.3125 \nQ 35.015625 41.3125 32.203125 43.546875 \nQ 29.390625 45.796875 24.265625 45.796875 \nQ 18.21875 45.796875 15.625 43.796875 \nQ 13.03125 41.796875 13.03125 39.109375 \nQ 13.03125 37.40625 14.109375 36.03125 \nQ 15.1875 34.625 17.484375 33.6875 \nQ 18.796875 33.203125 25.25 31.453125 \nQ 34.578125 28.953125 38.25 27.359375 \nQ 41.9375 25.78125 44.03125 22.75 \nQ 46.140625 19.734375 46.140625 15.234375 \nQ 46.140625 10.84375 43.578125 6.953125 \nQ 41.015625 3.078125 36.171875 0.953125 \nQ 31.34375 -1.171875 25.25 -1.171875 \nQ 15.140625 -1.171875 9.84375 3.03125 \nQ 4.546875 7.234375 3.078125 15.484375 \nz\n\" id=\"ArialMT-115\"/>\n      <path d=\"M 25.78125 7.859375 \nL 27.046875 0.09375 \nQ 23.34375 -0.6875 20.40625 -0.6875 \nQ 15.625 -0.6875 12.984375 0.828125 \nQ 10.359375 2.34375 9.28125 4.8125 \nQ 8.203125 7.28125 8.203125 15.1875 \nL 8.203125 45.015625 \nL 1.765625 45.015625 \nL 1.765625 51.859375 \nL 8.203125 51.859375 \nL 8.203125 64.703125 \nL 16.9375 69.96875 \nL 16.9375 51.859375 \nL 25.78125 51.859375 \nL 25.78125 45.015625 \nL 16.9375 45.015625 \nL 16.9375 14.703125 \nQ 16.9375 10.9375 17.40625 9.859375 \nQ 17.875 8.796875 18.921875 8.15625 \nQ 19.96875 7.515625 21.921875 7.515625 \nQ 23.390625 7.515625 25.78125 7.859375 \nz\n\" id=\"ArialMT-116\"/>\n      <path d=\"M 42.09375 16.703125 \nL 51.171875 15.578125 \nQ 49.03125 7.625 43.21875 3.21875 \nQ 37.40625 -1.171875 28.375 -1.171875 \nQ 17 -1.171875 10.328125 5.828125 \nQ 3.65625 12.84375 3.65625 25.484375 \nQ 3.65625 38.578125 10.390625 45.796875 \nQ 17.140625 53.03125 27.875 53.03125 \nQ 38.28125 53.03125 44.875 45.953125 \nQ 51.46875 38.875 51.46875 26.03125 \nQ 51.46875 25.25 51.421875 23.6875 \nL 12.75 23.6875 \nQ 13.234375 15.140625 17.578125 10.59375 \nQ 21.921875 6.0625 28.421875 6.0625 \nQ 33.25 6.0625 36.671875 8.59375 \nQ 40.09375 11.140625 42.09375 16.703125 \nz\nM 13.234375 30.90625 \nL 42.1875 30.90625 \nQ 41.609375 37.453125 38.875 40.71875 \nQ 34.671875 45.796875 27.984375 45.796875 \nQ 21.921875 45.796875 17.796875 41.75 \nQ 13.671875 37.703125 13.234375 30.90625 \nz\n\" id=\"ArialMT-101\"/>\n      <path d=\"M 6.5 0 \nL 6.5 51.859375 \nL 14.40625 51.859375 \nL 14.40625 44 \nQ 17.4375 49.515625 20 51.265625 \nQ 22.5625 53.03125 25.640625 53.03125 \nQ 30.078125 53.03125 34.671875 50.203125 \nL 31.640625 42.046875 \nQ 28.421875 43.953125 25.203125 43.953125 \nQ 22.3125 43.953125 20.015625 42.21875 \nQ 17.71875 40.484375 16.75 37.40625 \nQ 15.28125 32.71875 15.28125 27.15625 \nL 15.28125 0 \nz\n\" id=\"ArialMT-114\"/>\n      <path id=\"ArialMT-32\"/>\n      <path d=\"M 21 0 \nL 1.265625 51.859375 \nL 10.546875 51.859375 \nL 21.6875 20.796875 \nQ 23.484375 15.765625 25 10.359375 \nQ 26.171875 14.453125 28.265625 20.21875 \nL 39.796875 51.859375 \nL 48.828125 51.859375 \nL 29.203125 0 \nz\n\" id=\"ArialMT-118\"/>\n      <path d=\"M 6.640625 61.46875 \nL 6.640625 71.578125 \nL 15.4375 71.578125 \nL 15.4375 61.46875 \nz\nM 6.640625 0 \nL 6.640625 51.859375 \nL 15.4375 51.859375 \nL 15.4375 0 \nz\n\" id=\"ArialMT-105\"/>\n      <path d=\"M 40.4375 6.390625 \nQ 35.546875 2.25 31.03125 0.53125 \nQ 26.515625 -1.171875 21.34375 -1.171875 \nQ 12.796875 -1.171875 8.203125 3 \nQ 3.609375 7.171875 3.609375 13.671875 \nQ 3.609375 17.484375 5.34375 20.625 \nQ 7.078125 23.78125 9.890625 25.6875 \nQ 12.703125 27.59375 16.21875 28.5625 \nQ 18.796875 29.25 24.03125 29.890625 \nQ 34.671875 31.15625 39.703125 32.90625 \nQ 39.75 34.71875 39.75 35.203125 \nQ 39.75 40.578125 37.25 42.78125 \nQ 33.890625 45.75 27.25 45.75 \nQ 21.046875 45.75 18.09375 43.578125 \nQ 15.140625 41.40625 13.71875 35.890625 \nL 5.125 37.0625 \nQ 6.296875 42.578125 8.984375 45.96875 \nQ 11.671875 49.359375 16.75 51.1875 \nQ 21.828125 53.03125 28.515625 53.03125 \nQ 35.15625 53.03125 39.296875 51.46875 \nQ 43.453125 49.90625 45.40625 47.53125 \nQ 47.359375 45.171875 48.140625 41.546875 \nQ 48.578125 39.3125 48.578125 33.453125 \nL 48.578125 21.734375 \nQ 48.578125 9.46875 49.140625 6.21875 \nQ 49.703125 2.984375 51.375 0 \nL 42.1875 0 \nQ 40.828125 2.734375 40.4375 6.390625 \nz\nM 39.703125 26.03125 \nQ 34.90625 24.078125 25.34375 22.703125 \nQ 19.921875 21.921875 17.671875 20.9375 \nQ 15.4375 19.96875 14.203125 18.09375 \nQ 12.984375 16.21875 12.984375 13.921875 \nQ 12.984375 10.40625 15.640625 8.0625 \nQ 18.3125 5.71875 23.4375 5.71875 \nQ 28.515625 5.71875 32.46875 7.9375 \nQ 36.421875 10.15625 38.28125 14.015625 \nQ 39.703125 17 39.703125 22.796875 \nz\n\" id=\"ArialMT-97\"/>\n      <path d=\"M 1.953125 0 \nL 1.953125 7.125 \nL 34.96875 45.015625 \nQ 29.34375 44.734375 25.046875 44.734375 \nL 3.90625 44.734375 \nL 3.90625 51.859375 \nL 46.296875 51.859375 \nL 46.296875 46.046875 \nL 18.21875 13.140625 \nL 12.796875 7.125 \nQ 18.703125 7.5625 23.875 7.5625 \nL 47.859375 7.5625 \nL 47.859375 0 \nz\n\" id=\"ArialMT-122\"/>\n      <path d=\"M 3.328125 25.921875 \nQ 3.328125 40.328125 11.328125 47.265625 \nQ 18.015625 53.03125 27.640625 53.03125 \nQ 38.328125 53.03125 45.109375 46.015625 \nQ 51.90625 39.015625 51.90625 26.65625 \nQ 51.90625 16.65625 48.90625 10.90625 \nQ 45.90625 5.171875 40.15625 2 \nQ 34.421875 -1.171875 27.640625 -1.171875 \nQ 16.75 -1.171875 10.03125 5.8125 \nQ 3.328125 12.796875 3.328125 25.921875 \nz\nM 12.359375 25.921875 \nQ 12.359375 15.96875 16.703125 11.015625 \nQ 21.046875 6.0625 27.640625 6.0625 \nQ 34.1875 6.0625 38.53125 11.03125 \nQ 42.875 16.015625 42.875 26.21875 \nQ 42.875 35.84375 38.5 40.796875 \nQ 34.125 45.75 27.640625 45.75 \nQ 21.046875 45.75 16.703125 40.8125 \nQ 12.359375 35.890625 12.359375 25.921875 \nz\n\" id=\"ArialMT-111\"/>\n      <path d=\"M 6.59375 0 \nL 6.59375 51.859375 \nL 14.5 51.859375 \nL 14.5 44.484375 \nQ 20.21875 53.03125 31 53.03125 \nQ 35.6875 53.03125 39.625 51.34375 \nQ 43.5625 49.65625 45.515625 46.921875 \nQ 47.46875 44.1875 48.25 40.4375 \nQ 48.734375 37.984375 48.734375 31.890625 \nL 48.734375 0 \nL 39.9375 0 \nL 39.9375 31.546875 \nQ 39.9375 36.921875 38.90625 39.578125 \nQ 37.890625 42.234375 35.28125 43.8125 \nQ 32.671875 45.40625 29.15625 45.40625 \nQ 23.53125 45.40625 19.453125 41.84375 \nQ 15.375 38.28125 15.375 28.328125 \nL 15.375 0 \nz\n\" id=\"ArialMT-110\"/>\n      <path d=\"M 6.59375 0 \nL 6.59375 71.578125 \nL 15.375 71.578125 \nL 15.375 45.90625 \nQ 21.53125 53.03125 30.90625 53.03125 \nQ 36.671875 53.03125 40.921875 50.75 \nQ 45.171875 48.484375 47 44.484375 \nQ 48.828125 40.484375 48.828125 32.859375 \nL 48.828125 0 \nL 40.046875 0 \nL 40.046875 32.859375 \nQ 40.046875 39.453125 37.1875 42.453125 \nQ 34.328125 45.453125 29.109375 45.453125 \nQ 25.203125 45.453125 21.75 43.421875 \nQ 18.3125 41.40625 16.84375 37.9375 \nQ 15.375 34.46875 15.375 28.375 \nL 15.375 0 \nz\n\" id=\"ArialMT-104\"/>\n      <path d=\"M 8.6875 0 \nL 8.6875 45.015625 \nL 0.921875 45.015625 \nL 0.921875 51.859375 \nL 8.6875 51.859375 \nL 8.6875 57.375 \nQ 8.6875 62.59375 9.625 65.140625 \nQ 10.890625 68.5625 14.078125 70.671875 \nQ 17.28125 72.796875 23.046875 72.796875 \nQ 26.765625 72.796875 31.25 71.921875 \nL 29.9375 64.265625 \nQ 27.203125 64.75 24.75 64.75 \nQ 20.75 64.75 19.09375 63.03125 \nQ 17.4375 61.328125 17.4375 56.640625 \nL 17.4375 51.859375 \nL 27.546875 51.859375 \nL 27.546875 45.015625 \nL 17.4375 45.015625 \nL 17.4375 0 \nz\n\" id=\"ArialMT-102\"/>\n      <path d=\"M 16.15625 0 \nL 0.296875 51.859375 \nL 9.375 51.859375 \nL 17.625 21.921875 \nL 20.703125 10.796875 \nQ 20.90625 11.625 23.390625 21.484375 \nL 31.640625 51.859375 \nL 40.671875 51.859375 \nL 48.4375 21.78125 \nL 51.03125 11.859375 \nL 54 21.875 \nL 62.890625 51.859375 \nL 71.4375 51.859375 \nL 55.21875 0 \nL 46.09375 0 \nL 37.84375 31.0625 \nL 35.84375 39.890625 \nL 25.34375 0 \nz\n\" id=\"ArialMT-119\"/>\n      <path d=\"M 6.59375 -19.875 \nL 6.59375 51.859375 \nL 14.59375 51.859375 \nL 14.59375 45.125 \nQ 17.4375 49.078125 21 51.046875 \nQ 24.5625 53.03125 29.640625 53.03125 \nQ 36.28125 53.03125 41.359375 49.609375 \nQ 46.4375 46.1875 49.015625 39.953125 \nQ 51.609375 33.734375 51.609375 26.3125 \nQ 51.609375 18.359375 48.75 11.984375 \nQ 45.90625 5.609375 40.453125 2.21875 \nQ 35.015625 -1.171875 29 -1.171875 \nQ 24.609375 -1.171875 21.109375 0.6875 \nQ 17.625 2.546875 15.375 5.375 \nL 15.375 -19.875 \nz\nM 14.546875 25.640625 \nQ 14.546875 15.625 18.59375 10.84375 \nQ 22.65625 6.0625 28.421875 6.0625 \nQ 34.28125 6.0625 38.453125 11.015625 \nQ 42.625 15.96875 42.625 26.375 \nQ 42.625 36.28125 38.546875 41.203125 \nQ 34.46875 46.140625 28.8125 46.140625 \nQ 23.1875 46.140625 18.859375 40.890625 \nQ 14.546875 35.640625 14.546875 25.640625 \nz\n\" id=\"ArialMT-112\"/>\n      <path d=\"M 40.4375 19 \nL 49.078125 17.875 \nQ 47.65625 8.9375 41.8125 3.875 \nQ 35.984375 -1.171875 27.484375 -1.171875 \nQ 16.84375 -1.171875 10.375 5.78125 \nQ 3.90625 12.75 3.90625 25.734375 \nQ 3.90625 34.125 6.6875 40.421875 \nQ 9.46875 46.734375 15.15625 49.875 \nQ 20.84375 53.03125 27.546875 53.03125 \nQ 35.984375 53.03125 41.359375 48.75 \nQ 46.734375 44.484375 48.25 36.625 \nL 39.703125 35.296875 \nQ 38.484375 40.53125 35.375 43.15625 \nQ 32.28125 45.796875 27.875 45.796875 \nQ 21.234375 45.796875 17.078125 41.03125 \nQ 12.9375 36.28125 12.9375 25.984375 \nQ 12.9375 15.53125 16.9375 10.796875 \nQ 20.953125 6.0625 27.390625 6.0625 \nQ 32.5625 6.0625 36.03125 9.234375 \nQ 39.5 12.40625 40.4375 19 \nz\n\" id=\"ArialMT-99\"/>\n      <path d=\"M 6.59375 0 \nL 6.59375 51.859375 \nL 14.453125 51.859375 \nL 14.453125 44.578125 \nQ 16.890625 48.390625 20.9375 50.703125 \nQ 25 53.03125 30.171875 53.03125 \nQ 35.9375 53.03125 39.625 50.640625 \nQ 43.3125 48.25 44.828125 43.953125 \nQ 50.984375 53.03125 60.84375 53.03125 \nQ 68.5625 53.03125 72.703125 48.75 \nQ 76.859375 44.484375 76.859375 35.59375 \nL 76.859375 0 \nL 68.109375 0 \nL 68.109375 32.671875 \nQ 68.109375 37.9375 67.25 40.25 \nQ 66.40625 42.578125 64.15625 43.984375 \nQ 61.921875 45.40625 58.890625 45.40625 \nQ 53.421875 45.40625 49.796875 41.765625 \nQ 46.1875 38.140625 46.1875 30.125 \nL 46.1875 0 \nL 37.40625 0 \nL 37.40625 33.6875 \nQ 37.40625 39.546875 35.25 42.46875 \nQ 33.109375 45.40625 28.21875 45.40625 \nQ 24.515625 45.40625 21.359375 43.453125 \nQ 18.21875 41.5 16.796875 37.734375 \nQ 15.375 33.984375 15.375 26.90625 \nL 15.375 0 \nz\n\" id=\"ArialMT-109\"/>\n      <path d=\"M 40.234375 0 \nL 40.234375 6.546875 \nQ 35.296875 -1.171875 25.734375 -1.171875 \nQ 19.53125 -1.171875 14.328125 2.25 \nQ 9.125 5.671875 6.265625 11.796875 \nQ 3.421875 17.921875 3.421875 25.875 \nQ 3.421875 33.640625 6 39.96875 \nQ 8.59375 46.296875 13.765625 49.65625 \nQ 18.953125 53.03125 25.34375 53.03125 \nQ 30.03125 53.03125 33.6875 51.046875 \nQ 37.359375 49.078125 39.65625 45.90625 \nL 39.65625 71.578125 \nL 48.390625 71.578125 \nL 48.390625 0 \nz\nM 12.453125 25.875 \nQ 12.453125 15.921875 16.640625 10.984375 \nQ 20.84375 6.0625 26.5625 6.0625 \nQ 32.328125 6.0625 36.34375 10.765625 \nQ 40.375 15.484375 40.375 25.140625 \nQ 40.375 35.796875 36.265625 40.765625 \nQ 32.171875 45.75 26.171875 45.75 \nQ 20.3125 45.75 16.375 40.96875 \nQ 12.453125 36.1875 12.453125 25.875 \nz\n\" id=\"ArialMT-100\"/>\n     </defs>\n     <use xlink:href=\"#ArialMT-67\"/>\n     <use x=\"72.216797\" xlink:href=\"#ArialMT-108\"/>\n     <use x=\"94.433594\" xlink:href=\"#ArialMT-117\"/>\n     <use x=\"150.048828\" xlink:href=\"#ArialMT-115\"/>\n     <use x=\"200.048828\" xlink:href=\"#ArialMT-116\"/>\n     <use x=\"227.832031\" xlink:href=\"#ArialMT-101\"/>\n     <use x=\"283.447266\" xlink:href=\"#ArialMT-114\"/>\n     <use x=\"316.748047\" xlink:href=\"#ArialMT-32\"/>\n     <use x=\"344.53125\" xlink:href=\"#ArialMT-118\"/>\n     <use x=\"394.53125\" xlink:href=\"#ArialMT-105\"/>\n     <use x=\"416.748047\" xlink:href=\"#ArialMT-115\"/>\n     <use x=\"466.748047\" xlink:href=\"#ArialMT-97\"/>\n     <use x=\"522.363281\" xlink:href=\"#ArialMT-108\"/>\n     <use x=\"544.580078\" xlink:href=\"#ArialMT-105\"/>\n     <use x=\"566.796875\" xlink:href=\"#ArialMT-122\"/>\n     <use x=\"616.796875\" xlink:href=\"#ArialMT-116\"/>\n     <use x=\"644.580078\" xlink:href=\"#ArialMT-105\"/>\n     <use x=\"666.796875\" xlink:href=\"#ArialMT-111\"/>\n     <use x=\"722.412109\" xlink:href=\"#ArialMT-110\"/>\n     <use x=\"778.027344\" xlink:href=\"#ArialMT-32\"/>\n     <use x=\"805.810547\" xlink:href=\"#ArialMT-105\"/>\n     <use x=\"828.027344\" xlink:href=\"#ArialMT-110\"/>\n     <use x=\"883.642578\" xlink:href=\"#ArialMT-32\"/>\n     <use x=\"911.425781\" xlink:href=\"#ArialMT-116\"/>\n     <use x=\"939.208984\" xlink:href=\"#ArialMT-104\"/>\n     <use x=\"994.824219\" xlink:href=\"#ArialMT-101\"/>\n     <use x=\"1050.439453\" xlink:href=\"#ArialMT-32\"/>\n     <use x=\"1078.222656\" xlink:href=\"#ArialMT-102\"/>\n     <use x=\"1106.005859\" xlink:href=\"#ArialMT-105\"/>\n     <use x=\"1128.222656\" xlink:href=\"#ArialMT-114\"/>\n     <use x=\"1161.523438\" xlink:href=\"#ArialMT-115\"/>\n     <use x=\"1211.523438\" xlink:href=\"#ArialMT-116\"/>\n     <use x=\"1239.306641\" xlink:href=\"#ArialMT-32\"/>\n     <use x=\"1267.089844\" xlink:href=\"#ArialMT-116\"/>\n     <use x=\"1294.873047\" xlink:href=\"#ArialMT-119\"/>\n     <use x=\"1367.089844\" xlink:href=\"#ArialMT-111\"/>\n     <use x=\"1422.705078\" xlink:href=\"#ArialMT-32\"/>\n     <use x=\"1450.488281\" xlink:href=\"#ArialMT-112\"/>\n     <use x=\"1506.103516\" xlink:href=\"#ArialMT-114\"/>\n     <use x=\"1539.404297\" xlink:href=\"#ArialMT-105\"/>\n     <use x=\"1561.621094\" xlink:href=\"#ArialMT-110\"/>\n     <use x=\"1617.236328\" xlink:href=\"#ArialMT-99\"/>\n     <use x=\"1667.236328\" xlink:href=\"#ArialMT-105\"/>\n     <use x=\"1689.453125\" xlink:href=\"#ArialMT-112\"/>\n     <use x=\"1745.068359\" xlink:href=\"#ArialMT-97\"/>\n     <use x=\"1800.683594\" xlink:href=\"#ArialMT-108\"/>\n     <use x=\"1822.900391\" xlink:href=\"#ArialMT-32\"/>\n     <use x=\"1850.683594\" xlink:href=\"#ArialMT-99\"/>\n     <use x=\"1900.683594\" xlink:href=\"#ArialMT-111\"/>\n     <use x=\"1956.298828\" xlink:href=\"#ArialMT-109\"/>\n     <use x=\"2039.599609\" xlink:href=\"#ArialMT-112\"/>\n     <use x=\"2095.214844\" xlink:href=\"#ArialMT-111\"/>\n     <use x=\"2150.830078\" xlink:href=\"#ArialMT-110\"/>\n     <use x=\"2206.445312\" xlink:href=\"#ArialMT-101\"/>\n     <use x=\"2262.060547\" xlink:href=\"#ArialMT-110\"/>\n     <use x=\"2317.675781\" xlink:href=\"#ArialMT-116\"/>\n     <use x=\"2345.458984\" xlink:href=\"#ArialMT-32\"/>\n     <use x=\"2373.242188\" xlink:href=\"#ArialMT-100\"/>\n     <use x=\"2428.857422\" xlink:href=\"#ArialMT-111\"/>\n     <use x=\"2484.472656\" xlink:href=\"#ArialMT-109\"/>\n     <use x=\"2567.773438\" xlink:href=\"#ArialMT-97\"/>\n     <use x=\"2623.388672\" xlink:href=\"#ArialMT-105\"/>\n     <use x=\"2645.605469\" xlink:href=\"#ArialMT-110\"/>\n    </g>\n   </g>\n   <g id=\"legend_1\">\n    <g id=\"patch_7\">\n     <path d=\"M 280.8375 143.459375 \nL 381.8175 143.459375 \nQ 386.2175 143.459375 386.2175 139.059375 \nL 386.2175 46.07125 \nQ 386.2175 41.67125 381.8175 41.67125 \nL 280.8375 41.67125 \nQ 276.4375 41.67125 276.4375 46.07125 \nL 276.4375 139.059375 \nQ 276.4375 143.459375 280.8375 143.459375 \nz\n\" style=\"fill:#eaeaf2;opacity:0.8;stroke:#cccccc;stroke-linejoin:miter;\"/>\n    </g>\n    <g id=\"text_10\">\n     <!-- labels -->\n     <g style=\"fill:#262626;\" transform=\"translate(299.975625 67.65)scale(0.24 -0.24)\">\n      <defs>\n       <path d=\"M 14.703125 0 \nL 6.546875 0 \nL 6.546875 71.578125 \nL 15.328125 71.578125 \nL 15.328125 46.046875 \nQ 20.90625 53.03125 29.546875 53.03125 \nQ 34.328125 53.03125 38.59375 51.09375 \nQ 42.875 49.171875 45.625 45.671875 \nQ 48.390625 42.1875 49.953125 37.25 \nQ 51.515625 32.328125 51.515625 26.703125 \nQ 51.515625 13.375 44.921875 6.09375 \nQ 38.328125 -1.171875 29.109375 -1.171875 \nQ 19.921875 -1.171875 14.703125 6.5 \nz\nM 14.59375 26.3125 \nQ 14.59375 17 17.140625 12.84375 \nQ 21.296875 6.0625 28.375 6.0625 \nQ 34.125 6.0625 38.328125 11.0625 \nQ 42.53125 16.0625 42.53125 25.984375 \nQ 42.53125 36.140625 38.5 40.96875 \nQ 34.46875 45.796875 28.765625 45.796875 \nQ 23 45.796875 18.796875 40.796875 \nQ 14.59375 35.796875 14.59375 26.3125 \nz\n\" id=\"ArialMT-98\"/>\n      </defs>\n      <use xlink:href=\"#ArialMT-108\"/>\n      <use x=\"22.216797\" xlink:href=\"#ArialMT-97\"/>\n      <use x=\"77.832031\" xlink:href=\"#ArialMT-98\"/>\n      <use x=\"133.447266\" xlink:href=\"#ArialMT-101\"/>\n      <use x=\"189.0625\" xlink:href=\"#ArialMT-108\"/>\n      <use x=\"211.279297\" xlink:href=\"#ArialMT-115\"/>\n     </g>\n    </g>\n    <g id=\"PathCollection_4\">\n     <defs>\n      <path d=\"M 0 3 \nC 0.795609 3 1.55874 2.683901 2.12132 2.12132 \nC 2.683901 1.55874 3 0.795609 3 0 \nC 3 -0.795609 2.683901 -1.55874 2.12132 -2.12132 \nC 1.55874 -2.683901 0.795609 -3 0 -3 \nC -0.795609 -3 -1.55874 -2.683901 -2.12132 -2.12132 \nC -2.683901 -1.55874 -3 -0.795609 -3 0 \nC -3 0.795609 -2.683901 1.55874 -2.12132 2.12132 \nC -1.55874 2.683901 -0.795609 3 0 3 \nz\n\" id=\"mc5752e1500\" style=\"stroke:#001c7f;\"/>\n     </defs>\n     <g>\n      <use style=\"fill:#001c7f;stroke:#001c7f;\" x=\"307.2375\" xlink:href=\"#mc5752e1500\" y=\"93.392187\"/>\n     </g>\n    </g>\n    <g id=\"text_11\">\n     <!-- 0.0 -->\n     <g style=\"fill:#262626;\" transform=\"translate(346.8375 99.167187)scale(0.22 -0.22)\">\n      <defs>\n       <path d=\"M 9.078125 0 \nL 9.078125 10.015625 \nL 19.09375 10.015625 \nL 19.09375 0 \nz\n\" id=\"ArialMT-46\"/>\n      </defs>\n      <use xlink:href=\"#ArialMT-48\"/>\n      <use x=\"55.615234\" xlink:href=\"#ArialMT-46\"/>\n      <use x=\"83.398438\" xlink:href=\"#ArialMT-48\"/>\n     </g>\n    </g>\n    <g id=\"PathCollection_5\">\n     <defs>\n      <path d=\"M 0 3 \nC 0.795609 3 1.55874 2.683901 2.12132 2.12132 \nC 2.683901 1.55874 3 0.795609 3 0 \nC 3 -0.795609 2.683901 -1.55874 2.12132 -2.12132 \nC 1.55874 -2.683901 0.795609 -3 0 -3 \nC -0.795609 -3 -1.55874 -2.683901 -2.12132 -2.12132 \nC -2.683901 -1.55874 -3 -0.795609 -3 0 \nC -3 0.795609 -2.683901 1.55874 -2.12132 2.12132 \nC -1.55874 2.683901 -0.795609 3 0 3 \nz\n\" id=\"m99b90b7885\" style=\"stroke:#b1400d;\"/>\n     </defs>\n     <g>\n      <use style=\"fill:#b1400d;stroke:#b1400d;\" x=\"307.2375\" xlink:href=\"#m99b90b7885\" y=\"124.511875\"/>\n     </g>\n    </g>\n    <g id=\"text_12\">\n     <!-- 1.0 -->\n     <g style=\"fill:#262626;\" transform=\"translate(346.8375 130.286875)scale(0.22 -0.22)\">\n      <use xlink:href=\"#ArialMT-49\"/>\n      <use x=\"55.615234\" xlink:href=\"#ArialMT-46\"/>\n      <use x=\"83.398438\" xlink:href=\"#ArialMT-48\"/>\n     </g>\n    </g>\n   </g>\n  </g>\n </g>\n <defs>\n  <clipPath id=\"p0575345c21\">\n   <rect height=\"217.44\" width=\"334.8\" x=\"163.9275\" y=\"30.67125\"/>\n  </clipPath>\n </defs>\n</svg>\n",
      "image/png": "[encoded data removed]"
     },
     "metadata": {}
    }
   ],
   "source": [
    "# SMOTEENN\n",
    "sampling = imblearn.combine.SMOTEENN()\n",
    "X_smoteenn, y_smoteenn, df_smoteenn = process_smote(X=X_train, y=y_train, sampling=sampling) \n",
    "sns.set(font_scale=2)\n",
    "ax = sns.scatterplot(x='X1', y='X2', hue='labels', \n",
    "    data=df_smoteenn, palette=\"dark\")\n",
    "ax.set(title=\"Cluster visaliztion in the first two principal component domain\")"
   ]
  },
  {
   "cell_type": "code",
   "execution_count": 6,
   "metadata": {},
   "outputs": [],
   "source": [
    "def process_lazypredict(X_train=None, y_train=None, X_test=None, y_test=None):\n",
    "    clf = LazyClassifier(verbose=0, ignore_warnings=True, custom_metric=None)\n",
    "    models, predictions = clf.fit(X_train, X_test, y_train, y_test)\n",
    "    return models"
   ]
  },
  {
   "cell_type": "code",
   "execution_count": 7,
   "metadata": {},
   "outputs": [
    {
     "output_type": "execute_result",
     "data": {
      "text/plain": [
       "<92x1657 sparse matrix of type '<class 'numpy.int64'>'\n",
       "\twith 1913 stored elements in Compressed Sparse Row format>"
      ]
     },
     "metadata": {},
     "execution_count": 7
    }
   ],
   "source": [
    "X_test"
   ]
  },
  {
   "cell_type": "code",
   "execution_count": 8,
   "metadata": {},
   "outputs": [
    {
     "output_type": "stream",
     "name": "stderr",
     "text": [
      "100%|██████████| 30/30 [00:03<00:00,  9.24it/s]\n"
     ]
    }
   ],
   "source": [
    "models_smoteenn = process_lazypredict(X_train=X_smoteenn.toarray(), \n",
    "    y_train=y_smoteenn, X_test=X_test.toarray(), y_test=y_test)"
   ]
  },
  {
   "cell_type": "code",
   "execution_count": 9,
   "metadata": {},
   "outputs": [
    {
     "output_type": "execute_result",
     "data": {
      "text/plain": [
       "                               Accuracy  Balanced Accuracy  ROC AUC  F1 Score  \\\n",
       "Model                                                                           \n",
       "LGBMClassifier                     0.63               0.71     0.71      0.73   \n",
       "XGBClassifier                      0.55               0.67     0.67      0.67   \n",
       "AdaBoostClassifier                 0.68               0.64     0.64      0.77   \n",
       "Perceptron                         0.66               0.63     0.63      0.76   \n",
       "BaggingClassifier                  0.63               0.62     0.62      0.73   \n",
       "SGDClassifier                      0.45               0.61     0.61      0.57   \n",
       "DummyClassifier                    0.20               0.57     0.57      0.25   \n",
       "DecisionTreeClassifier             0.65               0.53     0.53      0.75   \n",
       "ExtraTreesClassifier               0.61               0.51     0.51      0.71   \n",
       "GaussianNB                         0.78               0.51     0.51      0.83   \n",
       "PassiveAggressiveClassifier        0.78               0.51     0.51      0.83   \n",
       "KNeighborsClassifier               0.07               0.51     0.51      0.03   \n",
       "CheckingClassifier                 0.95               0.50     0.50      0.92   \n",
       "ExtraTreeClassifier                0.58               0.49     0.49      0.69   \n",
       "LinearSVC                          0.74               0.49     0.49      0.81   \n",
       "LabelSpreading                     0.91               0.48     0.48      0.90   \n",
       "LabelPropagation                   0.91               0.48     0.48      0.90   \n",
       "QuadraticDiscriminantAnalysis      0.91               0.48     0.48      0.90   \n",
       "RandomForestClassifier             0.52               0.46     0.46      0.64   \n",
       "SVC                                0.63               0.43     0.43      0.73   \n",
       "LinearDiscriminantAnalysis         0.58               0.40     0.40      0.69   \n",
       "CalibratedClassifierCV             0.21               0.39     0.39      0.29   \n",
       "BernoulliNB                        0.32               0.36     0.36      0.44   \n",
       "NearestCentroid                    0.30               0.35     0.35      0.43   \n",
       "RidgeClassifierCV                  0.26               0.33     0.33      0.37   \n",
       "RidgeClassifier                    0.26               0.33     0.33      0.37   \n",
       "LogisticRegression                 0.24               0.31     0.31      0.35   \n",
       "\n",
       "                               Time Taken  \n",
       "Model                                      \n",
       "LGBMClassifier                       0.08  \n",
       "XGBClassifier                        0.25  \n",
       "AdaBoostClassifier                   0.28  \n",
       "Perceptron                           0.05  \n",
       "BaggingClassifier                    0.09  \n",
       "SGDClassifier                        0.06  \n",
       "DummyClassifier                      0.04  \n",
       "DecisionTreeClassifier               0.05  \n",
       "ExtraTreesClassifier                 0.15  \n",
       "GaussianNB                           0.04  \n",
       "PassiveAggressiveClassifier          0.05  \n",
       "KNeighborsClassifier                 0.11  \n",
       "CheckingClassifier                   0.04  \n",
       "ExtraTreeClassifier                  0.05  \n",
       "LinearSVC                            0.22  \n",
       "LabelSpreading                       0.05  \n",
       "LabelPropagation                     0.05  \n",
       "QuadraticDiscriminantAnalysis        0.10  \n",
       "RandomForestClassifier               0.17  \n",
       "SVC                                  0.09  \n",
       "LinearDiscriminantAnalysis           0.14  \n",
       "CalibratedClassifierCV               0.61  \n",
       "BernoulliNB                          0.04  \n",
       "NearestCentroid                      0.04  \n",
       "RidgeClassifierCV                    0.07  \n",
       "RidgeClassifier                      0.05  \n",
       "LogisticRegression                   0.05  "
      ],
      "text/html": "<div>\n<style scoped>\n    .dataframe tbody tr th:only-of-type {\n        vertical-align: middle;\n    }\n\n    .dataframe tbody tr th {\n        vertical-align: top;\n    }\n\n    .dataframe thead th {\n        text-align: right;\n    }\n</style>\n<table border=\"1\" class=\"dataframe\">\n  <thead>\n    <tr style=\"text-align: right;\">\n      <th></th>\n      <th>Accuracy</th>\n      <th>Balanced Accuracy</th>\n      <th>ROC AUC</th>\n      <th>F1 Score</th>\n      <th>Time Taken</th>\n    </tr>\n    <tr>\n      <th>Model</th>\n      <th></th>\n      <th></th>\n      <th></th>\n      <th></th>\n      <th></th>\n    </tr>\n  </thead>\n  <tbody>\n    <tr>\n      <th>LGBMClassifier</th>\n      <td>0.63</td>\n      <td>0.71</td>\n      <td>0.71</td>\n      <td>0.73</td>\n      <td>0.08</td>\n    </tr>\n    <tr>\n      <th>XGBClassifier</th>\n      <td>0.55</td>\n      <td>0.67</td>\n      <td>0.67</td>\n      <td>0.67</td>\n      <td>0.25</td>\n    </tr>\n    <tr>\n      <th>AdaBoostClassifier</th>\n      <td>0.68</td>\n      <td>0.64</td>\n      <td>0.64</td>\n      <td>0.77</td>\n      <td>0.28</td>\n    </tr>\n    <tr>\n      <th>Perceptron</th>\n      <td>0.66</td>\n      <td>0.63</td>\n      <td>0.63</td>\n      <td>0.76</td>\n      <td>0.05</td>\n    </tr>\n    <tr>\n      <th>BaggingClassifier</th>\n      <td>0.63</td>\n      <td>0.62</td>\n      <td>0.62</td>\n      <td>0.73</td>\n      <td>0.09</td>\n    </tr>\n    <tr>\n      <th>SGDClassifier</th>\n      <td>0.45</td>\n      <td>0.61</td>\n      <td>0.61</td>\n      <td>0.57</td>\n      <td>0.06</td>\n    </tr>\n    <tr>\n      <th>DummyClassifier</th>\n      <td>0.20</td>\n      <td>0.57</td>\n      <td>0.57</td>\n      <td>0.25</td>\n      <td>0.04</td>\n    </tr>\n    <tr>\n      <th>DecisionTreeClassifier</th>\n      <td>0.65</td>\n      <td>0.53</td>\n      <td>0.53</td>\n      <td>0.75</td>\n      <td>0.05</td>\n    </tr>\n    <tr>\n      <th>ExtraTreesClassifier</th>\n      <td>0.61</td>\n      <td>0.51</td>\n      <td>0.51</td>\n      <td>0.71</td>\n      <td>0.15</td>\n    </tr>\n    <tr>\n      <th>GaussianNB</th>\n      <td>0.78</td>\n      <td>0.51</td>\n      <td>0.51</td>\n      <td>0.83</td>\n      <td>0.04</td>\n    </tr>\n    <tr>\n      <th>PassiveAggressiveClassifier</th>\n      <td>0.78</td>\n      <td>0.51</td>\n      <td>0.51</td>\n      <td>0.83</td>\n      <td>0.05</td>\n    </tr>\n    <tr>\n      <th>KNeighborsClassifier</th>\n      <td>0.07</td>\n      <td>0.51</td>\n      <td>0.51</td>\n      <td>0.03</td>\n      <td>0.11</td>\n    </tr>\n    <tr>\n      <th>CheckingClassifier</th>\n      <td>0.95</td>\n      <td>0.50</td>\n      <td>0.50</td>\n      <td>0.92</td>\n      <td>0.04</td>\n    </tr>\n    <tr>\n      <th>ExtraTreeClassifier</th>\n      <td>0.58</td>\n      <td>0.49</td>\n      <td>0.49</td>\n      <td>0.69</td>\n      <td>0.05</td>\n    </tr>\n    <tr>\n      <th>LinearSVC</th>\n      <td>0.74</td>\n      <td>0.49</td>\n      <td>0.49</td>\n      <td>0.81</td>\n      <td>0.22</td>\n    </tr>\n    <tr>\n      <th>LabelSpreading</th>\n      <td>0.91</td>\n      <td>0.48</td>\n      <td>0.48</td>\n      <td>0.90</td>\n      <td>0.05</td>\n    </tr>\n    <tr>\n      <th>LabelPropagation</th>\n      <td>0.91</td>\n      <td>0.48</td>\n      <td>0.48</td>\n      <td>0.90</td>\n      <td>0.05</td>\n    </tr>\n    <tr>\n      <th>QuadraticDiscriminantAnalysis</th>\n      <td>0.91</td>\n      <td>0.48</td>\n      <td>0.48</td>\n      <td>0.90</td>\n      <td>0.10</td>\n    </tr>\n    <tr>\n      <th>RandomForestClassifier</th>\n      <td>0.52</td>\n      <td>0.46</td>\n      <td>0.46</td>\n      <td>0.64</td>\n      <td>0.17</td>\n    </tr>\n    <tr>\n      <th>SVC</th>\n      <td>0.63</td>\n      <td>0.43</td>\n      <td>0.43</td>\n      <td>0.73</td>\n      <td>0.09</td>\n    </tr>\n    <tr>\n      <th>LinearDiscriminantAnalysis</th>\n      <td>0.58</td>\n      <td>0.40</td>\n      <td>0.40</td>\n      <td>0.69</td>\n      <td>0.14</td>\n    </tr>\n    <tr>\n      <th>CalibratedClassifierCV</th>\n      <td>0.21</td>\n      <td>0.39</td>\n      <td>0.39</td>\n      <td>0.29</td>\n      <td>0.61</td>\n    </tr>\n    <tr>\n      <th>BernoulliNB</th>\n      <td>0.32</td>\n      <td>0.36</td>\n      <td>0.36</td>\n      <td>0.44</td>\n      <td>0.04</td>\n    </tr>\n    <tr>\n      <th>NearestCentroid</th>\n      <td>0.30</td>\n      <td>0.35</td>\n      <td>0.35</td>\n      <td>0.43</td>\n      <td>0.04</td>\n    </tr>\n    <tr>\n      <th>RidgeClassifierCV</th>\n      <td>0.26</td>\n      <td>0.33</td>\n      <td>0.33</td>\n      <td>0.37</td>\n      <td>0.07</td>\n    </tr>\n    <tr>\n      <th>RidgeClassifier</th>\n      <td>0.26</td>\n      <td>0.33</td>\n      <td>0.33</td>\n      <td>0.37</td>\n      <td>0.05</td>\n    </tr>\n    <tr>\n      <th>LogisticRegression</th>\n      <td>0.24</td>\n      <td>0.31</td>\n      <td>0.31</td>\n      <td>0.35</td>\n      <td>0.05</td>\n    </tr>\n  </tbody>\n</table>\n</div>"
     },
     "metadata": {},
     "execution_count": 9
    }
   ],
   "source": [
    "models_smoteenn"
   ]
  },
  {
   "cell_type": "code",
   "execution_count": 10,
   "metadata": {},
   "outputs": [
    {
     "output_type": "display_data",
     "data": {
      "application/vnd.plotly.v1+json": {
       "config": {
        "plotlyServerURL": "https://plot.ly"
       },
       "data": [
        {
         "alignmentgroup": "True",
         "hovertemplate": "Model=%{x}<br>ROC AUC=%{y}<extra></extra>",
         "legendgroup": "LGBMClassifier",
         "marker": {
          "color": "#AF0038"
         },
         "name": "LGBMClassifier",
         "offsetgroup": "LGBMClassifier",
         "orientation": "v",
         "showlegend": true,
         "textposition": "auto",
         "type": "bar",
         "x": [
          "LGBMClassifier"
         ],
         "xaxis": "x",
         "y": [
          0.7103448275862069
         ],
         "yaxis": "y"
        },
        {
         "alignmentgroup": "True",
         "hovertemplate": "Model=%{x}<br>ROC AUC=%{y}<extra></extra>",
         "legendgroup": "XGBClassifier",
         "marker": {
          "color": "#0D2A63"
         },
         "name": "XGBClassifier",
         "offsetgroup": "XGBClassifier",
         "orientation": "v",
         "showlegend": true,
         "textposition": "auto",
         "type": "bar",
         "x": [
          "XGBClassifier"
         ],
         "xaxis": "x",
         "y": [
          0.6701149425287356
         ],
         "yaxis": "y"
        },
        {
         "alignmentgroup": "True",
         "hovertemplate": "Model=%{x}<br>ROC AUC=%{y}<extra></extra>",
         "legendgroup": "AdaBoostClassifier",
         "marker": {
          "color": "#6C4516"
         },
         "name": "AdaBoostClassifier",
         "offsetgroup": "AdaBoostClassifier",
         "orientation": "v",
         "showlegend": true,
         "textposition": "auto",
         "type": "bar",
         "x": [
          "AdaBoostClassifier"
         ],
         "xaxis": "x",
         "y": [
          0.6448275862068966
         ],
         "yaxis": "y"
        },
        {
         "alignmentgroup": "True",
         "hovertemplate": "Model=%{x}<br>ROC AUC=%{y}<extra></extra>",
         "legendgroup": "Perceptron",
         "marker": {
          "color": "#DA60CA"
         },
         "name": "Perceptron",
         "offsetgroup": "Perceptron",
         "orientation": "v",
         "showlegend": true,
         "textposition": "auto",
         "type": "bar",
         "x": [
          "Perceptron"
         ],
         "xaxis": "x",
         "y": [
          0.6333333333333334
         ],
         "yaxis": "y"
        },
        {
         "alignmentgroup": "True",
         "hovertemplate": "Model=%{x}<br>ROC AUC=%{y}<extra></extra>",
         "legendgroup": "BaggingClassifier",
         "marker": {
          "color": "#1616A7"
         },
         "name": "BaggingClassifier",
         "offsetgroup": "BaggingClassifier",
         "orientation": "v",
         "showlegend": true,
         "textposition": "auto",
         "type": "bar",
         "x": [
          "BaggingClassifier"
         ],
         "xaxis": "x",
         "y": [
          0.6160919540229886
         ],
         "yaxis": "y"
        },
        {
         "alignmentgroup": "True",
         "hovertemplate": "Model=%{x}<br>ROC AUC=%{y}<extra></extra>",
         "legendgroup": "SGDClassifier",
         "marker": {
          "color": "#620042"
         },
         "name": "SGDClassifier",
         "offsetgroup": "SGDClassifier",
         "orientation": "v",
         "showlegend": true,
         "textposition": "auto",
         "type": "bar",
         "x": [
          "SGDClassifier"
         ],
         "xaxis": "x",
         "y": [
          0.6126436781609196
         ],
         "yaxis": "y"
        },
        {
         "alignmentgroup": "True",
         "hovertemplate": "Model=%{x}<br>ROC AUC=%{y}<extra></extra>",
         "legendgroup": "DummyClassifier",
         "marker": {
          "color": "#A777F1"
         },
         "name": "DummyClassifier",
         "offsetgroup": "DummyClassifier",
         "orientation": "v",
         "showlegend": true,
         "textposition": "auto",
         "type": "bar",
         "x": [
          "DummyClassifier"
         ],
         "xaxis": "x",
         "y": [
          0.5747126436781609
         ],
         "yaxis": "y"
        },
        {
         "alignmentgroup": "True",
         "hovertemplate": "Model=%{x}<br>ROC AUC=%{y}<extra></extra>",
         "legendgroup": "DecisionTreeClassifier",
         "marker": {
          "color": "#862A16"
         },
         "name": "DecisionTreeClassifier",
         "offsetgroup": "DecisionTreeClassifier",
         "orientation": "v",
         "showlegend": true,
         "textposition": "auto",
         "type": "bar",
         "x": [
          "DecisionTreeClassifier"
         ],
         "xaxis": "x",
         "y": [
          0.5333333333333333
         ],
         "yaxis": "y"
        },
        {
         "alignmentgroup": "True",
         "hovertemplate": "Model=%{x}<br>ROC AUC=%{y}<extra></extra>",
         "legendgroup": "ExtraTreesClassifier",
         "marker": {
          "color": "#778AAE"
         },
         "name": "ExtraTreesClassifier",
         "offsetgroup": "ExtraTreesClassifier",
         "orientation": "v",
         "showlegend": true,
         "textposition": "auto",
         "type": "bar",
         "x": [
          "ExtraTreesClassifier"
         ],
         "xaxis": "x",
         "y": [
          0.5103448275862069
         ],
         "yaxis": "y"
        },
        {
         "alignmentgroup": "True",
         "hovertemplate": "Model=%{x}<br>ROC AUC=%{y}<extra></extra>",
         "legendgroup": "GaussianNB",
         "marker": {
          "color": "#6C7C32"
         },
         "name": "GaussianNB",
         "offsetgroup": "GaussianNB",
         "orientation": "v",
         "showlegend": true,
         "textposition": "auto",
         "type": "bar",
         "x": [
          "GaussianNB"
         ],
         "xaxis": "x",
         "y": [
          0.5080459770114942
         ],
         "yaxis": "y"
        },
        {
         "alignmentgroup": "True",
         "hovertemplate": "Model=%{x}<br>ROC AUC=%{y}<extra></extra>",
         "legendgroup": "PassiveAggressiveClassifier",
         "marker": {
          "color": "#B2828D"
         },
         "name": "PassiveAggressiveClassifier",
         "offsetgroup": "PassiveAggressiveClassifier",
         "orientation": "v",
         "showlegend": true,
         "textposition": "auto",
         "type": "bar",
         "x": [
          "PassiveAggressiveClassifier"
         ],
         "xaxis": "x",
         "y": [
          0.5080459770114942
         ],
         "yaxis": "y"
        },
        {
         "alignmentgroup": "True",
         "hovertemplate": "Model=%{x}<br>ROC AUC=%{y}<extra></extra>",
         "legendgroup": "KNeighborsClassifier",
         "marker": {
          "color": "#FC0080"
         },
         "name": "KNeighborsClassifier",
         "offsetgroup": "KNeighborsClassifier",
         "orientation": "v",
         "showlegend": true,
         "textposition": "auto",
         "type": "bar",
         "x": [
          "KNeighborsClassifier"
         ],
         "xaxis": "x",
         "y": [
          0.5057471264367817
         ],
         "yaxis": "y"
        },
        {
         "alignmentgroup": "True",
         "hovertemplate": "Model=%{x}<br>ROC AUC=%{y}<extra></extra>",
         "legendgroup": "CheckingClassifier",
         "marker": {
          "color": "#FB00D1"
         },
         "name": "CheckingClassifier",
         "offsetgroup": "CheckingClassifier",
         "orientation": "v",
         "showlegend": true,
         "textposition": "auto",
         "type": "bar",
         "x": [
          "CheckingClassifier"
         ],
         "xaxis": "x",
         "y": [
          0.5
         ],
         "yaxis": "y"
        },
        {
         "alignmentgroup": "True",
         "hovertemplate": "Model=%{x}<br>ROC AUC=%{y}<extra></extra>",
         "legendgroup": "ExtraTreeClassifier",
         "marker": {
          "color": "#00A08B"
         },
         "name": "ExtraTreeClassifier",
         "offsetgroup": "ExtraTreeClassifier",
         "orientation": "v",
         "showlegend": true,
         "textposition": "auto",
         "type": "bar",
         "x": [
          "ExtraTreeClassifier"
         ],
         "xaxis": "x",
         "y": [
          0.4931034482758621
         ],
         "yaxis": "y"
        },
        {
         "alignmentgroup": "True",
         "hovertemplate": "Model=%{x}<br>ROC AUC=%{y}<extra></extra>",
         "legendgroup": "LinearSVC",
         "marker": {
          "color": "#511CFB"
         },
         "name": "LinearSVC",
         "offsetgroup": "LinearSVC",
         "orientation": "v",
         "showlegend": true,
         "textposition": "auto",
         "type": "bar",
         "x": [
          "LinearSVC"
         ],
         "xaxis": "x",
         "y": [
          0.4850574712643678
         ],
         "yaxis": "y"
        },
        {
         "alignmentgroup": "True",
         "hovertemplate": "Model=%{x}<br>ROC AUC=%{y}<extra></extra>",
         "legendgroup": "LabelSpreading",
         "marker": {
          "color": "#EB663B"
         },
         "name": "LabelSpreading",
         "offsetgroup": "LabelSpreading",
         "orientation": "v",
         "showlegend": true,
         "textposition": "auto",
         "type": "bar",
         "x": [
          "LabelSpreading"
         ],
         "xaxis": "x",
         "y": [
          0.4827586206896552
         ],
         "yaxis": "y"
        },
        {
         "alignmentgroup": "True",
         "hovertemplate": "Model=%{x}<br>ROC AUC=%{y}<extra></extra>",
         "legendgroup": "LabelPropagation",
         "marker": {
          "color": "#750D86"
         },
         "name": "LabelPropagation",
         "offsetgroup": "LabelPropagation",
         "orientation": "v",
         "showlegend": true,
         "textposition": "auto",
         "type": "bar",
         "x": [
          "LabelPropagation"
         ],
         "xaxis": "x",
         "y": [
          0.4827586206896552
         ],
         "yaxis": "y"
        },
        {
         "alignmentgroup": "True",
         "hovertemplate": "Model=%{x}<br>ROC AUC=%{y}<extra></extra>",
         "legendgroup": "QuadraticDiscriminantAnalysis",
         "marker": {
          "color": "#B68100"
         },
         "name": "QuadraticDiscriminantAnalysis",
         "offsetgroup": "QuadraticDiscriminantAnalysis",
         "orientation": "v",
         "showlegend": true,
         "textposition": "auto",
         "type": "bar",
         "x": [
          "QuadraticDiscriminantAnalysis"
         ],
         "xaxis": "x",
         "y": [
          0.4827586206896552
         ],
         "yaxis": "y"
        },
        {
         "alignmentgroup": "True",
         "hovertemplate": "Model=%{x}<br>ROC AUC=%{y}<extra></extra>",
         "legendgroup": "RandomForestClassifier",
         "marker": {
          "color": "#222A2A"
         },
         "name": "RandomForestClassifier",
         "offsetgroup": "RandomForestClassifier",
         "orientation": "v",
         "showlegend": true,
         "textposition": "auto",
         "type": "bar",
         "x": [
          "RandomForestClassifier"
         ],
         "xaxis": "x",
         "y": [
          0.464367816091954
         ],
         "yaxis": "y"
        },
        {
         "alignmentgroup": "True",
         "hovertemplate": "Model=%{x}<br>ROC AUC=%{y}<extra></extra>",
         "legendgroup": "SVC",
         "marker": {
          "color": "#DA16FF"
         },
         "name": "SVC",
         "offsetgroup": "SVC",
         "orientation": "v",
         "showlegend": true,
         "textposition": "auto",
         "type": "bar",
         "x": [
          "SVC"
         ],
         "xaxis": "x",
         "y": [
          0.4275862068965517
         ],
         "yaxis": "y"
        },
        {
         "alignmentgroup": "True",
         "hovertemplate": "Model=%{x}<br>ROC AUC=%{y}<extra></extra>",
         "legendgroup": "LinearDiscriminantAnalysis",
         "marker": {
          "color": "#FB0D0D"
         },
         "name": "LinearDiscriminantAnalysis",
         "offsetgroup": "LinearDiscriminantAnalysis",
         "orientation": "v",
         "showlegend": true,
         "textposition": "auto",
         "type": "bar",
         "x": [
          "LinearDiscriminantAnalysis"
         ],
         "xaxis": "x",
         "y": [
          0.3988505747126436
         ],
         "yaxis": "y"
        },
        {
         "alignmentgroup": "True",
         "hovertemplate": "Model=%{x}<br>ROC AUC=%{y}<extra></extra>",
         "legendgroup": "CalibratedClassifierCV",
         "marker": {
          "color": "#1CA71C"
         },
         "name": "CalibratedClassifierCV",
         "offsetgroup": "CalibratedClassifierCV",
         "orientation": "v",
         "showlegend": true,
         "textposition": "auto",
         "type": "bar",
         "x": [
          "CalibratedClassifierCV"
         ],
         "xaxis": "x",
         "y": [
          0.39195402298850573
         ],
         "yaxis": "y"
        },
        {
         "alignmentgroup": "True",
         "hovertemplate": "Model=%{x}<br>ROC AUC=%{y}<extra></extra>",
         "legendgroup": "BernoulliNB",
         "marker": {
          "color": "#E15F99"
         },
         "name": "BernoulliNB",
         "offsetgroup": "BernoulliNB",
         "orientation": "v",
         "showlegend": true,
         "textposition": "auto",
         "type": "bar",
         "x": [
          "BernoulliNB"
         ],
         "xaxis": "x",
         "y": [
          0.35517241379310344
         ],
         "yaxis": "y"
        },
        {
         "alignmentgroup": "True",
         "hovertemplate": "Model=%{x}<br>ROC AUC=%{y}<extra></extra>",
         "legendgroup": "NearestCentroid",
         "marker": {
          "color": "#2E91E5"
         },
         "name": "NearestCentroid",
         "offsetgroup": "NearestCentroid",
         "orientation": "v",
         "showlegend": true,
         "textposition": "auto",
         "type": "bar",
         "x": [
          "NearestCentroid"
         ],
         "xaxis": "x",
         "y": [
          0.34942528735632183
         ],
         "yaxis": "y"
        },
        {
         "alignmentgroup": "True",
         "hovertemplate": "Model=%{x}<br>ROC AUC=%{y}<extra></extra>",
         "legendgroup": "RidgeClassifierCV",
         "marker": {
          "color": "#AF0038"
         },
         "name": "RidgeClassifierCV",
         "offsetgroup": "RidgeClassifierCV",
         "orientation": "v",
         "showlegend": true,
         "textposition": "auto",
         "type": "bar",
         "x": [
          "RidgeClassifierCV"
         ],
         "xaxis": "x",
         "y": [
          0.3264367816091954
         ],
         "yaxis": "y"
        },
        {
         "alignmentgroup": "True",
         "hovertemplate": "Model=%{x}<br>ROC AUC=%{y}<extra></extra>",
         "legendgroup": "RidgeClassifier",
         "marker": {
          "color": "#0D2A63"
         },
         "name": "RidgeClassifier",
         "offsetgroup": "RidgeClassifier",
         "orientation": "v",
         "showlegend": true,
         "textposition": "auto",
         "type": "bar",
         "x": [
          "RidgeClassifier"
         ],
         "xaxis": "x",
         "y": [
          0.3264367816091954
         ],
         "yaxis": "y"
        },
        {
         "alignmentgroup": "True",
         "hovertemplate": "Model=%{x}<br>ROC AUC=%{y}<extra></extra>",
         "legendgroup": "LogisticRegression",
         "marker": {
          "color": "#6C4516"
         },
         "name": "LogisticRegression",
         "offsetgroup": "LogisticRegression",
         "orientation": "v",
         "showlegend": true,
         "textposition": "auto",
         "type": "bar",
         "x": [
          "LogisticRegression"
         ],
         "xaxis": "x",
         "y": [
          0.3149425287356322
         ],
         "yaxis": "y"
        }
       ],
       "layout": {
        "barmode": "relative",
        "legend": {
         "title": {
          "text": "Model"
         },
         "tracegroupgap": 0
        },
        "margin": {
         "t": 60
        },
        "template": {
         "data": {
          "bar": [
           {
            "error_x": {
             "color": "#2a3f5f"
            },
            "error_y": {
             "color": "#2a3f5f"
            },
            "marker": {
             "line": {
              "color": "#E5ECF6",
              "width": 0.5
             }
            },
            "type": "bar"
           }
          ],
          "barpolar": [
           {
            "marker": {
             "line": {
              "color": "#E5ECF6",
              "width": 0.5
             }
            },
            "type": "barpolar"
           }
          ],
          "carpet": [
           {
            "aaxis": {
             "endlinecolor": "#2a3f5f",
             "gridcolor": "white",
             "linecolor": "white",
             "minorgridcolor": "white",
             "startlinecolor": "#2a3f5f"
            },
            "baxis": {
             "endlinecolor": "#2a3f5f",
             "gridcolor": "white",
             "linecolor": "white",
             "minorgridcolor": "white",
             "startlinecolor": "#2a3f5f"
            },
            "type": "carpet"
           }
          ],
          "choropleth": [
           {
            "colorbar": {
             "outlinewidth": 0,
             "ticks": ""
            },
            "type": "choropleth"
           }
          ],
          "contour": [
           {
            "colorbar": {
             "outlinewidth": 0,
             "ticks": ""
            },
            "colorscale": [
             [
              0,
              "#0d0887"
             ],
             [
              0.1111111111111111,
              "#46039f"
             ],
             [
              0.2222222222222222,
              "#7201a8"
             ],
             [
              0.3333333333333333,
              "#9c179e"
             ],
             [
              0.4444444444444444,
              "#bd3786"
             ],
             [
              0.5555555555555556,
              "#d8576b"
             ],
             [
              0.6666666666666666,
              "#ed7953"
             ],
             [
              0.7777777777777778,
              "#fb9f3a"
             ],
             [
              0.8888888888888888,
              "#fdca26"
             ],
             [
              1,
              "#f0f921"
             ]
            ],
            "type": "contour"
           }
          ],
          "contourcarpet": [
           {
            "colorbar": {
             "outlinewidth": 0,
             "ticks": ""
            },
            "type": "contourcarpet"
           }
          ],
          "heatmap": [
           {
            "colorbar": {
             "outlinewidth": 0,
             "ticks": ""
            },
            "colorscale": [
             [
              0,
              "#0d0887"
             ],
             [
              0.1111111111111111,
              "#46039f"
             ],
             [
              0.2222222222222222,
              "#7201a8"
             ],
             [
              0.3333333333333333,
              "#9c179e"
             ],
             [
              0.4444444444444444,
              "#bd3786"
             ],
             [
              0.5555555555555556,
              "#d8576b"
             ],
             [
              0.6666666666666666,
              "#ed7953"
             ],
             [
              0.7777777777777778,
              "#fb9f3a"
             ],
             [
              0.8888888888888888,
              "#fdca26"
             ],
             [
              1,
              "#f0f921"
             ]
            ],
            "type": "heatmap"
           }
          ],
          "heatmapgl": [
           {
            "colorbar": {
             "outlinewidth": 0,
             "ticks": ""
            },
            "colorscale": [
             [
              0,
              "#0d0887"
             ],
             [
              0.1111111111111111,
              "#46039f"
             ],
             [
              0.2222222222222222,
              "#7201a8"
             ],
             [
              0.3333333333333333,
              "#9c179e"
             ],
             [
              0.4444444444444444,
              "#bd3786"
             ],
             [
              0.5555555555555556,
              "#d8576b"
             ],
             [
              0.6666666666666666,
              "#ed7953"
             ],
             [
              0.7777777777777778,
              "#fb9f3a"
             ],
             [
              0.8888888888888888,
              "#fdca26"
             ],
             [
              1,
              "#f0f921"
             ]
            ],
            "type": "heatmapgl"
           }
          ],
          "histogram": [
           {
            "marker": {
             "colorbar": {
              "outlinewidth": 0,
              "ticks": ""
             }
            },
            "type": "histogram"
           }
          ],
          "histogram2d": [
           {
            "colorbar": {
             "outlinewidth": 0,
             "ticks": ""
            },
            "colorscale": [
             [
              0,
              "#0d0887"
             ],
             [
              0.1111111111111111,
              "#46039f"
             ],
             [
              0.2222222222222222,
              "#7201a8"
             ],
             [
              0.3333333333333333,
              "#9c179e"
             ],
             [
              0.4444444444444444,
              "#bd3786"
             ],
             [
              0.5555555555555556,
              "#d8576b"
             ],
             [
              0.6666666666666666,
              "#ed7953"
             ],
             [
              0.7777777777777778,
              "#fb9f3a"
             ],
             [
              0.8888888888888888,
              "#fdca26"
             ],
             [
              1,
              "#f0f921"
             ]
            ],
            "type": "histogram2d"
           }
          ],
          "histogram2dcontour": [
           {
            "colorbar": {
             "outlinewidth": 0,
             "ticks": ""
            },
            "colorscale": [
             [
              0,
              "#0d0887"
             ],
             [
              0.1111111111111111,
              "#46039f"
             ],
             [
              0.2222222222222222,
              "#7201a8"
             ],
             [
              0.3333333333333333,
              "#9c179e"
             ],
             [
              0.4444444444444444,
              "#bd3786"
             ],
             [
              0.5555555555555556,
              "#d8576b"
             ],
             [
              0.6666666666666666,
              "#ed7953"
             ],
             [
              0.7777777777777778,
              "#fb9f3a"
             ],
             [
              0.8888888888888888,
              "#fdca26"
             ],
             [
              1,
              "#f0f921"
             ]
            ],
            "type": "histogram2dcontour"
           }
          ],
          "mesh3d": [
           {
            "colorbar": {
             "outlinewidth": 0,
             "ticks": ""
            },
            "type": "mesh3d"
           }
          ],
          "parcoords": [
           {
            "line": {
             "colorbar": {
              "outlinewidth": 0,
              "ticks": ""
             }
            },
            "type": "parcoords"
           }
          ],
          "pie": [
           {
            "automargin": true,
            "type": "pie"
           }
          ],
          "scatter": [
           {
            "marker": {
             "colorbar": {
              "outlinewidth": 0,
              "ticks": ""
             }
            },
            "type": "scatter"
           }
          ],
          "scatter3d": [
           {
            "line": {
             "colorbar": {
              "outlinewidth": 0,
              "ticks": ""
             }
            },
            "marker": {
             "colorbar": {
              "outlinewidth": 0,
              "ticks": ""
             }
            },
            "type": "scatter3d"
           }
          ],
          "scattercarpet": [
           {
            "marker": {
             "colorbar": {
              "outlinewidth": 0,
              "ticks": ""
             }
            },
            "type": "scattercarpet"
           }
          ],
          "scattergeo": [
           {
            "marker": {
             "colorbar": {
              "outlinewidth": 0,
              "ticks": ""
             }
            },
            "type": "scattergeo"
           }
          ],
          "scattergl": [
           {
            "marker": {
             "colorbar": {
              "outlinewidth": 0,
              "ticks": ""
             }
            },
            "type": "scattergl"
           }
          ],
          "scattermapbox": [
           {
            "marker": {
             "colorbar": {
              "outlinewidth": 0,
              "ticks": ""
             }
            },
            "type": "scattermapbox"
           }
          ],
          "scatterpolar": [
           {
            "marker": {
             "colorbar": {
              "outlinewidth": 0,
              "ticks": ""
             }
            },
            "type": "scatterpolar"
           }
          ],
          "scatterpolargl": [
           {
            "marker": {
             "colorbar": {
              "outlinewidth": 0,
              "ticks": ""
             }
            },
            "type": "scatterpolargl"
           }
          ],
          "scatterternary": [
           {
            "marker": {
             "colorbar": {
              "outlinewidth": 0,
              "ticks": ""
             }
            },
            "type": "scatterternary"
           }
          ],
          "surface": [
           {
            "colorbar": {
             "outlinewidth": 0,
             "ticks": ""
            },
            "colorscale": [
             [
              0,
              "#0d0887"
             ],
             [
              0.1111111111111111,
              "#46039f"
             ],
             [
              0.2222222222222222,
              "#7201a8"
             ],
             [
              0.3333333333333333,
              "#9c179e"
             ],
             [
              0.4444444444444444,
              "#bd3786"
             ],
             [
              0.5555555555555556,
              "#d8576b"
             ],
             [
              0.6666666666666666,
              "#ed7953"
             ],
             [
              0.7777777777777778,
              "#fb9f3a"
             ],
             [
              0.8888888888888888,
              "#fdca26"
             ],
             [
              1,
              "#f0f921"
             ]
            ],
            "type": "surface"
           }
          ],
          "table": [
           {
            "cells": {
             "fill": {
              "color": "#EBF0F8"
             },
             "line": {
              "color": "white"
             }
            },
            "header": {
             "fill": {
              "color": "#C8D4E3"
             },
             "line": {
              "color": "white"
             }
            },
            "type": "table"
           }
          ]
         },
         "layout": {
          "annotationdefaults": {
           "arrowcolor": "#2a3f5f",
           "arrowhead": 0,
           "arrowwidth": 1
          },
          "autotypenumbers": "strict",
          "coloraxis": {
           "colorbar": {
            "outlinewidth": 0,
            "ticks": ""
           }
          },
          "colorscale": {
           "diverging": [
            [
             0,
             "#8e0152"
            ],
            [
             0.1,
             "#c51b7d"
            ],
            [
             0.2,
             "#de77ae"
            ],
            [
             0.3,
             "#f1b6da"
            ],
            [
             0.4,
             "#fde0ef"
            ],
            [
             0.5,
             "#f7f7f7"
            ],
            [
             0.6,
             "#e6f5d0"
            ],
            [
             0.7,
             "#b8e186"
            ],
            [
             0.8,
             "#7fbc41"
            ],
            [
             0.9,
             "#4d9221"
            ],
            [
             1,
             "#276419"
            ]
           ],
           "sequential": [
            [
             0,
             "#0d0887"
            ],
            [
             0.1111111111111111,
             "#46039f"
            ],
            [
             0.2222222222222222,
             "#7201a8"
            ],
            [
             0.3333333333333333,
             "#9c179e"
            ],
            [
             0.4444444444444444,
             "#bd3786"
            ],
            [
             0.5555555555555556,
             "#d8576b"
            ],
            [
             0.6666666666666666,
             "#ed7953"
            ],
            [
             0.7777777777777778,
             "#fb9f3a"
            ],
            [
             0.8888888888888888,
             "#fdca26"
            ],
            [
             1,
             "#f0f921"
            ]
           ],
           "sequentialminus": [
            [
             0,
             "#0d0887"
            ],
            [
             0.1111111111111111,
             "#46039f"
            ],
            [
             0.2222222222222222,
             "#7201a8"
            ],
            [
             0.3333333333333333,
             "#9c179e"
            ],
            [
             0.4444444444444444,
             "#bd3786"
            ],
            [
             0.5555555555555556,
             "#d8576b"
            ],
            [
             0.6666666666666666,
             "#ed7953"
            ],
            [
             0.7777777777777778,
             "#fb9f3a"
            ],
            [
             0.8888888888888888,
             "#fdca26"
            ],
            [
             1,
             "#f0f921"
            ]
           ]
          },
          "colorway": [
           "#636efa",
           "#EF553B",
           "#00cc96",
           "#ab63fa",
           "#FFA15A",
           "#19d3f3",
           "#FF6692",
           "#B6E880",
           "#FF97FF",
           "#FECB52"
          ],
          "font": {
           "color": "#2a3f5f"
          },
          "geo": {
           "bgcolor": "white",
           "lakecolor": "white",
           "landcolor": "#E5ECF6",
           "showlakes": true,
           "showland": true,
           "subunitcolor": "white"
          },
          "hoverlabel": {
           "align": "left"
          },
          "hovermode": "closest",
          "mapbox": {
           "style": "light"
          },
          "paper_bgcolor": "white",
          "plot_bgcolor": "#E5ECF6",
          "polar": {
           "angularaxis": {
            "gridcolor": "white",
            "linecolor": "white",
            "ticks": ""
           },
           "bgcolor": "#E5ECF6",
           "radialaxis": {
            "gridcolor": "white",
            "linecolor": "white",
            "ticks": ""
           }
          },
          "scene": {
           "xaxis": {
            "backgroundcolor": "#E5ECF6",
            "gridcolor": "white",
            "gridwidth": 2,
            "linecolor": "white",
            "showbackground": true,
            "ticks": "",
            "zerolinecolor": "white"
           },
           "yaxis": {
            "backgroundcolor": "#E5ECF6",
            "gridcolor": "white",
            "gridwidth": 2,
            "linecolor": "white",
            "showbackground": true,
            "ticks": "",
            "zerolinecolor": "white"
           },
           "zaxis": {
            "backgroundcolor": "#E5ECF6",
            "gridcolor": "white",
            "gridwidth": 2,
            "linecolor": "white",
            "showbackground": true,
            "ticks": "",
            "zerolinecolor": "white"
           }
          },
          "shapedefaults": {
           "line": {
            "color": "#2a3f5f"
           }
          },
          "ternary": {
           "aaxis": {
            "gridcolor": "white",
            "linecolor": "white",
            "ticks": ""
           },
           "baxis": {
            "gridcolor": "white",
            "linecolor": "white",
            "ticks": ""
           },
           "bgcolor": "#E5ECF6",
           "caxis": {
            "gridcolor": "white",
            "linecolor": "white",
            "ticks": ""
           }
          },
          "title": {
           "x": 0.05
          },
          "xaxis": {
           "automargin": true,
           "gridcolor": "white",
           "linecolor": "white",
           "ticks": "",
           "title": {
            "standoff": 15
           },
           "zerolinecolor": "white",
           "zerolinewidth": 2
          },
          "yaxis": {
           "automargin": true,
           "gridcolor": "white",
           "linecolor": "white",
           "ticks": "",
           "title": {
            "standoff": 15
           },
           "zerolinecolor": "white",
           "zerolinewidth": 2
          }
         }
        },
        "xaxis": {
         "anchor": "y",
         "categoryarray": [
          "LGBMClassifier",
          "XGBClassifier",
          "AdaBoostClassifier",
          "Perceptron",
          "BaggingClassifier",
          "SGDClassifier",
          "DummyClassifier",
          "DecisionTreeClassifier",
          "ExtraTreesClassifier",
          "GaussianNB",
          "PassiveAggressiveClassifier",
          "KNeighborsClassifier",
          "CheckingClassifier",
          "ExtraTreeClassifier",
          "LinearSVC",
          "LabelSpreading",
          "LabelPropagation",
          "QuadraticDiscriminantAnalysis",
          "RandomForestClassifier",
          "SVC",
          "LinearDiscriminantAnalysis",
          "CalibratedClassifierCV",
          "BernoulliNB",
          "NearestCentroid",
          "RidgeClassifierCV",
          "RidgeClassifier",
          "LogisticRegression"
         ],
         "categoryorder": "array",
         "domain": [
          0,
          1
         ],
         "title": {
          "text": "Model"
         }
        },
        "yaxis": {
         "anchor": "x",
         "domain": [
          0,
          1
         ],
         "title": {
          "text": "ROC AUC"
         }
        }
       }
      },
      "text/html": "<div>                            <div id=\"d841140b-d37b-4d29-a096-b4ce189794c9\" class=\"plotly-graph-div\" style=\"height:525px; width:100%;\"></div>            <script type=\"text/javascript\">                require([\"plotly\"], function(Plotly) {                    window.PLOTLYENV=window.PLOTLYENV || {};                                    if (document.getElementById(\"d841140b-d37b-4d29-a096-b4ce189794c9\")) {                    Plotly.newPlot(                        \"d841140b-d37b-4d29-a096-b4ce189794c9\",                        [{\"alignmentgroup\": \"True\", \"hovertemplate\": \"Model=%{x}<br>ROC AUC=%{y}<extra></extra>\", \"legendgroup\": \"LGBMClassifier\", \"marker\": {\"color\": \"#AF0038\"}, \"name\": \"LGBMClassifier\", \"offsetgroup\": \"LGBMClassifier\", \"orientation\": \"v\", \"showlegend\": true, \"textposition\": \"auto\", \"type\": \"bar\", \"x\": [\"LGBMClassifier\"], \"xaxis\": \"x\", \"y\": [0.7103448275862069], \"yaxis\": \"y\"}, {\"alignmentgroup\": \"True\", \"hovertemplate\": \"Model=%{x}<br>ROC AUC=%{y}<extra></extra>\", \"legendgroup\": \"XGBClassifier\", \"marker\": {\"color\": \"#0D2A63\"}, \"name\": \"XGBClassifier\", \"offsetgroup\": \"XGBClassifier\", \"orientation\": \"v\", \"showlegend\": true, \"textposition\": \"auto\", \"type\": \"bar\", \"x\": [\"XGBClassifier\"], \"xaxis\": \"x\", \"y\": [0.6701149425287356], \"yaxis\": \"y\"}, {\"alignmentgroup\": \"True\", \"hovertemplate\": \"Model=%{x}<br>ROC AUC=%{y}<extra></extra>\", \"legendgroup\": \"AdaBoostClassifier\", \"marker\": {\"color\": \"#6C4516\"}, \"name\": \"AdaBoostClassifier\", \"offsetgroup\": \"AdaBoostClassifier\", \"orientation\": \"v\", \"showlegend\": true, \"textposition\": \"auto\", \"type\": \"bar\", \"x\": [\"AdaBoostClassifier\"], \"xaxis\": \"x\", \"y\": [0.6448275862068966], \"yaxis\": \"y\"}, {\"alignmentgroup\": \"True\", \"hovertemplate\": \"Model=%{x}<br>ROC AUC=%{y}<extra></extra>\", \"legendgroup\": \"Perceptron\", \"marker\": {\"color\": \"#DA60CA\"}, \"name\": \"Perceptron\", \"offsetgroup\": \"Perceptron\", \"orientation\": \"v\", \"showlegend\": true, \"textposition\": \"auto\", \"type\": \"bar\", \"x\": [\"Perceptron\"], \"xaxis\": \"x\", \"y\": [0.6333333333333334], \"yaxis\": \"y\"}, {\"alignmentgroup\": \"True\", \"hovertemplate\": \"Model=%{x}<br>ROC AUC=%{y}<extra></extra>\", \"legendgroup\": \"BaggingClassifier\", \"marker\": {\"color\": \"#1616A7\"}, \"name\": \"BaggingClassifier\", \"offsetgroup\": \"BaggingClassifier\", \"orientation\": \"v\", \"showlegend\": true, \"textposition\": \"auto\", \"type\": \"bar\", \"x\": [\"BaggingClassifier\"], \"xaxis\": \"x\", \"y\": [0.6160919540229886], \"yaxis\": \"y\"}, {\"alignmentgroup\": \"True\", \"hovertemplate\": \"Model=%{x}<br>ROC AUC=%{y}<extra></extra>\", \"legendgroup\": \"SGDClassifier\", \"marker\": {\"color\": \"#620042\"}, \"name\": \"SGDClassifier\", \"offsetgroup\": \"SGDClassifier\", \"orientation\": \"v\", \"showlegend\": true, \"textposition\": \"auto\", \"type\": \"bar\", \"x\": [\"SGDClassifier\"], \"xaxis\": \"x\", \"y\": [0.6126436781609196], \"yaxis\": \"y\"}, {\"alignmentgroup\": \"True\", \"hovertemplate\": \"Model=%{x}<br>ROC AUC=%{y}<extra></extra>\", \"legendgroup\": \"DummyClassifier\", \"marker\": {\"color\": \"#A777F1\"}, \"name\": \"DummyClassifier\", \"offsetgroup\": \"DummyClassifier\", \"orientation\": \"v\", \"showlegend\": true, \"textposition\": \"auto\", \"type\": \"bar\", \"x\": [\"DummyClassifier\"], \"xaxis\": \"x\", \"y\": [0.5747126436781609], \"yaxis\": \"y\"}, {\"alignmentgroup\": \"True\", \"hovertemplate\": \"Model=%{x}<br>ROC AUC=%{y}<extra></extra>\", \"legendgroup\": \"DecisionTreeClassifier\", \"marker\": {\"color\": \"#862A16\"}, \"name\": \"DecisionTreeClassifier\", \"offsetgroup\": \"DecisionTreeClassifier\", \"orientation\": \"v\", \"showlegend\": true, \"textposition\": \"auto\", \"type\": \"bar\", \"x\": [\"DecisionTreeClassifier\"], \"xaxis\": \"x\", \"y\": [0.5333333333333333], \"yaxis\": \"y\"}, {\"alignmentgroup\": \"True\", \"hovertemplate\": \"Model=%{x}<br>ROC AUC=%{y}<extra></extra>\", \"legendgroup\": \"ExtraTreesClassifier\", \"marker\": {\"color\": \"#778AAE\"}, \"name\": \"ExtraTreesClassifier\", \"offsetgroup\": \"ExtraTreesClassifier\", \"orientation\": \"v\", \"showlegend\": true, \"textposition\": \"auto\", \"type\": \"bar\", \"x\": [\"ExtraTreesClassifier\"], \"xaxis\": \"x\", \"y\": [0.5103448275862069], \"yaxis\": \"y\"}, {\"alignmentgroup\": \"True\", \"hovertemplate\": \"Model=%{x}<br>ROC AUC=%{y}<extra></extra>\", \"legendgroup\": \"GaussianNB\", \"marker\": {\"color\": \"#6C7C32\"}, \"name\": \"GaussianNB\", \"offsetgroup\": \"GaussianNB\", \"orientation\": \"v\", \"showlegend\": true, \"textposition\": \"auto\", \"type\": \"bar\", \"x\": [\"GaussianNB\"], \"xaxis\": \"x\", \"y\": [0.5080459770114942], \"yaxis\": \"y\"}, {\"alignmentgroup\": \"True\", \"hovertemplate\": \"Model=%{x}<br>ROC AUC=%{y}<extra></extra>\", \"legendgroup\": \"PassiveAggressiveClassifier\", \"marker\": {\"color\": \"#B2828D\"}, \"name\": \"PassiveAggressiveClassifier\", \"offsetgroup\": \"PassiveAggressiveClassifier\", \"orientation\": \"v\", \"showlegend\": true, \"textposition\": \"auto\", \"type\": \"bar\", \"x\": [\"PassiveAggressiveClassifier\"], \"xaxis\": \"x\", \"y\": [0.5080459770114942], \"yaxis\": \"y\"}, {\"alignmentgroup\": \"True\", \"hovertemplate\": \"Model=%{x}<br>ROC AUC=%{y}<extra></extra>\", \"legendgroup\": \"KNeighborsClassifier\", \"marker\": {\"color\": \"#FC0080\"}, \"name\": \"KNeighborsClassifier\", \"offsetgroup\": \"KNeighborsClassifier\", \"orientation\": \"v\", \"showlegend\": true, \"textposition\": \"auto\", \"type\": \"bar\", \"x\": [\"KNeighborsClassifier\"], \"xaxis\": \"x\", \"y\": [0.5057471264367817], \"yaxis\": \"y\"}, {\"alignmentgroup\": \"True\", \"hovertemplate\": \"Model=%{x}<br>ROC AUC=%{y}<extra></extra>\", \"legendgroup\": \"CheckingClassifier\", \"marker\": {\"color\": \"#FB00D1\"}, \"name\": \"CheckingClassifier\", \"offsetgroup\": \"CheckingClassifier\", \"orientation\": \"v\", \"showlegend\": true, \"textposition\": \"auto\", \"type\": \"bar\", \"x\": [\"CheckingClassifier\"], \"xaxis\": \"x\", \"y\": [0.5], \"yaxis\": \"y\"}, {\"alignmentgroup\": \"True\", \"hovertemplate\": \"Model=%{x}<br>ROC AUC=%{y}<extra></extra>\", \"legendgroup\": \"ExtraTreeClassifier\", \"marker\": {\"color\": \"#00A08B\"}, \"name\": \"ExtraTreeClassifier\", \"offsetgroup\": \"ExtraTreeClassifier\", \"orientation\": \"v\", \"showlegend\": true, \"textposition\": \"auto\", \"type\": \"bar\", \"x\": [\"ExtraTreeClassifier\"], \"xaxis\": \"x\", \"y\": [0.4931034482758621], \"yaxis\": \"y\"}, {\"alignmentgroup\": \"True\", \"hovertemplate\": \"Model=%{x}<br>ROC AUC=%{y}<extra></extra>\", \"legendgroup\": \"LinearSVC\", \"marker\": {\"color\": \"#511CFB\"}, \"name\": \"LinearSVC\", \"offsetgroup\": \"LinearSVC\", \"orientation\": \"v\", \"showlegend\": true, \"textposition\": \"auto\", \"type\": \"bar\", \"x\": [\"LinearSVC\"], \"xaxis\": \"x\", \"y\": [0.4850574712643678], \"yaxis\": \"y\"}, {\"alignmentgroup\": \"True\", \"hovertemplate\": \"Model=%{x}<br>ROC AUC=%{y}<extra></extra>\", \"legendgroup\": \"LabelSpreading\", \"marker\": {\"color\": \"#EB663B\"}, \"name\": \"LabelSpreading\", \"offsetgroup\": \"LabelSpreading\", \"orientation\": \"v\", \"showlegend\": true, \"textposition\": \"auto\", \"type\": \"bar\", \"x\": [\"LabelSpreading\"], \"xaxis\": \"x\", \"y\": [0.4827586206896552], \"yaxis\": \"y\"}, {\"alignmentgroup\": \"True\", \"hovertemplate\": \"Model=%{x}<br>ROC AUC=%{y}<extra></extra>\", \"legendgroup\": \"LabelPropagation\", \"marker\": {\"color\": \"#750D86\"}, \"name\": \"LabelPropagation\", \"offsetgroup\": \"LabelPropagation\", \"orientation\": \"v\", \"showlegend\": true, \"textposition\": \"auto\", \"type\": \"bar\", \"x\": [\"LabelPropagation\"], \"xaxis\": \"x\", \"y\": [0.4827586206896552], \"yaxis\": \"y\"}, {\"alignmentgroup\": \"True\", \"hovertemplate\": \"Model=%{x}<br>ROC AUC=%{y}<extra></extra>\", \"legendgroup\": \"QuadraticDiscriminantAnalysis\", \"marker\": {\"color\": \"#B68100\"}, \"name\": \"QuadraticDiscriminantAnalysis\", \"offsetgroup\": \"QuadraticDiscriminantAnalysis\", \"orientation\": \"v\", \"showlegend\": true, \"textposition\": \"auto\", \"type\": \"bar\", \"x\": [\"QuadraticDiscriminantAnalysis\"], \"xaxis\": \"x\", \"y\": [0.4827586206896552], \"yaxis\": \"y\"}, {\"alignmentgroup\": \"True\", \"hovertemplate\": \"Model=%{x}<br>ROC AUC=%{y}<extra></extra>\", \"legendgroup\": \"RandomForestClassifier\", \"marker\": {\"color\": \"#222A2A\"}, \"name\": \"RandomForestClassifier\", \"offsetgroup\": \"RandomForestClassifier\", \"orientation\": \"v\", \"showlegend\": true, \"textposition\": \"auto\", \"type\": \"bar\", \"x\": [\"RandomForestClassifier\"], \"xaxis\": \"x\", \"y\": [0.464367816091954], \"yaxis\": \"y\"}, {\"alignmentgroup\": \"True\", \"hovertemplate\": \"Model=%{x}<br>ROC AUC=%{y}<extra></extra>\", \"legendgroup\": \"SVC\", \"marker\": {\"color\": \"#DA16FF\"}, \"name\": \"SVC\", \"offsetgroup\": \"SVC\", \"orientation\": \"v\", \"showlegend\": true, \"textposition\": \"auto\", \"type\": \"bar\", \"x\": [\"SVC\"], \"xaxis\": \"x\", \"y\": [0.4275862068965517], \"yaxis\": \"y\"}, {\"alignmentgroup\": \"True\", \"hovertemplate\": \"Model=%{x}<br>ROC AUC=%{y}<extra></extra>\", \"legendgroup\": \"LinearDiscriminantAnalysis\", \"marker\": {\"color\": \"#FB0D0D\"}, \"name\": \"LinearDiscriminantAnalysis\", \"offsetgroup\": \"LinearDiscriminantAnalysis\", \"orientation\": \"v\", \"showlegend\": true, \"textposition\": \"auto\", \"type\": \"bar\", \"x\": [\"LinearDiscriminantAnalysis\"], \"xaxis\": \"x\", \"y\": [0.3988505747126436], \"yaxis\": \"y\"}, {\"alignmentgroup\": \"True\", \"hovertemplate\": \"Model=%{x}<br>ROC AUC=%{y}<extra></extra>\", \"legendgroup\": \"CalibratedClassifierCV\", \"marker\": {\"color\": \"#1CA71C\"}, \"name\": \"CalibratedClassifierCV\", \"offsetgroup\": \"CalibratedClassifierCV\", \"orientation\": \"v\", \"showlegend\": true, \"textposition\": \"auto\", \"type\": \"bar\", \"x\": [\"CalibratedClassifierCV\"], \"xaxis\": \"x\", \"y\": [0.39195402298850573], \"yaxis\": \"y\"}, {\"alignmentgroup\": \"True\", \"hovertemplate\": \"Model=%{x}<br>ROC AUC=%{y}<extra></extra>\", \"legendgroup\": \"BernoulliNB\", \"marker\": {\"color\": \"#E15F99\"}, \"name\": \"BernoulliNB\", \"offsetgroup\": \"BernoulliNB\", \"orientation\": \"v\", \"showlegend\": true, \"textposition\": \"auto\", \"type\": \"bar\", \"x\": [\"BernoulliNB\"], \"xaxis\": \"x\", \"y\": [0.35517241379310344], \"yaxis\": \"y\"}, {\"alignmentgroup\": \"True\", \"hovertemplate\": \"Model=%{x}<br>ROC AUC=%{y}<extra></extra>\", \"legendgroup\": \"NearestCentroid\", \"marker\": {\"color\": \"#2E91E5\"}, \"name\": \"NearestCentroid\", \"offsetgroup\": \"NearestCentroid\", \"orientation\": \"v\", \"showlegend\": true, \"textposition\": \"auto\", \"type\": \"bar\", \"x\": [\"NearestCentroid\"], \"xaxis\": \"x\", \"y\": [0.34942528735632183], \"yaxis\": \"y\"}, {\"alignmentgroup\": \"True\", \"hovertemplate\": \"Model=%{x}<br>ROC AUC=%{y}<extra></extra>\", \"legendgroup\": \"RidgeClassifierCV\", \"marker\": {\"color\": \"#AF0038\"}, \"name\": \"RidgeClassifierCV\", \"offsetgroup\": \"RidgeClassifierCV\", \"orientation\": \"v\", \"showlegend\": true, \"textposition\": \"auto\", \"type\": \"bar\", \"x\": [\"RidgeClassifierCV\"], \"xaxis\": \"x\", \"y\": [0.3264367816091954], \"yaxis\": \"y\"}, {\"alignmentgroup\": \"True\", \"hovertemplate\": \"Model=%{x}<br>ROC AUC=%{y}<extra></extra>\", \"legendgroup\": \"RidgeClassifier\", \"marker\": {\"color\": \"#0D2A63\"}, \"name\": \"RidgeClassifier\", \"offsetgroup\": \"RidgeClassifier\", \"orientation\": \"v\", \"showlegend\": true, \"textposition\": \"auto\", \"type\": \"bar\", \"x\": [\"RidgeClassifier\"], \"xaxis\": \"x\", \"y\": [0.3264367816091954], \"yaxis\": \"y\"}, {\"alignmentgroup\": \"True\", \"hovertemplate\": \"Model=%{x}<br>ROC AUC=%{y}<extra></extra>\", \"legendgroup\": \"LogisticRegression\", \"marker\": {\"color\": \"#6C4516\"}, \"name\": \"LogisticRegression\", \"offsetgroup\": \"LogisticRegression\", \"orientation\": \"v\", \"showlegend\": true, \"textposition\": \"auto\", \"type\": \"bar\", \"x\": [\"LogisticRegression\"], \"xaxis\": \"x\", \"y\": [0.3149425287356322], \"yaxis\": \"y\"}],                        {\"barmode\": \"relative\", \"legend\": {\"title\": {\"text\": \"Model\"}, \"tracegroupgap\": 0}, \"margin\": {\"t\": 60}, \"template\": {\"data\": {\"bar\": [{\"error_x\": {\"color\": \"#2a3f5f\"}, \"error_y\": {\"color\": \"#2a3f5f\"}, \"marker\": {\"line\": {\"color\": \"#E5ECF6\", \"width\": 0.5}}, \"type\": \"bar\"}], \"barpolar\": [{\"marker\": {\"line\": {\"color\": \"#E5ECF6\", \"width\": 0.5}}, \"type\": \"barpolar\"}], \"carpet\": [{\"aaxis\": {\"endlinecolor\": \"#2a3f5f\", \"gridcolor\": \"white\", \"linecolor\": \"white\", \"minorgridcolor\": \"white\", \"startlinecolor\": \"#2a3f5f\"}, \"baxis\": {\"endlinecolor\": \"#2a3f5f\", \"gridcolor\": \"white\", \"linecolor\": \"white\", \"minorgridcolor\": \"white\", \"startlinecolor\": \"#2a3f5f\"}, \"type\": \"carpet\"}], \"choropleth\": [{\"colorbar\": {\"outlinewidth\": 0, \"ticks\": \"\"}, \"type\": \"choropleth\"}], \"contour\": [{\"colorbar\": {\"outlinewidth\": 0, \"ticks\": \"\"}, \"colorscale\": [[0.0, \"#0d0887\"], [0.1111111111111111, \"#46039f\"], [0.2222222222222222, \"#7201a8\"], [0.3333333333333333, \"#9c179e\"], [0.4444444444444444, \"#bd3786\"], [0.5555555555555556, \"#d8576b\"], [0.6666666666666666, \"#ed7953\"], [0.7777777777777778, \"#fb9f3a\"], [0.8888888888888888, \"#fdca26\"], [1.0, \"#f0f921\"]], \"type\": \"contour\"}], \"contourcarpet\": [{\"colorbar\": {\"outlinewidth\": 0, \"ticks\": \"\"}, \"type\": \"contourcarpet\"}], \"heatmap\": [{\"colorbar\": {\"outlinewidth\": 0, \"ticks\": \"\"}, \"colorscale\": [[0.0, \"#0d0887\"], [0.1111111111111111, \"#46039f\"], [0.2222222222222222, \"#7201a8\"], [0.3333333333333333, \"#9c179e\"], [0.4444444444444444, \"#bd3786\"], [0.5555555555555556, \"#d8576b\"], [0.6666666666666666, \"#ed7953\"], [0.7777777777777778, \"#fb9f3a\"], [0.8888888888888888, \"#fdca26\"], [1.0, \"#f0f921\"]], \"type\": \"heatmap\"}], \"heatmapgl\": [{\"colorbar\": {\"outlinewidth\": 0, \"ticks\": \"\"}, \"colorscale\": [[0.0, \"#0d0887\"], [0.1111111111111111, \"#46039f\"], [0.2222222222222222, \"#7201a8\"], [0.3333333333333333, \"#9c179e\"], [0.4444444444444444, \"#bd3786\"], [0.5555555555555556, \"#d8576b\"], [0.6666666666666666, \"#ed7953\"], [0.7777777777777778, \"#fb9f3a\"], [0.8888888888888888, \"#fdca26\"], [1.0, \"#f0f921\"]], \"type\": \"heatmapgl\"}], \"histogram\": [{\"marker\": {\"colorbar\": {\"outlinewidth\": 0, \"ticks\": \"\"}}, \"type\": \"histogram\"}], \"histogram2d\": [{\"colorbar\": {\"outlinewidth\": 0, \"ticks\": \"\"}, \"colorscale\": [[0.0, \"#0d0887\"], [0.1111111111111111, \"#46039f\"], [0.2222222222222222, \"#7201a8\"], [0.3333333333333333, \"#9c179e\"], [0.4444444444444444, \"#bd3786\"], [0.5555555555555556, \"#d8576b\"], [0.6666666666666666, \"#ed7953\"], [0.7777777777777778, \"#fb9f3a\"], [0.8888888888888888, \"#fdca26\"], [1.0, \"#f0f921\"]], \"type\": \"histogram2d\"}], \"histogram2dcontour\": [{\"colorbar\": {\"outlinewidth\": 0, \"ticks\": \"\"}, \"colorscale\": [[0.0, \"#0d0887\"], [0.1111111111111111, \"#46039f\"], [0.2222222222222222, \"#7201a8\"], [0.3333333333333333, \"#9c179e\"], [0.4444444444444444, \"#bd3786\"], [0.5555555555555556, \"#d8576b\"], [0.6666666666666666, \"#ed7953\"], [0.7777777777777778, \"#fb9f3a\"], [0.8888888888888888, \"#fdca26\"], [1.0, \"#f0f921\"]], \"type\": \"histogram2dcontour\"}], \"mesh3d\": [{\"colorbar\": {\"outlinewidth\": 0, \"ticks\": \"\"}, \"type\": \"mesh3d\"}], \"parcoords\": [{\"line\": {\"colorbar\": {\"outlinewidth\": 0, \"ticks\": \"\"}}, \"type\": \"parcoords\"}], \"pie\": [{\"automargin\": true, \"type\": \"pie\"}], \"scatter\": [{\"marker\": {\"colorbar\": {\"outlinewidth\": 0, \"ticks\": \"\"}}, \"type\": \"scatter\"}], \"scatter3d\": [{\"line\": {\"colorbar\": {\"outlinewidth\": 0, \"ticks\": \"\"}}, \"marker\": {\"colorbar\": {\"outlinewidth\": 0, \"ticks\": \"\"}}, \"type\": \"scatter3d\"}], \"scattercarpet\": [{\"marker\": {\"colorbar\": {\"outlinewidth\": 0, \"ticks\": \"\"}}, \"type\": \"scattercarpet\"}], \"scattergeo\": [{\"marker\": {\"colorbar\": {\"outlinewidth\": 0, \"ticks\": \"\"}}, \"type\": \"scattergeo\"}], \"scattergl\": [{\"marker\": {\"colorbar\": {\"outlinewidth\": 0, \"ticks\": \"\"}}, \"type\": \"scattergl\"}], \"scattermapbox\": [{\"marker\": {\"colorbar\": {\"outlinewidth\": 0, \"ticks\": \"\"}}, \"type\": \"scattermapbox\"}], \"scatterpolar\": [{\"marker\": {\"colorbar\": {\"outlinewidth\": 0, \"ticks\": \"\"}}, \"type\": \"scatterpolar\"}], \"scatterpolargl\": [{\"marker\": {\"colorbar\": {\"outlinewidth\": 0, \"ticks\": \"\"}}, \"type\": \"scatterpolargl\"}], \"scatterternary\": [{\"marker\": {\"colorbar\": {\"outlinewidth\": 0, \"ticks\": \"\"}}, \"type\": \"scatterternary\"}], \"surface\": [{\"colorbar\": {\"outlinewidth\": 0, \"ticks\": \"\"}, \"colorscale\": [[0.0, \"#0d0887\"], [0.1111111111111111, \"#46039f\"], [0.2222222222222222, \"#7201a8\"], [0.3333333333333333, \"#9c179e\"], [0.4444444444444444, \"#bd3786\"], [0.5555555555555556, \"#d8576b\"], [0.6666666666666666, \"#ed7953\"], [0.7777777777777778, \"#fb9f3a\"], [0.8888888888888888, \"#fdca26\"], [1.0, \"#f0f921\"]], \"type\": \"surface\"}], \"table\": [{\"cells\": {\"fill\": {\"color\": \"#EBF0F8\"}, \"line\": {\"color\": \"white\"}}, \"header\": {\"fill\": {\"color\": \"#C8D4E3\"}, \"line\": {\"color\": \"white\"}}, \"type\": \"table\"}]}, \"layout\": {\"annotationdefaults\": {\"arrowcolor\": \"#2a3f5f\", \"arrowhead\": 0, \"arrowwidth\": 1}, \"autotypenumbers\": \"strict\", \"coloraxis\": {\"colorbar\": {\"outlinewidth\": 0, \"ticks\": \"\"}}, \"colorscale\": {\"diverging\": [[0, \"#8e0152\"], [0.1, \"#c51b7d\"], [0.2, \"#de77ae\"], [0.3, \"#f1b6da\"], [0.4, \"#fde0ef\"], [0.5, \"#f7f7f7\"], [0.6, \"#e6f5d0\"], [0.7, \"#b8e186\"], [0.8, \"#7fbc41\"], [0.9, \"#4d9221\"], [1, \"#276419\"]], \"sequential\": [[0.0, \"#0d0887\"], [0.1111111111111111, \"#46039f\"], [0.2222222222222222, \"#7201a8\"], [0.3333333333333333, \"#9c179e\"], [0.4444444444444444, \"#bd3786\"], [0.5555555555555556, \"#d8576b\"], [0.6666666666666666, \"#ed7953\"], [0.7777777777777778, \"#fb9f3a\"], [0.8888888888888888, \"#fdca26\"], [1.0, \"#f0f921\"]], \"sequentialminus\": [[0.0, \"#0d0887\"], [0.1111111111111111, \"#46039f\"], [0.2222222222222222, \"#7201a8\"], [0.3333333333333333, \"#9c179e\"], [0.4444444444444444, \"#bd3786\"], [0.5555555555555556, \"#d8576b\"], [0.6666666666666666, \"#ed7953\"], [0.7777777777777778, \"#fb9f3a\"], [0.8888888888888888, \"#fdca26\"], [1.0, \"#f0f921\"]]}, \"colorway\": [\"#636efa\", \"#EF553B\", \"#00cc96\", \"#ab63fa\", \"#FFA15A\", \"#19d3f3\", \"#FF6692\", \"#B6E880\", \"#FF97FF\", \"#FECB52\"], \"font\": {\"color\": \"#2a3f5f\"}, \"geo\": {\"bgcolor\": \"white\", \"lakecolor\": \"white\", \"landcolor\": \"#E5ECF6\", \"showlakes\": true, \"showland\": true, \"subunitcolor\": \"white\"}, \"hoverlabel\": {\"align\": \"left\"}, \"hovermode\": \"closest\", \"mapbox\": {\"style\": \"light\"}, \"paper_bgcolor\": \"white\", \"plot_bgcolor\": \"#E5ECF6\", \"polar\": {\"angularaxis\": {\"gridcolor\": \"white\", \"linecolor\": \"white\", \"ticks\": \"\"}, \"bgcolor\": \"#E5ECF6\", \"radialaxis\": {\"gridcolor\": \"white\", \"linecolor\": \"white\", \"ticks\": \"\"}}, \"scene\": {\"xaxis\": {\"backgroundcolor\": \"#E5ECF6\", \"gridcolor\": \"white\", \"gridwidth\": 2, \"linecolor\": \"white\", \"showbackground\": true, \"ticks\": \"\", \"zerolinecolor\": \"white\"}, \"yaxis\": {\"backgroundcolor\": \"#E5ECF6\", \"gridcolor\": \"white\", \"gridwidth\": 2, \"linecolor\": \"white\", \"showbackground\": true, \"ticks\": \"\", \"zerolinecolor\": \"white\"}, \"zaxis\": {\"backgroundcolor\": \"#E5ECF6\", \"gridcolor\": \"white\", \"gridwidth\": 2, \"linecolor\": \"white\", \"showbackground\": true, \"ticks\": \"\", \"zerolinecolor\": \"white\"}}, \"shapedefaults\": {\"line\": {\"color\": \"#2a3f5f\"}}, \"ternary\": {\"aaxis\": {\"gridcolor\": \"white\", \"linecolor\": \"white\", \"ticks\": \"\"}, \"baxis\": {\"gridcolor\": \"white\", \"linecolor\": \"white\", \"ticks\": \"\"}, \"bgcolor\": \"#E5ECF6\", \"caxis\": {\"gridcolor\": \"white\", \"linecolor\": \"white\", \"ticks\": \"\"}}, \"title\": {\"x\": 0.05}, \"xaxis\": {\"automargin\": true, \"gridcolor\": \"white\", \"linecolor\": \"white\", \"ticks\": \"\", \"title\": {\"standoff\": 15}, \"zerolinecolor\": \"white\", \"zerolinewidth\": 2}, \"yaxis\": {\"automargin\": true, \"gridcolor\": \"white\", \"linecolor\": \"white\", \"ticks\": \"\", \"title\": {\"standoff\": 15}, \"zerolinecolor\": \"white\", \"zerolinewidth\": 2}}}, \"xaxis\": {\"anchor\": \"y\", \"categoryarray\": [\"LGBMClassifier\", \"XGBClassifier\", \"AdaBoostClassifier\", \"Perceptron\", \"BaggingClassifier\", \"SGDClassifier\", \"DummyClassifier\", \"DecisionTreeClassifier\", \"ExtraTreesClassifier\", \"GaussianNB\", \"PassiveAggressiveClassifier\", \"KNeighborsClassifier\", \"CheckingClassifier\", \"ExtraTreeClassifier\", \"LinearSVC\", \"LabelSpreading\", \"LabelPropagation\", \"QuadraticDiscriminantAnalysis\", \"RandomForestClassifier\", \"SVC\", \"LinearDiscriminantAnalysis\", \"CalibratedClassifierCV\", \"BernoulliNB\", \"NearestCentroid\", \"RidgeClassifierCV\", \"RidgeClassifier\", \"LogisticRegression\"], \"categoryorder\": \"array\", \"domain\": [0.0, 1.0], \"title\": {\"text\": \"Model\"}}, \"yaxis\": {\"anchor\": \"x\", \"domain\": [0.0, 1.0], \"title\": {\"text\": \"ROC AUC\"}}},                        {\"responsive\": true}                    ).then(function(){\n                            \nvar gd = document.getElementById('d841140b-d37b-4d29-a096-b4ce189794c9');\nvar x = new MutationObserver(function (mutations, observer) {{\n        var display = window.getComputedStyle(gd).display;\n        if (!display || display === 'none') {{\n            console.log([gd, 'removed!']);\n            Plotly.purge(gd);\n            observer.disconnect();\n        }}\n}});\n\n// Listen for the removal of the full notebook cells\nvar notebookContainer = gd.closest('#notebook-container');\nif (notebookContainer) {{\n    x.observe(notebookContainer, {childList: true});\n}}\n\n// Listen for the clearing of the current output cell\nvar outputEl = gd.closest('.output');\nif (outputEl) {{\n    x.observe(outputEl, {childList: true});\n}}\n\n                        })                };                });            </script>        </div>"
     },
     "metadata": {}
    }
   ],
   "source": [
    "fig = px.bar(models_smoteenn.reset_index(), x='Model', y='ROC AUC', color='Model', color_discrete_sequence=px.colors.qualitative.Dark24_r)\n",
    "fig.show()"
   ]
  },
  {
   "source": [
    "Based on the performance of different models with default hyperparameters, we decided to perform hyperparameter optimization of AdaBoostClassifier, DecisionTreeClassifier, LGBMClassifier, and XGBClassifier.\n",
    "\n",
    "Hyperparametr to optimize:\n",
    "\n",
    "AdaBoostClassifier (GridSearchCV): learning_rate (1), n_estimators (50), base_estimator (DecisionTreeClassifier(max_depth=1))\n",
    "\n",
    "DecisionTreeClassifier (GridSearchCV): max_depth (None), min_samples_split (2), max_features (None) \n",
    "\n",
    "XGBClassifier: n_estimators, max_depth, reg_alpha, reg_lambda, eta, gamma, subsample, colsample_bytree\n",
    "\n",
    "<!---\n",
    "LightGBM: num_boost_round, num_leaves, max_depth, lambda_l2, lambda_l1, min_child_samples, min_data_in_leaf\n",
    "--->"
   ],
   "cell_type": "markdown",
   "metadata": {}
  },
  {
   "cell_type": "code",
   "execution_count": 21,
   "metadata": {},
   "outputs": [],
   "source": [
    "X_train=X_smoteenn.toarray()\n",
    "y_train=y_smoteenn\n",
    "X_test=X_test.toarray()\n",
    "y_test=y_test"
   ]
  },
  {
   "cell_type": "code",
   "execution_count": 45,
   "metadata": {},
   "outputs": [
    {
     "output_type": "stream",
     "name": "stdout",
     "text": [
      "Accuracy for optimized ada: 0.6630434782608695\nF1 score for optimized ada: 0.16216216216216214\nROC AUC for optimized ada: 0.6333333333333334\n"
     ]
    }
   ],
   "source": [
    "# AdaBoostClassifier\n",
    "\n",
    "scoring = {'AUC': 'roc_auc', 'Accuracy': make_scorer(accuracy_score), 'Precision': make_scorer(precision_score), 'Recall': make_scorer(recall_score)}\n",
    "\n",
    "param_grid = {\n",
    "    'learning_rate': np.arange(0, 1.1, 0.2),\n",
    "    'n_estimators': np.arange(0, 205, 50),\n",
    "    #'base_estimator': [DecisionTreeClassifier(max_depth=1), DecisionTreeClassifier(max_depth=2)]\n",
    "}\n",
    "\n",
    "ada = AdaBoostClassifier(random_state=42)\n",
    "\n",
    "gs_ada = GridSearchCV(estimator=ada, \n",
    "                      param_grid=param_grid,\n",
    "                      scoring=scoring,\n",
    "                      refit='AUC',\n",
    "                      return_train_score=True,\n",
    "                      cv=3)\n",
    "gs_ada.fit(X_train, y_train)\n",
    "y_pred = gs_ada.predict(X_test)\n",
    "\n",
    "print('Accuracy for optimized ada: {}'.format(accuracy_score(y_test, y_pred)))\n",
    "print('F1 score for optimized ada: {}'.format(f1_score(y_test, y_pred)))\n",
    "print('ROC AUC for optimized ada: {}'.format(roc_auc_score(y_test, y_pred)))\n"
   ]
  },
  {
   "cell_type": "code",
   "execution_count": 46,
   "metadata": {},
   "outputs": [
    {
     "output_type": "execute_result",
     "data": {
      "text/plain": [
       "{'learning_rate': 0.8, 'n_estimators': 100}"
      ]
     },
     "metadata": {},
     "execution_count": 46
    }
   ],
   "source": [
    "ada_results = gs_ada.cv_results_\n",
    "gs_ada.best_params_"
   ]
  },
  {
   "cell_type": "code",
   "execution_count": 47,
   "metadata": {},
   "outputs": [],
   "source": [
    "gs_ada_df = pd.DataFrame()\n",
    "for k in param_grid:\n",
    "    gs_ada_df[k] = ada_results['param_' + k]\n",
    "\n",
    "for k in ['Accuracy', 'Precision', 'AUC', 'Recall']:\n",
    "    gs_ada_df['mean_train_' + k] = ada_results['mean_train_' + k]\n",
    "    gs_ada_df['std_train_' + k] = ada_results['std_train_' + k]\n",
    "    gs_ada_df['mean_test_' + k] = ada_results['mean_test_' + k]\n",
    "    gs_ada_df['std_test_' + k] = ada_results['std_test_' + k]\n"
   ]
  },
  {
   "cell_type": "code",
   "execution_count": 48,
   "metadata": {},
   "outputs": [],
   "source": [
    "#gs_ada_df['max_depth'] = gs_ada_df['base_estimator'].apply(lambda x: x.max_depth)"
   ]
  },
  {
   "cell_type": "code",
   "execution_count": 49,
   "metadata": {},
   "outputs": [
    {
     "output_type": "execute_result",
     "data": {
      "text/plain": [
       "   learning_rate n_estimators  mean_train_Accuracy  std_train_Accuracy  \\\n",
       "20           0.8            0                  NaN                 NaN   \n",
       "21           0.8           50                 1.00                0.00   \n",
       "22           0.8          100                 1.00                0.00   \n",
       "23           0.8          150                 1.00                0.00   \n",
       "24           0.8          200                 1.00                0.00   \n",
       "\n",
       "    mean_test_Accuracy  std_test_Accuracy  mean_train_Precision  \\\n",
       "20                 NaN                NaN                   NaN   \n",
       "21                0.97               0.02                  1.00   \n",
       "22                0.97               0.02                  1.00   \n",
       "23                0.97               0.01                  1.00   \n",
       "24                0.96               0.01                  1.00   \n",
       "\n",
       "    std_train_Precision  mean_test_Precision  std_test_Precision  \\\n",
       "20                  NaN                  NaN                 NaN   \n",
       "21                 0.00                 0.98                0.01   \n",
       "22                 0.00                 0.98                0.01   \n",
       "23                 0.00                 0.97                0.00   \n",
       "24                 0.00                 0.97                0.02   \n",
       "\n",
       "    mean_train_AUC  std_train_AUC  mean_test_AUC  std_test_AUC  \\\n",
       "20             NaN            NaN            NaN           NaN   \n",
       "21            1.00           0.00           0.99          0.02   \n",
       "22            1.00           0.00           0.99          0.01   \n",
       "23            1.00           0.00           0.99          0.01   \n",
       "24            1.00           0.00           0.99          0.01   \n",
       "\n",
       "    mean_train_Recall  std_train_Recall  mean_test_Recall  std_test_Recall  \n",
       "20                NaN               NaN               NaN              NaN  \n",
       "21               1.00              0.00              0.99             0.02  \n",
       "22               1.00              0.00              0.99             0.02  \n",
       "23               1.00              0.00              0.99             0.02  \n",
       "24               1.00              0.00              0.99             0.02  "
      ],
      "text/html": "<div>\n<style scoped>\n    .dataframe tbody tr th:only-of-type {\n        vertical-align: middle;\n    }\n\n    .dataframe tbody tr th {\n        vertical-align: top;\n    }\n\n    .dataframe thead th {\n        text-align: right;\n    }\n</style>\n<table border=\"1\" class=\"dataframe\">\n  <thead>\n    <tr style=\"text-align: right;\">\n      <th></th>\n      <th>learning_rate</th>\n      <th>n_estimators</th>\n      <th>mean_train_Accuracy</th>\n      <th>std_train_Accuracy</th>\n      <th>mean_test_Accuracy</th>\n      <th>std_test_Accuracy</th>\n      <th>mean_train_Precision</th>\n      <th>std_train_Precision</th>\n      <th>mean_test_Precision</th>\n      <th>std_test_Precision</th>\n      <th>mean_train_AUC</th>\n      <th>std_train_AUC</th>\n      <th>mean_test_AUC</th>\n      <th>std_test_AUC</th>\n      <th>mean_train_Recall</th>\n      <th>std_train_Recall</th>\n      <th>mean_test_Recall</th>\n      <th>std_test_Recall</th>\n    </tr>\n  </thead>\n  <tbody>\n    <tr>\n      <th>20</th>\n      <td>0.8</td>\n      <td>0</td>\n      <td>NaN</td>\n      <td>NaN</td>\n      <td>NaN</td>\n      <td>NaN</td>\n      <td>NaN</td>\n      <td>NaN</td>\n      <td>NaN</td>\n      <td>NaN</td>\n      <td>NaN</td>\n      <td>NaN</td>\n      <td>NaN</td>\n      <td>NaN</td>\n      <td>NaN</td>\n      <td>NaN</td>\n      <td>NaN</td>\n      <td>NaN</td>\n    </tr>\n    <tr>\n      <th>21</th>\n      <td>0.8</td>\n      <td>50</td>\n      <td>1.00</td>\n      <td>0.00</td>\n      <td>0.97</td>\n      <td>0.02</td>\n      <td>1.00</td>\n      <td>0.00</td>\n      <td>0.98</td>\n      <td>0.01</td>\n      <td>1.00</td>\n      <td>0.00</td>\n      <td>0.99</td>\n      <td>0.02</td>\n      <td>1.00</td>\n      <td>0.00</td>\n      <td>0.99</td>\n      <td>0.02</td>\n    </tr>\n    <tr>\n      <th>22</th>\n      <td>0.8</td>\n      <td>100</td>\n      <td>1.00</td>\n      <td>0.00</td>\n      <td>0.97</td>\n      <td>0.02</td>\n      <td>1.00</td>\n      <td>0.00</td>\n      <td>0.98</td>\n      <td>0.01</td>\n      <td>1.00</td>\n      <td>0.00</td>\n      <td>0.99</td>\n      <td>0.01</td>\n      <td>1.00</td>\n      <td>0.00</td>\n      <td>0.99</td>\n      <td>0.02</td>\n    </tr>\n    <tr>\n      <th>23</th>\n      <td>0.8</td>\n      <td>150</td>\n      <td>1.00</td>\n      <td>0.00</td>\n      <td>0.97</td>\n      <td>0.01</td>\n      <td>1.00</td>\n      <td>0.00</td>\n      <td>0.97</td>\n      <td>0.00</td>\n      <td>1.00</td>\n      <td>0.00</td>\n      <td>0.99</td>\n      <td>0.01</td>\n      <td>1.00</td>\n      <td>0.00</td>\n      <td>0.99</td>\n      <td>0.02</td>\n    </tr>\n    <tr>\n      <th>24</th>\n      <td>0.8</td>\n      <td>200</td>\n      <td>1.00</td>\n      <td>0.00</td>\n      <td>0.96</td>\n      <td>0.01</td>\n      <td>1.00</td>\n      <td>0.00</td>\n      <td>0.97</td>\n      <td>0.02</td>\n      <td>1.00</td>\n      <td>0.00</td>\n      <td>0.99</td>\n      <td>0.01</td>\n      <td>1.00</td>\n      <td>0.00</td>\n      <td>0.99</td>\n      <td>0.02</td>\n    </tr>\n  </tbody>\n</table>\n</div>"
     },
     "metadata": {},
     "execution_count": 49
    }
   ],
   "source": [
    "gs_ada_df = gs_ada_df[gs_ada_df['learning_rate'] == 0.8]\n",
    "#gs_ada_df = gs_ada_df[gs_ada_df['max_depth'] == 2]\n",
    "gs_ada_df"
   ]
  },
  {
   "cell_type": "code",
   "execution_count": 52,
   "metadata": {},
   "outputs": [
    {
     "output_type": "display_data",
     "data": {
      "application/vnd.plotly.v1+json": {
       "config": {
        "plotlyServerURL": "https://plot.ly"
       },
       "data": [
        {
         "line": {
          "color": "rgb(31, 119, 180)"
         },
         "mode": "lines",
         "name": "test_auc",
         "type": "scatter",
         "x": [
          0,
          50,
          100,
          150,
          200
         ],
         "y": [
          null,
          0.9855421686746988,
          0.993574297188755,
          0.9930388219544847,
          0.9927710843373494
         ]
        },
        {
         "line": {
          "width": 0
         },
         "marker": {
          "color": "#444"
         },
         "mode": "lines",
         "showlegend": false,
         "type": "scatter",
         "x": [
          0,
          50,
          100,
          150,
          200
         ],
         "y": [
          null,
          1.0059886298174423,
          1.0026616132521966,
          1.0028834143565464,
          1.002994314908721
         ]
        },
        {
         "fill": "tonexty",
         "fillcolor": "rgba(68, 68, 68, 0.3)",
         "line": {
          "width": 0
         },
         "marker": {
          "color": "#444"
         },
         "mode": "lines",
         "showlegend": false,
         "type": "scatter",
         "x": [
          0,
          50,
          100,
          150,
          200
         ],
         "y": [
          null,
          0.9650957075319553,
          0.9844869811253134,
          0.983194229552423,
          0.9825478537659776
         ]
        }
       ],
       "layout": {
        "hovermode": "x",
        "template": {
         "data": {
          "bar": [
           {
            "error_x": {
             "color": "#2a3f5f"
            },
            "error_y": {
             "color": "#2a3f5f"
            },
            "marker": {
             "line": {
              "color": "#E5ECF6",
              "width": 0.5
             }
            },
            "type": "bar"
           }
          ],
          "barpolar": [
           {
            "marker": {
             "line": {
              "color": "#E5ECF6",
              "width": 0.5
             }
            },
            "type": "barpolar"
           }
          ],
          "carpet": [
           {
            "aaxis": {
             "endlinecolor": "#2a3f5f",
             "gridcolor": "white",
             "linecolor": "white",
             "minorgridcolor": "white",
             "startlinecolor": "#2a3f5f"
            },
            "baxis": {
             "endlinecolor": "#2a3f5f",
             "gridcolor": "white",
             "linecolor": "white",
             "minorgridcolor": "white",
             "startlinecolor": "#2a3f5f"
            },
            "type": "carpet"
           }
          ],
          "choropleth": [
           {
            "colorbar": {
             "outlinewidth": 0,
             "ticks": ""
            },
            "type": "choropleth"
           }
          ],
          "contour": [
           {
            "colorbar": {
             "outlinewidth": 0,
             "ticks": ""
            },
            "colorscale": [
             [
              0,
              "#0d0887"
             ],
             [
              0.1111111111111111,
              "#46039f"
             ],
             [
              0.2222222222222222,
              "#7201a8"
             ],
             [
              0.3333333333333333,
              "#9c179e"
             ],
             [
              0.4444444444444444,
              "#bd3786"
             ],
             [
              0.5555555555555556,
              "#d8576b"
             ],
             [
              0.6666666666666666,
              "#ed7953"
             ],
             [
              0.7777777777777778,
              "#fb9f3a"
             ],
             [
              0.8888888888888888,
              "#fdca26"
             ],
             [
              1,
              "#f0f921"
             ]
            ],
            "type": "contour"
           }
          ],
          "contourcarpet": [
           {
            "colorbar": {
             "outlinewidth": 0,
             "ticks": ""
            },
            "type": "contourcarpet"
           }
          ],
          "heatmap": [
           {
            "colorbar": {
             "outlinewidth": 0,
             "ticks": ""
            },
            "colorscale": [
             [
              0,
              "#0d0887"
             ],
             [
              0.1111111111111111,
              "#46039f"
             ],
             [
              0.2222222222222222,
              "#7201a8"
             ],
             [
              0.3333333333333333,
              "#9c179e"
             ],
             [
              0.4444444444444444,
              "#bd3786"
             ],
             [
              0.5555555555555556,
              "#d8576b"
             ],
             [
              0.6666666666666666,
              "#ed7953"
             ],
             [
              0.7777777777777778,
              "#fb9f3a"
             ],
             [
              0.8888888888888888,
              "#fdca26"
             ],
             [
              1,
              "#f0f921"
             ]
            ],
            "type": "heatmap"
           }
          ],
          "heatmapgl": [
           {
            "colorbar": {
             "outlinewidth": 0,
             "ticks": ""
            },
            "colorscale": [
             [
              0,
              "#0d0887"
             ],
             [
              0.1111111111111111,
              "#46039f"
             ],
             [
              0.2222222222222222,
              "#7201a8"
             ],
             [
              0.3333333333333333,
              "#9c179e"
             ],
             [
              0.4444444444444444,
              "#bd3786"
             ],
             [
              0.5555555555555556,
              "#d8576b"
             ],
             [
              0.6666666666666666,
              "#ed7953"
             ],
             [
              0.7777777777777778,
              "#fb9f3a"
             ],
             [
              0.8888888888888888,
              "#fdca26"
             ],
             [
              1,
              "#f0f921"
             ]
            ],
            "type": "heatmapgl"
           }
          ],
          "histogram": [
           {
            "marker": {
             "colorbar": {
              "outlinewidth": 0,
              "ticks": ""
             }
            },
            "type": "histogram"
           }
          ],
          "histogram2d": [
           {
            "colorbar": {
             "outlinewidth": 0,
             "ticks": ""
            },
            "colorscale": [
             [
              0,
              "#0d0887"
             ],
             [
              0.1111111111111111,
              "#46039f"
             ],
             [
              0.2222222222222222,
              "#7201a8"
             ],
             [
              0.3333333333333333,
              "#9c179e"
             ],
             [
              0.4444444444444444,
              "#bd3786"
             ],
             [
              0.5555555555555556,
              "#d8576b"
             ],
             [
              0.6666666666666666,
              "#ed7953"
             ],
             [
              0.7777777777777778,
              "#fb9f3a"
             ],
             [
              0.8888888888888888,
              "#fdca26"
             ],
             [
              1,
              "#f0f921"
             ]
            ],
            "type": "histogram2d"
           }
          ],
          "histogram2dcontour": [
           {
            "colorbar": {
             "outlinewidth": 0,
             "ticks": ""
            },
            "colorscale": [
             [
              0,
              "#0d0887"
             ],
             [
              0.1111111111111111,
              "#46039f"
             ],
             [
              0.2222222222222222,
              "#7201a8"
             ],
             [
              0.3333333333333333,
              "#9c179e"
             ],
             [
              0.4444444444444444,
              "#bd3786"
             ],
             [
              0.5555555555555556,
              "#d8576b"
             ],
             [
              0.6666666666666666,
              "#ed7953"
             ],
             [
              0.7777777777777778,
              "#fb9f3a"
             ],
             [
              0.8888888888888888,
              "#fdca26"
             ],
             [
              1,
              "#f0f921"
             ]
            ],
            "type": "histogram2dcontour"
           }
          ],
          "mesh3d": [
           {
            "colorbar": {
             "outlinewidth": 0,
             "ticks": ""
            },
            "type": "mesh3d"
           }
          ],
          "parcoords": [
           {
            "line": {
             "colorbar": {
              "outlinewidth": 0,
              "ticks": ""
             }
            },
            "type": "parcoords"
           }
          ],
          "pie": [
           {
            "automargin": true,
            "type": "pie"
           }
          ],
          "scatter": [
           {
            "marker": {
             "colorbar": {
              "outlinewidth": 0,
              "ticks": ""
             }
            },
            "type": "scatter"
           }
          ],
          "scatter3d": [
           {
            "line": {
             "colorbar": {
              "outlinewidth": 0,
              "ticks": ""
             }
            },
            "marker": {
             "colorbar": {
              "outlinewidth": 0,
              "ticks": ""
             }
            },
            "type": "scatter3d"
           }
          ],
          "scattercarpet": [
           {
            "marker": {
             "colorbar": {
              "outlinewidth": 0,
              "ticks": ""
             }
            },
            "type": "scattercarpet"
           }
          ],
          "scattergeo": [
           {
            "marker": {
             "colorbar": {
              "outlinewidth": 0,
              "ticks": ""
             }
            },
            "type": "scattergeo"
           }
          ],
          "scattergl": [
           {
            "marker": {
             "colorbar": {
              "outlinewidth": 0,
              "ticks": ""
             }
            },
            "type": "scattergl"
           }
          ],
          "scattermapbox": [
           {
            "marker": {
             "colorbar": {
              "outlinewidth": 0,
              "ticks": ""
             }
            },
            "type": "scattermapbox"
           }
          ],
          "scatterpolar": [
           {
            "marker": {
             "colorbar": {
              "outlinewidth": 0,
              "ticks": ""
             }
            },
            "type": "scatterpolar"
           }
          ],
          "scatterpolargl": [
           {
            "marker": {
             "colorbar": {
              "outlinewidth": 0,
              "ticks": ""
             }
            },
            "type": "scatterpolargl"
           }
          ],
          "scatterternary": [
           {
            "marker": {
             "colorbar": {
              "outlinewidth": 0,
              "ticks": ""
             }
            },
            "type": "scatterternary"
           }
          ],
          "surface": [
           {
            "colorbar": {
             "outlinewidth": 0,
             "ticks": ""
            },
            "colorscale": [
             [
              0,
              "#0d0887"
             ],
             [
              0.1111111111111111,
              "#46039f"
             ],
             [
              0.2222222222222222,
              "#7201a8"
             ],
             [
              0.3333333333333333,
              "#9c179e"
             ],
             [
              0.4444444444444444,
              "#bd3786"
             ],
             [
              0.5555555555555556,
              "#d8576b"
             ],
             [
              0.6666666666666666,
              "#ed7953"
             ],
             [
              0.7777777777777778,
              "#fb9f3a"
             ],
             [
              0.8888888888888888,
              "#fdca26"
             ],
             [
              1,
              "#f0f921"
             ]
            ],
            "type": "surface"
           }
          ],
          "table": [
           {
            "cells": {
             "fill": {
              "color": "#EBF0F8"
             },
             "line": {
              "color": "white"
             }
            },
            "header": {
             "fill": {
              "color": "#C8D4E3"
             },
             "line": {
              "color": "white"
             }
            },
            "type": "table"
           }
          ]
         },
         "layout": {
          "annotationdefaults": {
           "arrowcolor": "#2a3f5f",
           "arrowhead": 0,
           "arrowwidth": 1
          },
          "autotypenumbers": "strict",
          "coloraxis": {
           "colorbar": {
            "outlinewidth": 0,
            "ticks": ""
           }
          },
          "colorscale": {
           "diverging": [
            [
             0,
             "#8e0152"
            ],
            [
             0.1,
             "#c51b7d"
            ],
            [
             0.2,
             "#de77ae"
            ],
            [
             0.3,
             "#f1b6da"
            ],
            [
             0.4,
             "#fde0ef"
            ],
            [
             0.5,
             "#f7f7f7"
            ],
            [
             0.6,
             "#e6f5d0"
            ],
            [
             0.7,
             "#b8e186"
            ],
            [
             0.8,
             "#7fbc41"
            ],
            [
             0.9,
             "#4d9221"
            ],
            [
             1,
             "#276419"
            ]
           ],
           "sequential": [
            [
             0,
             "#0d0887"
            ],
            [
             0.1111111111111111,
             "#46039f"
            ],
            [
             0.2222222222222222,
             "#7201a8"
            ],
            [
             0.3333333333333333,
             "#9c179e"
            ],
            [
             0.4444444444444444,
             "#bd3786"
            ],
            [
             0.5555555555555556,
             "#d8576b"
            ],
            [
             0.6666666666666666,
             "#ed7953"
            ],
            [
             0.7777777777777778,
             "#fb9f3a"
            ],
            [
             0.8888888888888888,
             "#fdca26"
            ],
            [
             1,
             "#f0f921"
            ]
           ],
           "sequentialminus": [
            [
             0,
             "#0d0887"
            ],
            [
             0.1111111111111111,
             "#46039f"
            ],
            [
             0.2222222222222222,
             "#7201a8"
            ],
            [
             0.3333333333333333,
             "#9c179e"
            ],
            [
             0.4444444444444444,
             "#bd3786"
            ],
            [
             0.5555555555555556,
             "#d8576b"
            ],
            [
             0.6666666666666666,
             "#ed7953"
            ],
            [
             0.7777777777777778,
             "#fb9f3a"
            ],
            [
             0.8888888888888888,
             "#fdca26"
            ],
            [
             1,
             "#f0f921"
            ]
           ]
          },
          "colorway": [
           "#636efa",
           "#EF553B",
           "#00cc96",
           "#ab63fa",
           "#FFA15A",
           "#19d3f3",
           "#FF6692",
           "#B6E880",
           "#FF97FF",
           "#FECB52"
          ],
          "font": {
           "color": "#2a3f5f"
          },
          "geo": {
           "bgcolor": "white",
           "lakecolor": "white",
           "landcolor": "#E5ECF6",
           "showlakes": true,
           "showland": true,
           "subunitcolor": "white"
          },
          "hoverlabel": {
           "align": "left"
          },
          "hovermode": "closest",
          "mapbox": {
           "style": "light"
          },
          "paper_bgcolor": "white",
          "plot_bgcolor": "#E5ECF6",
          "polar": {
           "angularaxis": {
            "gridcolor": "white",
            "linecolor": "white",
            "ticks": ""
           },
           "bgcolor": "#E5ECF6",
           "radialaxis": {
            "gridcolor": "white",
            "linecolor": "white",
            "ticks": ""
           }
          },
          "scene": {
           "xaxis": {
            "backgroundcolor": "#E5ECF6",
            "gridcolor": "white",
            "gridwidth": 2,
            "linecolor": "white",
            "showbackground": true,
            "ticks": "",
            "zerolinecolor": "white"
           },
           "yaxis": {
            "backgroundcolor": "#E5ECF6",
            "gridcolor": "white",
            "gridwidth": 2,
            "linecolor": "white",
            "showbackground": true,
            "ticks": "",
            "zerolinecolor": "white"
           },
           "zaxis": {
            "backgroundcolor": "#E5ECF6",
            "gridcolor": "white",
            "gridwidth": 2,
            "linecolor": "white",
            "showbackground": true,
            "ticks": "",
            "zerolinecolor": "white"
           }
          },
          "shapedefaults": {
           "line": {
            "color": "#2a3f5f"
           }
          },
          "ternary": {
           "aaxis": {
            "gridcolor": "white",
            "linecolor": "white",
            "ticks": ""
           },
           "baxis": {
            "gridcolor": "white",
            "linecolor": "white",
            "ticks": ""
           },
           "bgcolor": "#E5ECF6",
           "caxis": {
            "gridcolor": "white",
            "linecolor": "white",
            "ticks": ""
           }
          },
          "title": {
           "x": 0.05
          },
          "xaxis": {
           "automargin": true,
           "gridcolor": "white",
           "linecolor": "white",
           "ticks": "",
           "title": {
            "standoff": 15
           },
           "zerolinecolor": "white",
           "zerolinewidth": 2
          },
          "yaxis": {
           "automargin": true,
           "gridcolor": "white",
           "linecolor": "white",
           "ticks": "",
           "title": {
            "standoff": 15
           },
           "zerolinecolor": "white",
           "zerolinewidth": 2
          }
         }
        },
        "title": {
         "text": "GridSearchCV for n_estimators"
        },
        "yaxis": {
         "title": {
          "text": "Score"
         }
        }
       }
      },
      "text/html": "<div>                            <div id=\"71befdc2-3306-4d74-961f-2f38ce314b17\" class=\"plotly-graph-div\" style=\"height:525px; width:100%;\"></div>            <script type=\"text/javascript\">                require([\"plotly\"], function(Plotly) {                    window.PLOTLYENV=window.PLOTLYENV || {};                                    if (document.getElementById(\"71befdc2-3306-4d74-961f-2f38ce314b17\")) {                    Plotly.newPlot(                        \"71befdc2-3306-4d74-961f-2f38ce314b17\",                        [{\"line\": {\"color\": \"rgb(31, 119, 180)\"}, \"mode\": \"lines\", \"name\": \"test_auc\", \"type\": \"scatter\", \"x\": [0, 50, 100, 150, 200], \"y\": [null, 0.9855421686746988, 0.993574297188755, 0.9930388219544847, 0.9927710843373494]}, {\"line\": {\"width\": 0}, \"marker\": {\"color\": \"#444\"}, \"mode\": \"lines\", \"showlegend\": false, \"type\": \"scatter\", \"x\": [0, 50, 100, 150, 200], \"y\": [null, 1.0059886298174423, 1.0026616132521966, 1.0028834143565464, 1.002994314908721]}, {\"fill\": \"tonexty\", \"fillcolor\": \"rgba(68, 68, 68, 0.3)\", \"line\": {\"width\": 0}, \"marker\": {\"color\": \"#444\"}, \"mode\": \"lines\", \"showlegend\": false, \"type\": \"scatter\", \"x\": [0, 50, 100, 150, 200], \"y\": [null, 0.9650957075319553, 0.9844869811253134, 0.983194229552423, 0.9825478537659776]}],                        {\"hovermode\": \"x\", \"template\": {\"data\": {\"bar\": [{\"error_x\": {\"color\": \"#2a3f5f\"}, \"error_y\": {\"color\": \"#2a3f5f\"}, \"marker\": {\"line\": {\"color\": \"#E5ECF6\", \"width\": 0.5}}, \"type\": \"bar\"}], \"barpolar\": [{\"marker\": {\"line\": {\"color\": \"#E5ECF6\", \"width\": 0.5}}, \"type\": \"barpolar\"}], \"carpet\": [{\"aaxis\": {\"endlinecolor\": \"#2a3f5f\", \"gridcolor\": \"white\", \"linecolor\": \"white\", \"minorgridcolor\": \"white\", \"startlinecolor\": \"#2a3f5f\"}, \"baxis\": {\"endlinecolor\": \"#2a3f5f\", \"gridcolor\": \"white\", \"linecolor\": \"white\", \"minorgridcolor\": \"white\", \"startlinecolor\": \"#2a3f5f\"}, \"type\": \"carpet\"}], \"choropleth\": [{\"colorbar\": {\"outlinewidth\": 0, \"ticks\": \"\"}, \"type\": \"choropleth\"}], \"contour\": [{\"colorbar\": {\"outlinewidth\": 0, \"ticks\": \"\"}, \"colorscale\": [[0.0, \"#0d0887\"], [0.1111111111111111, \"#46039f\"], [0.2222222222222222, \"#7201a8\"], [0.3333333333333333, \"#9c179e\"], [0.4444444444444444, \"#bd3786\"], [0.5555555555555556, \"#d8576b\"], [0.6666666666666666, \"#ed7953\"], [0.7777777777777778, \"#fb9f3a\"], [0.8888888888888888, \"#fdca26\"], [1.0, \"#f0f921\"]], \"type\": \"contour\"}], \"contourcarpet\": [{\"colorbar\": {\"outlinewidth\": 0, \"ticks\": \"\"}, \"type\": \"contourcarpet\"}], \"heatmap\": [{\"colorbar\": {\"outlinewidth\": 0, \"ticks\": \"\"}, \"colorscale\": [[0.0, \"#0d0887\"], [0.1111111111111111, \"#46039f\"], [0.2222222222222222, \"#7201a8\"], [0.3333333333333333, \"#9c179e\"], [0.4444444444444444, \"#bd3786\"], [0.5555555555555556, \"#d8576b\"], [0.6666666666666666, \"#ed7953\"], [0.7777777777777778, \"#fb9f3a\"], [0.8888888888888888, \"#fdca26\"], [1.0, \"#f0f921\"]], \"type\": \"heatmap\"}], \"heatmapgl\": [{\"colorbar\": {\"outlinewidth\": 0, \"ticks\": \"\"}, \"colorscale\": [[0.0, \"#0d0887\"], [0.1111111111111111, \"#46039f\"], [0.2222222222222222, \"#7201a8\"], [0.3333333333333333, \"#9c179e\"], [0.4444444444444444, \"#bd3786\"], [0.5555555555555556, \"#d8576b\"], [0.6666666666666666, \"#ed7953\"], [0.7777777777777778, \"#fb9f3a\"], [0.8888888888888888, \"#fdca26\"], [1.0, \"#f0f921\"]], \"type\": \"heatmapgl\"}], \"histogram\": [{\"marker\": {\"colorbar\": {\"outlinewidth\": 0, \"ticks\": \"\"}}, \"type\": \"histogram\"}], \"histogram2d\": [{\"colorbar\": {\"outlinewidth\": 0, \"ticks\": \"\"}, \"colorscale\": [[0.0, \"#0d0887\"], [0.1111111111111111, \"#46039f\"], [0.2222222222222222, \"#7201a8\"], [0.3333333333333333, \"#9c179e\"], [0.4444444444444444, \"#bd3786\"], [0.5555555555555556, \"#d8576b\"], [0.6666666666666666, \"#ed7953\"], [0.7777777777777778, \"#fb9f3a\"], [0.8888888888888888, \"#fdca26\"], [1.0, \"#f0f921\"]], \"type\": \"histogram2d\"}], \"histogram2dcontour\": [{\"colorbar\": {\"outlinewidth\": 0, \"ticks\": \"\"}, \"colorscale\": [[0.0, \"#0d0887\"], [0.1111111111111111, \"#46039f\"], [0.2222222222222222, \"#7201a8\"], [0.3333333333333333, \"#9c179e\"], [0.4444444444444444, \"#bd3786\"], [0.5555555555555556, \"#d8576b\"], [0.6666666666666666, \"#ed7953\"], [0.7777777777777778, \"#fb9f3a\"], [0.8888888888888888, \"#fdca26\"], [1.0, \"#f0f921\"]], \"type\": \"histogram2dcontour\"}], \"mesh3d\": [{\"colorbar\": {\"outlinewidth\": 0, \"ticks\": \"\"}, \"type\": \"mesh3d\"}], \"parcoords\": [{\"line\": {\"colorbar\": {\"outlinewidth\": 0, \"ticks\": \"\"}}, \"type\": \"parcoords\"}], \"pie\": [{\"automargin\": true, \"type\": \"pie\"}], \"scatter\": [{\"marker\": {\"colorbar\": {\"outlinewidth\": 0, \"ticks\": \"\"}}, \"type\": \"scatter\"}], \"scatter3d\": [{\"line\": {\"colorbar\": {\"outlinewidth\": 0, \"ticks\": \"\"}}, \"marker\": {\"colorbar\": {\"outlinewidth\": 0, \"ticks\": \"\"}}, \"type\": \"scatter3d\"}], \"scattercarpet\": [{\"marker\": {\"colorbar\": {\"outlinewidth\": 0, \"ticks\": \"\"}}, \"type\": \"scattercarpet\"}], \"scattergeo\": [{\"marker\": {\"colorbar\": {\"outlinewidth\": 0, \"ticks\": \"\"}}, \"type\": \"scattergeo\"}], \"scattergl\": [{\"marker\": {\"colorbar\": {\"outlinewidth\": 0, \"ticks\": \"\"}}, \"type\": \"scattergl\"}], \"scattermapbox\": [{\"marker\": {\"colorbar\": {\"outlinewidth\": 0, \"ticks\": \"\"}}, \"type\": \"scattermapbox\"}], \"scatterpolar\": [{\"marker\": {\"colorbar\": {\"outlinewidth\": 0, \"ticks\": \"\"}}, \"type\": \"scatterpolar\"}], \"scatterpolargl\": [{\"marker\": {\"colorbar\": {\"outlinewidth\": 0, \"ticks\": \"\"}}, \"type\": \"scatterpolargl\"}], \"scatterternary\": [{\"marker\": {\"colorbar\": {\"outlinewidth\": 0, \"ticks\": \"\"}}, \"type\": \"scatterternary\"}], \"surface\": [{\"colorbar\": {\"outlinewidth\": 0, \"ticks\": \"\"}, \"colorscale\": [[0.0, \"#0d0887\"], [0.1111111111111111, \"#46039f\"], [0.2222222222222222, \"#7201a8\"], [0.3333333333333333, \"#9c179e\"], [0.4444444444444444, \"#bd3786\"], [0.5555555555555556, \"#d8576b\"], [0.6666666666666666, \"#ed7953\"], [0.7777777777777778, \"#fb9f3a\"], [0.8888888888888888, \"#fdca26\"], [1.0, \"#f0f921\"]], \"type\": \"surface\"}], \"table\": [{\"cells\": {\"fill\": {\"color\": \"#EBF0F8\"}, \"line\": {\"color\": \"white\"}}, \"header\": {\"fill\": {\"color\": \"#C8D4E3\"}, \"line\": {\"color\": \"white\"}}, \"type\": \"table\"}]}, \"layout\": {\"annotationdefaults\": {\"arrowcolor\": \"#2a3f5f\", \"arrowhead\": 0, \"arrowwidth\": 1}, \"autotypenumbers\": \"strict\", \"coloraxis\": {\"colorbar\": {\"outlinewidth\": 0, \"ticks\": \"\"}}, \"colorscale\": {\"diverging\": [[0, \"#8e0152\"], [0.1, \"#c51b7d\"], [0.2, \"#de77ae\"], [0.3, \"#f1b6da\"], [0.4, \"#fde0ef\"], [0.5, \"#f7f7f7\"], [0.6, \"#e6f5d0\"], [0.7, \"#b8e186\"], [0.8, \"#7fbc41\"], [0.9, \"#4d9221\"], [1, \"#276419\"]], \"sequential\": [[0.0, \"#0d0887\"], [0.1111111111111111, \"#46039f\"], [0.2222222222222222, \"#7201a8\"], [0.3333333333333333, \"#9c179e\"], [0.4444444444444444, \"#bd3786\"], [0.5555555555555556, \"#d8576b\"], [0.6666666666666666, \"#ed7953\"], [0.7777777777777778, \"#fb9f3a\"], [0.8888888888888888, \"#fdca26\"], [1.0, \"#f0f921\"]], \"sequentialminus\": [[0.0, \"#0d0887\"], [0.1111111111111111, \"#46039f\"], [0.2222222222222222, \"#7201a8\"], [0.3333333333333333, \"#9c179e\"], [0.4444444444444444, \"#bd3786\"], [0.5555555555555556, \"#d8576b\"], [0.6666666666666666, \"#ed7953\"], [0.7777777777777778, \"#fb9f3a\"], [0.8888888888888888, \"#fdca26\"], [1.0, \"#f0f921\"]]}, \"colorway\": [\"#636efa\", \"#EF553B\", \"#00cc96\", \"#ab63fa\", \"#FFA15A\", \"#19d3f3\", \"#FF6692\", \"#B6E880\", \"#FF97FF\", \"#FECB52\"], \"font\": {\"color\": \"#2a3f5f\"}, \"geo\": {\"bgcolor\": \"white\", \"lakecolor\": \"white\", \"landcolor\": \"#E5ECF6\", \"showlakes\": true, \"showland\": true, \"subunitcolor\": \"white\"}, \"hoverlabel\": {\"align\": \"left\"}, \"hovermode\": \"closest\", \"mapbox\": {\"style\": \"light\"}, \"paper_bgcolor\": \"white\", \"plot_bgcolor\": \"#E5ECF6\", \"polar\": {\"angularaxis\": {\"gridcolor\": \"white\", \"linecolor\": \"white\", \"ticks\": \"\"}, \"bgcolor\": \"#E5ECF6\", \"radialaxis\": {\"gridcolor\": \"white\", \"linecolor\": \"white\", \"ticks\": \"\"}}, \"scene\": {\"xaxis\": {\"backgroundcolor\": \"#E5ECF6\", \"gridcolor\": \"white\", \"gridwidth\": 2, \"linecolor\": \"white\", \"showbackground\": true, \"ticks\": \"\", \"zerolinecolor\": \"white\"}, \"yaxis\": {\"backgroundcolor\": \"#E5ECF6\", \"gridcolor\": \"white\", \"gridwidth\": 2, \"linecolor\": \"white\", \"showbackground\": true, \"ticks\": \"\", \"zerolinecolor\": \"white\"}, \"zaxis\": {\"backgroundcolor\": \"#E5ECF6\", \"gridcolor\": \"white\", \"gridwidth\": 2, \"linecolor\": \"white\", \"showbackground\": true, \"ticks\": \"\", \"zerolinecolor\": \"white\"}}, \"shapedefaults\": {\"line\": {\"color\": \"#2a3f5f\"}}, \"ternary\": {\"aaxis\": {\"gridcolor\": \"white\", \"linecolor\": \"white\", \"ticks\": \"\"}, \"baxis\": {\"gridcolor\": \"white\", \"linecolor\": \"white\", \"ticks\": \"\"}, \"bgcolor\": \"#E5ECF6\", \"caxis\": {\"gridcolor\": \"white\", \"linecolor\": \"white\", \"ticks\": \"\"}}, \"title\": {\"x\": 0.05}, \"xaxis\": {\"automargin\": true, \"gridcolor\": \"white\", \"linecolor\": \"white\", \"ticks\": \"\", \"title\": {\"standoff\": 15}, \"zerolinecolor\": \"white\", \"zerolinewidth\": 2}, \"yaxis\": {\"automargin\": true, \"gridcolor\": \"white\", \"linecolor\": \"white\", \"ticks\": \"\", \"title\": {\"standoff\": 15}, \"zerolinecolor\": \"white\", \"zerolinewidth\": 2}}}, \"title\": {\"text\": \"GridSearchCV for n_estimators\"}, \"yaxis\": {\"title\": {\"text\": \"Score\"}}},                        {\"responsive\": true}                    ).then(function(){\n                            \nvar gd = document.getElementById('71befdc2-3306-4d74-961f-2f38ce314b17');\nvar x = new MutationObserver(function (mutations, observer) {{\n        var display = window.getComputedStyle(gd).display;\n        if (!display || display === 'none') {{\n            console.log([gd, 'removed!']);\n            Plotly.purge(gd);\n            observer.disconnect();\n        }}\n}});\n\n// Listen for the removal of the full notebook cells\nvar notebookContainer = gd.closest('#notebook-container');\nif (notebookContainer) {{\n    x.observe(notebookContainer, {childList: true});\n}}\n\n// Listen for the clearing of the current output cell\nvar outputEl = gd.closest('.output');\nif (outputEl) {{\n    x.observe(outputEl, {childList: true});\n}}\n\n                        })                };                });            </script>        </div>"
     },
     "metadata": {}
    }
   ],
   "source": [
    "fig = go.Figure([\n",
    "    go.Scatter(\n",
    "        name='test_auc',\n",
    "        x=gs_ada_df['n_estimators'],\n",
    "        y=gs_ada_df['mean_test_AUC'],\n",
    "        mode='lines',\n",
    "        line=dict(color='rgb(31, 119, 180)'),\n",
    "    ),\n",
    "    go.Scatter(\n",
    "        x=gs_ada_df['n_estimators'],\n",
    "        y=gs_ada_df['mean_test_AUC']+gs_ada_df['std_test_AUC'],\n",
    "        mode='lines',\n",
    "        marker=dict(color=\"#444\"),\n",
    "        line=dict(width=0),\n",
    "        showlegend=False\n",
    "    ),\n",
    "    go.Scatter(\n",
    "        x=gs_ada_df['n_estimators'],\n",
    "        y=gs_ada_df['mean_test_AUC']-gs_ada_df['std_test_AUC'],\n",
    "        marker=dict(color=\"#444\"),\n",
    "        line=dict(width=0),\n",
    "        mode='lines',\n",
    "        fillcolor='rgba(68, 68, 68, 0.3)',\n",
    "        fill='tonexty',\n",
    "        showlegend=False\n",
    "    )\n",
    "])\n",
    "fig.update_layout(\n",
    "    yaxis_title='Score',\n",
    "    title='GridSearchCV for n_estimators',\n",
    "    hovermode=\"x\"\n",
    ")\n",
    "fig.show()"
   ]
  },
  {
   "cell_type": "code",
   "execution_count": 55,
   "metadata": {},
   "outputs": [
    {
     "output_type": "stream",
     "name": "stdout",
     "text": [
      "Accuracy for optimized ada: 0.6521739130434783\nROC AUC for optimized ada: 0.5333333333333333\n"
     ]
    }
   ],
   "source": [
    "# DecisionTreeClassifier\n",
    "\n",
    "scoring = {'AUC': 'roc_auc', 'Accuracy': make_scorer(accuracy_score), 'Precision': make_scorer(precision_score), 'Recall': make_scorer(recall_score)}\n",
    "\n",
    "param_grid = {\n",
    "    'max_depth': [None, 2, 4, 6, 8],\n",
    "    'min_samples_split': [2, 10, 25, 50],\n",
    "    'max_features': [None, 'log2', 'sqrt']\n",
    "}\n",
    "\n",
    "dtc = DecisionTreeClassifier(random_state=42)\n",
    "\n",
    "gs_dtc = GridSearchCV(estimator=dtc, \n",
    "                      param_grid=param_grid,\n",
    "                      scoring=scoring,\n",
    "                      refit='AUC',\n",
    "                      return_train_score=True,\n",
    "                      cv=3)\n",
    "gs_dtc.fit(X_train, y_train)\n",
    "y_pred = gs_dtc.predict(X_test)\n",
    "\n",
    "print('Accuracy for optimized ada: {}'.format(accuracy_score(y_test, y_pred)))\n",
    "#print('F1 score for optimized ada: {}'.format(f1_score(y_test, y_pred)))\n",
    "print('ROC AUC for optimized ada: {}'.format(roc_auc_score(y_test, y_pred)))"
   ]
  },
  {
   "cell_type": "code",
   "execution_count": 61,
   "metadata": {},
   "outputs": [],
   "source": [
    "def xgb_classifier(n_estimators, max_depth, reg_alpha,\n",
    "                   reg_lambda, eta, subsample, colsample_bytree,\n",
    "                   gamma):\n",
    "    params = {\"booster\": 'gbtree',\n",
    "              \"objective\" : \"binary:logistic\",\n",
    "              \"eval_metric\" : \"auc\", \n",
    "              \"is_unbalance\": True,\n",
    "              \"n_estimators\": int(n_estimators),\n",
    "              \"max_depth\" : int(max_depth),\n",
    "              \"reg_alpha\" : reg_alpha,\n",
    "              \"reg_lambda\" : reg_lambda,\n",
    "              \"gamma\": gamma,\n",
    "              \"num_threads\" : 20,\n",
    "              \"subsample\" : subsample,\n",
    "              \"learning_rate\" : 0.01,\n",
    "              \"subsample_freq\" : 5,\n",
    "              \"seed\" : 42,\n",
    "              \"verbosity\" : 0,\n",
    "              \"colsmaple_bytree\": colsample_bytree}\n",
    "    train_data = xgboost.DMatrix(X_train, y_train)\n",
    "    cv_result = xgboost.cv(params,\n",
    "                       train_data,\n",
    "                       1000,\n",
    "                       early_stopping_rounds=100,\n",
    "                       stratified=True,\n",
    "                       nfold=3)\n",
    "    return cv_result['test-auc-mean'].iloc[-1]"
   ]
  },
  {
   "cell_type": "code",
   "execution_count": 62,
   "metadata": {},
   "outputs": [
    {
     "output_type": "stream",
     "name": "stdout",
     "text": [
      "|   iter    |  target   | colsam... |    eta    |   gamma   | max_depth | n_esti... | reg_alpha | reg_la... | subsample |\n",
      "-------------------------------------------------------------------------------------------------------------------------\n",
      "| \u001b[0m 1       \u001b[0m | \u001b[0m 0.9938  \u001b[0m | \u001b[0m 0.2667  \u001b[0m | \u001b[0m 0.6612  \u001b[0m | \u001b[0m 0.08015 \u001b[0m | \u001b[0m 5.545   \u001b[0m | \u001b[0m 88.11   \u001b[0m | \u001b[0m 0.885   \u001b[0m | \u001b[0m 0.2321  \u001b[0m | \u001b[0m 0.4852  \u001b[0m |\n",
      "| \u001b[0m 2       \u001b[0m | \u001b[0m 0.9835  \u001b[0m | \u001b[0m 0.863   \u001b[0m | \u001b[0m 0.8477  \u001b[0m | \u001b[0m 6.507   \u001b[0m | \u001b[0m 15.17   \u001b[0m | \u001b[0m 69.85   \u001b[0m | \u001b[0m 0.67    \u001b[0m | \u001b[0m 0.168   \u001b[0m | \u001b[0m 0.7334  \u001b[0m |\n",
      "| \u001b[0m 3       \u001b[0m | \u001b[0m 0.9637  \u001b[0m | \u001b[0m 0.1834  \u001b[0m | \u001b[0m 0.1433  \u001b[0m | \u001b[0m 1.159   \u001b[0m | \u001b[0m 5.98    \u001b[0m | \u001b[0m 88.27   \u001b[0m | \u001b[0m 0.4095  \u001b[0m | \u001b[0m 0.4678  \u001b[0m | \u001b[0m 0.0888  \u001b[0m |\n",
      "| \u001b[0m 4       \u001b[0m | \u001b[0m 0.9908  \u001b[0m | \u001b[0m 0.4847  \u001b[0m | \u001b[0m 0.04647 \u001b[0m | \u001b[0m 0.943   \u001b[0m | \u001b[0m 28.2    \u001b[0m | \u001b[0m 24.19   \u001b[0m | \u001b[0m 0.8994  \u001b[0m | \u001b[0m 0.1745  \u001b[0m | \u001b[0m 0.2879  \u001b[0m |\n",
      "| \u001b[0m 5       \u001b[0m | \u001b[0m 0.9858  \u001b[0m | \u001b[0m 0.9023  \u001b[0m | \u001b[0m 0.8414  \u001b[0m | \u001b[0m 8.859   \u001b[0m | \u001b[0m 24.36   \u001b[0m | \u001b[0m 32.9    \u001b[0m | \u001b[0m 0.2976  \u001b[0m | \u001b[0m 0.1774  \u001b[0m | \u001b[0m 0.2979  \u001b[0m |\n",
      "| \u001b[95m 6       \u001b[0m | \u001b[95m 0.9946  \u001b[0m | \u001b[95m 0.8089  \u001b[0m | \u001b[95m 0.01809 \u001b[0m | \u001b[95m 0.9123  \u001b[0m | \u001b[95m 12.53   \u001b[0m | \u001b[95m 80.44   \u001b[0m | \u001b[95m 0.5798  \u001b[0m | \u001b[95m 0.5389  \u001b[0m | \u001b[95m 0.8354  \u001b[0m |\n",
      "| \u001b[0m 7       \u001b[0m | \u001b[0m 0.9833  \u001b[0m | \u001b[0m 0.1823  \u001b[0m | \u001b[0m 0.00346 \u001b[0m | \u001b[0m 4.072   \u001b[0m | \u001b[0m 9.5     \u001b[0m | \u001b[0m 99.28   \u001b[0m | \u001b[0m 0.2124  \u001b[0m | \u001b[0m 0.7208  \u001b[0m | \u001b[0m 0.7455  \u001b[0m |\n",
      "| \u001b[0m 8       \u001b[0m | \u001b[0m 0.9928  \u001b[0m | \u001b[0m 0.9179  \u001b[0m | \u001b[0m 0.1472  \u001b[0m | \u001b[0m 2.207   \u001b[0m | \u001b[0m 11.99   \u001b[0m | \u001b[0m 94.04   \u001b[0m | \u001b[0m 0.94    \u001b[0m | \u001b[0m 0.8351  \u001b[0m | \u001b[0m 0.7811  \u001b[0m |\n",
      "| \u001b[0m 9       \u001b[0m | \u001b[0m 0.9835  \u001b[0m | \u001b[0m 0.8865  \u001b[0m | \u001b[0m 0.774   \u001b[0m | \u001b[0m 2.037   \u001b[0m | \u001b[0m 12.58   \u001b[0m | \u001b[0m 94.13   \u001b[0m | \u001b[0m 0.6502  \u001b[0m | \u001b[0m 0.5905  \u001b[0m | \u001b[0m 0.8373  \u001b[0m |\n",
      "| \u001b[0m 10      \u001b[0m | \u001b[0m 0.9906  \u001b[0m | \u001b[0m 0.6101  \u001b[0m | \u001b[0m 0.3898  \u001b[0m | \u001b[0m 5.602   \u001b[0m | \u001b[0m 3.129   \u001b[0m | \u001b[0m 87.56   \u001b[0m | \u001b[0m 0.0533  \u001b[0m | \u001b[0m 0.05381 \u001b[0m | \u001b[0m 0.3173  \u001b[0m |\n",
      "| \u001b[0m 11      \u001b[0m | \u001b[0m 0.9905  \u001b[0m | \u001b[0m 0.9443  \u001b[0m | \u001b[0m 0.767   \u001b[0m | \u001b[0m 2.416   \u001b[0m | \u001b[0m 28.12   \u001b[0m | \u001b[0m 86.24   \u001b[0m | \u001b[0m 0.1325  \u001b[0m | \u001b[0m 0.4665  \u001b[0m | \u001b[0m 0.3339  \u001b[0m |\n",
      "| \u001b[95m 12      \u001b[0m | \u001b[95m 0.9954  \u001b[0m | \u001b[95m 0.2343  \u001b[0m | \u001b[95m 0.04669 \u001b[0m | \u001b[95m 2.556   \u001b[0m | \u001b[95m 10.46   \u001b[0m | \u001b[95m 78.65   \u001b[0m | \u001b[95m 0.4676  \u001b[0m | \u001b[95m 0.8568  \u001b[0m | \u001b[95m 0.4784  \u001b[0m |\n",
      "| \u001b[0m 13      \u001b[0m | \u001b[0m 0.9906  \u001b[0m | \u001b[0m 0.09236 \u001b[0m | \u001b[0m 0.1045  \u001b[0m | \u001b[0m 1.944   \u001b[0m | \u001b[0m 7.352   \u001b[0m | \u001b[0m 33.08   \u001b[0m | \u001b[0m 0.7312  \u001b[0m | \u001b[0m 0.1754  \u001b[0m | \u001b[0m 0.292   \u001b[0m |\n",
      "| \u001b[0m 14      \u001b[0m | \u001b[0m 0.9879  \u001b[0m | \u001b[0m 0.6656  \u001b[0m | \u001b[0m 0.6104  \u001b[0m | \u001b[0m 9.198   \u001b[0m | \u001b[0m 9.937   \u001b[0m | \u001b[0m 47.46   \u001b[0m | \u001b[0m 0.5298  \u001b[0m | \u001b[0m 0.4456  \u001b[0m | \u001b[0m 0.3788  \u001b[0m |\n",
      "| \u001b[0m 15      \u001b[0m | \u001b[0m 0.9921  \u001b[0m | \u001b[0m 0.7215  \u001b[0m | \u001b[0m 0.0412  \u001b[0m | \u001b[0m 4.386   \u001b[0m | \u001b[0m 13.06   \u001b[0m | \u001b[0m 41.41   \u001b[0m | \u001b[0m 0.4056  \u001b[0m | \u001b[0m 0.3979  \u001b[0m | \u001b[0m 0.4544  \u001b[0m |\n",
      "| \u001b[0m 16      \u001b[0m | \u001b[0m 0.5     \u001b[0m | \u001b[0m 0.5175  \u001b[0m | \u001b[0m 0.7421  \u001b[0m | \u001b[0m 3.252   \u001b[0m | \u001b[0m 20.45   \u001b[0m | \u001b[0m 43.3    \u001b[0m | \u001b[0m 0.4661  \u001b[0m | \u001b[0m 0.7095  \u001b[0m | \u001b[0m 0.02214 \u001b[0m |\n",
      "| \u001b[0m 17      \u001b[0m | \u001b[0m 0.9834  \u001b[0m | \u001b[0m 0.3116  \u001b[0m | \u001b[0m 0.3276  \u001b[0m | \u001b[0m 6.15    \u001b[0m | \u001b[0m 6.096   \u001b[0m | \u001b[0m 40.57   \u001b[0m | \u001b[0m 0.9957  \u001b[0m | \u001b[0m 0.1569  \u001b[0m | \u001b[0m 0.7864  \u001b[0m |\n",
      "| \u001b[0m 18      \u001b[0m | \u001b[0m 0.9934  \u001b[0m | \u001b[0m 1.0     \u001b[0m | \u001b[0m 1.0     \u001b[0m | \u001b[0m 0.0     \u001b[0m | \u001b[0m 2.0     \u001b[0m | \u001b[0m 80.53   \u001b[0m | \u001b[0m 1.0     \u001b[0m | \u001b[0m 0.0     \u001b[0m | \u001b[0m 1.0     \u001b[0m |\n",
      "| \u001b[0m 19      \u001b[0m | \u001b[0m 0.9833  \u001b[0m | \u001b[0m 1.0     \u001b[0m | \u001b[0m 0.0     \u001b[0m | \u001b[0m 10.0    \u001b[0m | \u001b[0m 11.45   \u001b[0m | \u001b[0m 34.7    \u001b[0m | \u001b[0m 0.0     \u001b[0m | \u001b[0m 0.0     \u001b[0m | \u001b[0m 1.0     \u001b[0m |\n",
      "| \u001b[0m 20      \u001b[0m | \u001b[0m 0.9895  \u001b[0m | \u001b[0m 0.9482  \u001b[0m | \u001b[0m 0.5119  \u001b[0m | \u001b[0m 10.0    \u001b[0m | \u001b[0m 23.58   \u001b[0m | \u001b[0m 23.65   \u001b[0m | \u001b[0m 0.3795  \u001b[0m | \u001b[0m 0.0     \u001b[0m | \u001b[0m 0.6071  \u001b[0m |\n",
      "| \u001b[0m 21      \u001b[0m | \u001b[0m 0.9837  \u001b[0m | \u001b[0m 0.9794  \u001b[0m | \u001b[0m 0.8523  \u001b[0m | \u001b[0m 9.692   \u001b[0m | \u001b[0m 32.63   \u001b[0m | \u001b[0m 27.74   \u001b[0m | \u001b[0m 0.2594  \u001b[0m | \u001b[0m 0.01628 \u001b[0m | \u001b[0m 0.8355  \u001b[0m |\n",
      "| \u001b[0m 22      \u001b[0m | \u001b[0m 0.9906  \u001b[0m | \u001b[0m 0.4519  \u001b[0m | \u001b[0m 0.5601  \u001b[0m | \u001b[0m 6.568   \u001b[0m | \u001b[0m 20.8    \u001b[0m | \u001b[0m 79.58   \u001b[0m | \u001b[0m 0.9902  \u001b[0m | \u001b[0m 1.0     \u001b[0m | \u001b[0m 0.2563  \u001b[0m |\n",
      "=========================================================================================================================\n"
     ]
    }
   ],
   "source": [
    "xgbBO = BayesianOptimization(f=xgb_classifier, pbounds={\"n_estimators\": (10, 100),\n",
    "                                                'max_depth': (2, 40),\n",
    "                                                'reg_alpha': (0.0, 1.0),\n",
    "                                                'reg_lambda': (0.0, 1.0),\n",
    "                                                'subsample': (0.0, 1.0),\n",
    "                                                'colsample_bytree': (0.0, 1.0),\n",
    "                                                \"gamma\": (0, 10),\n",
    "                                                \"eta\": (0.0, 1.0)\n",
    "                                                })\n",
    "\n",
    "xgbBO.maximize(n_iter=20, init_points=2)"
   ]
  },
  {
   "cell_type": "code",
   "execution_count": 64,
   "metadata": {},
   "outputs": [
    {
     "output_type": "execute_result",
     "data": {
      "text/plain": [
       "{'target': 0.9954486666666668,\n",
       " 'params': {'colsample_bytree': 0.2343216957451688,\n",
       "  'eta': 0.04669333822714006,\n",
       "  'gamma': 2.5555177265462437,\n",
       "  'max_depth': 10.462639545982466,\n",
       "  'n_estimators': 78.65098797461586,\n",
       "  'reg_alpha': 0.4675631646332531,\n",
       "  'reg_lambda': 0.8568306106054115,\n",
       "  'subsample': 0.47842582456688165}}"
      ]
     },
     "metadata": {},
     "execution_count": 64
    }
   ],
   "source": [
    "xgbBO.max"
   ]
  },
  {
   "cell_type": "code",
   "execution_count": 71,
   "metadata": {},
   "outputs": [],
   "source": [
    "train_data = xgboost.DMatrix(X_train, y_train)\n",
    "params = xgbBO.max['params']\n",
    "params['objective'] = 'binary:logistic'\n",
    "params['max_depth'] = 10\n",
    "params['n_estimators'] = 80\n",
    "xgb_opt = xgboost.train(dtrain=train_data,\n",
    "                          params=params,\n",
    "                          #early_stopping_rounds=100,\n",
    "                          num_boost_round=1000)"
   ]
  },
  {
   "cell_type": "code",
   "execution_count": 75,
   "metadata": {},
   "outputs": [
    {
     "output_type": "stream",
     "name": "stdout",
     "text": [
      "ROC AUC for optimized ada: 0.6735632183908046\n"
     ]
    }
   ],
   "source": [
    "y_pred = xgb_opt.predict(xgboost.DMatrix(X_test))\n",
    "\n",
    "#print('Accuracy for optimized ada: {}'.format(accuracy_score(y_test, y_pred)))\n",
    "#print('F1 score for optimized ada: {}'.format(f1_score(y_test, y_pred)))\n",
    "print('ROC AUC for optimized ada: {}'.format(roc_auc_score(y_test, y_pred)))"
   ]
  },
  {
   "cell_type": "code",
   "execution_count": null,
   "metadata": {},
   "outputs": [],
   "source": []
  }
 ]
}