{
 "metadata": {
  "language_info": {
   "codemirror_mode": {
    "name": "ipython",
    "version": 3
   },
   "file_extension": ".py",
   "mimetype": "text/x-python",
   "name": "python",
   "nbconvert_exporter": "python",
   "pygments_lexer": "ipython3",
   "version": "3.8.3-final"
  },
  "orig_nbformat": 2,
  "kernelspec": {
   "name": "python3",
   "display_name": "Python 3.8.3 64-bit ('springboard_capstone_two': venv)",
   "metadata": {
    "interpreter": {
     "hash": "1474d2ceccc6981c1385943cdbe44b9985a06ccaa858e7fff270717edcc51f5d"
    }
   }
  }
 },
 "nbformat": 4,
 "nbformat_minor": 2,
 "cells": [
  {
   "cell_type": "code",
   "execution_count": 1,
   "metadata": {},
   "outputs": [
    {
     "output_type": "display_data",
     "data": {
      "text/html": "        <script type=\"text/javascript\">\n        window.PlotlyConfig = {MathJaxConfig: 'local'};\n        if (window.MathJax) {MathJax.Hub.Config({SVG: {font: \"STIX-Web\"}});}\n        if (typeof require !== 'undefined') {\n        require.undef(\"plotly\");\n        requirejs.config({\n            paths: {\n                'plotly': ['https://cdn.plot.ly/plotly-latest.min']\n            }\n        });\n        require(['plotly'], function(Plotly) {\n            window._Plotly = Plotly;\n        });\n        }\n        </script>\n        "
     },
     "metadata": {}
    }
   ],
   "source": [
    "import numpy as np \n",
    "import pandas as pd \n",
    "\n",
    "from sklearn.feature_extraction.text import CountVectorizer, TfidfVectorizer\n",
    "from sklearn.model_selection import train_test_split \n",
    "from sklearn.model_selection import KFold, train_test_split\n",
    "from sklearn.decomposition import PCA\n",
    "from sklearn.ensemble import AdaBoostClassifier\n",
    "from sklearn.tree import DecisionTreeClassifier\n",
    "from sklearn.model_selection import GridSearchCV\n",
    "from sklearn.metrics import make_scorer, accuracy_score, precision_score, recall_score, f1_score, roc_auc_score\n",
    "\n",
    "import lightgbm\n",
    "import xgboost\n",
    "\n",
    "from bayes_opt import BayesianOptimization\n",
    "\n",
    "import matplotlib.pyplot as plt \n",
    "import matplotlib.cm as cm \n",
    "import seaborn as sns \n",
    "\n",
    "# Plotly \n",
    "import plotly.express as px \n",
    "import plotly.graph_objects as go \n",
    "from plotly.offline import init_notebook_mode,iplot\n",
    "import cufflinks as cf\n",
    "init_notebook_mode(connected=True)\n",
    "\n",
    "from nltk.stem import WordNetLemmatizer\n",
    "from nltk.tokenize import TweetTokenizer, word_tokenize\n",
    "\n",
    "from collections import defaultdict\n",
    "\n",
    "from lazypredict.Supervised import LazyClassifier\n",
    "\n",
    "import imblearn"
   ]
  },
  {
   "cell_type": "code",
   "execution_count": 2,
   "metadata": {},
   "outputs": [],
   "source": [
    "df = pd.read_csv('../data/processed/tanishq_data_clean_labelled.csv')\n",
    "df.drop(['Unnamed: 0', 'Unnamed: 0.1'], inplace=True, axis=1)\n",
    "lemmatizer = WordNetLemmatizer()\n",
    "tokenizer = TweetTokenizer()\n",
    "df['clean_tweet_token'] = df['clean_tweet_segmented'].apply(lemmatizer.lemmatize).apply(tokenizer.tokenize)\n",
    "df['clean_tweet_token'] = df['clean_tweet_token'].str.join(' ')\n",
    "df = df[['clean_tweet_token', 'sentiment']]\n",
    "df.dropna(inplace=True)\n",
    "df = df[df['sentiment'].isin([0.0, 4.0])]\n",
    "df['sentiment'] = df['sentiment'].replace({4.0: 1})"
   ]
  },
  {
   "cell_type": "code",
   "execution_count": 3,
   "metadata": {},
   "outputs": [],
   "source": [
    "count_vec = CountVectorizer()\n",
    "X_count_vec = count_vec.fit_transform(df['clean_tweet_token'])\n",
    "y = df['sentiment'].values \n",
    "X_train, X_test, y_train, y_test = train_test_split(X_count_vec, y, test_size=0.25)"
   ]
  },
  {
   "cell_type": "code",
   "execution_count": 4,
   "metadata": {},
   "outputs": [],
   "source": [
    "def process_smote(X=None, y=None, sampling=None):\n",
    "    X, y = sampling.fit_resample(X, y)\n",
    "    pca = PCA(n_components=2).fit_transform(X.toarray())\n",
    "    df = pd.DataFrame(pca)\n",
    "    df.columns = ['X1', 'X2']\n",
    "    df['labels'] = y\n",
    "    return X, y, df"
   ]
  },
  {
   "cell_type": "code",
   "execution_count": 6,
   "metadata": {},
   "outputs": [
    {
     "output_type": "display_data",
     "data": {
      "text/plain": "<Figure size 432x288 with 1 Axes>",
      "image/svg+xml": "<?xml version=\"1.0\" encoding=\"utf-8\" standalone=\"no\"?>\n<!DOCTYPE svg PUBLIC \"-//W3C//DTD SVG 1.1//EN\"\n  \"http://www.w3.org/Graphics/SVG/1.1/DTD/svg11.dtd\">\n<!-- Created with matplotlib (https://matplotlib.org/) -->\n<svg height=\"310.879687pt\" version=\"1.1\" viewBox=\"0 0 662.655 310.879687\" width=\"662.655pt\" xmlns=\"http://www.w3.org/2000/svg\" xmlns:xlink=\"http://www.w3.org/1999/xlink\">\n <metadata>\n  <rdf:RDF xmlns:cc=\"http://creativecommons.org/ns#\" xmlns:dc=\"http://purl.org/dc/elements/1.1/\" xmlns:rdf=\"http://www.w3.org/1999/02/22-rdf-syntax-ns#\">\n   <cc:Work>\n    <dc:type rdf:resource=\"http://purl.org/dc/dcmitype/StillImage\"/>\n    <dc:date>2021-02-21T15:11:11.727653</dc:date>\n    <dc:format>image/svg+xml</dc:format>\n    <dc:creator>\n     <cc:Agent>\n      <dc:title>Matplotlib v3.3.4, https://matplotlib.org/</dc:title>\n     </cc:Agent>\n    </dc:creator>\n   </cc:Work>\n  </rdf:RDF>\n </metadata>\n <defs>\n  <style type=\"text/css\">*{stroke-linecap:butt;stroke-linejoin:round;}</style>\n </defs>\n <g id=\"figure_1\">\n  <g id=\"patch_1\">\n   <path d=\"M 0 310.879687 \nL 662.655 310.879687 \nL 662.655 0 \nL 0 0 \nz\n\" style=\"fill:#ffffff;\"/>\n  </g>\n  <g id=\"axes_1\">\n   <g id=\"patch_2\">\n    <path d=\"M 163.9275 248.11125 \nL 498.7275 248.11125 \nL 498.7275 30.67125 \nL 163.9275 30.67125 \nz\n\" style=\"fill:#eaeaf2;\"/>\n   </g>\n   <g id=\"matplotlib.axis_1\">\n    <g id=\"xtick_1\">\n     <g id=\"line2d_1\">\n      <path clip-path=\"url(#pc737cc968f)\" d=\"M 253.097493 248.11125 \nL 253.097493 30.67125 \n\" style=\"fill:none;stroke:#ffffff;stroke-linecap:round;\"/>\n     </g>\n     <g id=\"text_1\">\n      <!-- 0 -->\n      <g style=\"fill:#262626;\" transform=\"translate(246.980461 273.358437)scale(0.22 -0.22)\">\n       <defs>\n        <path d=\"M 4.15625 35.296875 \nQ 4.15625 48 6.765625 55.734375 \nQ 9.375 63.484375 14.515625 67.671875 \nQ 19.671875 71.875 27.484375 71.875 \nQ 33.25 71.875 37.59375 69.546875 \nQ 41.9375 67.234375 44.765625 62.859375 \nQ 47.609375 58.5 49.21875 52.21875 \nQ 50.828125 45.953125 50.828125 35.296875 \nQ 50.828125 22.703125 48.234375 14.96875 \nQ 45.65625 7.234375 40.5 3 \nQ 35.359375 -1.21875 27.484375 -1.21875 \nQ 17.140625 -1.21875 11.234375 6.203125 \nQ 4.15625 15.140625 4.15625 35.296875 \nz\nM 13.1875 35.296875 \nQ 13.1875 17.671875 17.3125 11.828125 \nQ 21.4375 6 27.484375 6 \nQ 33.546875 6 37.671875 11.859375 \nQ 41.796875 17.71875 41.796875 35.296875 \nQ 41.796875 52.984375 37.671875 58.78125 \nQ 33.546875 64.59375 27.390625 64.59375 \nQ 21.34375 64.59375 17.71875 59.46875 \nQ 13.1875 52.9375 13.1875 35.296875 \nz\n\" id=\"ArialMT-48\"/>\n       </defs>\n       <use xlink:href=\"#ArialMT-48\"/>\n      </g>\n     </g>\n    </g>\n    <g id=\"xtick_2\">\n     <g id=\"line2d_2\">\n      <path clip-path=\"url(#pc737cc968f)\" d=\"M 345.314499 248.11125 \nL 345.314499 30.67125 \n\" style=\"fill:none;stroke:#ffffff;stroke-linecap:round;\"/>\n     </g>\n     <g id=\"text_2\">\n      <!-- 2 -->\n      <g style=\"fill:#262626;\" transform=\"translate(339.197468 273.358437)scale(0.22 -0.22)\">\n       <defs>\n        <path d=\"M 50.34375 8.453125 \nL 50.34375 0 \nL 3.03125 0 \nQ 2.9375 3.171875 4.046875 6.109375 \nQ 5.859375 10.9375 9.828125 15.625 \nQ 13.8125 20.3125 21.34375 26.46875 \nQ 33.015625 36.03125 37.109375 41.625 \nQ 41.21875 47.21875 41.21875 52.203125 \nQ 41.21875 57.421875 37.46875 61 \nQ 33.734375 64.59375 27.734375 64.59375 \nQ 21.390625 64.59375 17.578125 60.78125 \nQ 13.765625 56.984375 13.71875 50.25 \nL 4.6875 51.171875 \nQ 5.609375 61.28125 11.65625 66.578125 \nQ 17.71875 71.875 27.9375 71.875 \nQ 38.234375 71.875 44.234375 66.15625 \nQ 50.25 60.453125 50.25 52 \nQ 50.25 47.703125 48.484375 43.546875 \nQ 46.734375 39.40625 42.65625 34.8125 \nQ 38.578125 30.21875 29.109375 22.21875 \nQ 21.1875 15.578125 18.9375 13.203125 \nQ 16.703125 10.84375 15.234375 8.453125 \nz\n\" id=\"ArialMT-50\"/>\n       </defs>\n       <use xlink:href=\"#ArialMT-50\"/>\n      </g>\n     </g>\n    </g>\n    <g id=\"xtick_3\">\n     <g id=\"line2d_3\">\n      <path clip-path=\"url(#pc737cc968f)\" d=\"M 437.531505 248.11125 \nL 437.531505 30.67125 \n\" style=\"fill:none;stroke:#ffffff;stroke-linecap:round;\"/>\n     </g>\n     <g id=\"text_3\">\n      <!-- 4 -->\n      <g style=\"fill:#262626;\" transform=\"translate(431.414474 273.358437)scale(0.22 -0.22)\">\n       <defs>\n        <path d=\"M 32.328125 0 \nL 32.328125 17.140625 \nL 1.265625 17.140625 \nL 1.265625 25.203125 \nL 33.9375 71.578125 \nL 41.109375 71.578125 \nL 41.109375 25.203125 \nL 50.78125 25.203125 \nL 50.78125 17.140625 \nL 41.109375 17.140625 \nL 41.109375 0 \nz\nM 32.328125 25.203125 \nL 32.328125 57.46875 \nL 9.90625 25.203125 \nz\n\" id=\"ArialMT-52\"/>\n       </defs>\n       <use xlink:href=\"#ArialMT-52\"/>\n      </g>\n     </g>\n    </g>\n    <g id=\"text_4\">\n     <!-- X1 -->\n     <g style=\"fill:#262626;\" transform=\"translate(316.65 298.909687)scale(0.24 -0.24)\">\n      <defs>\n       <path d=\"M 0.4375 0 \nL 28.125 37.3125 \nL 3.71875 71.578125 \nL 14.984375 71.578125 \nL 27.984375 53.21875 \nQ 32.03125 47.515625 33.734375 44.4375 \nQ 36.140625 48.34375 39.40625 52.59375 \nL 53.8125 71.578125 \nL 64.109375 71.578125 \nL 38.96875 37.84375 \nL 66.0625 0 \nL 54.34375 0 \nL 36.328125 25.53125 \nQ 34.8125 27.734375 33.203125 30.328125 \nQ 30.8125 26.421875 29.78125 24.953125 \nL 11.8125 0 \nz\n\" id=\"ArialMT-88\"/>\n       <path d=\"M 37.25 0 \nL 28.46875 0 \nL 28.46875 56 \nQ 25.296875 52.984375 20.140625 49.953125 \nQ 14.984375 46.921875 10.890625 45.40625 \nL 10.890625 53.90625 \nQ 18.265625 57.375 23.78125 62.296875 \nQ 29.296875 67.234375 31.59375 71.875 \nL 37.25 71.875 \nz\n\" id=\"ArialMT-49\"/>\n      </defs>\n      <use xlink:href=\"#ArialMT-88\"/>\n      <use x=\"66.699219\" xlink:href=\"#ArialMT-49\"/>\n     </g>\n    </g>\n   </g>\n   <g id=\"matplotlib.axis_2\">\n    <g id=\"ytick_1\">\n     <g id=\"line2d_4\">\n      <path clip-path=\"url(#pc737cc968f)\" d=\"M 163.9275 206.171765 \nL 498.7275 206.171765 \n\" style=\"fill:none;stroke:#ffffff;stroke-linecap:round;\"/>\n     </g>\n     <g id=\"text_5\">\n      <!-- 0 -->\n      <g style=\"fill:#262626;\" transform=\"translate(142.193438 214.045359)scale(0.22 -0.22)\">\n       <use xlink:href=\"#ArialMT-48\"/>\n      </g>\n     </g>\n    </g>\n    <g id=\"ytick_2\">\n     <g id=\"line2d_5\">\n      <path clip-path=\"url(#pc737cc968f)\" d=\"M 163.9275 125.546374 \nL 498.7275 125.546374 \n\" style=\"fill:none;stroke:#ffffff;stroke-linecap:round;\"/>\n     </g>\n     <g id=\"text_6\">\n      <!-- 5 -->\n      <g style=\"fill:#262626;\" transform=\"translate(142.193438 133.419967)scale(0.22 -0.22)\">\n       <defs>\n        <path d=\"M 4.15625 18.75 \nL 13.375 19.53125 \nQ 14.40625 12.796875 18.140625 9.390625 \nQ 21.875 6 27.15625 6 \nQ 33.5 6 37.890625 10.78125 \nQ 42.28125 15.578125 42.28125 23.484375 \nQ 42.28125 31 38.0625 35.34375 \nQ 33.84375 39.703125 27 39.703125 \nQ 22.75 39.703125 19.328125 37.765625 \nQ 15.921875 35.84375 13.96875 32.765625 \nL 5.71875 33.84375 \nL 12.640625 70.609375 \nL 48.25 70.609375 \nL 48.25 62.203125 \nL 19.671875 62.203125 \nL 15.828125 42.96875 \nQ 22.265625 47.46875 29.34375 47.46875 \nQ 38.71875 47.46875 45.15625 40.96875 \nQ 51.609375 34.46875 51.609375 24.265625 \nQ 51.609375 14.546875 45.953125 7.46875 \nQ 39.0625 -1.21875 27.15625 -1.21875 \nQ 17.390625 -1.21875 11.203125 4.25 \nQ 5.03125 9.71875 4.15625 18.75 \nz\n\" id=\"ArialMT-53\"/>\n       </defs>\n       <use xlink:href=\"#ArialMT-53\"/>\n      </g>\n     </g>\n    </g>\n    <g id=\"ytick_3\">\n     <g id=\"line2d_6\">\n      <path clip-path=\"url(#pc737cc968f)\" d=\"M 163.9275 44.920982 \nL 498.7275 44.920982 \n\" style=\"fill:none;stroke:#ffffff;stroke-linecap:round;\"/>\n     </g>\n     <g id=\"text_7\">\n      <!-- 10 -->\n      <g style=\"fill:#262626;\" transform=\"translate(129.959375 52.794576)scale(0.22 -0.22)\">\n       <use xlink:href=\"#ArialMT-49\"/>\n       <use x=\"55.615234\" xlink:href=\"#ArialMT-48\"/>\n      </g>\n     </g>\n    </g>\n    <g id=\"text_8\">\n     <!-- X2 -->\n     <g style=\"fill:#262626;\" transform=\"translate(121.189375 154.06875)rotate(-90)scale(0.24 -0.24)\">\n      <use xlink:href=\"#ArialMT-88\"/>\n      <use x=\"66.699219\" xlink:href=\"#ArialMT-50\"/>\n     </g>\n    </g>\n   </g>\n   <g id=\"PathCollection_1\">\n    <defs>\n     <path d=\"M 0 3 \nC 0.795609 3 1.55874 2.683901 2.12132 2.12132 \nC 2.683901 1.55874 3 0.795609 3 -0 \nC 3 -0.795609 2.683901 -1.55874 2.12132 -2.12132 \nC 1.55874 -2.683901 0.795609 -3 0 -3 \nC -0.795609 -3 -1.55874 -2.683901 -2.12132 -2.12132 \nC -2.683901 -1.55874 -3 -0.795609 -3 0 \nC -3 0.795609 -2.683901 1.55874 -2.12132 2.12132 \nC -1.55874 2.683901 -0.795609 3 0 3 \nz\n\" id=\"C0_0_055ca28208\"/>\n    </defs>\n    <g clip-path=\"url(#pc737cc968f)\">\n     <use style=\"fill:#001c7f;stroke:#ffffff;stroke-width:0.48;\" x=\"260.765144\" xlink:href=\"#C0_0_055ca28208\" y=\"206.574559\"/>\n    </g>\n    <g clip-path=\"url(#pc737cc968f)\">\n     <use style=\"fill:#001c7f;stroke:#ffffff;stroke-width:0.48;\" x=\"422.938862\" xlink:href=\"#C0_0_055ca28208\" y=\"233.126052\"/>\n    </g>\n    <g clip-path=\"url(#pc737cc968f)\">\n     <use style=\"fill:#001c7f;stroke:#ffffff;stroke-width:0.48;\" x=\"221.661393\" xlink:href=\"#C0_0_055ca28208\" y=\"196.18191\"/>\n    </g>\n    <g clip-path=\"url(#pc737cc968f)\">\n     <use style=\"fill:#001c7f;stroke:#ffffff;stroke-width:0.48;\" x=\"212.360476\" xlink:href=\"#C0_0_055ca28208\" y=\"220.391394\"/>\n    </g>\n    <g clip-path=\"url(#pc737cc968f)\">\n     <use style=\"fill:#001c7f;stroke:#ffffff;stroke-width:0.48;\" x=\"196.542012\" xlink:href=\"#C0_0_055ca28208\" y=\"209.105674\"/>\n    </g>\n    <g clip-path=\"url(#pc737cc968f)\">\n     <use style=\"fill:#001c7f;stroke:#ffffff;stroke-width:0.48;\" x=\"238.718154\" xlink:href=\"#C0_0_055ca28208\" y=\"220.483637\"/>\n    </g>\n    <g clip-path=\"url(#pc737cc968f)\">\n     <use style=\"fill:#001c7f;stroke:#ffffff;stroke-width:0.48;\" x=\"200.112292\" xlink:href=\"#C0_0_055ca28208\" y=\"224.365728\"/>\n    </g>\n    <g clip-path=\"url(#pc737cc968f)\">\n     <use style=\"fill:#001c7f;stroke:#ffffff;stroke-width:0.48;\" x=\"351.966801\" xlink:href=\"#C0_0_055ca28208\" y=\"189.218043\"/>\n    </g>\n    <g clip-path=\"url(#pc737cc968f)\">\n     <use style=\"fill:#001c7f;stroke:#ffffff;stroke-width:0.48;\" x=\"192.769214\" xlink:href=\"#C0_0_055ca28208\" y=\"185.954207\"/>\n    </g>\n    <g clip-path=\"url(#pc737cc968f)\">\n     <use style=\"fill:#001c7f;stroke:#ffffff;stroke-width:0.48;\" x=\"313.09811\" xlink:href=\"#C0_0_055ca28208\" y=\"236.967438\"/>\n    </g>\n    <g clip-path=\"url(#pc737cc968f)\">\n     <use style=\"fill:#001c7f;stroke:#ffffff;stroke-width:0.48;\" x=\"234.381263\" xlink:href=\"#C0_0_055ca28208\" y=\"221.33698\"/>\n    </g>\n    <g clip-path=\"url(#pc737cc968f)\">\n     <use style=\"fill:#001c7f;stroke:#ffffff;stroke-width:0.48;\" x=\"237.227142\" xlink:href=\"#C0_0_055ca28208\" y=\"193.123223\"/>\n    </g>\n    <g clip-path=\"url(#pc737cc968f)\">\n     <use style=\"fill:#001c7f;stroke:#ffffff;stroke-width:0.48;\" x=\"233.759029\" xlink:href=\"#C0_0_055ca28208\" y=\"214.576807\"/>\n    </g>\n    <g clip-path=\"url(#pc737cc968f)\">\n     <use style=\"fill:#001c7f;stroke:#ffffff;stroke-width:0.48;\" x=\"288.044893\" xlink:href=\"#C0_0_055ca28208\" y=\"194.734809\"/>\n    </g>\n    <g clip-path=\"url(#pc737cc968f)\">\n     <use style=\"fill:#001c7f;stroke:#ffffff;stroke-width:0.48;\" x=\"251.584498\" xlink:href=\"#C0_0_055ca28208\" y=\"217.740994\"/>\n    </g>\n    <g clip-path=\"url(#pc737cc968f)\">\n     <use style=\"fill:#001c7f;stroke:#ffffff;stroke-width:0.48;\" x=\"200.167189\" xlink:href=\"#C0_0_055ca28208\" y=\"181.694181\"/>\n    </g>\n    <g clip-path=\"url(#pc737cc968f)\">\n     <use style=\"fill:#001c7f;stroke:#ffffff;stroke-width:0.48;\" x=\"248.144039\" xlink:href=\"#C0_0_055ca28208\" y=\"212.492454\"/>\n    </g>\n    <g clip-path=\"url(#pc737cc968f)\">\n     <use style=\"fill:#001c7f;stroke:#ffffff;stroke-width:0.48;\" x=\"281.101236\" xlink:href=\"#C0_0_055ca28208\" y=\"224.068211\"/>\n    </g>\n    <g clip-path=\"url(#pc737cc968f)\">\n     <use style=\"fill:#001c7f;stroke:#ffffff;stroke-width:0.48;\" x=\"199.358935\" xlink:href=\"#C0_0_055ca28208\" y=\"218.138164\"/>\n    </g>\n    <g clip-path=\"url(#pc737cc968f)\">\n     <use style=\"fill:#001c7f;stroke:#ffffff;stroke-width:0.48;\" x=\"225.065216\" xlink:href=\"#C0_0_055ca28208\" y=\"223.831092\"/>\n    </g>\n    <g clip-path=\"url(#pc737cc968f)\">\n     <use style=\"fill:#001c7f;stroke:#ffffff;stroke-width:0.48;\" x=\"245.811983\" xlink:href=\"#C0_0_055ca28208\" y=\"197.619796\"/>\n    </g>\n    <g clip-path=\"url(#pc737cc968f)\">\n     <use style=\"fill:#001c7f;stroke:#ffffff;stroke-width:0.48;\" x=\"201.138196\" xlink:href=\"#C0_0_055ca28208\" y=\"207.215391\"/>\n    </g>\n    <g clip-path=\"url(#pc737cc968f)\">\n     <use style=\"fill:#001c7f;stroke:#ffffff;stroke-width:0.48;\" x=\"345.630451\" xlink:href=\"#C0_0_055ca28208\" y=\"222.710872\"/>\n    </g>\n    <g clip-path=\"url(#pc737cc968f)\">\n     <use style=\"fill:#001c7f;stroke:#ffffff;stroke-width:0.48;\" x=\"256.681354\" xlink:href=\"#C0_0_055ca28208\" y=\"237.761234\"/>\n    </g>\n    <g clip-path=\"url(#pc737cc968f)\">\n     <use style=\"fill:#001c7f;stroke:#ffffff;stroke-width:0.48;\" x=\"204.879226\" xlink:href=\"#C0_0_055ca28208\" y=\"202.604574\"/>\n    </g>\n    <g clip-path=\"url(#pc737cc968f)\">\n     <use style=\"fill:#001c7f;stroke:#ffffff;stroke-width:0.48;\" x=\"260.144984\" xlink:href=\"#C0_0_055ca28208\" y=\"213.676973\"/>\n    </g>\n    <g clip-path=\"url(#pc737cc968f)\">\n     <use style=\"fill:#001c7f;stroke:#ffffff;stroke-width:0.48;\" x=\"201.46038\" xlink:href=\"#C0_0_055ca28208\" y=\"190.311437\"/>\n    </g>\n    <g clip-path=\"url(#pc737cc968f)\">\n     <use style=\"fill:#001c7f;stroke:#ffffff;stroke-width:0.48;\" x=\"215.54784\" xlink:href=\"#C0_0_055ca28208\" y=\"215.922337\"/>\n    </g>\n    <g clip-path=\"url(#pc737cc968f)\">\n     <use style=\"fill:#001c7f;stroke:#ffffff;stroke-width:0.48;\" x=\"221.669784\" xlink:href=\"#C0_0_055ca28208\" y=\"188.471441\"/>\n    </g>\n    <g clip-path=\"url(#pc737cc968f)\">\n     <use style=\"fill:#001c7f;stroke:#ffffff;stroke-width:0.48;\" x=\"293.540586\" xlink:href=\"#C0_0_055ca28208\" y=\"196.803321\"/>\n    </g>\n    <g clip-path=\"url(#pc737cc968f)\">\n     <use style=\"fill:#001c7f;stroke:#ffffff;stroke-width:0.48;\" x=\"233.088437\" xlink:href=\"#C0_0_055ca28208\" y=\"189.63987\"/>\n    </g>\n    <g clip-path=\"url(#pc737cc968f)\">\n     <use style=\"fill:#001c7f;stroke:#ffffff;stroke-width:0.48;\" x=\"218.472729\" xlink:href=\"#C0_0_055ca28208\" y=\"196.365354\"/>\n    </g>\n    <g clip-path=\"url(#pc737cc968f)\">\n     <use style=\"fill:#001c7f;stroke:#ffffff;stroke-width:0.48;\" x=\"215.687078\" xlink:href=\"#C0_0_055ca28208\" y=\"223.461956\"/>\n    </g>\n    <g clip-path=\"url(#pc737cc968f)\">\n     <use style=\"fill:#001c7f;stroke:#ffffff;stroke-width:0.48;\" x=\"336.482955\" xlink:href=\"#C0_0_055ca28208\" y=\"210.4988\"/>\n    </g>\n    <g clip-path=\"url(#pc737cc968f)\">\n     <use style=\"fill:#001c7f;stroke:#ffffff;stroke-width:0.48;\" x=\"254.225253\" xlink:href=\"#C0_0_055ca28208\" y=\"162.521968\"/>\n    </g>\n    <g clip-path=\"url(#pc737cc968f)\">\n     <use style=\"fill:#001c7f;stroke:#ffffff;stroke-width:0.48;\" x=\"246.137728\" xlink:href=\"#C0_0_055ca28208\" y=\"221.646351\"/>\n    </g>\n    <g clip-path=\"url(#pc737cc968f)\">\n     <use style=\"fill:#001c7f;stroke:#ffffff;stroke-width:0.48;\" x=\"197.096983\" xlink:href=\"#C0_0_055ca28208\" y=\"220.520564\"/>\n    </g>\n    <g clip-path=\"url(#pc737cc968f)\">\n     <use style=\"fill:#001c7f;stroke:#ffffff;stroke-width:0.48;\" x=\"228.94255\" xlink:href=\"#C0_0_055ca28208\" y=\"196.176253\"/>\n    </g>\n    <g clip-path=\"url(#pc737cc968f)\">\n     <use style=\"fill:#001c7f;stroke:#ffffff;stroke-width:0.48;\" x=\"223.246532\" xlink:href=\"#C0_0_055ca28208\" y=\"221.311028\"/>\n    </g>\n    <g clip-path=\"url(#pc737cc968f)\">\n     <use style=\"fill:#001c7f;stroke:#ffffff;stroke-width:0.48;\" x=\"252.62171\" xlink:href=\"#C0_0_055ca28208\" y=\"209.098909\"/>\n    </g>\n    <g clip-path=\"url(#pc737cc968f)\">\n     <use style=\"fill:#001c7f;stroke:#ffffff;stroke-width:0.48;\" x=\"455.075667\" xlink:href=\"#C0_0_055ca28208\" y=\"201.981338\"/>\n    </g>\n    <g clip-path=\"url(#pc737cc968f)\">\n     <use style=\"fill:#001c7f;stroke:#ffffff;stroke-width:0.48;\" x=\"356.551786\" xlink:href=\"#C0_0_055ca28208\" y=\"177.991965\"/>\n    </g>\n    <g clip-path=\"url(#pc737cc968f)\">\n     <use style=\"fill:#b1400d;stroke:#ffffff;stroke-width:0.48;\" x=\"198.275519\" xlink:href=\"#C0_0_055ca28208\" y=\"211.684751\"/>\n    </g>\n    <g clip-path=\"url(#pc737cc968f)\">\n     <use style=\"fill:#001c7f;stroke:#ffffff;stroke-width:0.48;\" x=\"182.519053\" xlink:href=\"#C0_0_055ca28208\" y=\"186.650871\"/>\n    </g>\n    <g clip-path=\"url(#pc737cc968f)\">\n     <use style=\"fill:#001c7f;stroke:#ffffff;stroke-width:0.48;\" x=\"219.127622\" xlink:href=\"#C0_0_055ca28208\" y=\"184.720014\"/>\n    </g>\n    <g clip-path=\"url(#pc737cc968f)\">\n     <use style=\"fill:#001c7f;stroke:#ffffff;stroke-width:0.48;\" x=\"199.744534\" xlink:href=\"#C0_0_055ca28208\" y=\"186.384016\"/>\n    </g>\n    <g clip-path=\"url(#pc737cc968f)\">\n     <use style=\"fill:#001c7f;stroke:#ffffff;stroke-width:0.48;\" x=\"229.374904\" xlink:href=\"#C0_0_055ca28208\" y=\"222.925004\"/>\n    </g>\n    <g clip-path=\"url(#pc737cc968f)\">\n     <use style=\"fill:#001c7f;stroke:#ffffff;stroke-width:0.48;\" x=\"219.775202\" xlink:href=\"#C0_0_055ca28208\" y=\"215.83883\"/>\n    </g>\n    <g clip-path=\"url(#pc737cc968f)\">\n     <use style=\"fill:#001c7f;stroke:#ffffff;stroke-width:0.48;\" x=\"191.592035\" xlink:href=\"#C0_0_055ca28208\" y=\"221.492086\"/>\n    </g>\n    <g clip-path=\"url(#pc737cc968f)\">\n     <use style=\"fill:#001c7f;stroke:#ffffff;stroke-width:0.48;\" x=\"340.855413\" xlink:href=\"#C0_0_055ca28208\" y=\"221.279129\"/>\n    </g>\n    <g clip-path=\"url(#pc737cc968f)\">\n     <use style=\"fill:#001c7f;stroke:#ffffff;stroke-width:0.48;\" x=\"286.820631\" xlink:href=\"#C0_0_055ca28208\" y=\"216.787228\"/>\n    </g>\n    <g clip-path=\"url(#pc737cc968f)\">\n     <use style=\"fill:#b1400d;stroke:#ffffff;stroke-width:0.48;\" x=\"323.841295\" xlink:href=\"#C0_0_055ca28208\" y=\"212.269862\"/>\n    </g>\n    <g clip-path=\"url(#pc737cc968f)\">\n     <use style=\"fill:#001c7f;stroke:#ffffff;stroke-width:0.48;\" x=\"220.884124\" xlink:href=\"#C0_0_055ca28208\" y=\"196.148102\"/>\n    </g>\n    <g clip-path=\"url(#pc737cc968f)\">\n     <use style=\"fill:#001c7f;stroke:#ffffff;stroke-width:0.48;\" x=\"252.984621\" xlink:href=\"#C0_0_055ca28208\" y=\"222.135775\"/>\n    </g>\n    <g clip-path=\"url(#pc737cc968f)\">\n     <use style=\"fill:#001c7f;stroke:#ffffff;stroke-width:0.48;\" x=\"216.882438\" xlink:href=\"#C0_0_055ca28208\" y=\"186.428393\"/>\n    </g>\n    <g clip-path=\"url(#pc737cc968f)\">\n     <use style=\"fill:#001c7f;stroke:#ffffff;stroke-width:0.48;\" x=\"197.999418\" xlink:href=\"#C0_0_055ca28208\" y=\"211.122911\"/>\n    </g>\n    <g clip-path=\"url(#pc737cc968f)\">\n     <use style=\"fill:#001c7f;stroke:#ffffff;stroke-width:0.48;\" x=\"221.69023\" xlink:href=\"#C0_0_055ca28208\" y=\"186.48102\"/>\n    </g>\n    <g clip-path=\"url(#pc737cc968f)\">\n     <use style=\"fill:#001c7f;stroke:#ffffff;stroke-width:0.48;\" x=\"256.679931\" xlink:href=\"#C0_0_055ca28208\" y=\"222.350667\"/>\n    </g>\n    <g clip-path=\"url(#pc737cc968f)\">\n     <use style=\"fill:#001c7f;stroke:#ffffff;stroke-width:0.48;\" x=\"198.157483\" xlink:href=\"#C0_0_055ca28208\" y=\"222.053542\"/>\n    </g>\n    <g clip-path=\"url(#pc737cc968f)\">\n     <use style=\"fill:#b1400d;stroke:#ffffff;stroke-width:0.48;\" x=\"246.601271\" xlink:href=\"#C0_0_055ca28208\" y=\"236.384171\"/>\n    </g>\n    <g clip-path=\"url(#pc737cc968f)\">\n     <use style=\"fill:#001c7f;stroke:#ffffff;stroke-width:0.48;\" x=\"212.009721\" xlink:href=\"#C0_0_055ca28208\" y=\"158.747986\"/>\n    </g>\n    <g clip-path=\"url(#pc737cc968f)\">\n     <use style=\"fill:#001c7f;stroke:#ffffff;stroke-width:0.48;\" x=\"381.332004\" xlink:href=\"#C0_0_055ca28208\" y=\"202.044019\"/>\n    </g>\n    <g clip-path=\"url(#pc737cc968f)\">\n     <use style=\"fill:#001c7f;stroke:#ffffff;stroke-width:0.48;\" x=\"338.339518\" xlink:href=\"#C0_0_055ca28208\" y=\"193.377168\"/>\n    </g>\n    <g clip-path=\"url(#pc737cc968f)\">\n     <use style=\"fill:#001c7f;stroke:#ffffff;stroke-width:0.48;\" x=\"216.682646\" xlink:href=\"#C0_0_055ca28208\" y=\"183.790928\"/>\n    </g>\n    <g clip-path=\"url(#pc737cc968f)\">\n     <use style=\"fill:#b1400d;stroke:#ffffff;stroke-width:0.48;\" x=\"294.064575\" xlink:href=\"#C0_0_055ca28208\" y=\"173.091285\"/>\n    </g>\n    <g clip-path=\"url(#pc737cc968f)\">\n     <use style=\"fill:#001c7f;stroke:#ffffff;stroke-width:0.48;\" x=\"244.701652\" xlink:href=\"#C0_0_055ca28208\" y=\"208.398149\"/>\n    </g>\n    <g clip-path=\"url(#pc737cc968f)\">\n     <use style=\"fill:#001c7f;stroke:#ffffff;stroke-width:0.48;\" x=\"349.678008\" xlink:href=\"#C0_0_055ca28208\" y=\"192.876792\"/>\n    </g>\n    <g clip-path=\"url(#pc737cc968f)\">\n     <use style=\"fill:#001c7f;stroke:#ffffff;stroke-width:0.48;\" x=\"258.247809\" xlink:href=\"#C0_0_055ca28208\" y=\"225.298541\"/>\n    </g>\n    <g clip-path=\"url(#pc737cc968f)\">\n     <use style=\"fill:#001c7f;stroke:#ffffff;stroke-width:0.48;\" x=\"229.207592\" xlink:href=\"#C0_0_055ca28208\" y=\"192.252272\"/>\n    </g>\n    <g clip-path=\"url(#pc737cc968f)\">\n     <use style=\"fill:#001c7f;stroke:#ffffff;stroke-width:0.48;\" x=\"255.540013\" xlink:href=\"#C0_0_055ca28208\" y=\"221.416029\"/>\n    </g>\n    <g clip-path=\"url(#pc737cc968f)\">\n     <use style=\"fill:#001c7f;stroke:#ffffff;stroke-width:0.48;\" x=\"251.307027\" xlink:href=\"#C0_0_055ca28208\" y=\"227.463212\"/>\n    </g>\n    <g clip-path=\"url(#pc737cc968f)\">\n     <use style=\"fill:#001c7f;stroke:#ffffff;stroke-width:0.48;\" x=\"273.977477\" xlink:href=\"#C0_0_055ca28208\" y=\"200.05621\"/>\n    </g>\n    <g clip-path=\"url(#pc737cc968f)\">\n     <use style=\"fill:#001c7f;stroke:#ffffff;stroke-width:0.48;\" x=\"242.427858\" xlink:href=\"#C0_0_055ca28208\" y=\"224.691878\"/>\n    </g>\n    <g clip-path=\"url(#pc737cc968f)\">\n     <use style=\"fill:#001c7f;stroke:#ffffff;stroke-width:0.48;\" x=\"229.795253\" xlink:href=\"#C0_0_055ca28208\" y=\"216.362416\"/>\n    </g>\n    <g clip-path=\"url(#pc737cc968f)\">\n     <use style=\"fill:#001c7f;stroke:#ffffff;stroke-width:0.48;\" x=\"243.580456\" xlink:href=\"#C0_0_055ca28208\" y=\"208.06458\"/>\n    </g>\n    <g clip-path=\"url(#pc737cc968f)\">\n     <use style=\"fill:#b1400d;stroke:#ffffff;stroke-width:0.48;\" x=\"283.57239\" xlink:href=\"#C0_0_055ca28208\" y=\"223.425488\"/>\n    </g>\n    <g clip-path=\"url(#pc737cc968f)\">\n     <use style=\"fill:#001c7f;stroke:#ffffff;stroke-width:0.48;\" x=\"235.56065\" xlink:href=\"#C0_0_055ca28208\" y=\"221.419561\"/>\n    </g>\n    <g clip-path=\"url(#pc737cc968f)\">\n     <use style=\"fill:#001c7f;stroke:#ffffff;stroke-width:0.48;\" x=\"235.981107\" xlink:href=\"#C0_0_055ca28208\" y=\"183.821006\"/>\n    </g>\n    <g clip-path=\"url(#pc737cc968f)\">\n     <use style=\"fill:#001c7f;stroke:#ffffff;stroke-width:0.48;\" x=\"250.216276\" xlink:href=\"#C0_0_055ca28208\" y=\"206.29498\"/>\n    </g>\n    <g clip-path=\"url(#pc737cc968f)\">\n     <use style=\"fill:#001c7f;stroke:#ffffff;stroke-width:0.48;\" x=\"230.503592\" xlink:href=\"#C0_0_055ca28208\" y=\"221.704544\"/>\n    </g>\n    <g clip-path=\"url(#pc737cc968f)\">\n     <use style=\"fill:#001c7f;stroke:#ffffff;stroke-width:0.48;\" x=\"191.384604\" xlink:href=\"#C0_0_055ca28208\" y=\"196.417661\"/>\n    </g>\n    <g clip-path=\"url(#pc737cc968f)\">\n     <use style=\"fill:#001c7f;stroke:#ffffff;stroke-width:0.48;\" x=\"324.792651\" xlink:href=\"#C0_0_055ca28208\" y=\"201.3429\"/>\n    </g>\n    <g clip-path=\"url(#pc737cc968f)\">\n     <use style=\"fill:#001c7f;stroke:#ffffff;stroke-width:0.48;\" x=\"240.333061\" xlink:href=\"#C0_0_055ca28208\" y=\"157.258773\"/>\n    </g>\n    <g clip-path=\"url(#pc737cc968f)\">\n     <use style=\"fill:#001c7f;stroke:#ffffff;stroke-width:0.48;\" x=\"374.701685\" xlink:href=\"#C0_0_055ca28208\" y=\"180.850198\"/>\n    </g>\n    <g clip-path=\"url(#pc737cc968f)\">\n     <use style=\"fill:#001c7f;stroke:#ffffff;stroke-width:0.48;\" x=\"281.393757\" xlink:href=\"#C0_0_055ca28208\" y=\"196.188461\"/>\n    </g>\n    <g clip-path=\"url(#pc737cc968f)\">\n     <use style=\"fill:#001c7f;stroke:#ffffff;stroke-width:0.48;\" x=\"223.883029\" xlink:href=\"#C0_0_055ca28208\" y=\"209.700152\"/>\n    </g>\n    <g clip-path=\"url(#pc737cc968f)\">\n     <use style=\"fill:#001c7f;stroke:#ffffff;stroke-width:0.48;\" x=\"225.272535\" xlink:href=\"#C0_0_055ca28208\" y=\"227.88384\"/>\n    </g>\n    <g clip-path=\"url(#pc737cc968f)\">\n     <use style=\"fill:#001c7f;stroke:#ffffff;stroke-width:0.48;\" x=\"224.103944\" xlink:href=\"#C0_0_055ca28208\" y=\"226.150116\"/>\n    </g>\n    <g clip-path=\"url(#pc737cc968f)\">\n     <use style=\"fill:#001c7f;stroke:#ffffff;stroke-width:0.48;\" x=\"238.367473\" xlink:href=\"#C0_0_055ca28208\" y=\"198.51005\"/>\n    </g>\n    <g clip-path=\"url(#pc737cc968f)\">\n     <use style=\"fill:#001c7f;stroke:#ffffff;stroke-width:0.48;\" x=\"207.978804\" xlink:href=\"#C0_0_055ca28208\" y=\"221.078747\"/>\n    </g>\n    <g clip-path=\"url(#pc737cc968f)\">\n     <use style=\"fill:#001c7f;stroke:#ffffff;stroke-width:0.48;\" x=\"244.934853\" xlink:href=\"#C0_0_055ca28208\" y=\"206.849814\"/>\n    </g>\n    <g clip-path=\"url(#pc737cc968f)\">\n     <use style=\"fill:#001c7f;stroke:#ffffff;stroke-width:0.48;\" x=\"268.71567\" xlink:href=\"#C0_0_055ca28208\" y=\"213.641669\"/>\n    </g>\n    <g clip-path=\"url(#pc737cc968f)\">\n     <use style=\"fill:#001c7f;stroke:#ffffff;stroke-width:0.48;\" x=\"236.915396\" xlink:href=\"#C0_0_055ca28208\" y=\"218.179261\"/>\n    </g>\n    <g clip-path=\"url(#pc737cc968f)\">\n     <use style=\"fill:#001c7f;stroke:#ffffff;stroke-width:0.48;\" x=\"244.030769\" xlink:href=\"#C0_0_055ca28208\" y=\"208.038853\"/>\n    </g>\n    <g clip-path=\"url(#pc737cc968f)\">\n     <use style=\"fill:#001c7f;stroke:#ffffff;stroke-width:0.48;\" x=\"254.213384\" xlink:href=\"#C0_0_055ca28208\" y=\"209.899842\"/>\n    </g>\n    <g clip-path=\"url(#pc737cc968f)\">\n     <use style=\"fill:#001c7f;stroke:#ffffff;stroke-width:0.48;\" x=\"219.195785\" xlink:href=\"#C0_0_055ca28208\" y=\"198.119004\"/>\n    </g>\n    <g clip-path=\"url(#pc737cc968f)\">\n     <use style=\"fill:#001c7f;stroke:#ffffff;stroke-width:0.48;\" x=\"237.30476\" xlink:href=\"#C0_0_055ca28208\" y=\"198.061437\"/>\n    </g>\n    <g clip-path=\"url(#pc737cc968f)\">\n     <use style=\"fill:#001c7f;stroke:#ffffff;stroke-width:0.48;\" x=\"201.034409\" xlink:href=\"#C0_0_055ca28208\" y=\"197.699719\"/>\n    </g>\n    <g clip-path=\"url(#pc737cc968f)\">\n     <use style=\"fill:#001c7f;stroke:#ffffff;stroke-width:0.48;\" x=\"216.744082\" xlink:href=\"#C0_0_055ca28208\" y=\"207.982472\"/>\n    </g>\n    <g clip-path=\"url(#pc737cc968f)\">\n     <use style=\"fill:#001c7f;stroke:#ffffff;stroke-width:0.48;\" x=\"405.792838\" xlink:href=\"#C0_0_055ca28208\" y=\"194.754758\"/>\n    </g>\n    <g clip-path=\"url(#pc737cc968f)\">\n     <use style=\"fill:#b1400d;stroke:#ffffff;stroke-width:0.48;\" x=\"354.148474\" xlink:href=\"#C0_0_055ca28208\" y=\"209.625792\"/>\n    </g>\n    <g clip-path=\"url(#pc737cc968f)\">\n     <use style=\"fill:#001c7f;stroke:#ffffff;stroke-width:0.48;\" x=\"452.520526\" xlink:href=\"#C0_0_055ca28208\" y=\"180.804554\"/>\n    </g>\n    <g clip-path=\"url(#pc737cc968f)\">\n     <use style=\"fill:#001c7f;stroke:#ffffff;stroke-width:0.48;\" x=\"213.201341\" xlink:href=\"#C0_0_055ca28208\" y=\"224.21018\"/>\n    </g>\n    <g clip-path=\"url(#pc737cc968f)\">\n     <use style=\"fill:#b1400d;stroke:#ffffff;stroke-width:0.48;\" x=\"200.717171\" xlink:href=\"#C0_0_055ca28208\" y=\"236.405806\"/>\n    </g>\n    <g clip-path=\"url(#pc737cc968f)\">\n     <use style=\"fill:#001c7f;stroke:#ffffff;stroke-width:0.48;\" x=\"179.145682\" xlink:href=\"#C0_0_055ca28208\" y=\"187.051626\"/>\n    </g>\n    <g clip-path=\"url(#pc737cc968f)\">\n     <use style=\"fill:#001c7f;stroke:#ffffff;stroke-width:0.48;\" x=\"299.23894\" xlink:href=\"#C0_0_055ca28208\" y=\"222.314714\"/>\n    </g>\n    <g clip-path=\"url(#pc737cc968f)\">\n     <use style=\"fill:#001c7f;stroke:#ffffff;stroke-width:0.48;\" x=\"360.129719\" xlink:href=\"#C0_0_055ca28208\" y=\"219.959905\"/>\n    </g>\n    <g clip-path=\"url(#pc737cc968f)\">\n     <use style=\"fill:#001c7f;stroke:#ffffff;stroke-width:0.48;\" x=\"193.890707\" xlink:href=\"#C0_0_055ca28208\" y=\"221.554888\"/>\n    </g>\n    <g clip-path=\"url(#pc737cc968f)\">\n     <use style=\"fill:#001c7f;stroke:#ffffff;stroke-width:0.48;\" x=\"233.237361\" xlink:href=\"#C0_0_055ca28208\" y=\"220.284777\"/>\n    </g>\n    <g clip-path=\"url(#pc737cc968f)\">\n     <use style=\"fill:#001c7f;stroke:#ffffff;stroke-width:0.48;\" x=\"222.224744\" xlink:href=\"#C0_0_055ca28208\" y=\"176.864182\"/>\n    </g>\n    <g clip-path=\"url(#pc737cc968f)\">\n     <use style=\"fill:#001c7f;stroke:#ffffff;stroke-width:0.48;\" x=\"198.41444\" xlink:href=\"#C0_0_055ca28208\" y=\"212.335703\"/>\n    </g>\n    <g clip-path=\"url(#pc737cc968f)\">\n     <use style=\"fill:#001c7f;stroke:#ffffff;stroke-width:0.48;\" x=\"283.896773\" xlink:href=\"#C0_0_055ca28208\" y=\"214.210859\"/>\n    </g>\n    <g clip-path=\"url(#pc737cc968f)\">\n     <use style=\"fill:#001c7f;stroke:#ffffff;stroke-width:0.48;\" x=\"212.009721\" xlink:href=\"#C0_0_055ca28208\" y=\"158.747986\"/>\n    </g>\n    <g clip-path=\"url(#pc737cc968f)\">\n     <use style=\"fill:#001c7f;stroke:#ffffff;stroke-width:0.48;\" x=\"294.250449\" xlink:href=\"#C0_0_055ca28208\" y=\"210.622705\"/>\n    </g>\n    <g clip-path=\"url(#pc737cc968f)\">\n     <use style=\"fill:#001c7f;stroke:#ffffff;stroke-width:0.48;\" x=\"201.96098\" xlink:href=\"#C0_0_055ca28208\" y=\"187.360852\"/>\n    </g>\n    <g clip-path=\"url(#pc737cc968f)\">\n     <use style=\"fill:#001c7f;stroke:#ffffff;stroke-width:0.48;\" x=\"228.162697\" xlink:href=\"#C0_0_055ca28208\" y=\"220.775693\"/>\n    </g>\n    <g clip-path=\"url(#pc737cc968f)\">\n     <use style=\"fill:#001c7f;stroke:#ffffff;stroke-width:0.48;\" x=\"203.278351\" xlink:href=\"#C0_0_055ca28208\" y=\"204.441066\"/>\n    </g>\n    <g clip-path=\"url(#pc737cc968f)\">\n     <use style=\"fill:#001c7f;stroke:#ffffff;stroke-width:0.48;\" x=\"201.96098\" xlink:href=\"#C0_0_055ca28208\" y=\"187.360852\"/>\n    </g>\n    <g clip-path=\"url(#pc737cc968f)\">\n     <use style=\"fill:#001c7f;stroke:#ffffff;stroke-width:0.48;\" x=\"199.553721\" xlink:href=\"#C0_0_055ca28208\" y=\"195.239942\"/>\n    </g>\n    <g clip-path=\"url(#pc737cc968f)\">\n     <use style=\"fill:#001c7f;stroke:#ffffff;stroke-width:0.48;\" x=\"246.267952\" xlink:href=\"#C0_0_055ca28208\" y=\"225.464697\"/>\n    </g>\n    <g clip-path=\"url(#pc737cc968f)\">\n     <use style=\"fill:#001c7f;stroke:#ffffff;stroke-width:0.48;\" x=\"223.55561\" xlink:href=\"#C0_0_055ca28208\" y=\"221.669596\"/>\n    </g>\n    <g clip-path=\"url(#pc737cc968f)\">\n     <use style=\"fill:#b1400d;stroke:#ffffff;stroke-width:0.48;\" x=\"226.251925\" xlink:href=\"#C0_0_055ca28208\" y=\"183.393802\"/>\n    </g>\n    <g clip-path=\"url(#pc737cc968f)\">\n     <use style=\"fill:#001c7f;stroke:#ffffff;stroke-width:0.48;\" x=\"192.284746\" xlink:href=\"#C0_0_055ca28208\" y=\"196.473126\"/>\n    </g>\n    <g clip-path=\"url(#pc737cc968f)\">\n     <use style=\"fill:#001c7f;stroke:#ffffff;stroke-width:0.48;\" x=\"323.383648\" xlink:href=\"#C0_0_055ca28208\" y=\"203.299322\"/>\n    </g>\n    <g clip-path=\"url(#pc737cc968f)\">\n     <use style=\"fill:#001c7f;stroke:#ffffff;stroke-width:0.48;\" x=\"259.267505\" xlink:href=\"#C0_0_055ca28208\" y=\"220.725864\"/>\n    </g>\n    <g clip-path=\"url(#pc737cc968f)\">\n     <use style=\"fill:#001c7f;stroke:#ffffff;stroke-width:0.48;\" x=\"201.245582\" xlink:href=\"#C0_0_055ca28208\" y=\"207.887139\"/>\n    </g>\n    <g clip-path=\"url(#pc737cc968f)\">\n     <use style=\"fill:#001c7f;stroke:#ffffff;stroke-width:0.48;\" x=\"373.888822\" xlink:href=\"#C0_0_055ca28208\" y=\"219.220582\"/>\n    </g>\n    <g clip-path=\"url(#pc737cc968f)\">\n     <use style=\"fill:#001c7f;stroke:#ffffff;stroke-width:0.48;\" x=\"207.740775\" xlink:href=\"#C0_0_055ca28208\" y=\"213.890445\"/>\n    </g>\n    <g clip-path=\"url(#pc737cc968f)\">\n     <use style=\"fill:#001c7f;stroke:#ffffff;stroke-width:0.48;\" x=\"283.383748\" xlink:href=\"#C0_0_055ca28208\" y=\"220.995705\"/>\n    </g>\n    <g clip-path=\"url(#pc737cc968f)\">\n     <use style=\"fill:#001c7f;stroke:#ffffff;stroke-width:0.48;\" x=\"229.586603\" xlink:href=\"#C0_0_055ca28208\" y=\"221.922714\"/>\n    </g>\n    <g clip-path=\"url(#pc737cc968f)\">\n     <use style=\"fill:#001c7f;stroke:#ffffff;stroke-width:0.48;\" x=\"291.609801\" xlink:href=\"#C0_0_055ca28208\" y=\"186.986559\"/>\n    </g>\n    <g clip-path=\"url(#pc737cc968f)\">\n     <use style=\"fill:#001c7f;stroke:#ffffff;stroke-width:0.48;\" x=\"269.969373\" xlink:href=\"#C0_0_055ca28208\" y=\"207.725161\"/>\n    </g>\n    <g clip-path=\"url(#pc737cc968f)\">\n     <use style=\"fill:#001c7f;stroke:#ffffff;stroke-width:0.48;\" x=\"199.757637\" xlink:href=\"#C0_0_055ca28208\" y=\"207.541821\"/>\n    </g>\n    <g clip-path=\"url(#pc737cc968f)\">\n     <use style=\"fill:#001c7f;stroke:#ffffff;stroke-width:0.48;\" x=\"242.024723\" xlink:href=\"#C0_0_055ca28208\" y=\"186.4263\"/>\n    </g>\n    <g clip-path=\"url(#pc737cc968f)\">\n     <use style=\"fill:#001c7f;stroke:#ffffff;stroke-width:0.48;\" x=\"277.864284\" xlink:href=\"#C0_0_055ca28208\" y=\"223.470853\"/>\n    </g>\n    <g clip-path=\"url(#pc737cc968f)\">\n     <use style=\"fill:#001c7f;stroke:#ffffff;stroke-width:0.48;\" x=\"198.596213\" xlink:href=\"#C0_0_055ca28208\" y=\"186.618286\"/>\n    </g>\n    <g clip-path=\"url(#pc737cc968f)\">\n     <use style=\"fill:#001c7f;stroke:#ffffff;stroke-width:0.48;\" x=\"223.26901\" xlink:href=\"#C0_0_055ca28208\" y=\"226.178871\"/>\n    </g>\n    <g clip-path=\"url(#pc737cc968f)\">\n     <use style=\"fill:#001c7f;stroke:#ffffff;stroke-width:0.48;\" x=\"214.877492\" xlink:href=\"#C0_0_055ca28208\" y=\"215.319291\"/>\n    </g>\n    <g clip-path=\"url(#pc737cc968f)\">\n     <use style=\"fill:#001c7f;stroke:#ffffff;stroke-width:0.48;\" x=\"255.459881\" xlink:href=\"#C0_0_055ca28208\" y=\"208.379955\"/>\n    </g>\n    <g clip-path=\"url(#pc737cc968f)\">\n     <use style=\"fill:#001c7f;stroke:#ffffff;stroke-width:0.48;\" x=\"207.143498\" xlink:href=\"#C0_0_055ca28208\" y=\"222.454712\"/>\n    </g>\n    <g clip-path=\"url(#pc737cc968f)\">\n     <use style=\"fill:#001c7f;stroke:#ffffff;stroke-width:0.48;\" x=\"196.294844\" xlink:href=\"#C0_0_055ca28208\" y=\"224.93151\"/>\n    </g>\n    <g clip-path=\"url(#pc737cc968f)\">\n     <use style=\"fill:#001c7f;stroke:#ffffff;stroke-width:0.48;\" x=\"245.829596\" xlink:href=\"#C0_0_055ca28208\" y=\"184.830352\"/>\n    </g>\n    <g clip-path=\"url(#pc737cc968f)\">\n     <use style=\"fill:#001c7f;stroke:#ffffff;stroke-width:0.48;\" x=\"222.379297\" xlink:href=\"#C0_0_055ca28208\" y=\"194.85138\"/>\n    </g>\n    <g clip-path=\"url(#pc737cc968f)\">\n     <use style=\"fill:#001c7f;stroke:#ffffff;stroke-width:0.48;\" x=\"190.795667\" xlink:href=\"#C0_0_055ca28208\" y=\"210.644422\"/>\n    </g>\n    <g clip-path=\"url(#pc737cc968f)\">\n     <use style=\"fill:#001c7f;stroke:#ffffff;stroke-width:0.48;\" x=\"242.971446\" xlink:href=\"#C0_0_055ca28208\" y=\"194.345862\"/>\n    </g>\n    <g clip-path=\"url(#pc737cc968f)\">\n     <use style=\"fill:#001c7f;stroke:#ffffff;stroke-width:0.48;\" x=\"227.538648\" xlink:href=\"#C0_0_055ca28208\" y=\"183.077036\"/>\n    </g>\n    <g clip-path=\"url(#pc737cc968f)\">\n     <use style=\"fill:#001c7f;stroke:#ffffff;stroke-width:0.48;\" x=\"290.804845\" xlink:href=\"#C0_0_055ca28208\" y=\"204.776009\"/>\n    </g>\n    <g clip-path=\"url(#pc737cc968f)\">\n     <use style=\"fill:#001c7f;stroke:#ffffff;stroke-width:0.48;\" x=\"234.948925\" xlink:href=\"#C0_0_055ca28208\" y=\"186.17668\"/>\n    </g>\n    <g clip-path=\"url(#pc737cc968f)\">\n     <use style=\"fill:#001c7f;stroke:#ffffff;stroke-width:0.48;\" x=\"217.813938\" xlink:href=\"#C0_0_055ca28208\" y=\"188.051894\"/>\n    </g>\n    <g clip-path=\"url(#pc737cc968f)\">\n     <use style=\"fill:#001c7f;stroke:#ffffff;stroke-width:0.48;\" x=\"300.07567\" xlink:href=\"#C0_0_055ca28208\" y=\"189.173508\"/>\n    </g>\n    <g clip-path=\"url(#pc737cc968f)\">\n     <use style=\"fill:#001c7f;stroke:#ffffff;stroke-width:0.48;\" x=\"206.004468\" xlink:href=\"#C0_0_055ca28208\" y=\"221.783999\"/>\n    </g>\n    <g clip-path=\"url(#pc737cc968f)\">\n     <use style=\"fill:#001c7f;stroke:#ffffff;stroke-width:0.48;\" x=\"266.218954\" xlink:href=\"#C0_0_055ca28208\" y=\"224.734757\"/>\n    </g>\n    <g clip-path=\"url(#pc737cc968f)\">\n     <use style=\"fill:#001c7f;stroke:#ffffff;stroke-width:0.48;\" x=\"228.971532\" xlink:href=\"#C0_0_055ca28208\" y=\"198.20937\"/>\n    </g>\n    <g clip-path=\"url(#pc737cc968f)\">\n     <use style=\"fill:#001c7f;stroke:#ffffff;stroke-width:0.48;\" x=\"315.088937\" xlink:href=\"#C0_0_055ca28208\" y=\"224.016094\"/>\n    </g>\n    <g clip-path=\"url(#pc737cc968f)\">\n     <use style=\"fill:#001c7f;stroke:#ffffff;stroke-width:0.48;\" x=\"222.006247\" xlink:href=\"#C0_0_055ca28208\" y=\"185.352459\"/>\n    </g>\n    <g clip-path=\"url(#pc737cc968f)\">\n     <use style=\"fill:#001c7f;stroke:#ffffff;stroke-width:0.48;\" x=\"202.139034\" xlink:href=\"#C0_0_055ca28208\" y=\"221.911742\"/>\n    </g>\n    <g clip-path=\"url(#pc737cc968f)\">\n     <use style=\"fill:#001c7f;stroke:#ffffff;stroke-width:0.48;\" x=\"341.509313\" xlink:href=\"#C0_0_055ca28208\" y=\"214.511226\"/>\n    </g>\n    <g clip-path=\"url(#pc737cc968f)\">\n     <use style=\"fill:#001c7f;stroke:#ffffff;stroke-width:0.48;\" x=\"212.036728\" xlink:href=\"#C0_0_055ca28208\" y=\"182.859571\"/>\n    </g>\n    <g clip-path=\"url(#pc737cc968f)\">\n     <use style=\"fill:#001c7f;stroke:#ffffff;stroke-width:0.48;\" x=\"207.937847\" xlink:href=\"#C0_0_055ca28208\" y=\"171.331502\"/>\n    </g>\n    <g clip-path=\"url(#pc737cc968f)\">\n     <use style=\"fill:#001c7f;stroke:#ffffff;stroke-width:0.48;\" x=\"196.646968\" xlink:href=\"#C0_0_055ca28208\" y=\"221.488508\"/>\n    </g>\n    <g clip-path=\"url(#pc737cc968f)\">\n     <use style=\"fill:#001c7f;stroke:#ffffff;stroke-width:0.48;\" x=\"294.716114\" xlink:href=\"#C0_0_055ca28208\" y=\"197.944551\"/>\n    </g>\n    <g clip-path=\"url(#pc737cc968f)\">\n     <use style=\"fill:#001c7f;stroke:#ffffff;stroke-width:0.48;\" x=\"402.961015\" xlink:href=\"#C0_0_055ca28208\" y=\"189.317249\"/>\n    </g>\n    <g clip-path=\"url(#pc737cc968f)\">\n     <use style=\"fill:#001c7f;stroke:#ffffff;stroke-width:0.48;\" x=\"214.506809\" xlink:href=\"#C0_0_055ca28208\" y=\"212.476934\"/>\n    </g>\n    <g clip-path=\"url(#pc737cc968f)\">\n     <use style=\"fill:#001c7f;stroke:#ffffff;stroke-width:0.48;\" x=\"219.164206\" xlink:href=\"#C0_0_055ca28208\" y=\"183.949929\"/>\n    </g>\n    <g clip-path=\"url(#pc737cc968f)\">\n     <use style=\"fill:#001c7f;stroke:#ffffff;stroke-width:0.48;\" x=\"284.928511\" xlink:href=\"#C0_0_055ca28208\" y=\"219.445183\"/>\n    </g>\n    <g clip-path=\"url(#pc737cc968f)\">\n     <use style=\"fill:#001c7f;stroke:#ffffff;stroke-width:0.48;\" x=\"323.752646\" xlink:href=\"#C0_0_055ca28208\" y=\"210.829456\"/>\n    </g>\n    <g clip-path=\"url(#pc737cc968f)\">\n     <use style=\"fill:#001c7f;stroke:#ffffff;stroke-width:0.48;\" x=\"283.773162\" xlink:href=\"#C0_0_055ca28208\" y=\"203.557858\"/>\n    </g>\n    <g clip-path=\"url(#pc737cc968f)\">\n     <use style=\"fill:#b1400d;stroke:#ffffff;stroke-width:0.48;\" x=\"348.722785\" xlink:href=\"#C0_0_055ca28208\" y=\"163.828806\"/>\n    </g>\n    <g clip-path=\"url(#pc737cc968f)\">\n     <use style=\"fill:#001c7f;stroke:#ffffff;stroke-width:0.48;\" x=\"238.424919\" xlink:href=\"#C0_0_055ca28208\" y=\"196.463769\"/>\n    </g>\n    <g clip-path=\"url(#pc737cc968f)\">\n     <use style=\"fill:#001c7f;stroke:#ffffff;stroke-width:0.48;\" x=\"235.090505\" xlink:href=\"#C0_0_055ca28208\" y=\"218.20858\"/>\n    </g>\n    <g clip-path=\"url(#pc737cc968f)\">\n     <use style=\"fill:#001c7f;stroke:#ffffff;stroke-width:0.48;\" x=\"200.167189\" xlink:href=\"#C0_0_055ca28208\" y=\"181.694181\"/>\n    </g>\n    <g clip-path=\"url(#pc737cc968f)\">\n     <use style=\"fill:#001c7f;stroke:#ffffff;stroke-width:0.48;\" x=\"190.852984\" xlink:href=\"#C0_0_055ca28208\" y=\"221.40718\"/>\n    </g>\n    <g clip-path=\"url(#pc737cc968f)\">\n     <use style=\"fill:#001c7f;stroke:#ffffff;stroke-width:0.48;\" x=\"200.464837\" xlink:href=\"#C0_0_055ca28208\" y=\"218.873444\"/>\n    </g>\n    <g clip-path=\"url(#pc737cc968f)\">\n     <use style=\"fill:#001c7f;stroke:#ffffff;stroke-width:0.48;\" x=\"318.591331\" xlink:href=\"#C0_0_055ca28208\" y=\"224.576383\"/>\n    </g>\n    <g clip-path=\"url(#pc737cc968f)\">\n     <use style=\"fill:#001c7f;stroke:#ffffff;stroke-width:0.48;\" x=\"273.912439\" xlink:href=\"#C0_0_055ca28208\" y=\"209.577157\"/>\n    </g>\n    <g clip-path=\"url(#pc737cc968f)\">\n     <use style=\"fill:#001c7f;stroke:#ffffff;stroke-width:0.48;\" x=\"283.419197\" xlink:href=\"#C0_0_055ca28208\" y=\"181.356998\"/>\n    </g>\n    <g clip-path=\"url(#pc737cc968f)\">\n     <use style=\"fill:#001c7f;stroke:#ffffff;stroke-width:0.48;\" x=\"230.107141\" xlink:href=\"#C0_0_055ca28208\" y=\"221.09107\"/>\n    </g>\n    <g clip-path=\"url(#pc737cc968f)\">\n     <use style=\"fill:#001c7f;stroke:#ffffff;stroke-width:0.48;\" x=\"191.34328\" xlink:href=\"#C0_0_055ca28208\" y=\"218.703401\"/>\n    </g>\n    <g clip-path=\"url(#pc737cc968f)\">\n     <use style=\"fill:#001c7f;stroke:#ffffff;stroke-width:0.48;\" x=\"232.045313\" xlink:href=\"#C0_0_055ca28208\" y=\"195.795474\"/>\n    </g>\n    <g clip-path=\"url(#pc737cc968f)\">\n     <use style=\"fill:#001c7f;stroke:#ffffff;stroke-width:0.48;\" x=\"328.692273\" xlink:href=\"#C0_0_055ca28208\" y=\"208.94957\"/>\n    </g>\n    <g clip-path=\"url(#pc737cc968f)\">\n     <use style=\"fill:#001c7f;stroke:#ffffff;stroke-width:0.48;\" x=\"292.306374\" xlink:href=\"#C0_0_055ca28208\" y=\"199.572633\"/>\n    </g>\n    <g clip-path=\"url(#pc737cc968f)\">\n     <use style=\"fill:#001c7f;stroke:#ffffff;stroke-width:0.48;\" x=\"288.359001\" xlink:href=\"#C0_0_055ca28208\" y=\"206.19221\"/>\n    </g>\n    <g clip-path=\"url(#pc737cc968f)\">\n     <use style=\"fill:#001c7f;stroke:#ffffff;stroke-width:0.48;\" x=\"202.95988\" xlink:href=\"#C0_0_055ca28208\" y=\"40.554886\"/>\n    </g>\n    <g clip-path=\"url(#pc737cc968f)\">\n     <use style=\"fill:#001c7f;stroke:#ffffff;stroke-width:0.48;\" x=\"455.247422\" xlink:href=\"#C0_0_055ca28208\" y=\"205.036914\"/>\n    </g>\n    <g clip-path=\"url(#pc737cc968f)\">\n     <use style=\"fill:#001c7f;stroke:#ffffff;stroke-width:0.48;\" x=\"219.981279\" xlink:href=\"#C0_0_055ca28208\" y=\"219.135652\"/>\n    </g>\n    <g clip-path=\"url(#pc737cc968f)\">\n     <use style=\"fill:#001c7f;stroke:#ffffff;stroke-width:0.48;\" x=\"272.344431\" xlink:href=\"#C0_0_055ca28208\" y=\"212.612733\"/>\n    </g>\n    <g clip-path=\"url(#pc737cc968f)\">\n     <use style=\"fill:#001c7f;stroke:#ffffff;stroke-width:0.48;\" x=\"206.367746\" xlink:href=\"#C0_0_055ca28208\" y=\"226.386228\"/>\n    </g>\n    <g clip-path=\"url(#pc737cc968f)\">\n     <use style=\"fill:#001c7f;stroke:#ffffff;stroke-width:0.48;\" x=\"218.653138\" xlink:href=\"#C0_0_055ca28208\" y=\"222.793746\"/>\n    </g>\n    <g clip-path=\"url(#pc737cc968f)\">\n     <use style=\"fill:#001c7f;stroke:#ffffff;stroke-width:0.48;\" x=\"200.449275\" xlink:href=\"#C0_0_055ca28208\" y=\"218.887348\"/>\n    </g>\n    <g clip-path=\"url(#pc737cc968f)\">\n     <use style=\"fill:#001c7f;stroke:#ffffff;stroke-width:0.48;\" x=\"268.566262\" xlink:href=\"#C0_0_055ca28208\" y=\"156.362132\"/>\n    </g>\n    <g clip-path=\"url(#pc737cc968f)\">\n     <use style=\"fill:#001c7f;stroke:#ffffff;stroke-width:0.48;\" x=\"217.813938\" xlink:href=\"#C0_0_055ca28208\" y=\"188.051894\"/>\n    </g>\n    <g clip-path=\"url(#pc737cc968f)\">\n     <use style=\"fill:#001c7f;stroke:#ffffff;stroke-width:0.48;\" x=\"219.191949\" xlink:href=\"#C0_0_055ca28208\" y=\"195.019669\"/>\n    </g>\n    <g clip-path=\"url(#pc737cc968f)\">\n     <use style=\"fill:#001c7f;stroke:#ffffff;stroke-width:0.48;\" x=\"195.362612\" xlink:href=\"#C0_0_055ca28208\" y=\"220.321243\"/>\n    </g>\n    <g clip-path=\"url(#pc737cc968f)\">\n     <use style=\"fill:#001c7f;stroke:#ffffff;stroke-width:0.48;\" x=\"217.315862\" xlink:href=\"#C0_0_055ca28208\" y=\"222.878702\"/>\n    </g>\n    <g clip-path=\"url(#pc737cc968f)\">\n     <use style=\"fill:#001c7f;stroke:#ffffff;stroke-width:0.48;\" x=\"307.363685\" xlink:href=\"#C0_0_055ca28208\" y=\"216.884438\"/>\n    </g>\n    <g clip-path=\"url(#pc737cc968f)\">\n     <use style=\"fill:#001c7f;stroke:#ffffff;stroke-width:0.48;\" x=\"218.053375\" xlink:href=\"#C0_0_055ca28208\" y=\"225.484923\"/>\n    </g>\n    <g clip-path=\"url(#pc737cc968f)\">\n     <use style=\"fill:#001c7f;stroke:#ffffff;stroke-width:0.48;\" x=\"197.475408\" xlink:href=\"#C0_0_055ca28208\" y=\"212.620122\"/>\n    </g>\n    <g clip-path=\"url(#pc737cc968f)\">\n     <use style=\"fill:#001c7f;stroke:#ffffff;stroke-width:0.48;\" x=\"280.263229\" xlink:href=\"#C0_0_055ca28208\" y=\"205.628745\"/>\n    </g>\n    <g clip-path=\"url(#pc737cc968f)\">\n     <use style=\"fill:#001c7f;stroke:#ffffff;stroke-width:0.48;\" x=\"231.363112\" xlink:href=\"#C0_0_055ca28208\" y=\"213.889487\"/>\n    </g>\n    <g clip-path=\"url(#pc737cc968f)\">\n     <use style=\"fill:#001c7f;stroke:#ffffff;stroke-width:0.48;\" x=\"219.79848\" xlink:href=\"#C0_0_055ca28208\" y=\"199.57809\"/>\n    </g>\n    <g clip-path=\"url(#pc737cc968f)\">\n     <use style=\"fill:#001c7f;stroke:#ffffff;stroke-width:0.48;\" x=\"192.979692\" xlink:href=\"#C0_0_055ca28208\" y=\"219.459873\"/>\n    </g>\n    <g clip-path=\"url(#pc737cc968f)\">\n     <use style=\"fill:#001c7f;stroke:#ffffff;stroke-width:0.48;\" x=\"262.234325\" xlink:href=\"#C0_0_055ca28208\" y=\"194.602571\"/>\n    </g>\n    <g clip-path=\"url(#pc737cc968f)\">\n     <use style=\"fill:#001c7f;stroke:#ffffff;stroke-width:0.48;\" x=\"238.198681\" xlink:href=\"#C0_0_055ca28208\" y=\"218.740217\"/>\n    </g>\n    <g clip-path=\"url(#pc737cc968f)\">\n     <use style=\"fill:#001c7f;stroke:#ffffff;stroke-width:0.48;\" x=\"223.761728\" xlink:href=\"#C0_0_055ca28208\" y=\"224.851999\"/>\n    </g>\n    <g clip-path=\"url(#pc737cc968f)\">\n     <use style=\"fill:#001c7f;stroke:#ffffff;stroke-width:0.48;\" x=\"240.19938\" xlink:href=\"#C0_0_055ca28208\" y=\"184.89816\"/>\n    </g>\n    <g clip-path=\"url(#pc737cc968f)\">\n     <use style=\"fill:#001c7f;stroke:#ffffff;stroke-width:0.48;\" x=\"264.97132\" xlink:href=\"#C0_0_055ca28208\" y=\"217.623998\"/>\n    </g>\n    <g clip-path=\"url(#pc737cc968f)\">\n     <use style=\"fill:#001c7f;stroke:#ffffff;stroke-width:0.48;\" x=\"271.149665\" xlink:href=\"#C0_0_055ca28208\" y=\"220.420879\"/>\n    </g>\n    <g clip-path=\"url(#pc737cc968f)\">\n     <use style=\"fill:#001c7f;stroke:#ffffff;stroke-width:0.48;\" x=\"237.766726\" xlink:href=\"#C0_0_055ca28208\" y=\"196.024635\"/>\n    </g>\n    <g clip-path=\"url(#pc737cc968f)\">\n     <use style=\"fill:#001c7f;stroke:#ffffff;stroke-width:0.48;\" x=\"247.217773\" xlink:href=\"#C0_0_055ca28208\" y=\"218.625789\"/>\n    </g>\n    <g clip-path=\"url(#pc737cc968f)\">\n     <use style=\"fill:#001c7f;stroke:#ffffff;stroke-width:0.48;\" x=\"203.264581\" xlink:href=\"#C0_0_055ca28208\" y=\"218.469541\"/>\n    </g>\n    <g clip-path=\"url(#pc737cc968f)\">\n     <use style=\"fill:#001c7f;stroke:#ffffff;stroke-width:0.48;\" x=\"235.097214\" xlink:href=\"#C0_0_055ca28208\" y=\"209.542762\"/>\n    </g>\n    <g clip-path=\"url(#pc737cc968f)\">\n     <use style=\"fill:#001c7f;stroke:#ffffff;stroke-width:0.48;\" x=\"223.45041\" xlink:href=\"#C0_0_055ca28208\" y=\"224.272522\"/>\n    </g>\n    <g clip-path=\"url(#pc737cc968f)\">\n     <use style=\"fill:#001c7f;stroke:#ffffff;stroke-width:0.48;\" x=\"260.606313\" xlink:href=\"#C0_0_055ca28208\" y=\"221.843587\"/>\n    </g>\n    <g clip-path=\"url(#pc737cc968f)\">\n     <use style=\"fill:#001c7f;stroke:#ffffff;stroke-width:0.48;\" x=\"201.532536\" xlink:href=\"#C0_0_055ca28208\" y=\"180.757694\"/>\n    </g>\n    <g clip-path=\"url(#pc737cc968f)\">\n     <use style=\"fill:#001c7f;stroke:#ffffff;stroke-width:0.48;\" x=\"240.840189\" xlink:href=\"#C0_0_055ca28208\" y=\"195.286374\"/>\n    </g>\n    <g clip-path=\"url(#pc737cc968f)\">\n     <use style=\"fill:#001c7f;stroke:#ffffff;stroke-width:0.48;\" x=\"348.864441\" xlink:href=\"#C0_0_055ca28208\" y=\"220.064818\"/>\n    </g>\n    <g clip-path=\"url(#pc737cc968f)\">\n     <use style=\"fill:#001c7f;stroke:#ffffff;stroke-width:0.48;\" x=\"326.641281\" xlink:href=\"#C0_0_055ca28208\" y=\"221.580245\"/>\n    </g>\n    <g clip-path=\"url(#pc737cc968f)\">\n     <use style=\"fill:#001c7f;stroke:#ffffff;stroke-width:0.48;\" x=\"483.509318\" xlink:href=\"#C0_0_055ca28208\" y=\"203.409175\"/>\n    </g>\n    <g clip-path=\"url(#pc737cc968f)\">\n     <use style=\"fill:#001c7f;stroke:#ffffff;stroke-width:0.48;\" x=\"199.106876\" xlink:href=\"#C0_0_055ca28208\" y=\"198.26552\"/>\n    </g>\n    <g clip-path=\"url(#pc737cc968f)\">\n     <use style=\"fill:#001c7f;stroke:#ffffff;stroke-width:0.48;\" x=\"209.230507\" xlink:href=\"#C0_0_055ca28208\" y=\"195.49239\"/>\n    </g>\n    <g clip-path=\"url(#pc737cc968f)\">\n     <use style=\"fill:#001c7f;stroke:#ffffff;stroke-width:0.48;\" x=\"248.91251\" xlink:href=\"#C0_0_055ca28208\" y=\"213.002475\"/>\n    </g>\n    <g clip-path=\"url(#pc737cc968f)\">\n     <use style=\"fill:#001c7f;stroke:#ffffff;stroke-width:0.48;\" x=\"302.373195\" xlink:href=\"#C0_0_055ca28208\" y=\"205.171331\"/>\n    </g>\n    <g clip-path=\"url(#pc737cc968f)\">\n     <use style=\"fill:#001c7f;stroke:#ffffff;stroke-width:0.48;\" x=\"247.793809\" xlink:href=\"#C0_0_055ca28208\" y=\"207.353734\"/>\n    </g>\n    <g clip-path=\"url(#pc737cc968f)\">\n     <use style=\"fill:#001c7f;stroke:#ffffff;stroke-width:0.48;\" x=\"266.863657\" xlink:href=\"#C0_0_055ca28208\" y=\"222.120868\"/>\n    </g>\n    <g clip-path=\"url(#pc737cc968f)\">\n     <use style=\"fill:#001c7f;stroke:#ffffff;stroke-width:0.48;\" x=\"213.815133\" xlink:href=\"#C0_0_055ca28208\" y=\"224.895101\"/>\n    </g>\n    <g clip-path=\"url(#pc737cc968f)\">\n     <use style=\"fill:#001c7f;stroke:#ffffff;stroke-width:0.48;\" x=\"197.989569\" xlink:href=\"#C0_0_055ca28208\" y=\"217.916495\"/>\n    </g>\n    <g clip-path=\"url(#pc737cc968f)\">\n     <use style=\"fill:#001c7f;stroke:#ffffff;stroke-width:0.48;\" x=\"245.829596\" xlink:href=\"#C0_0_055ca28208\" y=\"184.830352\"/>\n    </g>\n    <g clip-path=\"url(#pc737cc968f)\">\n     <use style=\"fill:#b1400d;stroke:#ffffff;stroke-width:0.48;\" x=\"294.809974\" xlink:href=\"#C0_0_055ca28208\" y=\"234.6985\"/>\n    </g>\n    <g clip-path=\"url(#pc737cc968f)\">\n     <use style=\"fill:#001c7f;stroke:#ffffff;stroke-width:0.48;\" x=\"200.444687\" xlink:href=\"#C0_0_055ca28208\" y=\"209.301883\"/>\n    </g>\n    <g clip-path=\"url(#pc737cc968f)\">\n     <use style=\"fill:#001c7f;stroke:#ffffff;stroke-width:0.48;\" x=\"233.998539\" xlink:href=\"#C0_0_055ca28208\" y=\"195.135388\"/>\n    </g>\n    <g clip-path=\"url(#pc737cc968f)\">\n     <use style=\"fill:#001c7f;stroke:#ffffff;stroke-width:0.48;\" x=\"307.883543\" xlink:href=\"#C0_0_055ca28208\" y=\"214.873313\"/>\n    </g>\n    <g clip-path=\"url(#pc737cc968f)\">\n     <use style=\"fill:#b1400d;stroke:#ffffff;stroke-width:0.48;\" x=\"221.556236\" xlink:href=\"#C0_0_055ca28208\" y=\"236.176525\"/>\n    </g>\n    <g clip-path=\"url(#pc737cc968f)\">\n     <use style=\"fill:#001c7f;stroke:#ffffff;stroke-width:0.48;\" x=\"234.874568\" xlink:href=\"#C0_0_055ca28208\" y=\"222.749675\"/>\n    </g>\n    <g clip-path=\"url(#pc737cc968f)\">\n     <use style=\"fill:#001c7f;stroke:#ffffff;stroke-width:0.48;\" x=\"204.370277\" xlink:href=\"#C0_0_055ca28208\" y=\"200.523138\"/>\n    </g>\n    <g clip-path=\"url(#pc737cc968f)\">\n     <use style=\"fill:#001c7f;stroke:#ffffff;stroke-width:0.48;\" x=\"282.710905\" xlink:href=\"#C0_0_055ca28208\" y=\"194.588664\"/>\n    </g>\n    <g clip-path=\"url(#pc737cc968f)\">\n     <use style=\"fill:#b1400d;stroke:#ffffff;stroke-width:0.48;\" x=\"198.562666\" xlink:href=\"#C0_0_055ca28208\" y=\"211.264007\"/>\n    </g>\n    <g clip-path=\"url(#pc737cc968f)\">\n     <use style=\"fill:#001c7f;stroke:#ffffff;stroke-width:0.48;\" x=\"248.636674\" xlink:href=\"#C0_0_055ca28208\" y=\"220.163812\"/>\n    </g>\n    <g clip-path=\"url(#pc737cc968f)\">\n     <use style=\"fill:#001c7f;stroke:#ffffff;stroke-width:0.48;\" x=\"257.387466\" xlink:href=\"#C0_0_055ca28208\" y=\"223.672768\"/>\n    </g>\n    <g clip-path=\"url(#pc737cc968f)\">\n     <use style=\"fill:#001c7f;stroke:#ffffff;stroke-width:0.48;\" x=\"215.025607\" xlink:href=\"#C0_0_055ca28208\" y=\"215.423056\"/>\n    </g>\n    <g clip-path=\"url(#pc737cc968f)\">\n     <use style=\"fill:#001c7f;stroke:#ffffff;stroke-width:0.48;\" x=\"249.143393\" xlink:href=\"#C0_0_055ca28208\" y=\"208.707246\"/>\n    </g>\n    <g clip-path=\"url(#pc737cc968f)\">\n     <use style=\"fill:#001c7f;stroke:#ffffff;stroke-width:0.48;\" x=\"275.200166\" xlink:href=\"#C0_0_055ca28208\" y=\"185.266798\"/>\n    </g>\n    <g clip-path=\"url(#pc737cc968f)\">\n     <use style=\"fill:#001c7f;stroke:#ffffff;stroke-width:0.48;\" x=\"261.975419\" xlink:href=\"#C0_0_055ca28208\" y=\"197.649621\"/>\n    </g>\n    <g clip-path=\"url(#pc737cc968f)\">\n     <use style=\"fill:#001c7f;stroke:#ffffff;stroke-width:0.48;\" x=\"330.404029\" xlink:href=\"#C0_0_055ca28208\" y=\"218.374823\"/>\n    </g>\n    <g clip-path=\"url(#pc737cc968f)\">\n     <use style=\"fill:#b1400d;stroke:#ffffff;stroke-width:0.48;\" x=\"242.429696\" xlink:href=\"#C0_0_055ca28208\" y=\"234.629118\"/>\n    </g>\n    <g clip-path=\"url(#pc737cc968f)\">\n     <use style=\"fill:#001c7f;stroke:#ffffff;stroke-width:0.48;\" x=\"205.714998\" xlink:href=\"#C0_0_055ca28208\" y=\"197.088812\"/>\n    </g>\n    <g clip-path=\"url(#pc737cc968f)\">\n     <use style=\"fill:#001c7f;stroke:#ffffff;stroke-width:0.48;\" x=\"249.947438\" xlink:href=\"#C0_0_055ca28208\" y=\"218.064196\"/>\n    </g>\n    <g clip-path=\"url(#pc737cc968f)\">\n     <use style=\"fill:#001c7f;stroke:#ffffff;stroke-width:0.48;\" x=\"191.156318\" xlink:href=\"#C0_0_055ca28208\" y=\"210.397536\"/>\n    </g>\n    <g clip-path=\"url(#pc737cc968f)\">\n     <use style=\"fill:#001c7f;stroke:#ffffff;stroke-width:0.48;\" x=\"232.686179\" xlink:href=\"#C0_0_055ca28208\" y=\"220.54379\"/>\n    </g>\n    <g clip-path=\"url(#pc737cc968f)\">\n     <use style=\"fill:#001c7f;stroke:#ffffff;stroke-width:0.48;\" x=\"435.343705\" xlink:href=\"#C0_0_055ca28208\" y=\"219.603425\"/>\n    </g>\n    <g clip-path=\"url(#pc737cc968f)\">\n     <use style=\"fill:#001c7f;stroke:#ffffff;stroke-width:0.48;\" x=\"257.32082\" xlink:href=\"#C0_0_055ca28208\" y=\"188.651991\"/>\n    </g>\n    <g clip-path=\"url(#pc737cc968f)\">\n     <use style=\"fill:#001c7f;stroke:#ffffff;stroke-width:0.48;\" x=\"407.530896\" xlink:href=\"#C0_0_055ca28208\" y=\"196.429046\"/>\n    </g>\n    <g clip-path=\"url(#pc737cc968f)\">\n     <use style=\"fill:#001c7f;stroke:#ffffff;stroke-width:0.48;\" x=\"221.776767\" xlink:href=\"#C0_0_055ca28208\" y=\"223.920416\"/>\n    </g>\n    <g clip-path=\"url(#pc737cc968f)\">\n     <use style=\"fill:#001c7f;stroke:#ffffff;stroke-width:0.48;\" x=\"265.846453\" xlink:href=\"#C0_0_055ca28208\" y=\"215.896694\"/>\n    </g>\n    <g clip-path=\"url(#pc737cc968f)\">\n     <use style=\"fill:#001c7f;stroke:#ffffff;stroke-width:0.48;\" x=\"214.865767\" xlink:href=\"#C0_0_055ca28208\" y=\"207.664739\"/>\n    </g>\n    <g clip-path=\"url(#pc737cc968f)\">\n     <use style=\"fill:#b1400d;stroke:#ffffff;stroke-width:0.48;\" x=\"207.598406\" xlink:href=\"#C0_0_055ca28208\" y=\"207.784775\"/>\n    </g>\n    <g clip-path=\"url(#pc737cc968f)\">\n     <use style=\"fill:#001c7f;stroke:#ffffff;stroke-width:0.48;\" x=\"310.99389\" xlink:href=\"#C0_0_055ca28208\" y=\"209.099069\"/>\n    </g>\n    <g clip-path=\"url(#pc737cc968f)\">\n     <use style=\"fill:#001c7f;stroke:#ffffff;stroke-width:0.48;\" x=\"234.376734\" xlink:href=\"#C0_0_055ca28208\" y=\"212.486818\"/>\n    </g>\n    <g clip-path=\"url(#pc737cc968f)\">\n     <use style=\"fill:#001c7f;stroke:#ffffff;stroke-width:0.48;\" x=\"286.216165\" xlink:href=\"#C0_0_055ca28208\" y=\"218.846861\"/>\n    </g>\n    <g clip-path=\"url(#pc737cc968f)\">\n     <use style=\"fill:#001c7f;stroke:#ffffff;stroke-width:0.48;\" x=\"224.045868\" xlink:href=\"#C0_0_055ca28208\" y=\"238.227614\"/>\n    </g>\n    <g clip-path=\"url(#pc737cc968f)\">\n     <use style=\"fill:#001c7f;stroke:#ffffff;stroke-width:0.48;\" x=\"243.383377\" xlink:href=\"#C0_0_055ca28208\" y=\"209.814794\"/>\n    </g>\n    <g clip-path=\"url(#pc737cc968f)\">\n     <use style=\"fill:#001c7f;stroke:#ffffff;stroke-width:0.48;\" x=\"232.460541\" xlink:href=\"#C0_0_055ca28208\" y=\"163.478604\"/>\n    </g>\n    <g clip-path=\"url(#pc737cc968f)\">\n     <use style=\"fill:#001c7f;stroke:#ffffff;stroke-width:0.48;\" x=\"202.073537\" xlink:href=\"#C0_0_055ca28208\" y=\"209.222442\"/>\n    </g>\n    <g clip-path=\"url(#pc737cc968f)\">\n     <use style=\"fill:#001c7f;stroke:#ffffff;stroke-width:0.48;\" x=\"213.669358\" xlink:href=\"#C0_0_055ca28208\" y=\"178.347993\"/>\n    </g>\n    <g clip-path=\"url(#pc737cc968f)\">\n     <use style=\"fill:#001c7f;stroke:#ffffff;stroke-width:0.48;\" x=\"234.613146\" xlink:href=\"#C0_0_055ca28208\" y=\"185.705515\"/>\n    </g>\n    <g clip-path=\"url(#pc737cc968f)\">\n     <use style=\"fill:#001c7f;stroke:#ffffff;stroke-width:0.48;\" x=\"215.666292\" xlink:href=\"#C0_0_055ca28208\" y=\"184.97832\"/>\n    </g>\n    <g clip-path=\"url(#pc737cc968f)\">\n     <use style=\"fill:#001c7f;stroke:#ffffff;stroke-width:0.48;\" x=\"345.508835\" xlink:href=\"#C0_0_055ca28208\" y=\"210.689636\"/>\n    </g>\n    <g clip-path=\"url(#pc737cc968f)\">\n     <use style=\"fill:#001c7f;stroke:#ffffff;stroke-width:0.48;\" x=\"452.520526\" xlink:href=\"#C0_0_055ca28208\" y=\"180.804554\"/>\n    </g>\n    <g clip-path=\"url(#pc737cc968f)\">\n     <use style=\"fill:#001c7f;stroke:#ffffff;stroke-width:0.48;\" x=\"430.453968\" xlink:href=\"#C0_0_055ca28208\" y=\"221.920196\"/>\n    </g>\n    <g clip-path=\"url(#pc737cc968f)\">\n     <use style=\"fill:#001c7f;stroke:#ffffff;stroke-width:0.48;\" x=\"374.701685\" xlink:href=\"#C0_0_055ca28208\" y=\"180.850198\"/>\n    </g>\n    <g clip-path=\"url(#pc737cc968f)\">\n     <use style=\"fill:#001c7f;stroke:#ffffff;stroke-width:0.48;\" x=\"234.203021\" xlink:href=\"#C0_0_055ca28208\" y=\"220.641337\"/>\n    </g>\n    <g clip-path=\"url(#pc737cc968f)\">\n     <use style=\"fill:#001c7f;stroke:#ffffff;stroke-width:0.48;\" x=\"269.663396\" xlink:href=\"#C0_0_055ca28208\" y=\"219.307227\"/>\n    </g>\n    <g clip-path=\"url(#pc737cc968f)\">\n     <use style=\"fill:#001c7f;stroke:#ffffff;stroke-width:0.48;\" x=\"213.570701\" xlink:href=\"#C0_0_055ca28208\" y=\"208.767877\"/>\n    </g>\n    <g clip-path=\"url(#pc737cc968f)\">\n     <use style=\"fill:#001c7f;stroke:#ffffff;stroke-width:0.48;\" x=\"212.089703\" xlink:href=\"#C0_0_055ca28208\" y=\"187.999029\"/>\n    </g>\n    <g clip-path=\"url(#pc737cc968f)\">\n     <use style=\"fill:#001c7f;stroke:#ffffff;stroke-width:0.48;\" x=\"282.787055\" xlink:href=\"#C0_0_055ca28208\" y=\"217.934959\"/>\n    </g>\n    <g clip-path=\"url(#pc737cc968f)\">\n     <use style=\"fill:#001c7f;stroke:#ffffff;stroke-width:0.48;\" x=\"337.628126\" xlink:href=\"#C0_0_055ca28208\" y=\"195.373385\"/>\n    </g>\n   </g>\n   <g id=\"PathCollection_2\"/>\n   <g id=\"PathCollection_3\"/>\n   <g id=\"patch_3\">\n    <path d=\"M 163.9275 248.11125 \nL 163.9275 30.67125 \n\" style=\"fill:none;stroke:#ffffff;stroke-linecap:square;stroke-linejoin:miter;stroke-width:1.25;\"/>\n   </g>\n   <g id=\"patch_4\">\n    <path d=\"M 498.7275 248.11125 \nL 498.7275 30.67125 \n\" style=\"fill:none;stroke:#ffffff;stroke-linecap:square;stroke-linejoin:miter;stroke-width:1.25;\"/>\n   </g>\n   <g id=\"patch_5\">\n    <path d=\"M 163.9275 248.11125 \nL 498.7275 248.11125 \n\" style=\"fill:none;stroke:#ffffff;stroke-linecap:square;stroke-linejoin:miter;stroke-width:1.25;\"/>\n   </g>\n   <g id=\"patch_6\">\n    <path d=\"M 163.9275 30.67125 \nL 498.7275 30.67125 \n\" style=\"fill:none;stroke:#ffffff;stroke-linecap:square;stroke-linejoin:miter;stroke-width:1.25;\"/>\n   </g>\n   <g id=\"text_9\">\n    <!-- Cluster visaliztion in the first two principal component domain -->\n    <g style=\"fill:#262626;\" transform=\"translate(7.2 24.67125)scale(0.24 -0.24)\">\n     <defs>\n      <path d=\"M 58.796875 25.09375 \nL 68.265625 22.703125 \nQ 65.28125 11.03125 57.546875 4.90625 \nQ 49.8125 -1.21875 38.625 -1.21875 \nQ 27.046875 -1.21875 19.796875 3.484375 \nQ 12.546875 8.203125 8.765625 17.140625 \nQ 4.984375 26.078125 4.984375 36.328125 \nQ 4.984375 47.515625 9.25 55.828125 \nQ 13.53125 64.15625 21.40625 68.46875 \nQ 29.296875 72.796875 38.765625 72.796875 \nQ 49.515625 72.796875 56.828125 67.328125 \nQ 64.15625 61.859375 67.046875 51.953125 \nL 57.71875 49.75 \nQ 55.21875 57.5625 50.484375 61.125 \nQ 45.75 64.703125 38.578125 64.703125 \nQ 30.328125 64.703125 24.78125 60.734375 \nQ 19.234375 56.78125 16.984375 50.109375 \nQ 14.75 43.453125 14.75 36.375 \nQ 14.75 27.25 17.40625 20.4375 \nQ 20.0625 13.625 25.671875 10.25 \nQ 31.296875 6.890625 37.84375 6.890625 \nQ 45.796875 6.890625 51.3125 11.46875 \nQ 56.84375 16.0625 58.796875 25.09375 \nz\n\" id=\"ArialMT-67\"/>\n      <path d=\"M 6.390625 0 \nL 6.390625 71.578125 \nL 15.1875 71.578125 \nL 15.1875 0 \nz\n\" id=\"ArialMT-108\"/>\n      <path d=\"M 40.578125 0 \nL 40.578125 7.625 \nQ 34.515625 -1.171875 24.125 -1.171875 \nQ 19.53125 -1.171875 15.546875 0.578125 \nQ 11.578125 2.34375 9.640625 5 \nQ 7.71875 7.671875 6.9375 11.53125 \nQ 6.390625 14.109375 6.390625 19.734375 \nL 6.390625 51.859375 \nL 15.1875 51.859375 \nL 15.1875 23.09375 \nQ 15.1875 16.21875 15.71875 13.8125 \nQ 16.546875 10.359375 19.234375 8.375 \nQ 21.921875 6.390625 25.875 6.390625 \nQ 29.828125 6.390625 33.296875 8.421875 \nQ 36.765625 10.453125 38.203125 13.9375 \nQ 39.65625 17.4375 39.65625 24.078125 \nL 39.65625 51.859375 \nL 48.4375 51.859375 \nL 48.4375 0 \nz\n\" id=\"ArialMT-117\"/>\n      <path d=\"M 3.078125 15.484375 \nL 11.765625 16.84375 \nQ 12.5 11.625 15.84375 8.84375 \nQ 19.1875 6.0625 25.203125 6.0625 \nQ 31.25 6.0625 34.171875 8.515625 \nQ 37.109375 10.984375 37.109375 14.3125 \nQ 37.109375 17.28125 34.515625 19 \nQ 32.71875 20.171875 25.53125 21.96875 \nQ 15.875 24.421875 12.140625 26.203125 \nQ 8.40625 27.984375 6.46875 31.125 \nQ 4.546875 34.28125 4.546875 38.09375 \nQ 4.546875 41.546875 6.125 44.5 \nQ 7.71875 47.46875 10.453125 49.421875 \nQ 12.5 50.921875 16.03125 51.96875 \nQ 19.578125 53.03125 23.640625 53.03125 \nQ 29.734375 53.03125 34.34375 51.265625 \nQ 38.96875 49.515625 41.15625 46.5 \nQ 43.359375 43.5 44.1875 38.484375 \nL 35.59375 37.3125 \nQ 35.015625 41.3125 32.203125 43.546875 \nQ 29.390625 45.796875 24.265625 45.796875 \nQ 18.21875 45.796875 15.625 43.796875 \nQ 13.03125 41.796875 13.03125 39.109375 \nQ 13.03125 37.40625 14.109375 36.03125 \nQ 15.1875 34.625 17.484375 33.6875 \nQ 18.796875 33.203125 25.25 31.453125 \nQ 34.578125 28.953125 38.25 27.359375 \nQ 41.9375 25.78125 44.03125 22.75 \nQ 46.140625 19.734375 46.140625 15.234375 \nQ 46.140625 10.84375 43.578125 6.953125 \nQ 41.015625 3.078125 36.171875 0.953125 \nQ 31.34375 -1.171875 25.25 -1.171875 \nQ 15.140625 -1.171875 9.84375 3.03125 \nQ 4.546875 7.234375 3.078125 15.484375 \nz\n\" id=\"ArialMT-115\"/>\n      <path d=\"M 25.78125 7.859375 \nL 27.046875 0.09375 \nQ 23.34375 -0.6875 20.40625 -0.6875 \nQ 15.625 -0.6875 12.984375 0.828125 \nQ 10.359375 2.34375 9.28125 4.8125 \nQ 8.203125 7.28125 8.203125 15.1875 \nL 8.203125 45.015625 \nL 1.765625 45.015625 \nL 1.765625 51.859375 \nL 8.203125 51.859375 \nL 8.203125 64.703125 \nL 16.9375 69.96875 \nL 16.9375 51.859375 \nL 25.78125 51.859375 \nL 25.78125 45.015625 \nL 16.9375 45.015625 \nL 16.9375 14.703125 \nQ 16.9375 10.9375 17.40625 9.859375 \nQ 17.875 8.796875 18.921875 8.15625 \nQ 19.96875 7.515625 21.921875 7.515625 \nQ 23.390625 7.515625 25.78125 7.859375 \nz\n\" id=\"ArialMT-116\"/>\n      <path d=\"M 42.09375 16.703125 \nL 51.171875 15.578125 \nQ 49.03125 7.625 43.21875 3.21875 \nQ 37.40625 -1.171875 28.375 -1.171875 \nQ 17 -1.171875 10.328125 5.828125 \nQ 3.65625 12.84375 3.65625 25.484375 \nQ 3.65625 38.578125 10.390625 45.796875 \nQ 17.140625 53.03125 27.875 53.03125 \nQ 38.28125 53.03125 44.875 45.953125 \nQ 51.46875 38.875 51.46875 26.03125 \nQ 51.46875 25.25 51.421875 23.6875 \nL 12.75 23.6875 \nQ 13.234375 15.140625 17.578125 10.59375 \nQ 21.921875 6.0625 28.421875 6.0625 \nQ 33.25 6.0625 36.671875 8.59375 \nQ 40.09375 11.140625 42.09375 16.703125 \nz\nM 13.234375 30.90625 \nL 42.1875 30.90625 \nQ 41.609375 37.453125 38.875 40.71875 \nQ 34.671875 45.796875 27.984375 45.796875 \nQ 21.921875 45.796875 17.796875 41.75 \nQ 13.671875 37.703125 13.234375 30.90625 \nz\n\" id=\"ArialMT-101\"/>\n      <path d=\"M 6.5 0 \nL 6.5 51.859375 \nL 14.40625 51.859375 \nL 14.40625 44 \nQ 17.4375 49.515625 20 51.265625 \nQ 22.5625 53.03125 25.640625 53.03125 \nQ 30.078125 53.03125 34.671875 50.203125 \nL 31.640625 42.046875 \nQ 28.421875 43.953125 25.203125 43.953125 \nQ 22.3125 43.953125 20.015625 42.21875 \nQ 17.71875 40.484375 16.75 37.40625 \nQ 15.28125 32.71875 15.28125 27.15625 \nL 15.28125 0 \nz\n\" id=\"ArialMT-114\"/>\n      <path id=\"ArialMT-32\"/>\n      <path d=\"M 21 0 \nL 1.265625 51.859375 \nL 10.546875 51.859375 \nL 21.6875 20.796875 \nQ 23.484375 15.765625 25 10.359375 \nQ 26.171875 14.453125 28.265625 20.21875 \nL 39.796875 51.859375 \nL 48.828125 51.859375 \nL 29.203125 0 \nz\n\" id=\"ArialMT-118\"/>\n      <path d=\"M 6.640625 61.46875 \nL 6.640625 71.578125 \nL 15.4375 71.578125 \nL 15.4375 61.46875 \nz\nM 6.640625 0 \nL 6.640625 51.859375 \nL 15.4375 51.859375 \nL 15.4375 0 \nz\n\" id=\"ArialMT-105\"/>\n      <path d=\"M 40.4375 6.390625 \nQ 35.546875 2.25 31.03125 0.53125 \nQ 26.515625 -1.171875 21.34375 -1.171875 \nQ 12.796875 -1.171875 8.203125 3 \nQ 3.609375 7.171875 3.609375 13.671875 \nQ 3.609375 17.484375 5.34375 20.625 \nQ 7.078125 23.78125 9.890625 25.6875 \nQ 12.703125 27.59375 16.21875 28.5625 \nQ 18.796875 29.25 24.03125 29.890625 \nQ 34.671875 31.15625 39.703125 32.90625 \nQ 39.75 34.71875 39.75 35.203125 \nQ 39.75 40.578125 37.25 42.78125 \nQ 33.890625 45.75 27.25 45.75 \nQ 21.046875 45.75 18.09375 43.578125 \nQ 15.140625 41.40625 13.71875 35.890625 \nL 5.125 37.0625 \nQ 6.296875 42.578125 8.984375 45.96875 \nQ 11.671875 49.359375 16.75 51.1875 \nQ 21.828125 53.03125 28.515625 53.03125 \nQ 35.15625 53.03125 39.296875 51.46875 \nQ 43.453125 49.90625 45.40625 47.53125 \nQ 47.359375 45.171875 48.140625 41.546875 \nQ 48.578125 39.3125 48.578125 33.453125 \nL 48.578125 21.734375 \nQ 48.578125 9.46875 49.140625 6.21875 \nQ 49.703125 2.984375 51.375 0 \nL 42.1875 0 \nQ 40.828125 2.734375 40.4375 6.390625 \nz\nM 39.703125 26.03125 \nQ 34.90625 24.078125 25.34375 22.703125 \nQ 19.921875 21.921875 17.671875 20.9375 \nQ 15.4375 19.96875 14.203125 18.09375 \nQ 12.984375 16.21875 12.984375 13.921875 \nQ 12.984375 10.40625 15.640625 8.0625 \nQ 18.3125 5.71875 23.4375 5.71875 \nQ 28.515625 5.71875 32.46875 7.9375 \nQ 36.421875 10.15625 38.28125 14.015625 \nQ 39.703125 17 39.703125 22.796875 \nz\n\" id=\"ArialMT-97\"/>\n      <path d=\"M 1.953125 0 \nL 1.953125 7.125 \nL 34.96875 45.015625 \nQ 29.34375 44.734375 25.046875 44.734375 \nL 3.90625 44.734375 \nL 3.90625 51.859375 \nL 46.296875 51.859375 \nL 46.296875 46.046875 \nL 18.21875 13.140625 \nL 12.796875 7.125 \nQ 18.703125 7.5625 23.875 7.5625 \nL 47.859375 7.5625 \nL 47.859375 0 \nz\n\" id=\"ArialMT-122\"/>\n      <path d=\"M 3.328125 25.921875 \nQ 3.328125 40.328125 11.328125 47.265625 \nQ 18.015625 53.03125 27.640625 53.03125 \nQ 38.328125 53.03125 45.109375 46.015625 \nQ 51.90625 39.015625 51.90625 26.65625 \nQ 51.90625 16.65625 48.90625 10.90625 \nQ 45.90625 5.171875 40.15625 2 \nQ 34.421875 -1.171875 27.640625 -1.171875 \nQ 16.75 -1.171875 10.03125 5.8125 \nQ 3.328125 12.796875 3.328125 25.921875 \nz\nM 12.359375 25.921875 \nQ 12.359375 15.96875 16.703125 11.015625 \nQ 21.046875 6.0625 27.640625 6.0625 \nQ 34.1875 6.0625 38.53125 11.03125 \nQ 42.875 16.015625 42.875 26.21875 \nQ 42.875 35.84375 38.5 40.796875 \nQ 34.125 45.75 27.640625 45.75 \nQ 21.046875 45.75 16.703125 40.8125 \nQ 12.359375 35.890625 12.359375 25.921875 \nz\n\" id=\"ArialMT-111\"/>\n      <path d=\"M 6.59375 0 \nL 6.59375 51.859375 \nL 14.5 51.859375 \nL 14.5 44.484375 \nQ 20.21875 53.03125 31 53.03125 \nQ 35.6875 53.03125 39.625 51.34375 \nQ 43.5625 49.65625 45.515625 46.921875 \nQ 47.46875 44.1875 48.25 40.4375 \nQ 48.734375 37.984375 48.734375 31.890625 \nL 48.734375 0 \nL 39.9375 0 \nL 39.9375 31.546875 \nQ 39.9375 36.921875 38.90625 39.578125 \nQ 37.890625 42.234375 35.28125 43.8125 \nQ 32.671875 45.40625 29.15625 45.40625 \nQ 23.53125 45.40625 19.453125 41.84375 \nQ 15.375 38.28125 15.375 28.328125 \nL 15.375 0 \nz\n\" id=\"ArialMT-110\"/>\n      <path d=\"M 6.59375 0 \nL 6.59375 71.578125 \nL 15.375 71.578125 \nL 15.375 45.90625 \nQ 21.53125 53.03125 30.90625 53.03125 \nQ 36.671875 53.03125 40.921875 50.75 \nQ 45.171875 48.484375 47 44.484375 \nQ 48.828125 40.484375 48.828125 32.859375 \nL 48.828125 0 \nL 40.046875 0 \nL 40.046875 32.859375 \nQ 40.046875 39.453125 37.1875 42.453125 \nQ 34.328125 45.453125 29.109375 45.453125 \nQ 25.203125 45.453125 21.75 43.421875 \nQ 18.3125 41.40625 16.84375 37.9375 \nQ 15.375 34.46875 15.375 28.375 \nL 15.375 0 \nz\n\" id=\"ArialMT-104\"/>\n      <path d=\"M 8.6875 0 \nL 8.6875 45.015625 \nL 0.921875 45.015625 \nL 0.921875 51.859375 \nL 8.6875 51.859375 \nL 8.6875 57.375 \nQ 8.6875 62.59375 9.625 65.140625 \nQ 10.890625 68.5625 14.078125 70.671875 \nQ 17.28125 72.796875 23.046875 72.796875 \nQ 26.765625 72.796875 31.25 71.921875 \nL 29.9375 64.265625 \nQ 27.203125 64.75 24.75 64.75 \nQ 20.75 64.75 19.09375 63.03125 \nQ 17.4375 61.328125 17.4375 56.640625 \nL 17.4375 51.859375 \nL 27.546875 51.859375 \nL 27.546875 45.015625 \nL 17.4375 45.015625 \nL 17.4375 0 \nz\n\" id=\"ArialMT-102\"/>\n      <path d=\"M 16.15625 0 \nL 0.296875 51.859375 \nL 9.375 51.859375 \nL 17.625 21.921875 \nL 20.703125 10.796875 \nQ 20.90625 11.625 23.390625 21.484375 \nL 31.640625 51.859375 \nL 40.671875 51.859375 \nL 48.4375 21.78125 \nL 51.03125 11.859375 \nL 54 21.875 \nL 62.890625 51.859375 \nL 71.4375 51.859375 \nL 55.21875 0 \nL 46.09375 0 \nL 37.84375 31.0625 \nL 35.84375 39.890625 \nL 25.34375 0 \nz\n\" id=\"ArialMT-119\"/>\n      <path d=\"M 6.59375 -19.875 \nL 6.59375 51.859375 \nL 14.59375 51.859375 \nL 14.59375 45.125 \nQ 17.4375 49.078125 21 51.046875 \nQ 24.5625 53.03125 29.640625 53.03125 \nQ 36.28125 53.03125 41.359375 49.609375 \nQ 46.4375 46.1875 49.015625 39.953125 \nQ 51.609375 33.734375 51.609375 26.3125 \nQ 51.609375 18.359375 48.75 11.984375 \nQ 45.90625 5.609375 40.453125 2.21875 \nQ 35.015625 -1.171875 29 -1.171875 \nQ 24.609375 -1.171875 21.109375 0.6875 \nQ 17.625 2.546875 15.375 5.375 \nL 15.375 -19.875 \nz\nM 14.546875 25.640625 \nQ 14.546875 15.625 18.59375 10.84375 \nQ 22.65625 6.0625 28.421875 6.0625 \nQ 34.28125 6.0625 38.453125 11.015625 \nQ 42.625 15.96875 42.625 26.375 \nQ 42.625 36.28125 38.546875 41.203125 \nQ 34.46875 46.140625 28.8125 46.140625 \nQ 23.1875 46.140625 18.859375 40.890625 \nQ 14.546875 35.640625 14.546875 25.640625 \nz\n\" id=\"ArialMT-112\"/>\n      <path d=\"M 40.4375 19 \nL 49.078125 17.875 \nQ 47.65625 8.9375 41.8125 3.875 \nQ 35.984375 -1.171875 27.484375 -1.171875 \nQ 16.84375 -1.171875 10.375 5.78125 \nQ 3.90625 12.75 3.90625 25.734375 \nQ 3.90625 34.125 6.6875 40.421875 \nQ 9.46875 46.734375 15.15625 49.875 \nQ 20.84375 53.03125 27.546875 53.03125 \nQ 35.984375 53.03125 41.359375 48.75 \nQ 46.734375 44.484375 48.25 36.625 \nL 39.703125 35.296875 \nQ 38.484375 40.53125 35.375 43.15625 \nQ 32.28125 45.796875 27.875 45.796875 \nQ 21.234375 45.796875 17.078125 41.03125 \nQ 12.9375 36.28125 12.9375 25.984375 \nQ 12.9375 15.53125 16.9375 10.796875 \nQ 20.953125 6.0625 27.390625 6.0625 \nQ 32.5625 6.0625 36.03125 9.234375 \nQ 39.5 12.40625 40.4375 19 \nz\n\" id=\"ArialMT-99\"/>\n      <path d=\"M 6.59375 0 \nL 6.59375 51.859375 \nL 14.453125 51.859375 \nL 14.453125 44.578125 \nQ 16.890625 48.390625 20.9375 50.703125 \nQ 25 53.03125 30.171875 53.03125 \nQ 35.9375 53.03125 39.625 50.640625 \nQ 43.3125 48.25 44.828125 43.953125 \nQ 50.984375 53.03125 60.84375 53.03125 \nQ 68.5625 53.03125 72.703125 48.75 \nQ 76.859375 44.484375 76.859375 35.59375 \nL 76.859375 0 \nL 68.109375 0 \nL 68.109375 32.671875 \nQ 68.109375 37.9375 67.25 40.25 \nQ 66.40625 42.578125 64.15625 43.984375 \nQ 61.921875 45.40625 58.890625 45.40625 \nQ 53.421875 45.40625 49.796875 41.765625 \nQ 46.1875 38.140625 46.1875 30.125 \nL 46.1875 0 \nL 37.40625 0 \nL 37.40625 33.6875 \nQ 37.40625 39.546875 35.25 42.46875 \nQ 33.109375 45.40625 28.21875 45.40625 \nQ 24.515625 45.40625 21.359375 43.453125 \nQ 18.21875 41.5 16.796875 37.734375 \nQ 15.375 33.984375 15.375 26.90625 \nL 15.375 0 \nz\n\" id=\"ArialMT-109\"/>\n      <path d=\"M 40.234375 0 \nL 40.234375 6.546875 \nQ 35.296875 -1.171875 25.734375 -1.171875 \nQ 19.53125 -1.171875 14.328125 2.25 \nQ 9.125 5.671875 6.265625 11.796875 \nQ 3.421875 17.921875 3.421875 25.875 \nQ 3.421875 33.640625 6 39.96875 \nQ 8.59375 46.296875 13.765625 49.65625 \nQ 18.953125 53.03125 25.34375 53.03125 \nQ 30.03125 53.03125 33.6875 51.046875 \nQ 37.359375 49.078125 39.65625 45.90625 \nL 39.65625 71.578125 \nL 48.390625 71.578125 \nL 48.390625 0 \nz\nM 12.453125 25.875 \nQ 12.453125 15.921875 16.640625 10.984375 \nQ 20.84375 6.0625 26.5625 6.0625 \nQ 32.328125 6.0625 36.34375 10.765625 \nQ 40.375 15.484375 40.375 25.140625 \nQ 40.375 35.796875 36.265625 40.765625 \nQ 32.171875 45.75 26.171875 45.75 \nQ 20.3125 45.75 16.375 40.96875 \nQ 12.453125 36.1875 12.453125 25.875 \nz\n\" id=\"ArialMT-100\"/>\n     </defs>\n     <use xlink:href=\"#ArialMT-67\"/>\n     <use x=\"72.216797\" xlink:href=\"#ArialMT-108\"/>\n     <use x=\"94.433594\" xlink:href=\"#ArialMT-117\"/>\n     <use x=\"150.048828\" xlink:href=\"#ArialMT-115\"/>\n     <use x=\"200.048828\" xlink:href=\"#ArialMT-116\"/>\n     <use x=\"227.832031\" xlink:href=\"#ArialMT-101\"/>\n     <use x=\"283.447266\" xlink:href=\"#ArialMT-114\"/>\n     <use x=\"316.748047\" xlink:href=\"#ArialMT-32\"/>\n     <use x=\"344.53125\" xlink:href=\"#ArialMT-118\"/>\n     <use x=\"394.53125\" xlink:href=\"#ArialMT-105\"/>\n     <use x=\"416.748047\" xlink:href=\"#ArialMT-115\"/>\n     <use x=\"466.748047\" xlink:href=\"#ArialMT-97\"/>\n     <use x=\"522.363281\" xlink:href=\"#ArialMT-108\"/>\n     <use x=\"544.580078\" xlink:href=\"#ArialMT-105\"/>\n     <use x=\"566.796875\" xlink:href=\"#ArialMT-122\"/>\n     <use x=\"616.796875\" xlink:href=\"#ArialMT-116\"/>\n     <use x=\"644.580078\" xlink:href=\"#ArialMT-105\"/>\n     <use x=\"666.796875\" xlink:href=\"#ArialMT-111\"/>\n     <use x=\"722.412109\" xlink:href=\"#ArialMT-110\"/>\n     <use x=\"778.027344\" xlink:href=\"#ArialMT-32\"/>\n     <use x=\"805.810547\" xlink:href=\"#ArialMT-105\"/>\n     <use x=\"828.027344\" xlink:href=\"#ArialMT-110\"/>\n     <use x=\"883.642578\" xlink:href=\"#ArialMT-32\"/>\n     <use x=\"911.425781\" xlink:href=\"#ArialMT-116\"/>\n     <use x=\"939.208984\" xlink:href=\"#ArialMT-104\"/>\n     <use x=\"994.824219\" xlink:href=\"#ArialMT-101\"/>\n     <use x=\"1050.439453\" xlink:href=\"#ArialMT-32\"/>\n     <use x=\"1078.222656\" xlink:href=\"#ArialMT-102\"/>\n     <use x=\"1106.005859\" xlink:href=\"#ArialMT-105\"/>\n     <use x=\"1128.222656\" xlink:href=\"#ArialMT-114\"/>\n     <use x=\"1161.523438\" xlink:href=\"#ArialMT-115\"/>\n     <use x=\"1211.523438\" xlink:href=\"#ArialMT-116\"/>\n     <use x=\"1239.306641\" xlink:href=\"#ArialMT-32\"/>\n     <use x=\"1267.089844\" xlink:href=\"#ArialMT-116\"/>\n     <use x=\"1294.873047\" xlink:href=\"#ArialMT-119\"/>\n     <use x=\"1367.089844\" xlink:href=\"#ArialMT-111\"/>\n     <use x=\"1422.705078\" xlink:href=\"#ArialMT-32\"/>\n     <use x=\"1450.488281\" xlink:href=\"#ArialMT-112\"/>\n     <use x=\"1506.103516\" xlink:href=\"#ArialMT-114\"/>\n     <use x=\"1539.404297\" xlink:href=\"#ArialMT-105\"/>\n     <use x=\"1561.621094\" xlink:href=\"#ArialMT-110\"/>\n     <use x=\"1617.236328\" xlink:href=\"#ArialMT-99\"/>\n     <use x=\"1667.236328\" xlink:href=\"#ArialMT-105\"/>\n     <use x=\"1689.453125\" xlink:href=\"#ArialMT-112\"/>\n     <use x=\"1745.068359\" xlink:href=\"#ArialMT-97\"/>\n     <use x=\"1800.683594\" xlink:href=\"#ArialMT-108\"/>\n     <use x=\"1822.900391\" xlink:href=\"#ArialMT-32\"/>\n     <use x=\"1850.683594\" xlink:href=\"#ArialMT-99\"/>\n     <use x=\"1900.683594\" xlink:href=\"#ArialMT-111\"/>\n     <use x=\"1956.298828\" xlink:href=\"#ArialMT-109\"/>\n     <use x=\"2039.599609\" xlink:href=\"#ArialMT-112\"/>\n     <use x=\"2095.214844\" xlink:href=\"#ArialMT-111\"/>\n     <use x=\"2150.830078\" xlink:href=\"#ArialMT-110\"/>\n     <use x=\"2206.445312\" xlink:href=\"#ArialMT-101\"/>\n     <use x=\"2262.060547\" xlink:href=\"#ArialMT-110\"/>\n     <use x=\"2317.675781\" xlink:href=\"#ArialMT-116\"/>\n     <use x=\"2345.458984\" xlink:href=\"#ArialMT-32\"/>\n     <use x=\"2373.242188\" xlink:href=\"#ArialMT-100\"/>\n     <use x=\"2428.857422\" xlink:href=\"#ArialMT-111\"/>\n     <use x=\"2484.472656\" xlink:href=\"#ArialMT-109\"/>\n     <use x=\"2567.773438\" xlink:href=\"#ArialMT-97\"/>\n     <use x=\"2623.388672\" xlink:href=\"#ArialMT-105\"/>\n     <use x=\"2645.605469\" xlink:href=\"#ArialMT-110\"/>\n    </g>\n   </g>\n   <g id=\"legend_1\">\n    <g id=\"patch_7\">\n     <path d=\"M 382.3475 143.459375 \nL 483.3275 143.459375 \nQ 487.7275 143.459375 487.7275 139.059375 \nL 487.7275 46.07125 \nQ 487.7275 41.67125 483.3275 41.67125 \nL 382.3475 41.67125 \nQ 377.9475 41.67125 377.9475 46.07125 \nL 377.9475 139.059375 \nQ 377.9475 143.459375 382.3475 143.459375 \nz\n\" style=\"fill:#eaeaf2;opacity:0.8;stroke:#cccccc;stroke-linejoin:miter;\"/>\n    </g>\n    <g id=\"text_10\">\n     <!-- labels -->\n     <g style=\"fill:#262626;\" transform=\"translate(401.485625 67.65)scale(0.24 -0.24)\">\n      <defs>\n       <path d=\"M 14.703125 0 \nL 6.546875 0 \nL 6.546875 71.578125 \nL 15.328125 71.578125 \nL 15.328125 46.046875 \nQ 20.90625 53.03125 29.546875 53.03125 \nQ 34.328125 53.03125 38.59375 51.09375 \nQ 42.875 49.171875 45.625 45.671875 \nQ 48.390625 42.1875 49.953125 37.25 \nQ 51.515625 32.328125 51.515625 26.703125 \nQ 51.515625 13.375 44.921875 6.09375 \nQ 38.328125 -1.171875 29.109375 -1.171875 \nQ 19.921875 -1.171875 14.703125 6.5 \nz\nM 14.59375 26.3125 \nQ 14.59375 17 17.140625 12.84375 \nQ 21.296875 6.0625 28.375 6.0625 \nQ 34.125 6.0625 38.328125 11.0625 \nQ 42.53125 16.0625 42.53125 25.984375 \nQ 42.53125 36.140625 38.5 40.96875 \nQ 34.46875 45.796875 28.765625 45.796875 \nQ 23 45.796875 18.796875 40.796875 \nQ 14.59375 35.796875 14.59375 26.3125 \nz\n\" id=\"ArialMT-98\"/>\n      </defs>\n      <use xlink:href=\"#ArialMT-108\"/>\n      <use x=\"22.216797\" xlink:href=\"#ArialMT-97\"/>\n      <use x=\"77.832031\" xlink:href=\"#ArialMT-98\"/>\n      <use x=\"133.447266\" xlink:href=\"#ArialMT-101\"/>\n      <use x=\"189.0625\" xlink:href=\"#ArialMT-108\"/>\n      <use x=\"211.279297\" xlink:href=\"#ArialMT-115\"/>\n     </g>\n    </g>\n    <g id=\"PathCollection_4\">\n     <defs>\n      <path d=\"M 0 3 \nC 0.795609 3 1.55874 2.683901 2.12132 2.12132 \nC 2.683901 1.55874 3 0.795609 3 0 \nC 3 -0.795609 2.683901 -1.55874 2.12132 -2.12132 \nC 1.55874 -2.683901 0.795609 -3 0 -3 \nC -0.795609 -3 -1.55874 -2.683901 -2.12132 -2.12132 \nC -2.683901 -1.55874 -3 -0.795609 -3 0 \nC -3 0.795609 -2.683901 1.55874 -2.12132 2.12132 \nC -1.55874 2.683901 -0.795609 3 0 3 \nz\n\" id=\"m7548af8034\" style=\"stroke:#001c7f;\"/>\n     </defs>\n     <g>\n      <use style=\"fill:#001c7f;stroke:#001c7f;\" x=\"408.7475\" xlink:href=\"#m7548af8034\" y=\"93.392187\"/>\n     </g>\n    </g>\n    <g id=\"text_11\">\n     <!-- 0.0 -->\n     <g style=\"fill:#262626;\" transform=\"translate(448.3475 99.167187)scale(0.22 -0.22)\">\n      <defs>\n       <path d=\"M 9.078125 0 \nL 9.078125 10.015625 \nL 19.09375 10.015625 \nL 19.09375 0 \nz\n\" id=\"ArialMT-46\"/>\n      </defs>\n      <use xlink:href=\"#ArialMT-48\"/>\n      <use x=\"55.615234\" xlink:href=\"#ArialMT-46\"/>\n      <use x=\"83.398438\" xlink:href=\"#ArialMT-48\"/>\n     </g>\n    </g>\n    <g id=\"PathCollection_5\">\n     <defs>\n      <path d=\"M 0 3 \nC 0.795609 3 1.55874 2.683901 2.12132 2.12132 \nC 2.683901 1.55874 3 0.795609 3 0 \nC 3 -0.795609 2.683901 -1.55874 2.12132 -2.12132 \nC 1.55874 -2.683901 0.795609 -3 0 -3 \nC -0.795609 -3 -1.55874 -2.683901 -2.12132 -2.12132 \nC -2.683901 -1.55874 -3 -0.795609 -3 0 \nC -3 0.795609 -2.683901 1.55874 -2.12132 2.12132 \nC -1.55874 2.683901 -0.795609 3 0 3 \nz\n\" id=\"mf73b5347c3\" style=\"stroke:#b1400d;\"/>\n     </defs>\n     <g>\n      <use style=\"fill:#b1400d;stroke:#b1400d;\" x=\"408.7475\" xlink:href=\"#mf73b5347c3\" y=\"124.511875\"/>\n     </g>\n    </g>\n    <g id=\"text_12\">\n     <!-- 1.0 -->\n     <g style=\"fill:#262626;\" transform=\"translate(448.3475 130.286875)scale(0.22 -0.22)\">\n      <use xlink:href=\"#ArialMT-49\"/>\n      <use x=\"55.615234\" xlink:href=\"#ArialMT-46\"/>\n      <use x=\"83.398438\" xlink:href=\"#ArialMT-48\"/>\n     </g>\n    </g>\n   </g>\n  </g>\n </g>\n <defs>\n  <clipPath id=\"pc737cc968f\">\n   <rect height=\"217.44\" width=\"334.8\" x=\"163.9275\" y=\"30.67125\"/>\n  </clipPath>\n </defs>\n</svg>\n",
      "image/png": "[encoded data removed]"
     },
     "metadata": {}
    }
   ],
   "source": [
    "sns.set(font_scale=2)\n",
    "pca = PCA(n_components=2).fit_transform(X_train.toarray())\n",
    "df_prim = pd.DataFrame(pca)\n",
    "df_prim.columns = ['X1', 'X2']\n",
    "df_prim['labels'] = y_train\n",
    "ax = sns.scatterplot(x='X1', y='X2', hue='labels', \n",
    "    data=df_prim, palette=\"dark\")\n",
    "ax.set(title=\"Cluster visaliztion in the first two principal component domain\")\n",
    "plt.savefig('../images/PCA_before_smoteenn.png')"
   ]
  },
  {
   "cell_type": "code",
   "execution_count": 7,
   "metadata": {},
   "outputs": [
    {
     "output_type": "display_data",
     "data": {
      "text/plain": "<Figure size 432x288 with 1 Axes>",
      "image/svg+xml": "<?xml version=\"1.0\" encoding=\"utf-8\" standalone=\"no\"?>\n<!DOCTYPE svg PUBLIC \"-//W3C//DTD SVG 1.1//EN\"\n  \"http://www.w3.org/Graphics/SVG/1.1/DTD/svg11.dtd\">\n<!-- Created with matplotlib (https://matplotlib.org/) -->\n<svg height=\"310.879687pt\" version=\"1.1\" viewBox=\"0 0 662.655 310.879687\" width=\"662.655pt\" xmlns=\"http://www.w3.org/2000/svg\" xmlns:xlink=\"http://www.w3.org/1999/xlink\">\n <metadata>\n  <rdf:RDF xmlns:cc=\"http://creativecommons.org/ns#\" xmlns:dc=\"http://purl.org/dc/elements/1.1/\" xmlns:rdf=\"http://www.w3.org/1999/02/22-rdf-syntax-ns#\">\n   <cc:Work>\n    <dc:type rdf:resource=\"http://purl.org/dc/dcmitype/StillImage\"/>\n    <dc:date>2021-02-21T15:11:18.339418</dc:date>\n    <dc:format>image/svg+xml</dc:format>\n    <dc:creator>\n     <cc:Agent>\n      <dc:title>Matplotlib v3.3.4, https://matplotlib.org/</dc:title>\n     </cc:Agent>\n    </dc:creator>\n   </cc:Work>\n  </rdf:RDF>\n </metadata>\n <defs>\n  <style type=\"text/css\">*{stroke-linecap:butt;stroke-linejoin:round;}</style>\n </defs>\n <g id=\"figure_1\">\n  <g id=\"patch_1\">\n   <path d=\"M 0 310.879687 \nL 662.655 310.879687 \nL 662.655 0 \nL 0 0 \nz\n\" style=\"fill:#ffffff;\"/>\n  </g>\n  <g id=\"axes_1\">\n   <g id=\"patch_2\">\n    <path d=\"M 163.9275 248.11125 \nL 498.7275 248.11125 \nL 498.7275 30.67125 \nL 163.9275 30.67125 \nz\n\" style=\"fill:#eaeaf2;\"/>\n   </g>\n   <g id=\"matplotlib.axis_1\">\n    <g id=\"xtick_1\">\n     <g id=\"line2d_1\">\n      <path clip-path=\"url(#p219e57313d)\" d=\"M 224.492835 248.11125 \nL 224.492835 30.67125 \n\" style=\"fill:none;stroke:#ffffff;stroke-linecap:round;\"/>\n     </g>\n     <g id=\"text_1\">\n      <!-- 0.0 -->\n      <g style=\"fill:#262626;\" transform=\"translate(209.202835 273.358437)scale(0.22 -0.22)\">\n       <defs>\n        <path d=\"M 4.15625 35.296875 \nQ 4.15625 48 6.765625 55.734375 \nQ 9.375 63.484375 14.515625 67.671875 \nQ 19.671875 71.875 27.484375 71.875 \nQ 33.25 71.875 37.59375 69.546875 \nQ 41.9375 67.234375 44.765625 62.859375 \nQ 47.609375 58.5 49.21875 52.21875 \nQ 50.828125 45.953125 50.828125 35.296875 \nQ 50.828125 22.703125 48.234375 14.96875 \nQ 45.65625 7.234375 40.5 3 \nQ 35.359375 -1.21875 27.484375 -1.21875 \nQ 17.140625 -1.21875 11.234375 6.203125 \nQ 4.15625 15.140625 4.15625 35.296875 \nz\nM 13.1875 35.296875 \nQ 13.1875 17.671875 17.3125 11.828125 \nQ 21.4375 6 27.484375 6 \nQ 33.546875 6 37.671875 11.859375 \nQ 41.796875 17.71875 41.796875 35.296875 \nQ 41.796875 52.984375 37.671875 58.78125 \nQ 33.546875 64.59375 27.390625 64.59375 \nQ 21.34375 64.59375 17.71875 59.46875 \nQ 13.1875 52.9375 13.1875 35.296875 \nz\n\" id=\"ArialMT-48\"/>\n        <path d=\"M 9.078125 0 \nL 9.078125 10.015625 \nL 19.09375 10.015625 \nL 19.09375 0 \nz\n\" id=\"ArialMT-46\"/>\n       </defs>\n       <use xlink:href=\"#ArialMT-48\"/>\n       <use x=\"55.615234\" xlink:href=\"#ArialMT-46\"/>\n       <use x=\"83.398438\" xlink:href=\"#ArialMT-48\"/>\n      </g>\n     </g>\n    </g>\n    <g id=\"xtick_2\">\n     <g id=\"line2d_2\">\n      <path clip-path=\"url(#p219e57313d)\" d=\"M 299.728264 248.11125 \nL 299.728264 30.67125 \n\" style=\"fill:none;stroke:#ffffff;stroke-linecap:round;\"/>\n     </g>\n     <g id=\"text_2\">\n      <!-- 2.5 -->\n      <g style=\"fill:#262626;\" transform=\"translate(284.438264 273.358437)scale(0.22 -0.22)\">\n       <defs>\n        <path d=\"M 50.34375 8.453125 \nL 50.34375 0 \nL 3.03125 0 \nQ 2.9375 3.171875 4.046875 6.109375 \nQ 5.859375 10.9375 9.828125 15.625 \nQ 13.8125 20.3125 21.34375 26.46875 \nQ 33.015625 36.03125 37.109375 41.625 \nQ 41.21875 47.21875 41.21875 52.203125 \nQ 41.21875 57.421875 37.46875 61 \nQ 33.734375 64.59375 27.734375 64.59375 \nQ 21.390625 64.59375 17.578125 60.78125 \nQ 13.765625 56.984375 13.71875 50.25 \nL 4.6875 51.171875 \nQ 5.609375 61.28125 11.65625 66.578125 \nQ 17.71875 71.875 27.9375 71.875 \nQ 38.234375 71.875 44.234375 66.15625 \nQ 50.25 60.453125 50.25 52 \nQ 50.25 47.703125 48.484375 43.546875 \nQ 46.734375 39.40625 42.65625 34.8125 \nQ 38.578125 30.21875 29.109375 22.21875 \nQ 21.1875 15.578125 18.9375 13.203125 \nQ 16.703125 10.84375 15.234375 8.453125 \nz\n\" id=\"ArialMT-50\"/>\n        <path d=\"M 4.15625 18.75 \nL 13.375 19.53125 \nQ 14.40625 12.796875 18.140625 9.390625 \nQ 21.875 6 27.15625 6 \nQ 33.5 6 37.890625 10.78125 \nQ 42.28125 15.578125 42.28125 23.484375 \nQ 42.28125 31 38.0625 35.34375 \nQ 33.84375 39.703125 27 39.703125 \nQ 22.75 39.703125 19.328125 37.765625 \nQ 15.921875 35.84375 13.96875 32.765625 \nL 5.71875 33.84375 \nL 12.640625 70.609375 \nL 48.25 70.609375 \nL 48.25 62.203125 \nL 19.671875 62.203125 \nL 15.828125 42.96875 \nQ 22.265625 47.46875 29.34375 47.46875 \nQ 38.71875 47.46875 45.15625 40.96875 \nQ 51.609375 34.46875 51.609375 24.265625 \nQ 51.609375 14.546875 45.953125 7.46875 \nQ 39.0625 -1.21875 27.15625 -1.21875 \nQ 17.390625 -1.21875 11.203125 4.25 \nQ 5.03125 9.71875 4.15625 18.75 \nz\n\" id=\"ArialMT-53\"/>\n       </defs>\n       <use xlink:href=\"#ArialMT-50\"/>\n       <use x=\"55.615234\" xlink:href=\"#ArialMT-46\"/>\n       <use x=\"83.398438\" xlink:href=\"#ArialMT-53\"/>\n      </g>\n     </g>\n    </g>\n    <g id=\"xtick_3\">\n     <g id=\"line2d_3\">\n      <path clip-path=\"url(#p219e57313d)\" d=\"M 374.963693 248.11125 \nL 374.963693 30.67125 \n\" style=\"fill:none;stroke:#ffffff;stroke-linecap:round;\"/>\n     </g>\n     <g id=\"text_3\">\n      <!-- 5.0 -->\n      <g style=\"fill:#262626;\" transform=\"translate(359.673693 273.358437)scale(0.22 -0.22)\">\n       <use xlink:href=\"#ArialMT-53\"/>\n       <use x=\"55.615234\" xlink:href=\"#ArialMT-46\"/>\n       <use x=\"83.398438\" xlink:href=\"#ArialMT-48\"/>\n      </g>\n     </g>\n    </g>\n    <g id=\"xtick_4\">\n     <g id=\"line2d_4\">\n      <path clip-path=\"url(#p219e57313d)\" d=\"M 450.199122 248.11125 \nL 450.199122 30.67125 \n\" style=\"fill:none;stroke:#ffffff;stroke-linecap:round;\"/>\n     </g>\n     <g id=\"text_4\">\n      <!-- 7.5 -->\n      <g style=\"fill:#262626;\" transform=\"translate(434.909122 273.358437)scale(0.22 -0.22)\">\n       <defs>\n        <path d=\"M 4.734375 62.203125 \nL 4.734375 70.65625 \nL 51.078125 70.65625 \nL 51.078125 63.8125 \nQ 44.234375 56.546875 37.515625 44.484375 \nQ 30.8125 32.421875 27.15625 19.671875 \nQ 24.515625 10.6875 23.78125 0 \nL 14.75 0 \nQ 14.890625 8.453125 18.0625 20.40625 \nQ 21.234375 32.375 27.171875 43.484375 \nQ 33.109375 54.59375 39.796875 62.203125 \nz\n\" id=\"ArialMT-55\"/>\n       </defs>\n       <use xlink:href=\"#ArialMT-55\"/>\n       <use x=\"55.615234\" xlink:href=\"#ArialMT-46\"/>\n       <use x=\"83.398438\" xlink:href=\"#ArialMT-53\"/>\n      </g>\n     </g>\n    </g>\n    <g id=\"text_5\">\n     <!-- X1 -->\n     <g style=\"fill:#262626;\" transform=\"translate(316.65 298.909687)scale(0.24 -0.24)\">\n      <defs>\n       <path d=\"M 0.4375 0 \nL 28.125 37.3125 \nL 3.71875 71.578125 \nL 14.984375 71.578125 \nL 27.984375 53.21875 \nQ 32.03125 47.515625 33.734375 44.4375 \nQ 36.140625 48.34375 39.40625 52.59375 \nL 53.8125 71.578125 \nL 64.109375 71.578125 \nL 38.96875 37.84375 \nL 66.0625 0 \nL 54.34375 0 \nL 36.328125 25.53125 \nQ 34.8125 27.734375 33.203125 30.328125 \nQ 30.8125 26.421875 29.78125 24.953125 \nL 11.8125 0 \nz\n\" id=\"ArialMT-88\"/>\n       <path d=\"M 37.25 0 \nL 28.46875 0 \nL 28.46875 56 \nQ 25.296875 52.984375 20.140625 49.953125 \nQ 14.984375 46.921875 10.890625 45.40625 \nL 10.890625 53.90625 \nQ 18.265625 57.375 23.78125 62.296875 \nQ 29.296875 67.234375 31.59375 71.875 \nL 37.25 71.875 \nz\n\" id=\"ArialMT-49\"/>\n      </defs>\n      <use xlink:href=\"#ArialMT-88\"/>\n      <use x=\"66.699219\" xlink:href=\"#ArialMT-49\"/>\n     </g>\n    </g>\n   </g>\n   <g id=\"matplotlib.axis_2\">\n    <g id=\"ytick_1\">\n     <g id=\"line2d_5\">\n      <path clip-path=\"url(#p219e57313d)\" d=\"M 163.9275 212.945159 \nL 498.7275 212.945159 \n\" style=\"fill:none;stroke:#ffffff;stroke-linecap:round;\"/>\n     </g>\n     <g id=\"text_6\">\n      <!-- −2.5 -->\n      <g style=\"fill:#262626;\" transform=\"translate(110.998125 220.818753)scale(0.22 -0.22)\">\n       <defs>\n        <path d=\"M 52.828125 31.203125 \nL 5.5625 31.203125 \nL 5.5625 39.40625 \nL 52.828125 39.40625 \nz\n\" id=\"ArialMT-8722\"/>\n       </defs>\n       <use xlink:href=\"#ArialMT-8722\"/>\n       <use x=\"58.398438\" xlink:href=\"#ArialMT-50\"/>\n       <use x=\"114.013672\" xlink:href=\"#ArialMT-46\"/>\n       <use x=\"141.796875\" xlink:href=\"#ArialMT-53\"/>\n      </g>\n     </g>\n    </g>\n    <g id=\"ytick_2\">\n     <g id=\"line2d_6\">\n      <path clip-path=\"url(#p219e57313d)\" d=\"M 163.9275 151.083381 \nL 498.7275 151.083381 \n\" style=\"fill:none;stroke:#ffffff;stroke-linecap:round;\"/>\n     </g>\n     <g id=\"text_7\">\n      <!-- 0.0 -->\n      <g style=\"fill:#262626;\" transform=\"translate(123.8475 158.956975)scale(0.22 -0.22)\">\n       <use xlink:href=\"#ArialMT-48\"/>\n       <use x=\"55.615234\" xlink:href=\"#ArialMT-46\"/>\n       <use x=\"83.398438\" xlink:href=\"#ArialMT-48\"/>\n      </g>\n     </g>\n    </g>\n    <g id=\"ytick_3\">\n     <g id=\"line2d_7\">\n      <path clip-path=\"url(#p219e57313d)\" d=\"M 163.9275 89.221603 \nL 498.7275 89.221603 \n\" style=\"fill:none;stroke:#ffffff;stroke-linecap:round;\"/>\n     </g>\n     <g id=\"text_8\">\n      <!-- 2.5 -->\n      <g style=\"fill:#262626;\" transform=\"translate(123.8475 97.095197)scale(0.22 -0.22)\">\n       <use xlink:href=\"#ArialMT-50\"/>\n       <use x=\"55.615234\" xlink:href=\"#ArialMT-46\"/>\n       <use x=\"83.398438\" xlink:href=\"#ArialMT-53\"/>\n      </g>\n     </g>\n    </g>\n    <g id=\"text_9\">\n     <!-- X2 -->\n     <g style=\"fill:#262626;\" transform=\"translate(102.228125 154.06875)rotate(-90)scale(0.24 -0.24)\">\n      <use xlink:href=\"#ArialMT-88\"/>\n      <use x=\"66.699219\" xlink:href=\"#ArialMT-50\"/>\n     </g>\n    </g>\n   </g>\n   <g id=\"PathCollection_1\">\n    <defs>\n     <path d=\"M 0 3 \nC 0.795609 3 1.55874 2.683901 2.12132 2.12132 \nC 2.683901 1.55874 3 0.795609 3 -0 \nC 3 -0.795609 2.683901 -1.55874 2.12132 -2.12132 \nC 1.55874 -2.683901 0.795609 -3 0 -3 \nC -0.795609 -3 -1.55874 -2.683901 -2.12132 -2.12132 \nC -2.683901 -1.55874 -3 -0.795609 -3 0 \nC -3 0.795609 -2.683901 1.55874 -2.12132 2.12132 \nC -1.55874 2.683901 -0.795609 3 0 3 \nz\n\" id=\"C0_0_a0f5441167\"/>\n    </defs>\n    <g clip-path=\"url(#p219e57313d)\">\n     <use style=\"fill:#001c7f;stroke:#ffffff;stroke-width:0.48;\" x=\"279.964837\" xlink:href=\"#C0_0_a0f5441167\" y=\"156.810195\"/>\n    </g>\n    <g clip-path=\"url(#p219e57313d)\">\n     <use style=\"fill:#001c7f;stroke:#ffffff;stroke-width:0.48;\" x=\"241.954229\" xlink:href=\"#C0_0_a0f5441167\" y=\"133.042008\"/>\n    </g>\n    <g clip-path=\"url(#p219e57313d)\">\n     <use style=\"fill:#001c7f;stroke:#ffffff;stroke-width:0.48;\" x=\"238.727553\" xlink:href=\"#C0_0_a0f5441167\" y=\"160.011648\"/>\n    </g>\n    <g clip-path=\"url(#p219e57313d)\">\n     <use style=\"fill:#001c7f;stroke:#ffffff;stroke-width:0.48;\" x=\"299.701042\" xlink:href=\"#C0_0_a0f5441167\" y=\"102.034565\"/>\n    </g>\n    <g clip-path=\"url(#p219e57313d)\">\n     <use style=\"fill:#001c7f;stroke:#ffffff;stroke-width:0.48;\" x=\"313.668913\" xlink:href=\"#C0_0_a0f5441167\" y=\"162.772444\"/>\n    </g>\n    <g clip-path=\"url(#p219e57313d)\">\n     <use style=\"fill:#001c7f;stroke:#ffffff;stroke-width:0.48;\" x=\"313.181447\" xlink:href=\"#C0_0_a0f5441167\" y=\"47.687817\"/>\n    </g>\n    <g clip-path=\"url(#p219e57313d)\">\n     <use style=\"fill:#001c7f;stroke:#ffffff;stroke-width:0.48;\" x=\"307.606532\" xlink:href=\"#C0_0_a0f5441167\" y=\"178.723916\"/>\n    </g>\n    <g clip-path=\"url(#p219e57313d)\">\n     <use style=\"fill:#001c7f;stroke:#ffffff;stroke-width:0.48;\" x=\"315.117365\" xlink:href=\"#C0_0_a0f5441167\" y=\"106.391691\"/>\n    </g>\n    <g clip-path=\"url(#p219e57313d)\">\n     <use style=\"fill:#001c7f;stroke:#ffffff;stroke-width:0.48;\" x=\"257.7761\" xlink:href=\"#C0_0_a0f5441167\" y=\"128.250103\"/>\n    </g>\n    <g clip-path=\"url(#p219e57313d)\">\n     <use style=\"fill:#001c7f;stroke:#ffffff;stroke-width:0.48;\" x=\"343.204729\" xlink:href=\"#C0_0_a0f5441167\" y=\"78.209255\"/>\n    </g>\n    <g clip-path=\"url(#p219e57313d)\">\n     <use style=\"fill:#001c7f;stroke:#ffffff;stroke-width:0.48;\" x=\"314.764789\" xlink:href=\"#C0_0_a0f5441167\" y=\"75.87587\"/>\n    </g>\n    <g clip-path=\"url(#p219e57313d)\">\n     <use style=\"fill:#001c7f;stroke:#ffffff;stroke-width:0.48;\" x=\"343.673882\" xlink:href=\"#C0_0_a0f5441167\" y=\"57.736267\"/>\n    </g>\n    <g clip-path=\"url(#p219e57313d)\">\n     <use style=\"fill:#001c7f;stroke:#ffffff;stroke-width:0.48;\" x=\"309.858271\" xlink:href=\"#C0_0_a0f5441167\" y=\"162.53068\"/>\n    </g>\n    <g clip-path=\"url(#p219e57313d)\">\n     <use style=\"fill:#001c7f;stroke:#ffffff;stroke-width:0.48;\" x=\"307.606532\" xlink:href=\"#C0_0_a0f5441167\" y=\"178.723916\"/>\n    </g>\n    <g clip-path=\"url(#p219e57313d)\">\n     <use style=\"fill:#001c7f;stroke:#ffffff;stroke-width:0.48;\" x=\"271.106875\" xlink:href=\"#C0_0_a0f5441167\" y=\"173.683279\"/>\n    </g>\n    <g clip-path=\"url(#p219e57313d)\">\n     <use style=\"fill:#001c7f;stroke:#ffffff;stroke-width:0.48;\" x=\"271.106875\" xlink:href=\"#C0_0_a0f5441167\" y=\"173.683279\"/>\n    </g>\n    <g clip-path=\"url(#p219e57313d)\">\n     <use style=\"fill:#001c7f;stroke:#ffffff;stroke-width:0.48;\" x=\"303.837667\" xlink:href=\"#C0_0_a0f5441167\" y=\"121.279531\"/>\n    </g>\n    <g clip-path=\"url(#p219e57313d)\">\n     <use style=\"fill:#001c7f;stroke:#ffffff;stroke-width:0.48;\" x=\"292.053732\" xlink:href=\"#C0_0_a0f5441167\" y=\"88.846913\"/>\n    </g>\n    <g clip-path=\"url(#p219e57313d)\">\n     <use style=\"fill:#001c7f;stroke:#ffffff;stroke-width:0.48;\" x=\"270.411291\" xlink:href=\"#C0_0_a0f5441167\" y=\"133.018006\"/>\n    </g>\n    <g clip-path=\"url(#p219e57313d)\">\n     <use style=\"fill:#001c7f;stroke:#ffffff;stroke-width:0.48;\" x=\"232.244743\" xlink:href=\"#C0_0_a0f5441167\" y=\"157.400202\"/>\n    </g>\n    <g clip-path=\"url(#p219e57313d)\">\n     <use style=\"fill:#001c7f;stroke:#ffffff;stroke-width:0.48;\" x=\"276.964033\" xlink:href=\"#C0_0_a0f5441167\" y=\"158.65284\"/>\n    </g>\n    <g clip-path=\"url(#p219e57313d)\">\n     <use style=\"fill:#001c7f;stroke:#ffffff;stroke-width:0.48;\" x=\"258.147242\" xlink:href=\"#C0_0_a0f5441167\" y=\"134.325208\"/>\n    </g>\n    <g clip-path=\"url(#p219e57313d)\">\n     <use style=\"fill:#001c7f;stroke:#ffffff;stroke-width:0.48;\" x=\"298.196925\" xlink:href=\"#C0_0_a0f5441167\" y=\"189.86903\"/>\n    </g>\n    <g clip-path=\"url(#p219e57313d)\">\n     <use style=\"fill:#001c7f;stroke:#ffffff;stroke-width:0.48;\" x=\"281.855496\" xlink:href=\"#C0_0_a0f5441167\" y=\"111.102552\"/>\n    </g>\n    <g clip-path=\"url(#p219e57313d)\">\n     <use style=\"fill:#001c7f;stroke:#ffffff;stroke-width:0.48;\" x=\"306.341254\" xlink:href=\"#C0_0_a0f5441167\" y=\"140.494687\"/>\n    </g>\n    <g clip-path=\"url(#p219e57313d)\">\n     <use style=\"fill:#001c7f;stroke:#ffffff;stroke-width:0.48;\" x=\"271.086445\" xlink:href=\"#C0_0_a0f5441167\" y=\"154.488828\"/>\n    </g>\n    <g clip-path=\"url(#p219e57313d)\">\n     <use style=\"fill:#001c7f;stroke:#ffffff;stroke-width:0.48;\" x=\"483.509318\" xlink:href=\"#C0_0_a0f5441167\" y=\"238.227614\"/>\n    </g>\n    <g clip-path=\"url(#p219e57313d)\">\n     <use style=\"fill:#001c7f;stroke:#ffffff;stroke-width:0.48;\" x=\"309.524409\" xlink:href=\"#C0_0_a0f5441167\" y=\"49.472401\"/>\n    </g>\n    <g clip-path=\"url(#p219e57313d)\">\n     <use style=\"fill:#001c7f;stroke:#ffffff;stroke-width:0.48;\" x=\"265.832207\" xlink:href=\"#C0_0_a0f5441167\" y=\"123.516735\"/>\n    </g>\n    <g clip-path=\"url(#p219e57313d)\">\n     <use style=\"fill:#001c7f;stroke:#ffffff;stroke-width:0.48;\" x=\"335.621696\" xlink:href=\"#C0_0_a0f5441167\" y=\"160.454741\"/>\n    </g>\n    <g clip-path=\"url(#p219e57313d)\">\n     <use style=\"fill:#001c7f;stroke:#ffffff;stroke-width:0.48;\" x=\"258.147242\" xlink:href=\"#C0_0_a0f5441167\" y=\"134.325208\"/>\n    </g>\n    <g clip-path=\"url(#p219e57313d)\">\n     <use style=\"fill:#001c7f;stroke:#ffffff;stroke-width:0.48;\" x=\"274.247213\" xlink:href=\"#C0_0_a0f5441167\" y=\"94.901288\"/>\n    </g>\n    <g clip-path=\"url(#p219e57313d)\">\n     <use style=\"fill:#001c7f;stroke:#ffffff;stroke-width:0.48;\" x=\"294.503452\" xlink:href=\"#C0_0_a0f5441167\" y=\"163.695982\"/>\n    </g>\n    <g clip-path=\"url(#p219e57313d)\">\n     <use style=\"fill:#001c7f;stroke:#ffffff;stroke-width:0.48;\" x=\"265.529779\" xlink:href=\"#C0_0_a0f5441167\" y=\"118.088637\"/>\n    </g>\n    <g clip-path=\"url(#p219e57313d)\">\n     <use style=\"fill:#001c7f;stroke:#ffffff;stroke-width:0.48;\" x=\"273.328831\" xlink:href=\"#C0_0_a0f5441167\" y=\"151.134702\"/>\n    </g>\n    <g clip-path=\"url(#p219e57313d)\">\n     <use style=\"fill:#001c7f;stroke:#ffffff;stroke-width:0.48;\" x=\"325.136444\" xlink:href=\"#C0_0_a0f5441167\" y=\"40.554886\"/>\n    </g>\n    <g clip-path=\"url(#p219e57313d)\">\n     <use style=\"fill:#001c7f;stroke:#ffffff;stroke-width:0.48;\" x=\"300.103779\" xlink:href=\"#C0_0_a0f5441167\" y=\"132.213681\"/>\n    </g>\n    <g clip-path=\"url(#p219e57313d)\">\n     <use style=\"fill:#001c7f;stroke:#ffffff;stroke-width:0.48;\" x=\"287.393151\" xlink:href=\"#C0_0_a0f5441167\" y=\"139.560994\"/>\n    </g>\n    <g clip-path=\"url(#p219e57313d)\">\n     <use style=\"fill:#001c7f;stroke:#ffffff;stroke-width:0.48;\" x=\"264.009713\" xlink:href=\"#C0_0_a0f5441167\" y=\"102.842498\"/>\n    </g>\n    <g clip-path=\"url(#p219e57313d)\">\n     <use style=\"fill:#001c7f;stroke:#ffffff;stroke-width:0.48;\" x=\"343.673882\" xlink:href=\"#C0_0_a0f5441167\" y=\"57.736267\"/>\n    </g>\n    <g clip-path=\"url(#p219e57313d)\">\n     <use style=\"fill:#001c7f;stroke:#ffffff;stroke-width:0.48;\" x=\"343.204729\" xlink:href=\"#C0_0_a0f5441167\" y=\"78.209255\"/>\n    </g>\n    <g clip-path=\"url(#p219e57313d)\">\n     <use style=\"fill:#001c7f;stroke:#ffffff;stroke-width:0.48;\" x=\"297.48787\" xlink:href=\"#C0_0_a0f5441167\" y=\"118.467594\"/>\n    </g>\n    <g clip-path=\"url(#p219e57313d)\">\n     <use style=\"fill:#b1400d;stroke:#ffffff;stroke-width:0.48;\" x=\"227.369415\" xlink:href=\"#C0_0_a0f5441167\" y=\"169.191668\"/>\n    </g>\n    <g clip-path=\"url(#p219e57313d)\">\n     <use style=\"fill:#b1400d;stroke:#ffffff;stroke-width:0.48;\" x=\"262.086225\" xlink:href=\"#C0_0_a0f5441167\" y=\"93.322059\"/>\n    </g>\n    <g clip-path=\"url(#p219e57313d)\">\n     <use style=\"fill:#b1400d;stroke:#ffffff;stroke-width:0.48;\" x=\"192.66879\" xlink:href=\"#C0_0_a0f5441167\" y=\"121.892425\"/>\n    </g>\n    <g clip-path=\"url(#p219e57313d)\">\n     <use style=\"fill:#b1400d;stroke:#ffffff;stroke-width:0.48;\" x=\"326.260431\" xlink:href=\"#C0_0_a0f5441167\" y=\"145.129102\"/>\n    </g>\n    <g clip-path=\"url(#p219e57313d)\">\n     <use style=\"fill:#b1400d;stroke:#ffffff;stroke-width:0.48;\" x=\"248.172018\" xlink:href=\"#C0_0_a0f5441167\" y=\"125.448354\"/>\n    </g>\n    <g clip-path=\"url(#p219e57313d)\">\n     <use style=\"fill:#b1400d;stroke:#ffffff;stroke-width:0.48;\" x=\"291.376713\" xlink:href=\"#C0_0_a0f5441167\" y=\"106.780101\"/>\n    </g>\n    <g clip-path=\"url(#p219e57313d)\">\n     <use style=\"fill:#b1400d;stroke:#ffffff;stroke-width:0.48;\" x=\"179.525319\" xlink:href=\"#C0_0_a0f5441167\" y=\"139.730395\"/>\n    </g>\n    <g clip-path=\"url(#p219e57313d)\">\n     <use style=\"fill:#b1400d;stroke:#ffffff;stroke-width:0.48;\" x=\"293.482053\" xlink:href=\"#C0_0_a0f5441167\" y=\"183.599541\"/>\n    </g>\n    <g clip-path=\"url(#p219e57313d)\">\n     <use style=\"fill:#b1400d;stroke:#ffffff;stroke-width:0.48;\" x=\"394.651671\" xlink:href=\"#C0_0_a0f5441167\" y=\"184.477141\"/>\n    </g>\n    <g clip-path=\"url(#p219e57313d)\">\n     <use style=\"fill:#b1400d;stroke:#ffffff;stroke-width:0.48;\" x=\"217.362147\" xlink:href=\"#C0_0_a0f5441167\" y=\"109.334662\"/>\n    </g>\n    <g clip-path=\"url(#p219e57313d)\">\n     <use style=\"fill:#b1400d;stroke:#ffffff;stroke-width:0.48;\" x=\"187.00339\" xlink:href=\"#C0_0_a0f5441167\" y=\"122.98133\"/>\n    </g>\n    <g clip-path=\"url(#p219e57313d)\">\n     <use style=\"fill:#b1400d;stroke:#ffffff;stroke-width:0.48;\" x=\"228.899085\" xlink:href=\"#C0_0_a0f5441167\" y=\"170.197337\"/>\n    </g>\n    <g clip-path=\"url(#p219e57313d)\">\n     <use style=\"fill:#b1400d;stroke:#ffffff;stroke-width:0.48;\" x=\"193.514358\" xlink:href=\"#C0_0_a0f5441167\" y=\"124.710469\"/>\n    </g>\n    <g clip-path=\"url(#p219e57313d)\">\n     <use style=\"fill:#b1400d;stroke:#ffffff;stroke-width:0.48;\" x=\"254.774862\" xlink:href=\"#C0_0_a0f5441167\" y=\"183.012152\"/>\n    </g>\n    <g clip-path=\"url(#p219e57313d)\">\n     <use style=\"fill:#b1400d;stroke:#ffffff;stroke-width:0.48;\" x=\"184.348558\" xlink:href=\"#C0_0_a0f5441167\" y=\"130.708185\"/>\n    </g>\n    <g clip-path=\"url(#p219e57313d)\">\n     <use style=\"fill:#b1400d;stroke:#ffffff;stroke-width:0.48;\" x=\"289.108257\" xlink:href=\"#C0_0_a0f5441167\" y=\"182.28709\"/>\n    </g>\n    <g clip-path=\"url(#p219e57313d)\">\n     <use style=\"fill:#b1400d;stroke:#ffffff;stroke-width:0.48;\" x=\"179.145682\" xlink:href=\"#C0_0_a0f5441167\" y=\"139.405684\"/>\n    </g>\n    <g clip-path=\"url(#p219e57313d)\">\n     <use style=\"fill:#b1400d;stroke:#ffffff;stroke-width:0.48;\" x=\"195.704666\" xlink:href=\"#C0_0_a0f5441167\" y=\"157.201882\"/>\n    </g>\n    <g clip-path=\"url(#p219e57313d)\">\n     <use style=\"fill:#b1400d;stroke:#ffffff;stroke-width:0.48;\" x=\"195.704666\" xlink:href=\"#C0_0_a0f5441167\" y=\"157.201882\"/>\n    </g>\n    <g clip-path=\"url(#p219e57313d)\">\n     <use style=\"fill:#b1400d;stroke:#ffffff;stroke-width:0.48;\" x=\"215.571587\" xlink:href=\"#C0_0_a0f5441167\" y=\"167.640325\"/>\n    </g>\n    <g clip-path=\"url(#p219e57313d)\">\n     <use style=\"fill:#b1400d;stroke:#ffffff;stroke-width:0.48;\" x=\"214.36848\" xlink:href=\"#C0_0_a0f5441167\" y=\"132.295271\"/>\n    </g>\n    <g clip-path=\"url(#p219e57313d)\">\n     <use style=\"fill:#b1400d;stroke:#ffffff;stroke-width:0.48;\" x=\"225.757482\" xlink:href=\"#C0_0_a0f5441167\" y=\"168.446453\"/>\n    </g>\n    <g clip-path=\"url(#p219e57313d)\">\n     <use style=\"fill:#b1400d;stroke:#ffffff;stroke-width:0.48;\" x=\"183.699605\" xlink:href=\"#C0_0_a0f5441167\" y=\"131.582741\"/>\n    </g>\n    <g clip-path=\"url(#p219e57313d)\">\n     <use style=\"fill:#b1400d;stroke:#ffffff;stroke-width:0.48;\" x=\"204.305868\" xlink:href=\"#C0_0_a0f5441167\" y=\"134.960986\"/>\n    </g>\n    <g clip-path=\"url(#p219e57313d)\">\n     <use style=\"fill:#b1400d;stroke:#ffffff;stroke-width:0.48;\" x=\"183.317234\" xlink:href=\"#C0_0_a0f5441167\" y=\"135.011445\"/>\n    </g>\n    <g clip-path=\"url(#p219e57313d)\">\n     <use style=\"fill:#b1400d;stroke:#ffffff;stroke-width:0.48;\" x=\"195.055712\" xlink:href=\"#C0_0_a0f5441167\" y=\"158.076438\"/>\n    </g>\n    <g clip-path=\"url(#p219e57313d)\">\n     <use style=\"fill:#b1400d;stroke:#ffffff;stroke-width:0.48;\" x=\"189.33404\" xlink:href=\"#C0_0_a0f5441167\" y=\"129.558369\"/>\n    </g>\n    <g clip-path=\"url(#p219e57313d)\">\n     <use style=\"fill:#b1400d;stroke:#ffffff;stroke-width:0.48;\" x=\"183.317234\" xlink:href=\"#C0_0_a0f5441167\" y=\"135.011445\"/>\n    </g>\n    <g clip-path=\"url(#p219e57313d)\">\n     <use style=\"fill:#b1400d;stroke:#ffffff;stroke-width:0.48;\" x=\"196.150866\" xlink:href=\"#C0_0_a0f5441167\" y=\"157.566037\"/>\n    </g>\n    <g clip-path=\"url(#p219e57313d)\">\n     <use style=\"fill:#b1400d;stroke:#ffffff;stroke-width:0.48;\" x=\"179.145682\" xlink:href=\"#C0_0_a0f5441167\" y=\"139.405684\"/>\n    </g>\n    <g clip-path=\"url(#p219e57313d)\">\n     <use style=\"fill:#b1400d;stroke:#ffffff;stroke-width:0.48;\" x=\"220.432939\" xlink:href=\"#C0_0_a0f5441167\" y=\"166.232187\"/>\n    </g>\n    <g clip-path=\"url(#p219e57313d)\">\n     <use style=\"fill:#b1400d;stroke:#ffffff;stroke-width:0.48;\" x=\"202.833234\" xlink:href=\"#C0_0_a0f5441167\" y=\"153.095003\"/>\n    </g>\n    <g clip-path=\"url(#p219e57313d)\">\n     <use style=\"fill:#b1400d;stroke:#ffffff;stroke-width:0.48;\" x=\"225.548148\" xlink:href=\"#C0_0_a0f5441167\" y=\"168.124888\"/>\n    </g>\n    <g clip-path=\"url(#p219e57313d)\">\n     <use style=\"fill:#b1400d;stroke:#ffffff;stroke-width:0.48;\" x=\"216.536259\" xlink:href=\"#C0_0_a0f5441167\" y=\"166.968371\"/>\n    </g>\n    <g clip-path=\"url(#p219e57313d)\">\n     <use style=\"fill:#b1400d;stroke:#ffffff;stroke-width:0.48;\" x=\"265.56663\" xlink:href=\"#C0_0_a0f5441167\" y=\"173.069576\"/>\n    </g>\n    <g clip-path=\"url(#p219e57313d)\">\n     <use style=\"fill:#b1400d;stroke:#ffffff;stroke-width:0.48;\" x=\"202.833234\" xlink:href=\"#C0_0_a0f5441167\" y=\"153.095003\"/>\n    </g>\n    <g clip-path=\"url(#p219e57313d)\">\n     <use style=\"fill:#b1400d;stroke:#ffffff;stroke-width:0.48;\" x=\"215.571587\" xlink:href=\"#C0_0_a0f5441167\" y=\"167.640325\"/>\n    </g>\n    <g clip-path=\"url(#p219e57313d)\">\n     <use style=\"fill:#b1400d;stroke:#ffffff;stroke-width:0.48;\" x=\"215.279938\" xlink:href=\"#C0_0_a0f5441167\" y=\"166.535005\"/>\n    </g>\n    <g clip-path=\"url(#p219e57313d)\">\n     <use style=\"fill:#b1400d;stroke:#ffffff;stroke-width:0.48;\" x=\"253.689188\" xlink:href=\"#C0_0_a0f5441167\" y=\"178.45189\"/>\n    </g>\n    <g clip-path=\"url(#p219e57313d)\">\n     <use style=\"fill:#b1400d;stroke:#ffffff;stroke-width:0.48;\" x=\"333.795748\" xlink:href=\"#C0_0_a0f5441167\" y=\"188.760324\"/>\n    </g>\n    <g clip-path=\"url(#p219e57313d)\">\n     <use style=\"fill:#b1400d;stroke:#ffffff;stroke-width:0.48;\" x=\"252.539869\" xlink:href=\"#C0_0_a0f5441167\" y=\"181.004811\"/>\n    </g>\n    <g clip-path=\"url(#p219e57313d)\">\n     <use style=\"fill:#b1400d;stroke:#ffffff;stroke-width:0.48;\" x=\"195.055712\" xlink:href=\"#C0_0_a0f5441167\" y=\"158.076438\"/>\n    </g>\n    <g clip-path=\"url(#p219e57313d)\">\n     <use style=\"fill:#b1400d;stroke:#ffffff;stroke-width:0.48;\" x=\"220.432939\" xlink:href=\"#C0_0_a0f5441167\" y=\"166.232187\"/>\n    </g>\n    <g clip-path=\"url(#p219e57313d)\">\n     <use style=\"fill:#b1400d;stroke:#ffffff;stroke-width:0.48;\" x=\"195.704666\" xlink:href=\"#C0_0_a0f5441167\" y=\"157.201882\"/>\n    </g>\n    <g clip-path=\"url(#p219e57313d)\">\n     <use style=\"fill:#b1400d;stroke:#ffffff;stroke-width:0.48;\" x=\"183.699605\" xlink:href=\"#C0_0_a0f5441167\" y=\"131.582741\"/>\n    </g>\n    <g clip-path=\"url(#p219e57313d)\">\n     <use style=\"fill:#b1400d;stroke:#ffffff;stroke-width:0.48;\" x=\"204.305868\" xlink:href=\"#C0_0_a0f5441167\" y=\"134.960986\"/>\n    </g>\n    <g clip-path=\"url(#p219e57313d)\">\n     <use style=\"fill:#b1400d;stroke:#ffffff;stroke-width:0.48;\" x=\"195.704666\" xlink:href=\"#C0_0_a0f5441167\" y=\"157.201882\"/>\n    </g>\n    <g clip-path=\"url(#p219e57313d)\">\n     <use style=\"fill:#b1400d;stroke:#ffffff;stroke-width:0.48;\" x=\"302.135018\" xlink:href=\"#C0_0_a0f5441167\" y=\"174.351855\"/>\n    </g>\n    <g clip-path=\"url(#p219e57313d)\">\n     <use style=\"fill:#b1400d;stroke:#ffffff;stroke-width:0.48;\" x=\"217.835443\" xlink:href=\"#C0_0_a0f5441167\" y=\"168.20927\"/>\n    </g>\n    <g clip-path=\"url(#p219e57313d)\">\n     <use style=\"fill:#b1400d;stroke:#ffffff;stroke-width:0.48;\" x=\"215.571587\" xlink:href=\"#C0_0_a0f5441167\" y=\"167.640325\"/>\n    </g>\n    <g clip-path=\"url(#p219e57313d)\">\n     <use style=\"fill:#b1400d;stroke:#ffffff;stroke-width:0.48;\" x=\"179.938995\" xlink:href=\"#C0_0_a0f5441167\" y=\"139.948484\"/>\n    </g>\n    <g clip-path=\"url(#p219e57313d)\">\n     <use style=\"fill:#b1400d;stroke:#ffffff;stroke-width:0.48;\" x=\"195.704666\" xlink:href=\"#C0_0_a0f5441167\" y=\"157.201882\"/>\n    </g>\n    <g clip-path=\"url(#p219e57313d)\">\n     <use style=\"fill:#b1400d;stroke:#ffffff;stroke-width:0.48;\" x=\"256.046461\" xlink:href=\"#C0_0_a0f5441167\" y=\"159.042489\"/>\n    </g>\n    <g clip-path=\"url(#p219e57313d)\">\n     <use style=\"fill:#b1400d;stroke:#ffffff;stroke-width:0.48;\" x=\"228.960915\" xlink:href=\"#C0_0_a0f5441167\" y=\"169.421585\"/>\n    </g>\n    <g clip-path=\"url(#p219e57313d)\">\n     <use style=\"fill:#b1400d;stroke:#ffffff;stroke-width:0.48;\" x=\"179.938995\" xlink:href=\"#C0_0_a0f5441167\" y=\"139.948484\"/>\n    </g>\n    <g clip-path=\"url(#p219e57313d)\">\n     <use style=\"fill:#b1400d;stroke:#ffffff;stroke-width:0.48;\" x=\"195.704666\" xlink:href=\"#C0_0_a0f5441167\" y=\"157.201882\"/>\n    </g>\n    <g clip-path=\"url(#p219e57313d)\">\n     <use style=\"fill:#b1400d;stroke:#ffffff;stroke-width:0.48;\" x=\"195.704666\" xlink:href=\"#C0_0_a0f5441167\" y=\"157.201882\"/>\n    </g>\n    <g clip-path=\"url(#p219e57313d)\">\n     <use style=\"fill:#b1400d;stroke:#ffffff;stroke-width:0.48;\" x=\"215.279938\" xlink:href=\"#C0_0_a0f5441167\" y=\"166.535005\"/>\n    </g>\n    <g clip-path=\"url(#p219e57313d)\">\n     <use style=\"fill:#b1400d;stroke:#ffffff;stroke-width:0.48;\" x=\"225.548148\" xlink:href=\"#C0_0_a0f5441167\" y=\"168.124888\"/>\n    </g>\n    <g clip-path=\"url(#p219e57313d)\">\n     <use style=\"fill:#b1400d;stroke:#ffffff;stroke-width:0.48;\" x=\"179.938995\" xlink:href=\"#C0_0_a0f5441167\" y=\"139.948484\"/>\n    </g>\n    <g clip-path=\"url(#p219e57313d)\">\n     <use style=\"fill:#b1400d;stroke:#ffffff;stroke-width:0.48;\" x=\"246.019948\" xlink:href=\"#C0_0_a0f5441167\" y=\"177.013779\"/>\n    </g>\n    <g clip-path=\"url(#p219e57313d)\">\n     <use style=\"fill:#b1400d;stroke:#ffffff;stroke-width:0.48;\" x=\"216.167509\" xlink:href=\"#C0_0_a0f5441167\" y=\"166.016937\"/>\n    </g>\n    <g clip-path=\"url(#p219e57313d)\">\n     <use style=\"fill:#b1400d;stroke:#ffffff;stroke-width:0.48;\" x=\"195.055712\" xlink:href=\"#C0_0_a0f5441167\" y=\"158.076438\"/>\n    </g>\n    <g clip-path=\"url(#p219e57313d)\">\n     <use style=\"fill:#b1400d;stroke:#ffffff;stroke-width:0.48;\" x=\"195.704666\" xlink:href=\"#C0_0_a0f5441167\" y=\"157.201882\"/>\n    </g>\n    <g clip-path=\"url(#p219e57313d)\">\n     <use style=\"fill:#b1400d;stroke:#ffffff;stroke-width:0.48;\" x=\"225.548148\" xlink:href=\"#C0_0_a0f5441167\" y=\"168.124888\"/>\n    </g>\n    <g clip-path=\"url(#p219e57313d)\">\n     <use style=\"fill:#b1400d;stroke:#ffffff;stroke-width:0.48;\" x=\"195.704666\" xlink:href=\"#C0_0_a0f5441167\" y=\"157.201882\"/>\n    </g>\n    <g clip-path=\"url(#p219e57313d)\">\n     <use style=\"fill:#b1400d;stroke:#ffffff;stroke-width:0.48;\" x=\"195.704666\" xlink:href=\"#C0_0_a0f5441167\" y=\"157.201882\"/>\n    </g>\n    <g clip-path=\"url(#p219e57313d)\">\n     <use style=\"fill:#b1400d;stroke:#ffffff;stroke-width:0.48;\" x=\"208.369997\" xlink:href=\"#C0_0_a0f5441167\" y=\"139.678768\"/>\n    </g>\n    <g clip-path=\"url(#p219e57313d)\">\n     <use style=\"fill:#b1400d;stroke:#ffffff;stroke-width:0.48;\" x=\"217.835443\" xlink:href=\"#C0_0_a0f5441167\" y=\"168.20927\"/>\n    </g>\n    <g clip-path=\"url(#p219e57313d)\">\n     <use style=\"fill:#b1400d;stroke:#ffffff;stroke-width:0.48;\" x=\"220.432939\" xlink:href=\"#C0_0_a0f5441167\" y=\"166.232187\"/>\n    </g>\n    <g clip-path=\"url(#p219e57313d)\">\n     <use style=\"fill:#b1400d;stroke:#ffffff;stroke-width:0.48;\" x=\"228.301919\" xlink:href=\"#C0_0_a0f5441167\" y=\"166.023503\"/>\n    </g>\n    <g clip-path=\"url(#p219e57313d)\">\n     <use style=\"fill:#b1400d;stroke:#ffffff;stroke-width:0.48;\" x=\"195.704666\" xlink:href=\"#C0_0_a0f5441167\" y=\"157.201882\"/>\n    </g>\n    <g clip-path=\"url(#p219e57313d)\">\n     <use style=\"fill:#b1400d;stroke:#ffffff;stroke-width:0.48;\" x=\"220.635989\" xlink:href=\"#C0_0_a0f5441167\" y=\"166.996424\"/>\n    </g>\n    <g clip-path=\"url(#p219e57313d)\">\n     <use style=\"fill:#b1400d;stroke:#ffffff;stroke-width:0.48;\" x=\"220.432939\" xlink:href=\"#C0_0_a0f5441167\" y=\"166.232187\"/>\n    </g>\n    <g clip-path=\"url(#p219e57313d)\">\n     <use style=\"fill:#b1400d;stroke:#ffffff;stroke-width:0.48;\" x=\"183.317234\" xlink:href=\"#C0_0_a0f5441167\" y=\"135.011445\"/>\n    </g>\n    <g clip-path=\"url(#p219e57313d)\">\n     <use style=\"fill:#b1400d;stroke:#ffffff;stroke-width:0.48;\" x=\"246.019948\" xlink:href=\"#C0_0_a0f5441167\" y=\"177.013779\"/>\n    </g>\n    <g clip-path=\"url(#p219e57313d)\">\n     <use style=\"fill:#b1400d;stroke:#ffffff;stroke-width:0.48;\" x=\"186.70952\" xlink:href=\"#C0_0_a0f5441167\" y=\"134.236986\"/>\n    </g>\n    <g clip-path=\"url(#p219e57313d)\">\n     <use style=\"fill:#b1400d;stroke:#ffffff;stroke-width:0.48;\" x=\"240.008211\" xlink:href=\"#C0_0_a0f5441167\" y=\"175.56531\"/>\n    </g>\n    <g clip-path=\"url(#p219e57313d)\">\n     <use style=\"fill:#b1400d;stroke:#ffffff;stroke-width:0.48;\" x=\"195.704666\" xlink:href=\"#C0_0_a0f5441167\" y=\"157.201882\"/>\n    </g>\n    <g clip-path=\"url(#p219e57313d)\">\n     <use style=\"fill:#b1400d;stroke:#ffffff;stroke-width:0.48;\" x=\"191.640537\" xlink:href=\"#C0_0_a0f5441167\" y=\"152.4841\"/>\n    </g>\n    <g clip-path=\"url(#p219e57313d)\">\n     <use style=\"fill:#b1400d;stroke:#ffffff;stroke-width:0.48;\" x=\"195.704666\" xlink:href=\"#C0_0_a0f5441167\" y=\"157.201882\"/>\n    </g>\n    <g clip-path=\"url(#p219e57313d)\">\n     <use style=\"fill:#b1400d;stroke:#ffffff;stroke-width:0.48;\" x=\"186.70952\" xlink:href=\"#C0_0_a0f5441167\" y=\"134.236986\"/>\n    </g>\n    <g clip-path=\"url(#p219e57313d)\">\n     <use style=\"fill:#b1400d;stroke:#ffffff;stroke-width:0.48;\" x=\"205.562189\" xlink:href=\"#C0_0_a0f5441167\" y=\"135.394353\"/>\n    </g>\n    <g clip-path=\"url(#p219e57313d)\">\n     <use style=\"fill:#b1400d;stroke:#ffffff;stroke-width:0.48;\" x=\"253.689188\" xlink:href=\"#C0_0_a0f5441167\" y=\"178.45189\"/>\n    </g>\n    <g clip-path=\"url(#p219e57313d)\">\n     <use style=\"fill:#b1400d;stroke:#ffffff;stroke-width:0.48;\" x=\"192.896858\" xlink:href=\"#C0_0_a0f5441167\" y=\"152.917467\"/>\n    </g>\n    <g clip-path=\"url(#p219e57313d)\">\n     <use style=\"fill:#b1400d;stroke:#ffffff;stroke-width:0.48;\" x=\"225.548148\" xlink:href=\"#C0_0_a0f5441167\" y=\"168.124888\"/>\n    </g>\n    <g clip-path=\"url(#p219e57313d)\">\n     <use style=\"fill:#b1400d;stroke:#ffffff;stroke-width:0.48;\" x=\"251.172122\" xlink:href=\"#C0_0_a0f5441167\" y=\"176.522701\"/>\n    </g>\n    <g clip-path=\"url(#p219e57313d)\">\n     <use style=\"fill:#b1400d;stroke:#ffffff;stroke-width:0.48;\" x=\"192.896858\" xlink:href=\"#C0_0_a0f5441167\" y=\"152.917467\"/>\n    </g>\n    <g clip-path=\"url(#p219e57313d)\">\n     <use style=\"fill:#b1400d;stroke:#ffffff;stroke-width:0.48;\" x=\"195.704666\" xlink:href=\"#C0_0_a0f5441167\" y=\"157.201882\"/>\n    </g>\n    <g clip-path=\"url(#p219e57313d)\">\n     <use style=\"fill:#b1400d;stroke:#ffffff;stroke-width:0.48;\" x=\"195.704666\" xlink:href=\"#C0_0_a0f5441167\" y=\"157.201882\"/>\n    </g>\n    <g clip-path=\"url(#p219e57313d)\">\n     <use style=\"fill:#b1400d;stroke:#ffffff;stroke-width:0.48;\" x=\"247.354537\" xlink:href=\"#C0_0_a0f5441167\" y=\"149.617334\"/>\n    </g>\n    <g clip-path=\"url(#p219e57313d)\">\n     <use style=\"fill:#b1400d;stroke:#ffffff;stroke-width:0.48;\" x=\"195.704666\" xlink:href=\"#C0_0_a0f5441167\" y=\"157.201882\"/>\n    </g>\n    <g clip-path=\"url(#p219e57313d)\">\n     <use style=\"fill:#b1400d;stroke:#ffffff;stroke-width:0.48;\" x=\"205.562189\" xlink:href=\"#C0_0_a0f5441167\" y=\"135.394353\"/>\n    </g>\n    <g clip-path=\"url(#p219e57313d)\">\n     <use style=\"fill:#b1400d;stroke:#ffffff;stroke-width:0.48;\" x=\"215.571587\" xlink:href=\"#C0_0_a0f5441167\" y=\"167.640325\"/>\n    </g>\n    <g clip-path=\"url(#p219e57313d)\">\n     <use style=\"fill:#b1400d;stroke:#ffffff;stroke-width:0.48;\" x=\"179.938995\" xlink:href=\"#C0_0_a0f5441167\" y=\"139.948484\"/>\n    </g>\n    <g clip-path=\"url(#p219e57313d)\">\n     <use style=\"fill:#b1400d;stroke:#ffffff;stroke-width:0.48;\" x=\"242.019825\" xlink:href=\"#C0_0_a0f5441167\" y=\"148.699516\"/>\n    </g>\n    <g clip-path=\"url(#p219e57313d)\">\n     <use style=\"fill:#b1400d;stroke:#ffffff;stroke-width:0.48;\" x=\"195.704666\" xlink:href=\"#C0_0_a0f5441167\" y=\"157.201882\"/>\n    </g>\n    <g clip-path=\"url(#p219e57313d)\">\n     <use style=\"fill:#b1400d;stroke:#ffffff;stroke-width:0.48;\" x=\"274.320275\" xlink:href=\"#C0_0_a0f5441167\" y=\"169.881071\"/>\n    </g>\n    <g clip-path=\"url(#p219e57313d)\">\n     <use style=\"fill:#b1400d;stroke:#ffffff;stroke-width:0.48;\" x=\"179.145682\" xlink:href=\"#C0_0_a0f5441167\" y=\"139.405684\"/>\n    </g>\n    <g clip-path=\"url(#p219e57313d)\">\n     <use style=\"fill:#b1400d;stroke:#ffffff;stroke-width:0.48;\" x=\"184.348558\" xlink:href=\"#C0_0_a0f5441167\" y=\"130.708185\"/>\n    </g>\n    <g clip-path=\"url(#p219e57313d)\">\n     <use style=\"fill:#b1400d;stroke:#ffffff;stroke-width:0.48;\" x=\"242.019825\" xlink:href=\"#C0_0_a0f5441167\" y=\"148.699516\"/>\n    </g>\n    <g clip-path=\"url(#p219e57313d)\">\n     <use style=\"fill:#b1400d;stroke:#ffffff;stroke-width:0.48;\" x=\"217.835443\" xlink:href=\"#C0_0_a0f5441167\" y=\"168.20927\"/>\n    </g>\n    <g clip-path=\"url(#p219e57313d)\">\n     <use style=\"fill:#b1400d;stroke:#ffffff;stroke-width:0.48;\" x=\"220.635989\" xlink:href=\"#C0_0_a0f5441167\" y=\"166.996424\"/>\n    </g>\n    <g clip-path=\"url(#p219e57313d)\">\n     <use style=\"fill:#b1400d;stroke:#ffffff;stroke-width:0.48;\" x=\"179.290042\" xlink:href=\"#C0_0_a0f5441167\" y=\"140.82304\"/>\n    </g>\n    <g clip-path=\"url(#p219e57313d)\">\n     <use style=\"fill:#b1400d;stroke:#ffffff;stroke-width:0.48;\" x=\"195.704666\" xlink:href=\"#C0_0_a0f5441167\" y=\"157.201882\"/>\n    </g>\n    <g clip-path=\"url(#p219e57313d)\">\n     <use style=\"fill:#b1400d;stroke:#ffffff;stroke-width:0.48;\" x=\"195.704666\" xlink:href=\"#C0_0_a0f5441167\" y=\"157.201882\"/>\n    </g>\n    <g clip-path=\"url(#p219e57313d)\">\n     <use style=\"fill:#b1400d;stroke:#ffffff;stroke-width:0.48;\" x=\"189.33404\" xlink:href=\"#C0_0_a0f5441167\" y=\"129.558369\"/>\n    </g>\n    <g clip-path=\"url(#p219e57313d)\">\n     <use style=\"fill:#b1400d;stroke:#ffffff;stroke-width:0.48;\" x=\"179.290042\" xlink:href=\"#C0_0_a0f5441167\" y=\"140.82304\"/>\n    </g>\n    <g clip-path=\"url(#p219e57313d)\">\n     <use style=\"fill:#b1400d;stroke:#ffffff;stroke-width:0.48;\" x=\"225.548148\" xlink:href=\"#C0_0_a0f5441167\" y=\"168.124888\"/>\n    </g>\n    <g clip-path=\"url(#p219e57313d)\">\n     <use style=\"fill:#b1400d;stroke:#ffffff;stroke-width:0.48;\" x=\"179.145682\" xlink:href=\"#C0_0_a0f5441167\" y=\"139.405684\"/>\n    </g>\n    <g clip-path=\"url(#p219e57313d)\">\n     <use style=\"fill:#b1400d;stroke:#ffffff;stroke-width:0.48;\" x=\"195.704666\" xlink:href=\"#C0_0_a0f5441167\" y=\"157.201882\"/>\n    </g>\n    <g clip-path=\"url(#p219e57313d)\">\n     <use style=\"fill:#b1400d;stroke:#ffffff;stroke-width:0.48;\" x=\"179.938995\" xlink:href=\"#C0_0_a0f5441167\" y=\"139.948484\"/>\n    </g>\n    <g clip-path=\"url(#p219e57313d)\">\n     <use style=\"fill:#b1400d;stroke:#ffffff;stroke-width:0.48;\" x=\"179.938995\" xlink:href=\"#C0_0_a0f5441167\" y=\"139.948484\"/>\n    </g>\n    <g clip-path=\"url(#p219e57313d)\">\n     <use style=\"fill:#b1400d;stroke:#ffffff;stroke-width:0.48;\" x=\"179.938995\" xlink:href=\"#C0_0_a0f5441167\" y=\"139.948484\"/>\n    </g>\n    <g clip-path=\"url(#p219e57313d)\">\n     <use style=\"fill:#b1400d;stroke:#ffffff;stroke-width:0.48;\" x=\"182.25982\" xlink:href=\"#C0_0_a0f5441167\" y=\"134.657213\"/>\n    </g>\n    <g clip-path=\"url(#p219e57313d)\">\n     <use style=\"fill:#b1400d;stroke:#ffffff;stroke-width:0.48;\" x=\"225.548148\" xlink:href=\"#C0_0_a0f5441167\" y=\"168.124888\"/>\n    </g>\n    <g clip-path=\"url(#p219e57313d)\">\n     <use style=\"fill:#b1400d;stroke:#ffffff;stroke-width:0.48;\" x=\"217.835443\" xlink:href=\"#C0_0_a0f5441167\" y=\"168.20927\"/>\n    </g>\n    <g clip-path=\"url(#p219e57313d)\">\n     <use style=\"fill:#b1400d;stroke:#ffffff;stroke-width:0.48;\" x=\"195.055712\" xlink:href=\"#C0_0_a0f5441167\" y=\"158.076438\"/>\n    </g>\n    <g clip-path=\"url(#p219e57313d)\">\n     <use style=\"fill:#b1400d;stroke:#ffffff;stroke-width:0.48;\" x=\"195.704666\" xlink:href=\"#C0_0_a0f5441167\" y=\"157.201882\"/>\n    </g>\n    <g clip-path=\"url(#p219e57313d)\">\n     <use style=\"fill:#b1400d;stroke:#ffffff;stroke-width:0.48;\" x=\"195.055712\" xlink:href=\"#C0_0_a0f5441167\" y=\"158.076438\"/>\n    </g>\n    <g clip-path=\"url(#p219e57313d)\">\n     <use style=\"fill:#b1400d;stroke:#ffffff;stroke-width:0.48;\" x=\"195.055712\" xlink:href=\"#C0_0_a0f5441167\" y=\"158.076438\"/>\n    </g>\n    <g clip-path=\"url(#p219e57313d)\">\n     <use style=\"fill:#b1400d;stroke:#ffffff;stroke-width:0.48;\" x=\"240.008211\" xlink:href=\"#C0_0_a0f5441167\" y=\"175.56531\"/>\n    </g>\n    <g clip-path=\"url(#p219e57313d)\">\n     <use style=\"fill:#b1400d;stroke:#ffffff;stroke-width:0.48;\" x=\"225.548148\" xlink:href=\"#C0_0_a0f5441167\" y=\"168.124888\"/>\n    </g>\n    <g clip-path=\"url(#p219e57313d)\">\n     <use style=\"fill:#b1400d;stroke:#ffffff;stroke-width:0.48;\" x=\"242.019825\" xlink:href=\"#C0_0_a0f5441167\" y=\"148.699516\"/>\n    </g>\n    <g clip-path=\"url(#p219e57313d)\">\n     <use style=\"fill:#b1400d;stroke:#ffffff;stroke-width:0.48;\" x=\"195.704666\" xlink:href=\"#C0_0_a0f5441167\" y=\"157.201882\"/>\n    </g>\n    <g clip-path=\"url(#p219e57313d)\">\n     <use style=\"fill:#b1400d;stroke:#ffffff;stroke-width:0.48;\" x=\"215.279938\" xlink:href=\"#C0_0_a0f5441167\" y=\"166.535005\"/>\n    </g>\n    <g clip-path=\"url(#p219e57313d)\">\n     <use style=\"fill:#b1400d;stroke:#ffffff;stroke-width:0.48;\" x=\"195.408522\" xlink:href=\"#C0_0_a0f5441167\" y=\"158.228653\"/>\n    </g>\n    <g clip-path=\"url(#p219e57313d)\">\n     <use style=\"fill:#b1400d;stroke:#ffffff;stroke-width:0.48;\" x=\"335.765192\" xlink:href=\"#C0_0_a0f5441167\" y=\"182.503275\"/>\n    </g>\n    <g clip-path=\"url(#p219e57313d)\">\n     <use style=\"fill:#b1400d;stroke:#ffffff;stroke-width:0.48;\" x=\"195.704666\" xlink:href=\"#C0_0_a0f5441167\" y=\"157.201882\"/>\n    </g>\n    <g clip-path=\"url(#p219e57313d)\">\n     <use style=\"fill:#b1400d;stroke:#ffffff;stroke-width:0.48;\" x=\"195.704666\" xlink:href=\"#C0_0_a0f5441167\" y=\"157.201882\"/>\n    </g>\n    <g clip-path=\"url(#p219e57313d)\">\n     <use style=\"fill:#b1400d;stroke:#ffffff;stroke-width:0.48;\" x=\"183.699605\" xlink:href=\"#C0_0_a0f5441167\" y=\"131.582741\"/>\n    </g>\n    <g clip-path=\"url(#p219e57313d)\">\n     <use style=\"fill:#b1400d;stroke:#ffffff;stroke-width:0.48;\" x=\"253.711357\" xlink:href=\"#C0_0_a0f5441167\" y=\"161.787003\"/>\n    </g>\n    <g clip-path=\"url(#p219e57313d)\">\n     <use style=\"fill:#b1400d;stroke:#ffffff;stroke-width:0.48;\" x=\"195.408522\" xlink:href=\"#C0_0_a0f5441167\" y=\"158.228653\"/>\n    </g>\n    <g clip-path=\"url(#p219e57313d)\">\n     <use style=\"fill:#b1400d;stroke:#ffffff;stroke-width:0.48;\" x=\"240.008211\" xlink:href=\"#C0_0_a0f5441167\" y=\"175.56531\"/>\n    </g>\n    <g clip-path=\"url(#p219e57313d)\">\n     <use style=\"fill:#b1400d;stroke:#ffffff;stroke-width:0.48;\" x=\"192.896858\" xlink:href=\"#C0_0_a0f5441167\" y=\"152.917467\"/>\n    </g>\n    <g clip-path=\"url(#p219e57313d)\">\n     <use style=\"fill:#b1400d;stroke:#ffffff;stroke-width:0.48;\" x=\"260.923752\" xlink:href=\"#C0_0_a0f5441167\" y=\"173.48258\"/>\n    </g>\n    <g clip-path=\"url(#p219e57313d)\">\n     <use style=\"fill:#b1400d;stroke:#ffffff;stroke-width:0.48;\" x=\"186.70952\" xlink:href=\"#C0_0_a0f5441167\" y=\"134.236986\"/>\n    </g>\n    <g clip-path=\"url(#p219e57313d)\">\n     <use style=\"fill:#b1400d;stroke:#ffffff;stroke-width:0.48;\" x=\"228.960915\" xlink:href=\"#C0_0_a0f5441167\" y=\"169.421585\"/>\n    </g>\n    <g clip-path=\"url(#p219e57313d)\">\n     <use style=\"fill:#b1400d;stroke:#ffffff;stroke-width:0.48;\" x=\"195.704666\" xlink:href=\"#C0_0_a0f5441167\" y=\"157.201882\"/>\n    </g>\n    <g clip-path=\"url(#p219e57313d)\">\n     <use style=\"fill:#b1400d;stroke:#ffffff;stroke-width:0.48;\" x=\"179.938995\" xlink:href=\"#C0_0_a0f5441167\" y=\"139.948484\"/>\n    </g>\n    <g clip-path=\"url(#p219e57313d)\">\n     <use style=\"fill:#b1400d;stroke:#ffffff;stroke-width:0.48;\" x=\"195.704666\" xlink:href=\"#C0_0_a0f5441167\" y=\"157.201882\"/>\n    </g>\n    <g clip-path=\"url(#p219e57313d)\">\n     <use style=\"fill:#b1400d;stroke:#ffffff;stroke-width:0.48;\" x=\"243.233813\" xlink:href=\"#C0_0_a0f5441167\" y=\"159.875556\"/>\n    </g>\n    <g clip-path=\"url(#p219e57313d)\">\n     <use style=\"fill:#b1400d;stroke:#ffffff;stroke-width:0.48;\" x=\"318.772077\" xlink:href=\"#C0_0_a0f5441167\" y=\"190.554119\"/>\n    </g>\n    <g clip-path=\"url(#p219e57313d)\">\n     <use style=\"fill:#b1400d;stroke:#ffffff;stroke-width:0.48;\" x=\"195.055712\" xlink:href=\"#C0_0_a0f5441167\" y=\"158.076438\"/>\n    </g>\n    <g clip-path=\"url(#p219e57313d)\">\n     <use style=\"fill:#b1400d;stroke:#ffffff;stroke-width:0.48;\" x=\"215.279938\" xlink:href=\"#C0_0_a0f5441167\" y=\"166.535005\"/>\n    </g>\n    <g clip-path=\"url(#p219e57313d)\">\n     <use style=\"fill:#b1400d;stroke:#ffffff;stroke-width:0.48;\" x=\"190.971136\" xlink:href=\"#C0_0_a0f5441167\" y=\"124.853675\"/>\n    </g>\n    <g clip-path=\"url(#p219e57313d)\">\n     <use style=\"fill:#b1400d;stroke:#ffffff;stroke-width:0.48;\" x=\"197.60015\" xlink:href=\"#C0_0_a0f5441167\" y=\"155.653488\"/>\n    </g>\n    <g clip-path=\"url(#p219e57313d)\">\n     <use style=\"fill:#b1400d;stroke:#ffffff;stroke-width:0.48;\" x=\"232.985314\" xlink:href=\"#C0_0_a0f5441167\" y=\"163.698797\"/>\n    </g>\n    <g clip-path=\"url(#p219e57313d)\">\n     <use style=\"fill:#b1400d;stroke:#ffffff;stroke-width:0.48;\" x=\"225.548148\" xlink:href=\"#C0_0_a0f5441167\" y=\"168.124888\"/>\n    </g>\n    <g clip-path=\"url(#p219e57313d)\">\n     <use style=\"fill:#b1400d;stroke:#ffffff;stroke-width:0.48;\" x=\"195.704666\" xlink:href=\"#C0_0_a0f5441167\" y=\"157.201882\"/>\n    </g>\n    <g clip-path=\"url(#p219e57313d)\">\n     <use style=\"fill:#b1400d;stroke:#ffffff;stroke-width:0.48;\" x=\"225.548148\" xlink:href=\"#C0_0_a0f5441167\" y=\"168.124888\"/>\n    </g>\n    <g clip-path=\"url(#p219e57313d)\">\n     <use style=\"fill:#b1400d;stroke:#ffffff;stroke-width:0.48;\" x=\"179.145682\" xlink:href=\"#C0_0_a0f5441167\" y=\"139.405684\"/>\n    </g>\n    <g clip-path=\"url(#p219e57313d)\">\n     <use style=\"fill:#b1400d;stroke:#ffffff;stroke-width:0.48;\" x=\"179.938995\" xlink:href=\"#C0_0_a0f5441167\" y=\"139.948484\"/>\n    </g>\n    <g clip-path=\"url(#p219e57313d)\">\n     <use style=\"fill:#b1400d;stroke:#ffffff;stroke-width:0.48;\" x=\"221.79986\" xlink:href=\"#C0_0_a0f5441167\" y=\"170.526037\"/>\n    </g>\n    <g clip-path=\"url(#p219e57313d)\">\n     <use style=\"fill:#b1400d;stroke:#ffffff;stroke-width:0.48;\" x=\"211.061751\" xlink:href=\"#C0_0_a0f5441167\" y=\"153.945865\"/>\n    </g>\n    <g clip-path=\"url(#p219e57313d)\">\n     <use style=\"fill:#b1400d;stroke:#ffffff;stroke-width:0.48;\" x=\"202.568119\" xlink:href=\"#C0_0_a0f5441167\" y=\"114.829625\"/>\n    </g>\n    <g clip-path=\"url(#p219e57313d)\">\n     <use style=\"fill:#b1400d;stroke:#ffffff;stroke-width:0.48;\" x=\"179.938995\" xlink:href=\"#C0_0_a0f5441167\" y=\"139.948484\"/>\n    </g>\n    <g clip-path=\"url(#p219e57313d)\">\n     <use style=\"fill:#b1400d;stroke:#ffffff;stroke-width:0.48;\" x=\"232.719254\" xlink:href=\"#C0_0_a0f5441167\" y=\"158.848316\"/>\n    </g>\n    <g clip-path=\"url(#p219e57313d)\">\n     <use style=\"fill:#b1400d;stroke:#ffffff;stroke-width:0.48;\" x=\"226.443849\" xlink:href=\"#C0_0_a0f5441167\" y=\"167.492396\"/>\n    </g>\n    <g clip-path=\"url(#p219e57313d)\">\n     <use style=\"fill:#b1400d;stroke:#ffffff;stroke-width:0.48;\" x=\"183.842569\" xlink:href=\"#C0_0_a0f5441167\" y=\"128.960554\"/>\n    </g>\n    <g clip-path=\"url(#p219e57313d)\">\n     <use style=\"fill:#b1400d;stroke:#ffffff;stroke-width:0.48;\" x=\"195.704666\" xlink:href=\"#C0_0_a0f5441167\" y=\"157.201882\"/>\n    </g>\n    <g clip-path=\"url(#p219e57313d)\">\n     <use style=\"fill:#b1400d;stroke:#ffffff;stroke-width:0.48;\" x=\"197.540757\" xlink:href=\"#C0_0_a0f5441167\" y=\"123.799729\"/>\n    </g>\n    <g clip-path=\"url(#p219e57313d)\">\n     <use style=\"fill:#b1400d;stroke:#ffffff;stroke-width:0.48;\" x=\"217.835443\" xlink:href=\"#C0_0_a0f5441167\" y=\"168.20927\"/>\n    </g>\n    <g clip-path=\"url(#p219e57313d)\">\n     <use style=\"fill:#b1400d;stroke:#ffffff;stroke-width:0.48;\" x=\"195.704666\" xlink:href=\"#C0_0_a0f5441167\" y=\"157.201882\"/>\n    </g>\n    <g clip-path=\"url(#p219e57313d)\">\n     <use style=\"fill:#b1400d;stroke:#ffffff;stroke-width:0.48;\" x=\"195.704666\" xlink:href=\"#C0_0_a0f5441167\" y=\"157.201882\"/>\n    </g>\n    <g clip-path=\"url(#p219e57313d)\">\n     <use style=\"fill:#b1400d;stroke:#ffffff;stroke-width:0.48;\" x=\"217.835443\" xlink:href=\"#C0_0_a0f5441167\" y=\"168.20927\"/>\n    </g>\n    <g clip-path=\"url(#p219e57313d)\">\n     <use style=\"fill:#b1400d;stroke:#ffffff;stroke-width:0.48;\" x=\"195.408522\" xlink:href=\"#C0_0_a0f5441167\" y=\"158.228653\"/>\n    </g>\n    <g clip-path=\"url(#p219e57313d)\">\n     <use style=\"fill:#b1400d;stroke:#ffffff;stroke-width:0.48;\" x=\"179.938995\" xlink:href=\"#C0_0_a0f5441167\" y=\"139.948484\"/>\n    </g>\n    <g clip-path=\"url(#p219e57313d)\">\n     <use style=\"fill:#b1400d;stroke:#ffffff;stroke-width:0.48;\" x=\"287.251206\" xlink:href=\"#C0_0_a0f5441167\" y=\"183.712809\"/>\n    </g>\n    <g clip-path=\"url(#p219e57313d)\">\n     <use style=\"fill:#b1400d;stroke:#ffffff;stroke-width:0.48;\" x=\"256.046461\" xlink:href=\"#C0_0_a0f5441167\" y=\"159.042489\"/>\n    </g>\n    <g clip-path=\"url(#p219e57313d)\">\n     <use style=\"fill:#b1400d;stroke:#ffffff;stroke-width:0.48;\" x=\"179.145682\" xlink:href=\"#C0_0_a0f5441167\" y=\"139.405684\"/>\n    </g>\n    <g clip-path=\"url(#p219e57313d)\">\n     <use style=\"fill:#b1400d;stroke:#ffffff;stroke-width:0.48;\" x=\"195.408522\" xlink:href=\"#C0_0_a0f5441167\" y=\"158.228653\"/>\n    </g>\n    <g clip-path=\"url(#p219e57313d)\">\n     <use style=\"fill:#b1400d;stroke:#ffffff;stroke-width:0.48;\" x=\"251.172122\" xlink:href=\"#C0_0_a0f5441167\" y=\"176.522701\"/>\n    </g>\n    <g clip-path=\"url(#p219e57313d)\">\n     <use style=\"fill:#b1400d;stroke:#ffffff;stroke-width:0.48;\" x=\"179.145682\" xlink:href=\"#C0_0_a0f5441167\" y=\"139.405684\"/>\n    </g>\n    <g clip-path=\"url(#p219e57313d)\">\n     <use style=\"fill:#b1400d;stroke:#ffffff;stroke-width:0.48;\" x=\"215.571587\" xlink:href=\"#C0_0_a0f5441167\" y=\"167.640325\"/>\n    </g>\n    <g clip-path=\"url(#p219e57313d)\">\n     <use style=\"fill:#b1400d;stroke:#ffffff;stroke-width:0.48;\" x=\"284.695701\" xlink:href=\"#C0_0_a0f5441167\" y=\"182.038544\"/>\n    </g>\n    <g clip-path=\"url(#p219e57313d)\">\n     <use style=\"fill:#b1400d;stroke:#ffffff;stroke-width:0.48;\" x=\"195.704666\" xlink:href=\"#C0_0_a0f5441167\" y=\"157.201882\"/>\n    </g>\n    <g clip-path=\"url(#p219e57313d)\">\n     <use style=\"fill:#b1400d;stroke:#ffffff;stroke-width:0.48;\" x=\"179.938995\" xlink:href=\"#C0_0_a0f5441167\" y=\"139.948484\"/>\n    </g>\n    <g clip-path=\"url(#p219e57313d)\">\n     <use style=\"fill:#b1400d;stroke:#ffffff;stroke-width:0.48;\" x=\"195.704666\" xlink:href=\"#C0_0_a0f5441167\" y=\"157.201882\"/>\n    </g>\n    <g clip-path=\"url(#p219e57313d)\">\n     <use style=\"fill:#b1400d;stroke:#ffffff;stroke-width:0.48;\" x=\"195.704666\" xlink:href=\"#C0_0_a0f5441167\" y=\"157.201882\"/>\n    </g>\n    <g clip-path=\"url(#p219e57313d)\">\n     <use style=\"fill:#b1400d;stroke:#ffffff;stroke-width:0.48;\" x=\"215.279938\" xlink:href=\"#C0_0_a0f5441167\" y=\"166.535005\"/>\n    </g>\n    <g clip-path=\"url(#p219e57313d)\">\n     <use style=\"fill:#b1400d;stroke:#ffffff;stroke-width:0.48;\" x=\"243.233813\" xlink:href=\"#C0_0_a0f5441167\" y=\"159.875556\"/>\n    </g>\n    <g clip-path=\"url(#p219e57313d)\">\n     <use style=\"fill:#b1400d;stroke:#ffffff;stroke-width:0.48;\" x=\"258.368247\" xlink:href=\"#C0_0_a0f5441167\" y=\"171.808315\"/>\n    </g>\n    <g clip-path=\"url(#p219e57313d)\">\n     <use style=\"fill:#b1400d;stroke:#ffffff;stroke-width:0.48;\" x=\"195.704666\" xlink:href=\"#C0_0_a0f5441167\" y=\"157.201882\"/>\n    </g>\n    <g clip-path=\"url(#p219e57313d)\">\n     <use style=\"fill:#b1400d;stroke:#ffffff;stroke-width:0.48;\" x=\"195.055712\" xlink:href=\"#C0_0_a0f5441167\" y=\"158.076438\"/>\n    </g>\n    <g clip-path=\"url(#p219e57313d)\">\n     <use style=\"fill:#b1400d;stroke:#ffffff;stroke-width:0.48;\" x=\"302.135018\" xlink:href=\"#C0_0_a0f5441167\" y=\"174.351855\"/>\n    </g>\n    <g clip-path=\"url(#p219e57313d)\">\n     <use style=\"fill:#b1400d;stroke:#ffffff;stroke-width:0.48;\" x=\"217.835443\" xlink:href=\"#C0_0_a0f5441167\" y=\"168.20927\"/>\n    </g>\n    <g clip-path=\"url(#p219e57313d)\">\n     <use style=\"fill:#b1400d;stroke:#ffffff;stroke-width:0.48;\" x=\"195.704666\" xlink:href=\"#C0_0_a0f5441167\" y=\"157.201882\"/>\n    </g>\n    <g clip-path=\"url(#p219e57313d)\">\n     <use style=\"fill:#b1400d;stroke:#ffffff;stroke-width:0.48;\" x=\"204.305868\" xlink:href=\"#C0_0_a0f5441167\" y=\"134.960986\"/>\n    </g>\n    <g clip-path=\"url(#p219e57313d)\">\n     <use style=\"fill:#b1400d;stroke:#ffffff;stroke-width:0.48;\" x=\"195.704666\" xlink:href=\"#C0_0_a0f5441167\" y=\"157.201882\"/>\n    </g>\n    <g clip-path=\"url(#p219e57313d)\">\n     <use style=\"fill:#b1400d;stroke:#ffffff;stroke-width:0.48;\" x=\"217.42383\" xlink:href=\"#C0_0_a0f5441167\" y=\"166.450303\"/>\n    </g>\n    <g clip-path=\"url(#p219e57313d)\">\n     <use style=\"fill:#b1400d;stroke:#ffffff;stroke-width:0.48;\" x=\"215.279938\" xlink:href=\"#C0_0_a0f5441167\" y=\"166.535005\"/>\n    </g>\n    <g clip-path=\"url(#p219e57313d)\">\n     <use style=\"fill:#b1400d;stroke:#ffffff;stroke-width:0.48;\" x=\"179.938995\" xlink:href=\"#C0_0_a0f5441167\" y=\"139.948484\"/>\n    </g>\n    <g clip-path=\"url(#p219e57313d)\">\n     <use style=\"fill:#b1400d;stroke:#ffffff;stroke-width:0.48;\" x=\"215.279938\" xlink:href=\"#C0_0_a0f5441167\" y=\"166.535005\"/>\n    </g>\n    <g clip-path=\"url(#p219e57313d)\">\n     <use style=\"fill:#b1400d;stroke:#ffffff;stroke-width:0.48;\" x=\"179.938995\" xlink:href=\"#C0_0_a0f5441167\" y=\"139.948484\"/>\n    </g>\n    <g clip-path=\"url(#p219e57313d)\">\n     <use style=\"fill:#b1400d;stroke:#ffffff;stroke-width:0.48;\" x=\"195.704666\" xlink:href=\"#C0_0_a0f5441167\" y=\"157.201882\"/>\n    </g>\n    <g clip-path=\"url(#p219e57313d)\">\n     <use style=\"fill:#b1400d;stroke:#ffffff;stroke-width:0.48;\" x=\"240.008211\" xlink:href=\"#C0_0_a0f5441167\" y=\"175.56531\"/>\n    </g>\n    <g clip-path=\"url(#p219e57313d)\">\n     <use style=\"fill:#b1400d;stroke:#ffffff;stroke-width:0.48;\" x=\"246.019948\" xlink:href=\"#C0_0_a0f5441167\" y=\"177.013779\"/>\n    </g>\n    <g clip-path=\"url(#p219e57313d)\">\n     <use style=\"fill:#b1400d;stroke:#ffffff;stroke-width:0.48;\" x=\"200.208713\" xlink:href=\"#C0_0_a0f5441167\" y=\"157.77362\"/>\n    </g>\n    <g clip-path=\"url(#p219e57313d)\">\n     <use style=\"fill:#b1400d;stroke:#ffffff;stroke-width:0.48;\" x=\"179.290042\" xlink:href=\"#C0_0_a0f5441167\" y=\"140.82304\"/>\n    </g>\n    <g clip-path=\"url(#p219e57313d)\">\n     <use style=\"fill:#b1400d;stroke:#ffffff;stroke-width:0.48;\" x=\"179.145682\" xlink:href=\"#C0_0_a0f5441167\" y=\"139.405684\"/>\n    </g>\n    <g clip-path=\"url(#p219e57313d)\">\n     <use style=\"fill:#b1400d;stroke:#ffffff;stroke-width:0.48;\" x=\"179.938995\" xlink:href=\"#C0_0_a0f5441167\" y=\"139.948484\"/>\n    </g>\n    <g clip-path=\"url(#p219e57313d)\">\n     <use style=\"fill:#b1400d;stroke:#ffffff;stroke-width:0.48;\" x=\"330.339516\" xlink:href=\"#C0_0_a0f5441167\" y=\"188.986119\"/>\n    </g>\n    <g clip-path=\"url(#p219e57313d)\">\n     <use style=\"fill:#b1400d;stroke:#ffffff;stroke-width:0.48;\" x=\"198.249104\" xlink:href=\"#C0_0_a0f5441167\" y=\"154.778932\"/>\n    </g>\n    <g clip-path=\"url(#p219e57313d)\">\n     <use style=\"fill:#b1400d;stroke:#ffffff;stroke-width:0.48;\" x=\"225.548148\" xlink:href=\"#C0_0_a0f5441167\" y=\"168.124888\"/>\n    </g>\n    <g clip-path=\"url(#p219e57313d)\">\n     <use style=\"fill:#b1400d;stroke:#ffffff;stroke-width:0.48;\" x=\"217.42383\" xlink:href=\"#C0_0_a0f5441167\" y=\"166.450303\"/>\n    </g>\n    <g clip-path=\"url(#p219e57313d)\">\n     <use style=\"fill:#b1400d;stroke:#ffffff;stroke-width:0.48;\" x=\"220.635989\" xlink:href=\"#C0_0_a0f5441167\" y=\"166.996424\"/>\n    </g>\n    <g clip-path=\"url(#p219e57313d)\">\n     <use style=\"fill:#b1400d;stroke:#ffffff;stroke-width:0.48;\" x=\"195.704666\" xlink:href=\"#C0_0_a0f5441167\" y=\"157.201882\"/>\n    </g>\n    <g clip-path=\"url(#p219e57313d)\">\n     <use style=\"fill:#b1400d;stroke:#ffffff;stroke-width:0.48;\" x=\"189.33404\" xlink:href=\"#C0_0_a0f5441167\" y=\"129.558369\"/>\n    </g>\n    <g clip-path=\"url(#p219e57313d)\">\n     <use style=\"fill:#b1400d;stroke:#ffffff;stroke-width:0.48;\" x=\"179.145682\" xlink:href=\"#C0_0_a0f5441167\" y=\"139.405684\"/>\n    </g>\n    <g clip-path=\"url(#p219e57313d)\">\n     <use style=\"fill:#b1400d;stroke:#ffffff;stroke-width:0.48;\" x=\"195.704666\" xlink:href=\"#C0_0_a0f5441167\" y=\"157.201882\"/>\n    </g>\n    <g clip-path=\"url(#p219e57313d)\">\n     <use style=\"fill:#b1400d;stroke:#ffffff;stroke-width:0.48;\" x=\"215.571587\" xlink:href=\"#C0_0_a0f5441167\" y=\"167.640325\"/>\n    </g>\n    <g clip-path=\"url(#p219e57313d)\">\n     <use style=\"fill:#b1400d;stroke:#ffffff;stroke-width:0.48;\" x=\"225.548148\" xlink:href=\"#C0_0_a0f5441167\" y=\"168.124888\"/>\n    </g>\n    <g clip-path=\"url(#p219e57313d)\">\n     <use style=\"fill:#b1400d;stroke:#ffffff;stroke-width:0.48;\" x=\"251.587244\" xlink:href=\"#C0_0_a0f5441167\" y=\"144.391534\"/>\n    </g>\n    <g clip-path=\"url(#p219e57313d)\">\n     <use style=\"fill:#b1400d;stroke:#ffffff;stroke-width:0.48;\" x=\"259.059791\" xlink:href=\"#C0_0_a0f5441167\" y=\"184.995842\"/>\n    </g>\n    <g clip-path=\"url(#p219e57313d)\">\n     <use style=\"fill:#b1400d;stroke:#ffffff;stroke-width:0.48;\" x=\"190.412189\" xlink:href=\"#C0_0_a0f5441167\" y=\"127.906608\"/>\n    </g>\n    <g clip-path=\"url(#p219e57313d)\">\n     <use style=\"fill:#b1400d;stroke:#ffffff;stroke-width:0.48;\" x=\"179.938995\" xlink:href=\"#C0_0_a0f5441167\" y=\"139.948484\"/>\n    </g>\n    <g clip-path=\"url(#p219e57313d)\">\n     <use style=\"fill:#b1400d;stroke:#ffffff;stroke-width:0.48;\" x=\"230.705598\" xlink:href=\"#C0_0_a0f5441167\" y=\"170.082985\"/>\n    </g>\n    <g clip-path=\"url(#p219e57313d)\">\n     <use style=\"fill:#b1400d;stroke:#ffffff;stroke-width:0.48;\" x=\"179.938995\" xlink:href=\"#C0_0_a0f5441167\" y=\"139.948484\"/>\n    </g>\n    <g clip-path=\"url(#p219e57313d)\">\n     <use style=\"fill:#b1400d;stroke:#ffffff;stroke-width:0.48;\" x=\"215.279938\" xlink:href=\"#C0_0_a0f5441167\" y=\"166.535005\"/>\n    </g>\n    <g clip-path=\"url(#p219e57313d)\">\n     <use style=\"fill:#b1400d;stroke:#ffffff;stroke-width:0.48;\" x=\"195.704666\" xlink:href=\"#C0_0_a0f5441167\" y=\"157.201882\"/>\n    </g>\n    <g clip-path=\"url(#p219e57313d)\">\n     <use style=\"fill:#b1400d;stroke:#ffffff;stroke-width:0.48;\" x=\"291.077702\" xlink:href=\"#C0_0_a0f5441167\" y=\"176.030041\"/>\n    </g>\n    <g clip-path=\"url(#p219e57313d)\">\n     <use style=\"fill:#b1400d;stroke:#ffffff;stroke-width:0.48;\" x=\"195.704666\" xlink:href=\"#C0_0_a0f5441167\" y=\"157.201882\"/>\n    </g>\n    <g clip-path=\"url(#p219e57313d)\">\n     <use style=\"fill:#b1400d;stroke:#ffffff;stroke-width:0.48;\" x=\"179.145682\" xlink:href=\"#C0_0_a0f5441167\" y=\"139.405684\"/>\n    </g>\n    <g clip-path=\"url(#p219e57313d)\">\n     <use style=\"fill:#b1400d;stroke:#ffffff;stroke-width:0.48;\" x=\"212.176343\" xlink:href=\"#C0_0_a0f5441167\" y=\"137.776509\"/>\n    </g>\n    <g clip-path=\"url(#p219e57313d)\">\n     <use style=\"fill:#b1400d;stroke:#ffffff;stroke-width:0.48;\" x=\"251.587244\" xlink:href=\"#C0_0_a0f5441167\" y=\"144.391534\"/>\n    </g>\n    <g clip-path=\"url(#p219e57313d)\">\n     <use style=\"fill:#b1400d;stroke:#ffffff;stroke-width:0.48;\" x=\"187.067563\" xlink:href=\"#C0_0_a0f5441167\" y=\"135.841605\"/>\n    </g>\n    <g clip-path=\"url(#p219e57313d)\">\n     <use style=\"fill:#b1400d;stroke:#ffffff;stroke-width:0.48;\" x=\"212.176343\" xlink:href=\"#C0_0_a0f5441167\" y=\"137.776509\"/>\n    </g>\n    <g clip-path=\"url(#p219e57313d)\">\n     <use style=\"fill:#b1400d;stroke:#ffffff;stroke-width:0.48;\" x=\"179.290042\" xlink:href=\"#C0_0_a0f5441167\" y=\"140.82304\"/>\n    </g>\n    <g clip-path=\"url(#p219e57313d)\">\n     <use style=\"fill:#b1400d;stroke:#ffffff;stroke-width:0.48;\" x=\"179.938995\" xlink:href=\"#C0_0_a0f5441167\" y=\"139.948484\"/>\n    </g>\n    <g clip-path=\"url(#p219e57313d)\">\n     <use style=\"fill:#b1400d;stroke:#ffffff;stroke-width:0.48;\" x=\"215.571587\" xlink:href=\"#C0_0_a0f5441167\" y=\"167.640325\"/>\n    </g>\n    <g clip-path=\"url(#p219e57313d)\">\n     <use style=\"fill:#b1400d;stroke:#ffffff;stroke-width:0.48;\" x=\"225.548148\" xlink:href=\"#C0_0_a0f5441167\" y=\"168.124888\"/>\n    </g>\n    <g clip-path=\"url(#p219e57313d)\">\n     <use style=\"fill:#b1400d;stroke:#ffffff;stroke-width:0.48;\" x=\"220.635989\" xlink:href=\"#C0_0_a0f5441167\" y=\"166.996424\"/>\n    </g>\n    <g clip-path=\"url(#p219e57313d)\">\n     <use style=\"fill:#b1400d;stroke:#ffffff;stroke-width:0.48;\" x=\"225.548148\" xlink:href=\"#C0_0_a0f5441167\" y=\"168.124888\"/>\n    </g>\n    <g clip-path=\"url(#p219e57313d)\">\n     <use style=\"fill:#b1400d;stroke:#ffffff;stroke-width:0.48;\" x=\"195.704666\" xlink:href=\"#C0_0_a0f5441167\" y=\"157.201882\"/>\n    </g>\n    <g clip-path=\"url(#p219e57313d)\">\n     <use style=\"fill:#b1400d;stroke:#ffffff;stroke-width:0.48;\" x=\"179.938995\" xlink:href=\"#C0_0_a0f5441167\" y=\"139.948484\"/>\n    </g>\n    <g clip-path=\"url(#p219e57313d)\">\n     <use style=\"fill:#b1400d;stroke:#ffffff;stroke-width:0.48;\" x=\"195.408522\" xlink:href=\"#C0_0_a0f5441167\" y=\"158.228653\"/>\n    </g>\n    <g clip-path=\"url(#p219e57313d)\">\n     <use style=\"fill:#b1400d;stroke:#ffffff;stroke-width:0.48;\" x=\"219.379668\" xlink:href=\"#C0_0_a0f5441167\" y=\"166.563058\"/>\n    </g>\n    <g clip-path=\"url(#p219e57313d)\">\n     <use style=\"fill:#b1400d;stroke:#ffffff;stroke-width:0.48;\" x=\"225.548148\" xlink:href=\"#C0_0_a0f5441167\" y=\"168.124888\"/>\n    </g>\n    <g clip-path=\"url(#p219e57313d)\">\n     <use style=\"fill:#b1400d;stroke:#ffffff;stroke-width:0.48;\" x=\"202.833234\" xlink:href=\"#C0_0_a0f5441167\" y=\"153.095003\"/>\n    </g>\n    <g clip-path=\"url(#p219e57313d)\">\n     <use style=\"fill:#b1400d;stroke:#ffffff;stroke-width:0.48;\" x=\"256.046461\" xlink:href=\"#C0_0_a0f5441167\" y=\"159.042489\"/>\n    </g>\n    <g clip-path=\"url(#p219e57313d)\">\n     <use style=\"fill:#b1400d;stroke:#ffffff;stroke-width:0.48;\" x=\"195.055712\" xlink:href=\"#C0_0_a0f5441167\" y=\"158.076438\"/>\n    </g>\n    <g clip-path=\"url(#p219e57313d)\">\n     <use style=\"fill:#b1400d;stroke:#ffffff;stroke-width:0.48;\" x=\"195.704666\" xlink:href=\"#C0_0_a0f5441167\" y=\"157.201882\"/>\n    </g>\n    <g clip-path=\"url(#p219e57313d)\">\n     <use style=\"fill:#b1400d;stroke:#ffffff;stroke-width:0.48;\" x=\"195.408522\" xlink:href=\"#C0_0_a0f5441167\" y=\"158.228653\"/>\n    </g>\n    <g clip-path=\"url(#p219e57313d)\">\n     <use style=\"fill:#b1400d;stroke:#ffffff;stroke-width:0.48;\" x=\"179.938995\" xlink:href=\"#C0_0_a0f5441167\" y=\"139.948484\"/>\n    </g>\n    <g clip-path=\"url(#p219e57313d)\">\n     <use style=\"fill:#b1400d;stroke:#ffffff;stroke-width:0.48;\" x=\"225.548148\" xlink:href=\"#C0_0_a0f5441167\" y=\"168.124888\"/>\n    </g>\n    <g clip-path=\"url(#p219e57313d)\">\n     <use style=\"fill:#b1400d;stroke:#ffffff;stroke-width:0.48;\" x=\"246.019948\" xlink:href=\"#C0_0_a0f5441167\" y=\"177.013779\"/>\n    </g>\n    <g clip-path=\"url(#p219e57313d)\">\n     <use style=\"fill:#b1400d;stroke:#ffffff;stroke-width:0.48;\" x=\"190.971136\" xlink:href=\"#C0_0_a0f5441167\" y=\"124.853675\"/>\n    </g>\n    <g clip-path=\"url(#p219e57313d)\">\n     <use style=\"fill:#b1400d;stroke:#ffffff;stroke-width:0.48;\" x=\"187.067563\" xlink:href=\"#C0_0_a0f5441167\" y=\"135.841605\"/>\n    </g>\n    <g clip-path=\"url(#p219e57313d)\">\n     <use style=\"fill:#b1400d;stroke:#ffffff;stroke-width:0.48;\" x=\"179.290042\" xlink:href=\"#C0_0_a0f5441167\" y=\"140.82304\"/>\n    </g>\n    <g clip-path=\"url(#p219e57313d)\">\n     <use style=\"fill:#b1400d;stroke:#ffffff;stroke-width:0.48;\" x=\"215.279938\" xlink:href=\"#C0_0_a0f5441167\" y=\"166.535005\"/>\n    </g>\n    <g clip-path=\"url(#p219e57313d)\">\n     <use style=\"fill:#b1400d;stroke:#ffffff;stroke-width:0.48;\" x=\"202.773633\" xlink:href=\"#C0_0_a0f5441167\" y=\"115.41542\"/>\n    </g>\n    <g clip-path=\"url(#p219e57313d)\">\n     <use style=\"fill:#b1400d;stroke:#ffffff;stroke-width:0.48;\" x=\"225.548148\" xlink:href=\"#C0_0_a0f5441167\" y=\"168.124888\"/>\n    </g>\n    <g clip-path=\"url(#p219e57313d)\">\n     <use style=\"fill:#b1400d;stroke:#ffffff;stroke-width:0.48;\" x=\"179.938995\" xlink:href=\"#C0_0_a0f5441167\" y=\"139.948484\"/>\n    </g>\n    <g clip-path=\"url(#p219e57313d)\">\n     <use style=\"fill:#b1400d;stroke:#ffffff;stroke-width:0.48;\" x=\"251.587244\" xlink:href=\"#C0_0_a0f5441167\" y=\"144.391534\"/>\n    </g>\n    <g clip-path=\"url(#p219e57313d)\">\n     <use style=\"fill:#b1400d;stroke:#ffffff;stroke-width:0.48;\" x=\"225.757482\" xlink:href=\"#C0_0_a0f5441167\" y=\"168.446453\"/>\n    </g>\n    <g clip-path=\"url(#p219e57313d)\">\n     <use style=\"fill:#b1400d;stroke:#ffffff;stroke-width:0.48;\" x=\"195.704666\" xlink:href=\"#C0_0_a0f5441167\" y=\"157.201882\"/>\n    </g>\n    <g clip-path=\"url(#p219e57313d)\">\n     <use style=\"fill:#b1400d;stroke:#ffffff;stroke-width:0.48;\" x=\"200.861751\" xlink:href=\"#C0_0_a0f5441167\" y=\"115.34995\"/>\n    </g>\n    <g clip-path=\"url(#p219e57313d)\">\n     <use style=\"fill:#b1400d;stroke:#ffffff;stroke-width:0.48;\" x=\"179.938995\" xlink:href=\"#C0_0_a0f5441167\" y=\"139.948484\"/>\n    </g>\n    <g clip-path=\"url(#p219e57313d)\">\n     <use style=\"fill:#b1400d;stroke:#ffffff;stroke-width:0.48;\" x=\"184.171702\" xlink:href=\"#C0_0_a0f5441167\" y=\"134.722683\"/>\n    </g>\n    <g clip-path=\"url(#p219e57313d)\">\n     <use style=\"fill:#b1400d;stroke:#ffffff;stroke-width:0.48;\" x=\"195.704666\" xlink:href=\"#C0_0_a0f5441167\" y=\"157.201882\"/>\n    </g>\n   </g>\n   <g id=\"PathCollection_2\"/>\n   <g id=\"PathCollection_3\"/>\n   <g id=\"patch_3\">\n    <path d=\"M 163.9275 248.11125 \nL 163.9275 30.67125 \n\" style=\"fill:none;stroke:#ffffff;stroke-linecap:square;stroke-linejoin:miter;stroke-width:1.25;\"/>\n   </g>\n   <g id=\"patch_4\">\n    <path d=\"M 498.7275 248.11125 \nL 498.7275 30.67125 \n\" style=\"fill:none;stroke:#ffffff;stroke-linecap:square;stroke-linejoin:miter;stroke-width:1.25;\"/>\n   </g>\n   <g id=\"patch_5\">\n    <path d=\"M 163.9275 248.11125 \nL 498.7275 248.11125 \n\" style=\"fill:none;stroke:#ffffff;stroke-linecap:square;stroke-linejoin:miter;stroke-width:1.25;\"/>\n   </g>\n   <g id=\"patch_6\">\n    <path d=\"M 163.9275 30.67125 \nL 498.7275 30.67125 \n\" style=\"fill:none;stroke:#ffffff;stroke-linecap:square;stroke-linejoin:miter;stroke-width:1.25;\"/>\n   </g>\n   <g id=\"text_10\">\n    <!-- Cluster visaliztion in the first two principal component domain -->\n    <g style=\"fill:#262626;\" transform=\"translate(7.2 24.67125)scale(0.24 -0.24)\">\n     <defs>\n      <path d=\"M 58.796875 25.09375 \nL 68.265625 22.703125 \nQ 65.28125 11.03125 57.546875 4.90625 \nQ 49.8125 -1.21875 38.625 -1.21875 \nQ 27.046875 -1.21875 19.796875 3.484375 \nQ 12.546875 8.203125 8.765625 17.140625 \nQ 4.984375 26.078125 4.984375 36.328125 \nQ 4.984375 47.515625 9.25 55.828125 \nQ 13.53125 64.15625 21.40625 68.46875 \nQ 29.296875 72.796875 38.765625 72.796875 \nQ 49.515625 72.796875 56.828125 67.328125 \nQ 64.15625 61.859375 67.046875 51.953125 \nL 57.71875 49.75 \nQ 55.21875 57.5625 50.484375 61.125 \nQ 45.75 64.703125 38.578125 64.703125 \nQ 30.328125 64.703125 24.78125 60.734375 \nQ 19.234375 56.78125 16.984375 50.109375 \nQ 14.75 43.453125 14.75 36.375 \nQ 14.75 27.25 17.40625 20.4375 \nQ 20.0625 13.625 25.671875 10.25 \nQ 31.296875 6.890625 37.84375 6.890625 \nQ 45.796875 6.890625 51.3125 11.46875 \nQ 56.84375 16.0625 58.796875 25.09375 \nz\n\" id=\"ArialMT-67\"/>\n      <path d=\"M 6.390625 0 \nL 6.390625 71.578125 \nL 15.1875 71.578125 \nL 15.1875 0 \nz\n\" id=\"ArialMT-108\"/>\n      <path d=\"M 40.578125 0 \nL 40.578125 7.625 \nQ 34.515625 -1.171875 24.125 -1.171875 \nQ 19.53125 -1.171875 15.546875 0.578125 \nQ 11.578125 2.34375 9.640625 5 \nQ 7.71875 7.671875 6.9375 11.53125 \nQ 6.390625 14.109375 6.390625 19.734375 \nL 6.390625 51.859375 \nL 15.1875 51.859375 \nL 15.1875 23.09375 \nQ 15.1875 16.21875 15.71875 13.8125 \nQ 16.546875 10.359375 19.234375 8.375 \nQ 21.921875 6.390625 25.875 6.390625 \nQ 29.828125 6.390625 33.296875 8.421875 \nQ 36.765625 10.453125 38.203125 13.9375 \nQ 39.65625 17.4375 39.65625 24.078125 \nL 39.65625 51.859375 \nL 48.4375 51.859375 \nL 48.4375 0 \nz\n\" id=\"ArialMT-117\"/>\n      <path d=\"M 3.078125 15.484375 \nL 11.765625 16.84375 \nQ 12.5 11.625 15.84375 8.84375 \nQ 19.1875 6.0625 25.203125 6.0625 \nQ 31.25 6.0625 34.171875 8.515625 \nQ 37.109375 10.984375 37.109375 14.3125 \nQ 37.109375 17.28125 34.515625 19 \nQ 32.71875 20.171875 25.53125 21.96875 \nQ 15.875 24.421875 12.140625 26.203125 \nQ 8.40625 27.984375 6.46875 31.125 \nQ 4.546875 34.28125 4.546875 38.09375 \nQ 4.546875 41.546875 6.125 44.5 \nQ 7.71875 47.46875 10.453125 49.421875 \nQ 12.5 50.921875 16.03125 51.96875 \nQ 19.578125 53.03125 23.640625 53.03125 \nQ 29.734375 53.03125 34.34375 51.265625 \nQ 38.96875 49.515625 41.15625 46.5 \nQ 43.359375 43.5 44.1875 38.484375 \nL 35.59375 37.3125 \nQ 35.015625 41.3125 32.203125 43.546875 \nQ 29.390625 45.796875 24.265625 45.796875 \nQ 18.21875 45.796875 15.625 43.796875 \nQ 13.03125 41.796875 13.03125 39.109375 \nQ 13.03125 37.40625 14.109375 36.03125 \nQ 15.1875 34.625 17.484375 33.6875 \nQ 18.796875 33.203125 25.25 31.453125 \nQ 34.578125 28.953125 38.25 27.359375 \nQ 41.9375 25.78125 44.03125 22.75 \nQ 46.140625 19.734375 46.140625 15.234375 \nQ 46.140625 10.84375 43.578125 6.953125 \nQ 41.015625 3.078125 36.171875 0.953125 \nQ 31.34375 -1.171875 25.25 -1.171875 \nQ 15.140625 -1.171875 9.84375 3.03125 \nQ 4.546875 7.234375 3.078125 15.484375 \nz\n\" id=\"ArialMT-115\"/>\n      <path d=\"M 25.78125 7.859375 \nL 27.046875 0.09375 \nQ 23.34375 -0.6875 20.40625 -0.6875 \nQ 15.625 -0.6875 12.984375 0.828125 \nQ 10.359375 2.34375 9.28125 4.8125 \nQ 8.203125 7.28125 8.203125 15.1875 \nL 8.203125 45.015625 \nL 1.765625 45.015625 \nL 1.765625 51.859375 \nL 8.203125 51.859375 \nL 8.203125 64.703125 \nL 16.9375 69.96875 \nL 16.9375 51.859375 \nL 25.78125 51.859375 \nL 25.78125 45.015625 \nL 16.9375 45.015625 \nL 16.9375 14.703125 \nQ 16.9375 10.9375 17.40625 9.859375 \nQ 17.875 8.796875 18.921875 8.15625 \nQ 19.96875 7.515625 21.921875 7.515625 \nQ 23.390625 7.515625 25.78125 7.859375 \nz\n\" id=\"ArialMT-116\"/>\n      <path d=\"M 42.09375 16.703125 \nL 51.171875 15.578125 \nQ 49.03125 7.625 43.21875 3.21875 \nQ 37.40625 -1.171875 28.375 -1.171875 \nQ 17 -1.171875 10.328125 5.828125 \nQ 3.65625 12.84375 3.65625 25.484375 \nQ 3.65625 38.578125 10.390625 45.796875 \nQ 17.140625 53.03125 27.875 53.03125 \nQ 38.28125 53.03125 44.875 45.953125 \nQ 51.46875 38.875 51.46875 26.03125 \nQ 51.46875 25.25 51.421875 23.6875 \nL 12.75 23.6875 \nQ 13.234375 15.140625 17.578125 10.59375 \nQ 21.921875 6.0625 28.421875 6.0625 \nQ 33.25 6.0625 36.671875 8.59375 \nQ 40.09375 11.140625 42.09375 16.703125 \nz\nM 13.234375 30.90625 \nL 42.1875 30.90625 \nQ 41.609375 37.453125 38.875 40.71875 \nQ 34.671875 45.796875 27.984375 45.796875 \nQ 21.921875 45.796875 17.796875 41.75 \nQ 13.671875 37.703125 13.234375 30.90625 \nz\n\" id=\"ArialMT-101\"/>\n      <path d=\"M 6.5 0 \nL 6.5 51.859375 \nL 14.40625 51.859375 \nL 14.40625 44 \nQ 17.4375 49.515625 20 51.265625 \nQ 22.5625 53.03125 25.640625 53.03125 \nQ 30.078125 53.03125 34.671875 50.203125 \nL 31.640625 42.046875 \nQ 28.421875 43.953125 25.203125 43.953125 \nQ 22.3125 43.953125 20.015625 42.21875 \nQ 17.71875 40.484375 16.75 37.40625 \nQ 15.28125 32.71875 15.28125 27.15625 \nL 15.28125 0 \nz\n\" id=\"ArialMT-114\"/>\n      <path id=\"ArialMT-32\"/>\n      <path d=\"M 21 0 \nL 1.265625 51.859375 \nL 10.546875 51.859375 \nL 21.6875 20.796875 \nQ 23.484375 15.765625 25 10.359375 \nQ 26.171875 14.453125 28.265625 20.21875 \nL 39.796875 51.859375 \nL 48.828125 51.859375 \nL 29.203125 0 \nz\n\" id=\"ArialMT-118\"/>\n      <path d=\"M 6.640625 61.46875 \nL 6.640625 71.578125 \nL 15.4375 71.578125 \nL 15.4375 61.46875 \nz\nM 6.640625 0 \nL 6.640625 51.859375 \nL 15.4375 51.859375 \nL 15.4375 0 \nz\n\" id=\"ArialMT-105\"/>\n      <path d=\"M 40.4375 6.390625 \nQ 35.546875 2.25 31.03125 0.53125 \nQ 26.515625 -1.171875 21.34375 -1.171875 \nQ 12.796875 -1.171875 8.203125 3 \nQ 3.609375 7.171875 3.609375 13.671875 \nQ 3.609375 17.484375 5.34375 20.625 \nQ 7.078125 23.78125 9.890625 25.6875 \nQ 12.703125 27.59375 16.21875 28.5625 \nQ 18.796875 29.25 24.03125 29.890625 \nQ 34.671875 31.15625 39.703125 32.90625 \nQ 39.75 34.71875 39.75 35.203125 \nQ 39.75 40.578125 37.25 42.78125 \nQ 33.890625 45.75 27.25 45.75 \nQ 21.046875 45.75 18.09375 43.578125 \nQ 15.140625 41.40625 13.71875 35.890625 \nL 5.125 37.0625 \nQ 6.296875 42.578125 8.984375 45.96875 \nQ 11.671875 49.359375 16.75 51.1875 \nQ 21.828125 53.03125 28.515625 53.03125 \nQ 35.15625 53.03125 39.296875 51.46875 \nQ 43.453125 49.90625 45.40625 47.53125 \nQ 47.359375 45.171875 48.140625 41.546875 \nQ 48.578125 39.3125 48.578125 33.453125 \nL 48.578125 21.734375 \nQ 48.578125 9.46875 49.140625 6.21875 \nQ 49.703125 2.984375 51.375 0 \nL 42.1875 0 \nQ 40.828125 2.734375 40.4375 6.390625 \nz\nM 39.703125 26.03125 \nQ 34.90625 24.078125 25.34375 22.703125 \nQ 19.921875 21.921875 17.671875 20.9375 \nQ 15.4375 19.96875 14.203125 18.09375 \nQ 12.984375 16.21875 12.984375 13.921875 \nQ 12.984375 10.40625 15.640625 8.0625 \nQ 18.3125 5.71875 23.4375 5.71875 \nQ 28.515625 5.71875 32.46875 7.9375 \nQ 36.421875 10.15625 38.28125 14.015625 \nQ 39.703125 17 39.703125 22.796875 \nz\n\" id=\"ArialMT-97\"/>\n      <path d=\"M 1.953125 0 \nL 1.953125 7.125 \nL 34.96875 45.015625 \nQ 29.34375 44.734375 25.046875 44.734375 \nL 3.90625 44.734375 \nL 3.90625 51.859375 \nL 46.296875 51.859375 \nL 46.296875 46.046875 \nL 18.21875 13.140625 \nL 12.796875 7.125 \nQ 18.703125 7.5625 23.875 7.5625 \nL 47.859375 7.5625 \nL 47.859375 0 \nz\n\" id=\"ArialMT-122\"/>\n      <path d=\"M 3.328125 25.921875 \nQ 3.328125 40.328125 11.328125 47.265625 \nQ 18.015625 53.03125 27.640625 53.03125 \nQ 38.328125 53.03125 45.109375 46.015625 \nQ 51.90625 39.015625 51.90625 26.65625 \nQ 51.90625 16.65625 48.90625 10.90625 \nQ 45.90625 5.171875 40.15625 2 \nQ 34.421875 -1.171875 27.640625 -1.171875 \nQ 16.75 -1.171875 10.03125 5.8125 \nQ 3.328125 12.796875 3.328125 25.921875 \nz\nM 12.359375 25.921875 \nQ 12.359375 15.96875 16.703125 11.015625 \nQ 21.046875 6.0625 27.640625 6.0625 \nQ 34.1875 6.0625 38.53125 11.03125 \nQ 42.875 16.015625 42.875 26.21875 \nQ 42.875 35.84375 38.5 40.796875 \nQ 34.125 45.75 27.640625 45.75 \nQ 21.046875 45.75 16.703125 40.8125 \nQ 12.359375 35.890625 12.359375 25.921875 \nz\n\" id=\"ArialMT-111\"/>\n      <path d=\"M 6.59375 0 \nL 6.59375 51.859375 \nL 14.5 51.859375 \nL 14.5 44.484375 \nQ 20.21875 53.03125 31 53.03125 \nQ 35.6875 53.03125 39.625 51.34375 \nQ 43.5625 49.65625 45.515625 46.921875 \nQ 47.46875 44.1875 48.25 40.4375 \nQ 48.734375 37.984375 48.734375 31.890625 \nL 48.734375 0 \nL 39.9375 0 \nL 39.9375 31.546875 \nQ 39.9375 36.921875 38.90625 39.578125 \nQ 37.890625 42.234375 35.28125 43.8125 \nQ 32.671875 45.40625 29.15625 45.40625 \nQ 23.53125 45.40625 19.453125 41.84375 \nQ 15.375 38.28125 15.375 28.328125 \nL 15.375 0 \nz\n\" id=\"ArialMT-110\"/>\n      <path d=\"M 6.59375 0 \nL 6.59375 71.578125 \nL 15.375 71.578125 \nL 15.375 45.90625 \nQ 21.53125 53.03125 30.90625 53.03125 \nQ 36.671875 53.03125 40.921875 50.75 \nQ 45.171875 48.484375 47 44.484375 \nQ 48.828125 40.484375 48.828125 32.859375 \nL 48.828125 0 \nL 40.046875 0 \nL 40.046875 32.859375 \nQ 40.046875 39.453125 37.1875 42.453125 \nQ 34.328125 45.453125 29.109375 45.453125 \nQ 25.203125 45.453125 21.75 43.421875 \nQ 18.3125 41.40625 16.84375 37.9375 \nQ 15.375 34.46875 15.375 28.375 \nL 15.375 0 \nz\n\" id=\"ArialMT-104\"/>\n      <path d=\"M 8.6875 0 \nL 8.6875 45.015625 \nL 0.921875 45.015625 \nL 0.921875 51.859375 \nL 8.6875 51.859375 \nL 8.6875 57.375 \nQ 8.6875 62.59375 9.625 65.140625 \nQ 10.890625 68.5625 14.078125 70.671875 \nQ 17.28125 72.796875 23.046875 72.796875 \nQ 26.765625 72.796875 31.25 71.921875 \nL 29.9375 64.265625 \nQ 27.203125 64.75 24.75 64.75 \nQ 20.75 64.75 19.09375 63.03125 \nQ 17.4375 61.328125 17.4375 56.640625 \nL 17.4375 51.859375 \nL 27.546875 51.859375 \nL 27.546875 45.015625 \nL 17.4375 45.015625 \nL 17.4375 0 \nz\n\" id=\"ArialMT-102\"/>\n      <path d=\"M 16.15625 0 \nL 0.296875 51.859375 \nL 9.375 51.859375 \nL 17.625 21.921875 \nL 20.703125 10.796875 \nQ 20.90625 11.625 23.390625 21.484375 \nL 31.640625 51.859375 \nL 40.671875 51.859375 \nL 48.4375 21.78125 \nL 51.03125 11.859375 \nL 54 21.875 \nL 62.890625 51.859375 \nL 71.4375 51.859375 \nL 55.21875 0 \nL 46.09375 0 \nL 37.84375 31.0625 \nL 35.84375 39.890625 \nL 25.34375 0 \nz\n\" id=\"ArialMT-119\"/>\n      <path d=\"M 6.59375 -19.875 \nL 6.59375 51.859375 \nL 14.59375 51.859375 \nL 14.59375 45.125 \nQ 17.4375 49.078125 21 51.046875 \nQ 24.5625 53.03125 29.640625 53.03125 \nQ 36.28125 53.03125 41.359375 49.609375 \nQ 46.4375 46.1875 49.015625 39.953125 \nQ 51.609375 33.734375 51.609375 26.3125 \nQ 51.609375 18.359375 48.75 11.984375 \nQ 45.90625 5.609375 40.453125 2.21875 \nQ 35.015625 -1.171875 29 -1.171875 \nQ 24.609375 -1.171875 21.109375 0.6875 \nQ 17.625 2.546875 15.375 5.375 \nL 15.375 -19.875 \nz\nM 14.546875 25.640625 \nQ 14.546875 15.625 18.59375 10.84375 \nQ 22.65625 6.0625 28.421875 6.0625 \nQ 34.28125 6.0625 38.453125 11.015625 \nQ 42.625 15.96875 42.625 26.375 \nQ 42.625 36.28125 38.546875 41.203125 \nQ 34.46875 46.140625 28.8125 46.140625 \nQ 23.1875 46.140625 18.859375 40.890625 \nQ 14.546875 35.640625 14.546875 25.640625 \nz\n\" id=\"ArialMT-112\"/>\n      <path d=\"M 40.4375 19 \nL 49.078125 17.875 \nQ 47.65625 8.9375 41.8125 3.875 \nQ 35.984375 -1.171875 27.484375 -1.171875 \nQ 16.84375 -1.171875 10.375 5.78125 \nQ 3.90625 12.75 3.90625 25.734375 \nQ 3.90625 34.125 6.6875 40.421875 \nQ 9.46875 46.734375 15.15625 49.875 \nQ 20.84375 53.03125 27.546875 53.03125 \nQ 35.984375 53.03125 41.359375 48.75 \nQ 46.734375 44.484375 48.25 36.625 \nL 39.703125 35.296875 \nQ 38.484375 40.53125 35.375 43.15625 \nQ 32.28125 45.796875 27.875 45.796875 \nQ 21.234375 45.796875 17.078125 41.03125 \nQ 12.9375 36.28125 12.9375 25.984375 \nQ 12.9375 15.53125 16.9375 10.796875 \nQ 20.953125 6.0625 27.390625 6.0625 \nQ 32.5625 6.0625 36.03125 9.234375 \nQ 39.5 12.40625 40.4375 19 \nz\n\" id=\"ArialMT-99\"/>\n      <path d=\"M 6.59375 0 \nL 6.59375 51.859375 \nL 14.453125 51.859375 \nL 14.453125 44.578125 \nQ 16.890625 48.390625 20.9375 50.703125 \nQ 25 53.03125 30.171875 53.03125 \nQ 35.9375 53.03125 39.625 50.640625 \nQ 43.3125 48.25 44.828125 43.953125 \nQ 50.984375 53.03125 60.84375 53.03125 \nQ 68.5625 53.03125 72.703125 48.75 \nQ 76.859375 44.484375 76.859375 35.59375 \nL 76.859375 0 \nL 68.109375 0 \nL 68.109375 32.671875 \nQ 68.109375 37.9375 67.25 40.25 \nQ 66.40625 42.578125 64.15625 43.984375 \nQ 61.921875 45.40625 58.890625 45.40625 \nQ 53.421875 45.40625 49.796875 41.765625 \nQ 46.1875 38.140625 46.1875 30.125 \nL 46.1875 0 \nL 37.40625 0 \nL 37.40625 33.6875 \nQ 37.40625 39.546875 35.25 42.46875 \nQ 33.109375 45.40625 28.21875 45.40625 \nQ 24.515625 45.40625 21.359375 43.453125 \nQ 18.21875 41.5 16.796875 37.734375 \nQ 15.375 33.984375 15.375 26.90625 \nL 15.375 0 \nz\n\" id=\"ArialMT-109\"/>\n      <path d=\"M 40.234375 0 \nL 40.234375 6.546875 \nQ 35.296875 -1.171875 25.734375 -1.171875 \nQ 19.53125 -1.171875 14.328125 2.25 \nQ 9.125 5.671875 6.265625 11.796875 \nQ 3.421875 17.921875 3.421875 25.875 \nQ 3.421875 33.640625 6 39.96875 \nQ 8.59375 46.296875 13.765625 49.65625 \nQ 18.953125 53.03125 25.34375 53.03125 \nQ 30.03125 53.03125 33.6875 51.046875 \nQ 37.359375 49.078125 39.65625 45.90625 \nL 39.65625 71.578125 \nL 48.390625 71.578125 \nL 48.390625 0 \nz\nM 12.453125 25.875 \nQ 12.453125 15.921875 16.640625 10.984375 \nQ 20.84375 6.0625 26.5625 6.0625 \nQ 32.328125 6.0625 36.34375 10.765625 \nQ 40.375 15.484375 40.375 25.140625 \nQ 40.375 35.796875 36.265625 40.765625 \nQ 32.171875 45.75 26.171875 45.75 \nQ 20.3125 45.75 16.375 40.96875 \nQ 12.453125 36.1875 12.453125 25.875 \nz\n\" id=\"ArialMT-100\"/>\n     </defs>\n     <use xlink:href=\"#ArialMT-67\"/>\n     <use x=\"72.216797\" xlink:href=\"#ArialMT-108\"/>\n     <use x=\"94.433594\" xlink:href=\"#ArialMT-117\"/>\n     <use x=\"150.048828\" xlink:href=\"#ArialMT-115\"/>\n     <use x=\"200.048828\" xlink:href=\"#ArialMT-116\"/>\n     <use x=\"227.832031\" xlink:href=\"#ArialMT-101\"/>\n     <use x=\"283.447266\" xlink:href=\"#ArialMT-114\"/>\n     <use x=\"316.748047\" xlink:href=\"#ArialMT-32\"/>\n     <use x=\"344.53125\" xlink:href=\"#ArialMT-118\"/>\n     <use x=\"394.53125\" xlink:href=\"#ArialMT-105\"/>\n     <use x=\"416.748047\" xlink:href=\"#ArialMT-115\"/>\n     <use x=\"466.748047\" xlink:href=\"#ArialMT-97\"/>\n     <use x=\"522.363281\" xlink:href=\"#ArialMT-108\"/>\n     <use x=\"544.580078\" xlink:href=\"#ArialMT-105\"/>\n     <use x=\"566.796875\" xlink:href=\"#ArialMT-122\"/>\n     <use x=\"616.796875\" xlink:href=\"#ArialMT-116\"/>\n     <use x=\"644.580078\" xlink:href=\"#ArialMT-105\"/>\n     <use x=\"666.796875\" xlink:href=\"#ArialMT-111\"/>\n     <use x=\"722.412109\" xlink:href=\"#ArialMT-110\"/>\n     <use x=\"778.027344\" xlink:href=\"#ArialMT-32\"/>\n     <use x=\"805.810547\" xlink:href=\"#ArialMT-105\"/>\n     <use x=\"828.027344\" xlink:href=\"#ArialMT-110\"/>\n     <use x=\"883.642578\" xlink:href=\"#ArialMT-32\"/>\n     <use x=\"911.425781\" xlink:href=\"#ArialMT-116\"/>\n     <use x=\"939.208984\" xlink:href=\"#ArialMT-104\"/>\n     <use x=\"994.824219\" xlink:href=\"#ArialMT-101\"/>\n     <use x=\"1050.439453\" xlink:href=\"#ArialMT-32\"/>\n     <use x=\"1078.222656\" xlink:href=\"#ArialMT-102\"/>\n     <use x=\"1106.005859\" xlink:href=\"#ArialMT-105\"/>\n     <use x=\"1128.222656\" xlink:href=\"#ArialMT-114\"/>\n     <use x=\"1161.523438\" xlink:href=\"#ArialMT-115\"/>\n     <use x=\"1211.523438\" xlink:href=\"#ArialMT-116\"/>\n     <use x=\"1239.306641\" xlink:href=\"#ArialMT-32\"/>\n     <use x=\"1267.089844\" xlink:href=\"#ArialMT-116\"/>\n     <use x=\"1294.873047\" xlink:href=\"#ArialMT-119\"/>\n     <use x=\"1367.089844\" xlink:href=\"#ArialMT-111\"/>\n     <use x=\"1422.705078\" xlink:href=\"#ArialMT-32\"/>\n     <use x=\"1450.488281\" xlink:href=\"#ArialMT-112\"/>\n     <use x=\"1506.103516\" xlink:href=\"#ArialMT-114\"/>\n     <use x=\"1539.404297\" xlink:href=\"#ArialMT-105\"/>\n     <use x=\"1561.621094\" xlink:href=\"#ArialMT-110\"/>\n     <use x=\"1617.236328\" xlink:href=\"#ArialMT-99\"/>\n     <use x=\"1667.236328\" xlink:href=\"#ArialMT-105\"/>\n     <use x=\"1689.453125\" xlink:href=\"#ArialMT-112\"/>\n     <use x=\"1745.068359\" xlink:href=\"#ArialMT-97\"/>\n     <use x=\"1800.683594\" xlink:href=\"#ArialMT-108\"/>\n     <use x=\"1822.900391\" xlink:href=\"#ArialMT-32\"/>\n     <use x=\"1850.683594\" xlink:href=\"#ArialMT-99\"/>\n     <use x=\"1900.683594\" xlink:href=\"#ArialMT-111\"/>\n     <use x=\"1956.298828\" xlink:href=\"#ArialMT-109\"/>\n     <use x=\"2039.599609\" xlink:href=\"#ArialMT-112\"/>\n     <use x=\"2095.214844\" xlink:href=\"#ArialMT-111\"/>\n     <use x=\"2150.830078\" xlink:href=\"#ArialMT-110\"/>\n     <use x=\"2206.445312\" xlink:href=\"#ArialMT-101\"/>\n     <use x=\"2262.060547\" xlink:href=\"#ArialMT-110\"/>\n     <use x=\"2317.675781\" xlink:href=\"#ArialMT-116\"/>\n     <use x=\"2345.458984\" xlink:href=\"#ArialMT-32\"/>\n     <use x=\"2373.242188\" xlink:href=\"#ArialMT-100\"/>\n     <use x=\"2428.857422\" xlink:href=\"#ArialMT-111\"/>\n     <use x=\"2484.472656\" xlink:href=\"#ArialMT-109\"/>\n     <use x=\"2567.773438\" xlink:href=\"#ArialMT-97\"/>\n     <use x=\"2623.388672\" xlink:href=\"#ArialMT-105\"/>\n     <use x=\"2645.605469\" xlink:href=\"#ArialMT-110\"/>\n    </g>\n   </g>\n   <g id=\"legend_1\">\n    <g id=\"patch_7\">\n     <path d=\"M 382.3475 143.459375 \nL 483.3275 143.459375 \nQ 487.7275 143.459375 487.7275 139.059375 \nL 487.7275 46.07125 \nQ 487.7275 41.67125 483.3275 41.67125 \nL 382.3475 41.67125 \nQ 377.9475 41.67125 377.9475 46.07125 \nL 377.9475 139.059375 \nQ 377.9475 143.459375 382.3475 143.459375 \nz\n\" style=\"fill:#eaeaf2;opacity:0.8;stroke:#cccccc;stroke-linejoin:miter;\"/>\n    </g>\n    <g id=\"text_11\">\n     <!-- labels -->\n     <g style=\"fill:#262626;\" transform=\"translate(401.485625 67.65)scale(0.24 -0.24)\">\n      <defs>\n       <path d=\"M 14.703125 0 \nL 6.546875 0 \nL 6.546875 71.578125 \nL 15.328125 71.578125 \nL 15.328125 46.046875 \nQ 20.90625 53.03125 29.546875 53.03125 \nQ 34.328125 53.03125 38.59375 51.09375 \nQ 42.875 49.171875 45.625 45.671875 \nQ 48.390625 42.1875 49.953125 37.25 \nQ 51.515625 32.328125 51.515625 26.703125 \nQ 51.515625 13.375 44.921875 6.09375 \nQ 38.328125 -1.171875 29.109375 -1.171875 \nQ 19.921875 -1.171875 14.703125 6.5 \nz\nM 14.59375 26.3125 \nQ 14.59375 17 17.140625 12.84375 \nQ 21.296875 6.0625 28.375 6.0625 \nQ 34.125 6.0625 38.328125 11.0625 \nQ 42.53125 16.0625 42.53125 25.984375 \nQ 42.53125 36.140625 38.5 40.96875 \nQ 34.46875 45.796875 28.765625 45.796875 \nQ 23 45.796875 18.796875 40.796875 \nQ 14.59375 35.796875 14.59375 26.3125 \nz\n\" id=\"ArialMT-98\"/>\n      </defs>\n      <use xlink:href=\"#ArialMT-108\"/>\n      <use x=\"22.216797\" xlink:href=\"#ArialMT-97\"/>\n      <use x=\"77.832031\" xlink:href=\"#ArialMT-98\"/>\n      <use x=\"133.447266\" xlink:href=\"#ArialMT-101\"/>\n      <use x=\"189.0625\" xlink:href=\"#ArialMT-108\"/>\n      <use x=\"211.279297\" xlink:href=\"#ArialMT-115\"/>\n     </g>\n    </g>\n    <g id=\"PathCollection_4\">\n     <defs>\n      <path d=\"M 0 3 \nC 0.795609 3 1.55874 2.683901 2.12132 2.12132 \nC 2.683901 1.55874 3 0.795609 3 0 \nC 3 -0.795609 2.683901 -1.55874 2.12132 -2.12132 \nC 1.55874 -2.683901 0.795609 -3 0 -3 \nC -0.795609 -3 -1.55874 -2.683901 -2.12132 -2.12132 \nC -2.683901 -1.55874 -3 -0.795609 -3 0 \nC -3 0.795609 -2.683901 1.55874 -2.12132 2.12132 \nC -1.55874 2.683901 -0.795609 3 0 3 \nz\n\" id=\"mbf72480f08\" style=\"stroke:#001c7f;\"/>\n     </defs>\n     <g>\n      <use style=\"fill:#001c7f;stroke:#001c7f;\" x=\"408.7475\" xlink:href=\"#mbf72480f08\" y=\"93.392187\"/>\n     </g>\n    </g>\n    <g id=\"text_12\">\n     <!-- 0.0 -->\n     <g style=\"fill:#262626;\" transform=\"translate(448.3475 99.167187)scale(0.22 -0.22)\">\n      <use xlink:href=\"#ArialMT-48\"/>\n      <use x=\"55.615234\" xlink:href=\"#ArialMT-46\"/>\n      <use x=\"83.398438\" xlink:href=\"#ArialMT-48\"/>\n     </g>\n    </g>\n    <g id=\"PathCollection_5\">\n     <defs>\n      <path d=\"M 0 3 \nC 0.795609 3 1.55874 2.683901 2.12132 2.12132 \nC 2.683901 1.55874 3 0.795609 3 0 \nC 3 -0.795609 2.683901 -1.55874 2.12132 -2.12132 \nC 1.55874 -2.683901 0.795609 -3 0 -3 \nC -0.795609 -3 -1.55874 -2.683901 -2.12132 -2.12132 \nC -2.683901 -1.55874 -3 -0.795609 -3 0 \nC -3 0.795609 -2.683901 1.55874 -2.12132 2.12132 \nC -1.55874 2.683901 -0.795609 3 0 3 \nz\n\" id=\"m2cfe47be8a\" style=\"stroke:#b1400d;\"/>\n     </defs>\n     <g>\n      <use style=\"fill:#b1400d;stroke:#b1400d;\" x=\"408.7475\" xlink:href=\"#m2cfe47be8a\" y=\"124.511875\"/>\n     </g>\n    </g>\n    <g id=\"text_13\">\n     <!-- 1.0 -->\n     <g style=\"fill:#262626;\" transform=\"translate(448.3475 130.286875)scale(0.22 -0.22)\">\n      <use xlink:href=\"#ArialMT-49\"/>\n      <use x=\"55.615234\" xlink:href=\"#ArialMT-46\"/>\n      <use x=\"83.398438\" xlink:href=\"#ArialMT-48\"/>\n     </g>\n    </g>\n   </g>\n  </g>\n </g>\n <defs>\n  <clipPath id=\"p219e57313d\">\n   <rect height=\"217.44\" width=\"334.8\" x=\"163.9275\" y=\"30.67125\"/>\n  </clipPath>\n </defs>\n</svg>\n",
      "image/png": "[encoded data removed]"
     },
     "metadata": {}
    }
   ],
   "source": [
    "# SMOTEENN\n",
    "sampling = imblearn.combine.SMOTEENN()\n",
    "X_smoteenn, y_smoteenn, df_smoteenn = process_smote(X=X_train, y=y_train, sampling=sampling) \n",
    "sns.set(font_scale=2)\n",
    "ax = sns.scatterplot(x='X1', y='X2', hue='labels', \n",
    "    data=df_smoteenn, palette=\"dark\")\n",
    "ax.set(title=\"Cluster visaliztion in the first two principal component domain\")\n",
    "plt.savefig('../images/PCA_after_smoteenn.png')\n"
   ]
  },
  {
   "cell_type": "code",
   "execution_count": 8,
   "metadata": {},
   "outputs": [],
   "source": [
    "def process_lazypredict(X_train=None, y_train=None, X_test=None, y_test=None):\n",
    "    clf = LazyClassifier(verbose=0, ignore_warnings=True, custom_metric=None)\n",
    "    models, predictions = clf.fit(X_train, X_test, y_train, y_test)\n",
    "    return models"
   ]
  },
  {
   "cell_type": "code",
   "execution_count": 9,
   "metadata": {},
   "outputs": [
    {
     "output_type": "execute_result",
     "data": {
      "text/plain": [
       "<92x1657 sparse matrix of type '<class 'numpy.int64'>'\n",
       "\twith 2009 stored elements in Compressed Sparse Row format>"
      ]
     },
     "metadata": {},
     "execution_count": 9
    }
   ],
   "source": [
    "X_test"
   ]
  },
  {
   "cell_type": "code",
   "execution_count": 10,
   "metadata": {},
   "outputs": [
    {
     "output_type": "stream",
     "name": "stderr",
     "text": [
      "100%|██████████| 30/30 [00:03<00:00,  9.20it/s]\n"
     ]
    }
   ],
   "source": [
    "models_smoteenn = process_lazypredict(X_train=X_smoteenn.toarray(), \n",
    "    y_train=y_smoteenn, X_test=X_test.toarray(), y_test=y_test)"
   ]
  },
  {
   "cell_type": "code",
   "execution_count": 11,
   "metadata": {},
   "outputs": [
    {
     "output_type": "execute_result",
     "data": {
      "text/plain": [
       "                               Accuracy  Balanced Accuracy  ROC AUC  F1 Score  \\\n",
       "Model                                                                           \n",
       "LGBMClassifier                     0.63               0.81     0.81      0.74   \n",
       "LinearDiscriminantAnalysis         0.60               0.79     0.79      0.71   \n",
       "Perceptron                         0.59               0.78     0.78      0.70   \n",
       "AdaBoostClassifier                 0.70               0.72     0.72      0.79   \n",
       "SGDClassifier                      0.40               0.69     0.69      0.53   \n",
       "ExtraTreesClassifier               0.59               0.66     0.66      0.70   \n",
       "RandomForestClassifier             0.54               0.64     0.64      0.67   \n",
       "DecisionTreeClassifier             0.73               0.62     0.62      0.81   \n",
       "XGBClassifier                      0.66               0.59     0.59      0.76   \n",
       "BaggingClassifier                  0.61               0.56     0.56      0.72   \n",
       "ExtraTreeClassifier                0.55               0.53     0.53      0.68   \n",
       "KNeighborsClassifier               0.05               0.51     0.51      0.03   \n",
       "CheckingClassifier                 0.96               0.50     0.50      0.94   \n",
       "QuadraticDiscriminantAnalysis      0.95               0.49     0.49      0.93   \n",
       "LabelSpreading                     0.92               0.48     0.48      0.92   \n",
       "LabelPropagation                   0.92               0.48     0.48      0.92   \n",
       "DummyClassifier                    0.16               0.44     0.44      0.23   \n",
       "RidgeClassifier                    0.37               0.43     0.43      0.50   \n",
       "RidgeClassifierCV                  0.37               0.43     0.43      0.50   \n",
       "GaussianNB                         0.82               0.43     0.43      0.86   \n",
       "LogisticRegression                 0.32               0.40     0.40      0.44   \n",
       "PassiveAggressiveClassifier        0.75               0.39     0.39      0.82   \n",
       "SVC                                0.74               0.39     0.39      0.81   \n",
       "LinearSVC                          0.73               0.38     0.38      0.81   \n",
       "CalibratedClassifierCV             0.25               0.37     0.37      0.36   \n",
       "NearestCentroid                    0.37               0.31     0.31      0.51   \n",
       "BernoulliNB                        0.32               0.28     0.28      0.45   \n",
       "\n",
       "                               Time Taken  \n",
       "Model                                      \n",
       "LGBMClassifier                       0.20  \n",
       "LinearDiscriminantAnalysis           0.15  \n",
       "Perceptron                           0.05  \n",
       "AdaBoostClassifier                   0.26  \n",
       "SGDClassifier                        0.06  \n",
       "ExtraTreesClassifier                 0.15  \n",
       "RandomForestClassifier               0.17  \n",
       "DecisionTreeClassifier               0.05  \n",
       "XGBClassifier                        0.33  \n",
       "BaggingClassifier                    0.10  \n",
       "ExtraTreeClassifier                  0.04  \n",
       "KNeighborsClassifier                 0.12  \n",
       "CheckingClassifier                   0.05  \n",
       "QuadraticDiscriminantAnalysis        0.10  \n",
       "LabelSpreading                       0.05  \n",
       "LabelPropagation                     0.04  \n",
       "DummyClassifier                      0.04  \n",
       "RidgeClassifier                      0.05  \n",
       "RidgeClassifierCV                    0.07  \n",
       "GaussianNB                           0.04  \n",
       "LogisticRegression                   0.07  \n",
       "PassiveAggressiveClassifier          0.06  \n",
       "SVC                                  0.09  \n",
       "LinearSVC                            0.15  \n",
       "CalibratedClassifierCV               0.42  \n",
       "NearestCentroid                      0.05  \n",
       "BernoulliNB                          0.04  "
      ],
      "text/html": "<div>\n<style scoped>\n    .dataframe tbody tr th:only-of-type {\n        vertical-align: middle;\n    }\n\n    .dataframe tbody tr th {\n        vertical-align: top;\n    }\n\n    .dataframe thead th {\n        text-align: right;\n    }\n</style>\n<table border=\"1\" class=\"dataframe\">\n  <thead>\n    <tr style=\"text-align: right;\">\n      <th></th>\n      <th>Accuracy</th>\n      <th>Balanced Accuracy</th>\n      <th>ROC AUC</th>\n      <th>F1 Score</th>\n      <th>Time Taken</th>\n    </tr>\n    <tr>\n      <th>Model</th>\n      <th></th>\n      <th></th>\n      <th></th>\n      <th></th>\n      <th></th>\n    </tr>\n  </thead>\n  <tbody>\n    <tr>\n      <th>LGBMClassifier</th>\n      <td>0.63</td>\n      <td>0.81</td>\n      <td>0.81</td>\n      <td>0.74</td>\n      <td>0.20</td>\n    </tr>\n    <tr>\n      <th>LinearDiscriminantAnalysis</th>\n      <td>0.60</td>\n      <td>0.79</td>\n      <td>0.79</td>\n      <td>0.71</td>\n      <td>0.15</td>\n    </tr>\n    <tr>\n      <th>Perceptron</th>\n      <td>0.59</td>\n      <td>0.78</td>\n      <td>0.78</td>\n      <td>0.70</td>\n      <td>0.05</td>\n    </tr>\n    <tr>\n      <th>AdaBoostClassifier</th>\n      <td>0.70</td>\n      <td>0.72</td>\n      <td>0.72</td>\n      <td>0.79</td>\n      <td>0.26</td>\n    </tr>\n    <tr>\n      <th>SGDClassifier</th>\n      <td>0.40</td>\n      <td>0.69</td>\n      <td>0.69</td>\n      <td>0.53</td>\n      <td>0.06</td>\n    </tr>\n    <tr>\n      <th>ExtraTreesClassifier</th>\n      <td>0.59</td>\n      <td>0.66</td>\n      <td>0.66</td>\n      <td>0.70</td>\n      <td>0.15</td>\n    </tr>\n    <tr>\n      <th>RandomForestClassifier</th>\n      <td>0.54</td>\n      <td>0.64</td>\n      <td>0.64</td>\n      <td>0.67</td>\n      <td>0.17</td>\n    </tr>\n    <tr>\n      <th>DecisionTreeClassifier</th>\n      <td>0.73</td>\n      <td>0.62</td>\n      <td>0.62</td>\n      <td>0.81</td>\n      <td>0.05</td>\n    </tr>\n    <tr>\n      <th>XGBClassifier</th>\n      <td>0.66</td>\n      <td>0.59</td>\n      <td>0.59</td>\n      <td>0.76</td>\n      <td>0.33</td>\n    </tr>\n    <tr>\n      <th>BaggingClassifier</th>\n      <td>0.61</td>\n      <td>0.56</td>\n      <td>0.56</td>\n      <td>0.72</td>\n      <td>0.10</td>\n    </tr>\n    <tr>\n      <th>ExtraTreeClassifier</th>\n      <td>0.55</td>\n      <td>0.53</td>\n      <td>0.53</td>\n      <td>0.68</td>\n      <td>0.04</td>\n    </tr>\n    <tr>\n      <th>KNeighborsClassifier</th>\n      <td>0.05</td>\n      <td>0.51</td>\n      <td>0.51</td>\n      <td>0.03</td>\n      <td>0.12</td>\n    </tr>\n    <tr>\n      <th>CheckingClassifier</th>\n      <td>0.96</td>\n      <td>0.50</td>\n      <td>0.50</td>\n      <td>0.94</td>\n      <td>0.05</td>\n    </tr>\n    <tr>\n      <th>QuadraticDiscriminantAnalysis</th>\n      <td>0.95</td>\n      <td>0.49</td>\n      <td>0.49</td>\n      <td>0.93</td>\n      <td>0.10</td>\n    </tr>\n    <tr>\n      <th>LabelSpreading</th>\n      <td>0.92</td>\n      <td>0.48</td>\n      <td>0.48</td>\n      <td>0.92</td>\n      <td>0.05</td>\n    </tr>\n    <tr>\n      <th>LabelPropagation</th>\n      <td>0.92</td>\n      <td>0.48</td>\n      <td>0.48</td>\n      <td>0.92</td>\n      <td>0.04</td>\n    </tr>\n    <tr>\n      <th>DummyClassifier</th>\n      <td>0.16</td>\n      <td>0.44</td>\n      <td>0.44</td>\n      <td>0.23</td>\n      <td>0.04</td>\n    </tr>\n    <tr>\n      <th>RidgeClassifier</th>\n      <td>0.37</td>\n      <td>0.43</td>\n      <td>0.43</td>\n      <td>0.50</td>\n      <td>0.05</td>\n    </tr>\n    <tr>\n      <th>RidgeClassifierCV</th>\n      <td>0.37</td>\n      <td>0.43</td>\n      <td>0.43</td>\n      <td>0.50</td>\n      <td>0.07</td>\n    </tr>\n    <tr>\n      <th>GaussianNB</th>\n      <td>0.82</td>\n      <td>0.43</td>\n      <td>0.43</td>\n      <td>0.86</td>\n      <td>0.04</td>\n    </tr>\n    <tr>\n      <th>LogisticRegression</th>\n      <td>0.32</td>\n      <td>0.40</td>\n      <td>0.40</td>\n      <td>0.44</td>\n      <td>0.07</td>\n    </tr>\n    <tr>\n      <th>PassiveAggressiveClassifier</th>\n      <td>0.75</td>\n      <td>0.39</td>\n      <td>0.39</td>\n      <td>0.82</td>\n      <td>0.06</td>\n    </tr>\n    <tr>\n      <th>SVC</th>\n      <td>0.74</td>\n      <td>0.39</td>\n      <td>0.39</td>\n      <td>0.81</td>\n      <td>0.09</td>\n    </tr>\n    <tr>\n      <th>LinearSVC</th>\n      <td>0.73</td>\n      <td>0.38</td>\n      <td>0.38</td>\n      <td>0.81</td>\n      <td>0.15</td>\n    </tr>\n    <tr>\n      <th>CalibratedClassifierCV</th>\n      <td>0.25</td>\n      <td>0.37</td>\n      <td>0.37</td>\n      <td>0.36</td>\n      <td>0.42</td>\n    </tr>\n    <tr>\n      <th>NearestCentroid</th>\n      <td>0.37</td>\n      <td>0.31</td>\n      <td>0.31</td>\n      <td>0.51</td>\n      <td>0.05</td>\n    </tr>\n    <tr>\n      <th>BernoulliNB</th>\n      <td>0.32</td>\n      <td>0.28</td>\n      <td>0.28</td>\n      <td>0.45</td>\n      <td>0.04</td>\n    </tr>\n  </tbody>\n</table>\n</div>"
     },
     "metadata": {},
     "execution_count": 11
    }
   ],
   "source": [
    "models_smoteenn"
   ]
  },
  {
   "cell_type": "code",
   "execution_count": 12,
   "metadata": {},
   "outputs": [
    {
     "output_type": "display_data",
     "data": {
      "application/vnd.plotly.v1+json": {
       "config": {
        "plotlyServerURL": "https://plot.ly"
       },
       "data": [
        {
         "alignmentgroup": "True",
         "hovertemplate": "Model=%{x}<br>ROC AUC=%{y}<extra></extra>",
         "legendgroup": "LGBMClassifier",
         "marker": {
          "color": "#AF0038"
         },
         "name": "LGBMClassifier",
         "offsetgroup": "LGBMClassifier",
         "orientation": "v",
         "showlegend": true,
         "textposition": "auto",
         "type": "bar",
         "x": [
          "LGBMClassifier"
         ],
         "xaxis": "x",
         "y": [
          0.8068181818181819
         ],
         "yaxis": "y"
        },
        {
         "alignmentgroup": "True",
         "hovertemplate": "Model=%{x}<br>ROC AUC=%{y}<extra></extra>",
         "legendgroup": "LinearDiscriminantAnalysis",
         "marker": {
          "color": "#0D2A63"
         },
         "name": "LinearDiscriminantAnalysis",
         "offsetgroup": "LinearDiscriminantAnalysis",
         "orientation": "v",
         "showlegend": true,
         "textposition": "auto",
         "type": "bar",
         "x": [
          "LinearDiscriminantAnalysis"
         ],
         "xaxis": "x",
         "y": [
          0.7897727272727273
         ],
         "yaxis": "y"
        },
        {
         "alignmentgroup": "True",
         "hovertemplate": "Model=%{x}<br>ROC AUC=%{y}<extra></extra>",
         "legendgroup": "Perceptron",
         "marker": {
          "color": "#6C4516"
         },
         "name": "Perceptron",
         "offsetgroup": "Perceptron",
         "orientation": "v",
         "showlegend": true,
         "textposition": "auto",
         "type": "bar",
         "x": [
          "Perceptron"
         ],
         "xaxis": "x",
         "y": [
          0.7840909090909091
         ],
         "yaxis": "y"
        },
        {
         "alignmentgroup": "True",
         "hovertemplate": "Model=%{x}<br>ROC AUC=%{y}<extra></extra>",
         "legendgroup": "AdaBoostClassifier",
         "marker": {
          "color": "#DA60CA"
         },
         "name": "AdaBoostClassifier",
         "offsetgroup": "AdaBoostClassifier",
         "orientation": "v",
         "showlegend": true,
         "textposition": "auto",
         "type": "bar",
         "x": [
          "AdaBoostClassifier"
         ],
         "xaxis": "x",
         "y": [
          0.721590909090909
         ],
         "yaxis": "y"
        },
        {
         "alignmentgroup": "True",
         "hovertemplate": "Model=%{x}<br>ROC AUC=%{y}<extra></extra>",
         "legendgroup": "SGDClassifier",
         "marker": {
          "color": "#1616A7"
         },
         "name": "SGDClassifier",
         "offsetgroup": "SGDClassifier",
         "orientation": "v",
         "showlegend": true,
         "textposition": "auto",
         "type": "bar",
         "x": [
          "SGDClassifier"
         ],
         "xaxis": "x",
         "y": [
          0.6875
         ],
         "yaxis": "y"
        },
        {
         "alignmentgroup": "True",
         "hovertemplate": "Model=%{x}<br>ROC AUC=%{y}<extra></extra>",
         "legendgroup": "ExtraTreesClassifier",
         "marker": {
          "color": "#620042"
         },
         "name": "ExtraTreesClassifier",
         "offsetgroup": "ExtraTreesClassifier",
         "orientation": "v",
         "showlegend": true,
         "textposition": "auto",
         "type": "bar",
         "x": [
          "ExtraTreesClassifier"
         ],
         "xaxis": "x",
         "y": [
          0.6647727272727273
         ],
         "yaxis": "y"
        },
        {
         "alignmentgroup": "True",
         "hovertemplate": "Model=%{x}<br>ROC AUC=%{y}<extra></extra>",
         "legendgroup": "RandomForestClassifier",
         "marker": {
          "color": "#A777F1"
         },
         "name": "RandomForestClassifier",
         "offsetgroup": "RandomForestClassifier",
         "orientation": "v",
         "showlegend": true,
         "textposition": "auto",
         "type": "bar",
         "x": [
          "RandomForestClassifier"
         ],
         "xaxis": "x",
         "y": [
          0.6420454545454546
         ],
         "yaxis": "y"
        },
        {
         "alignmentgroup": "True",
         "hovertemplate": "Model=%{x}<br>ROC AUC=%{y}<extra></extra>",
         "legendgroup": "DecisionTreeClassifier",
         "marker": {
          "color": "#862A16"
         },
         "name": "DecisionTreeClassifier",
         "offsetgroup": "DecisionTreeClassifier",
         "orientation": "v",
         "showlegend": true,
         "textposition": "auto",
         "type": "bar",
         "x": [
          "DecisionTreeClassifier"
         ],
         "xaxis": "x",
         "y": [
          0.6193181818181818
         ],
         "yaxis": "y"
        },
        {
         "alignmentgroup": "True",
         "hovertemplate": "Model=%{x}<br>ROC AUC=%{y}<extra></extra>",
         "legendgroup": "XGBClassifier",
         "marker": {
          "color": "#778AAE"
         },
         "name": "XGBClassifier",
         "offsetgroup": "XGBClassifier",
         "orientation": "v",
         "showlegend": true,
         "textposition": "auto",
         "type": "bar",
         "x": [
          "XGBClassifier"
         ],
         "xaxis": "x",
         "y": [
          0.5852272727272727
         ],
         "yaxis": "y"
        },
        {
         "alignmentgroup": "True",
         "hovertemplate": "Model=%{x}<br>ROC AUC=%{y}<extra></extra>",
         "legendgroup": "BaggingClassifier",
         "marker": {
          "color": "#6C7C32"
         },
         "name": "BaggingClassifier",
         "offsetgroup": "BaggingClassifier",
         "orientation": "v",
         "showlegend": true,
         "textposition": "auto",
         "type": "bar",
         "x": [
          "BaggingClassifier"
         ],
         "xaxis": "x",
         "y": [
          0.5568181818181818
         ],
         "yaxis": "y"
        },
        {
         "alignmentgroup": "True",
         "hovertemplate": "Model=%{x}<br>ROC AUC=%{y}<extra></extra>",
         "legendgroup": "ExtraTreeClassifier",
         "marker": {
          "color": "#B2828D"
         },
         "name": "ExtraTreeClassifier",
         "offsetgroup": "ExtraTreeClassifier",
         "orientation": "v",
         "showlegend": true,
         "textposition": "auto",
         "type": "bar",
         "x": [
          "ExtraTreeClassifier"
         ],
         "xaxis": "x",
         "y": [
          0.5284090909090909
         ],
         "yaxis": "y"
        },
        {
         "alignmentgroup": "True",
         "hovertemplate": "Model=%{x}<br>ROC AUC=%{y}<extra></extra>",
         "legendgroup": "KNeighborsClassifier",
         "marker": {
          "color": "#FC0080"
         },
         "name": "KNeighborsClassifier",
         "offsetgroup": "KNeighborsClassifier",
         "orientation": "v",
         "showlegend": true,
         "textposition": "auto",
         "type": "bar",
         "x": [
          "KNeighborsClassifier"
         ],
         "xaxis": "x",
         "y": [
          0.5056818181818181
         ],
         "yaxis": "y"
        },
        {
         "alignmentgroup": "True",
         "hovertemplate": "Model=%{x}<br>ROC AUC=%{y}<extra></extra>",
         "legendgroup": "CheckingClassifier",
         "marker": {
          "color": "#FB00D1"
         },
         "name": "CheckingClassifier",
         "offsetgroup": "CheckingClassifier",
         "orientation": "v",
         "showlegend": true,
         "textposition": "auto",
         "type": "bar",
         "x": [
          "CheckingClassifier"
         ],
         "xaxis": "x",
         "y": [
          0.5
         ],
         "yaxis": "y"
        },
        {
         "alignmentgroup": "True",
         "hovertemplate": "Model=%{x}<br>ROC AUC=%{y}<extra></extra>",
         "legendgroup": "QuadraticDiscriminantAnalysis",
         "marker": {
          "color": "#00A08B"
         },
         "name": "QuadraticDiscriminantAnalysis",
         "offsetgroup": "QuadraticDiscriminantAnalysis",
         "orientation": "v",
         "showlegend": true,
         "textposition": "auto",
         "type": "bar",
         "x": [
          "QuadraticDiscriminantAnalysis"
         ],
         "xaxis": "x",
         "y": [
          0.4943181818181818
         ],
         "yaxis": "y"
        },
        {
         "alignmentgroup": "True",
         "hovertemplate": "Model=%{x}<br>ROC AUC=%{y}<extra></extra>",
         "legendgroup": "LabelSpreading",
         "marker": {
          "color": "#511CFB"
         },
         "name": "LabelSpreading",
         "offsetgroup": "LabelSpreading",
         "orientation": "v",
         "showlegend": true,
         "textposition": "auto",
         "type": "bar",
         "x": [
          "LabelSpreading"
         ],
         "xaxis": "x",
         "y": [
          0.48295454545454547
         ],
         "yaxis": "y"
        },
        {
         "alignmentgroup": "True",
         "hovertemplate": "Model=%{x}<br>ROC AUC=%{y}<extra></extra>",
         "legendgroup": "LabelPropagation",
         "marker": {
          "color": "#EB663B"
         },
         "name": "LabelPropagation",
         "offsetgroup": "LabelPropagation",
         "orientation": "v",
         "showlegend": true,
         "textposition": "auto",
         "type": "bar",
         "x": [
          "LabelPropagation"
         ],
         "xaxis": "x",
         "y": [
          0.48295454545454547
         ],
         "yaxis": "y"
        },
        {
         "alignmentgroup": "True",
         "hovertemplate": "Model=%{x}<br>ROC AUC=%{y}<extra></extra>",
         "legendgroup": "DummyClassifier",
         "marker": {
          "color": "#750D86"
         },
         "name": "DummyClassifier",
         "offsetgroup": "DummyClassifier",
         "orientation": "v",
         "showlegend": true,
         "textposition": "auto",
         "type": "bar",
         "x": [
          "DummyClassifier"
         ],
         "xaxis": "x",
         "y": [
          0.4431818181818182
         ],
         "yaxis": "y"
        },
        {
         "alignmentgroup": "True",
         "hovertemplate": "Model=%{x}<br>ROC AUC=%{y}<extra></extra>",
         "legendgroup": "RidgeClassifier",
         "marker": {
          "color": "#B68100"
         },
         "name": "RidgeClassifier",
         "offsetgroup": "RidgeClassifier",
         "orientation": "v",
         "showlegend": true,
         "textposition": "auto",
         "type": "bar",
         "x": [
          "RidgeClassifier"
         ],
         "xaxis": "x",
         "y": [
          0.43181818181818177
         ],
         "yaxis": "y"
        },
        {
         "alignmentgroup": "True",
         "hovertemplate": "Model=%{x}<br>ROC AUC=%{y}<extra></extra>",
         "legendgroup": "RidgeClassifierCV",
         "marker": {
          "color": "#222A2A"
         },
         "name": "RidgeClassifierCV",
         "offsetgroup": "RidgeClassifierCV",
         "orientation": "v",
         "showlegend": true,
         "textposition": "auto",
         "type": "bar",
         "x": [
          "RidgeClassifierCV"
         ],
         "xaxis": "x",
         "y": [
          0.43181818181818177
         ],
         "yaxis": "y"
        },
        {
         "alignmentgroup": "True",
         "hovertemplate": "Model=%{x}<br>ROC AUC=%{y}<extra></extra>",
         "legendgroup": "GaussianNB",
         "marker": {
          "color": "#DA16FF"
         },
         "name": "GaussianNB",
         "offsetgroup": "GaussianNB",
         "orientation": "v",
         "showlegend": true,
         "textposition": "auto",
         "type": "bar",
         "x": [
          "GaussianNB"
         ],
         "xaxis": "x",
         "y": [
          0.42613636363636365
         ],
         "yaxis": "y"
        },
        {
         "alignmentgroup": "True",
         "hovertemplate": "Model=%{x}<br>ROC AUC=%{y}<extra></extra>",
         "legendgroup": "LogisticRegression",
         "marker": {
          "color": "#FB0D0D"
         },
         "name": "LogisticRegression",
         "offsetgroup": "LogisticRegression",
         "orientation": "v",
         "showlegend": true,
         "textposition": "auto",
         "type": "bar",
         "x": [
          "LogisticRegression"
         ],
         "xaxis": "x",
         "y": [
          0.4034090909090909
         ],
         "yaxis": "y"
        },
        {
         "alignmentgroup": "True",
         "hovertemplate": "Model=%{x}<br>ROC AUC=%{y}<extra></extra>",
         "legendgroup": "PassiveAggressiveClassifier",
         "marker": {
          "color": "#1CA71C"
         },
         "name": "PassiveAggressiveClassifier",
         "offsetgroup": "PassiveAggressiveClassifier",
         "orientation": "v",
         "showlegend": true,
         "textposition": "auto",
         "type": "bar",
         "x": [
          "PassiveAggressiveClassifier"
         ],
         "xaxis": "x",
         "y": [
          0.39204545454545453
         ],
         "yaxis": "y"
        },
        {
         "alignmentgroup": "True",
         "hovertemplate": "Model=%{x}<br>ROC AUC=%{y}<extra></extra>",
         "legendgroup": "SVC",
         "marker": {
          "color": "#E15F99"
         },
         "name": "SVC",
         "offsetgroup": "SVC",
         "orientation": "v",
         "showlegend": true,
         "textposition": "auto",
         "type": "bar",
         "x": [
          "SVC"
         ],
         "xaxis": "x",
         "y": [
          0.38636363636363635
         ],
         "yaxis": "y"
        },
        {
         "alignmentgroup": "True",
         "hovertemplate": "Model=%{x}<br>ROC AUC=%{y}<extra></extra>",
         "legendgroup": "LinearSVC",
         "marker": {
          "color": "#2E91E5"
         },
         "name": "LinearSVC",
         "offsetgroup": "LinearSVC",
         "orientation": "v",
         "showlegend": true,
         "textposition": "auto",
         "type": "bar",
         "x": [
          "LinearSVC"
         ],
         "xaxis": "x",
         "y": [
          0.3806818181818182
         ],
         "yaxis": "y"
        },
        {
         "alignmentgroup": "True",
         "hovertemplate": "Model=%{x}<br>ROC AUC=%{y}<extra></extra>",
         "legendgroup": "CalibratedClassifierCV",
         "marker": {
          "color": "#AF0038"
         },
         "name": "CalibratedClassifierCV",
         "offsetgroup": "CalibratedClassifierCV",
         "orientation": "v",
         "showlegend": true,
         "textposition": "auto",
         "type": "bar",
         "x": [
          "CalibratedClassifierCV"
         ],
         "xaxis": "x",
         "y": [
          0.3693181818181818
         ],
         "yaxis": "y"
        },
        {
         "alignmentgroup": "True",
         "hovertemplate": "Model=%{x}<br>ROC AUC=%{y}<extra></extra>",
         "legendgroup": "NearestCentroid",
         "marker": {
          "color": "#0D2A63"
         },
         "name": "NearestCentroid",
         "offsetgroup": "NearestCentroid",
         "orientation": "v",
         "showlegend": true,
         "textposition": "auto",
         "type": "bar",
         "x": [
          "NearestCentroid"
         ],
         "xaxis": "x",
         "y": [
          0.3125
         ],
         "yaxis": "y"
        },
        {
         "alignmentgroup": "True",
         "hovertemplate": "Model=%{x}<br>ROC AUC=%{y}<extra></extra>",
         "legendgroup": "BernoulliNB",
         "marker": {
          "color": "#6C4516"
         },
         "name": "BernoulliNB",
         "offsetgroup": "BernoulliNB",
         "orientation": "v",
         "showlegend": true,
         "textposition": "auto",
         "type": "bar",
         "x": [
          "BernoulliNB"
         ],
         "xaxis": "x",
         "y": [
          0.2840909090909091
         ],
         "yaxis": "y"
        }
       ],
       "layout": {
        "barmode": "relative",
        "legend": {
         "title": {
          "text": "Model"
         },
         "tracegroupgap": 0
        },
        "margin": {
         "t": 60
        },
        "template": {
         "data": {
          "bar": [
           {
            "error_x": {
             "color": "#2a3f5f"
            },
            "error_y": {
             "color": "#2a3f5f"
            },
            "marker": {
             "line": {
              "color": "#E5ECF6",
              "width": 0.5
             }
            },
            "type": "bar"
           }
          ],
          "barpolar": [
           {
            "marker": {
             "line": {
              "color": "#E5ECF6",
              "width": 0.5
             }
            },
            "type": "barpolar"
           }
          ],
          "carpet": [
           {
            "aaxis": {
             "endlinecolor": "#2a3f5f",
             "gridcolor": "white",
             "linecolor": "white",
             "minorgridcolor": "white",
             "startlinecolor": "#2a3f5f"
            },
            "baxis": {
             "endlinecolor": "#2a3f5f",
             "gridcolor": "white",
             "linecolor": "white",
             "minorgridcolor": "white",
             "startlinecolor": "#2a3f5f"
            },
            "type": "carpet"
           }
          ],
          "choropleth": [
           {
            "colorbar": {
             "outlinewidth": 0,
             "ticks": ""
            },
            "type": "choropleth"
           }
          ],
          "contour": [
           {
            "colorbar": {
             "outlinewidth": 0,
             "ticks": ""
            },
            "colorscale": [
             [
              0,
              "#0d0887"
             ],
             [
              0.1111111111111111,
              "#46039f"
             ],
             [
              0.2222222222222222,
              "#7201a8"
             ],
             [
              0.3333333333333333,
              "#9c179e"
             ],
             [
              0.4444444444444444,
              "#bd3786"
             ],
             [
              0.5555555555555556,
              "#d8576b"
             ],
             [
              0.6666666666666666,
              "#ed7953"
             ],
             [
              0.7777777777777778,
              "#fb9f3a"
             ],
             [
              0.8888888888888888,
              "#fdca26"
             ],
             [
              1,
              "#f0f921"
             ]
            ],
            "type": "contour"
           }
          ],
          "contourcarpet": [
           {
            "colorbar": {
             "outlinewidth": 0,
             "ticks": ""
            },
            "type": "contourcarpet"
           }
          ],
          "heatmap": [
           {
            "colorbar": {
             "outlinewidth": 0,
             "ticks": ""
            },
            "colorscale": [
             [
              0,
              "#0d0887"
             ],
             [
              0.1111111111111111,
              "#46039f"
             ],
             [
              0.2222222222222222,
              "#7201a8"
             ],
             [
              0.3333333333333333,
              "#9c179e"
             ],
             [
              0.4444444444444444,
              "#bd3786"
             ],
             [
              0.5555555555555556,
              "#d8576b"
             ],
             [
              0.6666666666666666,
              "#ed7953"
             ],
             [
              0.7777777777777778,
              "#fb9f3a"
             ],
             [
              0.8888888888888888,
              "#fdca26"
             ],
             [
              1,
              "#f0f921"
             ]
            ],
            "type": "heatmap"
           }
          ],
          "heatmapgl": [
           {
            "colorbar": {
             "outlinewidth": 0,
             "ticks": ""
            },
            "colorscale": [
             [
              0,
              "#0d0887"
             ],
             [
              0.1111111111111111,
              "#46039f"
             ],
             [
              0.2222222222222222,
              "#7201a8"
             ],
             [
              0.3333333333333333,
              "#9c179e"
             ],
             [
              0.4444444444444444,
              "#bd3786"
             ],
             [
              0.5555555555555556,
              "#d8576b"
             ],
             [
              0.6666666666666666,
              "#ed7953"
             ],
             [
              0.7777777777777778,
              "#fb9f3a"
             ],
             [
              0.8888888888888888,
              "#fdca26"
             ],
             [
              1,
              "#f0f921"
             ]
            ],
            "type": "heatmapgl"
           }
          ],
          "histogram": [
           {
            "marker": {
             "colorbar": {
              "outlinewidth": 0,
              "ticks": ""
             }
            },
            "type": "histogram"
           }
          ],
          "histogram2d": [
           {
            "colorbar": {
             "outlinewidth": 0,
             "ticks": ""
            },
            "colorscale": [
             [
              0,
              "#0d0887"
             ],
             [
              0.1111111111111111,
              "#46039f"
             ],
             [
              0.2222222222222222,
              "#7201a8"
             ],
             [
              0.3333333333333333,
              "#9c179e"
             ],
             [
              0.4444444444444444,
              "#bd3786"
             ],
             [
              0.5555555555555556,
              "#d8576b"
             ],
             [
              0.6666666666666666,
              "#ed7953"
             ],
             [
              0.7777777777777778,
              "#fb9f3a"
             ],
             [
              0.8888888888888888,
              "#fdca26"
             ],
             [
              1,
              "#f0f921"
             ]
            ],
            "type": "histogram2d"
           }
          ],
          "histogram2dcontour": [
           {
            "colorbar": {
             "outlinewidth": 0,
             "ticks": ""
            },
            "colorscale": [
             [
              0,
              "#0d0887"
             ],
             [
              0.1111111111111111,
              "#46039f"
             ],
             [
              0.2222222222222222,
              "#7201a8"
             ],
             [
              0.3333333333333333,
              "#9c179e"
             ],
             [
              0.4444444444444444,
              "#bd3786"
             ],
             [
              0.5555555555555556,
              "#d8576b"
             ],
             [
              0.6666666666666666,
              "#ed7953"
             ],
             [
              0.7777777777777778,
              "#fb9f3a"
             ],
             [
              0.8888888888888888,
              "#fdca26"
             ],
             [
              1,
              "#f0f921"
             ]
            ],
            "type": "histogram2dcontour"
           }
          ],
          "mesh3d": [
           {
            "colorbar": {
             "outlinewidth": 0,
             "ticks": ""
            },
            "type": "mesh3d"
           }
          ],
          "parcoords": [
           {
            "line": {
             "colorbar": {
              "outlinewidth": 0,
              "ticks": ""
             }
            },
            "type": "parcoords"
           }
          ],
          "pie": [
           {
            "automargin": true,
            "type": "pie"
           }
          ],
          "scatter": [
           {
            "marker": {
             "colorbar": {
              "outlinewidth": 0,
              "ticks": ""
             }
            },
            "type": "scatter"
           }
          ],
          "scatter3d": [
           {
            "line": {
             "colorbar": {
              "outlinewidth": 0,
              "ticks": ""
             }
            },
            "marker": {
             "colorbar": {
              "outlinewidth": 0,
              "ticks": ""
             }
            },
            "type": "scatter3d"
           }
          ],
          "scattercarpet": [
           {
            "marker": {
             "colorbar": {
              "outlinewidth": 0,
              "ticks": ""
             }
            },
            "type": "scattercarpet"
           }
          ],
          "scattergeo": [
           {
            "marker": {
             "colorbar": {
              "outlinewidth": 0,
              "ticks": ""
             }
            },
            "type": "scattergeo"
           }
          ],
          "scattergl": [
           {
            "marker": {
             "colorbar": {
              "outlinewidth": 0,
              "ticks": ""
             }
            },
            "type": "scattergl"
           }
          ],
          "scattermapbox": [
           {
            "marker": {
             "colorbar": {
              "outlinewidth": 0,
              "ticks": ""
             }
            },
            "type": "scattermapbox"
           }
          ],
          "scatterpolar": [
           {
            "marker": {
             "colorbar": {
              "outlinewidth": 0,
              "ticks": ""
             }
            },
            "type": "scatterpolar"
           }
          ],
          "scatterpolargl": [
           {
            "marker": {
             "colorbar": {
              "outlinewidth": 0,
              "ticks": ""
             }
            },
            "type": "scatterpolargl"
           }
          ],
          "scatterternary": [
           {
            "marker": {
             "colorbar": {
              "outlinewidth": 0,
              "ticks": ""
             }
            },
            "type": "scatterternary"
           }
          ],
          "surface": [
           {
            "colorbar": {
             "outlinewidth": 0,
             "ticks": ""
            },
            "colorscale": [
             [
              0,
              "#0d0887"
             ],
             [
              0.1111111111111111,
              "#46039f"
             ],
             [
              0.2222222222222222,
              "#7201a8"
             ],
             [
              0.3333333333333333,
              "#9c179e"
             ],
             [
              0.4444444444444444,
              "#bd3786"
             ],
             [
              0.5555555555555556,
              "#d8576b"
             ],
             [
              0.6666666666666666,
              "#ed7953"
             ],
             [
              0.7777777777777778,
              "#fb9f3a"
             ],
             [
              0.8888888888888888,
              "#fdca26"
             ],
             [
              1,
              "#f0f921"
             ]
            ],
            "type": "surface"
           }
          ],
          "table": [
           {
            "cells": {
             "fill": {
              "color": "#EBF0F8"
             },
             "line": {
              "color": "white"
             }
            },
            "header": {
             "fill": {
              "color": "#C8D4E3"
             },
             "line": {
              "color": "white"
             }
            },
            "type": "table"
           }
          ]
         },
         "layout": {
          "annotationdefaults": {
           "arrowcolor": "#2a3f5f",
           "arrowhead": 0,
           "arrowwidth": 1
          },
          "autotypenumbers": "strict",
          "coloraxis": {
           "colorbar": {
            "outlinewidth": 0,
            "ticks": ""
           }
          },
          "colorscale": {
           "diverging": [
            [
             0,
             "#8e0152"
            ],
            [
             0.1,
             "#c51b7d"
            ],
            [
             0.2,
             "#de77ae"
            ],
            [
             0.3,
             "#f1b6da"
            ],
            [
             0.4,
             "#fde0ef"
            ],
            [
             0.5,
             "#f7f7f7"
            ],
            [
             0.6,
             "#e6f5d0"
            ],
            [
             0.7,
             "#b8e186"
            ],
            [
             0.8,
             "#7fbc41"
            ],
            [
             0.9,
             "#4d9221"
            ],
            [
             1,
             "#276419"
            ]
           ],
           "sequential": [
            [
             0,
             "#0d0887"
            ],
            [
             0.1111111111111111,
             "#46039f"
            ],
            [
             0.2222222222222222,
             "#7201a8"
            ],
            [
             0.3333333333333333,
             "#9c179e"
            ],
            [
             0.4444444444444444,
             "#bd3786"
            ],
            [
             0.5555555555555556,
             "#d8576b"
            ],
            [
             0.6666666666666666,
             "#ed7953"
            ],
            [
             0.7777777777777778,
             "#fb9f3a"
            ],
            [
             0.8888888888888888,
             "#fdca26"
            ],
            [
             1,
             "#f0f921"
            ]
           ],
           "sequentialminus": [
            [
             0,
             "#0d0887"
            ],
            [
             0.1111111111111111,
             "#46039f"
            ],
            [
             0.2222222222222222,
             "#7201a8"
            ],
            [
             0.3333333333333333,
             "#9c179e"
            ],
            [
             0.4444444444444444,
             "#bd3786"
            ],
            [
             0.5555555555555556,
             "#d8576b"
            ],
            [
             0.6666666666666666,
             "#ed7953"
            ],
            [
             0.7777777777777778,
             "#fb9f3a"
            ],
            [
             0.8888888888888888,
             "#fdca26"
            ],
            [
             1,
             "#f0f921"
            ]
           ]
          },
          "colorway": [
           "#636efa",
           "#EF553B",
           "#00cc96",
           "#ab63fa",
           "#FFA15A",
           "#19d3f3",
           "#FF6692",
           "#B6E880",
           "#FF97FF",
           "#FECB52"
          ],
          "font": {
           "color": "#2a3f5f"
          },
          "geo": {
           "bgcolor": "white",
           "lakecolor": "white",
           "landcolor": "#E5ECF6",
           "showlakes": true,
           "showland": true,
           "subunitcolor": "white"
          },
          "hoverlabel": {
           "align": "left"
          },
          "hovermode": "closest",
          "mapbox": {
           "style": "light"
          },
          "paper_bgcolor": "white",
          "plot_bgcolor": "#E5ECF6",
          "polar": {
           "angularaxis": {
            "gridcolor": "white",
            "linecolor": "white",
            "ticks": ""
           },
           "bgcolor": "#E5ECF6",
           "radialaxis": {
            "gridcolor": "white",
            "linecolor": "white",
            "ticks": ""
           }
          },
          "scene": {
           "xaxis": {
            "backgroundcolor": "#E5ECF6",
            "gridcolor": "white",
            "gridwidth": 2,
            "linecolor": "white",
            "showbackground": true,
            "ticks": "",
            "zerolinecolor": "white"
           },
           "yaxis": {
            "backgroundcolor": "#E5ECF6",
            "gridcolor": "white",
            "gridwidth": 2,
            "linecolor": "white",
            "showbackground": true,
            "ticks": "",
            "zerolinecolor": "white"
           },
           "zaxis": {
            "backgroundcolor": "#E5ECF6",
            "gridcolor": "white",
            "gridwidth": 2,
            "linecolor": "white",
            "showbackground": true,
            "ticks": "",
            "zerolinecolor": "white"
           }
          },
          "shapedefaults": {
           "line": {
            "color": "#2a3f5f"
           }
          },
          "ternary": {
           "aaxis": {
            "gridcolor": "white",
            "linecolor": "white",
            "ticks": ""
           },
           "baxis": {
            "gridcolor": "white",
            "linecolor": "white",
            "ticks": ""
           },
           "bgcolor": "#E5ECF6",
           "caxis": {
            "gridcolor": "white",
            "linecolor": "white",
            "ticks": ""
           }
          },
          "title": {
           "x": 0.05
          },
          "xaxis": {
           "automargin": true,
           "gridcolor": "white",
           "linecolor": "white",
           "ticks": "",
           "title": {
            "standoff": 15
           },
           "zerolinecolor": "white",
           "zerolinewidth": 2
          },
          "yaxis": {
           "automargin": true,
           "gridcolor": "white",
           "linecolor": "white",
           "ticks": "",
           "title": {
            "standoff": 15
           },
           "zerolinecolor": "white",
           "zerolinewidth": 2
          }
         }
        },
        "xaxis": {
         "anchor": "y",
         "categoryarray": [
          "LGBMClassifier",
          "LinearDiscriminantAnalysis",
          "Perceptron",
          "AdaBoostClassifier",
          "SGDClassifier",
          "ExtraTreesClassifier",
          "RandomForestClassifier",
          "DecisionTreeClassifier",
          "XGBClassifier",
          "BaggingClassifier",
          "ExtraTreeClassifier",
          "KNeighborsClassifier",
          "CheckingClassifier",
          "QuadraticDiscriminantAnalysis",
          "LabelSpreading",
          "LabelPropagation",
          "DummyClassifier",
          "RidgeClassifier",
          "RidgeClassifierCV",
          "GaussianNB",
          "LogisticRegression",
          "PassiveAggressiveClassifier",
          "SVC",
          "LinearSVC",
          "CalibratedClassifierCV",
          "NearestCentroid",
          "BernoulliNB"
         ],
         "categoryorder": "array",
         "domain": [
          0,
          1
         ],
         "title": {
          "text": "Model"
         }
        },
        "yaxis": {
         "anchor": "x",
         "domain": [
          0,
          1
         ],
         "title": {
          "text": "ROC AUC"
         }
        }
       }
      },
      "text/html": "<div>                            <div id=\"c821d07d-a6d3-49e3-a959-844c550a1d3d\" class=\"plotly-graph-div\" style=\"height:525px; width:100%;\"></div>            <script type=\"text/javascript\">                require([\"plotly\"], function(Plotly) {                    window.PLOTLYENV=window.PLOTLYENV || {};                                    if (document.getElementById(\"c821d07d-a6d3-49e3-a959-844c550a1d3d\")) {                    Plotly.newPlot(                        \"c821d07d-a6d3-49e3-a959-844c550a1d3d\",                        [{\"alignmentgroup\": \"True\", \"hovertemplate\": \"Model=%{x}<br>ROC AUC=%{y}<extra></extra>\", \"legendgroup\": \"LGBMClassifier\", \"marker\": {\"color\": \"#AF0038\"}, \"name\": \"LGBMClassifier\", \"offsetgroup\": \"LGBMClassifier\", \"orientation\": \"v\", \"showlegend\": true, \"textposition\": \"auto\", \"type\": \"bar\", \"x\": [\"LGBMClassifier\"], \"xaxis\": \"x\", \"y\": [0.8068181818181819], \"yaxis\": \"y\"}, {\"alignmentgroup\": \"True\", \"hovertemplate\": \"Model=%{x}<br>ROC AUC=%{y}<extra></extra>\", \"legendgroup\": \"LinearDiscriminantAnalysis\", \"marker\": {\"color\": \"#0D2A63\"}, \"name\": \"LinearDiscriminantAnalysis\", \"offsetgroup\": \"LinearDiscriminantAnalysis\", \"orientation\": \"v\", \"showlegend\": true, \"textposition\": \"auto\", \"type\": \"bar\", \"x\": [\"LinearDiscriminantAnalysis\"], \"xaxis\": \"x\", \"y\": [0.7897727272727273], \"yaxis\": \"y\"}, {\"alignmentgroup\": \"True\", \"hovertemplate\": \"Model=%{x}<br>ROC AUC=%{y}<extra></extra>\", \"legendgroup\": \"Perceptron\", \"marker\": {\"color\": \"#6C4516\"}, \"name\": \"Perceptron\", \"offsetgroup\": \"Perceptron\", \"orientation\": \"v\", \"showlegend\": true, \"textposition\": \"auto\", \"type\": \"bar\", \"x\": [\"Perceptron\"], \"xaxis\": \"x\", \"y\": [0.7840909090909091], \"yaxis\": \"y\"}, {\"alignmentgroup\": \"True\", \"hovertemplate\": \"Model=%{x}<br>ROC AUC=%{y}<extra></extra>\", \"legendgroup\": \"AdaBoostClassifier\", \"marker\": {\"color\": \"#DA60CA\"}, \"name\": \"AdaBoostClassifier\", \"offsetgroup\": \"AdaBoostClassifier\", \"orientation\": \"v\", \"showlegend\": true, \"textposition\": \"auto\", \"type\": \"bar\", \"x\": [\"AdaBoostClassifier\"], \"xaxis\": \"x\", \"y\": [0.721590909090909], \"yaxis\": \"y\"}, {\"alignmentgroup\": \"True\", \"hovertemplate\": \"Model=%{x}<br>ROC AUC=%{y}<extra></extra>\", \"legendgroup\": \"SGDClassifier\", \"marker\": {\"color\": \"#1616A7\"}, \"name\": \"SGDClassifier\", \"offsetgroup\": \"SGDClassifier\", \"orientation\": \"v\", \"showlegend\": true, \"textposition\": \"auto\", \"type\": \"bar\", \"x\": [\"SGDClassifier\"], \"xaxis\": \"x\", \"y\": [0.6875], \"yaxis\": \"y\"}, {\"alignmentgroup\": \"True\", \"hovertemplate\": \"Model=%{x}<br>ROC AUC=%{y}<extra></extra>\", \"legendgroup\": \"ExtraTreesClassifier\", \"marker\": {\"color\": \"#620042\"}, \"name\": \"ExtraTreesClassifier\", \"offsetgroup\": \"ExtraTreesClassifier\", \"orientation\": \"v\", \"showlegend\": true, \"textposition\": \"auto\", \"type\": \"bar\", \"x\": [\"ExtraTreesClassifier\"], \"xaxis\": \"x\", \"y\": [0.6647727272727273], \"yaxis\": \"y\"}, {\"alignmentgroup\": \"True\", \"hovertemplate\": \"Model=%{x}<br>ROC AUC=%{y}<extra></extra>\", \"legendgroup\": \"RandomForestClassifier\", \"marker\": {\"color\": \"#A777F1\"}, \"name\": \"RandomForestClassifier\", \"offsetgroup\": \"RandomForestClassifier\", \"orientation\": \"v\", \"showlegend\": true, \"textposition\": \"auto\", \"type\": \"bar\", \"x\": [\"RandomForestClassifier\"], \"xaxis\": \"x\", \"y\": [0.6420454545454546], \"yaxis\": \"y\"}, {\"alignmentgroup\": \"True\", \"hovertemplate\": \"Model=%{x}<br>ROC AUC=%{y}<extra></extra>\", \"legendgroup\": \"DecisionTreeClassifier\", \"marker\": {\"color\": \"#862A16\"}, \"name\": \"DecisionTreeClassifier\", \"offsetgroup\": \"DecisionTreeClassifier\", \"orientation\": \"v\", \"showlegend\": true, \"textposition\": \"auto\", \"type\": \"bar\", \"x\": [\"DecisionTreeClassifier\"], \"xaxis\": \"x\", \"y\": [0.6193181818181818], \"yaxis\": \"y\"}, {\"alignmentgroup\": \"True\", \"hovertemplate\": \"Model=%{x}<br>ROC AUC=%{y}<extra></extra>\", \"legendgroup\": \"XGBClassifier\", \"marker\": {\"color\": \"#778AAE\"}, \"name\": \"XGBClassifier\", \"offsetgroup\": \"XGBClassifier\", \"orientation\": \"v\", \"showlegend\": true, \"textposition\": \"auto\", \"type\": \"bar\", \"x\": [\"XGBClassifier\"], \"xaxis\": \"x\", \"y\": [0.5852272727272727], \"yaxis\": \"y\"}, {\"alignmentgroup\": \"True\", \"hovertemplate\": \"Model=%{x}<br>ROC AUC=%{y}<extra></extra>\", \"legendgroup\": \"BaggingClassifier\", \"marker\": {\"color\": \"#6C7C32\"}, \"name\": \"BaggingClassifier\", \"offsetgroup\": \"BaggingClassifier\", \"orientation\": \"v\", \"showlegend\": true, \"textposition\": \"auto\", \"type\": \"bar\", \"x\": [\"BaggingClassifier\"], \"xaxis\": \"x\", \"y\": [0.5568181818181818], \"yaxis\": \"y\"}, {\"alignmentgroup\": \"True\", \"hovertemplate\": \"Model=%{x}<br>ROC AUC=%{y}<extra></extra>\", \"legendgroup\": \"ExtraTreeClassifier\", \"marker\": {\"color\": \"#B2828D\"}, \"name\": \"ExtraTreeClassifier\", \"offsetgroup\": \"ExtraTreeClassifier\", \"orientation\": \"v\", \"showlegend\": true, \"textposition\": \"auto\", \"type\": \"bar\", \"x\": [\"ExtraTreeClassifier\"], \"xaxis\": \"x\", \"y\": [0.5284090909090909], \"yaxis\": \"y\"}, {\"alignmentgroup\": \"True\", \"hovertemplate\": \"Model=%{x}<br>ROC AUC=%{y}<extra></extra>\", \"legendgroup\": \"KNeighborsClassifier\", \"marker\": {\"color\": \"#FC0080\"}, \"name\": \"KNeighborsClassifier\", \"offsetgroup\": \"KNeighborsClassifier\", \"orientation\": \"v\", \"showlegend\": true, \"textposition\": \"auto\", \"type\": \"bar\", \"x\": [\"KNeighborsClassifier\"], \"xaxis\": \"x\", \"y\": [0.5056818181818181], \"yaxis\": \"y\"}, {\"alignmentgroup\": \"True\", \"hovertemplate\": \"Model=%{x}<br>ROC AUC=%{y}<extra></extra>\", \"legendgroup\": \"CheckingClassifier\", \"marker\": {\"color\": \"#FB00D1\"}, \"name\": \"CheckingClassifier\", \"offsetgroup\": \"CheckingClassifier\", \"orientation\": \"v\", \"showlegend\": true, \"textposition\": \"auto\", \"type\": \"bar\", \"x\": [\"CheckingClassifier\"], \"xaxis\": \"x\", \"y\": [0.5], \"yaxis\": \"y\"}, {\"alignmentgroup\": \"True\", \"hovertemplate\": \"Model=%{x}<br>ROC AUC=%{y}<extra></extra>\", \"legendgroup\": \"QuadraticDiscriminantAnalysis\", \"marker\": {\"color\": \"#00A08B\"}, \"name\": \"QuadraticDiscriminantAnalysis\", \"offsetgroup\": \"QuadraticDiscriminantAnalysis\", \"orientation\": \"v\", \"showlegend\": true, \"textposition\": \"auto\", \"type\": \"bar\", \"x\": [\"QuadraticDiscriminantAnalysis\"], \"xaxis\": \"x\", \"y\": [0.4943181818181818], \"yaxis\": \"y\"}, {\"alignmentgroup\": \"True\", \"hovertemplate\": \"Model=%{x}<br>ROC AUC=%{y}<extra></extra>\", \"legendgroup\": \"LabelSpreading\", \"marker\": {\"color\": \"#511CFB\"}, \"name\": \"LabelSpreading\", \"offsetgroup\": \"LabelSpreading\", \"orientation\": \"v\", \"showlegend\": true, \"textposition\": \"auto\", \"type\": \"bar\", \"x\": [\"LabelSpreading\"], \"xaxis\": \"x\", \"y\": [0.48295454545454547], \"yaxis\": \"y\"}, {\"alignmentgroup\": \"True\", \"hovertemplate\": \"Model=%{x}<br>ROC AUC=%{y}<extra></extra>\", \"legendgroup\": \"LabelPropagation\", \"marker\": {\"color\": \"#EB663B\"}, \"name\": \"LabelPropagation\", \"offsetgroup\": \"LabelPropagation\", \"orientation\": \"v\", \"showlegend\": true, \"textposition\": \"auto\", \"type\": \"bar\", \"x\": [\"LabelPropagation\"], \"xaxis\": \"x\", \"y\": [0.48295454545454547], \"yaxis\": \"y\"}, {\"alignmentgroup\": \"True\", \"hovertemplate\": \"Model=%{x}<br>ROC AUC=%{y}<extra></extra>\", \"legendgroup\": \"DummyClassifier\", \"marker\": {\"color\": \"#750D86\"}, \"name\": \"DummyClassifier\", \"offsetgroup\": \"DummyClassifier\", \"orientation\": \"v\", \"showlegend\": true, \"textposition\": \"auto\", \"type\": \"bar\", \"x\": [\"DummyClassifier\"], \"xaxis\": \"x\", \"y\": [0.4431818181818182], \"yaxis\": \"y\"}, {\"alignmentgroup\": \"True\", \"hovertemplate\": \"Model=%{x}<br>ROC AUC=%{y}<extra></extra>\", \"legendgroup\": \"RidgeClassifier\", \"marker\": {\"color\": \"#B68100\"}, \"name\": \"RidgeClassifier\", \"offsetgroup\": \"RidgeClassifier\", \"orientation\": \"v\", \"showlegend\": true, \"textposition\": \"auto\", \"type\": \"bar\", \"x\": [\"RidgeClassifier\"], \"xaxis\": \"x\", \"y\": [0.43181818181818177], \"yaxis\": \"y\"}, {\"alignmentgroup\": \"True\", \"hovertemplate\": \"Model=%{x}<br>ROC AUC=%{y}<extra></extra>\", \"legendgroup\": \"RidgeClassifierCV\", \"marker\": {\"color\": \"#222A2A\"}, \"name\": \"RidgeClassifierCV\", \"offsetgroup\": \"RidgeClassifierCV\", \"orientation\": \"v\", \"showlegend\": true, \"textposition\": \"auto\", \"type\": \"bar\", \"x\": [\"RidgeClassifierCV\"], \"xaxis\": \"x\", \"y\": [0.43181818181818177], \"yaxis\": \"y\"}, {\"alignmentgroup\": \"True\", \"hovertemplate\": \"Model=%{x}<br>ROC AUC=%{y}<extra></extra>\", \"legendgroup\": \"GaussianNB\", \"marker\": {\"color\": \"#DA16FF\"}, \"name\": \"GaussianNB\", \"offsetgroup\": \"GaussianNB\", \"orientation\": \"v\", \"showlegend\": true, \"textposition\": \"auto\", \"type\": \"bar\", \"x\": [\"GaussianNB\"], \"xaxis\": \"x\", \"y\": [0.42613636363636365], \"yaxis\": \"y\"}, {\"alignmentgroup\": \"True\", \"hovertemplate\": \"Model=%{x}<br>ROC AUC=%{y}<extra></extra>\", \"legendgroup\": \"LogisticRegression\", \"marker\": {\"color\": \"#FB0D0D\"}, \"name\": \"LogisticRegression\", \"offsetgroup\": \"LogisticRegression\", \"orientation\": \"v\", \"showlegend\": true, \"textposition\": \"auto\", \"type\": \"bar\", \"x\": [\"LogisticRegression\"], \"xaxis\": \"x\", \"y\": [0.4034090909090909], \"yaxis\": \"y\"}, {\"alignmentgroup\": \"True\", \"hovertemplate\": \"Model=%{x}<br>ROC AUC=%{y}<extra></extra>\", \"legendgroup\": \"PassiveAggressiveClassifier\", \"marker\": {\"color\": \"#1CA71C\"}, \"name\": \"PassiveAggressiveClassifier\", \"offsetgroup\": \"PassiveAggressiveClassifier\", \"orientation\": \"v\", \"showlegend\": true, \"textposition\": \"auto\", \"type\": \"bar\", \"x\": [\"PassiveAggressiveClassifier\"], \"xaxis\": \"x\", \"y\": [0.39204545454545453], \"yaxis\": \"y\"}, {\"alignmentgroup\": \"True\", \"hovertemplate\": \"Model=%{x}<br>ROC AUC=%{y}<extra></extra>\", \"legendgroup\": \"SVC\", \"marker\": {\"color\": \"#E15F99\"}, \"name\": \"SVC\", \"offsetgroup\": \"SVC\", \"orientation\": \"v\", \"showlegend\": true, \"textposition\": \"auto\", \"type\": \"bar\", \"x\": [\"SVC\"], \"xaxis\": \"x\", \"y\": [0.38636363636363635], \"yaxis\": \"y\"}, {\"alignmentgroup\": \"True\", \"hovertemplate\": \"Model=%{x}<br>ROC AUC=%{y}<extra></extra>\", \"legendgroup\": \"LinearSVC\", \"marker\": {\"color\": \"#2E91E5\"}, \"name\": \"LinearSVC\", \"offsetgroup\": \"LinearSVC\", \"orientation\": \"v\", \"showlegend\": true, \"textposition\": \"auto\", \"type\": \"bar\", \"x\": [\"LinearSVC\"], \"xaxis\": \"x\", \"y\": [0.3806818181818182], \"yaxis\": \"y\"}, {\"alignmentgroup\": \"True\", \"hovertemplate\": \"Model=%{x}<br>ROC AUC=%{y}<extra></extra>\", \"legendgroup\": \"CalibratedClassifierCV\", \"marker\": {\"color\": \"#AF0038\"}, \"name\": \"CalibratedClassifierCV\", \"offsetgroup\": \"CalibratedClassifierCV\", \"orientation\": \"v\", \"showlegend\": true, \"textposition\": \"auto\", \"type\": \"bar\", \"x\": [\"CalibratedClassifierCV\"], \"xaxis\": \"x\", \"y\": [0.3693181818181818], \"yaxis\": \"y\"}, {\"alignmentgroup\": \"True\", \"hovertemplate\": \"Model=%{x}<br>ROC AUC=%{y}<extra></extra>\", \"legendgroup\": \"NearestCentroid\", \"marker\": {\"color\": \"#0D2A63\"}, \"name\": \"NearestCentroid\", \"offsetgroup\": \"NearestCentroid\", \"orientation\": \"v\", \"showlegend\": true, \"textposition\": \"auto\", \"type\": \"bar\", \"x\": [\"NearestCentroid\"], \"xaxis\": \"x\", \"y\": [0.3125], \"yaxis\": \"y\"}, {\"alignmentgroup\": \"True\", \"hovertemplate\": \"Model=%{x}<br>ROC AUC=%{y}<extra></extra>\", \"legendgroup\": \"BernoulliNB\", \"marker\": {\"color\": \"#6C4516\"}, \"name\": \"BernoulliNB\", \"offsetgroup\": \"BernoulliNB\", \"orientation\": \"v\", \"showlegend\": true, \"textposition\": \"auto\", \"type\": \"bar\", \"x\": [\"BernoulliNB\"], \"xaxis\": \"x\", \"y\": [0.2840909090909091], \"yaxis\": \"y\"}],                        {\"barmode\": \"relative\", \"legend\": {\"title\": {\"text\": \"Model\"}, \"tracegroupgap\": 0}, \"margin\": {\"t\": 60}, \"template\": {\"data\": {\"bar\": [{\"error_x\": {\"color\": \"#2a3f5f\"}, \"error_y\": {\"color\": \"#2a3f5f\"}, \"marker\": {\"line\": {\"color\": \"#E5ECF6\", \"width\": 0.5}}, \"type\": \"bar\"}], \"barpolar\": [{\"marker\": {\"line\": {\"color\": \"#E5ECF6\", \"width\": 0.5}}, \"type\": \"barpolar\"}], \"carpet\": [{\"aaxis\": {\"endlinecolor\": \"#2a3f5f\", \"gridcolor\": \"white\", \"linecolor\": \"white\", \"minorgridcolor\": \"white\", \"startlinecolor\": \"#2a3f5f\"}, \"baxis\": {\"endlinecolor\": \"#2a3f5f\", \"gridcolor\": \"white\", \"linecolor\": \"white\", \"minorgridcolor\": \"white\", \"startlinecolor\": \"#2a3f5f\"}, \"type\": \"carpet\"}], \"choropleth\": [{\"colorbar\": {\"outlinewidth\": 0, \"ticks\": \"\"}, \"type\": \"choropleth\"}], \"contour\": [{\"colorbar\": {\"outlinewidth\": 0, \"ticks\": \"\"}, \"colorscale\": [[0.0, \"#0d0887\"], [0.1111111111111111, \"#46039f\"], [0.2222222222222222, \"#7201a8\"], [0.3333333333333333, \"#9c179e\"], [0.4444444444444444, \"#bd3786\"], [0.5555555555555556, \"#d8576b\"], [0.6666666666666666, \"#ed7953\"], [0.7777777777777778, \"#fb9f3a\"], [0.8888888888888888, \"#fdca26\"], [1.0, \"#f0f921\"]], \"type\": \"contour\"}], \"contourcarpet\": [{\"colorbar\": {\"outlinewidth\": 0, \"ticks\": \"\"}, \"type\": \"contourcarpet\"}], \"heatmap\": [{\"colorbar\": {\"outlinewidth\": 0, \"ticks\": \"\"}, \"colorscale\": [[0.0, \"#0d0887\"], [0.1111111111111111, \"#46039f\"], [0.2222222222222222, \"#7201a8\"], [0.3333333333333333, \"#9c179e\"], [0.4444444444444444, \"#bd3786\"], [0.5555555555555556, \"#d8576b\"], [0.6666666666666666, \"#ed7953\"], [0.7777777777777778, \"#fb9f3a\"], [0.8888888888888888, \"#fdca26\"], [1.0, \"#f0f921\"]], \"type\": \"heatmap\"}], \"heatmapgl\": [{\"colorbar\": {\"outlinewidth\": 0, \"ticks\": \"\"}, \"colorscale\": [[0.0, \"#0d0887\"], [0.1111111111111111, \"#46039f\"], [0.2222222222222222, \"#7201a8\"], [0.3333333333333333, \"#9c179e\"], [0.4444444444444444, \"#bd3786\"], [0.5555555555555556, \"#d8576b\"], [0.6666666666666666, \"#ed7953\"], [0.7777777777777778, \"#fb9f3a\"], [0.8888888888888888, \"#fdca26\"], [1.0, \"#f0f921\"]], \"type\": \"heatmapgl\"}], \"histogram\": [{\"marker\": {\"colorbar\": {\"outlinewidth\": 0, \"ticks\": \"\"}}, \"type\": \"histogram\"}], \"histogram2d\": [{\"colorbar\": {\"outlinewidth\": 0, \"ticks\": \"\"}, \"colorscale\": [[0.0, \"#0d0887\"], [0.1111111111111111, \"#46039f\"], [0.2222222222222222, \"#7201a8\"], [0.3333333333333333, \"#9c179e\"], [0.4444444444444444, \"#bd3786\"], [0.5555555555555556, \"#d8576b\"], [0.6666666666666666, \"#ed7953\"], [0.7777777777777778, \"#fb9f3a\"], [0.8888888888888888, \"#fdca26\"], [1.0, \"#f0f921\"]], \"type\": \"histogram2d\"}], \"histogram2dcontour\": [{\"colorbar\": {\"outlinewidth\": 0, \"ticks\": \"\"}, \"colorscale\": [[0.0, \"#0d0887\"], [0.1111111111111111, \"#46039f\"], [0.2222222222222222, \"#7201a8\"], [0.3333333333333333, \"#9c179e\"], [0.4444444444444444, \"#bd3786\"], [0.5555555555555556, \"#d8576b\"], [0.6666666666666666, \"#ed7953\"], [0.7777777777777778, \"#fb9f3a\"], [0.8888888888888888, \"#fdca26\"], [1.0, \"#f0f921\"]], \"type\": \"histogram2dcontour\"}], \"mesh3d\": [{\"colorbar\": {\"outlinewidth\": 0, \"ticks\": \"\"}, \"type\": \"mesh3d\"}], \"parcoords\": [{\"line\": {\"colorbar\": {\"outlinewidth\": 0, \"ticks\": \"\"}}, \"type\": \"parcoords\"}], \"pie\": [{\"automargin\": true, \"type\": \"pie\"}], \"scatter\": [{\"marker\": {\"colorbar\": {\"outlinewidth\": 0, \"ticks\": \"\"}}, \"type\": \"scatter\"}], \"scatter3d\": [{\"line\": {\"colorbar\": {\"outlinewidth\": 0, \"ticks\": \"\"}}, \"marker\": {\"colorbar\": {\"outlinewidth\": 0, \"ticks\": \"\"}}, \"type\": \"scatter3d\"}], \"scattercarpet\": [{\"marker\": {\"colorbar\": {\"outlinewidth\": 0, \"ticks\": \"\"}}, \"type\": \"scattercarpet\"}], \"scattergeo\": [{\"marker\": {\"colorbar\": {\"outlinewidth\": 0, \"ticks\": \"\"}}, \"type\": \"scattergeo\"}], \"scattergl\": [{\"marker\": {\"colorbar\": {\"outlinewidth\": 0, \"ticks\": \"\"}}, \"type\": \"scattergl\"}], \"scattermapbox\": [{\"marker\": {\"colorbar\": {\"outlinewidth\": 0, \"ticks\": \"\"}}, \"type\": \"scattermapbox\"}], \"scatterpolar\": [{\"marker\": {\"colorbar\": {\"outlinewidth\": 0, \"ticks\": \"\"}}, \"type\": \"scatterpolar\"}], \"scatterpolargl\": [{\"marker\": {\"colorbar\": {\"outlinewidth\": 0, \"ticks\": \"\"}}, \"type\": \"scatterpolargl\"}], \"scatterternary\": [{\"marker\": {\"colorbar\": {\"outlinewidth\": 0, \"ticks\": \"\"}}, \"type\": \"scatterternary\"}], \"surface\": [{\"colorbar\": {\"outlinewidth\": 0, \"ticks\": \"\"}, \"colorscale\": [[0.0, \"#0d0887\"], [0.1111111111111111, \"#46039f\"], [0.2222222222222222, \"#7201a8\"], [0.3333333333333333, \"#9c179e\"], [0.4444444444444444, \"#bd3786\"], [0.5555555555555556, \"#d8576b\"], [0.6666666666666666, \"#ed7953\"], [0.7777777777777778, \"#fb9f3a\"], [0.8888888888888888, \"#fdca26\"], [1.0, \"#f0f921\"]], \"type\": \"surface\"}], \"table\": [{\"cells\": {\"fill\": {\"color\": \"#EBF0F8\"}, \"line\": {\"color\": \"white\"}}, \"header\": {\"fill\": {\"color\": \"#C8D4E3\"}, \"line\": {\"color\": \"white\"}}, \"type\": \"table\"}]}, \"layout\": {\"annotationdefaults\": {\"arrowcolor\": \"#2a3f5f\", \"arrowhead\": 0, \"arrowwidth\": 1}, \"autotypenumbers\": \"strict\", \"coloraxis\": {\"colorbar\": {\"outlinewidth\": 0, \"ticks\": \"\"}}, \"colorscale\": {\"diverging\": [[0, \"#8e0152\"], [0.1, \"#c51b7d\"], [0.2, \"#de77ae\"], [0.3, \"#f1b6da\"], [0.4, \"#fde0ef\"], [0.5, \"#f7f7f7\"], [0.6, \"#e6f5d0\"], [0.7, \"#b8e186\"], [0.8, \"#7fbc41\"], [0.9, \"#4d9221\"], [1, \"#276419\"]], \"sequential\": [[0.0, \"#0d0887\"], [0.1111111111111111, \"#46039f\"], [0.2222222222222222, \"#7201a8\"], [0.3333333333333333, \"#9c179e\"], [0.4444444444444444, \"#bd3786\"], [0.5555555555555556, \"#d8576b\"], [0.6666666666666666, \"#ed7953\"], [0.7777777777777778, \"#fb9f3a\"], [0.8888888888888888, \"#fdca26\"], [1.0, \"#f0f921\"]], \"sequentialminus\": [[0.0, \"#0d0887\"], [0.1111111111111111, \"#46039f\"], [0.2222222222222222, \"#7201a8\"], [0.3333333333333333, \"#9c179e\"], [0.4444444444444444, \"#bd3786\"], [0.5555555555555556, \"#d8576b\"], [0.6666666666666666, \"#ed7953\"], [0.7777777777777778, \"#fb9f3a\"], [0.8888888888888888, \"#fdca26\"], [1.0, \"#f0f921\"]]}, \"colorway\": [\"#636efa\", \"#EF553B\", \"#00cc96\", \"#ab63fa\", \"#FFA15A\", \"#19d3f3\", \"#FF6692\", \"#B6E880\", \"#FF97FF\", \"#FECB52\"], \"font\": {\"color\": \"#2a3f5f\"}, \"geo\": {\"bgcolor\": \"white\", \"lakecolor\": \"white\", \"landcolor\": \"#E5ECF6\", \"showlakes\": true, \"showland\": true, \"subunitcolor\": \"white\"}, \"hoverlabel\": {\"align\": \"left\"}, \"hovermode\": \"closest\", \"mapbox\": {\"style\": \"light\"}, \"paper_bgcolor\": \"white\", \"plot_bgcolor\": \"#E5ECF6\", \"polar\": {\"angularaxis\": {\"gridcolor\": \"white\", \"linecolor\": \"white\", \"ticks\": \"\"}, \"bgcolor\": \"#E5ECF6\", \"radialaxis\": {\"gridcolor\": \"white\", \"linecolor\": \"white\", \"ticks\": \"\"}}, \"scene\": {\"xaxis\": {\"backgroundcolor\": \"#E5ECF6\", \"gridcolor\": \"white\", \"gridwidth\": 2, \"linecolor\": \"white\", \"showbackground\": true, \"ticks\": \"\", \"zerolinecolor\": \"white\"}, \"yaxis\": {\"backgroundcolor\": \"#E5ECF6\", \"gridcolor\": \"white\", \"gridwidth\": 2, \"linecolor\": \"white\", \"showbackground\": true, \"ticks\": \"\", \"zerolinecolor\": \"white\"}, \"zaxis\": {\"backgroundcolor\": \"#E5ECF6\", \"gridcolor\": \"white\", \"gridwidth\": 2, \"linecolor\": \"white\", \"showbackground\": true, \"ticks\": \"\", \"zerolinecolor\": \"white\"}}, \"shapedefaults\": {\"line\": {\"color\": \"#2a3f5f\"}}, \"ternary\": {\"aaxis\": {\"gridcolor\": \"white\", \"linecolor\": \"white\", \"ticks\": \"\"}, \"baxis\": {\"gridcolor\": \"white\", \"linecolor\": \"white\", \"ticks\": \"\"}, \"bgcolor\": \"#E5ECF6\", \"caxis\": {\"gridcolor\": \"white\", \"linecolor\": \"white\", \"ticks\": \"\"}}, \"title\": {\"x\": 0.05}, \"xaxis\": {\"automargin\": true, \"gridcolor\": \"white\", \"linecolor\": \"white\", \"ticks\": \"\", \"title\": {\"standoff\": 15}, \"zerolinecolor\": \"white\", \"zerolinewidth\": 2}, \"yaxis\": {\"automargin\": true, \"gridcolor\": \"white\", \"linecolor\": \"white\", \"ticks\": \"\", \"title\": {\"standoff\": 15}, \"zerolinecolor\": \"white\", \"zerolinewidth\": 2}}}, \"xaxis\": {\"anchor\": \"y\", \"categoryarray\": [\"LGBMClassifier\", \"LinearDiscriminantAnalysis\", \"Perceptron\", \"AdaBoostClassifier\", \"SGDClassifier\", \"ExtraTreesClassifier\", \"RandomForestClassifier\", \"DecisionTreeClassifier\", \"XGBClassifier\", \"BaggingClassifier\", \"ExtraTreeClassifier\", \"KNeighborsClassifier\", \"CheckingClassifier\", \"QuadraticDiscriminantAnalysis\", \"LabelSpreading\", \"LabelPropagation\", \"DummyClassifier\", \"RidgeClassifier\", \"RidgeClassifierCV\", \"GaussianNB\", \"LogisticRegression\", \"PassiveAggressiveClassifier\", \"SVC\", \"LinearSVC\", \"CalibratedClassifierCV\", \"NearestCentroid\", \"BernoulliNB\"], \"categoryorder\": \"array\", \"domain\": [0.0, 1.0], \"title\": {\"text\": \"Model\"}}, \"yaxis\": {\"anchor\": \"x\", \"domain\": [0.0, 1.0], \"title\": {\"text\": \"ROC AUC\"}}},                        {\"responsive\": true}                    ).then(function(){\n                            \nvar gd = document.getElementById('c821d07d-a6d3-49e3-a959-844c550a1d3d');\nvar x = new MutationObserver(function (mutations, observer) {{\n        var display = window.getComputedStyle(gd).display;\n        if (!display || display === 'none') {{\n            console.log([gd, 'removed!']);\n            Plotly.purge(gd);\n            observer.disconnect();\n        }}\n}});\n\n// Listen for the removal of the full notebook cells\nvar notebookContainer = gd.closest('#notebook-container');\nif (notebookContainer) {{\n    x.observe(notebookContainer, {childList: true});\n}}\n\n// Listen for the clearing of the current output cell\nvar outputEl = gd.closest('.output');\nif (outputEl) {{\n    x.observe(outputEl, {childList: true});\n}}\n\n                        })                };                });            </script>        </div>"
     },
     "metadata": {}
    }
   ],
   "source": [
    "fig = px.bar(models_smoteenn.reset_index(), x='Model', y='ROC AUC', color='Model', color_discrete_sequence=px.colors.qualitative.Dark24_r)\n",
    "fig.show()"
   ]
  },
  {
   "source": [
    "Based on the performance of different models with default hyperparameters, we decided to perform hyperparameter optimization of AdaBoostClassifier, DecisionTreeClassifier, LGBMClassifier, and XGBClassifier.\n",
    "\n",
    "Hyperparametr to optimize:\n",
    "\n",
    "AdaBoostClassifier (GridSearchCV): learning_rate (1), n_estimators (50), base_estimator (DecisionTreeClassifier(max_depth=1))\n",
    "\n",
    "DecisionTreeClassifier (GridSearchCV): max_depth (None), min_samples_split (2), max_features (None) \n",
    "\n",
    "XGBClassifier: n_estimators, max_depth, reg_alpha, reg_lambda, eta, gamma, subsample, colsample_bytree\n",
    "\n",
    "<!---\n",
    "LightGBM: num_boost_round, num_leaves, max_depth, lambda_l2, lambda_l1, min_child_samples, min_data_in_leaf\n",
    "--->"
   ],
   "cell_type": "markdown",
   "metadata": {}
  },
  {
   "cell_type": "code",
   "execution_count": 13,
   "metadata": {},
   "outputs": [],
   "source": [
    "X_train=X_smoteenn.toarray()\n",
    "y_train=y_smoteenn\n",
    "X_test=X_test.toarray()\n",
    "y_test=y_test"
   ]
  },
  {
   "cell_type": "code",
   "execution_count": 14,
   "metadata": {},
   "outputs": [
    {
     "output_type": "stream",
     "name": "stdout",
     "text": [
      "Accuracy for optimized ada: 0.6739130434782609\nF1 score for optimized ada: 0.16666666666666666\nROC AUC for optimized ada: 0.7102272727272727\n"
     ]
    }
   ],
   "source": [
    "# AdaBoostClassifier\n",
    "\n",
    "scoring = {'AUC': 'roc_auc', 'Accuracy': make_scorer(accuracy_score), 'Precision': make_scorer(precision_score), 'Recall': make_scorer(recall_score)}\n",
    "\n",
    "param_grid = {\n",
    "    'learning_rate': np.arange(0, 1.1, 0.2),\n",
    "    'n_estimators': np.arange(0, 205, 50),\n",
    "    #'base_estimator': [DecisionTreeClassifier(max_depth=1), DecisionTreeClassifier(max_depth=2)]\n",
    "}\n",
    "\n",
    "ada = AdaBoostClassifier(random_state=42)\n",
    "\n",
    "gs_ada = GridSearchCV(estimator=ada, \n",
    "                      param_grid=param_grid,\n",
    "                      scoring=scoring,\n",
    "                      refit='AUC',\n",
    "                      return_train_score=True,\n",
    "                      cv=3)\n",
    "gs_ada.fit(X_train, y_train)\n",
    "y_pred = gs_ada.predict(X_test)\n",
    "\n",
    "print('Accuracy for optimized ada: {}'.format(accuracy_score(y_test, y_pred)))\n",
    "print('F1 score for optimized ada: {}'.format(f1_score(y_test, y_pred)))\n",
    "print('ROC AUC for optimized ada: {}'.format(roc_auc_score(y_test, y_pred)))\n"
   ]
  },
  {
   "cell_type": "code",
   "execution_count": 15,
   "metadata": {},
   "outputs": [
    {
     "output_type": "execute_result",
     "data": {
      "text/plain": [
       "{'learning_rate': 0.2, 'n_estimators': 150}"
      ]
     },
     "metadata": {},
     "execution_count": 15
    }
   ],
   "source": [
    "ada_results = gs_ada.cv_results_\n",
    "gs_ada.best_params_"
   ]
  },
  {
   "cell_type": "code",
   "execution_count": 16,
   "metadata": {},
   "outputs": [],
   "source": [
    "gs_ada_df = pd.DataFrame()\n",
    "for k in param_grid:\n",
    "    gs_ada_df[k] = ada_results['param_' + k]\n",
    "\n",
    "for k in ['Accuracy', 'Precision', 'AUC', 'Recall']:\n",
    "    gs_ada_df['mean_train_' + k] = ada_results['mean_train_' + k]\n",
    "    gs_ada_df['std_train_' + k] = ada_results['std_train_' + k]\n",
    "    gs_ada_df['mean_test_' + k] = ada_results['mean_test_' + k]\n",
    "    gs_ada_df['std_test_' + k] = ada_results['std_test_' + k]\n"
   ]
  },
  {
   "cell_type": "code",
   "execution_count": 17,
   "metadata": {},
   "outputs": [],
   "source": [
    "#gs_ada_df['max_depth'] = gs_ada_df['base_estimator'].apply(lambda x: x.max_depth)"
   ]
  },
  {
   "cell_type": "code",
   "execution_count": 18,
   "metadata": {},
   "outputs": [
    {
     "output_type": "execute_result",
     "data": {
      "text/plain": [
       "   learning_rate n_estimators  mean_train_Accuracy  std_train_Accuracy  \\\n",
       "20           0.8            0                  NaN                 NaN   \n",
       "21           0.8           50                 1.00                0.00   \n",
       "22           0.8          100                 1.00                0.00   \n",
       "23           0.8          150                 1.00                0.00   \n",
       "24           0.8          200                 1.00                0.00   \n",
       "\n",
       "    mean_test_Accuracy  std_test_Accuracy  mean_train_Precision  \\\n",
       "20                 NaN                NaN                   NaN   \n",
       "21                0.97               0.02                  1.00   \n",
       "22                0.97               0.02                  1.00   \n",
       "23                0.97               0.01                  1.00   \n",
       "24                0.98               0.02                  1.00   \n",
       "\n",
       "    std_train_Precision  mean_test_Precision  std_test_Precision  \\\n",
       "20                  NaN                  NaN                 NaN   \n",
       "21                 0.00                 0.97                0.03   \n",
       "22                 0.00                 0.98                0.02   \n",
       "23                 0.00                 0.97                0.01   \n",
       "24                 0.00                 0.98                0.01   \n",
       "\n",
       "    mean_train_AUC  std_train_AUC  mean_test_AUC  std_test_AUC  \\\n",
       "20             NaN            NaN            NaN           NaN   \n",
       "21            1.00           0.00           0.99          0.01   \n",
       "22            1.00           0.00           0.99          0.01   \n",
       "23            1.00           0.00           0.99          0.01   \n",
       "24            1.00           0.00           1.00          0.01   \n",
       "\n",
       "    mean_train_Recall  std_train_Recall  mean_test_Recall  std_test_Recall  \n",
       "20                NaN               NaN               NaN              NaN  \n",
       "21               1.00              0.00              0.99             0.01  \n",
       "22               1.00              0.00              0.99             0.01  \n",
       "23               1.00              0.00              0.99             0.01  \n",
       "24               1.00              0.00              0.99             0.01  "
      ],
      "text/html": "<div>\n<style scoped>\n    .dataframe tbody tr th:only-of-type {\n        vertical-align: middle;\n    }\n\n    .dataframe tbody tr th {\n        vertical-align: top;\n    }\n\n    .dataframe thead th {\n        text-align: right;\n    }\n</style>\n<table border=\"1\" class=\"dataframe\">\n  <thead>\n    <tr style=\"text-align: right;\">\n      <th></th>\n      <th>learning_rate</th>\n      <th>n_estimators</th>\n      <th>mean_train_Accuracy</th>\n      <th>std_train_Accuracy</th>\n      <th>mean_test_Accuracy</th>\n      <th>std_test_Accuracy</th>\n      <th>mean_train_Precision</th>\n      <th>std_train_Precision</th>\n      <th>mean_test_Precision</th>\n      <th>std_test_Precision</th>\n      <th>mean_train_AUC</th>\n      <th>std_train_AUC</th>\n      <th>mean_test_AUC</th>\n      <th>std_test_AUC</th>\n      <th>mean_train_Recall</th>\n      <th>std_train_Recall</th>\n      <th>mean_test_Recall</th>\n      <th>std_test_Recall</th>\n    </tr>\n  </thead>\n  <tbody>\n    <tr>\n      <th>20</th>\n      <td>0.8</td>\n      <td>0</td>\n      <td>NaN</td>\n      <td>NaN</td>\n      <td>NaN</td>\n      <td>NaN</td>\n      <td>NaN</td>\n      <td>NaN</td>\n      <td>NaN</td>\n      <td>NaN</td>\n      <td>NaN</td>\n      <td>NaN</td>\n      <td>NaN</td>\n      <td>NaN</td>\n      <td>NaN</td>\n      <td>NaN</td>\n      <td>NaN</td>\n      <td>NaN</td>\n    </tr>\n    <tr>\n      <th>21</th>\n      <td>0.8</td>\n      <td>50</td>\n      <td>1.00</td>\n      <td>0.00</td>\n      <td>0.97</td>\n      <td>0.02</td>\n      <td>1.00</td>\n      <td>0.00</td>\n      <td>0.97</td>\n      <td>0.03</td>\n      <td>1.00</td>\n      <td>0.00</td>\n      <td>0.99</td>\n      <td>0.01</td>\n      <td>1.00</td>\n      <td>0.00</td>\n      <td>0.99</td>\n      <td>0.01</td>\n    </tr>\n    <tr>\n      <th>22</th>\n      <td>0.8</td>\n      <td>100</td>\n      <td>1.00</td>\n      <td>0.00</td>\n      <td>0.97</td>\n      <td>0.02</td>\n      <td>1.00</td>\n      <td>0.00</td>\n      <td>0.98</td>\n      <td>0.02</td>\n      <td>1.00</td>\n      <td>0.00</td>\n      <td>0.99</td>\n      <td>0.01</td>\n      <td>1.00</td>\n      <td>0.00</td>\n      <td>0.99</td>\n      <td>0.01</td>\n    </tr>\n    <tr>\n      <th>23</th>\n      <td>0.8</td>\n      <td>150</td>\n      <td>1.00</td>\n      <td>0.00</td>\n      <td>0.97</td>\n      <td>0.01</td>\n      <td>1.00</td>\n      <td>0.00</td>\n      <td>0.97</td>\n      <td>0.01</td>\n      <td>1.00</td>\n      <td>0.00</td>\n      <td>0.99</td>\n      <td>0.01</td>\n      <td>1.00</td>\n      <td>0.00</td>\n      <td>0.99</td>\n      <td>0.01</td>\n    </tr>\n    <tr>\n      <th>24</th>\n      <td>0.8</td>\n      <td>200</td>\n      <td>1.00</td>\n      <td>0.00</td>\n      <td>0.98</td>\n      <td>0.02</td>\n      <td>1.00</td>\n      <td>0.00</td>\n      <td>0.98</td>\n      <td>0.01</td>\n      <td>1.00</td>\n      <td>0.00</td>\n      <td>1.00</td>\n      <td>0.01</td>\n      <td>1.00</td>\n      <td>0.00</td>\n      <td>0.99</td>\n      <td>0.01</td>\n    </tr>\n  </tbody>\n</table>\n</div>"
     },
     "metadata": {},
     "execution_count": 18
    }
   ],
   "source": [
    "gs_ada_df = gs_ada_df[gs_ada_df['learning_rate'] == 0.8]\n",
    "#gs_ada_df = gs_ada_df[gs_ada_df['max_depth'] == 2]\n",
    "gs_ada_df"
   ]
  },
  {
   "cell_type": "code",
   "execution_count": 19,
   "metadata": {},
   "outputs": [
    {
     "output_type": "display_data",
     "data": {
      "application/vnd.plotly.v1+json": {
       "config": {
        "plotlyServerURL": "https://plot.ly"
       },
       "data": [
        {
         "line": {
          "color": "rgb(31, 119, 180)"
         },
         "mode": "lines",
         "name": "test_auc",
         "type": "scatter",
         "x": [
          0,
          50,
          100,
          150,
          200
         ],
         "y": [
          null,
          0.9946633825944171,
          0.9919266557197591,
          0.9919266557197591,
          0.9954844006568145
         ]
        },
        {
         "line": {
          "width": 0
         },
         "marker": {
          "color": "#444"
         },
         "mode": "lines",
         "showlegend": false,
         "type": "scatter",
         "x": [
          0,
          50,
          100,
          150,
          200
         ],
         "y": [
          null,
          1.0016380103652844,
          0.9977546632290768,
          0.9981643521182493,
          1.0018704224901906
         ]
        },
        {
         "fill": "tonexty",
         "fillcolor": "rgba(68, 68, 68, 0.3)",
         "line": {
          "width": 0
         },
         "marker": {
          "color": "#444"
         },
         "mode": "lines",
         "showlegend": false,
         "type": "scatter",
         "x": [
          0,
          50,
          100,
          150,
          200
         ],
         "y": [
          null,
          0.9876887548235497,
          0.9860986482104415,
          0.985688959321269,
          0.9890983788234385
         ]
        }
       ],
       "layout": {
        "hovermode": "x",
        "template": {
         "data": {
          "bar": [
           {
            "error_x": {
             "color": "#2a3f5f"
            },
            "error_y": {
             "color": "#2a3f5f"
            },
            "marker": {
             "line": {
              "color": "#E5ECF6",
              "width": 0.5
             }
            },
            "type": "bar"
           }
          ],
          "barpolar": [
           {
            "marker": {
             "line": {
              "color": "#E5ECF6",
              "width": 0.5
             }
            },
            "type": "barpolar"
           }
          ],
          "carpet": [
           {
            "aaxis": {
             "endlinecolor": "#2a3f5f",
             "gridcolor": "white",
             "linecolor": "white",
             "minorgridcolor": "white",
             "startlinecolor": "#2a3f5f"
            },
            "baxis": {
             "endlinecolor": "#2a3f5f",
             "gridcolor": "white",
             "linecolor": "white",
             "minorgridcolor": "white",
             "startlinecolor": "#2a3f5f"
            },
            "type": "carpet"
           }
          ],
          "choropleth": [
           {
            "colorbar": {
             "outlinewidth": 0,
             "ticks": ""
            },
            "type": "choropleth"
           }
          ],
          "contour": [
           {
            "colorbar": {
             "outlinewidth": 0,
             "ticks": ""
            },
            "colorscale": [
             [
              0,
              "#0d0887"
             ],
             [
              0.1111111111111111,
              "#46039f"
             ],
             [
              0.2222222222222222,
              "#7201a8"
             ],
             [
              0.3333333333333333,
              "#9c179e"
             ],
             [
              0.4444444444444444,
              "#bd3786"
             ],
             [
              0.5555555555555556,
              "#d8576b"
             ],
             [
              0.6666666666666666,
              "#ed7953"
             ],
             [
              0.7777777777777778,
              "#fb9f3a"
             ],
             [
              0.8888888888888888,
              "#fdca26"
             ],
             [
              1,
              "#f0f921"
             ]
            ],
            "type": "contour"
           }
          ],
          "contourcarpet": [
           {
            "colorbar": {
             "outlinewidth": 0,
             "ticks": ""
            },
            "type": "contourcarpet"
           }
          ],
          "heatmap": [
           {
            "colorbar": {
             "outlinewidth": 0,
             "ticks": ""
            },
            "colorscale": [
             [
              0,
              "#0d0887"
             ],
             [
              0.1111111111111111,
              "#46039f"
             ],
             [
              0.2222222222222222,
              "#7201a8"
             ],
             [
              0.3333333333333333,
              "#9c179e"
             ],
             [
              0.4444444444444444,
              "#bd3786"
             ],
             [
              0.5555555555555556,
              "#d8576b"
             ],
             [
              0.6666666666666666,
              "#ed7953"
             ],
             [
              0.7777777777777778,
              "#fb9f3a"
             ],
             [
              0.8888888888888888,
              "#fdca26"
             ],
             [
              1,
              "#f0f921"
             ]
            ],
            "type": "heatmap"
           }
          ],
          "heatmapgl": [
           {
            "colorbar": {
             "outlinewidth": 0,
             "ticks": ""
            },
            "colorscale": [
             [
              0,
              "#0d0887"
             ],
             [
              0.1111111111111111,
              "#46039f"
             ],
             [
              0.2222222222222222,
              "#7201a8"
             ],
             [
              0.3333333333333333,
              "#9c179e"
             ],
             [
              0.4444444444444444,
              "#bd3786"
             ],
             [
              0.5555555555555556,
              "#d8576b"
             ],
             [
              0.6666666666666666,
              "#ed7953"
             ],
             [
              0.7777777777777778,
              "#fb9f3a"
             ],
             [
              0.8888888888888888,
              "#fdca26"
             ],
             [
              1,
              "#f0f921"
             ]
            ],
            "type": "heatmapgl"
           }
          ],
          "histogram": [
           {
            "marker": {
             "colorbar": {
              "outlinewidth": 0,
              "ticks": ""
             }
            },
            "type": "histogram"
           }
          ],
          "histogram2d": [
           {
            "colorbar": {
             "outlinewidth": 0,
             "ticks": ""
            },
            "colorscale": [
             [
              0,
              "#0d0887"
             ],
             [
              0.1111111111111111,
              "#46039f"
             ],
             [
              0.2222222222222222,
              "#7201a8"
             ],
             [
              0.3333333333333333,
              "#9c179e"
             ],
             [
              0.4444444444444444,
              "#bd3786"
             ],
             [
              0.5555555555555556,
              "#d8576b"
             ],
             [
              0.6666666666666666,
              "#ed7953"
             ],
             [
              0.7777777777777778,
              "#fb9f3a"
             ],
             [
              0.8888888888888888,
              "#fdca26"
             ],
             [
              1,
              "#f0f921"
             ]
            ],
            "type": "histogram2d"
           }
          ],
          "histogram2dcontour": [
           {
            "colorbar": {
             "outlinewidth": 0,
             "ticks": ""
            },
            "colorscale": [
             [
              0,
              "#0d0887"
             ],
             [
              0.1111111111111111,
              "#46039f"
             ],
             [
              0.2222222222222222,
              "#7201a8"
             ],
             [
              0.3333333333333333,
              "#9c179e"
             ],
             [
              0.4444444444444444,
              "#bd3786"
             ],
             [
              0.5555555555555556,
              "#d8576b"
             ],
             [
              0.6666666666666666,
              "#ed7953"
             ],
             [
              0.7777777777777778,
              "#fb9f3a"
             ],
             [
              0.8888888888888888,
              "#fdca26"
             ],
             [
              1,
              "#f0f921"
             ]
            ],
            "type": "histogram2dcontour"
           }
          ],
          "mesh3d": [
           {
            "colorbar": {
             "outlinewidth": 0,
             "ticks": ""
            },
            "type": "mesh3d"
           }
          ],
          "parcoords": [
           {
            "line": {
             "colorbar": {
              "outlinewidth": 0,
              "ticks": ""
             }
            },
            "type": "parcoords"
           }
          ],
          "pie": [
           {
            "automargin": true,
            "type": "pie"
           }
          ],
          "scatter": [
           {
            "marker": {
             "colorbar": {
              "outlinewidth": 0,
              "ticks": ""
             }
            },
            "type": "scatter"
           }
          ],
          "scatter3d": [
           {
            "line": {
             "colorbar": {
              "outlinewidth": 0,
              "ticks": ""
             }
            },
            "marker": {
             "colorbar": {
              "outlinewidth": 0,
              "ticks": ""
             }
            },
            "type": "scatter3d"
           }
          ],
          "scattercarpet": [
           {
            "marker": {
             "colorbar": {
              "outlinewidth": 0,
              "ticks": ""
             }
            },
            "type": "scattercarpet"
           }
          ],
          "scattergeo": [
           {
            "marker": {
             "colorbar": {
              "outlinewidth": 0,
              "ticks": ""
             }
            },
            "type": "scattergeo"
           }
          ],
          "scattergl": [
           {
            "marker": {
             "colorbar": {
              "outlinewidth": 0,
              "ticks": ""
             }
            },
            "type": "scattergl"
           }
          ],
          "scattermapbox": [
           {
            "marker": {
             "colorbar": {
              "outlinewidth": 0,
              "ticks": ""
             }
            },
            "type": "scattermapbox"
           }
          ],
          "scatterpolar": [
           {
            "marker": {
             "colorbar": {
              "outlinewidth": 0,
              "ticks": ""
             }
            },
            "type": "scatterpolar"
           }
          ],
          "scatterpolargl": [
           {
            "marker": {
             "colorbar": {
              "outlinewidth": 0,
              "ticks": ""
             }
            },
            "type": "scatterpolargl"
           }
          ],
          "scatterternary": [
           {
            "marker": {
             "colorbar": {
              "outlinewidth": 0,
              "ticks": ""
             }
            },
            "type": "scatterternary"
           }
          ],
          "surface": [
           {
            "colorbar": {
             "outlinewidth": 0,
             "ticks": ""
            },
            "colorscale": [
             [
              0,
              "#0d0887"
             ],
             [
              0.1111111111111111,
              "#46039f"
             ],
             [
              0.2222222222222222,
              "#7201a8"
             ],
             [
              0.3333333333333333,
              "#9c179e"
             ],
             [
              0.4444444444444444,
              "#bd3786"
             ],
             [
              0.5555555555555556,
              "#d8576b"
             ],
             [
              0.6666666666666666,
              "#ed7953"
             ],
             [
              0.7777777777777778,
              "#fb9f3a"
             ],
             [
              0.8888888888888888,
              "#fdca26"
             ],
             [
              1,
              "#f0f921"
             ]
            ],
            "type": "surface"
           }
          ],
          "table": [
           {
            "cells": {
             "fill": {
              "color": "#EBF0F8"
             },
             "line": {
              "color": "white"
             }
            },
            "header": {
             "fill": {
              "color": "#C8D4E3"
             },
             "line": {
              "color": "white"
             }
            },
            "type": "table"
           }
          ]
         },
         "layout": {
          "annotationdefaults": {
           "arrowcolor": "#2a3f5f",
           "arrowhead": 0,
           "arrowwidth": 1
          },
          "autotypenumbers": "strict",
          "coloraxis": {
           "colorbar": {
            "outlinewidth": 0,
            "ticks": ""
           }
          },
          "colorscale": {
           "diverging": [
            [
             0,
             "#8e0152"
            ],
            [
             0.1,
             "#c51b7d"
            ],
            [
             0.2,
             "#de77ae"
            ],
            [
             0.3,
             "#f1b6da"
            ],
            [
             0.4,
             "#fde0ef"
            ],
            [
             0.5,
             "#f7f7f7"
            ],
            [
             0.6,
             "#e6f5d0"
            ],
            [
             0.7,
             "#b8e186"
            ],
            [
             0.8,
             "#7fbc41"
            ],
            [
             0.9,
             "#4d9221"
            ],
            [
             1,
             "#276419"
            ]
           ],
           "sequential": [
            [
             0,
             "#0d0887"
            ],
            [
             0.1111111111111111,
             "#46039f"
            ],
            [
             0.2222222222222222,
             "#7201a8"
            ],
            [
             0.3333333333333333,
             "#9c179e"
            ],
            [
             0.4444444444444444,
             "#bd3786"
            ],
            [
             0.5555555555555556,
             "#d8576b"
            ],
            [
             0.6666666666666666,
             "#ed7953"
            ],
            [
             0.7777777777777778,
             "#fb9f3a"
            ],
            [
             0.8888888888888888,
             "#fdca26"
            ],
            [
             1,
             "#f0f921"
            ]
           ],
           "sequentialminus": [
            [
             0,
             "#0d0887"
            ],
            [
             0.1111111111111111,
             "#46039f"
            ],
            [
             0.2222222222222222,
             "#7201a8"
            ],
            [
             0.3333333333333333,
             "#9c179e"
            ],
            [
             0.4444444444444444,
             "#bd3786"
            ],
            [
             0.5555555555555556,
             "#d8576b"
            ],
            [
             0.6666666666666666,
             "#ed7953"
            ],
            [
             0.7777777777777778,
             "#fb9f3a"
            ],
            [
             0.8888888888888888,
             "#fdca26"
            ],
            [
             1,
             "#f0f921"
            ]
           ]
          },
          "colorway": [
           "#636efa",
           "#EF553B",
           "#00cc96",
           "#ab63fa",
           "#FFA15A",
           "#19d3f3",
           "#FF6692",
           "#B6E880",
           "#FF97FF",
           "#FECB52"
          ],
          "font": {
           "color": "#2a3f5f"
          },
          "geo": {
           "bgcolor": "white",
           "lakecolor": "white",
           "landcolor": "#E5ECF6",
           "showlakes": true,
           "showland": true,
           "subunitcolor": "white"
          },
          "hoverlabel": {
           "align": "left"
          },
          "hovermode": "closest",
          "mapbox": {
           "style": "light"
          },
          "paper_bgcolor": "white",
          "plot_bgcolor": "#E5ECF6",
          "polar": {
           "angularaxis": {
            "gridcolor": "white",
            "linecolor": "white",
            "ticks": ""
           },
           "bgcolor": "#E5ECF6",
           "radialaxis": {
            "gridcolor": "white",
            "linecolor": "white",
            "ticks": ""
           }
          },
          "scene": {
           "xaxis": {
            "backgroundcolor": "#E5ECF6",
            "gridcolor": "white",
            "gridwidth": 2,
            "linecolor": "white",
            "showbackground": true,
            "ticks": "",
            "zerolinecolor": "white"
           },
           "yaxis": {
            "backgroundcolor": "#E5ECF6",
            "gridcolor": "white",
            "gridwidth": 2,
            "linecolor": "white",
            "showbackground": true,
            "ticks": "",
            "zerolinecolor": "white"
           },
           "zaxis": {
            "backgroundcolor": "#E5ECF6",
            "gridcolor": "white",
            "gridwidth": 2,
            "linecolor": "white",
            "showbackground": true,
            "ticks": "",
            "zerolinecolor": "white"
           }
          },
          "shapedefaults": {
           "line": {
            "color": "#2a3f5f"
           }
          },
          "ternary": {
           "aaxis": {
            "gridcolor": "white",
            "linecolor": "white",
            "ticks": ""
           },
           "baxis": {
            "gridcolor": "white",
            "linecolor": "white",
            "ticks": ""
           },
           "bgcolor": "#E5ECF6",
           "caxis": {
            "gridcolor": "white",
            "linecolor": "white",
            "ticks": ""
           }
          },
          "title": {
           "x": 0.05
          },
          "xaxis": {
           "automargin": true,
           "gridcolor": "white",
           "linecolor": "white",
           "ticks": "",
           "title": {
            "standoff": 15
           },
           "zerolinecolor": "white",
           "zerolinewidth": 2
          },
          "yaxis": {
           "automargin": true,
           "gridcolor": "white",
           "linecolor": "white",
           "ticks": "",
           "title": {
            "standoff": 15
           },
           "zerolinecolor": "white",
           "zerolinewidth": 2
          }
         }
        },
        "title": {
         "text": "GridSearchCV for n_estimators"
        },
        "yaxis": {
         "title": {
          "text": "Score"
         }
        }
       }
      },
      "text/html": "<div>                            <div id=\"a49f0e65-c676-4e07-802c-8adecaba4f09\" class=\"plotly-graph-div\" style=\"height:525px; width:100%;\"></div>            <script type=\"text/javascript\">                require([\"plotly\"], function(Plotly) {                    window.PLOTLYENV=window.PLOTLYENV || {};                                    if (document.getElementById(\"a49f0e65-c676-4e07-802c-8adecaba4f09\")) {                    Plotly.newPlot(                        \"a49f0e65-c676-4e07-802c-8adecaba4f09\",                        [{\"line\": {\"color\": \"rgb(31, 119, 180)\"}, \"mode\": \"lines\", \"name\": \"test_auc\", \"type\": \"scatter\", \"x\": [0, 50, 100, 150, 200], \"y\": [null, 0.9946633825944171, 0.9919266557197591, 0.9919266557197591, 0.9954844006568145]}, {\"line\": {\"width\": 0}, \"marker\": {\"color\": \"#444\"}, \"mode\": \"lines\", \"showlegend\": false, \"type\": \"scatter\", \"x\": [0, 50, 100, 150, 200], \"y\": [null, 1.0016380103652844, 0.9977546632290768, 0.9981643521182493, 1.0018704224901906]}, {\"fill\": \"tonexty\", \"fillcolor\": \"rgba(68, 68, 68, 0.3)\", \"line\": {\"width\": 0}, \"marker\": {\"color\": \"#444\"}, \"mode\": \"lines\", \"showlegend\": false, \"type\": \"scatter\", \"x\": [0, 50, 100, 150, 200], \"y\": [null, 0.9876887548235497, 0.9860986482104415, 0.985688959321269, 0.9890983788234385]}],                        {\"hovermode\": \"x\", \"template\": {\"data\": {\"bar\": [{\"error_x\": {\"color\": \"#2a3f5f\"}, \"error_y\": {\"color\": \"#2a3f5f\"}, \"marker\": {\"line\": {\"color\": \"#E5ECF6\", \"width\": 0.5}}, \"type\": \"bar\"}], \"barpolar\": [{\"marker\": {\"line\": {\"color\": \"#E5ECF6\", \"width\": 0.5}}, \"type\": \"barpolar\"}], \"carpet\": [{\"aaxis\": {\"endlinecolor\": \"#2a3f5f\", \"gridcolor\": \"white\", \"linecolor\": \"white\", \"minorgridcolor\": \"white\", \"startlinecolor\": \"#2a3f5f\"}, \"baxis\": {\"endlinecolor\": \"#2a3f5f\", \"gridcolor\": \"white\", \"linecolor\": \"white\", \"minorgridcolor\": \"white\", \"startlinecolor\": \"#2a3f5f\"}, \"type\": \"carpet\"}], \"choropleth\": [{\"colorbar\": {\"outlinewidth\": 0, \"ticks\": \"\"}, \"type\": \"choropleth\"}], \"contour\": [{\"colorbar\": {\"outlinewidth\": 0, \"ticks\": \"\"}, \"colorscale\": [[0.0, \"#0d0887\"], [0.1111111111111111, \"#46039f\"], [0.2222222222222222, \"#7201a8\"], [0.3333333333333333, \"#9c179e\"], [0.4444444444444444, \"#bd3786\"], [0.5555555555555556, \"#d8576b\"], [0.6666666666666666, \"#ed7953\"], [0.7777777777777778, \"#fb9f3a\"], [0.8888888888888888, \"#fdca26\"], [1.0, \"#f0f921\"]], \"type\": \"contour\"}], \"contourcarpet\": [{\"colorbar\": {\"outlinewidth\": 0, \"ticks\": \"\"}, \"type\": \"contourcarpet\"}], \"heatmap\": [{\"colorbar\": {\"outlinewidth\": 0, \"ticks\": \"\"}, \"colorscale\": [[0.0, \"#0d0887\"], [0.1111111111111111, \"#46039f\"], [0.2222222222222222, \"#7201a8\"], [0.3333333333333333, \"#9c179e\"], [0.4444444444444444, \"#bd3786\"], [0.5555555555555556, \"#d8576b\"], [0.6666666666666666, \"#ed7953\"], [0.7777777777777778, \"#fb9f3a\"], [0.8888888888888888, \"#fdca26\"], [1.0, \"#f0f921\"]], \"type\": \"heatmap\"}], \"heatmapgl\": [{\"colorbar\": {\"outlinewidth\": 0, \"ticks\": \"\"}, \"colorscale\": [[0.0, \"#0d0887\"], [0.1111111111111111, \"#46039f\"], [0.2222222222222222, \"#7201a8\"], [0.3333333333333333, \"#9c179e\"], [0.4444444444444444, \"#bd3786\"], [0.5555555555555556, \"#d8576b\"], [0.6666666666666666, \"#ed7953\"], [0.7777777777777778, \"#fb9f3a\"], [0.8888888888888888, \"#fdca26\"], [1.0, \"#f0f921\"]], \"type\": \"heatmapgl\"}], \"histogram\": [{\"marker\": {\"colorbar\": {\"outlinewidth\": 0, \"ticks\": \"\"}}, \"type\": \"histogram\"}], \"histogram2d\": [{\"colorbar\": {\"outlinewidth\": 0, \"ticks\": \"\"}, \"colorscale\": [[0.0, \"#0d0887\"], [0.1111111111111111, \"#46039f\"], [0.2222222222222222, \"#7201a8\"], [0.3333333333333333, \"#9c179e\"], [0.4444444444444444, \"#bd3786\"], [0.5555555555555556, \"#d8576b\"], [0.6666666666666666, \"#ed7953\"], [0.7777777777777778, \"#fb9f3a\"], [0.8888888888888888, \"#fdca26\"], [1.0, \"#f0f921\"]], \"type\": \"histogram2d\"}], \"histogram2dcontour\": [{\"colorbar\": {\"outlinewidth\": 0, \"ticks\": \"\"}, \"colorscale\": [[0.0, \"#0d0887\"], [0.1111111111111111, \"#46039f\"], [0.2222222222222222, \"#7201a8\"], [0.3333333333333333, \"#9c179e\"], [0.4444444444444444, \"#bd3786\"], [0.5555555555555556, \"#d8576b\"], [0.6666666666666666, \"#ed7953\"], [0.7777777777777778, \"#fb9f3a\"], [0.8888888888888888, \"#fdca26\"], [1.0, \"#f0f921\"]], \"type\": \"histogram2dcontour\"}], \"mesh3d\": [{\"colorbar\": {\"outlinewidth\": 0, \"ticks\": \"\"}, \"type\": \"mesh3d\"}], \"parcoords\": [{\"line\": {\"colorbar\": {\"outlinewidth\": 0, \"ticks\": \"\"}}, \"type\": \"parcoords\"}], \"pie\": [{\"automargin\": true, \"type\": \"pie\"}], \"scatter\": [{\"marker\": {\"colorbar\": {\"outlinewidth\": 0, \"ticks\": \"\"}}, \"type\": \"scatter\"}], \"scatter3d\": [{\"line\": {\"colorbar\": {\"outlinewidth\": 0, \"ticks\": \"\"}}, \"marker\": {\"colorbar\": {\"outlinewidth\": 0, \"ticks\": \"\"}}, \"type\": \"scatter3d\"}], \"scattercarpet\": [{\"marker\": {\"colorbar\": {\"outlinewidth\": 0, \"ticks\": \"\"}}, \"type\": \"scattercarpet\"}], \"scattergeo\": [{\"marker\": {\"colorbar\": {\"outlinewidth\": 0, \"ticks\": \"\"}}, \"type\": \"scattergeo\"}], \"scattergl\": [{\"marker\": {\"colorbar\": {\"outlinewidth\": 0, \"ticks\": \"\"}}, \"type\": \"scattergl\"}], \"scattermapbox\": [{\"marker\": {\"colorbar\": {\"outlinewidth\": 0, \"ticks\": \"\"}}, \"type\": \"scattermapbox\"}], \"scatterpolar\": [{\"marker\": {\"colorbar\": {\"outlinewidth\": 0, \"ticks\": \"\"}}, \"type\": \"scatterpolar\"}], \"scatterpolargl\": [{\"marker\": {\"colorbar\": {\"outlinewidth\": 0, \"ticks\": \"\"}}, \"type\": \"scatterpolargl\"}], \"scatterternary\": [{\"marker\": {\"colorbar\": {\"outlinewidth\": 0, \"ticks\": \"\"}}, \"type\": \"scatterternary\"}], \"surface\": [{\"colorbar\": {\"outlinewidth\": 0, \"ticks\": \"\"}, \"colorscale\": [[0.0, \"#0d0887\"], [0.1111111111111111, \"#46039f\"], [0.2222222222222222, \"#7201a8\"], [0.3333333333333333, \"#9c179e\"], [0.4444444444444444, \"#bd3786\"], [0.5555555555555556, \"#d8576b\"], [0.6666666666666666, \"#ed7953\"], [0.7777777777777778, \"#fb9f3a\"], [0.8888888888888888, \"#fdca26\"], [1.0, \"#f0f921\"]], \"type\": \"surface\"}], \"table\": [{\"cells\": {\"fill\": {\"color\": \"#EBF0F8\"}, \"line\": {\"color\": \"white\"}}, \"header\": {\"fill\": {\"color\": \"#C8D4E3\"}, \"line\": {\"color\": \"white\"}}, \"type\": \"table\"}]}, \"layout\": {\"annotationdefaults\": {\"arrowcolor\": \"#2a3f5f\", \"arrowhead\": 0, \"arrowwidth\": 1}, \"autotypenumbers\": \"strict\", \"coloraxis\": {\"colorbar\": {\"outlinewidth\": 0, \"ticks\": \"\"}}, \"colorscale\": {\"diverging\": [[0, \"#8e0152\"], [0.1, \"#c51b7d\"], [0.2, \"#de77ae\"], [0.3, \"#f1b6da\"], [0.4, \"#fde0ef\"], [0.5, \"#f7f7f7\"], [0.6, \"#e6f5d0\"], [0.7, \"#b8e186\"], [0.8, \"#7fbc41\"], [0.9, \"#4d9221\"], [1, \"#276419\"]], \"sequential\": [[0.0, \"#0d0887\"], [0.1111111111111111, \"#46039f\"], [0.2222222222222222, \"#7201a8\"], [0.3333333333333333, \"#9c179e\"], [0.4444444444444444, \"#bd3786\"], [0.5555555555555556, \"#d8576b\"], [0.6666666666666666, \"#ed7953\"], [0.7777777777777778, \"#fb9f3a\"], [0.8888888888888888, \"#fdca26\"], [1.0, \"#f0f921\"]], \"sequentialminus\": [[0.0, \"#0d0887\"], [0.1111111111111111, \"#46039f\"], [0.2222222222222222, \"#7201a8\"], [0.3333333333333333, \"#9c179e\"], [0.4444444444444444, \"#bd3786\"], [0.5555555555555556, \"#d8576b\"], [0.6666666666666666, \"#ed7953\"], [0.7777777777777778, \"#fb9f3a\"], [0.8888888888888888, \"#fdca26\"], [1.0, \"#f0f921\"]]}, \"colorway\": [\"#636efa\", \"#EF553B\", \"#00cc96\", \"#ab63fa\", \"#FFA15A\", \"#19d3f3\", \"#FF6692\", \"#B6E880\", \"#FF97FF\", \"#FECB52\"], \"font\": {\"color\": \"#2a3f5f\"}, \"geo\": {\"bgcolor\": \"white\", \"lakecolor\": \"white\", \"landcolor\": \"#E5ECF6\", \"showlakes\": true, \"showland\": true, \"subunitcolor\": \"white\"}, \"hoverlabel\": {\"align\": \"left\"}, \"hovermode\": \"closest\", \"mapbox\": {\"style\": \"light\"}, \"paper_bgcolor\": \"white\", \"plot_bgcolor\": \"#E5ECF6\", \"polar\": {\"angularaxis\": {\"gridcolor\": \"white\", \"linecolor\": \"white\", \"ticks\": \"\"}, \"bgcolor\": \"#E5ECF6\", \"radialaxis\": {\"gridcolor\": \"white\", \"linecolor\": \"white\", \"ticks\": \"\"}}, \"scene\": {\"xaxis\": {\"backgroundcolor\": \"#E5ECF6\", \"gridcolor\": \"white\", \"gridwidth\": 2, \"linecolor\": \"white\", \"showbackground\": true, \"ticks\": \"\", \"zerolinecolor\": \"white\"}, \"yaxis\": {\"backgroundcolor\": \"#E5ECF6\", \"gridcolor\": \"white\", \"gridwidth\": 2, \"linecolor\": \"white\", \"showbackground\": true, \"ticks\": \"\", \"zerolinecolor\": \"white\"}, \"zaxis\": {\"backgroundcolor\": \"#E5ECF6\", \"gridcolor\": \"white\", \"gridwidth\": 2, \"linecolor\": \"white\", \"showbackground\": true, \"ticks\": \"\", \"zerolinecolor\": \"white\"}}, \"shapedefaults\": {\"line\": {\"color\": \"#2a3f5f\"}}, \"ternary\": {\"aaxis\": {\"gridcolor\": \"white\", \"linecolor\": \"white\", \"ticks\": \"\"}, \"baxis\": {\"gridcolor\": \"white\", \"linecolor\": \"white\", \"ticks\": \"\"}, \"bgcolor\": \"#E5ECF6\", \"caxis\": {\"gridcolor\": \"white\", \"linecolor\": \"white\", \"ticks\": \"\"}}, \"title\": {\"x\": 0.05}, \"xaxis\": {\"automargin\": true, \"gridcolor\": \"white\", \"linecolor\": \"white\", \"ticks\": \"\", \"title\": {\"standoff\": 15}, \"zerolinecolor\": \"white\", \"zerolinewidth\": 2}, \"yaxis\": {\"automargin\": true, \"gridcolor\": \"white\", \"linecolor\": \"white\", \"ticks\": \"\", \"title\": {\"standoff\": 15}, \"zerolinecolor\": \"white\", \"zerolinewidth\": 2}}}, \"title\": {\"text\": \"GridSearchCV for n_estimators\"}, \"yaxis\": {\"title\": {\"text\": \"Score\"}}},                        {\"responsive\": true}                    ).then(function(){\n                            \nvar gd = document.getElementById('a49f0e65-c676-4e07-802c-8adecaba4f09');\nvar x = new MutationObserver(function (mutations, observer) {{\n        var display = window.getComputedStyle(gd).display;\n        if (!display || display === 'none') {{\n            console.log([gd, 'removed!']);\n            Plotly.purge(gd);\n            observer.disconnect();\n        }}\n}});\n\n// Listen for the removal of the full notebook cells\nvar notebookContainer = gd.closest('#notebook-container');\nif (notebookContainer) {{\n    x.observe(notebookContainer, {childList: true});\n}}\n\n// Listen for the clearing of the current output cell\nvar outputEl = gd.closest('.output');\nif (outputEl) {{\n    x.observe(outputEl, {childList: true});\n}}\n\n                        })                };                });            </script>        </div>"
     },
     "metadata": {}
    }
   ],
   "source": [
    "fig = go.Figure([\n",
    "    go.Scatter(\n",
    "        name='test_auc',\n",
    "        x=gs_ada_df['n_estimators'],\n",
    "        y=gs_ada_df['mean_test_AUC'],\n",
    "        mode='lines',\n",
    "        line=dict(color='rgb(31, 119, 180)'),\n",
    "    ),\n",
    "    go.Scatter(\n",
    "        x=gs_ada_df['n_estimators'],\n",
    "        y=gs_ada_df['mean_test_AUC']+gs_ada_df['std_test_AUC'],\n",
    "        mode='lines',\n",
    "        marker=dict(color=\"#444\"),\n",
    "        line=dict(width=0),\n",
    "        showlegend=False\n",
    "    ),\n",
    "    go.Scatter(\n",
    "        x=gs_ada_df['n_estimators'],\n",
    "        y=gs_ada_df['mean_test_AUC']-gs_ada_df['std_test_AUC'],\n",
    "        marker=dict(color=\"#444\"),\n",
    "        line=dict(width=0),\n",
    "        mode='lines',\n",
    "        fillcolor='rgba(68, 68, 68, 0.3)',\n",
    "        fill='tonexty',\n",
    "        showlegend=False\n",
    "    )\n",
    "])\n",
    "fig.update_layout(\n",
    "    yaxis_title='Score',\n",
    "    title='GridSearchCV for n_estimators',\n",
    "    hovermode=\"x\"\n",
    ")\n",
    "fig.show()"
   ]
  },
  {
   "cell_type": "code",
   "execution_count": 20,
   "metadata": {},
   "outputs": [
    {
     "output_type": "stream",
     "name": "stdout",
     "text": [
      "Accuracy for optimized ada: 0.717391304347826\nROC AUC for optimized ada: 0.6136363636363635\n"
     ]
    }
   ],
   "source": [
    "# DecisionTreeClassifier\n",
    "\n",
    "scoring = {'AUC': 'roc_auc', 'Accuracy': make_scorer(accuracy_score), 'Precision': make_scorer(precision_score), 'Recall': make_scorer(recall_score)}\n",
    "\n",
    "param_grid = {\n",
    "    'max_depth': [None, 2, 4, 6, 8],\n",
    "    'min_samples_split': [2, 10, 25, 50],\n",
    "    'max_features': [None, 'log2', 'sqrt']\n",
    "}\n",
    "\n",
    "dtc = DecisionTreeClassifier(random_state=42)\n",
    "\n",
    "gs_dtc = GridSearchCV(estimator=dtc, \n",
    "                      param_grid=param_grid,\n",
    "                      scoring=scoring,\n",
    "                      refit='AUC',\n",
    "                      return_train_score=True,\n",
    "                      cv=3)\n",
    "gs_dtc.fit(X_train, y_train)\n",
    "y_pred = gs_dtc.predict(X_test)\n",
    "\n",
    "print('Accuracy for optimized ada: {}'.format(accuracy_score(y_test, y_pred)))\n",
    "#print('F1 score for optimized ada: {}'.format(f1_score(y_test, y_pred)))\n",
    "print('ROC AUC for optimized ada: {}'.format(roc_auc_score(y_test, y_pred)))"
   ]
  },
  {
   "cell_type": "code",
   "execution_count": 21,
   "metadata": {},
   "outputs": [],
   "source": [
    "def xgb_classifier(n_estimators, max_depth, reg_alpha,\n",
    "                   reg_lambda, eta, subsample, colsample_bytree,\n",
    "                   gamma):\n",
    "    params = {\"booster\": 'gbtree',\n",
    "              \"objective\" : \"binary:logistic\",\n",
    "              \"eval_metric\" : \"auc\", \n",
    "              \"is_unbalance\": True,\n",
    "              \"n_estimators\": int(n_estimators),\n",
    "              \"max_depth\" : int(max_depth),\n",
    "              \"reg_alpha\" : reg_alpha,\n",
    "              \"reg_lambda\" : reg_lambda,\n",
    "              \"gamma\": gamma,\n",
    "              \"num_threads\" : 20,\n",
    "              \"subsample\" : subsample,\n",
    "              \"learning_rate\" : 0.01,\n",
    "              \"subsample_freq\" : 5,\n",
    "              \"seed\" : 42,\n",
    "              \"verbosity\" : 0,\n",
    "              \"colsmaple_bytree\": colsample_bytree}\n",
    "    train_data = xgboost.DMatrix(X_train, y_train)\n",
    "    cv_result = xgboost.cv(params,\n",
    "                       train_data,\n",
    "                       1000,\n",
    "                       early_stopping_rounds=100,\n",
    "                       stratified=True,\n",
    "                       nfold=3)\n",
    "    return cv_result['test-auc-mean'].iloc[-1]"
   ]
  },
  {
   "cell_type": "code",
   "execution_count": 22,
   "metadata": {},
   "outputs": [
    {
     "output_type": "stream",
     "name": "stdout",
     "text": [
      "|   iter    |  target   | colsam... |    eta    |   gamma   | max_depth | n_esti... | reg_alpha | reg_la... | subsample |\n",
      "-------------------------------------------------------------------------------------------------------------------------\n",
      "| \u001b[0m 1       \u001b[0m | \u001b[0m 0.9665  \u001b[0m | \u001b[0m 0.5638  \u001b[0m | \u001b[0m 0.6463  \u001b[0m | \u001b[0m 8.344   \u001b[0m | \u001b[0m 14.55   \u001b[0m | \u001b[0m 88.39   \u001b[0m | \u001b[0m 0.9797  \u001b[0m | \u001b[0m 0.4085  \u001b[0m | \u001b[0m 0.6138  \u001b[0m |\n",
      "| \u001b[0m 2       \u001b[0m | \u001b[0m 0.9585  \u001b[0m | \u001b[0m 0.1884  \u001b[0m | \u001b[0m 0.3584  \u001b[0m | \u001b[0m 7.901   \u001b[0m | \u001b[0m 5.775   \u001b[0m | \u001b[0m 83.22   \u001b[0m | \u001b[0m 0.9749  \u001b[0m | \u001b[0m 0.9877  \u001b[0m | \u001b[0m 0.7194  \u001b[0m |\n",
      "| \u001b[95m 3       \u001b[0m | \u001b[95m 0.983   \u001b[0m | \u001b[95m 0.6432  \u001b[0m | \u001b[95m 0.4132  \u001b[0m | \u001b[95m 3.738   \u001b[0m | \u001b[95m 32.59   \u001b[0m | \u001b[95m 17.84   \u001b[0m | \u001b[95m 0.7745  \u001b[0m | \u001b[95m 0.9536  \u001b[0m | \u001b[95m 0.968   \u001b[0m |\n",
      "| \u001b[95m 4       \u001b[0m | \u001b[95m 0.9847  \u001b[0m | \u001b[95m 0.4391  \u001b[0m | \u001b[95m 0.7482  \u001b[0m | \u001b[95m 3.675   \u001b[0m | \u001b[95m 33.37   \u001b[0m | \u001b[95m 17.39   \u001b[0m | \u001b[95m 0.2637  \u001b[0m | \u001b[95m 0.6244  \u001b[0m | \u001b[95m 0.9807  \u001b[0m |\n",
      "| \u001b[0m 5       \u001b[0m | \u001b[0m 0.9787  \u001b[0m | \u001b[0m 0.0     \u001b[0m | \u001b[0m 1.0     \u001b[0m | \u001b[0m 10.0    \u001b[0m | \u001b[0m 40.0    \u001b[0m | \u001b[0m 10.0    \u001b[0m | \u001b[0m 0.0     \u001b[0m | \u001b[0m 0.0     \u001b[0m | \u001b[0m 1.0     \u001b[0m |\n",
      "| \u001b[0m 6       \u001b[0m | \u001b[0m 0.0     \u001b[0m | \u001b[0m 0.0     \u001b[0m | \u001b[0m 1.0     \u001b[0m | \u001b[0m 0.0     \u001b[0m | \u001b[0m 40.0    \u001b[0m | \u001b[0m 24.59   \u001b[0m | \u001b[0m 0.0     \u001b[0m | \u001b[0m 0.0     \u001b[0m | \u001b[0m 0.0     \u001b[0m |\n",
      "| \u001b[0m 7       \u001b[0m | \u001b[0m 0.9819  \u001b[0m | \u001b[0m 0.0     \u001b[0m | \u001b[0m 1.0     \u001b[0m | \u001b[0m 7.432   \u001b[0m | \u001b[0m 28.44   \u001b[0m | \u001b[0m 10.0    \u001b[0m | \u001b[0m 0.0     \u001b[0m | \u001b[0m 0.0     \u001b[0m | \u001b[0m 1.0     \u001b[0m |\n",
      "| \u001b[0m 8       \u001b[0m | \u001b[0m 0.9762  \u001b[0m | \u001b[0m 0.9576  \u001b[0m | \u001b[0m 0.6148  \u001b[0m | \u001b[0m 9.799   \u001b[0m | \u001b[0m 3.85    \u001b[0m | \u001b[0m 97.06   \u001b[0m | \u001b[0m 0.9824  \u001b[0m | \u001b[0m 0.04816 \u001b[0m | \u001b[0m 0.9527  \u001b[0m |\n",
      "| \u001b[0m 9       \u001b[0m | \u001b[0m 0.5     \u001b[0m | \u001b[0m 0.0     \u001b[0m | \u001b[0m 0.0     \u001b[0m | \u001b[0m 0.0     \u001b[0m | \u001b[0m 12.0    \u001b[0m | \u001b[0m 98.71   \u001b[0m | \u001b[0m 0.0     \u001b[0m | \u001b[0m 1.0     \u001b[0m | \u001b[0m 0.0     \u001b[0m |\n",
      "| \u001b[95m 10      \u001b[0m | \u001b[95m 0.9874  \u001b[0m | \u001b[95m 0.0     \u001b[0m | \u001b[95m 1.0     \u001b[0m | \u001b[95m 0.0     \u001b[0m | \u001b[95m 22.69   \u001b[0m | \u001b[95m 14.64   \u001b[0m | \u001b[95m 0.0     \u001b[0m | \u001b[95m 0.0     \u001b[0m | \u001b[95m 1.0     \u001b[0m |\n",
      "| \u001b[95m 11      \u001b[0m | \u001b[95m 0.9874  \u001b[0m | \u001b[95m 1.0     \u001b[0m | \u001b[95m 0.0     \u001b[0m | \u001b[95m 0.0     \u001b[0m | \u001b[95m 32.72   \u001b[0m | \u001b[95m 10.0    \u001b[0m | \u001b[95m 1.0     \u001b[0m | \u001b[95m 1.0     \u001b[0m | \u001b[95m 1.0     \u001b[0m |\n",
      "| \u001b[0m 12      \u001b[0m | \u001b[0m 0.9617  \u001b[0m | \u001b[0m 1.0     \u001b[0m | \u001b[0m 1.0     \u001b[0m | \u001b[0m 10.0    \u001b[0m | \u001b[0m 17.55   \u001b[0m | \u001b[0m 75.97   \u001b[0m | \u001b[0m 1.0     \u001b[0m | \u001b[0m 0.0     \u001b[0m | \u001b[0m 1.0     \u001b[0m |\n",
      "| \u001b[0m 13      \u001b[0m | \u001b[0m 0.9792  \u001b[0m | \u001b[0m 1.0     \u001b[0m | \u001b[0m 1.0     \u001b[0m | \u001b[0m 10.0    \u001b[0m | \u001b[0m 19.53   \u001b[0m | \u001b[0m 20.77   \u001b[0m | \u001b[0m 0.0     \u001b[0m | \u001b[0m 1.0     \u001b[0m | \u001b[0m 1.0     \u001b[0m |\n",
      "| \u001b[0m 14      \u001b[0m | \u001b[0m 0.9669  \u001b[0m | \u001b[0m 1.0     \u001b[0m | \u001b[0m 0.0     \u001b[0m | \u001b[0m 7.353   \u001b[0m | \u001b[0m 11.8    \u001b[0m | \u001b[0m 10.12   \u001b[0m | \u001b[0m 1.0     \u001b[0m | \u001b[0m 1.0     \u001b[0m | \u001b[0m 1.0     \u001b[0m |\n",
      "| \u001b[95m 15      \u001b[0m | \u001b[95m 0.9888  \u001b[0m | \u001b[95m 0.7686  \u001b[0m | \u001b[95m 0.5728  \u001b[0m | \u001b[95m 0.0823  \u001b[0m | \u001b[95m 9.154   \u001b[0m | \u001b[95m 21.48   \u001b[0m | \u001b[95m 0.7687  \u001b[0m | \u001b[95m 0.1891  \u001b[0m | \u001b[95m 0.8565  \u001b[0m |\n",
      "| \u001b[0m 16      \u001b[0m | \u001b[0m 0.9792  \u001b[0m | \u001b[0m 0.0     \u001b[0m | \u001b[0m 0.0     \u001b[0m | \u001b[0m 10.0    \u001b[0m | \u001b[0m 7.533   \u001b[0m | \u001b[0m 28.4    \u001b[0m | \u001b[0m 0.0     \u001b[0m | \u001b[0m 1.0     \u001b[0m | \u001b[0m 1.0     \u001b[0m |\n",
      "| \u001b[0m 17      \u001b[0m | \u001b[0m 0.0     \u001b[0m | \u001b[0m 0.0     \u001b[0m | \u001b[0m 1.0     \u001b[0m | \u001b[0m 10.0    \u001b[0m | \u001b[0m 2.0     \u001b[0m | \u001b[0m 17.49   \u001b[0m | \u001b[0m 1.0     \u001b[0m | \u001b[0m 0.0     \u001b[0m | \u001b[0m 0.0     \u001b[0m |\n",
      "| \u001b[0m 18      \u001b[0m | \u001b[0m 0.9863  \u001b[0m | \u001b[0m 0.5239  \u001b[0m | \u001b[0m 0.0     \u001b[0m | \u001b[0m 3.22    \u001b[0m | \u001b[0m 15.24   \u001b[0m | \u001b[0m 28.43   \u001b[0m | \u001b[0m 0.0     \u001b[0m | \u001b[0m 1.0     \u001b[0m | \u001b[0m 1.0     \u001b[0m |\n",
      "| \u001b[0m 19      \u001b[0m | \u001b[0m 0.9871  \u001b[0m | \u001b[0m 0.3012  \u001b[0m | \u001b[0m 0.1581  \u001b[0m | \u001b[0m 0.4662  \u001b[0m | \u001b[0m 6.463   \u001b[0m | \u001b[0m 34.2    \u001b[0m | \u001b[0m 0.06739 \u001b[0m | \u001b[0m 0.2024  \u001b[0m | \u001b[0m 0.947   \u001b[0m |\n",
      "| \u001b[0m 20      \u001b[0m | \u001b[0m 0.9792  \u001b[0m | \u001b[0m 0.8614  \u001b[0m | \u001b[0m 0.0     \u001b[0m | \u001b[0m 10.0    \u001b[0m | \u001b[0m 11.79   \u001b[0m | \u001b[0m 37.62   \u001b[0m | \u001b[0m 0.0     \u001b[0m | \u001b[0m 1.0     \u001b[0m | \u001b[0m 1.0     \u001b[0m |\n",
      "| \u001b[0m 21      \u001b[0m | \u001b[0m 0.5     \u001b[0m | \u001b[0m 0.3484  \u001b[0m | \u001b[0m 0.2849  \u001b[0m | \u001b[0m 8.474   \u001b[0m | \u001b[0m 2.138   \u001b[0m | \u001b[0m 44.14   \u001b[0m | \u001b[0m 0.06869 \u001b[0m | \u001b[0m 0.2625  \u001b[0m | \u001b[0m 0.02635 \u001b[0m |\n",
      "| \u001b[0m 22      \u001b[0m | \u001b[0m 0.9226  \u001b[0m | \u001b[0m 0.0     \u001b[0m | \u001b[0m 1.0     \u001b[0m | \u001b[0m 10.0    \u001b[0m | \u001b[0m 21.2    \u001b[0m | \u001b[0m 33.31   \u001b[0m | \u001b[0m 1.0     \u001b[0m | \u001b[0m 1.0     \u001b[0m | \u001b[0m 1.0     \u001b[0m |\n",
      "=========================================================================================================================\n"
     ]
    }
   ],
   "source": [
    "xgbBO = BayesianOptimization(f=xgb_classifier, pbounds={\"n_estimators\": (10, 100),\n",
    "                                                'max_depth': (2, 40),\n",
    "                                                'reg_alpha': (0.0, 1.0),\n",
    "                                                'reg_lambda': (0.0, 1.0),\n",
    "                                                'subsample': (0.0, 1.0),\n",
    "                                                'colsample_bytree': (0.0, 1.0),\n",
    "                                                \"gamma\": (0, 10),\n",
    "                                                \"eta\": (0.0, 1.0)\n",
    "                                                })\n",
    "\n",
    "xgbBO.maximize(n_iter=20, init_points=2)"
   ]
  },
  {
   "cell_type": "code",
   "execution_count": 23,
   "metadata": {},
   "outputs": [
    {
     "output_type": "execute_result",
     "data": {
      "text/plain": [
       "{'target': 0.9887796666666667,\n",
       " 'params': {'colsample_bytree': 0.7686291153387972,\n",
       "  'eta': 0.5727806533101856,\n",
       "  'gamma': 0.08229630682380029,\n",
       "  'max_depth': 9.15351941532545,\n",
       "  'n_estimators': 21.475042347352797,\n",
       "  'reg_alpha': 0.7686628238361989,\n",
       "  'reg_lambda': 0.18909822039363633,\n",
       "  'subsample': 0.8564646340988931}}"
      ]
     },
     "metadata": {},
     "execution_count": 23
    }
   ],
   "source": [
    "xgbBO.max"
   ]
  },
  {
   "cell_type": "code",
   "execution_count": 24,
   "metadata": {},
   "outputs": [],
   "source": [
    "train_data = xgboost.DMatrix(X_train, y_train)\n",
    "params = xgbBO.max['params']\n",
    "params['objective'] = 'binary:logistic'\n",
    "params['max_depth'] = 10\n",
    "params['n_estimators'] = 80\n",
    "xgb_opt = xgboost.train(dtrain=train_data,\n",
    "                          params=params,\n",
    "                          #early_stopping_rounds=100,\n",
    "                          num_boost_round=1000)"
   ]
  },
  {
   "cell_type": "code",
   "execution_count": 25,
   "metadata": {},
   "outputs": [
    {
     "output_type": "stream",
     "name": "stdout",
     "text": [
      "ROC AUC for optimized ada: 0.7897727272727272\n"
     ]
    }
   ],
   "source": [
    "y_pred = xgb_opt.predict(xgboost.DMatrix(X_test))\n",
    "\n",
    "#print('Accuracy for optimized ada: {}'.format(accuracy_score(y_test, y_pred)))\n",
    "#print('F1 score for optimized ada: {}'.format(f1_score(y_test, y_pred)))\n",
    "print('ROC AUC for optimized ada: {}'.format(roc_auc_score(y_test, y_pred)))"
   ]
  },
  {
   "cell_type": "code",
   "execution_count": null,
   "metadata": {},
   "outputs": [],
   "source": []
  },
  {
   "cell_type": "code",
   "execution_count": null,
   "metadata": {},
   "outputs": [],
   "source": []
  },
  {
   "cell_type": "code",
   "execution_count": null,
   "metadata": {},
   "outputs": [],
   "source": []
  }
 ]
}